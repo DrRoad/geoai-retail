{
 "cells": [
  {
   "cell_type": "code",
   "execution_count": 3,
   "metadata": {},
   "outputs": [],
   "source": [
    "from PIL import Image\n",
    "import os"
   ]
  },
  {
   "cell_type": "code",
   "execution_count": 5,
   "metadata": {},
   "outputs": [
    {
     "data": {
      "text/plain": [
       "['00_background_slide.emf',\n",
       " '01_location.emf',\n",
       " '02a_buffer_competition.emf',\n",
       " '02_buffer.emf',\n",
       " '03a_drive_time_competition.emf',\n",
       " '03_drive_time.emf',\n",
       " '04a_inferred_blocks_competition.emf',\n",
       " '04_inferred_blocks.emf',\n",
       " '05a_blocks_existing_coffee.emf',\n",
       " '05_blocks.emf',\n",
       " '06a_example_block_closest.emf',\n",
       " '06b_prospective_location_closest.emf',\n",
       " '06_example_block.emf']"
      ]
     },
     "execution_count": 5,
     "metadata": {},
     "output_type": "execute_result"
    }
   ],
   "source": [
    "emf_lst = [f for f in os.listdir('.') if f.endswith('.emf')]\n",
    "emf_lst"
   ]
  },
  {
   "cell_type": "code",
   "execution_count": 7,
   "metadata": {},
   "outputs": [],
   "source": [
    "for file in emf_lst:\n",
    "    root = file.split('.')[0]\n",
    "    Image.open(file).save(f'{root}.png')"
   ]
  },
  {
   "cell_type": "code",
   "execution_count": null,
   "metadata": {},
   "outputs": [],
   "source": []
  }
 ],
 "metadata": {
  "kernelspec": {
   "display_name": "Python 3",
   "language": "python",
   "name": "python3"
  },
  "language_info": {
   "codemirror_mode": {
    "name": "ipython",
    "version": 3
   },
   "file_extension": ".py",
   "mimetype": "text/x-python",
   "name": "python",
   "nbconvert_exporter": "python",
   "pygments_lexer": "ipython3",
   "version": "3.6.8"
  }
 },
 "nbformat": 4,
 "nbformat_minor": 2
}
