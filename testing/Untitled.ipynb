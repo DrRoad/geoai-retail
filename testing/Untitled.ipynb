{
 "cells": [
  {
   "cell_type": "code",
   "execution_count": 64,
   "metadata": {},
   "outputs": [],
   "source": [
    "from pathlib import Path\n",
    "\n",
    "import arcpy\n",
    "from arcgis import GeoAccessor\n",
    "\n",
    "from ba_tools import data"
   ]
  },
  {
   "cell_type": "code",
   "execution_count": 66,
   "metadata": {},
   "outputs": [],
   "source": [
    "pth_here = Path('./')"
   ]
  },
  {
   "cell_type": "code",
   "execution_count": 68,
   "metadata": {},
   "outputs": [
    {
     "data": {
      "text/plain": [
       "WindowsPath('D:/projects/geoai-retail/testing')"
      ]
     },
     "execution_count": 68,
     "metadata": {},
     "output_type": "execute_result"
    }
   ],
   "source": [
    "pth_here.absolute()"
   ]
  },
  {
   "cell_type": "code",
   "execution_count": 57,
   "metadata": {},
   "outputs": [],
   "source": [
    "denver_sql = \"NAME = 'Denver-Aurora-Lakewood, CO Metropolitan Statistical Area'\"\n",
    "cbsa_lyr = data.layer_cbsa\n",
    "cbsa_lyr.definitionQuery = denver_sql\n",
    "\n",
    "bg_lyr = data.layer_block_group\n",
    "arcpy.management.SelectLayerByLocation(bg_lyr, 'HAVE_THEIR_CENTER_IN', cbsa_lyr)[0]\n",
    "denver_bg_fc = arcpy.management.CopyFeatures(bg_lyr, 'memory/denver_bg')[0]\n",
    "arcpy.management.MakeFeatureLayer(denver_bg_fc)[0]"
   ]
  },
  {
   "cell_type": "code",
   "execution_count": null,
   "metadata": {},
   "outputs": [],
   "source": [
    "assert 1795 == int(arcpy.management.GetCount(denver_bg_fc)[0])"
   ]
  }
 ],
 "metadata": {
  "kernelspec": {
   "display_name": "Python 3",
   "language": "python",
   "name": "python3"
  },
  "language_info": {
   "codemirror_mode": {
    "name": "ipython",
    "version": 3
   },
   "file_extension": ".py",
   "mimetype": "text/x-python",
   "name": "python",
   "nbconvert_exporter": "python",
   "pygments_lexer": "ipython3",
   "version": "3.6.8"
  }
 },
 "nbformat": 4,
 "nbformat_minor": 2
}
