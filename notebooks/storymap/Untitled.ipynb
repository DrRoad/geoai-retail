{
 "cells": [
  {
   "cell_type": "code",
   "execution_count": 1,
   "metadata": {},
   "outputs": [],
   "source": [
    "from arcgis import GeoAccessor\n",
    "import pandas as pd"
   ]
  },
  {
   "cell_type": "code",
   "execution_count": 91,
   "metadata": {},
   "outputs": [],
   "source": [
    "full_training_csv = '../../data/raw/agol_resources/full_training_data.csv'\n",
    "trips_csv = '../../data/raw/agol_resources/trips_od.csv'\n",
    "blocks_fc = '../../data/raw/raw.gdb/blocks'"
   ]
  },
  {
   "cell_type": "code",
   "execution_count": 113,
   "metadata": {},
   "outputs": [
    {
     "name": "stdout",
     "output_type": "stream",
     "text": [
      "mean:2.572486140855062\n",
      "median:1.0\n"
     ]
    },
    {
     "data": {
      "text/html": [
       "<div>\n",
       "<style scoped>\n",
       "    .dataframe tbody tr th:only-of-type {\n",
       "        vertical-align: middle;\n",
       "    }\n",
       "\n",
       "    .dataframe tbody tr th {\n",
       "        vertical-align: top;\n",
       "    }\n",
       "\n",
       "    .dataframe thead th {\n",
       "        text-align: right;\n",
       "    }\n",
       "</style>\n",
       "<table border=\"1\" class=\"dataframe\">\n",
       "  <thead>\n",
       "    <tr style=\"text-align: right;\">\n",
       "      <th></th>\n",
       "      <th>origin_id</th>\n",
       "      <th>destination_id</th>\n",
       "      <th>trip_count</th>\n",
       "    </tr>\n",
       "  </thead>\n",
       "  <tbody>\n",
       "    <tr>\n",
       "      <th>0</th>\n",
       "      <td>410050201001002</td>\n",
       "      <td>421983243</td>\n",
       "      <td>1</td>\n",
       "    </tr>\n",
       "    <tr>\n",
       "      <th>1</th>\n",
       "      <td>410050201001002</td>\n",
       "      <td>520835364</td>\n",
       "      <td>3</td>\n",
       "    </tr>\n",
       "    <tr>\n",
       "      <th>2</th>\n",
       "      <td>410050201001002</td>\n",
       "      <td>585558430</td>\n",
       "      <td>1</td>\n",
       "    </tr>\n",
       "    <tr>\n",
       "      <th>3</th>\n",
       "      <td>410050201001002</td>\n",
       "      <td>637497553</td>\n",
       "      <td>1</td>\n",
       "    </tr>\n",
       "    <tr>\n",
       "      <th>4</th>\n",
       "      <td>410050201001002</td>\n",
       "      <td>721916379</td>\n",
       "      <td>1</td>\n",
       "    </tr>\n",
       "  </tbody>\n",
       "</table>\n",
       "</div>"
      ],
      "text/plain": [
       "         origin_id  destination_id  trip_count\n",
       "0  410050201001002       421983243           1\n",
       "1  410050201001002       520835364           3\n",
       "2  410050201001002       585558430           1\n",
       "3  410050201001002       637497553           1\n",
       "4  410050201001002       721916379           1"
      ]
     },
     "execution_count": 113,
     "metadata": {},
     "output_type": "execute_result"
    }
   ],
   "source": [
    "df_trips = pd.read_csv(trips_csv, usecols=['origin_id', 'destination_id', 'trip_count'])\n",
    "print(f'mean:{df_trips.trip_count.mean()}\\nmedian:{df_trips.trip_count.median()}')\n",
    "df_trips.head()"
   ]
  },
  {
   "cell_type": "code",
   "execution_count": 114,
   "metadata": {},
   "outputs": [
    {
     "name": "stdout",
     "output_type": "stream",
     "text": [
      "1\n"
     ]
    },
    {
     "data": {
      "text/html": [
       "<div>\n",
       "<style scoped>\n",
       "    .dataframe tbody tr th:only-of-type {\n",
       "        vertical-align: middle;\n",
       "    }\n",
       "\n",
       "    .dataframe tbody tr th {\n",
       "        vertical-align: top;\n",
       "    }\n",
       "\n",
       "    .dataframe thead th {\n",
       "        text-align: right;\n",
       "    }\n",
       "</style>\n",
       "<table border=\"1\" class=\"dataframe\">\n",
       "  <thead>\n",
       "    <tr style=\"text-align: right;\">\n",
       "      <th></th>\n",
       "      <th>origin_id</th>\n",
       "      <th>destination_id</th>\n",
       "      <th>trip_count</th>\n",
       "    </tr>\n",
       "  </thead>\n",
       "  <tbody>\n",
       "    <tr>\n",
       "      <th>3176</th>\n",
       "      <td>410050202002000</td>\n",
       "      <td>722716448</td>\n",
       "      <td>1</td>\n",
       "    </tr>\n",
       "    <tr>\n",
       "      <th>3759</th>\n",
       "      <td>410050202003001</td>\n",
       "      <td>722716448</td>\n",
       "      <td>1</td>\n",
       "    </tr>\n",
       "    <tr>\n",
       "      <th>5225</th>\n",
       "      <td>410050202005003</td>\n",
       "      <td>722716448</td>\n",
       "      <td>1</td>\n",
       "    </tr>\n",
       "    <tr>\n",
       "      <th>14845</th>\n",
       "      <td>410050205012021</td>\n",
       "      <td>722716448</td>\n",
       "      <td>1</td>\n",
       "    </tr>\n",
       "    <tr>\n",
       "      <th>15447</th>\n",
       "      <td>410050205013016</td>\n",
       "      <td>722716448</td>\n",
       "      <td>1</td>\n",
       "    </tr>\n",
       "  </tbody>\n",
       "</table>\n",
       "</div>"
      ],
      "text/plain": [
       "             origin_id  destination_id  trip_count\n",
       "3176   410050202002000       722716448           1\n",
       "3759   410050202003001       722716448           1\n",
       "5225   410050202005003       722716448           1\n",
       "14845  410050205012021       722716448           1\n",
       "15447  410050205013016       722716448           1"
      ]
     },
     "execution_count": 114,
     "metadata": {},
     "output_type": "execute_result"
    }
   ],
   "source": [
    "loc_interest_id = 722716448\n",
    "\n",
    "df_loc = df_trips[(df_trips['destination_id'] == loc_interest_id)]\n",
    "\n",
    "print(len(df_loc['destination_id'].unique()))\n",
    "df_loc.head()"
   ]
  },
  {
   "cell_type": "code",
   "execution_count": 115,
   "metadata": {},
   "outputs": [
    {
     "name": "stdout",
     "output_type": "stream",
     "text": [
      "552\n"
     ]
    },
    {
     "data": {
      "text/html": [
       "<div>\n",
       "<style scoped>\n",
       "    .dataframe tbody tr th:only-of-type {\n",
       "        vertical-align: middle;\n",
       "    }\n",
       "\n",
       "    .dataframe tbody tr th {\n",
       "        vertical-align: top;\n",
       "    }\n",
       "\n",
       "    .dataframe thead th {\n",
       "        text-align: right;\n",
       "    }\n",
       "</style>\n",
       "<table border=\"1\" class=\"dataframe\">\n",
       "  <thead>\n",
       "    <tr style=\"text-align: right;\">\n",
       "      <th></th>\n",
       "      <th>origin_id</th>\n",
       "      <th>destination_id</th>\n",
       "      <th>trip_count</th>\n",
       "    </tr>\n",
       "  </thead>\n",
       "  <tbody>\n",
       "    <tr>\n",
       "      <th>3083</th>\n",
       "      <td>410050202002000</td>\n",
       "      <td>211564646</td>\n",
       "      <td>3</td>\n",
       "    </tr>\n",
       "    <tr>\n",
       "      <th>3084</th>\n",
       "      <td>410050202002000</td>\n",
       "      <td>219649035</td>\n",
       "      <td>1</td>\n",
       "    </tr>\n",
       "    <tr>\n",
       "      <th>3085</th>\n",
       "      <td>410050202002000</td>\n",
       "      <td>222081978</td>\n",
       "      <td>3</td>\n",
       "    </tr>\n",
       "    <tr>\n",
       "      <th>3086</th>\n",
       "      <td>410050202002000</td>\n",
       "      <td>227607132</td>\n",
       "      <td>1</td>\n",
       "    </tr>\n",
       "    <tr>\n",
       "      <th>3087</th>\n",
       "      <td>410050202002000</td>\n",
       "      <td>236918645</td>\n",
       "      <td>1</td>\n",
       "    </tr>\n",
       "  </tbody>\n",
       "</table>\n",
       "</div>"
      ],
      "text/plain": [
       "            origin_id  destination_id  trip_count\n",
       "3083  410050202002000       211564646           3\n",
       "3084  410050202002000       219649035           1\n",
       "3085  410050202002000       222081978           3\n",
       "3086  410050202002000       227607132           1\n",
       "3087  410050202002000       236918645           1"
      ]
     },
     "execution_count": 115,
     "metadata": {},
     "output_type": "execute_result"
    }
   ],
   "source": [
    "org_id_lst = df_loc['origin_id'].unique()\n",
    "df_all = df_trips[df_trips['origin_id'].isin(org_id_lst)]\n",
    "\n",
    "print(len(df_all['destination_id'].unique()))\n",
    "df_all.head()"
   ]
  },
  {
   "cell_type": "code",
   "execution_count": 116,
   "metadata": {},
   "outputs": [
    {
     "data": {
      "text/html": [
       "<div>\n",
       "<style scoped>\n",
       "    .dataframe tbody tr th:only-of-type {\n",
       "        vertical-align: middle;\n",
       "    }\n",
       "\n",
       "    .dataframe tbody tr th {\n",
       "        vertical-align: top;\n",
       "    }\n",
       "\n",
       "    .dataframe thead th {\n",
       "        text-align: right;\n",
       "    }\n",
       "</style>\n",
       "<table border=\"1\" class=\"dataframe\">\n",
       "  <thead>\n",
       "    <tr style=\"text-align: right;\">\n",
       "      <th></th>\n",
       "      <th>SHAPE</th>\n",
       "    </tr>\n",
       "    <tr>\n",
       "      <th>GEOID</th>\n",
       "      <th></th>\n",
       "    </tr>\n",
       "  </thead>\n",
       "  <tbody>\n",
       "    <tr>\n",
       "      <th>410050201001000</th>\n",
       "      <td>{\"rings\": [[[-122.65566145899999, 45.426378462...</td>\n",
       "    </tr>\n",
       "    <tr>\n",
       "      <th>410050201001001</th>\n",
       "      <td>{\"rings\": [[[-122.65534145899994, 45.427037462...</td>\n",
       "    </tr>\n",
       "    <tr>\n",
       "      <th>410050201001002</th>\n",
       "      <td>{\"rings\": [[[-122.65548645999996, 45.429533462...</td>\n",
       "    </tr>\n",
       "    <tr>\n",
       "      <th>410050201001003</th>\n",
       "      <td>{\"rings\": [[[-122.65696245999999, 45.428736462...</td>\n",
       "    </tr>\n",
       "    <tr>\n",
       "      <th>410050201001004</th>\n",
       "      <td>{\"rings\": [[[-122.65702845999999, 45.428751462...</td>\n",
       "    </tr>\n",
       "  </tbody>\n",
       "</table>\n",
       "</div>"
      ],
      "text/plain": [
       "                                                             SHAPE\n",
       "GEOID                                                             \n",
       "410050201001000  {\"rings\": [[[-122.65566145899999, 45.426378462...\n",
       "410050201001001  {\"rings\": [[[-122.65534145899994, 45.427037462...\n",
       "410050201001002  {\"rings\": [[[-122.65548645999996, 45.429533462...\n",
       "410050201001003  {\"rings\": [[[-122.65696245999999, 45.428736462...\n",
       "410050201001004  {\"rings\": [[[-122.65702845999999, 45.428751462..."
      ]
     },
     "execution_count": 116,
     "metadata": {},
     "output_type": "execute_result"
    }
   ],
   "source": [
    "blocks_df = GeoAccessor.from_featureclass(blocks_fc)\n",
    "blocks_df = blocks_df[['GEOID', 'SHAPE']].copy()\n",
    "blocks_df.GEOID = blocks_df.GEOID.astype('int64')\n",
    "blocks_df.set_index('GEOID', inplace=True, drop=True)\n",
    "blocks_df.head()"
   ]
  },
  {
   "cell_type": "code",
   "execution_count": 117,
   "metadata": {},
   "outputs": [
    {
     "data": {
      "text/html": [
       "<div>\n",
       "<style scoped>\n",
       "    .dataframe tbody tr th:only-of-type {\n",
       "        vertical-align: middle;\n",
       "    }\n",
       "\n",
       "    .dataframe tbody tr th {\n",
       "        vertical-align: top;\n",
       "    }\n",
       "\n",
       "    .dataframe thead th {\n",
       "        text-align: right;\n",
       "    }\n",
       "</style>\n",
       "<table border=\"1\" class=\"dataframe\">\n",
       "  <thead>\n",
       "    <tr style=\"text-align: right;\">\n",
       "      <th></th>\n",
       "      <th>origin_id</th>\n",
       "      <th>destination_id</th>\n",
       "      <th>trip_count</th>\n",
       "      <th>SHAPE</th>\n",
       "    </tr>\n",
       "  </thead>\n",
       "  <tbody>\n",
       "    <tr>\n",
       "      <th>3083</th>\n",
       "      <td>410050202002000</td>\n",
       "      <td>211564646</td>\n",
       "      <td>3</td>\n",
       "      <td>{'rings': [[[-122.70814246499998, 45.416726456...</td>\n",
       "    </tr>\n",
       "    <tr>\n",
       "      <th>3084</th>\n",
       "      <td>410050202002000</td>\n",
       "      <td>219649035</td>\n",
       "      <td>1</td>\n",
       "      <td>{'rings': [[[-122.70814246499998, 45.416726456...</td>\n",
       "    </tr>\n",
       "    <tr>\n",
       "      <th>3085</th>\n",
       "      <td>410050202002000</td>\n",
       "      <td>222081978</td>\n",
       "      <td>3</td>\n",
       "      <td>{'rings': [[[-122.70814246499998, 45.416726456...</td>\n",
       "    </tr>\n",
       "    <tr>\n",
       "      <th>3086</th>\n",
       "      <td>410050202002000</td>\n",
       "      <td>227607132</td>\n",
       "      <td>1</td>\n",
       "      <td>{'rings': [[[-122.70814246499998, 45.416726456...</td>\n",
       "    </tr>\n",
       "    <tr>\n",
       "      <th>3087</th>\n",
       "      <td>410050202002000</td>\n",
       "      <td>236918645</td>\n",
       "      <td>1</td>\n",
       "      <td>{'rings': [[[-122.70814246499998, 45.416726456...</td>\n",
       "    </tr>\n",
       "  </tbody>\n",
       "</table>\n",
       "</div>"
      ],
      "text/plain": [
       "            origin_id  destination_id  trip_count  \\\n",
       "3083  410050202002000       211564646           3   \n",
       "3084  410050202002000       219649035           1   \n",
       "3085  410050202002000       222081978           3   \n",
       "3086  410050202002000       227607132           1   \n",
       "3087  410050202002000       236918645           1   \n",
       "\n",
       "                                                  SHAPE  \n",
       "3083  {'rings': [[[-122.70814246499998, 45.416726456...  \n",
       "3084  {'rings': [[[-122.70814246499998, 45.416726456...  \n",
       "3085  {'rings': [[[-122.70814246499998, 45.416726456...  \n",
       "3086  {'rings': [[[-122.70814246499998, 45.416726456...  \n",
       "3087  {'rings': [[[-122.70814246499998, 45.416726456...  "
      ]
     },
     "execution_count": 117,
     "metadata": {},
     "output_type": "execute_result"
    }
   ],
   "source": [
    "sdf_all = df_all.join(blocks_df, on='origin_id')\n",
    "sdf_all.head()"
   ]
  },
  {
   "cell_type": "code",
   "execution_count": 118,
   "metadata": {},
   "outputs": [],
   "source": [
    "sdf_all.spatial.set_geometry('SHAPE')"
   ]
  },
  {
   "cell_type": "code",
   "execution_count": 119,
   "metadata": {},
   "outputs": [
    {
     "data": {
      "text/plain": [
       "True"
      ]
     },
     "execution_count": 119,
     "metadata": {},
     "output_type": "execute_result"
    }
   ],
   "source": [
    "sdf_all.spatial.validate()"
   ]
  },
  {
   "cell_type": "code",
   "execution_count": 120,
   "metadata": {},
   "outputs": [],
   "source": [
    "sdf_all.origin_id = sdf_all.origin_id.astype('str')"
   ]
  },
  {
   "cell_type": "code",
   "execution_count": 122,
   "metadata": {},
   "outputs": [
    {
     "data": {
      "text/plain": [
       "'D:\\\\projects\\\\geoai-retail\\\\data\\\\interim\\\\interim.gdb\\\\study_blocks'"
      ]
     },
     "execution_count": 122,
     "metadata": {},
     "output_type": "execute_result"
    }
   ],
   "source": [
    "sdf_all.spatial.to_featureclass('../../data/interim/interim.gdb/study_blocks')"
   ]
  },
  {
   "cell_type": "code",
   "execution_count": 126,
   "metadata": {},
   "outputs": [
    {
     "name": "stdout",
     "output_type": "stream",
     "text": [
      "LOCNUM = '211564646' OR LOCNUM = '219649035' OR LOCNUM = '222081978' OR LOCNUM = '227607132' OR LOCNUM = '236918645' OR LOCNUM = '238078398' OR LOCNUM = '243254281' OR LOCNUM = '243254414' OR LOCNUM = '243254463' OR LOCNUM = '243254554' OR LOCNUM = '243254646' OR LOCNUM = '251754115' OR LOCNUM = '257782771' OR LOCNUM = '261184543' OR LOCNUM = '268703220' OR LOCNUM = '354202954' OR LOCNUM = '367407582' OR LOCNUM = '372249466' OR LOCNUM = '396147548' OR LOCNUM = '397058413' OR LOCNUM = '399150515' OR LOCNUM = '403048346' OR LOCNUM = '403163338' OR LOCNUM = '403363415' OR LOCNUM = '404823760' OR LOCNUM = '404983009' OR LOCNUM = '405004979' OR LOCNUM = '409286959' OR LOCNUM = '409291925' OR LOCNUM = '411948297' OR LOCNUM = '415150364' OR LOCNUM = '415566989' OR LOCNUM = '417521136' OR LOCNUM = '417755893' OR LOCNUM = '418770012' OR LOCNUM = '421983243' OR LOCNUM = '422294612' OR LOCNUM = '423423774' OR LOCNUM = '423502025' OR LOCNUM = '424721410' OR LOCNUM = '425236314' OR LOCNUM = '426088805' OR LOCNUM = '427528962' OR LOCNUM = '428103924' OR LOCNUM = '435874684' OR LOCNUM = '439377551' OR LOCNUM = '443143698' OR LOCNUM = '447975780' OR LOCNUM = '461749194' OR LOCNUM = '461761819' OR LOCNUM = '479761744' OR LOCNUM = '484134044' OR LOCNUM = '484176375' OR LOCNUM = '499703551' OR LOCNUM = '510260235' OR LOCNUM = '520835364' OR LOCNUM = '523572634' OR LOCNUM = '523572642' OR LOCNUM = '523588622' OR LOCNUM = '523593465' OR LOCNUM = '523593473' OR LOCNUM = '523617983' OR LOCNUM = '529068280' OR LOCNUM = '565058930' OR LOCNUM = '566387387' OR LOCNUM = '585558430' OR LOCNUM = '590189296' OR LOCNUM = '591947239' OR LOCNUM = '593279052' OR LOCNUM = '593279292' OR LOCNUM = '623782760' OR LOCNUM = '626749303' OR LOCNUM = '631807146' OR LOCNUM = '631871662' OR LOCNUM = '637232497' OR LOCNUM = '637458084' OR LOCNUM = '637497512' OR LOCNUM = '637497876' OR LOCNUM = '637577768' OR LOCNUM = '645249152' OR LOCNUM = '655960276' OR LOCNUM = '684604812' OR LOCNUM = '684642085' OR LOCNUM = '692437783' OR LOCNUM = '706570869' OR LOCNUM = '709630277' OR LOCNUM = '711988606' OR LOCNUM = '714675626' OR LOCNUM = '715423420' OR LOCNUM = '715440882' OR LOCNUM = '718753831' OR LOCNUM = '721916379' OR LOCNUM = '721916382' OR LOCNUM = '722716448' OR LOCNUM = '723827347' OR LOCNUM = '723838910' OR LOCNUM = '724622018' OR LOCNUM = '724622491' OR LOCNUM = '724624345' OR LOCNUM = '724624350' OR LOCNUM = '724992959' OR LOCNUM = '725092054' OR LOCNUM = '725273038' OR LOCNUM = '725560620' OR LOCNUM = '726370456' OR LOCNUM = '731523182' OR LOCNUM = '837131499' OR LOCNUM = '895875243' OR LOCNUM = '895875409' OR LOCNUM = '935733931' OR LOCNUM = '949745442' OR LOCNUM = '949747430' OR LOCNUM = '970016523' OR LOCNUM = '970020814' OR LOCNUM = '970125696' OR LOCNUM = '105830012' OR LOCNUM = '213604069' OR LOCNUM = '238078208' OR LOCNUM = '238531206' OR LOCNUM = '402227894' OR LOCNUM = '404389476' OR LOCNUM = '411939708' OR LOCNUM = '411960623' OR LOCNUM = '413964994' OR LOCNUM = '413979508' OR LOCNUM = '415522504' OR LOCNUM = '417518077' OR LOCNUM = '419721369' OR LOCNUM = '421963827' OR LOCNUM = '427132112' OR LOCNUM = '427295695' OR LOCNUM = '439066886' OR LOCNUM = '537304628' OR LOCNUM = '585635022' OR LOCNUM = '590188942' OR LOCNUM = '590190740' OR LOCNUM = '613090331' OR LOCNUM = '637456856' OR LOCNUM = '637458035' OR LOCNUM = '637497249' OR LOCNUM = '637497496' OR LOCNUM = '637497553' OR LOCNUM = '647449461' OR LOCNUM = '652026907' OR LOCNUM = '654524982' OR LOCNUM = '655960243' OR LOCNUM = '655960268' OR LOCNUM = '660243981' OR LOCNUM = '684641640' OR LOCNUM = '689128619' OR LOCNUM = '692477821' OR LOCNUM = '700255412' OR LOCNUM = '700587617' OR LOCNUM = '706726710' OR LOCNUM = '707028382' OR LOCNUM = '707112273' OR LOCNUM = '718176685' OR LOCNUM = '718599514' OR LOCNUM = '719397681' OR LOCNUM = '722946693' OR LOCNUM = '722996759' OR LOCNUM = '723264680' OR LOCNUM = '723796715' OR LOCNUM = '723830846' OR LOCNUM = '723839071' OR LOCNUM = '724598176' OR LOCNUM = '724622495' OR LOCNUM = '724623402' OR LOCNUM = '724790238' OR LOCNUM = '725344344' OR LOCNUM = '725875205' OR LOCNUM = '732273983' OR LOCNUM = '996388682' OR LOCNUM = '625932082' OR LOCNUM = '247731359' OR LOCNUM = '388731242' OR LOCNUM = '401757264' OR LOCNUM = '404971434' OR LOCNUM = '405002304' OR LOCNUM = '415522508' OR LOCNUM = '499705226' OR LOCNUM = '533081048' OR LOCNUM = '718176573' OR LOCNUM = '719090769' OR LOCNUM = '895875821' OR LOCNUM = '966845976' OR LOCNUM = '177692910' OR LOCNUM = '203901418' OR LOCNUM = '243190535' OR LOCNUM = '364738328' OR LOCNUM = '403839007' OR LOCNUM = '461738742' OR LOCNUM = '479827917' OR LOCNUM = '484134036' OR LOCNUM = '626663108' OR LOCNUM = '632063723' OR LOCNUM = '632063731' OR LOCNUM = '637457573' OR LOCNUM = '637458381' OR LOCNUM = '637497470' OR LOCNUM = '637577818' OR LOCNUM = '654004472' OR LOCNUM = '660234584' OR LOCNUM = '664394962' OR LOCNUM = '679647560' OR LOCNUM = '692477508' OR LOCNUM = '709422016' OR LOCNUM = '710847142' OR LOCNUM = '715440868' OR LOCNUM = '718187770' OR LOCNUM = '718764494' OR LOCNUM = '719297234' OR LOCNUM = '724622593' OR LOCNUM = '725965358' OR LOCNUM = '958673402' OR LOCNUM = '960774560' OR LOCNUM = '404371914' OR LOCNUM = '438669357' OR LOCNUM = '625909593' OR LOCNUM = '715074000' OR LOCNUM = '721758160' OR LOCNUM = '725656465' OR LOCNUM = '207178880' OR LOCNUM = '238078257' OR LOCNUM = '254791452' OR LOCNUM = '427382760' OR LOCNUM = '558222485' OR LOCNUM = '585617475' OR LOCNUM = '643343775' OR LOCNUM = '660256033' OR LOCNUM = '706073206' OR LOCNUM = '718176567' OR LOCNUM = '723839078' OR LOCNUM = '725344335' OR LOCNUM = '238104764' OR LOCNUM = '251754495' OR LOCNUM = '402179252' OR LOCNUM = '421702217' OR LOCNUM = '479800898' OR LOCNUM = '585558570' OR LOCNUM = '626465322' OR LOCNUM = '626465371' OR LOCNUM = '637497488' OR LOCNUM = '637577750' OR LOCNUM = '645249202' OR LOCNUM = '707411129' OR LOCNUM = '707725447' OR LOCNUM = '708242982' OR LOCNUM = '708274207' OR LOCNUM = '711501678' OR LOCNUM = '717443677' OR LOCNUM = '724790236' OR LOCNUM = '895875300' OR LOCNUM = '975608142' OR LOCNUM = '992212571' OR LOCNUM = '426299828' OR LOCNUM = '426315961' OR LOCNUM = '637497504' OR LOCNUM = '718187786' OR LOCNUM = '399294834' OR LOCNUM = '415522479' OR LOCNUM = '433118733' OR LOCNUM = '499653145' OR LOCNUM = '589086974' OR LOCNUM = '612951582' OR LOCNUM = '674566625' OR LOCNUM = '692477144' OR LOCNUM = '700092768' OR LOCNUM = '717445550' OR LOCNUM = '722163218' OR LOCNUM = '724623286' OR LOCNUM = '229415641' OR LOCNUM = '417755879' OR LOCNUM = '421976767' OR LOCNUM = '421989050' OR LOCNUM = '499651362' OR LOCNUM = '637497967' OR LOCNUM = '645249236' OR LOCNUM = '679077610' OR LOCNUM = '712019133' OR LOCNUM = '721114085' OR LOCNUM = '725440645' OR LOCNUM = '396147068' OR LOCNUM = '396147720' OR LOCNUM = '425405553' OR LOCNUM = '447971045' OR LOCNUM = '590199626' OR LOCNUM = '660234493' OR LOCNUM = '706070682' OR LOCNUM = '707824353' OR LOCNUM = '715160606' OR LOCNUM = '715440949' OR LOCNUM = '717443692' OR LOCNUM = '718612509' OR LOCNUM = '723770215' OR LOCNUM = '637356650' OR LOCNUM = '692477896' OR LOCNUM = '243254257' OR LOCNUM = '403814109' OR LOCNUM = '542178132' OR LOCNUM = '692477136' OR LOCNUM = '718208815' OR LOCNUM = '722439170' OR LOCNUM = '722931654' OR LOCNUM = '396147803' OR LOCNUM = '637457995' OR LOCNUM = '675418511' OR LOCNUM = '105971188' OR LOCNUM = '243254356' OR LOCNUM = '396147688' OR LOCNUM = '402194881' OR LOCNUM = '427940712' OR LOCNUM = '456044700' OR LOCNUM = '637497678' OR LOCNUM = '637497694' OR LOCNUM = '692477649' OR LOCNUM = '692477664' OR LOCNUM = '698567690' OR LOCNUM = '725063585' OR LOCNUM = '201048063' OR LOCNUM = '238686729' OR LOCNUM = '257782862' OR LOCNUM = '385377577' OR LOCNUM = '396147696' OR LOCNUM = '396819062' OR LOCNUM = '400746264' OR LOCNUM = '415456258' OR LOCNUM = '417773893' OR LOCNUM = '493857601' OR LOCNUM = '658621883' OR LOCNUM = '666821012' OR LOCNUM = '688920602' OR LOCNUM = '693811044' OR LOCNUM = '698568425' OR LOCNUM = '700338582' OR LOCNUM = '705626027' OR LOCNUM = '724622044' OR LOCNUM = '393539036' OR LOCNUM = '666724190' OR LOCNUM = '422305767' OR LOCNUM = '433223890' OR LOCNUM = '632277646' OR LOCNUM = '718658409' OR LOCNUM = '397072554' OR LOCNUM = '415522503' OR LOCNUM = '359018801' OR LOCNUM = '382751808' OR LOCNUM = '404624449' OR LOCNUM = '413962364' OR LOCNUM = '439386809' OR LOCNUM = '632277661' OR LOCNUM = '637497520' OR LOCNUM = '700338970' OR LOCNUM = '706070684' OR LOCNUM = '724619411' OR LOCNUM = '724992874' OR LOCNUM = '996456521' OR LOCNUM = '417777654' OR LOCNUM = '724992957' OR LOCNUM = '589087063' OR LOCNUM = '415522511' OR LOCNUM = '585593924' OR LOCNUM = '218050482' OR LOCNUM = '637497264' OR LOCNUM = '724497190' OR LOCNUM = '216825737' OR LOCNUM = '435317837' OR LOCNUM = '721368319' OR LOCNUM = '209093533' OR LOCNUM = '400793442' OR LOCNUM = '402794004' OR LOCNUM = '414440816' OR LOCNUM = '415507904' OR LOCNUM = '439388263' OR LOCNUM = '446952368' OR LOCNUM = '637497215' OR LOCNUM = '698492709' OR LOCNUM = '718269295' OR LOCNUM = '723657453' OR LOCNUM = '724625359' OR LOCNUM = '423749158' OR LOCNUM = '243254265' OR LOCNUM = '439861807' OR LOCNUM = '637497348' OR LOCNUM = '707036288' OR LOCNUM = '707321730' OR LOCNUM = '715803084' OR LOCNUM = '415453512' OR LOCNUM = '439382827' OR LOCNUM = '257782797' OR LOCNUM = '426564030' OR LOCNUM = '637497207' OR LOCNUM = '426315970' OR LOCNUM = '426426085' OR LOCNUM = '632210829' OR LOCNUM = '395959703' OR LOCNUM = '412611842' OR LOCNUM = '586157273' OR LOCNUM = '731018517' OR LOCNUM = '180308389' OR LOCNUM = '724623471' OR LOCNUM = '720543807' OR LOCNUM = '415522509' OR LOCNUM = '684605348' OR LOCNUM = '222053548' OR LOCNUM = '246819569' OR LOCNUM = '404711643' OR LOCNUM = '449645043' OR LOCNUM = '586157315' OR LOCNUM = '637577727' OR LOCNUM = '637577776' OR LOCNUM = '670911619' OR LOCNUM = '672540846' OR LOCNUM = '706482592' OR LOCNUM = '711995515' OR LOCNUM = '243189008' OR LOCNUM = '613558634' OR LOCNUM = '637576562' OR LOCNUM = '439388269' OR LOCNUM = '637497710' OR LOCNUM = '637497579' OR LOCNUM = '710610846' OR LOCNUM = '403761344' OR LOCNUM = '232331066' OR LOCNUM = '415042904' OR LOCNUM = '425688705' OR LOCNUM = '524877610' OR LOCNUM = '637457904' OR LOCNUM = '637457979' OR LOCNUM = '705937120' OR LOCNUM = '723740928' OR LOCNUM = '718208809' OR LOCNUM = '427937422' OR LOCNUM = '243254513' OR LOCNUM = '421246884' OR LOCNUM = '427041068' OR LOCNUM = '723672766' OR LOCNUM = '243189032' OR LOCNUM = '425474685' OR LOCNUM = '717443480' OR LOCNUM = '700497601' OR LOCNUM = '718867785' OR LOCNUM = '720832388' OR LOCNUM = '440571302' OR LOCNUM = '243189016' OR LOCNUM = '396149163' OR LOCNUM = '710334728' OR LOCNUM = '719681318' OR LOCNUM = '446955767' OR LOCNUM = '722597916' OR LOCNUM = '725169370' OR LOCNUM = '626802334' OR LOCNUM = '406123742' OR LOCNUM = '718548632' OR LOCNUM = '660224866' OR LOCNUM = '692477169' OR LOCNUM = '404392972' OR LOCNUM = '711994809' OR LOCNUM = '404626043' OR LOCNUM = '706070674' OR LOCNUM = '243831849' OR LOCNUM = '396658874' OR LOCNUM = '708584554' OR LOCNUM = '722962814' OR LOCNUM = '586157281' OR LOCNUM = '665764965' OR LOCNUM = '709126133' OR LOCNUM = '403812882' OR LOCNUM = '692477920' OR LOCNUM = '725056934' OR LOCNUM = '401846683' OR LOCNUM = '626465074' OR LOCNUM = '707772131' OR LOCNUM = '723608871' OR LOCNUM = '721916400' OR LOCNUM = '725056518' OR LOCNUM = '589087105' OR LOCNUM = '710467421' OR LOCNUM = '722958441' OR LOCNUM = '637457938' OR LOCNUM = '637497868' OR LOCNUM = '243254406' OR LOCNUM = '655960250' OR LOCNUM = '214402802' OR LOCNUM = '396820995' OR LOCNUM = '507473957' OR LOCNUM = '700076387' OR LOCNUM = '721100430' OR LOCNUM = '433225219' OR LOCNUM = '395959422' OR LOCNUM = '685737389' OR LOCNUM = '427607316' OR LOCNUM = '673610259' OR LOCNUM = '369341656' OR LOCNUM = '658621909' OR LOCNUM = '654004498' OR LOCNUM = '243254208' OR LOCNUM = '246363204' OR LOCNUM = '424297855' OR LOCNUM = '725700857' OR LOCNUM = '396147472' OR LOCNUM = '724622602' OR LOCNUM = '725012076' OR LOCNUM = '705047464' OR LOCNUM = '433175927' OR LOCNUM = '524504446' OR LOCNUM = '524877628' OR LOCNUM = '415566943' OR LOCNUM = '708718307' OR LOCNUM = '609382536' OR LOCNUM = '243760139' OR LOCNUM = '626592414' OR LOCNUM = '637356403' OR LOCNUM = '421726933' OR LOCNUM = '415566471' OR LOCNUM = '543746176' OR LOCNUM = '711502017' OR LOCNUM = '715514597' OR LOCNUM = '404169499' OR LOCNUM = '415672431' OR LOCNUM = '729089883' OR LOCNUM = '427347252' OR LOCNUM = '255271678' OR LOCNUM = '396818940' OR LOCNUM = '415125394' OR LOCNUM = '433261184' OR LOCNUM = '706070673' OR LOCNUM = '707663562' OR LOCNUM = '952339901' OR LOCNUM = '928461581' OR LOCNUM = '724624196' OR LOCNUM = '692477755' OR LOCNUM = '705285985' OR LOCNUM = '712001255' OR LOCNUM = '428130969' OR LOCNUM = '704868531' OR LOCNUM = '692438088' OR LOCNUM = '395959745' OR LOCNUM = '396147316' OR LOCNUM = '409285481' OR LOCNUM = '637497785' OR LOCNUM = '722438283' OR LOCNUM = '427334312' OR LOCNUM = '709126719' OR LOCNUM = '521171819' OR LOCNUM = '637352923' OR LOCNUM = '403761342' OR LOCNUM = '724623320' OR LOCNUM = '403379967' OR LOCNUM = '717464898' OR LOCNUM = '404709292' OR LOCNUM = '669315855'\n"
     ]
    }
   ],
   "source": [
    "print(' OR '.join([f\"LOCNUM = '{val}'\" for val in sdf_all.destination_id.unique()]))"
   ]
  },
  {
   "cell_type": "code",
   "execution_count": null,
   "metadata": {},
   "outputs": [],
   "source": []
  }
 ],
 "metadata": {
  "kernelspec": {
   "display_name": "Python 3",
   "language": "python",
   "name": "python3"
  },
  "language_info": {
   "codemirror_mode": {
    "name": "ipython",
    "version": 3
   },
   "file_extension": ".py",
   "mimetype": "text/x-python",
   "name": "python",
   "nbconvert_exporter": "python",
   "pygments_lexer": "ipython3",
   "version": "3.6.8"
  }
 },
 "nbformat": 4,
 "nbformat_minor": 2
}
