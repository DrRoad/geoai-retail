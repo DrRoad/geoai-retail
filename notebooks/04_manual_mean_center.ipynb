{
 "cells": [
  {
   "cell_type": "markdown",
   "metadata": {},
   "source": [
    "# Data Processing Template\n",
    "\n",
    "Since almost without exception the first step is working with data munging, this notebook is stubbed out with a very select few imports to speed up the initial steps following creating a project and copying in raw data."
   ]
  },
  {
   "cell_type": "code",
   "execution_count": 1,
   "metadata": {},
   "outputs": [],
   "source": [
    "# minimal module imports\n",
    "from arcgis.features import GeoAccessor, GeoSeriesAccessor\n",
    "from arcgis.features import FeatureLayer\n",
    "from arcgis.geometry import Geometry\n",
    "import pandas as pd\n",
    "import os\n",
    "import importlib\n",
    "\n",
    "# import arcpy if available\n",
    "if importlib.util.find_spec(\"arcpy\") is not None:\n",
    "    import arcpy"
   ]
  },
  {
   "cell_type": "code",
   "execution_count": 2,
   "metadata": {},
   "outputs": [],
   "source": [
    "# a couple of handy variables and settings to get started\n",
    "\n",
    "data = r'../data'\n",
    "data_raw = os.path.join(data, 'raw')\n",
    "data_ext = os.path.join(data, 'external')\n",
    "data_int = os.path.join(data, 'interim')\n",
    "data_out = os.path.join(data, 'processed')\n",
    "\n",
    "gdb_int = os.path.join(data_int, 'interim.gdb')\n",
    "gdb_raw = os.path.join(data_raw, 'raw.gdb')"
   ]
  },
  {
   "cell_type": "code",
   "execution_count": 3,
   "metadata": {},
   "outputs": [],
   "source": [
    "bp_pth = os.path.join(gdb_raw, 'block_points')\n",
    "bg_pth = os.path.join(gdb_raw, 'block_groups')\n",
    "cbsa_pth = os.path.join(gdb_raw, 'cbsas')\n",
    "\n",
    "arcpy.env.overwriteOutput = True"
   ]
  },
  {
   "cell_type": "code",
   "execution_count": 10,
   "metadata": {},
   "outputs": [
    {
     "data": {
      "text/html": [
       "<div>\n",
       "<style scoped>\n",
       "    .dataframe tbody tr th:only-of-type {\n",
       "        vertical-align: middle;\n",
       "    }\n",
       "\n",
       "    .dataframe tbody tr th {\n",
       "        vertical-align: top;\n",
       "    }\n",
       "\n",
       "    .dataframe thead th {\n",
       "        text-align: right;\n",
       "    }\n",
       "</style>\n",
       "<table border=\"1\" class=\"dataframe\">\n",
       "  <thead>\n",
       "    <tr style=\"text-align: right;\">\n",
       "      <th></th>\n",
       "      <th>OBJECTID</th>\n",
       "      <th>FIPS</th>\n",
       "      <th>STATE_NAME</th>\n",
       "      <th>SHAPE</th>\n",
       "    </tr>\n",
       "  </thead>\n",
       "  <tbody>\n",
       "    <tr>\n",
       "      <th>0</th>\n",
       "      <td>1</td>\n",
       "      <td>150039812001004</td>\n",
       "      <td>Hawaii</td>\n",
       "      <td>{\"x\": -166.28822369699998, \"y\": 23.86846842700...</td>\n",
       "    </tr>\n",
       "    <tr>\n",
       "      <th>1</th>\n",
       "      <td>2</td>\n",
       "      <td>150039812001005</td>\n",
       "      <td>Hawaii</td>\n",
       "      <td>{\"x\": -166.21047832799997, \"y\": 23.78768193900...</td>\n",
       "    </tr>\n",
       "    <tr>\n",
       "      <th>2</th>\n",
       "      <td>3</td>\n",
       "      <td>150039812001006</td>\n",
       "      <td>Hawaii</td>\n",
       "      <td>{\"x\": -166.24250323499996, \"y\": 23.87162798700...</td>\n",
       "    </tr>\n",
       "    <tr>\n",
       "      <th>3</th>\n",
       "      <td>4</td>\n",
       "      <td>150039812001007</td>\n",
       "      <td>Hawaii</td>\n",
       "      <td>{\"x\": -166.24162861199997, \"y\": 23.87150556400...</td>\n",
       "    </tr>\n",
       "    <tr>\n",
       "      <th>4</th>\n",
       "      <td>5</td>\n",
       "      <td>150039812001008</td>\n",
       "      <td>Hawaii</td>\n",
       "      <td>{\"x\": -166.28719940299996, \"y\": 23.86874607300...</td>\n",
       "    </tr>\n",
       "  </tbody>\n",
       "</table>\n",
       "</div>"
      ],
      "text/plain": [
       "   OBJECTID             FIPS STATE_NAME  \\\n",
       "0         1  150039812001004     Hawaii   \n",
       "1         2  150039812001005     Hawaii   \n",
       "2         3  150039812001006     Hawaii   \n",
       "3         4  150039812001007     Hawaii   \n",
       "4         5  150039812001008     Hawaii   \n",
       "\n",
       "                                               SHAPE  \n",
       "0  {\"x\": -166.28822369699998, \"y\": 23.86846842700...  \n",
       "1  {\"x\": -166.21047832799997, \"y\": 23.78768193900...  \n",
       "2  {\"x\": -166.24250323499996, \"y\": 23.87162798700...  \n",
       "3  {\"x\": -166.24162861199997, \"y\": 23.87150556400...  \n",
       "4  {\"x\": -166.28719940299996, \"y\": 23.86874607300...  "
      ]
     },
     "execution_count": 10,
     "metadata": {},
     "output_type": "execute_result"
    }
   ],
   "source": [
    "bp_id_df = GeoAccessor.from_featureclass(bp_pth)\n",
    "bp_id_df.head()"
   ]
  },
  {
   "cell_type": "code",
   "execution_count": 15,
   "metadata": {},
   "outputs": [],
   "source": [
    "bp_id_df['bg_id'] = bp_id_df.FIPS.apply(lambda val: val[:12])"
   ]
  },
  {
   "cell_type": "code",
   "execution_count": 17,
   "metadata": {},
   "outputs": [
    {
     "data": {
      "text/html": [
       "<div>\n",
       "<style scoped>\n",
       "    .dataframe tbody tr th:only-of-type {\n",
       "        vertical-align: middle;\n",
       "    }\n",
       "\n",
       "    .dataframe tbody tr th {\n",
       "        vertical-align: top;\n",
       "    }\n",
       "\n",
       "    .dataframe thead th {\n",
       "        text-align: right;\n",
       "    }\n",
       "</style>\n",
       "<table border=\"1\" class=\"dataframe\">\n",
       "  <thead>\n",
       "    <tr style=\"text-align: right;\">\n",
       "      <th></th>\n",
       "      <th>OBJECTID</th>\n",
       "      <th>FIPS</th>\n",
       "      <th>STATE_NAME</th>\n",
       "      <th>SHAPE</th>\n",
       "      <th>bg_id</th>\n",
       "      <th>x</th>\n",
       "      <th>y</th>\n",
       "    </tr>\n",
       "  </thead>\n",
       "  <tbody>\n",
       "    <tr>\n",
       "      <th>0</th>\n",
       "      <td>1</td>\n",
       "      <td>150039812001004</td>\n",
       "      <td>Hawaii</td>\n",
       "      <td>{\"x\": -166.28822369699998, \"y\": 23.86846842700...</td>\n",
       "      <td>150039812001</td>\n",
       "      <td>-166.288224</td>\n",
       "      <td>23.868468</td>\n",
       "    </tr>\n",
       "    <tr>\n",
       "      <th>1</th>\n",
       "      <td>2</td>\n",
       "      <td>150039812001005</td>\n",
       "      <td>Hawaii</td>\n",
       "      <td>{\"x\": -166.21047832799997, \"y\": 23.78768193900...</td>\n",
       "      <td>150039812001</td>\n",
       "      <td>-166.210478</td>\n",
       "      <td>23.787682</td>\n",
       "    </tr>\n",
       "    <tr>\n",
       "      <th>2</th>\n",
       "      <td>3</td>\n",
       "      <td>150039812001006</td>\n",
       "      <td>Hawaii</td>\n",
       "      <td>{\"x\": -166.24250323499996, \"y\": 23.87162798700...</td>\n",
       "      <td>150039812001</td>\n",
       "      <td>-166.242503</td>\n",
       "      <td>23.871628</td>\n",
       "    </tr>\n",
       "    <tr>\n",
       "      <th>3</th>\n",
       "      <td>4</td>\n",
       "      <td>150039812001007</td>\n",
       "      <td>Hawaii</td>\n",
       "      <td>{\"x\": -166.24162861199997, \"y\": 23.87150556400...</td>\n",
       "      <td>150039812001</td>\n",
       "      <td>-166.241629</td>\n",
       "      <td>23.871506</td>\n",
       "    </tr>\n",
       "    <tr>\n",
       "      <th>4</th>\n",
       "      <td>5</td>\n",
       "      <td>150039812001008</td>\n",
       "      <td>Hawaii</td>\n",
       "      <td>{\"x\": -166.28719940299996, \"y\": 23.86874607300...</td>\n",
       "      <td>150039812001</td>\n",
       "      <td>-166.287199</td>\n",
       "      <td>23.868746</td>\n",
       "    </tr>\n",
       "  </tbody>\n",
       "</table>\n",
       "</div>"
      ],
      "text/plain": [
       "   OBJECTID             FIPS STATE_NAME  \\\n",
       "0         1  150039812001004     Hawaii   \n",
       "1         2  150039812001005     Hawaii   \n",
       "2         3  150039812001006     Hawaii   \n",
       "3         4  150039812001007     Hawaii   \n",
       "4         5  150039812001008     Hawaii   \n",
       "\n",
       "                                               SHAPE         bg_id  \\\n",
       "0  {\"x\": -166.28822369699998, \"y\": 23.86846842700...  150039812001   \n",
       "1  {\"x\": -166.21047832799997, \"y\": 23.78768193900...  150039812001   \n",
       "2  {\"x\": -166.24250323499996, \"y\": 23.87162798700...  150039812001   \n",
       "3  {\"x\": -166.24162861199997, \"y\": 23.87150556400...  150039812001   \n",
       "4  {\"x\": -166.28719940299996, \"y\": 23.86874607300...  150039812001   \n",
       "\n",
       "            x          y  \n",
       "0 -166.288224  23.868468  \n",
       "1 -166.210478  23.787682  \n",
       "2 -166.242503  23.871628  \n",
       "3 -166.241629  23.871506  \n",
       "4 -166.287199  23.868746  "
      ]
     },
     "execution_count": 17,
     "metadata": {},
     "output_type": "execute_result"
    }
   ],
   "source": [
    "bp_id_df['x'] = bp_id_df.SHAPE.apply(lambda geom: geom.x)\n",
    "bp_id_df['y'] = bp_id_df.SHAPE.apply(lambda geom: geom.y)\n",
    "bp_id_df.head()"
   ]
  },
  {
   "cell_type": "code",
   "execution_count": 25,
   "metadata": {},
   "outputs": [
    {
     "data": {
      "text/html": [
       "<div>\n",
       "<style scoped>\n",
       "    .dataframe tbody tr th:only-of-type {\n",
       "        vertical-align: middle;\n",
       "    }\n",
       "\n",
       "    .dataframe tbody tr th {\n",
       "        vertical-align: top;\n",
       "    }\n",
       "\n",
       "    .dataframe thead th {\n",
       "        text-align: right;\n",
       "    }\n",
       "</style>\n",
       "<table border=\"1\" class=\"dataframe\">\n",
       "  <thead>\n",
       "    <tr style=\"text-align: right;\">\n",
       "      <th></th>\n",
       "      <th>x</th>\n",
       "      <th>y</th>\n",
       "      <th>SHAPE</th>\n",
       "    </tr>\n",
       "    <tr>\n",
       "      <th>bg_id</th>\n",
       "      <th></th>\n",
       "      <th></th>\n",
       "      <th></th>\n",
       "    </tr>\n",
       "  </thead>\n",
       "  <tbody>\n",
       "    <tr>\n",
       "      <th>010010201001</th>\n",
       "      <td>-86.488317</td>\n",
       "      <td>32.466165</td>\n",
       "      <td>{'x': -86.48831683333329, 'y': 32.466164500000...</td>\n",
       "    </tr>\n",
       "    <tr>\n",
       "      <th>010010201002</th>\n",
       "      <td>-86.489838</td>\n",
       "      <td>32.482278</td>\n",
       "      <td>{'x': -86.48983799999996, 'y': 32.482278047826...</td>\n",
       "    </tr>\n",
       "    <tr>\n",
       "      <th>010010202001</th>\n",
       "      <td>-86.473257</td>\n",
       "      <td>32.477616</td>\n",
       "      <td>{'x': -86.47325653999998, 'y': 32.477616286666...</td>\n",
       "    </tr>\n",
       "    <tr>\n",
       "      <th>010010202002</th>\n",
       "      <td>-86.471881</td>\n",
       "      <td>32.463169</td>\n",
       "      <td>{'x': -86.47188078857143, 'y': 32.463168645714...</td>\n",
       "    </tr>\n",
       "    <tr>\n",
       "      <th>010010203001</th>\n",
       "      <td>-86.458227</td>\n",
       "      <td>32.477925</td>\n",
       "      <td>{'x': -86.45822720952376, 'y': 32.477924514285...</td>\n",
       "    </tr>\n",
       "  </tbody>\n",
       "</table>\n",
       "</div>"
      ],
      "text/plain": [
       "                      x          y  \\\n",
       "bg_id                                \n",
       "010010201001 -86.488317  32.466165   \n",
       "010010201002 -86.489838  32.482278   \n",
       "010010202001 -86.473257  32.477616   \n",
       "010010202002 -86.471881  32.463169   \n",
       "010010203001 -86.458227  32.477925   \n",
       "\n",
       "                                                          SHAPE  \n",
       "bg_id                                                            \n",
       "010010201001  {'x': -86.48831683333329, 'y': 32.466164500000...  \n",
       "010010201002  {'x': -86.48983799999996, 'y': 32.482278047826...  \n",
       "010010202001  {'x': -86.47325653999998, 'y': 32.477616286666...  \n",
       "010010202002  {'x': -86.47188078857143, 'y': 32.463168645714...  \n",
       "010010203001  {'x': -86.45822720952376, 'y': 32.477924514285...  "
      ]
     },
     "execution_count": 25,
     "metadata": {},
     "output_type": "execute_result"
    }
   ],
   "source": [
    "bg_cent_df = bp_id_df[['bg_id', 'x', 'y']].groupby('bg_id').mean()\n",
    "bg_cent_df['SHAPE'] = bg_cent_df.apply(lambda row: Geometry({'x': row[0], 'y': row[1], 'spatialReference': {'wkid': 4326}}), axis=1)\n",
    "bg_cent_df.head()"
   ]
  },
  {
   "cell_type": "code",
   "execution_count": 26,
   "metadata": {},
   "outputs": [],
   "source": [
    "bg_cent_df.spatial.set_geometry('SHAPE')"
   ]
  },
  {
   "cell_type": "code",
   "execution_count": 27,
   "metadata": {},
   "outputs": [
    {
     "data": {
      "text/html": [
       "<div>\n",
       "<style scoped>\n",
       "    .dataframe tbody tr th:only-of-type {\n",
       "        vertical-align: middle;\n",
       "    }\n",
       "\n",
       "    .dataframe tbody tr th {\n",
       "        vertical-align: top;\n",
       "    }\n",
       "\n",
       "    .dataframe thead th {\n",
       "        text-align: right;\n",
       "    }\n",
       "</style>\n",
       "<table border=\"1\" class=\"dataframe\">\n",
       "  <thead>\n",
       "    <tr style=\"text-align: right;\">\n",
       "      <th></th>\n",
       "      <th>bg_id</th>\n",
       "      <th>x</th>\n",
       "      <th>y</th>\n",
       "      <th>SHAPE</th>\n",
       "    </tr>\n",
       "  </thead>\n",
       "  <tbody>\n",
       "    <tr>\n",
       "      <th>0</th>\n",
       "      <td>010010201001</td>\n",
       "      <td>-86.488317</td>\n",
       "      <td>32.466165</td>\n",
       "      <td>{\"x\": -86.48831683333329, \"y\": 32.466164500000...</td>\n",
       "    </tr>\n",
       "    <tr>\n",
       "      <th>1</th>\n",
       "      <td>010010201002</td>\n",
       "      <td>-86.489838</td>\n",
       "      <td>32.482278</td>\n",
       "      <td>{\"x\": -86.48983799999996, \"y\": 32.482278047826...</td>\n",
       "    </tr>\n",
       "    <tr>\n",
       "      <th>2</th>\n",
       "      <td>010010202001</td>\n",
       "      <td>-86.473257</td>\n",
       "      <td>32.477616</td>\n",
       "      <td>{\"x\": -86.47325653999998, \"y\": 32.477616286666...</td>\n",
       "    </tr>\n",
       "    <tr>\n",
       "      <th>3</th>\n",
       "      <td>010010202002</td>\n",
       "      <td>-86.471881</td>\n",
       "      <td>32.463169</td>\n",
       "      <td>{\"x\": -86.47188078857143, \"y\": 32.463168645714...</td>\n",
       "    </tr>\n",
       "    <tr>\n",
       "      <th>4</th>\n",
       "      <td>010010203001</td>\n",
       "      <td>-86.458227</td>\n",
       "      <td>32.477925</td>\n",
       "      <td>{\"x\": -86.45822720952376, \"y\": 32.477924514285...</td>\n",
       "    </tr>\n",
       "  </tbody>\n",
       "</table>\n",
       "</div>"
      ],
      "text/plain": [
       "          bg_id          x          y  \\\n",
       "0  010010201001 -86.488317  32.466165   \n",
       "1  010010201002 -86.489838  32.482278   \n",
       "2  010010202001 -86.473257  32.477616   \n",
       "3  010010202002 -86.471881  32.463169   \n",
       "4  010010203001 -86.458227  32.477925   \n",
       "\n",
       "                                               SHAPE  \n",
       "0  {\"x\": -86.48831683333329, \"y\": 32.466164500000...  \n",
       "1  {\"x\": -86.48983799999996, \"y\": 32.482278047826...  \n",
       "2  {\"x\": -86.47325653999998, \"y\": 32.477616286666...  \n",
       "3  {\"x\": -86.47188078857143, \"y\": 32.463168645714...  \n",
       "4  {\"x\": -86.45822720952376, \"y\": 32.477924514285...  "
      ]
     },
     "execution_count": 27,
     "metadata": {},
     "output_type": "execute_result"
    }
   ],
   "source": [
    "bg_cent_df.reset_index(inplace=True)\n",
    "bg_cent_df.head()"
   ]
  },
  {
   "cell_type": "code",
   "execution_count": 28,
   "metadata": {},
   "outputs": [
    {
     "ename": "ValueError",
     "evalue": "The truth value of a DataFrame is ambiguous. Use a.empty, a.bool(), a.item(), a.any() or a.all().",
     "output_type": "error",
     "traceback": [
      "\u001b[1;31m---------------------------------------------------------------------------\u001b[0m",
      "\u001b[1;31mValueError\u001b[0m                                Traceback (most recent call last)",
      "\u001b[1;32m~\\AppData\\Local\\ESRI\\conda\\envs\\arcgis\\lib\\site-packages\\pandas\\core\\generic.py\u001b[0m in \u001b[0;36m__nonzero__\u001b[1;34m(self)\u001b[0m\n\u001b[0;32m   1574\u001b[0m         raise ValueError(\"The truth value of a {0} is ambiguous. \"\n\u001b[0;32m   1575\u001b[0m                          \u001b[1;34m\"Use a.empty, a.bool(), a.item(), a.any() or a.all().\"\u001b[0m\u001b[1;33m\u001b[0m\u001b[0m\n\u001b[1;32m-> 1576\u001b[1;33m                          .format(self.__class__.__name__))\n\u001b[0m\u001b[0;32m   1577\u001b[0m \u001b[1;33m\u001b[0m\u001b[0m\n\u001b[0;32m   1578\u001b[0m     \u001b[0m__bool__\u001b[0m \u001b[1;33m=\u001b[0m \u001b[0m__nonzero__\u001b[0m\u001b[1;33m\u001b[0m\u001b[0m\n",
      "\u001b[1;31mValueError\u001b[0m: The truth value of a DataFrame is ambiguous. Use a.empty, a.bool(), a.item(), a.any() or a.all()."
     ]
    },
    {
     "ename": "ValueError",
     "evalue": "The truth value of a DataFrame is ambiguous. Use a.empty, a.bool(), a.item(), a.any() or a.all().",
     "output_type": "error",
     "traceback": [
      "\u001b[1;31m---------------------------------------------------------------------------\u001b[0m",
      "\u001b[1;31mValueError\u001b[0m                                Traceback (most recent call last)",
      "\u001b[1;32m~\\AppData\\Local\\ESRI\\conda\\envs\\arcgis\\lib\\site-packages\\pandas\\core\\generic.py\u001b[0m in \u001b[0;36m__nonzero__\u001b[1;34m(self)\u001b[0m\n\u001b[0;32m   1574\u001b[0m         raise ValueError(\"The truth value of a {0} is ambiguous. \"\n\u001b[0;32m   1575\u001b[0m                          \u001b[1;34m\"Use a.empty, a.bool(), a.item(), a.any() or a.all().\"\u001b[0m\u001b[1;33m\u001b[0m\u001b[0m\n\u001b[1;32m-> 1576\u001b[1;33m                          .format(self.__class__.__name__))\n\u001b[0m\u001b[0;32m   1577\u001b[0m \u001b[1;33m\u001b[0m\u001b[0m\n\u001b[0;32m   1578\u001b[0m     \u001b[0m__bool__\u001b[0m \u001b[1;33m=\u001b[0m \u001b[0m__nonzero__\u001b[0m\u001b[1;33m\u001b[0m\u001b[0m\n",
      "\u001b[1;31mValueError\u001b[0m: The truth value of a DataFrame is ambiguous. Use a.empty, a.bool(), a.item(), a.any() or a.all()."
     ]
    },
    {
     "ename": "ValueError",
     "evalue": "The truth value of a DataFrame is ambiguous. Use a.empty, a.bool(), a.item(), a.any() or a.all().",
     "output_type": "error",
     "traceback": [
      "\u001b[1;31m---------------------------------------------------------------------------\u001b[0m",
      "\u001b[1;31mValueError\u001b[0m                                Traceback (most recent call last)",
      "\u001b[1;32m~\\AppData\\Local\\ESRI\\conda\\envs\\arcgis\\lib\\site-packages\\pandas\\core\\generic.py\u001b[0m in \u001b[0;36m__nonzero__\u001b[1;34m(self)\u001b[0m\n\u001b[0;32m   1574\u001b[0m         raise ValueError(\"The truth value of a {0} is ambiguous. \"\n\u001b[0;32m   1575\u001b[0m                          \u001b[1;34m\"Use a.empty, a.bool(), a.item(), a.any() or a.all().\"\u001b[0m\u001b[1;33m\u001b[0m\u001b[0m\n\u001b[1;32m-> 1576\u001b[1;33m                          .format(self.__class__.__name__))\n\u001b[0m\u001b[0;32m   1577\u001b[0m \u001b[1;33m\u001b[0m\u001b[0m\n\u001b[0;32m   1578\u001b[0m     \u001b[0m__bool__\u001b[0m \u001b[1;33m=\u001b[0m \u001b[0m__nonzero__\u001b[0m\u001b[1;33m\u001b[0m\u001b[0m\n",
      "\u001b[1;31mValueError\u001b[0m: The truth value of a DataFrame is ambiguous. Use a.empty, a.bool(), a.item(), a.any() or a.all()."
     ]
    },
    {
     "data": {
      "text/plain": [
       "'D:\\\\projects\\\\geoai-retail\\\\data\\\\interim\\\\interim.gdb\\\\bg_pop_cent'"
      ]
     },
     "execution_count": 28,
     "metadata": {},
     "output_type": "execute_result"
    }
   ],
   "source": [
    "bg_cent_df.spatial.to_featureclass(os.path.join(gdb_int, 'bg_pop_cent'))"
   ]
  },
  {
   "cell_type": "code",
   "execution_count": null,
   "metadata": {},
   "outputs": [],
   "source": []
  }
 ],
 "metadata": {
  "kernelspec": {
   "display_name": "Python 3",
   "language": "python",
   "name": "python3"
  },
  "language_info": {
   "codemirror_mode": {
    "name": "ipython",
    "version": 3
   },
   "file_extension": ".py",
   "mimetype": "text/x-python",
   "name": "python",
   "nbconvert_exporter": "python",
   "pygments_lexer": "ipython3",
   "version": "3.6.6"
  }
 },
 "nbformat": 4,
 "nbformat_minor": 2
}
