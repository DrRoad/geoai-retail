{
 "cells": [
  {
   "cell_type": "code",
   "execution_count": 2,
   "metadata": {},
   "outputs": [],
   "source": [
    "import pandas as pd\n",
    "from arcgis.features import GeoAccessor\n",
    "from arcgis.geometry import Geometry\n",
    "import arcpy\n",
    "import os"
   ]
  },
  {
   "cell_type": "code",
   "execution_count": 3,
   "metadata": {},
   "outputs": [],
   "source": [
    "human_movement_origins_fc = '..\\\\data\\\\interim\\\\interim.gdb\\\\trips_raw'\n",
    "geographic_area_fc = '..\\\\data\\\\raw\\\\raw.gdb\\\\blocks'\n",
    "gdb = '../data/interim/interim.gdb'"
   ]
  },
  {
   "cell_type": "code",
   "execution_count": 4,
   "metadata": {},
   "outputs": [
    {
     "data": {
      "text/plain": [
       "'..\\\\data\\\\interim\\\\interim.gdb\\\\hmn_mvmt_intersect'"
      ]
     },
     "execution_count": 4,
     "metadata": {},
     "output_type": "execute_result"
    }
   ],
   "source": [
    "hmn_mvmt_intersect = arcpy.analysis.Intersect([human_movement_origins_fc, geographic_area_fc], os.path.join(gdb, 'hmn_mvmt_intersect'))[0]\n",
    "hmn_mvmt_intersect"
   ]
  },
  {
   "cell_type": "code",
   "execution_count": 26,
   "metadata": {},
   "outputs": [
    {
     "data": {
      "text/html": [
       "<div>\n",
       "<style scoped>\n",
       "    .dataframe tbody tr th:only-of-type {\n",
       "        vertical-align: middle;\n",
       "    }\n",
       "\n",
       "    .dataframe tbody tr th {\n",
       "        vertical-align: top;\n",
       "    }\n",
       "\n",
       "    .dataframe thead th {\n",
       "        text-align: right;\n",
       "    }\n",
       "</style>\n",
       "<table border=\"1\" class=\"dataframe\">\n",
       "  <thead>\n",
       "    <tr style=\"text-align: right;\">\n",
       "      <th></th>\n",
       "      <th>OBJECTID</th>\n",
       "      <th>FID_trips_raw</th>\n",
       "      <th>travel_distance_miles</th>\n",
       "      <th>travel_time_minutes</th>\n",
       "      <th>store_locnum</th>\n",
       "      <th>FID_block_groups</th>\n",
       "      <th>ID</th>\n",
       "      <th>NAME</th>\n",
       "      <th>SHAPE</th>\n",
       "    </tr>\n",
       "  </thead>\n",
       "  <tbody>\n",
       "    <tr>\n",
       "      <th>0</th>\n",
       "      <td>1</td>\n",
       "      <td>59437</td>\n",
       "      <td>261.898556</td>\n",
       "      <td>270.266667</td>\n",
       "      <td>718176685</td>\n",
       "      <td>153</td>\n",
       "      <td>060930004001</td>\n",
       "      <td>060930004.001</td>\n",
       "      <td>{\"x\": -122.56721299999998, \"y\": 41.86095800000...</td>\n",
       "    </tr>\n",
       "    <tr>\n",
       "      <th>1</th>\n",
       "      <td>2</td>\n",
       "      <td>583754</td>\n",
       "      <td>311.607615</td>\n",
       "      <td>272.600000</td>\n",
       "      <td>219649035</td>\n",
       "      <td>153</td>\n",
       "      <td>060930004001</td>\n",
       "      <td>060930004.001</td>\n",
       "      <td>{\"x\": -122.56785399999995, \"y\": 41.90621900000...</td>\n",
       "    </tr>\n",
       "    <tr>\n",
       "      <th>2</th>\n",
       "      <td>3</td>\n",
       "      <td>626251</td>\n",
       "      <td>311.607615</td>\n",
       "      <td>272.600000</td>\n",
       "      <td>723838910</td>\n",
       "      <td>153</td>\n",
       "      <td>060930004001</td>\n",
       "      <td>060930004.001</td>\n",
       "      <td>{\"x\": -122.56785399999995, \"y\": 41.90621900000...</td>\n",
       "    </tr>\n",
       "    <tr>\n",
       "      <th>3</th>\n",
       "      <td>4</td>\n",
       "      <td>568161</td>\n",
       "      <td>271.754121</td>\n",
       "      <td>269.116667</td>\n",
       "      <td>403048346</td>\n",
       "      <td>89</td>\n",
       "      <td>410333616007</td>\n",
       "      <td>410333616.007</td>\n",
       "      <td>{\"x\": -123.71685499999995, \"y\": 42.05008500000...</td>\n",
       "    </tr>\n",
       "    <tr>\n",
       "      <th>4</th>\n",
       "      <td>5</td>\n",
       "      <td>680059</td>\n",
       "      <td>271.754121</td>\n",
       "      <td>269.116667</td>\n",
       "      <td>970020814</td>\n",
       "      <td>89</td>\n",
       "      <td>410333616007</td>\n",
       "      <td>410333616.007</td>\n",
       "      <td>{\"x\": -123.71685499999995, \"y\": 42.05008500000...</td>\n",
       "    </tr>\n",
       "  </tbody>\n",
       "</table>\n",
       "</div>"
      ],
      "text/plain": [
       "   OBJECTID  FID_trips_raw  travel_distance_miles  travel_time_minutes  \\\n",
       "0         1          59437             261.898556           270.266667   \n",
       "1         2         583754             311.607615           272.600000   \n",
       "2         3         626251             311.607615           272.600000   \n",
       "3         4         568161             271.754121           269.116667   \n",
       "4         5         680059             271.754121           269.116667   \n",
       "\n",
       "   store_locnum  FID_block_groups            ID           NAME  \\\n",
       "0     718176685               153  060930004001  060930004.001   \n",
       "1     219649035               153  060930004001  060930004.001   \n",
       "2     723838910               153  060930004001  060930004.001   \n",
       "3     403048346                89  410333616007  410333616.007   \n",
       "4     970020814                89  410333616007  410333616.007   \n",
       "\n",
       "                                               SHAPE  \n",
       "0  {\"x\": -122.56721299999998, \"y\": 41.86095800000...  \n",
       "1  {\"x\": -122.56785399999995, \"y\": 41.90621900000...  \n",
       "2  {\"x\": -122.56785399999995, \"y\": 41.90621900000...  \n",
       "3  {\"x\": -123.71685499999995, \"y\": 42.05008500000...  \n",
       "4  {\"x\": -123.71685499999995, \"y\": 42.05008500000...  "
      ]
     },
     "execution_count": 26,
     "metadata": {},
     "output_type": "execute_result"
    }
   ],
   "source": [
    "df_int = GeoAccessor.from_featureclass(hmn_mvmt_intersect)\n",
    "df_int.head()"
   ]
  },
  {
   "cell_type": "code",
   "execution_count": 30,
   "metadata": {},
   "outputs": [],
   "source": [
    "df_int = df_int[['travel_distance_miles', 'travel_time_minutes', 'store_locnum', 'ID', 'SHAPE']].copy()"
   ]
  },
  {
   "cell_type": "code",
   "execution_count": 31,
   "metadata": {},
   "outputs": [
    {
     "data": {
      "text/html": [
       "<div>\n",
       "<style scoped>\n",
       "    .dataframe tbody tr th:only-of-type {\n",
       "        vertical-align: middle;\n",
       "    }\n",
       "\n",
       "    .dataframe tbody tr th {\n",
       "        vertical-align: top;\n",
       "    }\n",
       "\n",
       "    .dataframe thead th {\n",
       "        text-align: right;\n",
       "    }\n",
       "</style>\n",
       "<table border=\"1\" class=\"dataframe\">\n",
       "  <thead>\n",
       "    <tr style=\"text-align: right;\">\n",
       "      <th></th>\n",
       "      <th>trip_distance_miles</th>\n",
       "      <th>trip_time_minutes</th>\n",
       "      <th>destination_id</th>\n",
       "      <th>origin_id</th>\n",
       "      <th>SHAPE</th>\n",
       "    </tr>\n",
       "  </thead>\n",
       "  <tbody>\n",
       "    <tr>\n",
       "      <th>0</th>\n",
       "      <td>261.898556</td>\n",
       "      <td>270.266667</td>\n",
       "      <td>718176685</td>\n",
       "      <td>060930004001</td>\n",
       "      <td>{\"x\": -122.56721299999998, \"y\": 41.86095800000...</td>\n",
       "    </tr>\n",
       "    <tr>\n",
       "      <th>1</th>\n",
       "      <td>311.607615</td>\n",
       "      <td>272.600000</td>\n",
       "      <td>219649035</td>\n",
       "      <td>060930004001</td>\n",
       "      <td>{\"x\": -122.56785399999995, \"y\": 41.90621900000...</td>\n",
       "    </tr>\n",
       "    <tr>\n",
       "      <th>2</th>\n",
       "      <td>311.607615</td>\n",
       "      <td>272.600000</td>\n",
       "      <td>723838910</td>\n",
       "      <td>060930004001</td>\n",
       "      <td>{\"x\": -122.56785399999995, \"y\": 41.90621900000...</td>\n",
       "    </tr>\n",
       "    <tr>\n",
       "      <th>3</th>\n",
       "      <td>271.754121</td>\n",
       "      <td>269.116667</td>\n",
       "      <td>403048346</td>\n",
       "      <td>410333616007</td>\n",
       "      <td>{\"x\": -123.71685499999995, \"y\": 42.05008500000...</td>\n",
       "    </tr>\n",
       "    <tr>\n",
       "      <th>4</th>\n",
       "      <td>271.754121</td>\n",
       "      <td>269.116667</td>\n",
       "      <td>970020814</td>\n",
       "      <td>410333616007</td>\n",
       "      <td>{\"x\": -123.71685499999995, \"y\": 42.05008500000...</td>\n",
       "    </tr>\n",
       "  </tbody>\n",
       "</table>\n",
       "</div>"
      ],
      "text/plain": [
       "   trip_distance_miles  trip_time_minutes  destination_id     origin_id  \\\n",
       "0           261.898556         270.266667       718176685  060930004001   \n",
       "1           311.607615         272.600000       219649035  060930004001   \n",
       "2           311.607615         272.600000       723838910  060930004001   \n",
       "3           271.754121         269.116667       403048346  410333616007   \n",
       "4           271.754121         269.116667       970020814  410333616007   \n",
       "\n",
       "                                               SHAPE  \n",
       "0  {\"x\": -122.56721299999998, \"y\": 41.86095800000...  \n",
       "1  {\"x\": -122.56785399999995, \"y\": 41.90621900000...  \n",
       "2  {\"x\": -122.56785399999995, \"y\": 41.90621900000...  \n",
       "3  {\"x\": -123.71685499999995, \"y\": 42.05008500000...  \n",
       "4  {\"x\": -123.71685499999995, \"y\": 42.05008500000...  "
      ]
     },
     "execution_count": 31,
     "metadata": {},
     "output_type": "execute_result"
    }
   ],
   "source": [
    "df_int.columns = ['trip_distance_miles', 'trip_time_minutes', 'destination_id', 'origin_id', 'SHAPE']\n",
    "df_int.head()"
   ]
  },
  {
   "cell_type": "code",
   "execution_count": 32,
   "metadata": {},
   "outputs": [
    {
     "data": {
      "text/plain": [
       "'D:\\\\projects\\\\geoai-retail\\\\data\\\\interim\\\\interim.gdb\\\\trips'"
      ]
     },
     "execution_count": 32,
     "metadata": {},
     "output_type": "execute_result"
    }
   ],
   "source": [
    "df_int.spatial.to_featureclass('D:\\\\projects\\\\geoai-retail\\\\data\\\\interim\\\\interim.gdb\\\\trips')"
   ]
  },
  {
   "cell_type": "code",
   "execution_count": 44,
   "metadata": {},
   "outputs": [
    {
     "data": {
      "text/html": [
       "<div>\n",
       "<style scoped>\n",
       "    .dataframe tbody tr th:only-of-type {\n",
       "        vertical-align: middle;\n",
       "    }\n",
       "\n",
       "    .dataframe tbody tr th {\n",
       "        vertical-align: top;\n",
       "    }\n",
       "\n",
       "    .dataframe thead th {\n",
       "        text-align: right;\n",
       "    }\n",
       "</style>\n",
       "<table border=\"1\" class=\"dataframe\">\n",
       "  <thead>\n",
       "    <tr style=\"text-align: right;\">\n",
       "      <th></th>\n",
       "      <th></th>\n",
       "      <th>count</th>\n",
       "    </tr>\n",
       "    <tr>\n",
       "      <th>destination_id</th>\n",
       "      <th>origin_id</th>\n",
       "      <th></th>\n",
       "    </tr>\n",
       "  </thead>\n",
       "  <tbody>\n",
       "    <tr>\n",
       "      <th rowspan=\"5\" valign=\"top\">105830012</th>\n",
       "      <th>410019502002</th>\n",
       "      <td>1</td>\n",
       "    </tr>\n",
       "    <tr>\n",
       "      <th>410050201003</th>\n",
       "      <td>4</td>\n",
       "    </tr>\n",
       "    <tr>\n",
       "      <th>410050202003</th>\n",
       "      <td>1</td>\n",
       "    </tr>\n",
       "    <tr>\n",
       "      <th>410050202004</th>\n",
       "      <td>3</td>\n",
       "    </tr>\n",
       "    <tr>\n",
       "      <th>410050203021</th>\n",
       "      <td>7</td>\n",
       "    </tr>\n",
       "  </tbody>\n",
       "</table>\n",
       "</div>"
      ],
      "text/plain": [
       "                             count\n",
       "destination_id origin_id          \n",
       "105830012      410019502002      1\n",
       "               410050201003      4\n",
       "               410050202003      1\n",
       "               410050202004      3\n",
       "               410050203021      7"
      ]
     },
     "execution_count": 44,
     "metadata": {},
     "output_type": "execute_result"
    }
   ],
   "source": [
    "df_count = df_int[['destination_id', 'origin_id', 'SHAPE']].groupby(['destination_id', 'origin_id']).count()\n",
    "df_count.columns = ['count']\n",
    "df_count.head()"
   ]
  },
  {
   "cell_type": "code",
   "execution_count": 45,
   "metadata": {},
   "outputs": [
    {
     "data": {
      "text/html": [
       "<div>\n",
       "<style scoped>\n",
       "    .dataframe tbody tr th:only-of-type {\n",
       "        vertical-align: middle;\n",
       "    }\n",
       "\n",
       "    .dataframe tbody tr th {\n",
       "        vertical-align: top;\n",
       "    }\n",
       "\n",
       "    .dataframe thead th {\n",
       "        text-align: right;\n",
       "    }\n",
       "</style>\n",
       "<table border=\"1\" class=\"dataframe\">\n",
       "  <thead>\n",
       "    <tr style=\"text-align: right;\">\n",
       "      <th></th>\n",
       "      <th></th>\n",
       "      <th>trip_distance_miles</th>\n",
       "      <th>trip_time_minutes</th>\n",
       "    </tr>\n",
       "    <tr>\n",
       "      <th>destination_id</th>\n",
       "      <th>origin_id</th>\n",
       "      <th></th>\n",
       "      <th></th>\n",
       "    </tr>\n",
       "  </thead>\n",
       "  <tbody>\n",
       "    <tr>\n",
       "      <th rowspan=\"5\" valign=\"top\">105830012</th>\n",
       "      <th>410019502002</th>\n",
       "      <td>304.353730</td>\n",
       "      <td>276.283333</td>\n",
       "    </tr>\n",
       "    <tr>\n",
       "      <th>410050201003</th>\n",
       "      <td>10.867934</td>\n",
       "      <td>26.316667</td>\n",
       "    </tr>\n",
       "    <tr>\n",
       "      <th>410050202003</th>\n",
       "      <td>10.502413</td>\n",
       "      <td>28.416667</td>\n",
       "    </tr>\n",
       "    <tr>\n",
       "      <th>410050202004</th>\n",
       "      <td>12.473609</td>\n",
       "      <td>35.594444</td>\n",
       "    </tr>\n",
       "    <tr>\n",
       "      <th>410050203021</th>\n",
       "      <td>17.355868</td>\n",
       "      <td>30.323810</td>\n",
       "    </tr>\n",
       "  </tbody>\n",
       "</table>\n",
       "</div>"
      ],
      "text/plain": [
       "                             trip_distance_miles  trip_time_minutes\n",
       "destination_id origin_id                                           \n",
       "105830012      410019502002           304.353730         276.283333\n",
       "               410050201003            10.867934          26.316667\n",
       "               410050202003            10.502413          28.416667\n",
       "               410050202004            12.473609          35.594444\n",
       "               410050203021            17.355868          30.323810"
      ]
     },
     "execution_count": 45,
     "metadata": {},
     "output_type": "execute_result"
    }
   ],
   "source": [
    "df_mean = df_int[['destination_id', 'origin_id', 'trip_distance_miles', 'trip_time_minutes']].groupby(['destination_id', 'origin_id']).mean()\n",
    "df_mean.head()"
   ]
  },
  {
   "cell_type": "code",
   "execution_count": 46,
   "metadata": {},
   "outputs": [],
   "source": [
    "df_stats = df_count.join(df_mean)"
   ]
  },
  {
   "cell_type": "code",
   "execution_count": 47,
   "metadata": {},
   "outputs": [
    {
     "data": {
      "text/html": [
       "<div>\n",
       "<style scoped>\n",
       "    .dataframe tbody tr th:only-of-type {\n",
       "        vertical-align: middle;\n",
       "    }\n",
       "\n",
       "    .dataframe tbody tr th {\n",
       "        vertical-align: top;\n",
       "    }\n",
       "\n",
       "    .dataframe thead th {\n",
       "        text-align: right;\n",
       "    }\n",
       "</style>\n",
       "<table border=\"1\" class=\"dataframe\">\n",
       "  <thead>\n",
       "    <tr style=\"text-align: right;\">\n",
       "      <th></th>\n",
       "      <th>destination_id</th>\n",
       "      <th>origin_id</th>\n",
       "      <th>count</th>\n",
       "      <th>trip_distance_miles</th>\n",
       "      <th>trip_time_minutes</th>\n",
       "    </tr>\n",
       "  </thead>\n",
       "  <tbody>\n",
       "    <tr>\n",
       "      <th>0</th>\n",
       "      <td>105830012</td>\n",
       "      <td>410019502002</td>\n",
       "      <td>1</td>\n",
       "      <td>304.353730</td>\n",
       "      <td>276.283333</td>\n",
       "    </tr>\n",
       "    <tr>\n",
       "      <th>1</th>\n",
       "      <td>105830012</td>\n",
       "      <td>410050201003</td>\n",
       "      <td>4</td>\n",
       "      <td>10.867934</td>\n",
       "      <td>26.316667</td>\n",
       "    </tr>\n",
       "    <tr>\n",
       "      <th>2</th>\n",
       "      <td>105830012</td>\n",
       "      <td>410050202003</td>\n",
       "      <td>1</td>\n",
       "      <td>10.502413</td>\n",
       "      <td>28.416667</td>\n",
       "    </tr>\n",
       "    <tr>\n",
       "      <th>3</th>\n",
       "      <td>105830012</td>\n",
       "      <td>410050202004</td>\n",
       "      <td>3</td>\n",
       "      <td>12.473609</td>\n",
       "      <td>35.594444</td>\n",
       "    </tr>\n",
       "    <tr>\n",
       "      <th>4</th>\n",
       "      <td>105830012</td>\n",
       "      <td>410050203021</td>\n",
       "      <td>7</td>\n",
       "      <td>17.355868</td>\n",
       "      <td>30.323810</td>\n",
       "    </tr>\n",
       "  </tbody>\n",
       "</table>\n",
       "</div>"
      ],
      "text/plain": [
       "   destination_id     origin_id  count  trip_distance_miles  trip_time_minutes\n",
       "0       105830012  410019502002      1           304.353730         276.283333\n",
       "1       105830012  410050201003      4            10.867934          26.316667\n",
       "2       105830012  410050202003      1            10.502413          28.416667\n",
       "3       105830012  410050202004      3            12.473609          35.594444\n",
       "4       105830012  410050203021      7            17.355868          30.323810"
      ]
     },
     "execution_count": 47,
     "metadata": {},
     "output_type": "execute_result"
    }
   ],
   "source": [
    "df_stats.reset_index(inplace=True)\n",
    "df_stats.head()"
   ]
  },
  {
   "cell_type": "code",
   "execution_count": 48,
   "metadata": {},
   "outputs": [
    {
     "data": {
      "text/plain": [
       "'D:\\\\projects\\\\geoai-retail\\\\data\\\\interim\\\\interim.gdb\\\\trips_stats'"
      ]
     },
     "execution_count": 48,
     "metadata": {},
     "output_type": "execute_result"
    }
   ],
   "source": [
    "df_stats.spatial.to_table('D:\\\\projects\\\\geoai-retail\\\\data\\\\interim\\\\interim.gdb\\\\trips_stats')"
   ]
  },
  {
   "cell_type": "code",
   "execution_count": 49,
   "metadata": {},
   "outputs": [
    {
     "data": {
      "text/plain": [
       "9.651212043375"
      ]
     },
     "execution_count": 49,
     "metadata": {},
     "output_type": "execute_result"
    }
   ],
   "source": [
    "df_stats.trip_distance_miles.median()"
   ]
  },
  {
   "cell_type": "code",
   "execution_count": null,
   "metadata": {},
   "outputs": [],
   "source": []
  }
 ],
 "metadata": {
  "kernelspec": {
   "display_name": "Python 3",
   "language": "python",
   "name": "python3"
  },
  "language_info": {
   "codemirror_mode": {
    "name": "ipython",
    "version": 3
   },
   "file_extension": ".py",
   "mimetype": "text/x-python",
   "name": "python",
   "nbconvert_exporter": "python",
   "pygments_lexer": "ipython3",
   "version": "3.6.6"
  }
 },
 "nbformat": 4,
 "nbformat_minor": 2
}
