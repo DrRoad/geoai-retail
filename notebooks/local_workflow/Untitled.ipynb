{
 "cells": [
  {
   "cell_type": "code",
   "execution_count": 1,
   "metadata": {},
   "outputs": [],
   "source": [
    "import sys\n",
    "sys.path.append('../../src')\n",
    "\n",
    "from arcgis.geometry import Point\n",
    "import pandas as pd\n",
    "\n",
    "from geoai_retail import analysis"
   ]
  },
  {
   "cell_type": "code",
   "execution_count": 2,
   "metadata": {},
   "outputs": [],
   "source": [
    "origins = r'D:\\projects\\geoai-retail\\data\\raw\\raw.gdb\\block_groups'\n",
    "origin_id_field = r'ID'\n",
    "destinations = r'D:\\projects\\geoai-retail\\data\\raw\\raw.gdb\\coffee'\n",
    "destination_id_field = r'LOCNUM'\n",
    "closest_table = 'D:\\projects\\geoai-retail\\data\\interim\\closest.csv'\n",
    "new_destination = Point({\"x\":-122.6950004421445,\"y\":45.577250341602408,\"spatialReference\":{\"wkid\":4326,\"latestWkid\":4326}})\n",
    "remove_destination_id = 705626027\n",
    "origin_weighting_points = None"
   ]
  },
  {
   "cell_type": "code",
   "execution_count": 3,
   "metadata": {},
   "outputs": [
    {
     "name": "stdout",
     "output_type": "stream",
     "text": [
      "Wall time: 45.1 s\n"
     ]
    }
   ],
   "source": [
    "%%time\n",
    "origin_df_add = analysis.get_add_new_closest_dataframe(origins, origin_id_field, destinations, destination_id_field, closest_table, new_destination)"
   ]
  },
  {
   "cell_type": "code",
   "execution_count": 4,
   "metadata": {},
   "outputs": [
    {
     "name": "stdout",
     "output_type": "stream",
     "text": [
      "Wall time: 42.2 s\n"
     ]
    }
   ],
   "source": [
    "%%time\n",
    "origin_df_remove = analysis.get_remove_existing_closest_dataframe(origins, origin_id_field, destinations, destination_id_field, closest_table, remove_destination_id)"
   ]
  },
  {
   "cell_type": "code",
   "execution_count": null,
   "metadata": {},
   "outputs": [],
   "source": []
  }
 ],
 "metadata": {
  "kernelspec": {
   "display_name": "Python 3",
   "language": "python",
   "name": "python3"
  },
  "language_info": {
   "codemirror_mode": {
    "name": "ipython",
    "version": 3
   },
   "file_extension": ".py",
   "mimetype": "text/x-python",
   "name": "python",
   "nbconvert_exporter": "python",
   "pygments_lexer": "ipython3",
   "version": "3.6.8"
  }
 },
 "nbformat": 4,
 "nbformat_minor": 2
}
