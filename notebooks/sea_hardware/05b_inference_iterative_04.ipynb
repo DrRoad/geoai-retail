{
 "cells": [
  {
   "cell_type": "code",
   "execution_count": 1,
   "metadata": {},
   "outputs": [],
   "source": [
    "import itertools\n",
    "import os\n",
    "from pathlib import Path\n",
    "import pickle\n",
    "import sys\n",
    "\n",
    "from arcgis.gis import GIS\n",
    "from arcgis.features import GeoAccessor\n",
    "from arcgis.geometry import Geometry\n",
    "import pandas as pd\n",
    "\n",
    "sys.path.append('../../src')\n",
    "from geoai_retail.analysis import get_add_new_closest_dataframe\n",
    "\n",
    "sys.path.append('../')\n",
    "import config\n",
    "\n",
    "%load_ext autoreload\n",
    "%autoreload 2"
   ]
  },
  {
   "cell_type": "code",
   "execution_count": 27,
   "metadata": {},
   "outputs": [],
   "source": [
    "data = Path(os.path.abspath('../../data'))\n",
    "interim_dir = data/'interim'\n",
    "interim_gdb = interim_dir/'interim.gdb'\n",
    "raw_dir = data/'raw'\n",
    "raw_gdb = raw_dir/'raw.gdb'\n",
    "\n",
    "origin_fc = str(raw_gdb/'sea_block_group')\n",
    "origin_id_fld = 'ID'\n",
    "\n",
    "dest_fc = str(raw_gdb/'sea_ace')\n",
    "dest_id_fld = 'LOCNUM'\n",
    "\n",
    "comp_fc = raw_gdb/'sea_ace_comp'\n",
    "comp_id_fld = 'LOCNUM'\n",
    "\n",
    "real_estate_fc = raw_gdb/'real_estate_hex'\n",
    "real_estate_id_fld = 'GRID_ID'\n",
    "\n",
    "closest_brand = interim_dir/'closest_store.csv'\n",
    "closest_comp = interim_dir/'closest_competition.csv'\n",
    "origin_demographics = interim_dir/'origin_enrich_all.csv'\n",
    "inrix_trips = interim_dir/'cust_count_inrix.csv'\n",
    "training_data = interim_dir/'training_data.csv'\n",
    "\n",
    "affected_csv = interim_dir/'ace_affected_04.csv'"
   ]
  },
  {
   "cell_type": "code",
   "execution_count": 3,
   "metadata": {},
   "outputs": [
    {
     "data": {
      "text/html": [
       "<div>\n",
       "<style scoped>\n",
       "    .dataframe tbody tr th:only-of-type {\n",
       "        vertical-align: middle;\n",
       "    }\n",
       "\n",
       "    .dataframe tbody tr th {\n",
       "        vertical-align: top;\n",
       "    }\n",
       "\n",
       "    .dataframe thead th {\n",
       "        text-align: right;\n",
       "    }\n",
       "</style>\n",
       "<table border=\"1\" class=\"dataframe\">\n",
       "  <thead>\n",
       "    <tr style=\"text-align: right;\">\n",
       "      <th></th>\n",
       "      <th>OBJECTID</th>\n",
       "      <th>ID</th>\n",
       "      <th>NAME</th>\n",
       "      <th>SHAPE</th>\n",
       "    </tr>\n",
       "  </thead>\n",
       "  <tbody>\n",
       "    <tr>\n",
       "      <th>0</th>\n",
       "      <td>1</td>\n",
       "      <td>530530701003</td>\n",
       "      <td>530530701.003</td>\n",
       "      <td>{\"rings\": [[[-122.06627999999995, 47.076520000...</td>\n",
       "    </tr>\n",
       "    <tr>\n",
       "      <th>1</th>\n",
       "      <td>2</td>\n",
       "      <td>530530714071</td>\n",
       "      <td>530530714.071</td>\n",
       "      <td>{\"rings\": [[[-122.34031999999996, 47.071510000...</td>\n",
       "    </tr>\n",
       "    <tr>\n",
       "      <th>2</th>\n",
       "      <td>3</td>\n",
       "      <td>530530714072</td>\n",
       "      <td>530530714.072</td>\n",
       "      <td>{\"rings\": [[[-122.35767999999996, 47.067370000...</td>\n",
       "    </tr>\n",
       "    <tr>\n",
       "      <th>3</th>\n",
       "      <td>4</td>\n",
       "      <td>530530714073</td>\n",
       "      <td>530530714.073</td>\n",
       "      <td>{\"rings\": [[[-122.36847999999998, 47.067630000...</td>\n",
       "    </tr>\n",
       "    <tr>\n",
       "      <th>4</th>\n",
       "      <td>5</td>\n",
       "      <td>530530714112</td>\n",
       "      <td>530530714.112</td>\n",
       "      <td>{\"rings\": [[[-122.41108999999994, 47.071690000...</td>\n",
       "    </tr>\n",
       "  </tbody>\n",
       "</table>\n",
       "</div>"
      ],
      "text/plain": [
       "   OBJECTID            ID           NAME  \\\n",
       "0         1  530530701003  530530701.003   \n",
       "1         2  530530714071  530530714.071   \n",
       "2         3  530530714072  530530714.072   \n",
       "3         4  530530714073  530530714.073   \n",
       "4         5  530530714112  530530714.112   \n",
       "\n",
       "                                               SHAPE  \n",
       "0  {\"rings\": [[[-122.06627999999995, 47.076520000...  \n",
       "1  {\"rings\": [[[-122.34031999999996, 47.071510000...  \n",
       "2  {\"rings\": [[[-122.35767999999996, 47.067370000...  \n",
       "3  {\"rings\": [[[-122.36847999999998, 47.067630000...  \n",
       "4  {\"rings\": [[[-122.41108999999994, 47.071690000...  "
      ]
     },
     "execution_count": 3,
     "metadata": {},
     "output_type": "execute_result"
    }
   ],
   "source": [
    "origin_df = GeoAccessor.from_featureclass(str(origin_fc))\n",
    "origin_df.head()"
   ]
  },
  {
   "cell_type": "code",
   "execution_count": 4,
   "metadata": {},
   "outputs": [
    {
     "name": "stdout",
     "output_type": "stream",
     "text": [
      "[21:53:07] WARNING: C:/Jenkins/workspace/xgboost-win64_release_0.90/src/objective/regression_obj.cu:152: reg:linear is now deprecated in favor of reg:squarederror.\n"
     ]
    },
    {
     "data": {
      "text/plain": [
       "XGBRegressor(base_score=0.5, booster='gbtree', colsample_bylevel=1,\n",
       "             colsample_bynode=1, colsample_bytree=1, gamma=0,\n",
       "             importance_type='gain', learning_rate=0.1, max_delta_step=0,\n",
       "             max_depth=3, min_child_weight=1, missing=nan, n_estimators=1000,\n",
       "             n_jobs=1, nthread=None, objective='reg:linear', random_state=0,\n",
       "             reg_alpha=0, reg_lambda=1, scale_pos_weight=1, seed=None,\n",
       "             silent=None, subsample=1, verbosity=1)"
      ]
     },
     "execution_count": 4,
     "metadata": {},
     "output_type": "execute_result"
    }
   ],
   "source": [
    "xgr = pickle.load(open('../../models/sea_ace_xgr_stage01.pkl', 'rb'))\n",
    "xgr"
   ]
  },
  {
   "cell_type": "code",
   "execution_count": 5,
   "metadata": {},
   "outputs": [],
   "source": [
    "dest_df = GeoAccessor.from_featureclass(str(dest_fc))"
   ]
  },
  {
   "cell_type": "code",
   "execution_count": 6,
   "metadata": {},
   "outputs": [],
   "source": [
    "master_df = pd.read_csv(training_data)\n",
    "master_df[origin_id_fld] = master_df[origin_id_fld].astype('int64')"
   ]
  },
  {
   "cell_type": "code",
   "execution_count": 7,
   "metadata": {},
   "outputs": [],
   "source": [
    "str_cols = master_df.select_dtypes('object').columns\n",
    "\n",
    "factor_col_lst = [c for c in master_df.columns if\n",
    "                  not c.startswith('destination_id') and\n",
    "                  not c == origin_id_fld and\n",
    "                  not c.endswith('_FY') and\n",
    "                  not c.startswith('trip_count') and\n",
    "                  not c in str_cols]\n",
    "label_col = 'trip_count_01'"
   ]
  },
  {
   "cell_type": "code",
   "execution_count": 8,
   "metadata": {},
   "outputs": [],
   "source": [
    "from sklearn.preprocessing import StandardScaler\n",
    "std_sclr = StandardScaler()"
   ]
  },
  {
   "cell_type": "code",
   "execution_count": 10,
   "metadata": {},
   "outputs": [],
   "source": [
    "def get_new_tuple(row, real_estate_id_fld):\n",
    "    new_location_id = int(row[real_estate_id_fld])\n",
    "    cnt_coords = row['SHAPE'].centroid\n",
    "    cnt_geom = Geometry({'x': cnt_coords[0], 'y': cnt_coords[1], 'spatialReference': real_estate_df.spatial.sr})\n",
    "    return cnt_geom, new_location_id\n",
    "\n",
    "def get_affected_df(input_tuple):\n",
    "    \n",
    "    cnt_geom, new_location_id = input_tuple\n",
    "    \n",
    "    # get a dataframe of all potential rebalanced areas\n",
    "    rebal_df = get_add_new_closest_dataframe(\n",
    "        origins=origin_df,\n",
    "        origin_id_field=origin_id_fld,\n",
    "        destinations=dest_df,\n",
    "        destination_id_field=dest_id_fld,\n",
    "        closest_table=closest_brand,\n",
    "        new_destination=cnt_geom,\n",
    "        gis=ent_gis\n",
    "    )\n",
    "    \n",
    "    # while we soved way broader than possilby needed, we check and only keep changed rows\n",
    "    dest_id_cols = [col for col in rebal_df.columns if col.startswith('destination_id')]\n",
    "    dest_id_arr = dest_df[dest_id_fld].unique()\n",
    "    new_rebal_origin_ids = pd.concat([rebal_df[~rebal_df[dest_col].isin(dest_id_arr)]['origin_id'] for dest_col in dest_id_cols]).unique()\n",
    "    rebal_df = rebal_df[rebal_df['origin_id'].isin(new_rebal_origin_ids)]\n",
    "\n",
    "    # cast the origin id to integer to avoid data type issues\n",
    "    rebal_df['origin_id'] = rebal_df['origin_id'].astype('int64')\n",
    "\n",
    "    # get the affected areas in the master dataframe, the one with all the factors\n",
    "    affected_master = master_df[master_df['ID'].isin(rebal_df['origin_id'].unique())].copy()\n",
    "\n",
    "    # if the columns are not in the new rebalanced dataframe, create a dataframe of values to keep\n",
    "    keep_cols = [col for col in master_df.columns if not col in rebal_df]\n",
    "    affected_keep = affected_master[keep_cols].copy()\n",
    "    \n",
    "    # if adding a new location does not affect any of the block groups, just return none\n",
    "    if len(affected_master.index) == 0:\n",
    "        return pd.DataFrame([[new_location_id, 0.0]], columns=['new_destination_id', 'delta_01'])\n",
    "    \n",
    "    else:\n",
    "\n",
    "        # now, combine the factors data with the rebalanced data\n",
    "        affected_df = affected_keep.join(rebal_df.set_index('origin_id'), on='ID')\n",
    "\n",
    "        # infer new values for these changed areas\n",
    "        X = std_sclr.fit_transform(affected_df[factor_col_lst])\n",
    "        affected_df['predict_new_01'] = xgr.predict(X)\n",
    "\n",
    "        # now, if any values are below zero, zero them out\n",
    "        affected_df['predict_new_01'] = affected_df['predict_new_01'].apply(lambda val: 0.0 if val < 0 else val)\n",
    "\n",
    "        # calcuate a change column\n",
    "        affected_df['delta_01'] = affected_df['predict_new_01'] - affected_df['trip_count_01']\n",
    "\n",
    "        # rename the id column to be somwhat more consistent\n",
    "        affected_df.insert(0, 'origin_id', affected_df[origin_id_fld])\n",
    "        affected_df.drop('ID', axis=1, inplace=True)\n",
    "\n",
    "        # also, put the new destination unique identifier in, so results can be filtered\n",
    "        affected_df.insert(1, 'new_destination_id', int(new_location_id))\n",
    "\n",
    "        # trim down the output dataframe to just a few columns\n",
    "        out_cols = [col for col in affected_df.columns \n",
    "                    if '_id' in col or\n",
    "                    col.startswith('proximity_') or\n",
    "                    col.startswith('predict_') or \n",
    "                    col.startswith('delta_') or\n",
    "                    col.startswith('trip_count')\n",
    "                   ]\n",
    "        out_df = affected_df[out_cols].copy()\n",
    "\n",
    "        return out_df"
   ]
  },
  {
   "cell_type": "code",
   "execution_count": 11,
   "metadata": {},
   "outputs": [
    {
     "name": "stdout",
     "output_type": "stream",
     "text": [
      "object\n",
      "477\n"
     ]
    },
    {
     "data": {
      "text/html": [
       "<div>\n",
       "<style scoped>\n",
       "    .dataframe tbody tr th:only-of-type {\n",
       "        vertical-align: middle;\n",
       "    }\n",
       "\n",
       "    .dataframe tbody tr th {\n",
       "        vertical-align: top;\n",
       "    }\n",
       "\n",
       "    .dataframe thead th {\n",
       "        text-align: right;\n",
       "    }\n",
       "</style>\n",
       "<table border=\"1\" class=\"dataframe\">\n",
       "  <thead>\n",
       "    <tr style=\"text-align: right;\">\n",
       "      <th></th>\n",
       "      <th>GRID_ID</th>\n",
       "      <th>SHAPE</th>\n",
       "    </tr>\n",
       "  </thead>\n",
       "  <tbody>\n",
       "    <tr>\n",
       "      <th>1429</th>\n",
       "      <td>3053</td>\n",
       "      <td>{\"rings\": [[[-121.46326378499998, 47.864097557...</td>\n",
       "    </tr>\n",
       "    <tr>\n",
       "      <th>1430</th>\n",
       "      <td>3054</td>\n",
       "      <td>{\"rings\": [[[-121.43240685499995, 47.876048282...</td>\n",
       "    </tr>\n",
       "    <tr>\n",
       "      <th>1431</th>\n",
       "      <td>3058</td>\n",
       "      <td>{\"rings\": [[[-121.30897913399997, 47.876048282...</td>\n",
       "    </tr>\n",
       "    <tr>\n",
       "      <th>1432</th>\n",
       "      <td>3059</td>\n",
       "      <td>{\"rings\": [[[-121.27812220399994, 47.864097557...</td>\n",
       "    </tr>\n",
       "    <tr>\n",
       "      <th>1433</th>\n",
       "      <td>3089</td>\n",
       "      <td>{\"rings\": [[[-122.32725782999995, 47.887996251...</td>\n",
       "    </tr>\n",
       "  </tbody>\n",
       "</table>\n",
       "</div>"
      ],
      "text/plain": [
       "     GRID_ID                                              SHAPE\n",
       "1429    3053  {\"rings\": [[[-121.46326378499998, 47.864097557...\n",
       "1430    3054  {\"rings\": [[[-121.43240685499995, 47.876048282...\n",
       "1431    3058  {\"rings\": [[[-121.30897913399997, 47.876048282...\n",
       "1432    3059  {\"rings\": [[[-121.27812220399994, 47.864097557...\n",
       "1433    3089  {\"rings\": [[[-122.32725782999995, 47.887996251..."
      ]
     },
     "execution_count": 11,
     "metadata": {},
     "output_type": "execute_result"
    }
   ],
   "source": [
    "real_estate_df = GeoAccessor.from_featureclass(str(real_estate_fc), where_clause=\"road_reachable = 1\")\n",
    "real_estate_df = real_estate_df[[real_estate_id_fld, 'SHAPE']].copy()\n",
    "real_estate_df = real_estate_df.iloc[int(len(real_estate_df.index) * 0.75):]\n",
    "print(real_estate_df.GRID_ID.dtype)\n",
    "print(len(real_estate_df.index))\n",
    "real_estate_df.head()"
   ]
  },
  {
   "cell_type": "code",
   "execution_count": 25,
   "metadata": {},
   "outputs": [
    {
     "data": {
      "text/html": [
       "<div>\n",
       "<style scoped>\n",
       "    .dataframe tbody tr th:only-of-type {\n",
       "        vertical-align: middle;\n",
       "    }\n",
       "\n",
       "    .dataframe tbody tr th {\n",
       "        vertical-align: top;\n",
       "    }\n",
       "\n",
       "    .dataframe thead th {\n",
       "        text-align: right;\n",
       "    }\n",
       "</style>\n",
       "<table border=\"1\" class=\"dataframe\">\n",
       "  <thead>\n",
       "    <tr style=\"text-align: right;\">\n",
       "      <th></th>\n",
       "      <th>origin_id</th>\n",
       "      <th>new_destination_id</th>\n",
       "      <th>trip_count_01</th>\n",
       "      <th>trip_count_02</th>\n",
       "      <th>trip_count_03</th>\n",
       "      <th>trip_count_04</th>\n",
       "      <th>trip_count_05</th>\n",
       "      <th>trip_count_06</th>\n",
       "      <th>destination_id_01</th>\n",
       "      <th>destination_id_02</th>\n",
       "      <th>destination_id_03</th>\n",
       "      <th>destination_id_04</th>\n",
       "      <th>destination_id_05</th>\n",
       "      <th>destination_id_06</th>\n",
       "      <th>predict_new_01</th>\n",
       "      <th>delta_01</th>\n",
       "    </tr>\n",
       "  </thead>\n",
       "  <tbody>\n",
       "    <tr>\n",
       "      <th>2439</th>\n",
       "      <td>530330325001</td>\n",
       "      <td>3053</td>\n",
       "      <td>10.0</td>\n",
       "      <td>10.0</td>\n",
       "      <td>0.0</td>\n",
       "      <td>0.0</td>\n",
       "      <td>0.0</td>\n",
       "      <td>0.0</td>\n",
       "      <td>174244442</td>\n",
       "      <td>437263841</td>\n",
       "      <td>543705412</td>\n",
       "      <td>1</td>\n",
       "      <td>425454523</td>\n",
       "      <td>704849105</td>\n",
       "      <td>19.807364</td>\n",
       "      <td>9.807364</td>\n",
       "    </tr>\n",
       "    <tr>\n",
       "      <th>2457</th>\n",
       "      <td>530330328001</td>\n",
       "      <td>3053</td>\n",
       "      <td>7.0</td>\n",
       "      <td>6.0</td>\n",
       "      <td>6.0</td>\n",
       "      <td>0.0</td>\n",
       "      <td>0.0</td>\n",
       "      <td>0.0</td>\n",
       "      <td>543705412</td>\n",
       "      <td>174244442</td>\n",
       "      <td>437263841</td>\n",
       "      <td>414508330</td>\n",
       "      <td>415028239</td>\n",
       "      <td>1</td>\n",
       "      <td>40.118076</td>\n",
       "      <td>33.118076</td>\n",
       "    </tr>\n",
       "    <tr>\n",
       "      <th>2459</th>\n",
       "      <td>530330328003</td>\n",
       "      <td>3053</td>\n",
       "      <td>2.0</td>\n",
       "      <td>2.0</td>\n",
       "      <td>0.0</td>\n",
       "      <td>0.0</td>\n",
       "      <td>0.0</td>\n",
       "      <td>0.0</td>\n",
       "      <td>1</td>\n",
       "      <td>425454523</td>\n",
       "      <td>704849105</td>\n",
       "      <td>174244442</td>\n",
       "      <td>437263841</td>\n",
       "      <td>174841932</td>\n",
       "      <td>4.276295</td>\n",
       "      <td>2.276295</td>\n",
       "    </tr>\n",
       "    <tr>\n",
       "      <th>2467</th>\n",
       "      <td>530610538013</td>\n",
       "      <td>3053</td>\n",
       "      <td>3.0</td>\n",
       "      <td>3.0</td>\n",
       "      <td>0.0</td>\n",
       "      <td>0.0</td>\n",
       "      <td>0.0</td>\n",
       "      <td>0.0</td>\n",
       "      <td>1</td>\n",
       "      <td>425454523</td>\n",
       "      <td>704849105</td>\n",
       "      <td>174244442</td>\n",
       "      <td>437263841</td>\n",
       "      <td>174841932</td>\n",
       "      <td>15.534012</td>\n",
       "      <td>12.534012</td>\n",
       "    </tr>\n",
       "    <tr>\n",
       "      <th>2468</th>\n",
       "      <td>530610538021</td>\n",
       "      <td>3053</td>\n",
       "      <td>16.0</td>\n",
       "      <td>16.0</td>\n",
       "      <td>0.0</td>\n",
       "      <td>0.0</td>\n",
       "      <td>0.0</td>\n",
       "      <td>0.0</td>\n",
       "      <td>425454523</td>\n",
       "      <td>704849105</td>\n",
       "      <td>1</td>\n",
       "      <td>174841932</td>\n",
       "      <td>440370275</td>\n",
       "      <td>698680865</td>\n",
       "      <td>43.162144</td>\n",
       "      <td>27.162144</td>\n",
       "    </tr>\n",
       "  </tbody>\n",
       "</table>\n",
       "</div>"
      ],
      "text/plain": [
       "         origin_id  new_destination_id  trip_count_01  trip_count_02  \\\n",
       "2439  530330325001                3053           10.0           10.0   \n",
       "2457  530330328001                3053            7.0            6.0   \n",
       "2459  530330328003                3053            2.0            2.0   \n",
       "2467  530610538013                3053            3.0            3.0   \n",
       "2468  530610538021                3053           16.0           16.0   \n",
       "\n",
       "      trip_count_03  trip_count_04  trip_count_05  trip_count_06  \\\n",
       "2439            0.0            0.0            0.0            0.0   \n",
       "2457            6.0            0.0            0.0            0.0   \n",
       "2459            0.0            0.0            0.0            0.0   \n",
       "2467            0.0            0.0            0.0            0.0   \n",
       "2468            0.0            0.0            0.0            0.0   \n",
       "\n",
       "      destination_id_01  destination_id_02  destination_id_03  \\\n",
       "2439          174244442          437263841          543705412   \n",
       "2457          543705412          174244442          437263841   \n",
       "2459                  1          425454523          704849105   \n",
       "2467                  1          425454523          704849105   \n",
       "2468          425454523          704849105                  1   \n",
       "\n",
       "      destination_id_04  destination_id_05  destination_id_06  predict_new_01  \\\n",
       "2439                  1          425454523          704849105       19.807364   \n",
       "2457          414508330          415028239                  1       40.118076   \n",
       "2459          174244442          437263841          174841932        4.276295   \n",
       "2467          174244442          437263841          174841932       15.534012   \n",
       "2468          174841932          440370275          698680865       43.162144   \n",
       "\n",
       "       delta_01  \n",
       "2439   9.807364  \n",
       "2457  33.118076  \n",
       "2459   2.276295  \n",
       "2467  12.534012  \n",
       "2468  27.162144  "
      ]
     },
     "execution_count": 25,
     "metadata": {},
     "output_type": "execute_result"
    }
   ],
   "source": [
    "if affected_csv.exists():\n",
    "    old_affected_df = pd.read_csv(affected_csv, index_col=0)\n",
    "else:\n",
    "    old_affected_df = None\n",
    "    \n",
    "old_affected_df.head()"
   ]
  },
  {
   "cell_type": "code",
   "execution_count": 18,
   "metadata": {},
   "outputs": [
    {
     "data": {
      "text/html": [
       "GIS @ <a href=\"https://geoai-webgis-ent.bd.esri.com/portal\">https://geoai-webgis-ent.bd.esri.com/portal</a>"
      ],
      "text/plain": [
       "GIS @ https://geoai-webgis-ent.bd.esri.com/portal version:7.1"
      ]
     },
     "execution_count": 18,
     "metadata": {},
     "output_type": "execute_result"
    }
   ],
   "source": [
    "ent_gis = GIS(config.ent_url, username=config.ent_user, password=config.ent_pass)\n",
    "ent_gis"
   ]
  },
  {
   "cell_type": "code",
   "execution_count": 26,
   "metadata": {},
   "outputs": [
    {
     "name": "stderr",
     "output_type": "stream",
     "text": [
      "Location \"421027779\" in \"Facilities\" is on a soft-restricted network element.\n",
      "\n",
      "Location \"421027779\" in \"Facilities\" is on a soft-restricted network element.\n",
      "Network elements with avoid-restrictions are traversed in the output (restriction attribute names: \"Avoid Gates\").\n",
      "\n",
      "Location \"530610523011\" in \"Incidents\" is on a soft-restricted network element.\n",
      "Location \"421027779\" in \"Facilities\" is on a soft-restricted network element.\n",
      "Network elements with avoid-restrictions are traversed in the output (restriction attribute names: \"Avoid Private Roads\" \"Avoid Gates\").\n",
      "\n",
      "Location \"530610535052\" in \"Incidents\" is on a soft-restricted network element.\n",
      "Location \"530610536021\" in \"Incidents\" is on a soft-restricted network element.\n",
      "Location \"421027779\" in \"Facilities\" is on a soft-restricted network element.\n",
      "Network elements with avoid-restrictions are traversed in the output (restriction attribute names: \"Avoid Private Roads\" \"Avoid Gates\").\n",
      "\n",
      "Location \"421027779\" in \"Facilities\" is on a soft-restricted network element.\n",
      "\n"
     ]
    },
    {
     "name": "stdout",
     "output_type": "stream",
     "text": [
      "success - 3296\n"
     ]
    },
    {
     "name": "stderr",
     "output_type": "stream",
     "text": [
      "Location \"421027779\" in \"Facilities\" is on a soft-restricted network element.\n",
      "\n",
      "Location \"421027779\" in \"Facilities\" is on a soft-restricted network element.\n",
      "Network elements with avoid-restrictions are traversed in the output (restriction attribute names: \"Avoid Gates\").\n",
      "\n",
      "Location \"530610523011\" in \"Incidents\" is on a soft-restricted network element.\n",
      "Location \"421027779\" in \"Facilities\" is on a soft-restricted network element.\n",
      "Network elements with avoid-restrictions are traversed in the output (restriction attribute names: \"Avoid Private Roads\" \"Avoid Gates\").\n",
      "\n",
      "Location \"530610535052\" in \"Incidents\" is on a soft-restricted network element.\n",
      "Location \"530610536021\" in \"Incidents\" is on a soft-restricted network element.\n",
      "Location \"421027779\" in \"Facilities\" is on a soft-restricted network element.\n",
      "Network elements with avoid-restrictions are traversed in the output (restriction attribute names: \"Avoid Private Roads\" \"Avoid Gates\").\n",
      "\n",
      "Location \"421027779\" in \"Facilities\" is on a soft-restricted network element.\n",
      "\n"
     ]
    },
    {
     "name": "stdout",
     "output_type": "stream",
     "text": [
      "success - 3297\n"
     ]
    },
    {
     "name": "stderr",
     "output_type": "stream",
     "text": [
      "Location \"421027779\" in \"Facilities\" is on a soft-restricted network element.\n",
      "\n",
      "Location \"530330219063\" in \"Incidents\" is on a soft-restricted network element.\n",
      "Location \"421027779\" in \"Facilities\" is on a soft-restricted network element.\n",
      "Network elements with avoid-restrictions are traversed in the output (restriction attribute names: \"Avoid Private Roads\" \"Avoid Gates\").\n",
      "\n",
      "Location \"421027779\" in \"Facilities\" is on a soft-restricted network element.\n",
      "Network elements with avoid-restrictions are traversed in the output (restriction attribute names: \"Avoid Gates\").\n",
      "\n",
      "Location \"530610523011\" in \"Incidents\" is on a soft-restricted network element.\n",
      "Location \"421027779\" in \"Facilities\" is on a soft-restricted network element.\n",
      "Network elements with avoid-restrictions are traversed in the output (restriction attribute names: \"Avoid Private Roads\").\n",
      "\n",
      "Location \"530610535052\" in \"Incidents\" is on a soft-restricted network element.\n",
      "Location \"530610536021\" in \"Incidents\" is on a soft-restricted network element.\n",
      "Location \"421027779\" in \"Facilities\" is on a soft-restricted network element.\n",
      "Network elements with avoid-restrictions are traversed in the output (restriction attribute names: \"Avoid Private Roads\" \"Avoid Gates\").\n",
      "\n"
     ]
    },
    {
     "name": "stdout",
     "output_type": "stream",
     "text": [
      "success - 3299\n"
     ]
    },
    {
     "name": "stderr",
     "output_type": "stream",
     "text": [
      "Location \"421027779\" in \"Facilities\" is on a soft-restricted network element.\n",
      "\n",
      "Location \"530330219063\" in \"Incidents\" is on a soft-restricted network element.\n",
      "Location \"421027779\" in \"Facilities\" is on a soft-restricted network element.\n",
      "Network elements with avoid-restrictions are traversed in the output (restriction attribute names: \"Avoid Private Roads\" \"Avoid Gates\").\n",
      "\n",
      "Location \"421027779\" in \"Facilities\" is on a soft-restricted network element.\n",
      "Network elements with avoid-restrictions are traversed in the output (restriction attribute names: \"Avoid Gates\").\n",
      "\n",
      "Location \"530610523011\" in \"Incidents\" is on a soft-restricted network element.\n",
      "Location \"421027779\" in \"Facilities\" is on a soft-restricted network element.\n",
      "Network elements with avoid-restrictions are traversed in the output (restriction attribute names: \"Avoid Private Roads\").\n",
      "\n",
      "Location \"530610535052\" in \"Incidents\" is on a soft-restricted network element.\n",
      "Location \"530610536021\" in \"Incidents\" is on a soft-restricted network element.\n",
      "Location \"421027779\" in \"Facilities\" is on a soft-restricted network element.\n",
      "Network elements with avoid-restrictions are traversed in the output (restriction attribute names: \"Avoid Private Roads\" \"Avoid Gates\").\n",
      "\n"
     ]
    },
    {
     "name": "stdout",
     "output_type": "stream",
     "text": [
      "success - 3300\n"
     ]
    },
    {
     "name": "stderr",
     "output_type": "stream",
     "text": [
      "Location \"421027779\" in \"Facilities\" is on a soft-restricted network element.\n",
      "\n",
      "Location \"530330219063\" in \"Incidents\" is on a soft-restricted network element.\n",
      "Location \"421027779\" in \"Facilities\" is on a soft-restricted network element.\n",
      "Network elements with avoid-restrictions are traversed in the output (restriction attribute names: \"Avoid Private Roads\" \"Avoid Gates\").\n",
      "\n",
      "Location \"421027779\" in \"Facilities\" is on a soft-restricted network element.\n",
      "Network elements with avoid-restrictions are traversed in the output (restriction attribute names: \"Avoid Gates\").\n",
      "\n",
      "Location \"530610523011\" in \"Incidents\" is on a soft-restricted network element.\n",
      "Location \"421027779\" in \"Facilities\" is on a soft-restricted network element.\n",
      "Network elements with avoid-restrictions are traversed in the output (restriction attribute names: \"Avoid Private Roads\").\n",
      "\n",
      "Location \"530610535052\" in \"Incidents\" is on a soft-restricted network element.\n",
      "Location \"530610536021\" in \"Incidents\" is on a soft-restricted network element.\n",
      "Location \"421027779\" in \"Facilities\" is on a soft-restricted network element.\n",
      "Network elements with avoid-restrictions are traversed in the output (restriction attribute names: \"Avoid Private Roads\" \"Avoid Gates\").\n",
      "\n"
     ]
    },
    {
     "name": "stdout",
     "output_type": "stream",
     "text": [
      "success - 3301\n"
     ]
    },
    {
     "name": "stderr",
     "output_type": "stream",
     "text": [
      "Location \"421027779\" in \"Facilities\" is on a soft-restricted network element.\n",
      "\n",
      "Location \"530330219063\" in \"Incidents\" is on a soft-restricted network element.\n",
      "Location \"421027779\" in \"Facilities\" is on a soft-restricted network element.\n",
      "Network elements with avoid-restrictions are traversed in the output (restriction attribute names: \"Avoid Private Roads\" \"Avoid Gates\").\n",
      "\n",
      "Location \"421027779\" in \"Facilities\" is on a soft-restricted network element.\n",
      "Network elements with avoid-restrictions are traversed in the output (restriction attribute names: \"Avoid Gates\").\n",
      "\n",
      "Location \"530610523011\" in \"Incidents\" is on a soft-restricted network element.\n",
      "Location \"421027779\" in \"Facilities\" is on a soft-restricted network element.\n",
      "Network elements with avoid-restrictions are traversed in the output (restriction attribute names: \"Avoid Private Roads\").\n",
      "\n",
      "Location \"530610535052\" in \"Incidents\" is on a soft-restricted network element.\n",
      "Location \"530610536021\" in \"Incidents\" is on a soft-restricted network element.\n",
      "Location \"421027779\" in \"Facilities\" is on a soft-restricted network element.\n",
      "Network elements with avoid-restrictions are traversed in the output (restriction attribute names: \"Avoid Private Roads\" \"Avoid Gates\").\n",
      "\n"
     ]
    },
    {
     "name": "stdout",
     "output_type": "stream",
     "text": [
      "success - 3302\n"
     ]
    },
    {
     "name": "stderr",
     "output_type": "stream",
     "text": [
      "Location \"421027779\" in \"Facilities\" is on a soft-restricted network element.\n",
      "\n",
      "Location \"530330219063\" in \"Incidents\" is on a soft-restricted network element.\n",
      "Location \"421027779\" in \"Facilities\" is on a soft-restricted network element.\n",
      "Network elements with avoid-restrictions are traversed in the output (restriction attribute names: \"Avoid Private Roads\" \"Avoid Gates\").\n",
      "\n",
      "Location \"421027779\" in \"Facilities\" is on a soft-restricted network element.\n",
      "Network elements with avoid-restrictions are traversed in the output (restriction attribute names: \"Avoid Gates\").\n",
      "\n",
      "Location \"530610523011\" in \"Incidents\" is on a soft-restricted network element.\n",
      "Location \"421027779\" in \"Facilities\" is on a soft-restricted network element.\n",
      "Network elements with avoid-restrictions are traversed in the output (restriction attribute names: \"Avoid Private Roads\").\n",
      "\n",
      "Location \"530610535052\" in \"Incidents\" is on a soft-restricted network element.\n",
      "Location \"530610536021\" in \"Incidents\" is on a soft-restricted network element.\n",
      "Location \"421027779\" in \"Facilities\" is on a soft-restricted network element.\n",
      "Network elements with avoid-restrictions are traversed in the output (restriction attribute names: \"Avoid Private Roads\" \"Avoid Gates\").\n",
      "\n"
     ]
    },
    {
     "name": "stdout",
     "output_type": "stream",
     "text": [
      "success - 3303\n"
     ]
    },
    {
     "name": "stderr",
     "output_type": "stream",
     "text": [
      "Location \"421027779\" in \"Facilities\" is on a soft-restricted network element.\n",
      "\n",
      "Location \"530330219063\" in \"Incidents\" is on a soft-restricted network element.\n",
      "Location \"421027779\" in \"Facilities\" is on a soft-restricted network element.\n",
      "Network elements with avoid-restrictions are traversed in the output (restriction attribute names: \"Avoid Private Roads\" \"Avoid Gates\").\n",
      "\n",
      "Location \"421027779\" in \"Facilities\" is on a soft-restricted network element.\n",
      "Network elements with avoid-restrictions are traversed in the output (restriction attribute names: \"Avoid Gates\").\n",
      "\n",
      "Location \"530610523011\" in \"Incidents\" is on a soft-restricted network element.\n",
      "Location \"421027779\" in \"Facilities\" is on a soft-restricted network element.\n",
      "Network elements with avoid-restrictions are traversed in the output (restriction attribute names: \"Avoid Private Roads\").\n",
      "\n",
      "Location \"530610535052\" in \"Incidents\" is on a soft-restricted network element.\n",
      "Location \"530610536021\" in \"Incidents\" is on a soft-restricted network element.\n",
      "Location \"421027779\" in \"Facilities\" is on a soft-restricted network element.\n",
      "Network elements with avoid-restrictions are traversed in the output (restriction attribute names: \"Avoid Private Roads\" \"Avoid Gates\").\n",
      "\n"
     ]
    },
    {
     "name": "stdout",
     "output_type": "stream",
     "text": [
      "success - 3304\n"
     ]
    },
    {
     "name": "stderr",
     "output_type": "stream",
     "text": [
      "Location \"421027779\" in \"Facilities\" is on a soft-restricted network element.\n",
      "\n",
      "Location \"530330219063\" in \"Incidents\" is on a soft-restricted network element.\n",
      "Location \"421027779\" in \"Facilities\" is on a soft-restricted network element.\n",
      "Network elements with avoid-restrictions are traversed in the output (restriction attribute names: \"Avoid Private Roads\" \"Avoid Gates\").\n",
      "\n",
      "Location \"421027779\" in \"Facilities\" is on a soft-restricted network element.\n",
      "Network elements with avoid-restrictions are traversed in the output (restriction attribute names: \"Avoid Gates\").\n",
      "\n",
      "Location \"530610523011\" in \"Incidents\" is on a soft-restricted network element.\n",
      "Location \"421027779\" in \"Facilities\" is on a soft-restricted network element.\n",
      "Network elements with avoid-restrictions are traversed in the output (restriction attribute names: \"Avoid Private Roads\").\n",
      "\n",
      "Location \"530610535052\" in \"Incidents\" is on a soft-restricted network element.\n",
      "Location \"530610536021\" in \"Incidents\" is on a soft-restricted network element.\n",
      "Location \"421027779\" in \"Facilities\" is on a soft-restricted network element.\n",
      "Network elements with avoid-restrictions are traversed in the output (restriction attribute names: \"Avoid Private Roads\" \"Avoid Gates\").\n",
      "\n"
     ]
    },
    {
     "name": "stdout",
     "output_type": "stream",
     "text": [
      "success - 3305\n"
     ]
    },
    {
     "name": "stderr",
     "output_type": "stream",
     "text": [
      "Location \"421027779\" in \"Facilities\" is on a soft-restricted network element.\n",
      "\n",
      "Location \"530330226051\" in \"Incidents\" is on a soft-restricted network element.\n",
      "Location \"530330322072\" in \"Incidents\" is on a soft-restricted network element.\n",
      "Location \"530330322082\" in \"Incidents\" is on a soft-restricted network element.\n",
      "Location \"530330322083\" in \"Incidents\" is on a soft-restricted network element.\n",
      "Location \"530330322152\" in \"Incidents\" is on a soft-restricted network element.\n",
      "Location \"530330323164\" in \"Incidents\" is on a soft-restricted network element.\n",
      "Location \"530330323171\" in \"Incidents\" is on a soft-restricted network element.\n",
      "Location \"530330323174\" in \"Incidents\" is on a soft-restricted network element.\n",
      "Location \"530330323261\" in \"Incidents\" is on a soft-restricted network element.\n",
      "Location \"530330323281\" in \"Incidents\" is on a soft-restricted network element.\n",
      "Location \"530330323291\" in \"Incidents\" is on a soft-restricted network element.\n",
      "Location \"421027779\" in \"Facilities\" is on a soft-restricted network element.\n",
      "Network elements with avoid-restrictions are traversed in the output (restriction attribute names: \"Avoid Private Roads\" \"Avoid Gates\").\n",
      "\n",
      "Location \"530610523011\" in \"Incidents\" is on a soft-restricted network element.\n",
      "Location \"421027779\" in \"Facilities\" is on a soft-restricted network element.\n",
      "Network elements with avoid-restrictions are traversed in the output (restriction attribute names: \"Avoid Private Roads\").\n",
      "\n",
      "Location \"530610535052\" in \"Incidents\" is on a soft-restricted network element.\n",
      "Location \"530610536021\" in \"Incidents\" is on a soft-restricted network element.\n",
      "Location \"421027779\" in \"Facilities\" is on a soft-restricted network element.\n",
      "Network elements with avoid-restrictions are traversed in the output (restriction attribute names: \"Avoid Private Roads\" \"Avoid Gates\").\n",
      "\n"
     ]
    },
    {
     "name": "stdout",
     "output_type": "stream",
     "text": [
      "success - 3311\n"
     ]
    },
    {
     "name": "stderr",
     "output_type": "stream",
     "text": [
      "Location \"421027779\" in \"Facilities\" is on a soft-restricted network element.\n",
      "\n",
      "Location \"530330226051\" in \"Incidents\" is on a soft-restricted network element.\n",
      "Location \"530330322072\" in \"Incidents\" is on a soft-restricted network element.\n",
      "Location \"530330322082\" in \"Incidents\" is on a soft-restricted network element.\n",
      "Location \"530330322083\" in \"Incidents\" is on a soft-restricted network element.\n",
      "Location \"530330322152\" in \"Incidents\" is on a soft-restricted network element.\n",
      "Location \"530330323164\" in \"Incidents\" is on a soft-restricted network element.\n",
      "Location \"530330323171\" in \"Incidents\" is on a soft-restricted network element.\n",
      "Location \"530330323174\" in \"Incidents\" is on a soft-restricted network element.\n",
      "Location \"530330323261\" in \"Incidents\" is on a soft-restricted network element.\n",
      "Location \"530330323281\" in \"Incidents\" is on a soft-restricted network element.\n",
      "Location \"530330323291\" in \"Incidents\" is on a soft-restricted network element.\n",
      "Location \"421027779\" in \"Facilities\" is on a soft-restricted network element.\n",
      "Network elements with avoid-restrictions are traversed in the output (restriction attribute names: \"Avoid Private Roads\" \"Avoid Gates\").\n",
      "\n",
      "Location \"530610523011\" in \"Incidents\" is on a soft-restricted network element.\n",
      "Location \"421027779\" in \"Facilities\" is on a soft-restricted network element.\n",
      "Network elements with avoid-restrictions are traversed in the output (restriction attribute names: \"Avoid Private Roads\").\n",
      "\n",
      "Location \"530610535052\" in \"Incidents\" is on a soft-restricted network element.\n",
      "Location \"530610536021\" in \"Incidents\" is on a soft-restricted network element.\n",
      "Location \"421027779\" in \"Facilities\" is on a soft-restricted network element.\n",
      "Network elements with avoid-restrictions are traversed in the output (restriction attribute names: \"Avoid Private Roads\" \"Avoid Gates\").\n",
      "\n"
     ]
    },
    {
     "name": "stdout",
     "output_type": "stream",
     "text": [
      "success - 3312\n"
     ]
    },
    {
     "name": "stderr",
     "output_type": "stream",
     "text": [
      "Location \"421027779\" in \"Facilities\" is on a soft-restricted network element.\n",
      "\n",
      "Location \"530330209003\" in \"Incidents\" is on a soft-restricted network element.\n",
      "Location \"421027779\" in \"Facilities\" is on a soft-restricted network element.\n",
      "Network elements with avoid-restrictions are traversed in the output (restriction attribute names: \"Avoid Private Roads\" \"Avoid Gates\").\n",
      "\n",
      "Location \"421027779\" in \"Facilities\" is on a soft-restricted network element.\n",
      "\n",
      "Location \"530330219063\" in \"Incidents\" is on a soft-restricted network element.\n",
      "Location \"530330221024\" in \"Incidents\" is on a soft-restricted network element.\n",
      "Location \"530330226051\" in \"Incidents\" is on a soft-restricted network element.\n",
      "Location \"530330323261\" in \"Incidents\" is on a soft-restricted network element.\n",
      "Location \"421027779\" in \"Facilities\" is on a soft-restricted network element.\n",
      "Network elements with avoid-restrictions are traversed in the output (restriction attribute names: \"Avoid Private Roads\" \"Avoid Gates\").\n",
      "\n",
      "Location \"421027779\" in \"Facilities\" is on a soft-restricted network element.\n",
      "Network elements with avoid-restrictions are traversed in the output (restriction attribute names: \"Avoid Gates\").\n",
      "\n",
      "Location \"530610523011\" in \"Incidents\" is on a soft-restricted network element.\n",
      "Location \"421027779\" in \"Facilities\" is on a soft-restricted network element.\n",
      "Network elements with avoid-restrictions are traversed in the output (restriction attribute names: \"Avoid Private Roads\").\n",
      "\n",
      "Location \"530610535052\" in \"Incidents\" is on a soft-restricted network element.\n",
      "Location \"530610536021\" in \"Incidents\" is on a soft-restricted network element.\n",
      "Location \"421027779\" in \"Facilities\" is on a soft-restricted network element.\n",
      "Network elements with avoid-restrictions are traversed in the output (restriction attribute names: \"Avoid Private Roads\" \"Avoid Gates\").\n",
      "\n"
     ]
    },
    {
     "name": "stdout",
     "output_type": "stream",
     "text": [
      "success - 3346\n"
     ]
    },
    {
     "name": "stderr",
     "output_type": "stream",
     "text": [
      "Location \"1\" in \"Incidents\" is on a soft-restricted network element.\n",
      "Location \"421027779\" in \"Facilities\" is on a soft-restricted network element.\n",
      "Network elements with avoid-restrictions are traversed in the output (restriction attribute names: \"Avoid Private Roads\" \"Avoid Gates\").\n",
      "\n",
      "Location \"530330219063\" in \"Incidents\" is on a soft-restricted network element.\n",
      "Location \"421027779\" in \"Facilities\" is on a soft-restricted network element.\n",
      "Location \"1\" in \"Facilities\" is on a soft-restricted network element.\n",
      "Network elements with avoid-restrictions are traversed in the output (restriction attribute names: \"Avoid Private Roads\" \"Avoid Gates\").\n",
      "\n",
      "Location \"421027779\" in \"Facilities\" is on a soft-restricted network element.\n",
      "Location \"1\" in \"Facilities\" is on a soft-restricted network element.\n",
      "Network elements with avoid-restrictions are traversed in the output (restriction attribute names: \"Avoid Private Roads\" \"Avoid Gates\").\n",
      "\n",
      "Location \"530610523011\" in \"Incidents\" is on a soft-restricted network element.\n",
      "Location \"421027779\" in \"Facilities\" is on a soft-restricted network element.\n",
      "Location \"1\" in \"Facilities\" is on a soft-restricted network element.\n",
      "Network elements with avoid-restrictions are traversed in the output (restriction attribute names: \"Avoid Private Roads\" \"Avoid Gates\").\n",
      "\n",
      "Location \"530610535052\" in \"Incidents\" is on a soft-restricted network element.\n",
      "Location \"530610536021\" in \"Incidents\" is on a soft-restricted network element.\n",
      "Location \"421027779\" in \"Facilities\" is on a soft-restricted network element.\n",
      "Location \"1\" in \"Facilities\" is on a soft-restricted network element.\n",
      "Network elements with avoid-restrictions are traversed in the output (restriction attribute names: \"Avoid Private Roads\" \"Avoid Gates\").\n",
      "\n"
     ]
    },
    {
     "name": "stdout",
     "output_type": "stream",
     "text": [
      "success - 3349\n"
     ]
    },
    {
     "name": "stderr",
     "output_type": "stream",
     "text": [
      "Location \"421027779\" in \"Facilities\" is on a soft-restricted network element.\n",
      "\n",
      "Location \"530330219063\" in \"Incidents\" is on a soft-restricted network element.\n",
      "Location \"421027779\" in \"Facilities\" is on a soft-restricted network element.\n",
      "Network elements with avoid-restrictions are traversed in the output (restriction attribute names: \"Avoid Private Roads\").\n",
      "\n",
      "Location \"421027779\" in \"Facilities\" is on a soft-restricted network element.\n",
      "Network elements with avoid-restrictions are traversed in the output (restriction attribute names: \"Avoid Gates\").\n",
      "\n",
      "Location \"530610523011\" in \"Incidents\" is on a soft-restricted network element.\n",
      "Location \"421027779\" in \"Facilities\" is on a soft-restricted network element.\n",
      "Network elements with avoid-restrictions are traversed in the output (restriction attribute names: \"Avoid Private Roads\").\n",
      "\n",
      "Location \"530610535052\" in \"Incidents\" is on a soft-restricted network element.\n",
      "Location \"530610536021\" in \"Incidents\" is on a soft-restricted network element.\n",
      "Location \"421027779\" in \"Facilities\" is on a soft-restricted network element.\n",
      "Network elements with avoid-restrictions are traversed in the output (restriction attribute names: \"Avoid Private Roads\").\n",
      "\n"
     ]
    },
    {
     "name": "stdout",
     "output_type": "stream",
     "text": [
      "success - 3350\n"
     ]
    },
    {
     "name": "stderr",
     "output_type": "stream",
     "text": [
      "Location \"421027779\" in \"Facilities\" is on a soft-restricted network element.\n",
      "\n",
      "Location \"530330219063\" in \"Incidents\" is on a soft-restricted network element.\n",
      "Location \"421027779\" in \"Facilities\" is on a soft-restricted network element.\n",
      "Network elements with avoid-restrictions are traversed in the output (restriction attribute names: \"Avoid Private Roads\").\n",
      "\n",
      "Location \"421027779\" in \"Facilities\" is on a soft-restricted network element.\n",
      "Network elements with avoid-restrictions are traversed in the output (restriction attribute names: \"Avoid Gates\").\n",
      "\n",
      "Location \"530610523011\" in \"Incidents\" is on a soft-restricted network element.\n",
      "Location \"421027779\" in \"Facilities\" is on a soft-restricted network element.\n",
      "Network elements with avoid-restrictions are traversed in the output (restriction attribute names: \"Avoid Private Roads\").\n",
      "\n",
      "Location \"530610535052\" in \"Incidents\" is on a soft-restricted network element.\n",
      "Location \"530610536021\" in \"Incidents\" is on a soft-restricted network element.\n",
      "Location \"421027779\" in \"Facilities\" is on a soft-restricted network element.\n",
      "Network elements with avoid-restrictions are traversed in the output (restriction attribute names: \"Avoid Private Roads\").\n",
      "\n"
     ]
    },
    {
     "name": "stdout",
     "output_type": "stream",
     "text": [
      "success - 3351\n"
     ]
    },
    {
     "name": "stderr",
     "output_type": "stream",
     "text": [
      "Location \"421027779\" in \"Facilities\" is on a soft-restricted network element.\n",
      "\n",
      "Location \"530330219063\" in \"Incidents\" is on a soft-restricted network element.\n",
      "Location \"421027779\" in \"Facilities\" is on a soft-restricted network element.\n",
      "Network elements with avoid-restrictions are traversed in the output (restriction attribute names: \"Avoid Private Roads\").\n",
      "\n",
      "Location \"421027779\" in \"Facilities\" is on a soft-restricted network element.\n",
      "Network elements with avoid-restrictions are traversed in the output (restriction attribute names: \"Avoid Gates\").\n",
      "\n",
      "Location \"530610523011\" in \"Incidents\" is on a soft-restricted network element.\n",
      "Location \"421027779\" in \"Facilities\" is on a soft-restricted network element.\n",
      "Network elements with avoid-restrictions are traversed in the output (restriction attribute names: \"Avoid Private Roads\").\n",
      "\n",
      "Location \"530610535052\" in \"Incidents\" is on a soft-restricted network element.\n",
      "Location \"530610536021\" in \"Incidents\" is on a soft-restricted network element.\n",
      "Location \"421027779\" in \"Facilities\" is on a soft-restricted network element.\n",
      "Network elements with avoid-restrictions are traversed in the output (restriction attribute names: \"Avoid Private Roads\").\n",
      "\n"
     ]
    },
    {
     "name": "stdout",
     "output_type": "stream",
     "text": [
      "success - 3352\n"
     ]
    },
    {
     "name": "stderr",
     "output_type": "stream",
     "text": [
      "Location \"421027779\" in \"Facilities\" is on a soft-restricted network element.\n",
      "\n",
      "Location \"530330219063\" in \"Incidents\" is on a soft-restricted network element.\n",
      "Location \"421027779\" in \"Facilities\" is on a soft-restricted network element.\n",
      "Network elements with avoid-restrictions are traversed in the output (restriction attribute names: \"Avoid Private Roads\").\n",
      "\n",
      "Location \"421027779\" in \"Facilities\" is on a soft-restricted network element.\n",
      "Network elements with avoid-restrictions are traversed in the output (restriction attribute names: \"Avoid Gates\").\n",
      "\n",
      "Location \"530610523011\" in \"Incidents\" is on a soft-restricted network element.\n",
      "Location \"421027779\" in \"Facilities\" is on a soft-restricted network element.\n",
      "Network elements with avoid-restrictions are traversed in the output (restriction attribute names: \"Avoid Private Roads\").\n",
      "\n",
      "Location \"530610535052\" in \"Incidents\" is on a soft-restricted network element.\n",
      "Location \"530610536021\" in \"Incidents\" is on a soft-restricted network element.\n",
      "Location \"421027779\" in \"Facilities\" is on a soft-restricted network element.\n",
      "Network elements with avoid-restrictions are traversed in the output (restriction attribute names: \"Avoid Private Roads\").\n",
      "\n"
     ]
    },
    {
     "name": "stdout",
     "output_type": "stream",
     "text": [
      "success - 3353\n"
     ]
    },
    {
     "name": "stderr",
     "output_type": "stream",
     "text": [
      "Location \"421027779\" in \"Facilities\" is on a soft-restricted network element.\n",
      "\n",
      "Location \"530330219063\" in \"Incidents\" is on a soft-restricted network element.\n",
      "Location \"421027779\" in \"Facilities\" is on a soft-restricted network element.\n",
      "Network elements with avoid-restrictions are traversed in the output (restriction attribute names: \"Avoid Private Roads\").\n",
      "\n",
      "Location \"421027779\" in \"Facilities\" is on a soft-restricted network element.\n",
      "Network elements with avoid-restrictions are traversed in the output (restriction attribute names: \"Avoid Gates\").\n",
      "\n",
      "Location \"530610523011\" in \"Incidents\" is on a soft-restricted network element.\n",
      "Location \"421027779\" in \"Facilities\" is on a soft-restricted network element.\n",
      "Network elements with avoid-restrictions are traversed in the output (restriction attribute names: \"Avoid Private Roads\").\n",
      "\n",
      "Location \"530610535052\" in \"Incidents\" is on a soft-restricted network element.\n",
      "Location \"530610536021\" in \"Incidents\" is on a soft-restricted network element.\n",
      "Location \"421027779\" in \"Facilities\" is on a soft-restricted network element.\n",
      "Network elements with avoid-restrictions are traversed in the output (restriction attribute names: \"Avoid Private Roads\").\n",
      "\n"
     ]
    },
    {
     "name": "stdout",
     "output_type": "stream",
     "text": [
      "success - 3354\n"
     ]
    },
    {
     "name": "stderr",
     "output_type": "stream",
     "text": [
      "Location \"421027779\" in \"Facilities\" is on a soft-restricted network element.\n",
      "\n",
      "Location \"530330219063\" in \"Incidents\" is on a soft-restricted network element.\n",
      "Location \"421027779\" in \"Facilities\" is on a soft-restricted network element.\n",
      "Network elements with avoid-restrictions are traversed in the output (restriction attribute names: \"Avoid Private Roads\").\n",
      "\n",
      "Location \"421027779\" in \"Facilities\" is on a soft-restricted network element.\n",
      "Network elements with avoid-restrictions are traversed in the output (restriction attribute names: \"Avoid Gates\").\n",
      "\n",
      "Location \"530610523011\" in \"Incidents\" is on a soft-restricted network element.\n",
      "Location \"421027779\" in \"Facilities\" is on a soft-restricted network element.\n",
      "Network elements with avoid-restrictions are traversed in the output (restriction attribute names: \"Avoid Private Roads\").\n",
      "\n",
      "Location \"530610535052\" in \"Incidents\" is on a soft-restricted network element.\n",
      "Location \"530610536021\" in \"Incidents\" is on a soft-restricted network element.\n",
      "Location \"421027779\" in \"Facilities\" is on a soft-restricted network element.\n",
      "Network elements with avoid-restrictions are traversed in the output (restriction attribute names: \"Avoid Private Roads\").\n",
      "\n"
     ]
    },
    {
     "name": "stdout",
     "output_type": "stream",
     "text": [
      "success - 3355\n"
     ]
    },
    {
     "name": "stderr",
     "output_type": "stream",
     "text": [
      "Location \"421027779\" in \"Facilities\" is on a soft-restricted network element.\n",
      "\n",
      "Location \"530330219063\" in \"Incidents\" is on a soft-restricted network element.\n",
      "Location \"421027779\" in \"Facilities\" is on a soft-restricted network element.\n",
      "Network elements with avoid-restrictions are traversed in the output (restriction attribute names: \"Avoid Private Roads\").\n",
      "\n",
      "Location \"421027779\" in \"Facilities\" is on a soft-restricted network element.\n",
      "Network elements with avoid-restrictions are traversed in the output (restriction attribute names: \"Avoid Gates\").\n",
      "\n",
      "Location \"530610523011\" in \"Incidents\" is on a soft-restricted network element.\n",
      "Location \"421027779\" in \"Facilities\" is on a soft-restricted network element.\n",
      "Network elements with avoid-restrictions are traversed in the output (restriction attribute names: \"Avoid Private Roads\" \"Avoid Gates\").\n",
      "\n",
      "Location \"530610535052\" in \"Incidents\" is on a soft-restricted network element.\n",
      "Location \"530610536021\" in \"Incidents\" is on a soft-restricted network element.\n",
      "Location \"421027779\" in \"Facilities\" is on a soft-restricted network element.\n",
      "Network elements with avoid-restrictions are traversed in the output (restriction attribute names: \"Avoid Private Roads\").\n",
      "\n"
     ]
    },
    {
     "name": "stdout",
     "output_type": "stream",
     "text": [
      "success - 3356\n"
     ]
    },
    {
     "name": "stderr",
     "output_type": "stream",
     "text": [
      "Location \"421027779\" in \"Facilities\" is on a soft-restricted network element.\n",
      "\n",
      "Location \"421027779\" in \"Facilities\" is on a soft-restricted network element.\n",
      "Network elements with avoid-restrictions are traversed in the output (restriction attribute names: \"Avoid Gates\").\n",
      "\n",
      "Location \"530610523011\" in \"Incidents\" is on a soft-restricted network element.\n",
      "Location \"421027779\" in \"Facilities\" is on a soft-restricted network element.\n",
      "Network elements with avoid-restrictions are traversed in the output (restriction attribute names: \"Avoid Private Roads\" \"Avoid Gates\").\n",
      "\n",
      "Location \"530610535052\" in \"Incidents\" is on a soft-restricted network element.\n",
      "Location \"530610536021\" in \"Incidents\" is on a soft-restricted network element.\n",
      "Location \"421027779\" in \"Facilities\" is on a soft-restricted network element.\n",
      "Network elements with avoid-restrictions are traversed in the output (restriction attribute names: \"Avoid Private Roads\" \"Avoid Gates\").\n",
      "\n",
      "Location \"421027779\" in \"Facilities\" is on a soft-restricted network element.\n",
      "\n"
     ]
    },
    {
     "name": "stdout",
     "output_type": "stream",
     "text": [
      "success - 3357\n"
     ]
    },
    {
     "name": "stderr",
     "output_type": "stream",
     "text": [
      "Location \"421027779\" in \"Facilities\" is on a soft-restricted network element.\n",
      "\n",
      "Location \"421027779\" in \"Facilities\" is on a soft-restricted network element.\n",
      "Network elements with avoid-restrictions are traversed in the output (restriction attribute names: \"Avoid Gates\").\n",
      "\n",
      "Location \"530610523011\" in \"Incidents\" is on a soft-restricted network element.\n",
      "Location \"421027779\" in \"Facilities\" is on a soft-restricted network element.\n",
      "Network elements with avoid-restrictions are traversed in the output (restriction attribute names: \"Avoid Private Roads\" \"Avoid Gates\").\n",
      "\n",
      "Location \"530610535052\" in \"Incidents\" is on a soft-restricted network element.\n",
      "Location \"530610536021\" in \"Incidents\" is on a soft-restricted network element.\n",
      "Location \"421027779\" in \"Facilities\" is on a soft-restricted network element.\n",
      "Network elements with avoid-restrictions are traversed in the output (restriction attribute names: \"Avoid Private Roads\" \"Avoid Gates\").\n",
      "\n",
      "Location \"421027779\" in \"Facilities\" is on a soft-restricted network element.\n",
      "\n"
     ]
    },
    {
     "name": "stdout",
     "output_type": "stream",
     "text": [
      "success - 3358\n"
     ]
    },
    {
     "name": "stderr",
     "output_type": "stream",
     "text": [
      "Location \"421027779\" in \"Facilities\" is on a soft-restricted network element.\n",
      "\n",
      "Location \"421027779\" in \"Facilities\" is on a soft-restricted network element.\n",
      "Network elements with avoid-restrictions are traversed in the output (restriction attribute names: \"Avoid Gates\").\n",
      "\n",
      "Location \"530610523011\" in \"Incidents\" is on a soft-restricted network element.\n",
      "Location \"421027779\" in \"Facilities\" is on a soft-restricted network element.\n",
      "Network elements with avoid-restrictions are traversed in the output (restriction attribute names: \"Avoid Private Roads\" \"Avoid Gates\").\n",
      "\n",
      "Location \"530610535052\" in \"Incidents\" is on a soft-restricted network element.\n",
      "Location \"530610536021\" in \"Incidents\" is on a soft-restricted network element.\n",
      "Location \"421027779\" in \"Facilities\" is on a soft-restricted network element.\n",
      "Network elements with avoid-restrictions are traversed in the output (restriction attribute names: \"Avoid Private Roads\" \"Avoid Gates\").\n",
      "\n",
      "Location \"421027779\" in \"Facilities\" is on a soft-restricted network element.\n",
      "\n"
     ]
    },
    {
     "name": "stdout",
     "output_type": "stream",
     "text": [
      "success - 3359\n"
     ]
    },
    {
     "name": "stderr",
     "output_type": "stream",
     "text": [
      "Location \"421027779\" in \"Facilities\" is on a soft-restricted network element.\n",
      "\n",
      "Location \"421027779\" in \"Facilities\" is on a soft-restricted network element.\n",
      "Network elements with avoid-restrictions are traversed in the output (restriction attribute names: \"Avoid Gates\").\n",
      "\n",
      "Location \"530610523011\" in \"Incidents\" is on a soft-restricted network element.\n",
      "Location \"421027779\" in \"Facilities\" is on a soft-restricted network element.\n",
      "Network elements with avoid-restrictions are traversed in the output (restriction attribute names: \"Avoid Private Roads\" \"Avoid Gates\").\n",
      "\n",
      "Location \"530610535052\" in \"Incidents\" is on a soft-restricted network element.\n",
      "Location \"530610536021\" in \"Incidents\" is on a soft-restricted network element.\n",
      "Location \"421027779\" in \"Facilities\" is on a soft-restricted network element.\n",
      "Network elements with avoid-restrictions are traversed in the output (restriction attribute names: \"Avoid Private Roads\" \"Avoid Gates\").\n",
      "\n",
      "Location \"421027779\" in \"Facilities\" is on a soft-restricted network element.\n",
      "\n"
     ]
    },
    {
     "name": "stdout",
     "output_type": "stream",
     "text": [
      "success - 3360\n"
     ]
    },
    {
     "name": "stderr",
     "output_type": "stream",
     "text": [
      "Location \"421027779\" in \"Facilities\" is on a soft-restricted network element.\n",
      "\n",
      "Location \"421027779\" in \"Facilities\" is on a soft-restricted network element.\n",
      "Network elements with avoid-restrictions are traversed in the output (restriction attribute names: \"Avoid Gates\").\n",
      "\n",
      "Location \"530610523011\" in \"Incidents\" is on a soft-restricted network element.\n",
      "Location \"421027779\" in \"Facilities\" is on a soft-restricted network element.\n",
      "Network elements with avoid-restrictions are traversed in the output (restriction attribute names: \"Avoid Private Roads\" \"Avoid Gates\").\n",
      "\n",
      "Location \"530610535052\" in \"Incidents\" is on a soft-restricted network element.\n",
      "Location \"530610536021\" in \"Incidents\" is on a soft-restricted network element.\n",
      "Location \"421027779\" in \"Facilities\" is on a soft-restricted network element.\n",
      "Network elements with avoid-restrictions are traversed in the output (restriction attribute names: \"Avoid Private Roads\" \"Avoid Gates\").\n",
      "\n",
      "Location \"421027779\" in \"Facilities\" is on a soft-restricted network element.\n",
      "\n"
     ]
    },
    {
     "name": "stdout",
     "output_type": "stream",
     "text": [
      "success - 3361\n"
     ]
    },
    {
     "name": "stderr",
     "output_type": "stream",
     "text": [
      "Location \"421027779\" in \"Facilities\" is on a soft-restricted network element.\n",
      "\n",
      "Location \"530330219063\" in \"Incidents\" is on a soft-restricted network element.\n",
      "Location \"421027779\" in \"Facilities\" is on a soft-restricted network element.\n",
      "Network elements with avoid-restrictions are traversed in the output (restriction attribute names: \"Avoid Private Roads\" \"Avoid Gates\").\n",
      "\n",
      "Location \"421027779\" in \"Facilities\" is on a soft-restricted network element.\n",
      "Network elements with avoid-restrictions are traversed in the output (restriction attribute names: \"Avoid Gates\").\n",
      "\n",
      "Location \"530610523011\" in \"Incidents\" is on a soft-restricted network element.\n",
      "Location \"421027779\" in \"Facilities\" is on a soft-restricted network element.\n",
      "Network elements with avoid-restrictions are traversed in the output (restriction attribute names: \"Avoid Private Roads\").\n",
      "\n",
      "Location \"530610535052\" in \"Incidents\" is on a soft-restricted network element.\n",
      "Location \"530610536021\" in \"Incidents\" is on a soft-restricted network element.\n",
      "Location \"421027779\" in \"Facilities\" is on a soft-restricted network element.\n",
      "Network elements with avoid-restrictions are traversed in the output (restriction attribute names: \"Avoid Private Roads\" \"Avoid Gates\").\n",
      "\n"
     ]
    },
    {
     "name": "stdout",
     "output_type": "stream",
     "text": [
      "success - 3363\n"
     ]
    },
    {
     "name": "stderr",
     "output_type": "stream",
     "text": [
      "Location \"421027779\" in \"Facilities\" is on a soft-restricted network element.\n",
      "\n",
      "Location \"530330219063\" in \"Incidents\" is on a soft-restricted network element.\n",
      "Location \"421027779\" in \"Facilities\" is on a soft-restricted network element.\n",
      "Network elements with avoid-restrictions are traversed in the output (restriction attribute names: \"Avoid Private Roads\" \"Avoid Gates\").\n",
      "\n",
      "Location \"421027779\" in \"Facilities\" is on a soft-restricted network element.\n",
      "Network elements with avoid-restrictions are traversed in the output (restriction attribute names: \"Avoid Gates\").\n",
      "\n",
      "Location \"530610523011\" in \"Incidents\" is on a soft-restricted network element.\n",
      "Location \"421027779\" in \"Facilities\" is on a soft-restricted network element.\n",
      "Network elements with avoid-restrictions are traversed in the output (restriction attribute names: \"Avoid Private Roads\").\n",
      "\n",
      "Location \"530610535052\" in \"Incidents\" is on a soft-restricted network element.\n",
      "Location \"530610536021\" in \"Incidents\" is on a soft-restricted network element.\n",
      "Location \"421027779\" in \"Facilities\" is on a soft-restricted network element.\n",
      "Network elements with avoid-restrictions are traversed in the output (restriction attribute names: \"Avoid Private Roads\" \"Avoid Gates\").\n",
      "\n"
     ]
    },
    {
     "name": "stdout",
     "output_type": "stream",
     "text": [
      "success - 3364\n"
     ]
    },
    {
     "name": "stderr",
     "output_type": "stream",
     "text": [
      "Location \"421027779\" in \"Facilities\" is on a soft-restricted network element.\n",
      "\n",
      "Location \"530330219063\" in \"Incidents\" is on a soft-restricted network element.\n",
      "Location \"421027779\" in \"Facilities\" is on a soft-restricted network element.\n",
      "Network elements with avoid-restrictions are traversed in the output (restriction attribute names: \"Avoid Private Roads\" \"Avoid Gates\").\n",
      "\n",
      "Location \"421027779\" in \"Facilities\" is on a soft-restricted network element.\n",
      "Network elements with avoid-restrictions are traversed in the output (restriction attribute names: \"Avoid Gates\").\n",
      "\n",
      "Location \"530610523011\" in \"Incidents\" is on a soft-restricted network element.\n",
      "Location \"421027779\" in \"Facilities\" is on a soft-restricted network element.\n",
      "Network elements with avoid-restrictions are traversed in the output (restriction attribute names: \"Avoid Private Roads\").\n",
      "\n",
      "Location \"530610535052\" in \"Incidents\" is on a soft-restricted network element.\n",
      "Location \"530610536021\" in \"Incidents\" is on a soft-restricted network element.\n",
      "Location \"421027779\" in \"Facilities\" is on a soft-restricted network element.\n",
      "Network elements with avoid-restrictions are traversed in the output (restriction attribute names: \"Avoid Private Roads\" \"Avoid Gates\").\n",
      "\n"
     ]
    },
    {
     "name": "stdout",
     "output_type": "stream",
     "text": [
      "success - 3365\n"
     ]
    },
    {
     "name": "stderr",
     "output_type": "stream",
     "text": [
      "Location \"421027779\" in \"Facilities\" is on a soft-restricted network element.\n",
      "\n",
      "Location \"530330219063\" in \"Incidents\" is on a soft-restricted network element.\n",
      "Location \"421027779\" in \"Facilities\" is on a soft-restricted network element.\n",
      "Network elements with avoid-restrictions are traversed in the output (restriction attribute names: \"Avoid Private Roads\" \"Avoid Gates\").\n",
      "\n",
      "Location \"421027779\" in \"Facilities\" is on a soft-restricted network element.\n",
      "Network elements with avoid-restrictions are traversed in the output (restriction attribute names: \"Avoid Gates\").\n",
      "\n",
      "Location \"530610523011\" in \"Incidents\" is on a soft-restricted network element.\n",
      "Location \"421027779\" in \"Facilities\" is on a soft-restricted network element.\n",
      "Network elements with avoid-restrictions are traversed in the output (restriction attribute names: \"Avoid Private Roads\").\n",
      "\n",
      "Location \"530610535052\" in \"Incidents\" is on a soft-restricted network element.\n",
      "Location \"530610536021\" in \"Incidents\" is on a soft-restricted network element.\n",
      "Location \"421027779\" in \"Facilities\" is on a soft-restricted network element.\n",
      "Network elements with avoid-restrictions are traversed in the output (restriction attribute names: \"Avoid Private Roads\" \"Avoid Gates\").\n",
      "\n"
     ]
    },
    {
     "name": "stdout",
     "output_type": "stream",
     "text": [
      "success - 3367\n"
     ]
    },
    {
     "name": "stderr",
     "output_type": "stream",
     "text": [
      "Location \"421027779\" in \"Facilities\" is on a soft-restricted network element.\n",
      "\n",
      "Location \"530330219063\" in \"Incidents\" is on a soft-restricted network element.\n",
      "Location \"421027779\" in \"Facilities\" is on a soft-restricted network element.\n",
      "Network elements with avoid-restrictions are traversed in the output (restriction attribute names: \"Avoid Private Roads\" \"Avoid Gates\").\n",
      "\n",
      "Location \"421027779\" in \"Facilities\" is on a soft-restricted network element.\n",
      "Network elements with avoid-restrictions are traversed in the output (restriction attribute names: \"Avoid Gates\").\n",
      "\n",
      "Location \"530610523011\" in \"Incidents\" is on a soft-restricted network element.\n",
      "Location \"421027779\" in \"Facilities\" is on a soft-restricted network element.\n",
      "Network elements with avoid-restrictions are traversed in the output (restriction attribute names: \"Avoid Private Roads\").\n",
      "\n",
      "Location \"530610535052\" in \"Incidents\" is on a soft-restricted network element.\n",
      "Location \"530610536021\" in \"Incidents\" is on a soft-restricted network element.\n",
      "Location \"421027779\" in \"Facilities\" is on a soft-restricted network element.\n",
      "Network elements with avoid-restrictions are traversed in the output (restriction attribute names: \"Avoid Private Roads\" \"Avoid Gates\").\n",
      "\n"
     ]
    },
    {
     "name": "stdout",
     "output_type": "stream",
     "text": [
      "success - 3369\n"
     ]
    },
    {
     "name": "stderr",
     "output_type": "stream",
     "text": [
      "Location \"421027779\" in \"Facilities\" is on a soft-restricted network element.\n",
      "\n",
      "Location \"530330219063\" in \"Incidents\" is on a soft-restricted network element.\n",
      "Location \"421027779\" in \"Facilities\" is on a soft-restricted network element.\n",
      "Network elements with avoid-restrictions are traversed in the output (restriction attribute names: \"Avoid Private Roads\" \"Avoid Gates\").\n",
      "\n",
      "Location \"421027779\" in \"Facilities\" is on a soft-restricted network element.\n",
      "Network elements with avoid-restrictions are traversed in the output (restriction attribute names: \"Avoid Gates\").\n",
      "\n",
      "Location \"530610523011\" in \"Incidents\" is on a soft-restricted network element.\n",
      "Location \"421027779\" in \"Facilities\" is on a soft-restricted network element.\n",
      "Network elements with avoid-restrictions are traversed in the output (restriction attribute names: \"Avoid Private Roads\").\n",
      "\n",
      "Location \"530610535052\" in \"Incidents\" is on a soft-restricted network element.\n",
      "Location \"530610536021\" in \"Incidents\" is on a soft-restricted network element.\n",
      "Location \"421027779\" in \"Facilities\" is on a soft-restricted network element.\n",
      "Network elements with avoid-restrictions are traversed in the output (restriction attribute names: \"Avoid Private Roads\" \"Avoid Gates\").\n",
      "\n"
     ]
    },
    {
     "name": "stdout",
     "output_type": "stream",
     "text": [
      "success - 3376\n"
     ]
    },
    {
     "name": "stderr",
     "output_type": "stream",
     "text": [
      "Location \"421027779\" in \"Facilities\" is on a soft-restricted network element.\n",
      "\n",
      "Location \"530330219063\" in \"Incidents\" is on a soft-restricted network element.\n",
      "Location \"421027779\" in \"Facilities\" is on a soft-restricted network element.\n",
      "Network elements with avoid-restrictions are traversed in the output (restriction attribute names: \"Avoid Private Roads\" \"Avoid Gates\").\n",
      "\n",
      "Location \"421027779\" in \"Facilities\" is on a soft-restricted network element.\n",
      "Network elements with avoid-restrictions are traversed in the output (restriction attribute names: \"Avoid Gates\").\n",
      "\n",
      "Location \"530610523011\" in \"Incidents\" is on a soft-restricted network element.\n",
      "Location \"421027779\" in \"Facilities\" is on a soft-restricted network element.\n",
      "Network elements with avoid-restrictions are traversed in the output (restriction attribute names: \"Avoid Private Roads\").\n",
      "\n",
      "Location \"530610535052\" in \"Incidents\" is on a soft-restricted network element.\n",
      "Location \"530610536021\" in \"Incidents\" is on a soft-restricted network element.\n",
      "Location \"421027779\" in \"Facilities\" is on a soft-restricted network element.\n",
      "Network elements with avoid-restrictions are traversed in the output (restriction attribute names: \"Avoid Private Roads\" \"Avoid Gates\").\n",
      "\n"
     ]
    },
    {
     "name": "stdout",
     "output_type": "stream",
     "text": [
      "success - 3377\n"
     ]
    },
    {
     "name": "stderr",
     "output_type": "stream",
     "text": [
      "Location \"421027779\" in \"Facilities\" is on a soft-restricted network element.\n",
      "\n",
      "Location \"530330219063\" in \"Incidents\" is on a soft-restricted network element.\n",
      "Location \"421027779\" in \"Facilities\" is on a soft-restricted network element.\n",
      "Network elements with avoid-restrictions are traversed in the output (restriction attribute names: \"Avoid Private Roads\" \"Avoid Gates\").\n",
      "\n",
      "Location \"421027779\" in \"Facilities\" is on a soft-restricted network element.\n",
      "Network elements with avoid-restrictions are traversed in the output (restriction attribute names: \"Avoid Gates\").\n",
      "\n",
      "Location \"530610523011\" in \"Incidents\" is on a soft-restricted network element.\n",
      "Location \"421027779\" in \"Facilities\" is on a soft-restricted network element.\n",
      "Network elements with avoid-restrictions are traversed in the output (restriction attribute names: \"Avoid Private Roads\").\n",
      "\n",
      "Location \"530610535052\" in \"Incidents\" is on a soft-restricted network element.\n",
      "Location \"530610536021\" in \"Incidents\" is on a soft-restricted network element.\n",
      "Location \"421027779\" in \"Facilities\" is on a soft-restricted network element.\n",
      "Network elements with avoid-restrictions are traversed in the output (restriction attribute names: \"Avoid Private Roads\").\n",
      "\n"
     ]
    },
    {
     "name": "stdout",
     "output_type": "stream",
     "text": [
      "success - 3380\n"
     ]
    },
    {
     "name": "stderr",
     "output_type": "stream",
     "text": [
      "Location \"421027779\" in \"Facilities\" is on a soft-restricted network element.\n",
      "\n",
      "Location \"530330219063\" in \"Incidents\" is on a soft-restricted network element.\n",
      "Location \"421027779\" in \"Facilities\" is on a soft-restricted network element.\n",
      "Network elements with avoid-restrictions are traversed in the output (restriction attribute names: \"Avoid Private Roads\" \"Avoid Gates\").\n",
      "\n",
      "Location \"421027779\" in \"Facilities\" is on a soft-restricted network element.\n",
      "Network elements with avoid-restrictions are traversed in the output (restriction attribute names: \"Avoid Gates\").\n",
      "\n",
      "Location \"530610523011\" in \"Incidents\" is on a soft-restricted network element.\n",
      "Location \"421027779\" in \"Facilities\" is on a soft-restricted network element.\n",
      "Network elements with avoid-restrictions are traversed in the output (restriction attribute names: \"Avoid Private Roads\").\n",
      "\n",
      "Location \"530610535052\" in \"Incidents\" is on a soft-restricted network element.\n",
      "Location \"530610536021\" in \"Incidents\" is on a soft-restricted network element.\n",
      "Location \"421027779\" in \"Facilities\" is on a soft-restricted network element.\n",
      "Network elements with avoid-restrictions are traversed in the output (restriction attribute names: \"Avoid Private Roads\").\n",
      "\n"
     ]
    },
    {
     "name": "stdout",
     "output_type": "stream",
     "text": [
      "success - 3382\n"
     ]
    },
    {
     "name": "stderr",
     "output_type": "stream",
     "text": [
      "Location \"421027779\" in \"Facilities\" is on a soft-restricted network element.\n",
      "\n",
      "Location \"530330219063\" in \"Incidents\" is on a soft-restricted network element.\n",
      "Location \"421027779\" in \"Facilities\" is on a soft-restricted network element.\n",
      "Network elements with avoid-restrictions are traversed in the output (restriction attribute names: \"Avoid Private Roads\" \"Avoid Gates\").\n",
      "\n",
      "Location \"421027779\" in \"Facilities\" is on a soft-restricted network element.\n",
      "Network elements with avoid-restrictions are traversed in the output (restriction attribute names: \"Avoid Gates\").\n",
      "\n",
      "Location \"530610523011\" in \"Incidents\" is on a soft-restricted network element.\n",
      "Location \"421027779\" in \"Facilities\" is on a soft-restricted network element.\n",
      "Network elements with avoid-restrictions are traversed in the output (restriction attribute names: \"Avoid Private Roads\").\n",
      "\n",
      "Location \"530610535052\" in \"Incidents\" is on a soft-restricted network element.\n",
      "Location \"530610536021\" in \"Incidents\" is on a soft-restricted network element.\n",
      "Location \"421027779\" in \"Facilities\" is on a soft-restricted network element.\n",
      "Network elements with avoid-restrictions are traversed in the output (restriction attribute names: \"Avoid Private Roads\").\n",
      "\n"
     ]
    },
    {
     "name": "stdout",
     "output_type": "stream",
     "text": [
      "success - 3410\n"
     ]
    },
    {
     "name": "stderr",
     "output_type": "stream",
     "text": [
      "Location \"421027779\" in \"Facilities\" is on a soft-restricted network element.\n",
      "\n",
      "Location \"530330219063\" in \"Incidents\" is on a soft-restricted network element.\n",
      "Location \"421027779\" in \"Facilities\" is on a soft-restricted network element.\n",
      "Network elements with avoid-restrictions are traversed in the output (restriction attribute names: \"Avoid Private Roads\" \"Avoid Gates\").\n",
      "\n",
      "Location \"421027779\" in \"Facilities\" is on a soft-restricted network element.\n",
      "Network elements with avoid-restrictions are traversed in the output (restriction attribute names: \"Avoid Gates\").\n",
      "\n",
      "Location \"530610523011\" in \"Incidents\" is on a soft-restricted network element.\n",
      "Location \"421027779\" in \"Facilities\" is on a soft-restricted network element.\n",
      "Network elements with avoid-restrictions are traversed in the output (restriction attribute names: \"Avoid Private Roads\").\n",
      "\n",
      "Location \"530610535052\" in \"Incidents\" is on a soft-restricted network element.\n",
      "Location \"530610536021\" in \"Incidents\" is on a soft-restricted network element.\n",
      "Location \"421027779\" in \"Facilities\" is on a soft-restricted network element.\n",
      "Network elements with avoid-restrictions are traversed in the output (restriction attribute names: \"Avoid Private Roads\").\n",
      "\n"
     ]
    },
    {
     "name": "stdout",
     "output_type": "stream",
     "text": [
      "success - 3411\n"
     ]
    },
    {
     "name": "stderr",
     "output_type": "stream",
     "text": [
      "Location \"421027779\" in \"Facilities\" is on a soft-restricted network element.\n",
      "\n",
      "Location \"530330219063\" in \"Incidents\" is on a soft-restricted network element.\n",
      "Location \"421027779\" in \"Facilities\" is on a soft-restricted network element.\n",
      "Network elements with avoid-restrictions are traversed in the output (restriction attribute names: \"Avoid Private Roads\").\n",
      "\n",
      "Location \"421027779\" in \"Facilities\" is on a soft-restricted network element.\n",
      "Network elements with avoid-restrictions are traversed in the output (restriction attribute names: \"Avoid Gates\").\n",
      "\n",
      "Location \"530610523011\" in \"Incidents\" is on a soft-restricted network element.\n",
      "Location \"421027779\" in \"Facilities\" is on a soft-restricted network element.\n",
      "Network elements with avoid-restrictions are traversed in the output (restriction attribute names: \"Avoid Private Roads\").\n",
      "\n",
      "Location \"530610535052\" in \"Incidents\" is on a soft-restricted network element.\n",
      "Location \"530610536021\" in \"Incidents\" is on a soft-restricted network element.\n",
      "Location \"421027779\" in \"Facilities\" is on a soft-restricted network element.\n",
      "Network elements with avoid-restrictions are traversed in the output (restriction attribute names: \"Avoid Private Roads\").\n",
      "\n"
     ]
    },
    {
     "name": "stdout",
     "output_type": "stream",
     "text": [
      "success - 3413\n"
     ]
    },
    {
     "name": "stderr",
     "output_type": "stream",
     "text": [
      "Location \"421027779\" in \"Facilities\" is on a soft-restricted network element.\n",
      "\n",
      "Location \"530330219063\" in \"Incidents\" is on a soft-restricted network element.\n",
      "Location \"421027779\" in \"Facilities\" is on a soft-restricted network element.\n",
      "Network elements with avoid-restrictions are traversed in the output (restriction attribute names: \"Avoid Private Roads\").\n",
      "\n",
      "Location \"421027779\" in \"Facilities\" is on a soft-restricted network element.\n",
      "Network elements with avoid-restrictions are traversed in the output (restriction attribute names: \"Avoid Gates\").\n",
      "\n",
      "Location \"530610523011\" in \"Incidents\" is on a soft-restricted network element.\n",
      "Location \"421027779\" in \"Facilities\" is on a soft-restricted network element.\n",
      "Network elements with avoid-restrictions are traversed in the output (restriction attribute names: \"Avoid Private Roads\").\n",
      "\n",
      "Location \"530610535052\" in \"Incidents\" is on a soft-restricted network element.\n",
      "Location \"530610536021\" in \"Incidents\" is on a soft-restricted network element.\n",
      "Location \"421027779\" in \"Facilities\" is on a soft-restricted network element.\n",
      "Network elements with avoid-restrictions are traversed in the output (restriction attribute names: \"Avoid Private Roads\").\n",
      "\n"
     ]
    },
    {
     "name": "stdout",
     "output_type": "stream",
     "text": [
      "success - 3414\n"
     ]
    },
    {
     "name": "stderr",
     "output_type": "stream",
     "text": [
      "Location \"421027779\" in \"Facilities\" is on a soft-restricted network element.\n",
      "\n",
      "Location \"530330219063\" in \"Incidents\" is on a soft-restricted network element.\n",
      "Location \"421027779\" in \"Facilities\" is on a soft-restricted network element.\n",
      "Network elements with avoid-restrictions are traversed in the output (restriction attribute names: \"Avoid Private Roads\").\n",
      "\n",
      "Location \"421027779\" in \"Facilities\" is on a soft-restricted network element.\n",
      "Network elements with avoid-restrictions are traversed in the output (restriction attribute names: \"Avoid Gates\").\n",
      "\n",
      "Location \"530610523011\" in \"Incidents\" is on a soft-restricted network element.\n",
      "Location \"421027779\" in \"Facilities\" is on a soft-restricted network element.\n",
      "Network elements with avoid-restrictions are traversed in the output (restriction attribute names: \"Avoid Private Roads\").\n",
      "\n",
      "Location \"530610535052\" in \"Incidents\" is on a soft-restricted network element.\n",
      "Location \"530610536021\" in \"Incidents\" is on a soft-restricted network element.\n",
      "Location \"421027779\" in \"Facilities\" is on a soft-restricted network element.\n",
      "Network elements with avoid-restrictions are traversed in the output (restriction attribute names: \"Avoid Private Roads\").\n",
      "\n"
     ]
    },
    {
     "name": "stdout",
     "output_type": "stream",
     "text": [
      "success - 3415\n"
     ]
    },
    {
     "name": "stderr",
     "output_type": "stream",
     "text": [
      "Location \"421027779\" in \"Facilities\" is on a soft-restricted network element.\n",
      "\n",
      "Location \"530330219063\" in \"Incidents\" is on a soft-restricted network element.\n",
      "Location \"421027779\" in \"Facilities\" is on a soft-restricted network element.\n",
      "Network elements with avoid-restrictions are traversed in the output (restriction attribute names: \"Avoid Private Roads\").\n",
      "\n",
      "Location \"421027779\" in \"Facilities\" is on a soft-restricted network element.\n",
      "Network elements with avoid-restrictions are traversed in the output (restriction attribute names: \"Avoid Gates\").\n",
      "\n",
      "Location \"530610523011\" in \"Incidents\" is on a soft-restricted network element.\n",
      "Location \"421027779\" in \"Facilities\" is on a soft-restricted network element.\n",
      "Network elements with avoid-restrictions are traversed in the output (restriction attribute names: \"Avoid Private Roads\").\n",
      "\n",
      "Location \"530610535052\" in \"Incidents\" is on a soft-restricted network element.\n",
      "Location \"530610536021\" in \"Incidents\" is on a soft-restricted network element.\n",
      "Location \"421027779\" in \"Facilities\" is on a soft-restricted network element.\n",
      "Network elements with avoid-restrictions are traversed in the output (restriction attribute names: \"Avoid Private Roads\").\n",
      "\n"
     ]
    },
    {
     "name": "stdout",
     "output_type": "stream",
     "text": [
      "success - 3416\n"
     ]
    },
    {
     "name": "stderr",
     "output_type": "stream",
     "text": [
      "Location \"421027779\" in \"Facilities\" is on a soft-restricted network element.\n",
      "\n",
      "Location \"530330219063\" in \"Incidents\" is on a soft-restricted network element.\n",
      "Location \"421027779\" in \"Facilities\" is on a soft-restricted network element.\n",
      "Network elements with avoid-restrictions are traversed in the output (restriction attribute names: \"Avoid Private Roads\").\n",
      "\n",
      "Location \"421027779\" in \"Facilities\" is on a soft-restricted network element.\n",
      "Network elements with avoid-restrictions are traversed in the output (restriction attribute names: \"Avoid Gates\").\n",
      "\n",
      "Location \"530610523011\" in \"Incidents\" is on a soft-restricted network element.\n",
      "Location \"421027779\" in \"Facilities\" is on a soft-restricted network element.\n",
      "Network elements with avoid-restrictions are traversed in the output (restriction attribute names: \"Avoid Private Roads\").\n",
      "\n",
      "Location \"530610535052\" in \"Incidents\" is on a soft-restricted network element.\n",
      "Location \"530610536021\" in \"Incidents\" is on a soft-restricted network element.\n",
      "Location \"421027779\" in \"Facilities\" is on a soft-restricted network element.\n",
      "Network elements with avoid-restrictions are traversed in the output (restriction attribute names: \"Avoid Private Roads\").\n",
      "\n"
     ]
    },
    {
     "name": "stdout",
     "output_type": "stream",
     "text": [
      "success - 3417\n"
     ]
    },
    {
     "name": "stderr",
     "output_type": "stream",
     "text": [
      "Location \"421027779\" in \"Facilities\" is on a soft-restricted network element.\n",
      "\n",
      "Location \"530330219063\" in \"Incidents\" is on a soft-restricted network element.\n",
      "Location \"421027779\" in \"Facilities\" is on a soft-restricted network element.\n",
      "Network elements with avoid-restrictions are traversed in the output (restriction attribute names: \"Avoid Private Roads\").\n",
      "\n",
      "Location \"421027779\" in \"Facilities\" is on a soft-restricted network element.\n",
      "Network elements with avoid-restrictions are traversed in the output (restriction attribute names: \"Avoid Gates\").\n",
      "\n",
      "Location \"530610523011\" in \"Incidents\" is on a soft-restricted network element.\n",
      "Location \"421027779\" in \"Facilities\" is on a soft-restricted network element.\n",
      "Network elements with avoid-restrictions are traversed in the output (restriction attribute names: \"Avoid Private Roads\").\n",
      "\n",
      "Location \"530610535052\" in \"Incidents\" is on a soft-restricted network element.\n",
      "Location \"530610536021\" in \"Incidents\" is on a soft-restricted network element.\n",
      "Location \"421027779\" in \"Facilities\" is on a soft-restricted network element.\n",
      "Network elements with avoid-restrictions are traversed in the output (restriction attribute names: \"Avoid Private Roads\").\n",
      "\n"
     ]
    },
    {
     "name": "stdout",
     "output_type": "stream",
     "text": [
      "success - 3418\n"
     ]
    },
    {
     "name": "stderr",
     "output_type": "stream",
     "text": [
      "Location \"421027779\" in \"Facilities\" is on a soft-restricted network element.\n",
      "\n",
      "Location \"530330219063\" in \"Incidents\" is on a soft-restricted network element.\n",
      "Location \"421027779\" in \"Facilities\" is on a soft-restricted network element.\n",
      "Network elements with avoid-restrictions are traversed in the output (restriction attribute names: \"Avoid Private Roads\").\n",
      "\n",
      "Location \"421027779\" in \"Facilities\" is on a soft-restricted network element.\n",
      "Network elements with avoid-restrictions are traversed in the output (restriction attribute names: \"Avoid Gates\").\n",
      "\n",
      "Location \"530610523011\" in \"Incidents\" is on a soft-restricted network element.\n",
      "Location \"421027779\" in \"Facilities\" is on a soft-restricted network element.\n",
      "Network elements with avoid-restrictions are traversed in the output (restriction attribute names: \"Avoid Private Roads\").\n",
      "\n",
      "Location \"530610535052\" in \"Incidents\" is on a soft-restricted network element.\n",
      "Location \"530610536021\" in \"Incidents\" is on a soft-restricted network element.\n",
      "Location \"421027779\" in \"Facilities\" is on a soft-restricted network element.\n",
      "Network elements with avoid-restrictions are traversed in the output (restriction attribute names: \"Avoid Private Roads\").\n",
      "\n"
     ]
    },
    {
     "name": "stdout",
     "output_type": "stream",
     "text": [
      "success - 3419\n"
     ]
    },
    {
     "name": "stderr",
     "output_type": "stream",
     "text": [
      "Location \"421027779\" in \"Facilities\" is on a soft-restricted network element.\n",
      "\n",
      "Location \"530330219063\" in \"Incidents\" is on a soft-restricted network element.\n",
      "Location \"421027779\" in \"Facilities\" is on a soft-restricted network element.\n",
      "Network elements with avoid-restrictions are traversed in the output (restriction attribute names: \"Avoid Private Roads\").\n",
      "\n",
      "Location \"421027779\" in \"Facilities\" is on a soft-restricted network element.\n",
      "Network elements with avoid-restrictions are traversed in the output (restriction attribute names: \"Avoid Gates\").\n",
      "\n",
      "Location \"530610523011\" in \"Incidents\" is on a soft-restricted network element.\n",
      "Location \"421027779\" in \"Facilities\" is on a soft-restricted network element.\n",
      "Network elements with avoid-restrictions are traversed in the output (restriction attribute names: \"Avoid Private Roads\" \"Avoid Gates\").\n",
      "\n",
      "Location \"530610535052\" in \"Incidents\" is on a soft-restricted network element.\n",
      "Location \"530610536021\" in \"Incidents\" is on a soft-restricted network element.\n",
      "Location \"421027779\" in \"Facilities\" is on a soft-restricted network element.\n",
      "Network elements with avoid-restrictions are traversed in the output (restriction attribute names: \"Avoid Private Roads\").\n",
      "\n"
     ]
    },
    {
     "name": "stdout",
     "output_type": "stream",
     "text": [
      "success - 3420\n"
     ]
    },
    {
     "name": "stderr",
     "output_type": "stream",
     "text": [
      "Location \"421027779\" in \"Facilities\" is on a soft-restricted network element.\n",
      "\n",
      "Location \"530330219063\" in \"Incidents\" is on a soft-restricted network element.\n",
      "Location \"421027779\" in \"Facilities\" is on a soft-restricted network element.\n",
      "Network elements with avoid-restrictions are traversed in the output (restriction attribute names: \"Avoid Private Roads\").\n",
      "\n",
      "Location \"421027779\" in \"Facilities\" is on a soft-restricted network element.\n",
      "Network elements with avoid-restrictions are traversed in the output (restriction attribute names: \"Avoid Gates\").\n",
      "\n",
      "Location \"530610523011\" in \"Incidents\" is on a soft-restricted network element.\n",
      "Location \"421027779\" in \"Facilities\" is on a soft-restricted network element.\n",
      "Network elements with avoid-restrictions are traversed in the output (restriction attribute names: \"Avoid Private Roads\" \"Avoid Gates\").\n",
      "\n",
      "Location \"530610535052\" in \"Incidents\" is on a soft-restricted network element.\n",
      "Location \"530610536021\" in \"Incidents\" is on a soft-restricted network element.\n",
      "Location \"421027779\" in \"Facilities\" is on a soft-restricted network element.\n",
      "Network elements with avoid-restrictions are traversed in the output (restriction attribute names: \"Avoid Private Roads\").\n",
      "\n"
     ]
    },
    {
     "name": "stdout",
     "output_type": "stream",
     "text": [
      "success - 3421\n"
     ]
    },
    {
     "name": "stderr",
     "output_type": "stream",
     "text": [
      "Location \"421027779\" in \"Facilities\" is on a soft-restricted network element.\n",
      "\n",
      "Location \"421027779\" in \"Facilities\" is on a soft-restricted network element.\n",
      "Network elements with avoid-restrictions are traversed in the output (restriction attribute names: \"Avoid Gates\").\n",
      "\n",
      "Location \"530610523011\" in \"Incidents\" is on a soft-restricted network element.\n",
      "Location \"421027779\" in \"Facilities\" is on a soft-restricted network element.\n",
      "Network elements with avoid-restrictions are traversed in the output (restriction attribute names: \"Avoid Private Roads\" \"Avoid Gates\").\n",
      "\n",
      "Location \"530610535052\" in \"Incidents\" is on a soft-restricted network element.\n",
      "Location \"530610536021\" in \"Incidents\" is on a soft-restricted network element.\n",
      "Location \"421027779\" in \"Facilities\" is on a soft-restricted network element.\n",
      "Network elements with avoid-restrictions are traversed in the output (restriction attribute names: \"Avoid Private Roads\" \"Avoid Gates\").\n",
      "\n",
      "Location \"421027779\" in \"Facilities\" is on a soft-restricted network element.\n",
      "\n"
     ]
    },
    {
     "name": "stdout",
     "output_type": "stream",
     "text": [
      "success - 3422\n"
     ]
    },
    {
     "name": "stderr",
     "output_type": "stream",
     "text": [
      "Location \"421027779\" in \"Facilities\" is on a soft-restricted network element.\n",
      "\n",
      "Location \"421027779\" in \"Facilities\" is on a soft-restricted network element.\n",
      "Network elements with avoid-restrictions are traversed in the output (restriction attribute names: \"Avoid Gates\").\n",
      "\n",
      "Location \"530610523011\" in \"Incidents\" is on a soft-restricted network element.\n",
      "Location \"421027779\" in \"Facilities\" is on a soft-restricted network element.\n",
      "Network elements with avoid-restrictions are traversed in the output (restriction attribute names: \"Avoid Private Roads\" \"Avoid Gates\").\n",
      "\n",
      "Location \"530610535052\" in \"Incidents\" is on a soft-restricted network element.\n",
      "Location \"530610536021\" in \"Incidents\" is on a soft-restricted network element.\n",
      "Location \"421027779\" in \"Facilities\" is on a soft-restricted network element.\n",
      "Network elements with avoid-restrictions are traversed in the output (restriction attribute names: \"Avoid Private Roads\" \"Avoid Gates\").\n",
      "\n",
      "Location \"421027779\" in \"Facilities\" is on a soft-restricted network element.\n",
      "\n"
     ]
    },
    {
     "name": "stdout",
     "output_type": "stream",
     "text": [
      "success - 3423\n"
     ]
    },
    {
     "name": "stderr",
     "output_type": "stream",
     "text": [
      "Location \"421027779\" in \"Facilities\" is on a soft-restricted network element.\n",
      "\n",
      "Location \"530330219063\" in \"Incidents\" is on a soft-restricted network element.\n",
      "Location \"421027779\" in \"Facilities\" is on a soft-restricted network element.\n",
      "Network elements with avoid-restrictions are traversed in the output (restriction attribute names: \"Avoid Private Roads\" \"Avoid Gates\").\n",
      "\n",
      "Location \"421027779\" in \"Facilities\" is on a soft-restricted network element.\n",
      "Network elements with avoid-restrictions are traversed in the output (restriction attribute names: \"Avoid Gates\").\n",
      "\n",
      "Location \"530610523011\" in \"Incidents\" is on a soft-restricted network element.\n",
      "Location \"421027779\" in \"Facilities\" is on a soft-restricted network element.\n",
      "Network elements with avoid-restrictions are traversed in the output (restriction attribute names: \"Avoid Private Roads\").\n",
      "\n",
      "Location \"530610535052\" in \"Incidents\" is on a soft-restricted network element.\n",
      "Location \"530610536021\" in \"Incidents\" is on a soft-restricted network element.\n",
      "Location \"421027779\" in \"Facilities\" is on a soft-restricted network element.\n",
      "Network elements with avoid-restrictions are traversed in the output (restriction attribute names: \"Avoid Private Roads\" \"Avoid Gates\").\n",
      "\n"
     ]
    },
    {
     "name": "stdout",
     "output_type": "stream",
     "text": [
      "success - 3432\n"
     ]
    },
    {
     "name": "stderr",
     "output_type": "stream",
     "text": [
      "Location \"421027779\" in \"Facilities\" is on a soft-restricted network element.\n",
      "\n",
      "Location \"530330219063\" in \"Incidents\" is on a soft-restricted network element.\n",
      "Location \"421027779\" in \"Facilities\" is on a soft-restricted network element.\n",
      "Network elements with avoid-restrictions are traversed in the output (restriction attribute names: \"Avoid Private Roads\" \"Avoid Gates\").\n",
      "\n",
      "Location \"421027779\" in \"Facilities\" is on a soft-restricted network element.\n",
      "Network elements with avoid-restrictions are traversed in the output (restriction attribute names: \"Avoid Gates\").\n",
      "\n",
      "Location \"530610523011\" in \"Incidents\" is on a soft-restricted network element.\n",
      "Location \"421027779\" in \"Facilities\" is on a soft-restricted network element.\n",
      "Network elements with avoid-restrictions are traversed in the output (restriction attribute names: \"Avoid Private Roads\").\n",
      "\n",
      "Location \"530610535052\" in \"Incidents\" is on a soft-restricted network element.\n",
      "Location \"530610536021\" in \"Incidents\" is on a soft-restricted network element.\n",
      "Location \"421027779\" in \"Facilities\" is on a soft-restricted network element.\n",
      "Network elements with avoid-restrictions are traversed in the output (restriction attribute names: \"Avoid Private Roads\" \"Avoid Gates\").\n",
      "\n"
     ]
    },
    {
     "name": "stdout",
     "output_type": "stream",
     "text": [
      "success - 3438\n"
     ]
    },
    {
     "name": "stderr",
     "output_type": "stream",
     "text": [
      "Location \"421027779\" in \"Facilities\" is on a soft-restricted network element.\n",
      "\n",
      "Location \"530330219063\" in \"Incidents\" is on a soft-restricted network element.\n",
      "Location \"421027779\" in \"Facilities\" is on a soft-restricted network element.\n",
      "Network elements with avoid-restrictions are traversed in the output (restriction attribute names: \"Avoid Private Roads\" \"Avoid Gates\").\n",
      "\n",
      "Location \"421027779\" in \"Facilities\" is on a soft-restricted network element.\n",
      "Network elements with avoid-restrictions are traversed in the output (restriction attribute names: \"Avoid Gates\").\n",
      "\n",
      "Location \"530610523011\" in \"Incidents\" is on a soft-restricted network element.\n",
      "Location \"421027779\" in \"Facilities\" is on a soft-restricted network element.\n",
      "Network elements with avoid-restrictions are traversed in the output (restriction attribute names: \"Avoid Private Roads\").\n",
      "\n",
      "Location \"530610535052\" in \"Incidents\" is on a soft-restricted network element.\n",
      "Location \"530610536021\" in \"Incidents\" is on a soft-restricted network element.\n",
      "Location \"421027779\" in \"Facilities\" is on a soft-restricted network element.\n",
      "Network elements with avoid-restrictions are traversed in the output (restriction attribute names: \"Avoid Private Roads\" \"Avoid Gates\").\n",
      "\n"
     ]
    },
    {
     "name": "stdout",
     "output_type": "stream",
     "text": [
      "success - 3439\n"
     ]
    },
    {
     "name": "stderr",
     "output_type": "stream",
     "text": [
      "Location \"421027779\" in \"Facilities\" is on a soft-restricted network element.\n",
      "\n",
      "Location \"530330219063\" in \"Incidents\" is on a soft-restricted network element.\n",
      "Location \"421027779\" in \"Facilities\" is on a soft-restricted network element.\n",
      "Network elements with avoid-restrictions are traversed in the output (restriction attribute names: \"Avoid Private Roads\" \"Avoid Gates\").\n",
      "\n",
      "Location \"421027779\" in \"Facilities\" is on a soft-restricted network element.\n",
      "Network elements with avoid-restrictions are traversed in the output (restriction attribute names: \"Avoid Gates\").\n",
      "\n",
      "Location \"530610523011\" in \"Incidents\" is on a soft-restricted network element.\n",
      "Location \"421027779\" in \"Facilities\" is on a soft-restricted network element.\n",
      "Network elements with avoid-restrictions are traversed in the output (restriction attribute names: \"Avoid Private Roads\").\n",
      "\n",
      "Location \"530610535052\" in \"Incidents\" is on a soft-restricted network element.\n",
      "Location \"530610536021\" in \"Incidents\" is on a soft-restricted network element.\n",
      "Location \"421027779\" in \"Facilities\" is on a soft-restricted network element.\n",
      "Network elements with avoid-restrictions are traversed in the output (restriction attribute names: \"Avoid Private Roads\").\n",
      "\n"
     ]
    },
    {
     "name": "stdout",
     "output_type": "stream",
     "text": [
      "success - 3444\n"
     ]
    },
    {
     "name": "stderr",
     "output_type": "stream",
     "text": [
      "Location \"421027779\" in \"Facilities\" is on a soft-restricted network element.\n",
      "\n",
      "Location \"530330219063\" in \"Incidents\" is on a soft-restricted network element.\n",
      "Location \"421027779\" in \"Facilities\" is on a soft-restricted network element.\n",
      "Network elements with avoid-restrictions are traversed in the output (restriction attribute names: \"Avoid Private Roads\" \"Avoid Gates\").\n",
      "\n",
      "Location \"421027779\" in \"Facilities\" is on a soft-restricted network element.\n",
      "Network elements with avoid-restrictions are traversed in the output (restriction attribute names: \"Avoid Gates\").\n",
      "\n",
      "Location \"530610523011\" in \"Incidents\" is on a soft-restricted network element.\n",
      "Location \"421027779\" in \"Facilities\" is on a soft-restricted network element.\n",
      "Network elements with avoid-restrictions are traversed in the output (restriction attribute names: \"Avoid Private Roads\").\n",
      "\n",
      "Location \"530610535052\" in \"Incidents\" is on a soft-restricted network element.\n",
      "Location \"530610536021\" in \"Incidents\" is on a soft-restricted network element.\n",
      "Location \"421027779\" in \"Facilities\" is on a soft-restricted network element.\n",
      "Network elements with avoid-restrictions are traversed in the output (restriction attribute names: \"Avoid Private Roads\").\n",
      "\n"
     ]
    },
    {
     "name": "stdout",
     "output_type": "stream",
     "text": [
      "success - 3445\n"
     ]
    },
    {
     "name": "stderr",
     "output_type": "stream",
     "text": [
      "Location \"421027779\" in \"Facilities\" is on a soft-restricted network element.\n",
      "\n",
      "Location \"530330219063\" in \"Incidents\" is on a soft-restricted network element.\n",
      "Location \"421027779\" in \"Facilities\" is on a soft-restricted network element.\n",
      "Network elements with avoid-restrictions are traversed in the output (restriction attribute names: \"Avoid Private Roads\" \"Avoid Gates\").\n",
      "\n",
      "Location \"421027779\" in \"Facilities\" is on a soft-restricted network element.\n",
      "Network elements with avoid-restrictions are traversed in the output (restriction attribute names: \"Avoid Gates\").\n",
      "\n",
      "Location \"530610523011\" in \"Incidents\" is on a soft-restricted network element.\n",
      "Location \"421027779\" in \"Facilities\" is on a soft-restricted network element.\n",
      "Network elements with avoid-restrictions are traversed in the output (restriction attribute names: \"Avoid Private Roads\").\n",
      "\n",
      "Location \"530610535052\" in \"Incidents\" is on a soft-restricted network element.\n",
      "Location \"530610536021\" in \"Incidents\" is on a soft-restricted network element.\n",
      "Location \"421027779\" in \"Facilities\" is on a soft-restricted network element.\n",
      "Network elements with avoid-restrictions are traversed in the output (restriction attribute names: \"Avoid Private Roads\").\n",
      "\n"
     ]
    },
    {
     "name": "stdout",
     "output_type": "stream",
     "text": [
      "success - 3476\n"
     ]
    },
    {
     "name": "stderr",
     "output_type": "stream",
     "text": [
      "Location \"421027779\" in \"Facilities\" is on a soft-restricted network element.\n",
      "\n",
      "Location \"530330219063\" in \"Incidents\" is on a soft-restricted network element.\n",
      "Location \"421027779\" in \"Facilities\" is on a soft-restricted network element.\n",
      "Network elements with avoid-restrictions are traversed in the output (restriction attribute names: \"Avoid Private Roads\").\n",
      "\n",
      "Location \"421027779\" in \"Facilities\" is on a soft-restricted network element.\n",
      "Network elements with avoid-restrictions are traversed in the output (restriction attribute names: \"Avoid Gates\").\n",
      "\n",
      "Location \"530610523011\" in \"Incidents\" is on a soft-restricted network element.\n",
      "Location \"421027779\" in \"Facilities\" is on a soft-restricted network element.\n",
      "Network elements with avoid-restrictions are traversed in the output (restriction attribute names: \"Avoid Private Roads\").\n",
      "\n",
      "Location \"530610535052\" in \"Incidents\" is on a soft-restricted network element.\n",
      "Location \"530610536021\" in \"Incidents\" is on a soft-restricted network element.\n",
      "Location \"421027779\" in \"Facilities\" is on a soft-restricted network element.\n",
      "Network elements with avoid-restrictions are traversed in the output (restriction attribute names: \"Avoid Private Roads\").\n",
      "\n"
     ]
    },
    {
     "name": "stdout",
     "output_type": "stream",
     "text": [
      "success - 3477\n"
     ]
    },
    {
     "name": "stderr",
     "output_type": "stream",
     "text": [
      "Location \"421027779\" in \"Facilities\" is on a soft-restricted network element.\n",
      "\n",
      "Location \"530330219063\" in \"Incidents\" is on a soft-restricted network element.\n",
      "Location \"421027779\" in \"Facilities\" is on a soft-restricted network element.\n",
      "Network elements with avoid-restrictions are traversed in the output (restriction attribute names: \"Avoid Private Roads\").\n",
      "\n",
      "Location \"421027779\" in \"Facilities\" is on a soft-restricted network element.\n",
      "Network elements with avoid-restrictions are traversed in the output (restriction attribute names: \"Avoid Gates\").\n",
      "\n",
      "Location \"530610523011\" in \"Incidents\" is on a soft-restricted network element.\n",
      "Location \"421027779\" in \"Facilities\" is on a soft-restricted network element.\n",
      "Network elements with avoid-restrictions are traversed in the output (restriction attribute names: \"Avoid Private Roads\").\n",
      "\n",
      "Location \"530610535052\" in \"Incidents\" is on a soft-restricted network element.\n",
      "Location \"530610536021\" in \"Incidents\" is on a soft-restricted network element.\n",
      "Location \"421027779\" in \"Facilities\" is on a soft-restricted network element.\n",
      "Network elements with avoid-restrictions are traversed in the output (restriction attribute names: \"Avoid Private Roads\").\n",
      "\n"
     ]
    },
    {
     "name": "stdout",
     "output_type": "stream",
     "text": [
      "success - 3478\n"
     ]
    },
    {
     "name": "stderr",
     "output_type": "stream",
     "text": [
      "Location \"421027779\" in \"Facilities\" is on a soft-restricted network element.\n",
      "\n",
      "Location \"530330219063\" in \"Incidents\" is on a soft-restricted network element.\n",
      "Location \"421027779\" in \"Facilities\" is on a soft-restricted network element.\n",
      "Network elements with avoid-restrictions are traversed in the output (restriction attribute names: \"Avoid Private Roads\").\n",
      "\n",
      "Location \"421027779\" in \"Facilities\" is on a soft-restricted network element.\n",
      "Network elements with avoid-restrictions are traversed in the output (restriction attribute names: \"Avoid Gates\").\n",
      "\n",
      "Location \"530610523011\" in \"Incidents\" is on a soft-restricted network element.\n",
      "Location \"421027779\" in \"Facilities\" is on a soft-restricted network element.\n",
      "Network elements with avoid-restrictions are traversed in the output (restriction attribute names: \"Avoid Private Roads\").\n",
      "\n",
      "Location \"530610535052\" in \"Incidents\" is on a soft-restricted network element.\n",
      "Location \"530610536021\" in \"Incidents\" is on a soft-restricted network element.\n",
      "Location \"421027779\" in \"Facilities\" is on a soft-restricted network element.\n",
      "Network elements with avoid-restrictions are traversed in the output (restriction attribute names: \"Avoid Private Roads\").\n",
      "\n"
     ]
    },
    {
     "name": "stdout",
     "output_type": "stream",
     "text": [
      "success - 3479\n"
     ]
    },
    {
     "name": "stderr",
     "output_type": "stream",
     "text": [
      "Location \"421027779\" in \"Facilities\" is on a soft-restricted network element.\n",
      "\n",
      "Location \"530330219063\" in \"Incidents\" is on a soft-restricted network element.\n",
      "Location \"421027779\" in \"Facilities\" is on a soft-restricted network element.\n",
      "Network elements with avoid-restrictions are traversed in the output (restriction attribute names: \"Avoid Private Roads\").\n",
      "\n",
      "Location \"421027779\" in \"Facilities\" is on a soft-restricted network element.\n",
      "Network elements with avoid-restrictions are traversed in the output (restriction attribute names: \"Avoid Gates\").\n",
      "\n",
      "Location \"530610523011\" in \"Incidents\" is on a soft-restricted network element.\n",
      "Location \"421027779\" in \"Facilities\" is on a soft-restricted network element.\n",
      "Network elements with avoid-restrictions are traversed in the output (restriction attribute names: \"Avoid Private Roads\").\n",
      "\n",
      "Location \"530610535052\" in \"Incidents\" is on a soft-restricted network element.\n",
      "Location \"530610536021\" in \"Incidents\" is on a soft-restricted network element.\n",
      "Location \"421027779\" in \"Facilities\" is on a soft-restricted network element.\n",
      "Network elements with avoid-restrictions are traversed in the output (restriction attribute names: \"Avoid Private Roads\").\n",
      "\n"
     ]
    },
    {
     "name": "stdout",
     "output_type": "stream",
     "text": [
      "success - 3480\n"
     ]
    },
    {
     "name": "stderr",
     "output_type": "stream",
     "text": [
      "Location \"421027779\" in \"Facilities\" is on a soft-restricted network element.\n",
      "\n",
      "Location \"530330219063\" in \"Incidents\" is on a soft-restricted network element.\n",
      "Location \"421027779\" in \"Facilities\" is on a soft-restricted network element.\n",
      "Network elements with avoid-restrictions are traversed in the output (restriction attribute names: \"Avoid Private Roads\").\n",
      "\n",
      "Location \"421027779\" in \"Facilities\" is on a soft-restricted network element.\n",
      "Network elements with avoid-restrictions are traversed in the output (restriction attribute names: \"Avoid Gates\").\n",
      "\n",
      "Location \"530610523011\" in \"Incidents\" is on a soft-restricted network element.\n",
      "Location \"421027779\" in \"Facilities\" is on a soft-restricted network element.\n",
      "Network elements with avoid-restrictions are traversed in the output (restriction attribute names: \"Avoid Private Roads\").\n",
      "\n",
      "Location \"530610535052\" in \"Incidents\" is on a soft-restricted network element.\n",
      "Location \"530610536021\" in \"Incidents\" is on a soft-restricted network element.\n",
      "Location \"421027779\" in \"Facilities\" is on a soft-restricted network element.\n",
      "Network elements with avoid-restrictions are traversed in the output (restriction attribute names: \"Avoid Private Roads\").\n",
      "\n"
     ]
    },
    {
     "name": "stdout",
     "output_type": "stream",
     "text": [
      "success - 3481\n"
     ]
    },
    {
     "name": "stderr",
     "output_type": "stream",
     "text": [
      "Location \"421027779\" in \"Facilities\" is on a soft-restricted network element.\n",
      "\n",
      "Location \"530330219063\" in \"Incidents\" is on a soft-restricted network element.\n",
      "Location \"421027779\" in \"Facilities\" is on a soft-restricted network element.\n",
      "Network elements with avoid-restrictions are traversed in the output (restriction attribute names: \"Avoid Private Roads\").\n",
      "\n",
      "Location \"421027779\" in \"Facilities\" is on a soft-restricted network element.\n",
      "Network elements with avoid-restrictions are traversed in the output (restriction attribute names: \"Avoid Gates\").\n",
      "\n",
      "Location \"530610523011\" in \"Incidents\" is on a soft-restricted network element.\n",
      "Location \"421027779\" in \"Facilities\" is on a soft-restricted network element.\n",
      "Network elements with avoid-restrictions are traversed in the output (restriction attribute names: \"Avoid Private Roads\").\n",
      "\n",
      "Location \"530610535052\" in \"Incidents\" is on a soft-restricted network element.\n",
      "Location \"530610536021\" in \"Incidents\" is on a soft-restricted network element.\n",
      "Location \"421027779\" in \"Facilities\" is on a soft-restricted network element.\n",
      "Network elements with avoid-restrictions are traversed in the output (restriction attribute names: \"Avoid Private Roads\").\n",
      "\n"
     ]
    },
    {
     "name": "stdout",
     "output_type": "stream",
     "text": [
      "success - 3482\n"
     ]
    },
    {
     "name": "stderr",
     "output_type": "stream",
     "text": [
      "Location \"421027779\" in \"Facilities\" is on a soft-restricted network element.\n",
      "\n",
      "Location \"530330219063\" in \"Incidents\" is on a soft-restricted network element.\n",
      "Location \"421027779\" in \"Facilities\" is on a soft-restricted network element.\n",
      "Network elements with avoid-restrictions are traversed in the output (restriction attribute names: \"Avoid Private Roads\").\n",
      "\n",
      "Location \"421027779\" in \"Facilities\" is on a soft-restricted network element.\n",
      "Network elements with avoid-restrictions are traversed in the output (restriction attribute names: \"Avoid Gates\").\n",
      "\n",
      "Location \"530610523011\" in \"Incidents\" is on a soft-restricted network element.\n",
      "Location \"421027779\" in \"Facilities\" is on a soft-restricted network element.\n",
      "Network elements with avoid-restrictions are traversed in the output (restriction attribute names: \"Avoid Private Roads\" \"Avoid Gates\").\n",
      "\n",
      "Location \"530610535052\" in \"Incidents\" is on a soft-restricted network element.\n",
      "Location \"530610536021\" in \"Incidents\" is on a soft-restricted network element.\n",
      "Location \"421027779\" in \"Facilities\" is on a soft-restricted network element.\n",
      "Network elements with avoid-restrictions are traversed in the output (restriction attribute names: \"Avoid Private Roads\").\n",
      "\n"
     ]
    },
    {
     "name": "stdout",
     "output_type": "stream",
     "text": [
      "success - 3483\n"
     ]
    },
    {
     "name": "stderr",
     "output_type": "stream",
     "text": [
      "Location \"421027779\" in \"Facilities\" is on a soft-restricted network element.\n",
      "\n",
      "Location \"530330219063\" in \"Incidents\" is on a soft-restricted network element.\n",
      "Location \"421027779\" in \"Facilities\" is on a soft-restricted network element.\n",
      "Network elements with avoid-restrictions are traversed in the output (restriction attribute names: \"Avoid Private Roads\").\n",
      "\n",
      "Location \"421027779\" in \"Facilities\" is on a soft-restricted network element.\n",
      "Network elements with avoid-restrictions are traversed in the output (restriction attribute names: \"Avoid Gates\").\n",
      "\n",
      "Location \"530610523011\" in \"Incidents\" is on a soft-restricted network element.\n",
      "Location \"421027779\" in \"Facilities\" is on a soft-restricted network element.\n",
      "Network elements with avoid-restrictions are traversed in the output (restriction attribute names: \"Avoid Private Roads\" \"Avoid Gates\").\n",
      "\n",
      "Location \"530610535052\" in \"Incidents\" is on a soft-restricted network element.\n",
      "Location \"530610536021\" in \"Incidents\" is on a soft-restricted network element.\n",
      "Location \"421027779\" in \"Facilities\" is on a soft-restricted network element.\n",
      "Network elements with avoid-restrictions are traversed in the output (restriction attribute names: \"Avoid Private Roads\").\n",
      "\n"
     ]
    },
    {
     "name": "stdout",
     "output_type": "stream",
     "text": [
      "success - 3484\n"
     ]
    },
    {
     "name": "stderr",
     "output_type": "stream",
     "text": [
      "Location \"421027779\" in \"Facilities\" is on a soft-restricted network element.\n",
      "\n",
      "Location \"530330219063\" in \"Incidents\" is on a soft-restricted network element.\n",
      "Location \"421027779\" in \"Facilities\" is on a soft-restricted network element.\n",
      "Network elements with avoid-restrictions are traversed in the output (restriction attribute names: \"Avoid Private Roads\").\n",
      "\n",
      "Location \"421027779\" in \"Facilities\" is on a soft-restricted network element.\n",
      "Network elements with avoid-restrictions are traversed in the output (restriction attribute names: \"Avoid Gates\").\n",
      "\n",
      "Location \"530610523011\" in \"Incidents\" is on a soft-restricted network element.\n",
      "Location \"421027779\" in \"Facilities\" is on a soft-restricted network element.\n",
      "Network elements with avoid-restrictions are traversed in the output (restriction attribute names: \"Avoid Private Roads\" \"Avoid Gates\").\n",
      "\n",
      "Location \"530610535052\" in \"Incidents\" is on a soft-restricted network element.\n",
      "Location \"530610536021\" in \"Incidents\" is on a soft-restricted network element.\n",
      "Location \"421027779\" in \"Facilities\" is on a soft-restricted network element.\n",
      "Network elements with avoid-restrictions are traversed in the output (restriction attribute names: \"Avoid Private Roads\").\n",
      "\n"
     ]
    },
    {
     "name": "stdout",
     "output_type": "stream",
     "text": [
      "success - 3485\n"
     ]
    },
    {
     "name": "stderr",
     "output_type": "stream",
     "text": [
      "Location \"421027779\" in \"Facilities\" is on a soft-restricted network element.\n",
      "\n",
      "Location \"421027779\" in \"Facilities\" is on a soft-restricted network element.\n",
      "Network elements with avoid-restrictions are traversed in the output (restriction attribute names: \"Avoid Gates\").\n",
      "\n",
      "Location \"530610523011\" in \"Incidents\" is on a soft-restricted network element.\n",
      "Location \"421027779\" in \"Facilities\" is on a soft-restricted network element.\n",
      "Network elements with avoid-restrictions are traversed in the output (restriction attribute names: \"Avoid Private Roads\" \"Avoid Gates\").\n",
      "\n",
      "Location \"530610535052\" in \"Incidents\" is on a soft-restricted network element.\n",
      "Location \"530610536021\" in \"Incidents\" is on a soft-restricted network element.\n",
      "Location \"421027779\" in \"Facilities\" is on a soft-restricted network element.\n",
      "Network elements with avoid-restrictions are traversed in the output (restriction attribute names: \"Avoid Private Roads\" \"Avoid Gates\").\n",
      "\n",
      "Location \"421027779\" in \"Facilities\" is on a soft-restricted network element.\n",
      "\n"
     ]
    },
    {
     "name": "stdout",
     "output_type": "stream",
     "text": [
      "success - 3486\n"
     ]
    },
    {
     "name": "stderr",
     "output_type": "stream",
     "text": [
      "Location \"421027779\" in \"Facilities\" is on a soft-restricted network element.\n",
      "\n",
      "Location \"421027779\" in \"Facilities\" is on a soft-restricted network element.\n",
      "Network elements with avoid-restrictions are traversed in the output (restriction attribute names: \"Avoid Gates\").\n",
      "\n",
      "Location \"530610523011\" in \"Incidents\" is on a soft-restricted network element.\n",
      "Location \"421027779\" in \"Facilities\" is on a soft-restricted network element.\n",
      "Network elements with avoid-restrictions are traversed in the output (restriction attribute names: \"Avoid Private Roads\" \"Avoid Gates\").\n",
      "\n",
      "Location \"530610535052\" in \"Incidents\" is on a soft-restricted network element.\n",
      "Location \"530610536021\" in \"Incidents\" is on a soft-restricted network element.\n",
      "Location \"421027779\" in \"Facilities\" is on a soft-restricted network element.\n",
      "Network elements with avoid-restrictions are traversed in the output (restriction attribute names: \"Avoid Private Roads\" \"Avoid Gates\").\n",
      "\n",
      "Location \"421027779\" in \"Facilities\" is on a soft-restricted network element.\n",
      "\n"
     ]
    },
    {
     "name": "stdout",
     "output_type": "stream",
     "text": [
      "success - 3487\n"
     ]
    },
    {
     "name": "stderr",
     "output_type": "stream",
     "text": [
      "Location \"421027779\" in \"Facilities\" is on a soft-restricted network element.\n",
      "\n",
      "Location \"530330219063\" in \"Incidents\" is on a soft-restricted network element.\n",
      "Location \"421027779\" in \"Facilities\" is on a soft-restricted network element.\n",
      "Network elements with avoid-restrictions are traversed in the output (restriction attribute names: \"Avoid Private Roads\" \"Avoid Gates\").\n",
      "\n",
      "Location \"421027779\" in \"Facilities\" is on a soft-restricted network element.\n",
      "Network elements with avoid-restrictions are traversed in the output (restriction attribute names: \"Avoid Gates\").\n",
      "\n",
      "Location \"530610523011\" in \"Incidents\" is on a soft-restricted network element.\n",
      "Location \"421027779\" in \"Facilities\" is on a soft-restricted network element.\n",
      "Network elements with avoid-restrictions are traversed in the output (restriction attribute names: \"Avoid Private Roads\").\n",
      "\n",
      "Location \"530610535052\" in \"Incidents\" is on a soft-restricted network element.\n",
      "Location \"530610536021\" in \"Incidents\" is on a soft-restricted network element.\n",
      "Location \"421027779\" in \"Facilities\" is on a soft-restricted network element.\n",
      "Network elements with avoid-restrictions are traversed in the output (restriction attribute names: \"Avoid Private Roads\" \"Avoid Gates\").\n",
      "\n"
     ]
    },
    {
     "name": "stdout",
     "output_type": "stream",
     "text": [
      "success - 3494\n"
     ]
    },
    {
     "name": "stderr",
     "output_type": "stream",
     "text": [
      "Location \"421027779\" in \"Facilities\" is on a soft-restricted network element.\n",
      "\n",
      "Location \"530330219063\" in \"Incidents\" is on a soft-restricted network element.\n",
      "Location \"421027779\" in \"Facilities\" is on a soft-restricted network element.\n",
      "Network elements with avoid-restrictions are traversed in the output (restriction attribute names: \"Avoid Private Roads\" \"Avoid Gates\").\n",
      "\n",
      "Location \"421027779\" in \"Facilities\" is on a soft-restricted network element.\n",
      "Network elements with avoid-restrictions are traversed in the output (restriction attribute names: \"Avoid Gates\").\n",
      "\n",
      "Location \"530610523011\" in \"Incidents\" is on a soft-restricted network element.\n",
      "Location \"421027779\" in \"Facilities\" is on a soft-restricted network element.\n",
      "Network elements with avoid-restrictions are traversed in the output (restriction attribute names: \"Avoid Private Roads\").\n",
      "\n",
      "Location \"530610535052\" in \"Incidents\" is on a soft-restricted network element.\n",
      "Location \"530610536021\" in \"Incidents\" is on a soft-restricted network element.\n",
      "Location \"421027779\" in \"Facilities\" is on a soft-restricted network element.\n",
      "Network elements with avoid-restrictions are traversed in the output (restriction attribute names: \"Avoid Private Roads\" \"Avoid Gates\").\n",
      "\n"
     ]
    },
    {
     "name": "stdout",
     "output_type": "stream",
     "text": [
      "success - 3495\n"
     ]
    },
    {
     "name": "stderr",
     "output_type": "stream",
     "text": [
      "Location \"421027779\" in \"Facilities\" is on a soft-restricted network element.\n",
      "\n",
      "Location \"530330219063\" in \"Incidents\" is on a soft-restricted network element.\n",
      "Location \"421027779\" in \"Facilities\" is on a soft-restricted network element.\n",
      "Network elements with avoid-restrictions are traversed in the output (restriction attribute names: \"Avoid Private Roads\" \"Avoid Gates\").\n",
      "\n",
      "Location \"421027779\" in \"Facilities\" is on a soft-restricted network element.\n",
      "Network elements with avoid-restrictions are traversed in the output (restriction attribute names: \"Avoid Gates\").\n",
      "\n",
      "Location \"530610523011\" in \"Incidents\" is on a soft-restricted network element.\n",
      "Location \"421027779\" in \"Facilities\" is on a soft-restricted network element.\n",
      "Network elements with avoid-restrictions are traversed in the output (restriction attribute names: \"Avoid Private Roads\").\n",
      "\n",
      "Location \"530610535052\" in \"Incidents\" is on a soft-restricted network element.\n",
      "Location \"530610536021\" in \"Incidents\" is on a soft-restricted network element.\n",
      "Location \"421027779\" in \"Facilities\" is on a soft-restricted network element.\n",
      "Network elements with avoid-restrictions are traversed in the output (restriction attribute names: \"Avoid Private Roads\" \"Avoid Gates\").\n",
      "\n"
     ]
    },
    {
     "name": "stdout",
     "output_type": "stream",
     "text": [
      "success - 3496\n"
     ]
    },
    {
     "name": "stderr",
     "output_type": "stream",
     "text": [
      "Location \"421027779\" in \"Facilities\" is on a soft-restricted network element.\n",
      "\n",
      "Location \"530330219063\" in \"Incidents\" is on a soft-restricted network element.\n",
      "Location \"421027779\" in \"Facilities\" is on a soft-restricted network element.\n",
      "Network elements with avoid-restrictions are traversed in the output (restriction attribute names: \"Avoid Private Roads\" \"Avoid Gates\").\n",
      "\n",
      "Location \"421027779\" in \"Facilities\" is on a soft-restricted network element.\n",
      "Network elements with avoid-restrictions are traversed in the output (restriction attribute names: \"Avoid Gates\").\n",
      "\n",
      "Location \"530610523011\" in \"Incidents\" is on a soft-restricted network element.\n",
      "Location \"421027779\" in \"Facilities\" is on a soft-restricted network element.\n",
      "Network elements with avoid-restrictions are traversed in the output (restriction attribute names: \"Avoid Private Roads\").\n",
      "\n",
      "Location \"530610535052\" in \"Incidents\" is on a soft-restricted network element.\n",
      "Location \"530610536021\" in \"Incidents\" is on a soft-restricted network element.\n",
      "Location \"421027779\" in \"Facilities\" is on a soft-restricted network element.\n",
      "Network elements with avoid-restrictions are traversed in the output (restriction attribute names: \"Avoid Private Roads\" \"Avoid Gates\").\n",
      "\n"
     ]
    },
    {
     "name": "stdout",
     "output_type": "stream",
     "text": [
      "success - 3501\n"
     ]
    },
    {
     "name": "stderr",
     "output_type": "stream",
     "text": [
      "Location \"421027779\" in \"Facilities\" is on a soft-restricted network element.\n",
      "\n",
      "Location \"530330219063\" in \"Incidents\" is on a soft-restricted network element.\n",
      "Location \"421027779\" in \"Facilities\" is on a soft-restricted network element.\n",
      "Network elements with avoid-restrictions are traversed in the output (restriction attribute names: \"Avoid Private Roads\" \"Avoid Gates\").\n",
      "\n",
      "Location \"421027779\" in \"Facilities\" is on a soft-restricted network element.\n",
      "Network elements with avoid-restrictions are traversed in the output (restriction attribute names: \"Avoid Gates\").\n",
      "\n",
      "Location \"530610523011\" in \"Incidents\" is on a soft-restricted network element.\n",
      "Location \"421027779\" in \"Facilities\" is on a soft-restricted network element.\n",
      "Network elements with avoid-restrictions are traversed in the output (restriction attribute names: \"Avoid Private Roads\").\n",
      "\n",
      "Location \"530610535052\" in \"Incidents\" is on a soft-restricted network element.\n",
      "Location \"530610536021\" in \"Incidents\" is on a soft-restricted network element.\n",
      "Location \"421027779\" in \"Facilities\" is on a soft-restricted network element.\n",
      "Network elements with avoid-restrictions are traversed in the output (restriction attribute names: \"Avoid Private Roads\" \"Avoid Gates\").\n",
      "\n"
     ]
    },
    {
     "name": "stdout",
     "output_type": "stream",
     "text": [
      "success - 3502\n"
     ]
    },
    {
     "name": "stderr",
     "output_type": "stream",
     "text": [
      "Location \"421027779\" in \"Facilities\" is on a soft-restricted network element.\n",
      "\n",
      "Location \"530330219063\" in \"Incidents\" is on a soft-restricted network element.\n",
      "Location \"421027779\" in \"Facilities\" is on a soft-restricted network element.\n",
      "Network elements with avoid-restrictions are traversed in the output (restriction attribute names: \"Avoid Private Roads\" \"Avoid Gates\").\n",
      "\n",
      "Location \"421027779\" in \"Facilities\" is on a soft-restricted network element.\n",
      "Network elements with avoid-restrictions are traversed in the output (restriction attribute names: \"Avoid Gates\").\n",
      "\n",
      "Location \"530610523011\" in \"Incidents\" is on a soft-restricted network element.\n",
      "Location \"421027779\" in \"Facilities\" is on a soft-restricted network element.\n",
      "Network elements with avoid-restrictions are traversed in the output (restriction attribute names: \"Avoid Private Roads\").\n",
      "\n",
      "Location \"530610535052\" in \"Incidents\" is on a soft-restricted network element.\n",
      "Location \"530610536021\" in \"Incidents\" is on a soft-restricted network element.\n",
      "Location \"421027779\" in \"Facilities\" is on a soft-restricted network element.\n",
      "Network elements with avoid-restrictions are traversed in the output (restriction attribute names: \"Avoid Private Roads\" \"Avoid Gates\").\n",
      "\n"
     ]
    },
    {
     "name": "stdout",
     "output_type": "stream",
     "text": [
      "success - 3503\n"
     ]
    },
    {
     "name": "stderr",
     "output_type": "stream",
     "text": [
      "Location \"421027779\" in \"Facilities\" is on a soft-restricted network element.\n",
      "\n",
      "Location \"530330219063\" in \"Incidents\" is on a soft-restricted network element.\n",
      "Location \"421027779\" in \"Facilities\" is on a soft-restricted network element.\n",
      "Network elements with avoid-restrictions are traversed in the output (restriction attribute names: \"Avoid Private Roads\" \"Avoid Gates\").\n",
      "\n",
      "Location \"421027779\" in \"Facilities\" is on a soft-restricted network element.\n",
      "Network elements with avoid-restrictions are traversed in the output (restriction attribute names: \"Avoid Gates\").\n",
      "\n",
      "Location \"530610523011\" in \"Incidents\" is on a soft-restricted network element.\n",
      "Location \"421027779\" in \"Facilities\" is on a soft-restricted network element.\n",
      "Network elements with avoid-restrictions are traversed in the output (restriction attribute names: \"Avoid Private Roads\").\n",
      "\n",
      "Location \"530610535052\" in \"Incidents\" is on a soft-restricted network element.\n",
      "Location \"530610536021\" in \"Incidents\" is on a soft-restricted network element.\n",
      "Location \"421027779\" in \"Facilities\" is on a soft-restricted network element.\n",
      "Network elements with avoid-restrictions are traversed in the output (restriction attribute names: \"Avoid Private Roads\" \"Avoid Gates\").\n",
      "\n"
     ]
    },
    {
     "name": "stdout",
     "output_type": "stream",
     "text": [
      "success - 3504\n"
     ]
    },
    {
     "name": "stderr",
     "output_type": "stream",
     "text": [
      "Location \"421027779\" in \"Facilities\" is on a soft-restricted network element.\n",
      "\n",
      "Location \"530330219063\" in \"Incidents\" is on a soft-restricted network element.\n",
      "Location \"421027779\" in \"Facilities\" is on a soft-restricted network element.\n",
      "Network elements with avoid-restrictions are traversed in the output (restriction attribute names: \"Avoid Private Roads\" \"Avoid Gates\").\n",
      "\n",
      "Location \"421027779\" in \"Facilities\" is on a soft-restricted network element.\n",
      "Network elements with avoid-restrictions are traversed in the output (restriction attribute names: \"Avoid Gates\").\n",
      "\n",
      "Location \"530610523011\" in \"Incidents\" is on a soft-restricted network element.\n",
      "Location \"421027779\" in \"Facilities\" is on a soft-restricted network element.\n",
      "Network elements with avoid-restrictions are traversed in the output (restriction attribute names: \"Avoid Private Roads\").\n",
      "\n",
      "Location \"530610535052\" in \"Incidents\" is on a soft-restricted network element.\n",
      "Location \"530610536021\" in \"Incidents\" is on a soft-restricted network element.\n",
      "Location \"421027779\" in \"Facilities\" is on a soft-restricted network element.\n",
      "Network elements with avoid-restrictions are traversed in the output (restriction attribute names: \"Avoid Private Roads\" \"Avoid Gates\").\n",
      "\n"
     ]
    },
    {
     "name": "stdout",
     "output_type": "stream",
     "text": [
      "success - 3505\n"
     ]
    },
    {
     "name": "stderr",
     "output_type": "stream",
     "text": [
      "Location \"421027779\" in \"Facilities\" is on a soft-restricted network element.\n",
      "\n",
      "Location \"530330219063\" in \"Incidents\" is on a soft-restricted network element.\n",
      "Location \"421027779\" in \"Facilities\" is on a soft-restricted network element.\n",
      "Network elements with avoid-restrictions are traversed in the output (restriction attribute names: \"Avoid Private Roads\" \"Avoid Gates\").\n",
      "\n",
      "Location \"421027779\" in \"Facilities\" is on a soft-restricted network element.\n",
      "Network elements with avoid-restrictions are traversed in the output (restriction attribute names: \"Avoid Gates\").\n",
      "\n",
      "Location \"530610523011\" in \"Incidents\" is on a soft-restricted network element.\n",
      "Location \"421027779\" in \"Facilities\" is on a soft-restricted network element.\n",
      "Network elements with avoid-restrictions are traversed in the output (restriction attribute names: \"Avoid Private Roads\").\n",
      "\n",
      "Location \"530610535052\" in \"Incidents\" is on a soft-restricted network element.\n",
      "Location \"530610536021\" in \"Incidents\" is on a soft-restricted network element.\n",
      "Location \"421027779\" in \"Facilities\" is on a soft-restricted network element.\n",
      "Network elements with avoid-restrictions are traversed in the output (restriction attribute names: \"Avoid Private Roads\").\n",
      "\n"
     ]
    },
    {
     "name": "stdout",
     "output_type": "stream",
     "text": [
      "success - 3507\n"
     ]
    },
    {
     "name": "stderr",
     "output_type": "stream",
     "text": [
      "Location \"421027779\" in \"Facilities\" is on a soft-restricted network element.\n",
      "\n",
      "Location \"530330219063\" in \"Incidents\" is on a soft-restricted network element.\n",
      "Location \"421027779\" in \"Facilities\" is on a soft-restricted network element.\n",
      "Network elements with avoid-restrictions are traversed in the output (restriction attribute names: \"Avoid Private Roads\" \"Avoid Gates\").\n",
      "\n",
      "Location \"421027779\" in \"Facilities\" is on a soft-restricted network element.\n",
      "Network elements with avoid-restrictions are traversed in the output (restriction attribute names: \"Avoid Gates\").\n",
      "\n",
      "Location \"530610523011\" in \"Incidents\" is on a soft-restricted network element.\n",
      "Location \"421027779\" in \"Facilities\" is on a soft-restricted network element.\n",
      "Network elements with avoid-restrictions are traversed in the output (restriction attribute names: \"Avoid Private Roads\").\n",
      "\n",
      "Location \"530610535052\" in \"Incidents\" is on a soft-restricted network element.\n",
      "Location \"530610536021\" in \"Incidents\" is on a soft-restricted network element.\n",
      "Location \"421027779\" in \"Facilities\" is on a soft-restricted network element.\n",
      "Network elements with avoid-restrictions are traversed in the output (restriction attribute names: \"Avoid Private Roads\").\n",
      "\n"
     ]
    },
    {
     "name": "stdout",
     "output_type": "stream",
     "text": [
      "success - 3538\n"
     ]
    },
    {
     "name": "stderr",
     "output_type": "stream",
     "text": [
      "Location \"421027779\" in \"Facilities\" is on a soft-restricted network element.\n",
      "\n",
      "Location \"530330219063\" in \"Incidents\" is on a soft-restricted network element.\n",
      "Location \"421027779\" in \"Facilities\" is on a soft-restricted network element.\n",
      "Network elements with avoid-restrictions are traversed in the output (restriction attribute names: \"Avoid Private Roads\" \"Avoid Gates\").\n",
      "\n",
      "Location \"421027779\" in \"Facilities\" is on a soft-restricted network element.\n",
      "Network elements with avoid-restrictions are traversed in the output (restriction attribute names: \"Avoid Gates\").\n",
      "\n",
      "Location \"530610523011\" in \"Incidents\" is on a soft-restricted network element.\n",
      "Location \"421027779\" in \"Facilities\" is on a soft-restricted network element.\n",
      "Network elements with avoid-restrictions are traversed in the output (restriction attribute names: \"Avoid Private Roads\").\n",
      "\n",
      "Location \"530610535052\" in \"Incidents\" is on a soft-restricted network element.\n",
      "Location \"530610536021\" in \"Incidents\" is on a soft-restricted network element.\n",
      "Location \"421027779\" in \"Facilities\" is on a soft-restricted network element.\n",
      "Network elements with avoid-restrictions are traversed in the output (restriction attribute names: \"Avoid Private Roads\").\n",
      "\n"
     ]
    },
    {
     "name": "stdout",
     "output_type": "stream",
     "text": [
      "success - 3539\n"
     ]
    },
    {
     "name": "stderr",
     "output_type": "stream",
     "text": [
      "Location \"421027779\" in \"Facilities\" is on a soft-restricted network element.\n",
      "\n",
      "Location \"530330219063\" in \"Incidents\" is on a soft-restricted network element.\n",
      "Location \"421027779\" in \"Facilities\" is on a soft-restricted network element.\n",
      "Network elements with avoid-restrictions are traversed in the output (restriction attribute names: \"Avoid Private Roads\" \"Avoid Gates\").\n",
      "\n",
      "Location \"421027779\" in \"Facilities\" is on a soft-restricted network element.\n",
      "Network elements with avoid-restrictions are traversed in the output (restriction attribute names: \"Avoid Gates\").\n",
      "\n",
      "Location \"530610523011\" in \"Incidents\" is on a soft-restricted network element.\n",
      "Location \"421027779\" in \"Facilities\" is on a soft-restricted network element.\n",
      "Network elements with avoid-restrictions are traversed in the output (restriction attribute names: \"Avoid Private Roads\").\n",
      "\n",
      "Location \"530610535052\" in \"Incidents\" is on a soft-restricted network element.\n",
      "Location \"530610536021\" in \"Incidents\" is on a soft-restricted network element.\n",
      "Location \"421027779\" in \"Facilities\" is on a soft-restricted network element.\n",
      "Network elements with avoid-restrictions are traversed in the output (restriction attribute names: \"Avoid Private Roads\").\n",
      "\n"
     ]
    },
    {
     "name": "stdout",
     "output_type": "stream",
     "text": [
      "success - 3540\n"
     ]
    },
    {
     "name": "stderr",
     "output_type": "stream",
     "text": [
      "Location \"421027779\" in \"Facilities\" is on a soft-restricted network element.\n",
      "\n",
      "Location \"530330219063\" in \"Incidents\" is on a soft-restricted network element.\n",
      "Location \"421027779\" in \"Facilities\" is on a soft-restricted network element.\n",
      "Network elements with avoid-restrictions are traversed in the output (restriction attribute names: \"Avoid Private Roads\").\n",
      "\n",
      "Location \"421027779\" in \"Facilities\" is on a soft-restricted network element.\n",
      "Network elements with avoid-restrictions are traversed in the output (restriction attribute names: \"Avoid Gates\").\n",
      "\n",
      "Location \"530610523011\" in \"Incidents\" is on a soft-restricted network element.\n",
      "Location \"421027779\" in \"Facilities\" is on a soft-restricted network element.\n",
      "Network elements with avoid-restrictions are traversed in the output (restriction attribute names: \"Avoid Private Roads\").\n",
      "\n",
      "Location \"530610535052\" in \"Incidents\" is on a soft-restricted network element.\n",
      "Location \"530610536021\" in \"Incidents\" is on a soft-restricted network element.\n",
      "Location \"421027779\" in \"Facilities\" is on a soft-restricted network element.\n",
      "Network elements with avoid-restrictions are traversed in the output (restriction attribute names: \"Avoid Private Roads\").\n",
      "\n"
     ]
    },
    {
     "name": "stdout",
     "output_type": "stream",
     "text": [
      "success - 3541\n"
     ]
    },
    {
     "name": "stderr",
     "output_type": "stream",
     "text": [
      "Location \"421027779\" in \"Facilities\" is on a soft-restricted network element.\n",
      "\n",
      "Location \"530330219063\" in \"Incidents\" is on a soft-restricted network element.\n",
      "Location \"421027779\" in \"Facilities\" is on a soft-restricted network element.\n",
      "Network elements with avoid-restrictions are traversed in the output (restriction attribute names: \"Avoid Private Roads\").\n",
      "\n",
      "Location \"421027779\" in \"Facilities\" is on a soft-restricted network element.\n",
      "Network elements with avoid-restrictions are traversed in the output (restriction attribute names: \"Avoid Gates\").\n",
      "\n",
      "Location \"530610523011\" in \"Incidents\" is on a soft-restricted network element.\n",
      "Location \"421027779\" in \"Facilities\" is on a soft-restricted network element.\n",
      "Network elements with avoid-restrictions are traversed in the output (restriction attribute names: \"Avoid Private Roads\").\n",
      "\n",
      "Location \"530610535052\" in \"Incidents\" is on a soft-restricted network element.\n",
      "Location \"530610536021\" in \"Incidents\" is on a soft-restricted network element.\n",
      "Location \"421027779\" in \"Facilities\" is on a soft-restricted network element.\n",
      "Network elements with avoid-restrictions are traversed in the output (restriction attribute names: \"Avoid Private Roads\").\n",
      "\n"
     ]
    },
    {
     "name": "stdout",
     "output_type": "stream",
     "text": [
      "success - 3542\n"
     ]
    },
    {
     "name": "stderr",
     "output_type": "stream",
     "text": [
      "Location \"421027779\" in \"Facilities\" is on a soft-restricted network element.\n",
      "\n",
      "Location \"530330219063\" in \"Incidents\" is on a soft-restricted network element.\n",
      "Location \"421027779\" in \"Facilities\" is on a soft-restricted network element.\n",
      "Network elements with avoid-restrictions are traversed in the output (restriction attribute names: \"Avoid Private Roads\").\n",
      "\n",
      "Location \"421027779\" in \"Facilities\" is on a soft-restricted network element.\n",
      "Network elements with avoid-restrictions are traversed in the output (restriction attribute names: \"Avoid Gates\").\n",
      "\n",
      "Location \"530610523011\" in \"Incidents\" is on a soft-restricted network element.\n",
      "Location \"421027779\" in \"Facilities\" is on a soft-restricted network element.\n",
      "Network elements with avoid-restrictions are traversed in the output (restriction attribute names: \"Avoid Private Roads\").\n",
      "\n",
      "Location \"530610535052\" in \"Incidents\" is on a soft-restricted network element.\n",
      "Location \"530610536021\" in \"Incidents\" is on a soft-restricted network element.\n",
      "Location \"421027779\" in \"Facilities\" is on a soft-restricted network element.\n",
      "Network elements with avoid-restrictions are traversed in the output (restriction attribute names: \"Avoid Private Roads\").\n",
      "\n"
     ]
    },
    {
     "name": "stdout",
     "output_type": "stream",
     "text": [
      "success - 3543\n"
     ]
    },
    {
     "name": "stderr",
     "output_type": "stream",
     "text": [
      "Location \"421027779\" in \"Facilities\" is on a soft-restricted network element.\n",
      "\n",
      "Location \"530330219063\" in \"Incidents\" is on a soft-restricted network element.\n",
      "Location \"421027779\" in \"Facilities\" is on a soft-restricted network element.\n",
      "Network elements with avoid-restrictions are traversed in the output (restriction attribute names: \"Avoid Private Roads\").\n",
      "\n",
      "Location \"421027779\" in \"Facilities\" is on a soft-restricted network element.\n",
      "Network elements with avoid-restrictions are traversed in the output (restriction attribute names: \"Avoid Gates\").\n",
      "\n",
      "Location \"530610523011\" in \"Incidents\" is on a soft-restricted network element.\n",
      "Location \"421027779\" in \"Facilities\" is on a soft-restricted network element.\n",
      "Network elements with avoid-restrictions are traversed in the output (restriction attribute names: \"Avoid Private Roads\").\n",
      "\n",
      "Location \"530610535052\" in \"Incidents\" is on a soft-restricted network element.\n",
      "Location \"530610536021\" in \"Incidents\" is on a soft-restricted network element.\n",
      "Location \"421027779\" in \"Facilities\" is on a soft-restricted network element.\n",
      "Network elements with avoid-restrictions are traversed in the output (restriction attribute names: \"Avoid Private Roads\").\n",
      "\n"
     ]
    },
    {
     "name": "stdout",
     "output_type": "stream",
     "text": [
      "success - 3544\n"
     ]
    },
    {
     "name": "stderr",
     "output_type": "stream",
     "text": [
      "Location \"421027779\" in \"Facilities\" is on a soft-restricted network element.\n",
      "\n",
      "Location \"530330219063\" in \"Incidents\" is on a soft-restricted network element.\n",
      "Location \"421027779\" in \"Facilities\" is on a soft-restricted network element.\n",
      "Network elements with avoid-restrictions are traversed in the output (restriction attribute names: \"Avoid Private Roads\").\n",
      "\n",
      "Location \"421027779\" in \"Facilities\" is on a soft-restricted network element.\n",
      "Network elements with avoid-restrictions are traversed in the output (restriction attribute names: \"Avoid Gates\").\n",
      "\n",
      "Location \"530610523011\" in \"Incidents\" is on a soft-restricted network element.\n",
      "Location \"421027779\" in \"Facilities\" is on a soft-restricted network element.\n",
      "Network elements with avoid-restrictions are traversed in the output (restriction attribute names: \"Avoid Private Roads\").\n",
      "\n",
      "Location \"530610535052\" in \"Incidents\" is on a soft-restricted network element.\n",
      "Location \"530610536021\" in \"Incidents\" is on a soft-restricted network element.\n",
      "Location \"421027779\" in \"Facilities\" is on a soft-restricted network element.\n",
      "Network elements with avoid-restrictions are traversed in the output (restriction attribute names: \"Avoid Private Roads\").\n",
      "\n"
     ]
    },
    {
     "name": "stdout",
     "output_type": "stream",
     "text": [
      "success - 3545\n"
     ]
    },
    {
     "name": "stderr",
     "output_type": "stream",
     "text": [
      "Location \"421027779\" in \"Facilities\" is on a soft-restricted network element.\n",
      "\n",
      "Location \"530330219063\" in \"Incidents\" is on a soft-restricted network element.\n",
      "Location \"421027779\" in \"Facilities\" is on a soft-restricted network element.\n",
      "Network elements with avoid-restrictions are traversed in the output (restriction attribute names: \"Avoid Private Roads\").\n",
      "\n",
      "Location \"421027779\" in \"Facilities\" is on a soft-restricted network element.\n",
      "Network elements with avoid-restrictions are traversed in the output (restriction attribute names: \"Avoid Gates\").\n",
      "\n",
      "Location \"530610523011\" in \"Incidents\" is on a soft-restricted network element.\n",
      "Location \"421027779\" in \"Facilities\" is on a soft-restricted network element.\n",
      "Network elements with avoid-restrictions are traversed in the output (restriction attribute names: \"Avoid Private Roads\").\n",
      "\n",
      "Location \"530610535052\" in \"Incidents\" is on a soft-restricted network element.\n",
      "Location \"530610536021\" in \"Incidents\" is on a soft-restricted network element.\n",
      "Location \"421027779\" in \"Facilities\" is on a soft-restricted network element.\n",
      "Network elements with avoid-restrictions are traversed in the output (restriction attribute names: \"Avoid Private Roads\").\n",
      "\n"
     ]
    },
    {
     "name": "stdout",
     "output_type": "stream",
     "text": [
      "success - 3546\n"
     ]
    },
    {
     "name": "stderr",
     "output_type": "stream",
     "text": [
      "Location \"421027779\" in \"Facilities\" is on a soft-restricted network element.\n",
      "\n",
      "Location \"530330219063\" in \"Incidents\" is on a soft-restricted network element.\n",
      "Location \"421027779\" in \"Facilities\" is on a soft-restricted network element.\n",
      "Network elements with avoid-restrictions are traversed in the output (restriction attribute names: \"Avoid Private Roads\").\n",
      "\n",
      "Location \"421027779\" in \"Facilities\" is on a soft-restricted network element.\n",
      "Network elements with avoid-restrictions are traversed in the output (restriction attribute names: \"Avoid Gates\").\n",
      "\n",
      "Location \"530610523011\" in \"Incidents\" is on a soft-restricted network element.\n",
      "Location \"421027779\" in \"Facilities\" is on a soft-restricted network element.\n",
      "Network elements with avoid-restrictions are traversed in the output (restriction attribute names: \"Avoid Private Roads\").\n",
      "\n",
      "Location \"530610535052\" in \"Incidents\" is on a soft-restricted network element.\n",
      "Location \"530610536021\" in \"Incidents\" is on a soft-restricted network element.\n",
      "Location \"421027779\" in \"Facilities\" is on a soft-restricted network element.\n",
      "Network elements with avoid-restrictions are traversed in the output (restriction attribute names: \"Avoid Private Roads\").\n",
      "\n"
     ]
    },
    {
     "name": "stdout",
     "output_type": "stream",
     "text": [
      "success - 3547\n"
     ]
    },
    {
     "name": "stderr",
     "output_type": "stream",
     "text": [
      "Location \"421027779\" in \"Facilities\" is on a soft-restricted network element.\n",
      "\n",
      "Location \"530330219063\" in \"Incidents\" is on a soft-restricted network element.\n",
      "Location \"421027779\" in \"Facilities\" is on a soft-restricted network element.\n",
      "Network elements with avoid-restrictions are traversed in the output (restriction attribute names: \"Avoid Private Roads\").\n",
      "\n",
      "Location \"421027779\" in \"Facilities\" is on a soft-restricted network element.\n",
      "Network elements with avoid-restrictions are traversed in the output (restriction attribute names: \"Avoid Gates\").\n",
      "\n",
      "Location \"530610523011\" in \"Incidents\" is on a soft-restricted network element.\n",
      "Location \"421027779\" in \"Facilities\" is on a soft-restricted network element.\n",
      "Network elements with avoid-restrictions are traversed in the output (restriction attribute names: \"Avoid Private Roads\" \"Avoid Gates\").\n",
      "\n",
      "Location \"530610535052\" in \"Incidents\" is on a soft-restricted network element.\n",
      "Location \"530610536021\" in \"Incidents\" is on a soft-restricted network element.\n",
      "Location \"421027779\" in \"Facilities\" is on a soft-restricted network element.\n",
      "Network elements with avoid-restrictions are traversed in the output (restriction attribute names: \"Avoid Private Roads\").\n",
      "\n"
     ]
    },
    {
     "name": "stdout",
     "output_type": "stream",
     "text": [
      "success - 3548\n"
     ]
    },
    {
     "name": "stderr",
     "output_type": "stream",
     "text": [
      "Location \"421027779\" in \"Facilities\" is on a soft-restricted network element.\n",
      "\n",
      "Location \"530330219063\" in \"Incidents\" is on a soft-restricted network element.\n",
      "Location \"421027779\" in \"Facilities\" is on a soft-restricted network element.\n",
      "Network elements with avoid-restrictions are traversed in the output (restriction attribute names: \"Avoid Private Roads\" \"Avoid Gates\").\n",
      "\n",
      "Location \"421027779\" in \"Facilities\" is on a soft-restricted network element.\n",
      "Network elements with avoid-restrictions are traversed in the output (restriction attribute names: \"Avoid Gates\").\n",
      "\n",
      "Location \"530610523011\" in \"Incidents\" is on a soft-restricted network element.\n",
      "Location \"421027779\" in \"Facilities\" is on a soft-restricted network element.\n",
      "Network elements with avoid-restrictions are traversed in the output (restriction attribute names: \"Avoid Private Roads\" \"Avoid Gates\").\n",
      "\n",
      "Location \"530610535052\" in \"Incidents\" is on a soft-restricted network element.\n",
      "Location \"530610536021\" in \"Incidents\" is on a soft-restricted network element.\n",
      "Location \"421027779\" in \"Facilities\" is on a soft-restricted network element.\n",
      "Network elements with avoid-restrictions are traversed in the output (restriction attribute names: \"Avoid Private Roads\" \"Avoid Gates\").\n",
      "\n"
     ]
    },
    {
     "name": "stdout",
     "output_type": "stream",
     "text": [
      "success - 3549\n"
     ]
    },
    {
     "name": "stderr",
     "output_type": "stream",
     "text": [
      "Location \"1\" in \"Incidents\" is on a soft-restricted network element.\n",
      "Location \"421027779\" in \"Facilities\" is on a soft-restricted network element.\n",
      "Network elements with avoid-restrictions are traversed in the output (restriction attribute names: \"Avoid Private Roads\").\n",
      "\n",
      "Location \"421027779\" in \"Facilities\" is on a soft-restricted network element.\n",
      "Location \"1\" in \"Facilities\" is on a soft-restricted network element.\n",
      "Network elements with avoid-restrictions are traversed in the output (restriction attribute names: \"Avoid Gates\").\n",
      "\n",
      "Location \"530610523011\" in \"Incidents\" is on a soft-restricted network element.\n",
      "Location \"421027779\" in \"Facilities\" is on a soft-restricted network element.\n",
      "Location \"1\" in \"Facilities\" is on a soft-restricted network element.\n",
      "Network elements with avoid-restrictions are traversed in the output (restriction attribute names: \"Avoid Private Roads\" \"Avoid Gates\").\n",
      "\n",
      "Location \"530610535052\" in \"Incidents\" is on a soft-restricted network element.\n",
      "Location \"530610536021\" in \"Incidents\" is on a soft-restricted network element.\n",
      "Location \"421027779\" in \"Facilities\" is on a soft-restricted network element.\n",
      "Location \"1\" in \"Facilities\" is on a soft-restricted network element.\n",
      "Network elements with avoid-restrictions are traversed in the output (restriction attribute names: \"Avoid Private Roads\" \"Avoid Gates\").\n",
      "\n",
      "Location \"421027779\" in \"Facilities\" is on a soft-restricted network element.\n",
      "Location \"1\" in \"Facilities\" is on a soft-restricted network element.\n",
      "Network elements with avoid-restrictions are traversed in the output (restriction attribute names: \"Avoid Private Roads\" \"Avoid Gates\").\n",
      "\n"
     ]
    },
    {
     "name": "stdout",
     "output_type": "stream",
     "text": [
      "success - 3550\n"
     ]
    },
    {
     "name": "stderr",
     "output_type": "stream",
     "text": [
      "Location \"421027779\" in \"Facilities\" is on a soft-restricted network element.\n",
      "\n",
      "Location \"421027779\" in \"Facilities\" is on a soft-restricted network element.\n",
      "Network elements with avoid-restrictions are traversed in the output (restriction attribute names: \"Avoid Gates\").\n",
      "\n",
      "Location \"530610523011\" in \"Incidents\" is on a soft-restricted network element.\n",
      "Location \"421027779\" in \"Facilities\" is on a soft-restricted network element.\n",
      "Network elements with avoid-restrictions are traversed in the output (restriction attribute names: \"Avoid Private Roads\" \"Avoid Gates\").\n",
      "\n",
      "Location \"530610535052\" in \"Incidents\" is on a soft-restricted network element.\n",
      "Location \"530610536021\" in \"Incidents\" is on a soft-restricted network element.\n",
      "Location \"421027779\" in \"Facilities\" is on a soft-restricted network element.\n",
      "Network elements with avoid-restrictions are traversed in the output (restriction attribute names: \"Avoid Private Roads\" \"Avoid Gates\").\n",
      "\n",
      "Location \"421027779\" in \"Facilities\" is on a soft-restricted network element.\n",
      "\n"
     ]
    },
    {
     "name": "stdout",
     "output_type": "stream",
     "text": [
      "success - 3551\n"
     ]
    },
    {
     "name": "stderr",
     "output_type": "stream",
     "text": [
      "Location \"421027779\" in \"Facilities\" is on a soft-restricted network element.\n",
      "\n",
      "Location \"421027779\" in \"Facilities\" is on a soft-restricted network element.\n",
      "Network elements with avoid-restrictions are traversed in the output (restriction attribute names: \"Avoid Gates\").\n",
      "\n",
      "Location \"530610523011\" in \"Incidents\" is on a soft-restricted network element.\n",
      "Location \"421027779\" in \"Facilities\" is on a soft-restricted network element.\n",
      "Network elements with avoid-restrictions are traversed in the output (restriction attribute names: \"Avoid Private Roads\" \"Avoid Gates\").\n",
      "\n",
      "Location \"530610535052\" in \"Incidents\" is on a soft-restricted network element.\n",
      "Location \"530610536021\" in \"Incidents\" is on a soft-restricted network element.\n",
      "Location \"421027779\" in \"Facilities\" is on a soft-restricted network element.\n",
      "Network elements with avoid-restrictions are traversed in the output (restriction attribute names: \"Avoid Private Roads\" \"Avoid Gates\").\n",
      "\n",
      "Location \"421027779\" in \"Facilities\" is on a soft-restricted network element.\n",
      "\n"
     ]
    },
    {
     "name": "stdout",
     "output_type": "stream",
     "text": [
      "success - 3552\n"
     ]
    },
    {
     "name": "stderr",
     "output_type": "stream",
     "text": [
      "Location \"421027779\" in \"Facilities\" is on a soft-restricted network element.\n",
      "\n",
      "Location \"530330219063\" in \"Incidents\" is on a soft-restricted network element.\n",
      "Location \"421027779\" in \"Facilities\" is on a soft-restricted network element.\n",
      "Network elements with avoid-restrictions are traversed in the output (restriction attribute names: \"Avoid Private Roads\" \"Avoid Gates\").\n",
      "\n",
      "Location \"421027779\" in \"Facilities\" is on a soft-restricted network element.\n",
      "Network elements with avoid-restrictions are traversed in the output (restriction attribute names: \"Avoid Gates\").\n",
      "\n",
      "Location \"530610523011\" in \"Incidents\" is on a soft-restricted network element.\n",
      "Location \"421027779\" in \"Facilities\" is on a soft-restricted network element.\n",
      "Network elements with avoid-restrictions are traversed in the output (restriction attribute names: \"Avoid Private Roads\").\n",
      "\n",
      "Location \"530610535052\" in \"Incidents\" is on a soft-restricted network element.\n",
      "Location \"530610536021\" in \"Incidents\" is on a soft-restricted network element.\n",
      "Location \"421027779\" in \"Facilities\" is on a soft-restricted network element.\n",
      "Network elements with avoid-restrictions are traversed in the output (restriction attribute names: \"Avoid Private Roads\" \"Avoid Gates\").\n",
      "\n"
     ]
    },
    {
     "name": "stdout",
     "output_type": "stream",
     "text": [
      "success - 3554\n"
     ]
    },
    {
     "name": "stderr",
     "output_type": "stream",
     "text": [
      "Location \"421027779\" in \"Facilities\" is on a soft-restricted network element.\n",
      "\n",
      "Location \"530330219063\" in \"Incidents\" is on a soft-restricted network element.\n",
      "Location \"421027779\" in \"Facilities\" is on a soft-restricted network element.\n",
      "Network elements with avoid-restrictions are traversed in the output (restriction attribute names: \"Avoid Private Roads\" \"Avoid Gates\").\n",
      "\n",
      "Location \"421027779\" in \"Facilities\" is on a soft-restricted network element.\n",
      "Network elements with avoid-restrictions are traversed in the output (restriction attribute names: \"Avoid Gates\").\n",
      "\n",
      "Location \"530610523011\" in \"Incidents\" is on a soft-restricted network element.\n",
      "Location \"421027779\" in \"Facilities\" is on a soft-restricted network element.\n",
      "Network elements with avoid-restrictions are traversed in the output (restriction attribute names: \"Avoid Private Roads\").\n",
      "\n",
      "Location \"530610535052\" in \"Incidents\" is on a soft-restricted network element.\n",
      "Location \"530610536021\" in \"Incidents\" is on a soft-restricted network element.\n",
      "Location \"421027779\" in \"Facilities\" is on a soft-restricted network element.\n",
      "Network elements with avoid-restrictions are traversed in the output (restriction attribute names: \"Avoid Private Roads\" \"Avoid Gates\").\n",
      "\n"
     ]
    },
    {
     "name": "stdout",
     "output_type": "stream",
     "text": [
      "success - 3556\n"
     ]
    },
    {
     "name": "stderr",
     "output_type": "stream",
     "text": [
      "Location \"421027779\" in \"Facilities\" is on a soft-restricted network element.\n",
      "\n",
      "Location \"530330219063\" in \"Incidents\" is on a soft-restricted network element.\n",
      "Location \"421027779\" in \"Facilities\" is on a soft-restricted network element.\n",
      "Network elements with avoid-restrictions are traversed in the output (restriction attribute names: \"Avoid Private Roads\" \"Avoid Gates\").\n",
      "\n",
      "Location \"421027779\" in \"Facilities\" is on a soft-restricted network element.\n",
      "Network elements with avoid-restrictions are traversed in the output (restriction attribute names: \"Avoid Gates\").\n",
      "\n",
      "Location \"530610523011\" in \"Incidents\" is on a soft-restricted network element.\n",
      "Location \"421027779\" in \"Facilities\" is on a soft-restricted network element.\n",
      "Network elements with avoid-restrictions are traversed in the output (restriction attribute names: \"Avoid Private Roads\").\n",
      "\n",
      "Location \"530610535052\" in \"Incidents\" is on a soft-restricted network element.\n",
      "Location \"530610536021\" in \"Incidents\" is on a soft-restricted network element.\n",
      "Location \"421027779\" in \"Facilities\" is on a soft-restricted network element.\n",
      "Network elements with avoid-restrictions are traversed in the output (restriction attribute names: \"Avoid Private Roads\" \"Avoid Gates\").\n",
      "\n"
     ]
    },
    {
     "name": "stdout",
     "output_type": "stream",
     "text": [
      "success - 3557\n"
     ]
    },
    {
     "name": "stderr",
     "output_type": "stream",
     "text": [
      "Location \"421027779\" in \"Facilities\" is on a soft-restricted network element.\n",
      "\n",
      "Location \"530330219063\" in \"Incidents\" is on a soft-restricted network element.\n",
      "Location \"421027779\" in \"Facilities\" is on a soft-restricted network element.\n",
      "Network elements with avoid-restrictions are traversed in the output (restriction attribute names: \"Avoid Private Roads\" \"Avoid Gates\").\n",
      "\n",
      "Location \"421027779\" in \"Facilities\" is on a soft-restricted network element.\n",
      "Network elements with avoid-restrictions are traversed in the output (restriction attribute names: \"Avoid Gates\").\n",
      "\n",
      "Location \"530610523011\" in \"Incidents\" is on a soft-restricted network element.\n",
      "Location \"421027779\" in \"Facilities\" is on a soft-restricted network element.\n",
      "Network elements with avoid-restrictions are traversed in the output (restriction attribute names: \"Avoid Private Roads\").\n",
      "\n",
      "Location \"530610535052\" in \"Incidents\" is on a soft-restricted network element.\n",
      "Location \"530610536021\" in \"Incidents\" is on a soft-restricted network element.\n",
      "Location \"421027779\" in \"Facilities\" is on a soft-restricted network element.\n",
      "Network elements with avoid-restrictions are traversed in the output (restriction attribute names: \"Avoid Private Roads\" \"Avoid Gates\").\n",
      "\n"
     ]
    },
    {
     "name": "stdout",
     "output_type": "stream",
     "text": [
      "success - 3558\n"
     ]
    },
    {
     "name": "stderr",
     "output_type": "stream",
     "text": [
      "Location \"421027779\" in \"Facilities\" is on a soft-restricted network element.\n",
      "\n",
      "Location \"530330219063\" in \"Incidents\" is on a soft-restricted network element.\n",
      "Location \"421027779\" in \"Facilities\" is on a soft-restricted network element.\n",
      "Network elements with avoid-restrictions are traversed in the output (restriction attribute names: \"Avoid Private Roads\" \"Avoid Gates\").\n",
      "\n",
      "Location \"421027779\" in \"Facilities\" is on a soft-restricted network element.\n",
      "Network elements with avoid-restrictions are traversed in the output (restriction attribute names: \"Avoid Gates\").\n",
      "\n",
      "Location \"530610523011\" in \"Incidents\" is on a soft-restricted network element.\n",
      "Location \"421027779\" in \"Facilities\" is on a soft-restricted network element.\n",
      "Network elements with avoid-restrictions are traversed in the output (restriction attribute names: \"Avoid Private Roads\").\n",
      "\n",
      "Location \"530610535052\" in \"Incidents\" is on a soft-restricted network element.\n",
      "Location \"530610536021\" in \"Incidents\" is on a soft-restricted network element.\n",
      "Location \"421027779\" in \"Facilities\" is on a soft-restricted network element.\n",
      "Network elements with avoid-restrictions are traversed in the output (restriction attribute names: \"Avoid Private Roads\" \"Avoid Gates\").\n",
      "\n"
     ]
    },
    {
     "name": "stdout",
     "output_type": "stream",
     "text": [
      "success - 3559\n"
     ]
    },
    {
     "name": "stderr",
     "output_type": "stream",
     "text": [
      "Location \"421027779\" in \"Facilities\" is on a soft-restricted network element.\n",
      "\n",
      "Location \"530330219063\" in \"Incidents\" is on a soft-restricted network element.\n",
      "Location \"421027779\" in \"Facilities\" is on a soft-restricted network element.\n",
      "Network elements with avoid-restrictions are traversed in the output (restriction attribute names: \"Avoid Private Roads\" \"Avoid Gates\").\n",
      "\n",
      "Location \"421027779\" in \"Facilities\" is on a soft-restricted network element.\n",
      "Network elements with avoid-restrictions are traversed in the output (restriction attribute names: \"Avoid Gates\").\n",
      "\n",
      "Location \"530610523011\" in \"Incidents\" is on a soft-restricted network element.\n",
      "Location \"421027779\" in \"Facilities\" is on a soft-restricted network element.\n",
      "Network elements with avoid-restrictions are traversed in the output (restriction attribute names: \"Avoid Private Roads\").\n",
      "\n",
      "Location \"530610535052\" in \"Incidents\" is on a soft-restricted network element.\n",
      "Location \"530610536021\" in \"Incidents\" is on a soft-restricted network element.\n",
      "Location \"421027779\" in \"Facilities\" is on a soft-restricted network element.\n",
      "Network elements with avoid-restrictions are traversed in the output (restriction attribute names: \"Avoid Private Roads\" \"Avoid Gates\").\n",
      "\n"
     ]
    },
    {
     "name": "stdout",
     "output_type": "stream",
     "text": [
      "success - 3560\n"
     ]
    },
    {
     "name": "stderr",
     "output_type": "stream",
     "text": [
      "Location \"421027779\" in \"Facilities\" is on a soft-restricted network element.\n",
      "\n",
      "Location \"530330219063\" in \"Incidents\" is on a soft-restricted network element.\n",
      "Location \"421027779\" in \"Facilities\" is on a soft-restricted network element.\n",
      "Network elements with avoid-restrictions are traversed in the output (restriction attribute names: \"Avoid Private Roads\" \"Avoid Gates\").\n",
      "\n",
      "Location \"421027779\" in \"Facilities\" is on a soft-restricted network element.\n",
      "Network elements with avoid-restrictions are traversed in the output (restriction attribute names: \"Avoid Gates\").\n",
      "\n",
      "Location \"530610523011\" in \"Incidents\" is on a soft-restricted network element.\n",
      "Location \"421027779\" in \"Facilities\" is on a soft-restricted network element.\n",
      "Network elements with avoid-restrictions are traversed in the output (restriction attribute names: \"Avoid Private Roads\").\n",
      "\n",
      "Location \"530610535052\" in \"Incidents\" is on a soft-restricted network element.\n",
      "Location \"530610536021\" in \"Incidents\" is on a soft-restricted network element.\n",
      "Location \"421027779\" in \"Facilities\" is on a soft-restricted network element.\n",
      "Network elements with avoid-restrictions are traversed in the output (restriction attribute names: \"Avoid Private Roads\" \"Avoid Gates\").\n",
      "\n"
     ]
    },
    {
     "name": "stdout",
     "output_type": "stream",
     "text": [
      "success - 3562\n"
     ]
    },
    {
     "name": "stderr",
     "output_type": "stream",
     "text": [
      "Location \"421027779\" in \"Facilities\" is on a soft-restricted network element.\n",
      "\n",
      "Location \"530330219063\" in \"Incidents\" is on a soft-restricted network element.\n",
      "Location \"421027779\" in \"Facilities\" is on a soft-restricted network element.\n",
      "Network elements with avoid-restrictions are traversed in the output (restriction attribute names: \"Avoid Private Roads\" \"Avoid Gates\").\n",
      "\n",
      "Location \"421027779\" in \"Facilities\" is on a soft-restricted network element.\n",
      "Network elements with avoid-restrictions are traversed in the output (restriction attribute names: \"Avoid Gates\").\n",
      "\n",
      "Location \"530610523011\" in \"Incidents\" is on a soft-restricted network element.\n",
      "Location \"421027779\" in \"Facilities\" is on a soft-restricted network element.\n",
      "Network elements with avoid-restrictions are traversed in the output (restriction attribute names: \"Avoid Private Roads\").\n",
      "\n",
      "Location \"530610535052\" in \"Incidents\" is on a soft-restricted network element.\n",
      "Location \"530610536021\" in \"Incidents\" is on a soft-restricted network element.\n",
      "Location \"421027779\" in \"Facilities\" is on a soft-restricted network element.\n",
      "Network elements with avoid-restrictions are traversed in the output (restriction attribute names: \"Avoid Private Roads\" \"Avoid Gates\").\n",
      "\n"
     ]
    },
    {
     "name": "stdout",
     "output_type": "stream",
     "text": [
      "success - 3564\n"
     ]
    },
    {
     "name": "stderr",
     "output_type": "stream",
     "text": [
      "Location \"421027779\" in \"Facilities\" is on a soft-restricted network element.\n",
      "\n",
      "Location \"530330219063\" in \"Incidents\" is on a soft-restricted network element.\n",
      "Location \"421027779\" in \"Facilities\" is on a soft-restricted network element.\n",
      "Network elements with avoid-restrictions are traversed in the output (restriction attribute names: \"Avoid Private Roads\" \"Avoid Gates\").\n",
      "\n",
      "Location \"421027779\" in \"Facilities\" is on a soft-restricted network element.\n",
      "Network elements with avoid-restrictions are traversed in the output (restriction attribute names: \"Avoid Gates\").\n",
      "\n",
      "Location \"530610523011\" in \"Incidents\" is on a soft-restricted network element.\n",
      "Location \"421027779\" in \"Facilities\" is on a soft-restricted network element.\n",
      "Network elements with avoid-restrictions are traversed in the output (restriction attribute names: \"Avoid Private Roads\").\n",
      "\n",
      "Location \"530610535052\" in \"Incidents\" is on a soft-restricted network element.\n",
      "Location \"530610536021\" in \"Incidents\" is on a soft-restricted network element.\n",
      "Location \"421027779\" in \"Facilities\" is on a soft-restricted network element.\n",
      "Network elements with avoid-restrictions are traversed in the output (restriction attribute names: \"Avoid Private Roads\" \"Avoid Gates\").\n",
      "\n"
     ]
    },
    {
     "name": "stdout",
     "output_type": "stream",
     "text": [
      "success - 3565\n"
     ]
    },
    {
     "name": "stderr",
     "output_type": "stream",
     "text": [
      "Location \"421027779\" in \"Facilities\" is on a soft-restricted network element.\n",
      "\n",
      "Location \"530330219063\" in \"Incidents\" is on a soft-restricted network element.\n",
      "Location \"421027779\" in \"Facilities\" is on a soft-restricted network element.\n",
      "Network elements with avoid-restrictions are traversed in the output (restriction attribute names: \"Avoid Private Roads\" \"Avoid Gates\").\n",
      "\n",
      "Location \"421027779\" in \"Facilities\" is on a soft-restricted network element.\n",
      "Network elements with avoid-restrictions are traversed in the output (restriction attribute names: \"Avoid Gates\").\n",
      "\n",
      "Location \"530610523011\" in \"Incidents\" is on a soft-restricted network element.\n",
      "Location \"421027779\" in \"Facilities\" is on a soft-restricted network element.\n",
      "Network elements with avoid-restrictions are traversed in the output (restriction attribute names: \"Avoid Private Roads\").\n",
      "\n",
      "Location \"530610535052\" in \"Incidents\" is on a soft-restricted network element.\n",
      "Location \"530610536021\" in \"Incidents\" is on a soft-restricted network element.\n",
      "Location \"421027779\" in \"Facilities\" is on a soft-restricted network element.\n",
      "Network elements with avoid-restrictions are traversed in the output (restriction attribute names: \"Avoid Private Roads\" \"Avoid Gates\").\n",
      "\n"
     ]
    },
    {
     "name": "stdout",
     "output_type": "stream",
     "text": [
      "success - 3567\n"
     ]
    },
    {
     "name": "stderr",
     "output_type": "stream",
     "text": [
      "Location \"421027779\" in \"Facilities\" is on a soft-restricted network element.\n",
      "\n",
      "Location \"530330219063\" in \"Incidents\" is on a soft-restricted network element.\n",
      "Location \"421027779\" in \"Facilities\" is on a soft-restricted network element.\n",
      "Network elements with avoid-restrictions are traversed in the output (restriction attribute names: \"Avoid Private Roads\" \"Avoid Gates\").\n",
      "\n",
      "Location \"421027779\" in \"Facilities\" is on a soft-restricted network element.\n",
      "Network elements with avoid-restrictions are traversed in the output (restriction attribute names: \"Avoid Gates\").\n",
      "\n",
      "Location \"530610523011\" in \"Incidents\" is on a soft-restricted network element.\n",
      "Location \"421027779\" in \"Facilities\" is on a soft-restricted network element.\n",
      "Network elements with avoid-restrictions are traversed in the output (restriction attribute names: \"Avoid Private Roads\").\n",
      "\n",
      "Location \"530610535052\" in \"Incidents\" is on a soft-restricted network element.\n",
      "Location \"530610536021\" in \"Incidents\" is on a soft-restricted network element.\n",
      "Location \"421027779\" in \"Facilities\" is on a soft-restricted network element.\n",
      "Network elements with avoid-restrictions are traversed in the output (restriction attribute names: \"Avoid Private Roads\" \"Avoid Gates\").\n",
      "\n"
     ]
    },
    {
     "name": "stdout",
     "output_type": "stream",
     "text": [
      "success - 3568\n"
     ]
    },
    {
     "name": "stderr",
     "output_type": "stream",
     "text": [
      "Location \"421027779\" in \"Facilities\" is on a soft-restricted network element.\n",
      "\n",
      "Location \"530330219063\" in \"Incidents\" is on a soft-restricted network element.\n",
      "Location \"421027779\" in \"Facilities\" is on a soft-restricted network element.\n",
      "Network elements with avoid-restrictions are traversed in the output (restriction attribute names: \"Avoid Private Roads\" \"Avoid Gates\").\n",
      "\n",
      "Location \"421027779\" in \"Facilities\" is on a soft-restricted network element.\n",
      "Network elements with avoid-restrictions are traversed in the output (restriction attribute names: \"Avoid Gates\").\n",
      "\n",
      "Location \"530610523011\" in \"Incidents\" is on a soft-restricted network element.\n",
      "Location \"421027779\" in \"Facilities\" is on a soft-restricted network element.\n",
      "Network elements with avoid-restrictions are traversed in the output (restriction attribute names: \"Avoid Private Roads\").\n",
      "\n",
      "Location \"530610535052\" in \"Incidents\" is on a soft-restricted network element.\n",
      "Location \"530610536021\" in \"Incidents\" is on a soft-restricted network element.\n",
      "Location \"421027779\" in \"Facilities\" is on a soft-restricted network element.\n",
      "Network elements with avoid-restrictions are traversed in the output (restriction attribute names: \"Avoid Private Roads\").\n",
      "\n"
     ]
    },
    {
     "name": "stdout",
     "output_type": "stream",
     "text": [
      "success - 3571\n"
     ]
    },
    {
     "name": "stderr",
     "output_type": "stream",
     "text": [
      "Location \"421027779\" in \"Facilities\" is on a soft-restricted network element.\n",
      "\n",
      "Location \"530330219063\" in \"Incidents\" is on a soft-restricted network element.\n",
      "Location \"421027779\" in \"Facilities\" is on a soft-restricted network element.\n",
      "Network elements with avoid-restrictions are traversed in the output (restriction attribute names: \"Avoid Private Roads\" \"Avoid Gates\").\n",
      "\n",
      "Location \"421027779\" in \"Facilities\" is on a soft-restricted network element.\n",
      "Network elements with avoid-restrictions are traversed in the output (restriction attribute names: \"Avoid Gates\").\n",
      "\n",
      "Location \"530610523011\" in \"Incidents\" is on a soft-restricted network element.\n",
      "Location \"421027779\" in \"Facilities\" is on a soft-restricted network element.\n",
      "Network elements with avoid-restrictions are traversed in the output (restriction attribute names: \"Avoid Private Roads\").\n",
      "\n",
      "Location \"530610535052\" in \"Incidents\" is on a soft-restricted network element.\n",
      "Location \"530610536021\" in \"Incidents\" is on a soft-restricted network element.\n",
      "Location \"421027779\" in \"Facilities\" is on a soft-restricted network element.\n",
      "Network elements with avoid-restrictions are traversed in the output (restriction attribute names: \"Avoid Private Roads\").\n",
      "\n"
     ]
    },
    {
     "name": "stdout",
     "output_type": "stream",
     "text": [
      "success - 3602\n"
     ]
    },
    {
     "name": "stderr",
     "output_type": "stream",
     "text": [
      "Location \"421027779\" in \"Facilities\" is on a soft-restricted network element.\n",
      "\n",
      "Location \"530330219063\" in \"Incidents\" is on a soft-restricted network element.\n",
      "Location \"421027779\" in \"Facilities\" is on a soft-restricted network element.\n",
      "Network elements with avoid-restrictions are traversed in the output (restriction attribute names: \"Avoid Private Roads\" \"Avoid Gates\").\n",
      "\n",
      "Location \"421027779\" in \"Facilities\" is on a soft-restricted network element.\n",
      "Network elements with avoid-restrictions are traversed in the output (restriction attribute names: \"Avoid Gates\").\n",
      "\n",
      "Location \"530610523011\" in \"Incidents\" is on a soft-restricted network element.\n",
      "Location \"421027779\" in \"Facilities\" is on a soft-restricted network element.\n",
      "Network elements with avoid-restrictions are traversed in the output (restriction attribute names: \"Avoid Private Roads\").\n",
      "\n",
      "Location \"530610535052\" in \"Incidents\" is on a soft-restricted network element.\n",
      "Location \"530610536021\" in \"Incidents\" is on a soft-restricted network element.\n",
      "Location \"421027779\" in \"Facilities\" is on a soft-restricted network element.\n",
      "Network elements with avoid-restrictions are traversed in the output (restriction attribute names: \"Avoid Private Roads\").\n",
      "\n"
     ]
    },
    {
     "name": "stdout",
     "output_type": "stream",
     "text": [
      "success - 3603\n"
     ]
    },
    {
     "name": "stderr",
     "output_type": "stream",
     "text": [
      "Location \"421027779\" in \"Facilities\" is on a soft-restricted network element.\n",
      "\n",
      "Location \"530330219063\" in \"Incidents\" is on a soft-restricted network element.\n",
      "Location \"421027779\" in \"Facilities\" is on a soft-restricted network element.\n",
      "Network elements with avoid-restrictions are traversed in the output (restriction attribute names: \"Avoid Private Roads\" \"Avoid Gates\").\n",
      "\n",
      "Location \"421027779\" in \"Facilities\" is on a soft-restricted network element.\n",
      "Network elements with avoid-restrictions are traversed in the output (restriction attribute names: \"Avoid Gates\").\n",
      "\n",
      "Location \"530610523011\" in \"Incidents\" is on a soft-restricted network element.\n",
      "Location \"421027779\" in \"Facilities\" is on a soft-restricted network element.\n",
      "Network elements with avoid-restrictions are traversed in the output (restriction attribute names: \"Avoid Private Roads\").\n",
      "\n",
      "Location \"530610535052\" in \"Incidents\" is on a soft-restricted network element.\n",
      "Location \"530610536021\" in \"Incidents\" is on a soft-restricted network element.\n",
      "Location \"421027779\" in \"Facilities\" is on a soft-restricted network element.\n",
      "Network elements with avoid-restrictions are traversed in the output (restriction attribute names: \"Avoid Private Roads\").\n",
      "\n"
     ]
    },
    {
     "name": "stdout",
     "output_type": "stream",
     "text": [
      "success - 3604\n"
     ]
    },
    {
     "name": "stderr",
     "output_type": "stream",
     "text": [
      "Location \"421027779\" in \"Facilities\" is on a soft-restricted network element.\n",
      "\n",
      "Location \"530330219063\" in \"Incidents\" is on a soft-restricted network element.\n",
      "Location \"421027779\" in \"Facilities\" is on a soft-restricted network element.\n",
      "Network elements with avoid-restrictions are traversed in the output (restriction attribute names: \"Avoid Private Roads\" \"Avoid Gates\").\n",
      "\n",
      "Location \"421027779\" in \"Facilities\" is on a soft-restricted network element.\n",
      "Network elements with avoid-restrictions are traversed in the output (restriction attribute names: \"Avoid Gates\").\n",
      "\n",
      "Location \"530610523011\" in \"Incidents\" is on a soft-restricted network element.\n",
      "Location \"421027779\" in \"Facilities\" is on a soft-restricted network element.\n",
      "Network elements with avoid-restrictions are traversed in the output (restriction attribute names: \"Avoid Private Roads\").\n",
      "\n",
      "Location \"530610535052\" in \"Incidents\" is on a soft-restricted network element.\n",
      "Location \"530610536021\" in \"Incidents\" is on a soft-restricted network element.\n",
      "Location \"421027779\" in \"Facilities\" is on a soft-restricted network element.\n",
      "Network elements with avoid-restrictions are traversed in the output (restriction attribute names: \"Avoid Private Roads\").\n",
      "\n"
     ]
    },
    {
     "name": "stdout",
     "output_type": "stream",
     "text": [
      "success - 3605\n"
     ]
    },
    {
     "name": "stderr",
     "output_type": "stream",
     "text": [
      "Location \"421027779\" in \"Facilities\" is on a soft-restricted network element.\n",
      "\n",
      "Location \"530330219063\" in \"Incidents\" is on a soft-restricted network element.\n",
      "Location \"421027779\" in \"Facilities\" is on a soft-restricted network element.\n",
      "Network elements with avoid-restrictions are traversed in the output (restriction attribute names: \"Avoid Private Roads\" \"Avoid Gates\").\n",
      "\n",
      "Location \"421027779\" in \"Facilities\" is on a soft-restricted network element.\n",
      "Network elements with avoid-restrictions are traversed in the output (restriction attribute names: \"Avoid Gates\").\n",
      "\n",
      "Location \"530610523011\" in \"Incidents\" is on a soft-restricted network element.\n",
      "Location \"421027779\" in \"Facilities\" is on a soft-restricted network element.\n",
      "Network elements with avoid-restrictions are traversed in the output (restriction attribute names: \"Avoid Private Roads\").\n",
      "\n",
      "Location \"530610535052\" in \"Incidents\" is on a soft-restricted network element.\n",
      "Location \"530610536021\" in \"Incidents\" is on a soft-restricted network element.\n",
      "Location \"421027779\" in \"Facilities\" is on a soft-restricted network element.\n",
      "Network elements with avoid-restrictions are traversed in the output (restriction attribute names: \"Avoid Private Roads\").\n",
      "\n"
     ]
    },
    {
     "name": "stdout",
     "output_type": "stream",
     "text": [
      "success - 3606\n"
     ]
    },
    {
     "name": "stderr",
     "output_type": "stream",
     "text": [
      "Location \"421027779\" in \"Facilities\" is on a soft-restricted network element.\n",
      "\n",
      "Location \"530330219063\" in \"Incidents\" is on a soft-restricted network element.\n",
      "Location \"421027779\" in \"Facilities\" is on a soft-restricted network element.\n",
      "Network elements with avoid-restrictions are traversed in the output (restriction attribute names: \"Avoid Private Roads\").\n",
      "\n",
      "Location \"421027779\" in \"Facilities\" is on a soft-restricted network element.\n",
      "Network elements with avoid-restrictions are traversed in the output (restriction attribute names: \"Avoid Gates\").\n",
      "\n",
      "Location \"530610523011\" in \"Incidents\" is on a soft-restricted network element.\n",
      "Location \"421027779\" in \"Facilities\" is on a soft-restricted network element.\n",
      "Network elements with avoid-restrictions are traversed in the output (restriction attribute names: \"Avoid Private Roads\").\n",
      "\n",
      "Location \"530610535052\" in \"Incidents\" is on a soft-restricted network element.\n",
      "Location \"530610536021\" in \"Incidents\" is on a soft-restricted network element.\n",
      "Location \"421027779\" in \"Facilities\" is on a soft-restricted network element.\n",
      "Network elements with avoid-restrictions are traversed in the output (restriction attribute names: \"Avoid Private Roads\").\n",
      "\n"
     ]
    },
    {
     "name": "stdout",
     "output_type": "stream",
     "text": [
      "success - 3607\n"
     ]
    },
    {
     "name": "stderr",
     "output_type": "stream",
     "text": [
      "Location \"421027779\" in \"Facilities\" is on a soft-restricted network element.\n",
      "\n",
      "Location \"530330219063\" in \"Incidents\" is on a soft-restricted network element.\n",
      "Location \"421027779\" in \"Facilities\" is on a soft-restricted network element.\n",
      "Network elements with avoid-restrictions are traversed in the output (restriction attribute names: \"Avoid Private Roads\" \"Avoid Gates\").\n",
      "\n",
      "Location \"421027779\" in \"Facilities\" is on a soft-restricted network element.\n",
      "Network elements with avoid-restrictions are traversed in the output (restriction attribute names: \"Avoid Gates\").\n",
      "\n",
      "Location \"530610523011\" in \"Incidents\" is on a soft-restricted network element.\n",
      "Location \"421027779\" in \"Facilities\" is on a soft-restricted network element.\n",
      "Network elements with avoid-restrictions are traversed in the output (restriction attribute names: \"Avoid Private Roads\").\n",
      "\n",
      "Location \"530610535052\" in \"Incidents\" is on a soft-restricted network element.\n",
      "Location \"530610536021\" in \"Incidents\" is on a soft-restricted network element.\n",
      "Location \"421027779\" in \"Facilities\" is on a soft-restricted network element.\n",
      "Network elements with avoid-restrictions are traversed in the output (restriction attribute names: \"Avoid Private Roads\").\n",
      "\n"
     ]
    },
    {
     "name": "stdout",
     "output_type": "stream",
     "text": [
      "success - 3608\n"
     ]
    },
    {
     "name": "stderr",
     "output_type": "stream",
     "text": [
      "Location \"421027779\" in \"Facilities\" is on a soft-restricted network element.\n",
      "\n",
      "Location \"530330219063\" in \"Incidents\" is on a soft-restricted network element.\n",
      "Location \"421027779\" in \"Facilities\" is on a soft-restricted network element.\n",
      "Network elements with avoid-restrictions are traversed in the output (restriction attribute names: \"Avoid Private Roads\").\n",
      "\n",
      "Location \"421027779\" in \"Facilities\" is on a soft-restricted network element.\n",
      "Network elements with avoid-restrictions are traversed in the output (restriction attribute names: \"Avoid Gates\").\n",
      "\n",
      "Location \"530610523011\" in \"Incidents\" is on a soft-restricted network element.\n",
      "Location \"421027779\" in \"Facilities\" is on a soft-restricted network element.\n",
      "Network elements with avoid-restrictions are traversed in the output (restriction attribute names: \"Avoid Private Roads\").\n",
      "\n",
      "Location \"530610535052\" in \"Incidents\" is on a soft-restricted network element.\n",
      "Location \"530610536021\" in \"Incidents\" is on a soft-restricted network element.\n",
      "Location \"421027779\" in \"Facilities\" is on a soft-restricted network element.\n",
      "Network elements with avoid-restrictions are traversed in the output (restriction attribute names: \"Avoid Private Roads\").\n",
      "\n"
     ]
    },
    {
     "name": "stdout",
     "output_type": "stream",
     "text": [
      "success - 3609\n"
     ]
    },
    {
     "name": "stderr",
     "output_type": "stream",
     "text": [
      "Location \"421027779\" in \"Facilities\" is on a soft-restricted network element.\n",
      "\n",
      "Location \"530330219063\" in \"Incidents\" is on a soft-restricted network element.\n",
      "Location \"421027779\" in \"Facilities\" is on a soft-restricted network element.\n",
      "Network elements with avoid-restrictions are traversed in the output (restriction attribute names: \"Avoid Private Roads\").\n",
      "\n",
      "Location \"421027779\" in \"Facilities\" is on a soft-restricted network element.\n",
      "Network elements with avoid-restrictions are traversed in the output (restriction attribute names: \"Avoid Gates\").\n",
      "\n",
      "Location \"530610523011\" in \"Incidents\" is on a soft-restricted network element.\n",
      "Location \"421027779\" in \"Facilities\" is on a soft-restricted network element.\n",
      "Network elements with avoid-restrictions are traversed in the output (restriction attribute names: \"Avoid Private Roads\").\n",
      "\n",
      "Location \"530610535052\" in \"Incidents\" is on a soft-restricted network element.\n",
      "Location \"530610536021\" in \"Incidents\" is on a soft-restricted network element.\n",
      "Location \"421027779\" in \"Facilities\" is on a soft-restricted network element.\n",
      "Network elements with avoid-restrictions are traversed in the output (restriction attribute names: \"Avoid Private Roads\").\n",
      "\n"
     ]
    },
    {
     "name": "stdout",
     "output_type": "stream",
     "text": [
      "success - 3610\n"
     ]
    },
    {
     "name": "stderr",
     "output_type": "stream",
     "text": [
      "Location \"421027779\" in \"Facilities\" is on a soft-restricted network element.\n",
      "\n",
      "Location \"530330219063\" in \"Incidents\" is on a soft-restricted network element.\n",
      "Location \"421027779\" in \"Facilities\" is on a soft-restricted network element.\n",
      "Network elements with avoid-restrictions are traversed in the output (restriction attribute names: \"Avoid Private Roads\").\n",
      "\n",
      "Location \"421027779\" in \"Facilities\" is on a soft-restricted network element.\n",
      "Network elements with avoid-restrictions are traversed in the output (restriction attribute names: \"Avoid Gates\").\n",
      "\n",
      "Location \"530610523011\" in \"Incidents\" is on a soft-restricted network element.\n",
      "Location \"421027779\" in \"Facilities\" is on a soft-restricted network element.\n",
      "Network elements with avoid-restrictions are traversed in the output (restriction attribute names: \"Avoid Private Roads\").\n",
      "\n",
      "Location \"530610535052\" in \"Incidents\" is on a soft-restricted network element.\n",
      "Location \"530610536021\" in \"Incidents\" is on a soft-restricted network element.\n",
      "Location \"421027779\" in \"Facilities\" is on a soft-restricted network element.\n",
      "Network elements with avoid-restrictions are traversed in the output (restriction attribute names: \"Avoid Private Roads\").\n",
      "\n"
     ]
    },
    {
     "name": "stdout",
     "output_type": "stream",
     "text": [
      "success - 3611\n"
     ]
    },
    {
     "name": "stderr",
     "output_type": "stream",
     "text": [
      "Location \"421027779\" in \"Facilities\" is on a soft-restricted network element.\n",
      "\n",
      "Location \"530330219063\" in \"Incidents\" is on a soft-restricted network element.\n",
      "Location \"421027779\" in \"Facilities\" is on a soft-restricted network element.\n",
      "Network elements with avoid-restrictions are traversed in the output (restriction attribute names: \"Avoid Private Roads\" \"Avoid Gates\").\n",
      "\n",
      "Location \"421027779\" in \"Facilities\" is on a soft-restricted network element.\n",
      "Network elements with avoid-restrictions are traversed in the output (restriction attribute names: \"Avoid Gates\").\n",
      "\n",
      "Location \"530610523011\" in \"Incidents\" is on a soft-restricted network element.\n",
      "Location \"421027779\" in \"Facilities\" is on a soft-restricted network element.\n",
      "Network elements with avoid-restrictions are traversed in the output (restriction attribute names: \"Avoid Private Roads\").\n",
      "\n",
      "Location \"530610535052\" in \"Incidents\" is on a soft-restricted network element.\n",
      "Location \"530610536021\" in \"Incidents\" is on a soft-restricted network element.\n",
      "Location \"421027779\" in \"Facilities\" is on a soft-restricted network element.\n",
      "Network elements with avoid-restrictions are traversed in the output (restriction attribute names: \"Avoid Private Roads\").\n",
      "\n"
     ]
    },
    {
     "name": "stdout",
     "output_type": "stream",
     "text": [
      "success - 3612\n"
     ]
    },
    {
     "name": "stderr",
     "output_type": "stream",
     "text": [
      "Location \"421027779\" in \"Facilities\" is on a soft-restricted network element.\n",
      "\n",
      "Location \"530330219063\" in \"Incidents\" is on a soft-restricted network element.\n",
      "Location \"421027779\" in \"Facilities\" is on a soft-restricted network element.\n",
      "Network elements with avoid-restrictions are traversed in the output (restriction attribute names: \"Avoid Private Roads\" \"Avoid Gates\").\n",
      "\n",
      "Location \"421027779\" in \"Facilities\" is on a soft-restricted network element.\n",
      "Network elements with avoid-restrictions are traversed in the output (restriction attribute names: \"Avoid Gates\").\n",
      "\n",
      "Location \"530610523011\" in \"Incidents\" is on a soft-restricted network element.\n",
      "Location \"421027779\" in \"Facilities\" is on a soft-restricted network element.\n",
      "Network elements with avoid-restrictions are traversed in the output (restriction attribute names: \"Avoid Private Roads\").\n",
      "\n",
      "Location \"530610535052\" in \"Incidents\" is on a soft-restricted network element.\n",
      "Location \"530610536021\" in \"Incidents\" is on a soft-restricted network element.\n",
      "Location \"421027779\" in \"Facilities\" is on a soft-restricted network element.\n",
      "Network elements with avoid-restrictions are traversed in the output (restriction attribute names: \"Avoid Private Roads\" \"Avoid Gates\").\n",
      "\n"
     ]
    },
    {
     "name": "stdout",
     "output_type": "stream",
     "text": [
      "success - 3613\n"
     ]
    },
    {
     "name": "stderr",
     "output_type": "stream",
     "text": [
      "Location \"421027779\" in \"Facilities\" is on a soft-restricted network element.\n",
      "\n",
      "Location \"530330219063\" in \"Incidents\" is on a soft-restricted network element.\n",
      "Location \"421027779\" in \"Facilities\" is on a soft-restricted network element.\n",
      "Network elements with avoid-restrictions are traversed in the output (restriction attribute names: \"Avoid Private Roads\" \"Avoid Gates\").\n",
      "\n",
      "Location \"421027779\" in \"Facilities\" is on a soft-restricted network element.\n",
      "Network elements with avoid-restrictions are traversed in the output (restriction attribute names: \"Avoid Gates\").\n",
      "\n",
      "Location \"530610523011\" in \"Incidents\" is on a soft-restricted network element.\n",
      "Location \"421027779\" in \"Facilities\" is on a soft-restricted network element.\n",
      "Network elements with avoid-restrictions are traversed in the output (restriction attribute names: \"Avoid Private Roads\").\n",
      "\n",
      "Location \"530610535052\" in \"Incidents\" is on a soft-restricted network element.\n",
      "Location \"530610536021\" in \"Incidents\" is on a soft-restricted network element.\n",
      "Location \"421027779\" in \"Facilities\" is on a soft-restricted network element.\n",
      "Network elements with avoid-restrictions are traversed in the output (restriction attribute names: \"Avoid Private Roads\" \"Avoid Gates\").\n",
      "\n"
     ]
    },
    {
     "name": "stdout",
     "output_type": "stream",
     "text": [
      "success - 3614\n"
     ]
    },
    {
     "name": "stderr",
     "output_type": "stream",
     "text": [
      "Location \"421027779\" in \"Facilities\" is on a soft-restricted network element.\n",
      "\n",
      "Location \"421027779\" in \"Facilities\" is on a soft-restricted network element.\n",
      "Network elements with avoid-restrictions are traversed in the output (restriction attribute names: \"Avoid Gates\").\n",
      "\n",
      "Location \"530610523011\" in \"Incidents\" is on a soft-restricted network element.\n",
      "Location \"421027779\" in \"Facilities\" is on a soft-restricted network element.\n",
      "Network elements with avoid-restrictions are traversed in the output (restriction attribute names: \"Avoid Private Roads\" \"Avoid Gates\").\n",
      "\n",
      "Location \"530610535052\" in \"Incidents\" is on a soft-restricted network element.\n",
      "Location \"530610536021\" in \"Incidents\" is on a soft-restricted network element.\n",
      "Location \"421027779\" in \"Facilities\" is on a soft-restricted network element.\n",
      "Network elements with avoid-restrictions are traversed in the output (restriction attribute names: \"Avoid Private Roads\" \"Avoid Gates\").\n",
      "\n",
      "Location \"421027779\" in \"Facilities\" is on a soft-restricted network element.\n",
      "\n"
     ]
    },
    {
     "name": "stdout",
     "output_type": "stream",
     "text": [
      "success - 3615\n"
     ]
    },
    {
     "name": "stderr",
     "output_type": "stream",
     "text": [
      "Location \"421027779\" in \"Facilities\" is on a soft-restricted network element.\n",
      "\n",
      "Location \"530330219063\" in \"Incidents\" is on a soft-restricted network element.\n",
      "Location \"421027779\" in \"Facilities\" is on a soft-restricted network element.\n",
      "Network elements with avoid-restrictions are traversed in the output (restriction attribute names: \"Avoid Private Roads\" \"Avoid Gates\").\n",
      "\n",
      "Location \"421027779\" in \"Facilities\" is on a soft-restricted network element.\n",
      "Network elements with avoid-restrictions are traversed in the output (restriction attribute names: \"Avoid Gates\").\n",
      "\n",
      "Location \"530610523011\" in \"Incidents\" is on a soft-restricted network element.\n",
      "Location \"421027779\" in \"Facilities\" is on a soft-restricted network element.\n",
      "Network elements with avoid-restrictions are traversed in the output (restriction attribute names: \"Avoid Private Roads\").\n",
      "\n",
      "Location \"530610535052\" in \"Incidents\" is on a soft-restricted network element.\n",
      "Location \"530610536021\" in \"Incidents\" is on a soft-restricted network element.\n",
      "Location \"421027779\" in \"Facilities\" is on a soft-restricted network element.\n",
      "Network elements with avoid-restrictions are traversed in the output (restriction attribute names: \"Avoid Private Roads\" \"Avoid Gates\").\n",
      "\n"
     ]
    },
    {
     "name": "stdout",
     "output_type": "stream",
     "text": [
      "success - 3618\n"
     ]
    },
    {
     "name": "stderr",
     "output_type": "stream",
     "text": [
      "Location \"421027779\" in \"Facilities\" is on a soft-restricted network element.\n",
      "\n",
      "Location \"530330219063\" in \"Incidents\" is on a soft-restricted network element.\n",
      "Location \"421027779\" in \"Facilities\" is on a soft-restricted network element.\n",
      "Network elements with avoid-restrictions are traversed in the output (restriction attribute names: \"Avoid Private Roads\" \"Avoid Gates\").\n",
      "\n",
      "Location \"421027779\" in \"Facilities\" is on a soft-restricted network element.\n",
      "Network elements with avoid-restrictions are traversed in the output (restriction attribute names: \"Avoid Gates\").\n",
      "\n",
      "Location \"530610523011\" in \"Incidents\" is on a soft-restricted network element.\n",
      "Location \"421027779\" in \"Facilities\" is on a soft-restricted network element.\n",
      "Network elements with avoid-restrictions are traversed in the output (restriction attribute names: \"Avoid Private Roads\").\n",
      "\n",
      "Location \"530610535052\" in \"Incidents\" is on a soft-restricted network element.\n",
      "Location \"530610536021\" in \"Incidents\" is on a soft-restricted network element.\n",
      "Location \"421027779\" in \"Facilities\" is on a soft-restricted network element.\n",
      "Network elements with avoid-restrictions are traversed in the output (restriction attribute names: \"Avoid Private Roads\" \"Avoid Gates\").\n",
      "\n"
     ]
    },
    {
     "name": "stdout",
     "output_type": "stream",
     "text": [
      "success - 3619\n"
     ]
    },
    {
     "name": "stderr",
     "output_type": "stream",
     "text": [
      "Location \"421027779\" in \"Facilities\" is on a soft-restricted network element.\n",
      "\n",
      "Location \"530330219063\" in \"Incidents\" is on a soft-restricted network element.\n",
      "Location \"421027779\" in \"Facilities\" is on a soft-restricted network element.\n",
      "Network elements with avoid-restrictions are traversed in the output (restriction attribute names: \"Avoid Private Roads\" \"Avoid Gates\").\n",
      "\n",
      "Location \"421027779\" in \"Facilities\" is on a soft-restricted network element.\n",
      "Network elements with avoid-restrictions are traversed in the output (restriction attribute names: \"Avoid Gates\").\n",
      "\n",
      "Location \"530610523011\" in \"Incidents\" is on a soft-restricted network element.\n",
      "Location \"421027779\" in \"Facilities\" is on a soft-restricted network element.\n",
      "Network elements with avoid-restrictions are traversed in the output (restriction attribute names: \"Avoid Private Roads\").\n",
      "\n",
      "Location \"530610535052\" in \"Incidents\" is on a soft-restricted network element.\n",
      "Location \"530610536021\" in \"Incidents\" is on a soft-restricted network element.\n",
      "Location \"421027779\" in \"Facilities\" is on a soft-restricted network element.\n",
      "Network elements with avoid-restrictions are traversed in the output (restriction attribute names: \"Avoid Private Roads\" \"Avoid Gates\").\n",
      "\n"
     ]
    },
    {
     "name": "stdout",
     "output_type": "stream",
     "text": [
      "success - 3620\n"
     ]
    },
    {
     "name": "stderr",
     "output_type": "stream",
     "text": [
      "Location \"421027779\" in \"Facilities\" is on a soft-restricted network element.\n",
      "\n",
      "Location \"530330219063\" in \"Incidents\" is on a soft-restricted network element.\n",
      "Location \"421027779\" in \"Facilities\" is on a soft-restricted network element.\n",
      "Network elements with avoid-restrictions are traversed in the output (restriction attribute names: \"Avoid Private Roads\" \"Avoid Gates\").\n",
      "\n",
      "Location \"421027779\" in \"Facilities\" is on a soft-restricted network element.\n",
      "Network elements with avoid-restrictions are traversed in the output (restriction attribute names: \"Avoid Gates\").\n",
      "\n",
      "Location \"530610523011\" in \"Incidents\" is on a soft-restricted network element.\n",
      "Location \"421027779\" in \"Facilities\" is on a soft-restricted network element.\n",
      "Network elements with avoid-restrictions are traversed in the output (restriction attribute names: \"Avoid Private Roads\").\n",
      "\n",
      "Location \"530610535052\" in \"Incidents\" is on a soft-restricted network element.\n",
      "Location \"530610536021\" in \"Incidents\" is on a soft-restricted network element.\n",
      "Location \"421027779\" in \"Facilities\" is on a soft-restricted network element.\n",
      "Network elements with avoid-restrictions are traversed in the output (restriction attribute names: \"Avoid Private Roads\" \"Avoid Gates\").\n",
      "\n"
     ]
    },
    {
     "name": "stdout",
     "output_type": "stream",
     "text": [
      "success - 3621\n"
     ]
    },
    {
     "name": "stderr",
     "output_type": "stream",
     "text": [
      "Location \"421027779\" in \"Facilities\" is on a soft-restricted network element.\n",
      "\n",
      "Location \"530330219063\" in \"Incidents\" is on a soft-restricted network element.\n",
      "Location \"421027779\" in \"Facilities\" is on a soft-restricted network element.\n",
      "Network elements with avoid-restrictions are traversed in the output (restriction attribute names: \"Avoid Private Roads\" \"Avoid Gates\").\n",
      "\n",
      "Location \"421027779\" in \"Facilities\" is on a soft-restricted network element.\n",
      "Network elements with avoid-restrictions are traversed in the output (restriction attribute names: \"Avoid Gates\").\n",
      "\n",
      "Location \"530610523011\" in \"Incidents\" is on a soft-restricted network element.\n",
      "Location \"421027779\" in \"Facilities\" is on a soft-restricted network element.\n",
      "Network elements with avoid-restrictions are traversed in the output (restriction attribute names: \"Avoid Private Roads\").\n",
      "\n",
      "Location \"530610535052\" in \"Incidents\" is on a soft-restricted network element.\n",
      "Location \"530610536021\" in \"Incidents\" is on a soft-restricted network element.\n",
      "Location \"421027779\" in \"Facilities\" is on a soft-restricted network element.\n",
      "Network elements with avoid-restrictions are traversed in the output (restriction attribute names: \"Avoid Private Roads\" \"Avoid Gates\").\n",
      "\n"
     ]
    },
    {
     "name": "stdout",
     "output_type": "stream",
     "text": [
      "success - 3622\n"
     ]
    },
    {
     "name": "stderr",
     "output_type": "stream",
     "text": [
      "Location \"421027779\" in \"Facilities\" is on a soft-restricted network element.\n",
      "\n",
      "Location \"530330219063\" in \"Incidents\" is on a soft-restricted network element.\n",
      "Location \"421027779\" in \"Facilities\" is on a soft-restricted network element.\n",
      "Network elements with avoid-restrictions are traversed in the output (restriction attribute names: \"Avoid Private Roads\" \"Avoid Gates\").\n",
      "\n",
      "Location \"421027779\" in \"Facilities\" is on a soft-restricted network element.\n",
      "Network elements with avoid-restrictions are traversed in the output (restriction attribute names: \"Avoid Gates\").\n",
      "\n",
      "Location \"530610523011\" in \"Incidents\" is on a soft-restricted network element.\n",
      "Location \"421027779\" in \"Facilities\" is on a soft-restricted network element.\n",
      "Network elements with avoid-restrictions are traversed in the output (restriction attribute names: \"Avoid Private Roads\").\n",
      "\n",
      "Location \"530610535052\" in \"Incidents\" is on a soft-restricted network element.\n",
      "Location \"530610536021\" in \"Incidents\" is on a soft-restricted network element.\n",
      "Location \"421027779\" in \"Facilities\" is on a soft-restricted network element.\n",
      "Network elements with avoid-restrictions are traversed in the output (restriction attribute names: \"Avoid Private Roads\" \"Avoid Gates\").\n",
      "\n"
     ]
    },
    {
     "name": "stdout",
     "output_type": "stream",
     "text": [
      "success - 3623\n"
     ]
    },
    {
     "name": "stderr",
     "output_type": "stream",
     "text": [
      "Location \"421027779\" in \"Facilities\" is on a soft-restricted network element.\n",
      "\n",
      "Location \"530330219063\" in \"Incidents\" is on a soft-restricted network element.\n",
      "Location \"421027779\" in \"Facilities\" is on a soft-restricted network element.\n",
      "Network elements with avoid-restrictions are traversed in the output (restriction attribute names: \"Avoid Private Roads\" \"Avoid Gates\").\n",
      "\n",
      "Location \"421027779\" in \"Facilities\" is on a soft-restricted network element.\n",
      "Network elements with avoid-restrictions are traversed in the output (restriction attribute names: \"Avoid Gates\").\n",
      "\n",
      "Location \"530610523011\" in \"Incidents\" is on a soft-restricted network element.\n",
      "Location \"421027779\" in \"Facilities\" is on a soft-restricted network element.\n",
      "Network elements with avoid-restrictions are traversed in the output (restriction attribute names: \"Avoid Private Roads\").\n",
      "\n",
      "Location \"530610535052\" in \"Incidents\" is on a soft-restricted network element.\n",
      "Location \"530610536021\" in \"Incidents\" is on a soft-restricted network element.\n",
      "Location \"421027779\" in \"Facilities\" is on a soft-restricted network element.\n",
      "Network elements with avoid-restrictions are traversed in the output (restriction attribute names: \"Avoid Private Roads\" \"Avoid Gates\").\n",
      "\n"
     ]
    },
    {
     "name": "stdout",
     "output_type": "stream",
     "text": [
      "success - 3624\n"
     ]
    },
    {
     "name": "stderr",
     "output_type": "stream",
     "text": [
      "Location \"421027779\" in \"Facilities\" is on a soft-restricted network element.\n",
      "\n",
      "Location \"530330219063\" in \"Incidents\" is on a soft-restricted network element.\n",
      "Location \"421027779\" in \"Facilities\" is on a soft-restricted network element.\n",
      "Network elements with avoid-restrictions are traversed in the output (restriction attribute names: \"Avoid Private Roads\" \"Avoid Gates\").\n",
      "\n",
      "Location \"421027779\" in \"Facilities\" is on a soft-restricted network element.\n",
      "Network elements with avoid-restrictions are traversed in the output (restriction attribute names: \"Avoid Gates\").\n",
      "\n",
      "Location \"530610523011\" in \"Incidents\" is on a soft-restricted network element.\n",
      "Location \"421027779\" in \"Facilities\" is on a soft-restricted network element.\n",
      "Network elements with avoid-restrictions are traversed in the output (restriction attribute names: \"Avoid Private Roads\").\n",
      "\n",
      "Location \"530610535052\" in \"Incidents\" is on a soft-restricted network element.\n",
      "Location \"530610536021\" in \"Incidents\" is on a soft-restricted network element.\n",
      "Location \"421027779\" in \"Facilities\" is on a soft-restricted network element.\n",
      "Network elements with avoid-restrictions are traversed in the output (restriction attribute names: \"Avoid Private Roads\" \"Avoid Gates\").\n",
      "\n"
     ]
    },
    {
     "name": "stdout",
     "output_type": "stream",
     "text": [
      "success - 3625\n"
     ]
    },
    {
     "name": "stderr",
     "output_type": "stream",
     "text": [
      "Location \"421027779\" in \"Facilities\" is on a soft-restricted network element.\n",
      "\n",
      "Location \"530330219063\" in \"Incidents\" is on a soft-restricted network element.\n",
      "Location \"421027779\" in \"Facilities\" is on a soft-restricted network element.\n",
      "Network elements with avoid-restrictions are traversed in the output (restriction attribute names: \"Avoid Private Roads\" \"Avoid Gates\").\n",
      "\n",
      "Location \"421027779\" in \"Facilities\" is on a soft-restricted network element.\n",
      "Network elements with avoid-restrictions are traversed in the output (restriction attribute names: \"Avoid Gates\").\n",
      "\n",
      "Location \"530610523011\" in \"Incidents\" is on a soft-restricted network element.\n",
      "Location \"421027779\" in \"Facilities\" is on a soft-restricted network element.\n",
      "Network elements with avoid-restrictions are traversed in the output (restriction attribute names: \"Avoid Private Roads\").\n",
      "\n",
      "Location \"530610535052\" in \"Incidents\" is on a soft-restricted network element.\n",
      "Location \"530610536021\" in \"Incidents\" is on a soft-restricted network element.\n",
      "Location \"421027779\" in \"Facilities\" is on a soft-restricted network element.\n",
      "Network elements with avoid-restrictions are traversed in the output (restriction attribute names: \"Avoid Private Roads\" \"Avoid Gates\").\n",
      "\n"
     ]
    },
    {
     "name": "stdout",
     "output_type": "stream",
     "text": [
      "success - 3626\n"
     ]
    },
    {
     "name": "stderr",
     "output_type": "stream",
     "text": [
      "Location \"421027779\" in \"Facilities\" is on a soft-restricted network element.\n",
      "\n",
      "Location \"530330219063\" in \"Incidents\" is on a soft-restricted network element.\n",
      "Location \"421027779\" in \"Facilities\" is on a soft-restricted network element.\n",
      "Network elements with avoid-restrictions are traversed in the output (restriction attribute names: \"Avoid Private Roads\" \"Avoid Gates\").\n",
      "\n",
      "Location \"421027779\" in \"Facilities\" is on a soft-restricted network element.\n",
      "Network elements with avoid-restrictions are traversed in the output (restriction attribute names: \"Avoid Gates\").\n",
      "\n",
      "Location \"530610523011\" in \"Incidents\" is on a soft-restricted network element.\n",
      "Location \"421027779\" in \"Facilities\" is on a soft-restricted network element.\n",
      "Network elements with avoid-restrictions are traversed in the output (restriction attribute names: \"Avoid Private Roads\").\n",
      "\n",
      "Location \"530610535052\" in \"Incidents\" is on a soft-restricted network element.\n",
      "Location \"530610536021\" in \"Incidents\" is on a soft-restricted network element.\n",
      "Location \"421027779\" in \"Facilities\" is on a soft-restricted network element.\n",
      "Network elements with avoid-restrictions are traversed in the output (restriction attribute names: \"Avoid Private Roads\" \"Avoid Gates\").\n",
      "\n"
     ]
    },
    {
     "name": "stdout",
     "output_type": "stream",
     "text": [
      "success - 3627\n"
     ]
    },
    {
     "name": "stderr",
     "output_type": "stream",
     "text": [
      "Location \"421027779\" in \"Facilities\" is on a soft-restricted network element.\n",
      "\n",
      "Location \"530330219063\" in \"Incidents\" is on a soft-restricted network element.\n",
      "Location \"421027779\" in \"Facilities\" is on a soft-restricted network element.\n",
      "Network elements with avoid-restrictions are traversed in the output (restriction attribute names: \"Avoid Private Roads\" \"Avoid Gates\").\n",
      "\n",
      "Location \"421027779\" in \"Facilities\" is on a soft-restricted network element.\n",
      "Network elements with avoid-restrictions are traversed in the output (restriction attribute names: \"Avoid Gates\").\n",
      "\n",
      "Location \"530610523011\" in \"Incidents\" is on a soft-restricted network element.\n",
      "Location \"421027779\" in \"Facilities\" is on a soft-restricted network element.\n",
      "Network elements with avoid-restrictions are traversed in the output (restriction attribute names: \"Avoid Private Roads\").\n",
      "\n",
      "Location \"530610535052\" in \"Incidents\" is on a soft-restricted network element.\n",
      "Location \"530610536021\" in \"Incidents\" is on a soft-restricted network element.\n",
      "Location \"421027779\" in \"Facilities\" is on a soft-restricted network element.\n",
      "Network elements with avoid-restrictions are traversed in the output (restriction attribute names: \"Avoid Private Roads\" \"Avoid Gates\").\n",
      "\n"
     ]
    },
    {
     "name": "stdout",
     "output_type": "stream",
     "text": [
      "success - 3628\n"
     ]
    },
    {
     "name": "stderr",
     "output_type": "stream",
     "text": [
      "Location \"421027779\" in \"Facilities\" is on a soft-restricted network element.\n",
      "\n",
      "Location \"530330219063\" in \"Incidents\" is on a soft-restricted network element.\n",
      "Location \"421027779\" in \"Facilities\" is on a soft-restricted network element.\n",
      "Network elements with avoid-restrictions are traversed in the output (restriction attribute names: \"Avoid Private Roads\" \"Avoid Gates\").\n",
      "\n",
      "Location \"421027779\" in \"Facilities\" is on a soft-restricted network element.\n",
      "Network elements with avoid-restrictions are traversed in the output (restriction attribute names: \"Avoid Gates\").\n",
      "\n",
      "Location \"530610523011\" in \"Incidents\" is on a soft-restricted network element.\n",
      "Location \"421027779\" in \"Facilities\" is on a soft-restricted network element.\n",
      "Network elements with avoid-restrictions are traversed in the output (restriction attribute names: \"Avoid Private Roads\").\n",
      "\n",
      "Location \"530610535052\" in \"Incidents\" is on a soft-restricted network element.\n",
      "Location \"530610536021\" in \"Incidents\" is on a soft-restricted network element.\n",
      "Location \"421027779\" in \"Facilities\" is on a soft-restricted network element.\n",
      "Network elements with avoid-restrictions are traversed in the output (restriction attribute names: \"Avoid Private Roads\").\n",
      "\n"
     ]
    },
    {
     "name": "stdout",
     "output_type": "stream",
     "text": [
      "success - 3632\n"
     ]
    },
    {
     "name": "stderr",
     "output_type": "stream",
     "text": [
      "Location \"421027779\" in \"Facilities\" is on a soft-restricted network element.\n",
      "\n",
      "Location \"530330219063\" in \"Incidents\" is on a soft-restricted network element.\n",
      "Location \"421027779\" in \"Facilities\" is on a soft-restricted network element.\n",
      "Network elements with avoid-restrictions are traversed in the output (restriction attribute names: \"Avoid Private Roads\" \"Avoid Gates\").\n",
      "\n",
      "Location \"421027779\" in \"Facilities\" is on a soft-restricted network element.\n",
      "Network elements with avoid-restrictions are traversed in the output (restriction attribute names: \"Avoid Gates\").\n",
      "\n",
      "Location \"530610523011\" in \"Incidents\" is on a soft-restricted network element.\n",
      "Location \"421027779\" in \"Facilities\" is on a soft-restricted network element.\n",
      "Network elements with avoid-restrictions are traversed in the output (restriction attribute names: \"Avoid Private Roads\").\n",
      "\n",
      "Location \"530610535052\" in \"Incidents\" is on a soft-restricted network element.\n",
      "Location \"530610536021\" in \"Incidents\" is on a soft-restricted network element.\n",
      "Location \"421027779\" in \"Facilities\" is on a soft-restricted network element.\n",
      "Network elements with avoid-restrictions are traversed in the output (restriction attribute names: \"Avoid Private Roads\").\n",
      "\n"
     ]
    },
    {
     "name": "stdout",
     "output_type": "stream",
     "text": [
      "success - 3633\n"
     ]
    },
    {
     "name": "stderr",
     "output_type": "stream",
     "text": [
      "Location \"421027779\" in \"Facilities\" is on a soft-restricted network element.\n",
      "\n",
      "Location \"530330219063\" in \"Incidents\" is on a soft-restricted network element.\n",
      "Location \"421027779\" in \"Facilities\" is on a soft-restricted network element.\n",
      "Network elements with avoid-restrictions are traversed in the output (restriction attribute names: \"Avoid Private Roads\" \"Avoid Gates\").\n",
      "\n",
      "Location \"421027779\" in \"Facilities\" is on a soft-restricted network element.\n",
      "Network elements with avoid-restrictions are traversed in the output (restriction attribute names: \"Avoid Gates\").\n",
      "\n",
      "Location \"530610523011\" in \"Incidents\" is on a soft-restricted network element.\n",
      "Location \"421027779\" in \"Facilities\" is on a soft-restricted network element.\n",
      "Network elements with avoid-restrictions are traversed in the output (restriction attribute names: \"Avoid Private Roads\").\n",
      "\n",
      "Location \"530610535052\" in \"Incidents\" is on a soft-restricted network element.\n",
      "Location \"530610536021\" in \"Incidents\" is on a soft-restricted network element.\n",
      "Location \"421027779\" in \"Facilities\" is on a soft-restricted network element.\n",
      "Network elements with avoid-restrictions are traversed in the output (restriction attribute names: \"Avoid Private Roads\").\n",
      "\n"
     ]
    },
    {
     "name": "stdout",
     "output_type": "stream",
     "text": [
      "success - 3634\n"
     ]
    },
    {
     "name": "stderr",
     "output_type": "stream",
     "text": [
      "Location \"421027779\" in \"Facilities\" is on a soft-restricted network element.\n",
      "\n",
      "Location \"530330219063\" in \"Incidents\" is on a soft-restricted network element.\n",
      "Location \"421027779\" in \"Facilities\" is on a soft-restricted network element.\n",
      "Network elements with avoid-restrictions are traversed in the output (restriction attribute names: \"Avoid Private Roads\" \"Avoid Gates\").\n",
      "\n",
      "Location \"421027779\" in \"Facilities\" is on a soft-restricted network element.\n",
      "Network elements with avoid-restrictions are traversed in the output (restriction attribute names: \"Avoid Gates\").\n",
      "\n",
      "Location \"530610523011\" in \"Incidents\" is on a soft-restricted network element.\n",
      "Location \"421027779\" in \"Facilities\" is on a soft-restricted network element.\n",
      "Network elements with avoid-restrictions are traversed in the output (restriction attribute names: \"Avoid Private Roads\").\n",
      "\n",
      "Location \"530610535052\" in \"Incidents\" is on a soft-restricted network element.\n",
      "Location \"530610536021\" in \"Incidents\" is on a soft-restricted network element.\n",
      "Location \"421027779\" in \"Facilities\" is on a soft-restricted network element.\n",
      "Network elements with avoid-restrictions are traversed in the output (restriction attribute names: \"Avoid Private Roads\").\n",
      "\n"
     ]
    },
    {
     "name": "stdout",
     "output_type": "stream",
     "text": [
      "success - 3635\n"
     ]
    },
    {
     "name": "stderr",
     "output_type": "stream",
     "text": [
      "Location \"421027779\" in \"Facilities\" is on a soft-restricted network element.\n",
      "\n",
      "Location \"530330219063\" in \"Incidents\" is on a soft-restricted network element.\n",
      "Location \"421027779\" in \"Facilities\" is on a soft-restricted network element.\n",
      "Network elements with avoid-restrictions are traversed in the output (restriction attribute names: \"Avoid Private Roads\" \"Avoid Gates\").\n",
      "\n",
      "Location \"421027779\" in \"Facilities\" is on a soft-restricted network element.\n",
      "Network elements with avoid-restrictions are traversed in the output (restriction attribute names: \"Avoid Gates\").\n",
      "\n",
      "Location \"530610523011\" in \"Incidents\" is on a soft-restricted network element.\n",
      "Location \"421027779\" in \"Facilities\" is on a soft-restricted network element.\n",
      "Network elements with avoid-restrictions are traversed in the output (restriction attribute names: \"Avoid Private Roads\").\n",
      "\n",
      "Location \"530610535052\" in \"Incidents\" is on a soft-restricted network element.\n",
      "Location \"530610536021\" in \"Incidents\" is on a soft-restricted network element.\n",
      "Location \"421027779\" in \"Facilities\" is on a soft-restricted network element.\n",
      "Network elements with avoid-restrictions are traversed in the output (restriction attribute names: \"Avoid Private Roads\").\n",
      "\n"
     ]
    },
    {
     "name": "stdout",
     "output_type": "stream",
     "text": [
      "success - 3665\n"
     ]
    },
    {
     "name": "stderr",
     "output_type": "stream",
     "text": [
      "Location \"421027779\" in \"Facilities\" is on a soft-restricted network element.\n",
      "\n",
      "Location \"530330219063\" in \"Incidents\" is on a soft-restricted network element.\n",
      "Location \"421027779\" in \"Facilities\" is on a soft-restricted network element.\n",
      "Network elements with avoid-restrictions are traversed in the output (restriction attribute names: \"Avoid Private Roads\" \"Avoid Gates\").\n",
      "\n",
      "Location \"421027779\" in \"Facilities\" is on a soft-restricted network element.\n",
      "Network elements with avoid-restrictions are traversed in the output (restriction attribute names: \"Avoid Gates\").\n",
      "\n",
      "Location \"530610523011\" in \"Incidents\" is on a soft-restricted network element.\n",
      "Location \"421027779\" in \"Facilities\" is on a soft-restricted network element.\n",
      "Network elements with avoid-restrictions are traversed in the output (restriction attribute names: \"Avoid Private Roads\").\n",
      "\n",
      "Location \"530610535052\" in \"Incidents\" is on a soft-restricted network element.\n",
      "Location \"530610536021\" in \"Incidents\" is on a soft-restricted network element.\n",
      "Location \"421027779\" in \"Facilities\" is on a soft-restricted network element.\n",
      "Network elements with avoid-restrictions are traversed in the output (restriction attribute names: \"Avoid Private Roads\").\n",
      "\n"
     ]
    },
    {
     "name": "stdout",
     "output_type": "stream",
     "text": [
      "success - 3666\n"
     ]
    },
    {
     "name": "stderr",
     "output_type": "stream",
     "text": [
      "Location \"421027779\" in \"Facilities\" is on a soft-restricted network element.\n",
      "\n",
      "Location \"530330219063\" in \"Incidents\" is on a soft-restricted network element.\n",
      "Location \"421027779\" in \"Facilities\" is on a soft-restricted network element.\n",
      "Network elements with avoid-restrictions are traversed in the output (restriction attribute names: \"Avoid Private Roads\" \"Avoid Gates\").\n",
      "\n",
      "Location \"421027779\" in \"Facilities\" is on a soft-restricted network element.\n",
      "Network elements with avoid-restrictions are traversed in the output (restriction attribute names: \"Avoid Gates\").\n",
      "\n",
      "Location \"530610523011\" in \"Incidents\" is on a soft-restricted network element.\n",
      "Location \"421027779\" in \"Facilities\" is on a soft-restricted network element.\n",
      "Network elements with avoid-restrictions are traversed in the output (restriction attribute names: \"Avoid Private Roads\").\n",
      "\n",
      "Location \"530610535052\" in \"Incidents\" is on a soft-restricted network element.\n",
      "Location \"530610536021\" in \"Incidents\" is on a soft-restricted network element.\n",
      "Location \"421027779\" in \"Facilities\" is on a soft-restricted network element.\n",
      "Network elements with avoid-restrictions are traversed in the output (restriction attribute names: \"Avoid Private Roads\").\n",
      "\n"
     ]
    },
    {
     "name": "stdout",
     "output_type": "stream",
     "text": [
      "success - 3667\n"
     ]
    },
    {
     "name": "stderr",
     "output_type": "stream",
     "text": [
      "Location \"421027779\" in \"Facilities\" is on a soft-restricted network element.\n",
      "\n",
      "Location \"530330219063\" in \"Incidents\" is on a soft-restricted network element.\n",
      "Location \"421027779\" in \"Facilities\" is on a soft-restricted network element.\n",
      "Network elements with avoid-restrictions are traversed in the output (restriction attribute names: \"Avoid Private Roads\" \"Avoid Gates\").\n",
      "\n",
      "Location \"421027779\" in \"Facilities\" is on a soft-restricted network element.\n",
      "Network elements with avoid-restrictions are traversed in the output (restriction attribute names: \"Avoid Gates\").\n",
      "\n",
      "Location \"530610523011\" in \"Incidents\" is on a soft-restricted network element.\n",
      "Location \"421027779\" in \"Facilities\" is on a soft-restricted network element.\n",
      "Network elements with avoid-restrictions are traversed in the output (restriction attribute names: \"Avoid Private Roads\").\n",
      "\n",
      "Location \"530610535052\" in \"Incidents\" is on a soft-restricted network element.\n",
      "Location \"530610536021\" in \"Incidents\" is on a soft-restricted network element.\n",
      "Location \"421027779\" in \"Facilities\" is on a soft-restricted network element.\n",
      "Network elements with avoid-restrictions are traversed in the output (restriction attribute names: \"Avoid Private Roads\").\n",
      "\n"
     ]
    },
    {
     "name": "stdout",
     "output_type": "stream",
     "text": [
      "success - 3668\n"
     ]
    },
    {
     "name": "stderr",
     "output_type": "stream",
     "text": [
      "Location \"421027779\" in \"Facilities\" is on a soft-restricted network element.\n",
      "\n",
      "Location \"530330219063\" in \"Incidents\" is on a soft-restricted network element.\n",
      "Location \"421027779\" in \"Facilities\" is on a soft-restricted network element.\n",
      "Network elements with avoid-restrictions are traversed in the output (restriction attribute names: \"Avoid Private Roads\" \"Avoid Gates\").\n",
      "\n",
      "Location \"421027779\" in \"Facilities\" is on a soft-restricted network element.\n",
      "Network elements with avoid-restrictions are traversed in the output (restriction attribute names: \"Avoid Gates\").\n",
      "\n",
      "Location \"530610523011\" in \"Incidents\" is on a soft-restricted network element.\n",
      "Location \"421027779\" in \"Facilities\" is on a soft-restricted network element.\n",
      "Network elements with avoid-restrictions are traversed in the output (restriction attribute names: \"Avoid Private Roads\").\n",
      "\n",
      "Location \"530610535052\" in \"Incidents\" is on a soft-restricted network element.\n",
      "Location \"530610536021\" in \"Incidents\" is on a soft-restricted network element.\n",
      "Location \"421027779\" in \"Facilities\" is on a soft-restricted network element.\n",
      "Network elements with avoid-restrictions are traversed in the output (restriction attribute names: \"Avoid Private Roads\").\n",
      "\n"
     ]
    },
    {
     "name": "stdout",
     "output_type": "stream",
     "text": [
      "success - 3669\n"
     ]
    },
    {
     "name": "stderr",
     "output_type": "stream",
     "text": [
      "Location \"421027779\" in \"Facilities\" is on a soft-restricted network element.\n",
      "\n",
      "Location \"530330219063\" in \"Incidents\" is on a soft-restricted network element.\n",
      "Location \"421027779\" in \"Facilities\" is on a soft-restricted network element.\n",
      "Network elements with avoid-restrictions are traversed in the output (restriction attribute names: \"Avoid Private Roads\" \"Avoid Gates\").\n",
      "\n",
      "Location \"421027779\" in \"Facilities\" is on a soft-restricted network element.\n",
      "Network elements with avoid-restrictions are traversed in the output (restriction attribute names: \"Avoid Gates\").\n",
      "\n",
      "Location \"530610523011\" in \"Incidents\" is on a soft-restricted network element.\n",
      "Location \"421027779\" in \"Facilities\" is on a soft-restricted network element.\n",
      "Network elements with avoid-restrictions are traversed in the output (restriction attribute names: \"Avoid Private Roads\").\n",
      "\n",
      "Location \"530610535052\" in \"Incidents\" is on a soft-restricted network element.\n",
      "Location \"530610536021\" in \"Incidents\" is on a soft-restricted network element.\n",
      "Location \"421027779\" in \"Facilities\" is on a soft-restricted network element.\n",
      "Network elements with avoid-restrictions are traversed in the output (restriction attribute names: \"Avoid Private Roads\").\n",
      "\n"
     ]
    },
    {
     "name": "stdout",
     "output_type": "stream",
     "text": [
      "success - 3670\n"
     ]
    },
    {
     "name": "stderr",
     "output_type": "stream",
     "text": [
      "Location \"421027779\" in \"Facilities\" is on a soft-restricted network element.\n",
      "\n",
      "Location \"530330219063\" in \"Incidents\" is on a soft-restricted network element.\n",
      "Location \"421027779\" in \"Facilities\" is on a soft-restricted network element.\n",
      "Network elements with avoid-restrictions are traversed in the output (restriction attribute names: \"Avoid Private Roads\" \"Avoid Gates\").\n",
      "\n",
      "Location \"421027779\" in \"Facilities\" is on a soft-restricted network element.\n",
      "Network elements with avoid-restrictions are traversed in the output (restriction attribute names: \"Avoid Gates\").\n",
      "\n",
      "Location \"530610523011\" in \"Incidents\" is on a soft-restricted network element.\n",
      "Location \"421027779\" in \"Facilities\" is on a soft-restricted network element.\n",
      "Network elements with avoid-restrictions are traversed in the output (restriction attribute names: \"Avoid Private Roads\").\n",
      "\n",
      "Location \"530610535052\" in \"Incidents\" is on a soft-restricted network element.\n",
      "Location \"530610536021\" in \"Incidents\" is on a soft-restricted network element.\n",
      "Location \"421027779\" in \"Facilities\" is on a soft-restricted network element.\n",
      "Network elements with avoid-restrictions are traversed in the output (restriction attribute names: \"Avoid Private Roads\").\n",
      "\n"
     ]
    },
    {
     "name": "stdout",
     "output_type": "stream",
     "text": [
      "success - 3671\n"
     ]
    },
    {
     "name": "stderr",
     "output_type": "stream",
     "text": [
      "Location \"421027779\" in \"Facilities\" is on a soft-restricted network element.\n",
      "\n",
      "Location \"530330219063\" in \"Incidents\" is on a soft-restricted network element.\n",
      "Location \"421027779\" in \"Facilities\" is on a soft-restricted network element.\n",
      "Network elements with avoid-restrictions are traversed in the output (restriction attribute names: \"Avoid Private Roads\" \"Avoid Gates\").\n",
      "\n",
      "Location \"421027779\" in \"Facilities\" is on a soft-restricted network element.\n",
      "Network elements with avoid-restrictions are traversed in the output (restriction attribute names: \"Avoid Gates\").\n",
      "\n",
      "Location \"530610523011\" in \"Incidents\" is on a soft-restricted network element.\n",
      "Location \"421027779\" in \"Facilities\" is on a soft-restricted network element.\n",
      "Network elements with avoid-restrictions are traversed in the output (restriction attribute names: \"Avoid Private Roads\").\n",
      "\n",
      "Location \"530610535052\" in \"Incidents\" is on a soft-restricted network element.\n",
      "Location \"530610536021\" in \"Incidents\" is on a soft-restricted network element.\n",
      "Location \"421027779\" in \"Facilities\" is on a soft-restricted network element.\n",
      "Network elements with avoid-restrictions are traversed in the output (restriction attribute names: \"Avoid Private Roads\").\n",
      "\n"
     ]
    },
    {
     "name": "stdout",
     "output_type": "stream",
     "text": [
      "success - 3672\n"
     ]
    },
    {
     "name": "stderr",
     "output_type": "stream",
     "text": [
      "Location \"421027779\" in \"Facilities\" is on a soft-restricted network element.\n",
      "\n",
      "Location \"530330219063\" in \"Incidents\" is on a soft-restricted network element.\n",
      "Location \"421027779\" in \"Facilities\" is on a soft-restricted network element.\n",
      "Network elements with avoid-restrictions are traversed in the output (restriction attribute names: \"Avoid Private Roads\" \"Avoid Gates\").\n",
      "\n",
      "Location \"421027779\" in \"Facilities\" is on a soft-restricted network element.\n",
      "Network elements with avoid-restrictions are traversed in the output (restriction attribute names: \"Avoid Gates\").\n",
      "\n",
      "Location \"530610523011\" in \"Incidents\" is on a soft-restricted network element.\n",
      "Location \"421027779\" in \"Facilities\" is on a soft-restricted network element.\n",
      "Network elements with avoid-restrictions are traversed in the output (restriction attribute names: \"Avoid Private Roads\").\n",
      "\n",
      "Location \"530610535052\" in \"Incidents\" is on a soft-restricted network element.\n",
      "Location \"530610536021\" in \"Incidents\" is on a soft-restricted network element.\n",
      "Location \"421027779\" in \"Facilities\" is on a soft-restricted network element.\n",
      "Network elements with avoid-restrictions are traversed in the output (restriction attribute names: \"Avoid Private Roads\").\n",
      "\n"
     ]
    },
    {
     "name": "stdout",
     "output_type": "stream",
     "text": [
      "success - 3673\n"
     ]
    },
    {
     "name": "stderr",
     "output_type": "stream",
     "text": [
      "Location \"1\" in \"Incidents\" is on a soft-restricted network element.\n",
      "Location \"421027779\" in \"Facilities\" is on a soft-restricted network element.\n",
      "Network elements with avoid-restrictions are traversed in the output (restriction attribute names: \"Avoid Private Roads\").\n",
      "\n",
      "Location \"530330219063\" in \"Incidents\" is on a soft-restricted network element.\n",
      "Location \"421027779\" in \"Facilities\" is on a soft-restricted network element.\n",
      "Location \"1\" in \"Facilities\" is on a soft-restricted network element.\n",
      "Network elements with avoid-restrictions are traversed in the output (restriction attribute names: \"Avoid Private Roads\").\n",
      "\n",
      "Location \"421027779\" in \"Facilities\" is on a soft-restricted network element.\n",
      "Location \"1\" in \"Facilities\" is on a soft-restricted network element.\n",
      "Network elements with avoid-restrictions are traversed in the output (restriction attribute names: \"Avoid Gates\").\n",
      "\n",
      "Location \"530610523011\" in \"Incidents\" is on a soft-restricted network element.\n",
      "Location \"421027779\" in \"Facilities\" is on a soft-restricted network element.\n",
      "Location \"1\" in \"Facilities\" is on a soft-restricted network element.\n",
      "Network elements with avoid-restrictions are traversed in the output (restriction attribute names: \"Avoid Private Roads\" \"Avoid Gates\").\n",
      "\n",
      "Location \"530610535052\" in \"Incidents\" is on a soft-restricted network element.\n",
      "Location \"530610536021\" in \"Incidents\" is on a soft-restricted network element.\n",
      "Location \"421027779\" in \"Facilities\" is on a soft-restricted network element.\n",
      "Location \"1\" in \"Facilities\" is on a soft-restricted network element.\n",
      "Network elements with avoid-restrictions are traversed in the output (restriction attribute names: \"Avoid Private Roads\" \"Avoid Gates\").\n",
      "\n"
     ]
    },
    {
     "name": "stdout",
     "output_type": "stream",
     "text": [
      "success - 3674\n"
     ]
    },
    {
     "name": "stderr",
     "output_type": "stream",
     "text": [
      "Location \"421027779\" in \"Facilities\" is on a soft-restricted network element.\n",
      "\n",
      "Location \"530330219063\" in \"Incidents\" is on a soft-restricted network element.\n",
      "Location \"421027779\" in \"Facilities\" is on a soft-restricted network element.\n",
      "Network elements with avoid-restrictions are traversed in the output (restriction attribute names: \"Avoid Private Roads\").\n",
      "\n",
      "Location \"421027779\" in \"Facilities\" is on a soft-restricted network element.\n",
      "Network elements with avoid-restrictions are traversed in the output (restriction attribute names: \"Avoid Gates\").\n",
      "\n",
      "Location \"530610523011\" in \"Incidents\" is on a soft-restricted network element.\n",
      "Location \"421027779\" in \"Facilities\" is on a soft-restricted network element.\n",
      "Network elements with avoid-restrictions are traversed in the output (restriction attribute names: \"Avoid Private Roads\").\n",
      "\n",
      "Location \"530610535052\" in \"Incidents\" is on a soft-restricted network element.\n",
      "Location \"530610536021\" in \"Incidents\" is on a soft-restricted network element.\n",
      "Location \"421027779\" in \"Facilities\" is on a soft-restricted network element.\n",
      "Network elements with avoid-restrictions are traversed in the output (restriction attribute names: \"Avoid Private Roads\").\n",
      "\n"
     ]
    },
    {
     "name": "stdout",
     "output_type": "stream",
     "text": [
      "success - 3675\n"
     ]
    },
    {
     "name": "stderr",
     "output_type": "stream",
     "text": [
      "Location \"421027779\" in \"Facilities\" is on a soft-restricted network element.\n",
      "\n",
      "Location \"530330219063\" in \"Incidents\" is on a soft-restricted network element.\n",
      "Location \"421027779\" in \"Facilities\" is on a soft-restricted network element.\n",
      "Network elements with avoid-restrictions are traversed in the output (restriction attribute names: \"Avoid Private Roads\" \"Avoid Gates\").\n",
      "\n",
      "Location \"421027779\" in \"Facilities\" is on a soft-restricted network element.\n",
      "Network elements with avoid-restrictions are traversed in the output (restriction attribute names: \"Avoid Gates\").\n",
      "\n",
      "Location \"530610523011\" in \"Incidents\" is on a soft-restricted network element.\n",
      "Location \"421027779\" in \"Facilities\" is on a soft-restricted network element.\n",
      "Network elements with avoid-restrictions are traversed in the output (restriction attribute names: \"Avoid Private Roads\").\n",
      "\n",
      "Location \"530610535052\" in \"Incidents\" is on a soft-restricted network element.\n",
      "Location \"530610536021\" in \"Incidents\" is on a soft-restricted network element.\n",
      "Location \"421027779\" in \"Facilities\" is on a soft-restricted network element.\n",
      "Network elements with avoid-restrictions are traversed in the output (restriction attribute names: \"Avoid Private Roads\").\n",
      "\n"
     ]
    },
    {
     "name": "stdout",
     "output_type": "stream",
     "text": [
      "success - 3676\n"
     ]
    },
    {
     "name": "stderr",
     "output_type": "stream",
     "text": [
      "Location \"421027779\" in \"Facilities\" is on a soft-restricted network element.\n",
      "\n",
      "Location \"530330219063\" in \"Incidents\" is on a soft-restricted network element.\n",
      "Location \"421027779\" in \"Facilities\" is on a soft-restricted network element.\n",
      "Network elements with avoid-restrictions are traversed in the output (restriction attribute names: \"Avoid Private Roads\" \"Avoid Gates\").\n",
      "\n",
      "Location \"421027779\" in \"Facilities\" is on a soft-restricted network element.\n",
      "Network elements with avoid-restrictions are traversed in the output (restriction attribute names: \"Avoid Gates\").\n",
      "\n",
      "Location \"530610523011\" in \"Incidents\" is on a soft-restricted network element.\n",
      "Location \"421027779\" in \"Facilities\" is on a soft-restricted network element.\n",
      "Network elements with avoid-restrictions are traversed in the output (restriction attribute names: \"Avoid Private Roads\").\n",
      "\n",
      "Location \"530610535052\" in \"Incidents\" is on a soft-restricted network element.\n",
      "Location \"530610536021\" in \"Incidents\" is on a soft-restricted network element.\n",
      "Location \"421027779\" in \"Facilities\" is on a soft-restricted network element.\n",
      "Network elements with avoid-restrictions are traversed in the output (restriction attribute names: \"Avoid Private Roads\").\n",
      "\n"
     ]
    },
    {
     "name": "stdout",
     "output_type": "stream",
     "text": [
      "success - 3677\n"
     ]
    },
    {
     "name": "stderr",
     "output_type": "stream",
     "text": [
      "Location \"421027779\" in \"Facilities\" is on a soft-restricted network element.\n",
      "\n",
      "Location \"530330219063\" in \"Incidents\" is on a soft-restricted network element.\n",
      "Location \"421027779\" in \"Facilities\" is on a soft-restricted network element.\n",
      "Network elements with avoid-restrictions are traversed in the output (restriction attribute names: \"Avoid Private Roads\" \"Avoid Gates\").\n",
      "\n",
      "Location \"421027779\" in \"Facilities\" is on a soft-restricted network element.\n",
      "Network elements with avoid-restrictions are traversed in the output (restriction attribute names: \"Avoid Gates\").\n",
      "\n",
      "Location \"530610523011\" in \"Incidents\" is on a soft-restricted network element.\n",
      "Location \"421027779\" in \"Facilities\" is on a soft-restricted network element.\n",
      "Network elements with avoid-restrictions are traversed in the output (restriction attribute names: \"Avoid Private Roads\").\n",
      "\n",
      "Location \"530610535052\" in \"Incidents\" is on a soft-restricted network element.\n",
      "Location \"530610536021\" in \"Incidents\" is on a soft-restricted network element.\n",
      "Location \"421027779\" in \"Facilities\" is on a soft-restricted network element.\n",
      "Network elements with avoid-restrictions are traversed in the output (restriction attribute names: \"Avoid Private Roads\" \"Avoid Gates\").\n",
      "\n"
     ]
    },
    {
     "name": "stdout",
     "output_type": "stream",
     "text": [
      "success - 3678\n"
     ]
    },
    {
     "name": "stderr",
     "output_type": "stream",
     "text": [
      "Location \"421027779\" in \"Facilities\" is on a soft-restricted network element.\n",
      "\n",
      "Location \"530330219063\" in \"Incidents\" is on a soft-restricted network element.\n",
      "Location \"421027779\" in \"Facilities\" is on a soft-restricted network element.\n",
      "Network elements with avoid-restrictions are traversed in the output (restriction attribute names: \"Avoid Private Roads\" \"Avoid Gates\").\n",
      "\n",
      "Location \"421027779\" in \"Facilities\" is on a soft-restricted network element.\n",
      "Network elements with avoid-restrictions are traversed in the output (restriction attribute names: \"Avoid Gates\").\n",
      "\n",
      "Location \"530610523011\" in \"Incidents\" is on a soft-restricted network element.\n",
      "Location \"421027779\" in \"Facilities\" is on a soft-restricted network element.\n",
      "Network elements with avoid-restrictions are traversed in the output (restriction attribute names: \"Avoid Private Roads\").\n",
      "\n",
      "Location \"530610535052\" in \"Incidents\" is on a soft-restricted network element.\n",
      "Location \"530610536021\" in \"Incidents\" is on a soft-restricted network element.\n",
      "Location \"421027779\" in \"Facilities\" is on a soft-restricted network element.\n",
      "Network elements with avoid-restrictions are traversed in the output (restriction attribute names: \"Avoid Private Roads\" \"Avoid Gates\").\n",
      "\n"
     ]
    },
    {
     "name": "stdout",
     "output_type": "stream",
     "text": [
      "success - 3680\n"
     ]
    },
    {
     "name": "stderr",
     "output_type": "stream",
     "text": [
      "Location \"421027779\" in \"Facilities\" is on a soft-restricted network element.\n",
      "\n",
      "Location \"530330219063\" in \"Incidents\" is on a soft-restricted network element.\n",
      "Location \"421027779\" in \"Facilities\" is on a soft-restricted network element.\n",
      "Network elements with avoid-restrictions are traversed in the output (restriction attribute names: \"Avoid Private Roads\" \"Avoid Gates\").\n",
      "\n",
      "Location \"421027779\" in \"Facilities\" is on a soft-restricted network element.\n",
      "Network elements with avoid-restrictions are traversed in the output (restriction attribute names: \"Avoid Gates\").\n",
      "\n",
      "Location \"530610523011\" in \"Incidents\" is on a soft-restricted network element.\n",
      "Location \"421027779\" in \"Facilities\" is on a soft-restricted network element.\n",
      "Network elements with avoid-restrictions are traversed in the output (restriction attribute names: \"Avoid Private Roads\").\n",
      "\n",
      "Location \"530610535052\" in \"Incidents\" is on a soft-restricted network element.\n",
      "Location \"530610536021\" in \"Incidents\" is on a soft-restricted network element.\n",
      "Location \"421027779\" in \"Facilities\" is on a soft-restricted network element.\n",
      "Network elements with avoid-restrictions are traversed in the output (restriction attribute names: \"Avoid Private Roads\" \"Avoid Gates\").\n",
      "\n"
     ]
    },
    {
     "name": "stdout",
     "output_type": "stream",
     "text": [
      "success - 3681\n"
     ]
    },
    {
     "name": "stderr",
     "output_type": "stream",
     "text": [
      "Location \"421027779\" in \"Facilities\" is on a soft-restricted network element.\n",
      "\n",
      "Location \"530330219063\" in \"Incidents\" is on a soft-restricted network element.\n",
      "Location \"421027779\" in \"Facilities\" is on a soft-restricted network element.\n",
      "Network elements with avoid-restrictions are traversed in the output (restriction attribute names: \"Avoid Private Roads\" \"Avoid Gates\").\n",
      "\n",
      "Location \"421027779\" in \"Facilities\" is on a soft-restricted network element.\n",
      "Network elements with avoid-restrictions are traversed in the output (restriction attribute names: \"Avoid Gates\").\n",
      "\n",
      "Location \"530610523011\" in \"Incidents\" is on a soft-restricted network element.\n",
      "Location \"421027779\" in \"Facilities\" is on a soft-restricted network element.\n",
      "Network elements with avoid-restrictions are traversed in the output (restriction attribute names: \"Avoid Private Roads\").\n",
      "\n",
      "Location \"530610535052\" in \"Incidents\" is on a soft-restricted network element.\n",
      "Location \"530610536021\" in \"Incidents\" is on a soft-restricted network element.\n",
      "Location \"421027779\" in \"Facilities\" is on a soft-restricted network element.\n",
      "Network elements with avoid-restrictions are traversed in the output (restriction attribute names: \"Avoid Private Roads\" \"Avoid Gates\").\n",
      "\n"
     ]
    },
    {
     "name": "stdout",
     "output_type": "stream",
     "text": [
      "success - 3682\n"
     ]
    },
    {
     "name": "stderr",
     "output_type": "stream",
     "text": [
      "Location \"421027779\" in \"Facilities\" is on a soft-restricted network element.\n",
      "\n",
      "Location \"530330219063\" in \"Incidents\" is on a soft-restricted network element.\n",
      "Location \"421027779\" in \"Facilities\" is on a soft-restricted network element.\n",
      "Network elements with avoid-restrictions are traversed in the output (restriction attribute names: \"Avoid Private Roads\" \"Avoid Gates\").\n",
      "\n",
      "Location \"421027779\" in \"Facilities\" is on a soft-restricted network element.\n",
      "Network elements with avoid-restrictions are traversed in the output (restriction attribute names: \"Avoid Gates\").\n",
      "\n",
      "Location \"530610523011\" in \"Incidents\" is on a soft-restricted network element.\n",
      "Location \"421027779\" in \"Facilities\" is on a soft-restricted network element.\n",
      "Network elements with avoid-restrictions are traversed in the output (restriction attribute names: \"Avoid Private Roads\").\n",
      "\n",
      "Location \"530610535052\" in \"Incidents\" is on a soft-restricted network element.\n",
      "Location \"530610536021\" in \"Incidents\" is on a soft-restricted network element.\n",
      "Location \"421027779\" in \"Facilities\" is on a soft-restricted network element.\n",
      "Network elements with avoid-restrictions are traversed in the output (restriction attribute names: \"Avoid Private Roads\" \"Avoid Gates\").\n",
      "\n"
     ]
    },
    {
     "name": "stdout",
     "output_type": "stream",
     "text": [
      "success - 3683\n"
     ]
    },
    {
     "name": "stderr",
     "output_type": "stream",
     "text": [
      "Location \"421027779\" in \"Facilities\" is on a soft-restricted network element.\n",
      "\n",
      "Location \"530330219063\" in \"Incidents\" is on a soft-restricted network element.\n",
      "Location \"421027779\" in \"Facilities\" is on a soft-restricted network element.\n",
      "Network elements with avoid-restrictions are traversed in the output (restriction attribute names: \"Avoid Private Roads\" \"Avoid Gates\").\n",
      "\n",
      "Location \"421027779\" in \"Facilities\" is on a soft-restricted network element.\n",
      "Network elements with avoid-restrictions are traversed in the output (restriction attribute names: \"Avoid Gates\").\n",
      "\n",
      "Location \"530610523011\" in \"Incidents\" is on a soft-restricted network element.\n",
      "Location \"421027779\" in \"Facilities\" is on a soft-restricted network element.\n",
      "Network elements with avoid-restrictions are traversed in the output (restriction attribute names: \"Avoid Private Roads\").\n",
      "\n",
      "Location \"530610535052\" in \"Incidents\" is on a soft-restricted network element.\n",
      "Location \"530610536021\" in \"Incidents\" is on a soft-restricted network element.\n",
      "Location \"421027779\" in \"Facilities\" is on a soft-restricted network element.\n",
      "Network elements with avoid-restrictions are traversed in the output (restriction attribute names: \"Avoid Private Roads\" \"Avoid Gates\").\n",
      "\n"
     ]
    },
    {
     "name": "stdout",
     "output_type": "stream",
     "text": [
      "success - 3684\n"
     ]
    },
    {
     "name": "stderr",
     "output_type": "stream",
     "text": [
      "Location \"421027779\" in \"Facilities\" is on a soft-restricted network element.\n",
      "\n",
      "Location \"530330219063\" in \"Incidents\" is on a soft-restricted network element.\n",
      "Location \"421027779\" in \"Facilities\" is on a soft-restricted network element.\n",
      "Network elements with avoid-restrictions are traversed in the output (restriction attribute names: \"Avoid Private Roads\" \"Avoid Gates\").\n",
      "\n",
      "Location \"421027779\" in \"Facilities\" is on a soft-restricted network element.\n",
      "Network elements with avoid-restrictions are traversed in the output (restriction attribute names: \"Avoid Gates\").\n",
      "\n",
      "Location \"530610523011\" in \"Incidents\" is on a soft-restricted network element.\n",
      "Location \"421027779\" in \"Facilities\" is on a soft-restricted network element.\n",
      "Network elements with avoid-restrictions are traversed in the output (restriction attribute names: \"Avoid Private Roads\").\n",
      "\n",
      "Location \"530610535052\" in \"Incidents\" is on a soft-restricted network element.\n",
      "Location \"530610536021\" in \"Incidents\" is on a soft-restricted network element.\n",
      "Location \"421027779\" in \"Facilities\" is on a soft-restricted network element.\n",
      "Network elements with avoid-restrictions are traversed in the output (restriction attribute names: \"Avoid Private Roads\" \"Avoid Gates\").\n",
      "\n"
     ]
    },
    {
     "name": "stdout",
     "output_type": "stream",
     "text": [
      "success - 3685\n"
     ]
    },
    {
     "name": "stderr",
     "output_type": "stream",
     "text": [
      "Location \"421027779\" in \"Facilities\" is on a soft-restricted network element.\n",
      "\n",
      "Location \"530330219063\" in \"Incidents\" is on a soft-restricted network element.\n",
      "Location \"421027779\" in \"Facilities\" is on a soft-restricted network element.\n",
      "Network elements with avoid-restrictions are traversed in the output (restriction attribute names: \"Avoid Private Roads\" \"Avoid Gates\").\n",
      "\n",
      "Location \"421027779\" in \"Facilities\" is on a soft-restricted network element.\n",
      "Network elements with avoid-restrictions are traversed in the output (restriction attribute names: \"Avoid Gates\").\n",
      "\n",
      "Location \"530610523011\" in \"Incidents\" is on a soft-restricted network element.\n",
      "Location \"421027779\" in \"Facilities\" is on a soft-restricted network element.\n",
      "Network elements with avoid-restrictions are traversed in the output (restriction attribute names: \"Avoid Private Roads\").\n",
      "\n",
      "Location \"530610535052\" in \"Incidents\" is on a soft-restricted network element.\n",
      "Location \"530610536021\" in \"Incidents\" is on a soft-restricted network element.\n",
      "Location \"421027779\" in \"Facilities\" is on a soft-restricted network element.\n",
      "Network elements with avoid-restrictions are traversed in the output (restriction attribute names: \"Avoid Private Roads\" \"Avoid Gates\").\n",
      "\n"
     ]
    },
    {
     "name": "stdout",
     "output_type": "stream",
     "text": [
      "success - 3686\n"
     ]
    },
    {
     "name": "stderr",
     "output_type": "stream",
     "text": [
      "Location \"421027779\" in \"Facilities\" is on a soft-restricted network element.\n",
      "\n",
      "Location \"530330219063\" in \"Incidents\" is on a soft-restricted network element.\n",
      "Location \"421027779\" in \"Facilities\" is on a soft-restricted network element.\n",
      "Network elements with avoid-restrictions are traversed in the output (restriction attribute names: \"Avoid Private Roads\" \"Avoid Gates\").\n",
      "\n",
      "Location \"421027779\" in \"Facilities\" is on a soft-restricted network element.\n",
      "Network elements with avoid-restrictions are traversed in the output (restriction attribute names: \"Avoid Gates\").\n",
      "\n",
      "Location \"530610523011\" in \"Incidents\" is on a soft-restricted network element.\n",
      "Location \"421027779\" in \"Facilities\" is on a soft-restricted network element.\n",
      "Network elements with avoid-restrictions are traversed in the output (restriction attribute names: \"Avoid Private Roads\").\n",
      "\n",
      "Location \"530610535052\" in \"Incidents\" is on a soft-restricted network element.\n",
      "Location \"530610536021\" in \"Incidents\" is on a soft-restricted network element.\n",
      "Location \"421027779\" in \"Facilities\" is on a soft-restricted network element.\n",
      "Network elements with avoid-restrictions are traversed in the output (restriction attribute names: \"Avoid Private Roads\" \"Avoid Gates\").\n",
      "\n"
     ]
    },
    {
     "name": "stdout",
     "output_type": "stream",
     "text": [
      "success - 3690\n"
     ]
    },
    {
     "name": "stderr",
     "output_type": "stream",
     "text": [
      "Location \"421027779\" in \"Facilities\" is on a soft-restricted network element.\n",
      "\n",
      "Location \"530330219063\" in \"Incidents\" is on a soft-restricted network element.\n",
      "Location \"421027779\" in \"Facilities\" is on a soft-restricted network element.\n",
      "Network elements with avoid-restrictions are traversed in the output (restriction attribute names: \"Avoid Private Roads\" \"Avoid Gates\").\n",
      "\n",
      "Location \"421027779\" in \"Facilities\" is on a soft-restricted network element.\n",
      "Network elements with avoid-restrictions are traversed in the output (restriction attribute names: \"Avoid Gates\").\n",
      "\n",
      "Location \"530610523011\" in \"Incidents\" is on a soft-restricted network element.\n",
      "Location \"421027779\" in \"Facilities\" is on a soft-restricted network element.\n",
      "Network elements with avoid-restrictions are traversed in the output (restriction attribute names: \"Avoid Private Roads\").\n",
      "\n",
      "Location \"530610535052\" in \"Incidents\" is on a soft-restricted network element.\n",
      "Location \"530610536021\" in \"Incidents\" is on a soft-restricted network element.\n",
      "Location \"421027779\" in \"Facilities\" is on a soft-restricted network element.\n",
      "Network elements with avoid-restrictions are traversed in the output (restriction attribute names: \"Avoid Private Roads\" \"Avoid Gates\").\n",
      "\n"
     ]
    },
    {
     "name": "stdout",
     "output_type": "stream",
     "text": [
      "success - 3691\n"
     ]
    },
    {
     "name": "stderr",
     "output_type": "stream",
     "text": [
      "Location \"421027779\" in \"Facilities\" is on a soft-restricted network element.\n",
      "\n",
      "Location \"530330219063\" in \"Incidents\" is on a soft-restricted network element.\n",
      "Location \"421027779\" in \"Facilities\" is on a soft-restricted network element.\n",
      "Network elements with avoid-restrictions are traversed in the output (restriction attribute names: \"Avoid Private Roads\" \"Avoid Gates\").\n",
      "\n",
      "Location \"421027779\" in \"Facilities\" is on a soft-restricted network element.\n",
      "Network elements with avoid-restrictions are traversed in the output (restriction attribute names: \"Avoid Gates\").\n",
      "\n",
      "Location \"530610523011\" in \"Incidents\" is on a soft-restricted network element.\n",
      "Location \"421027779\" in \"Facilities\" is on a soft-restricted network element.\n",
      "Network elements with avoid-restrictions are traversed in the output (restriction attribute names: \"Avoid Private Roads\").\n",
      "\n",
      "Location \"530610535052\" in \"Incidents\" is on a soft-restricted network element.\n",
      "Location \"530610536021\" in \"Incidents\" is on a soft-restricted network element.\n",
      "Location \"421027779\" in \"Facilities\" is on a soft-restricted network element.\n",
      "Network elements with avoid-restrictions are traversed in the output (restriction attribute names: \"Avoid Private Roads\" \"Avoid Gates\").\n",
      "\n"
     ]
    },
    {
     "name": "stdout",
     "output_type": "stream",
     "text": [
      "success - 3692\n"
     ]
    },
    {
     "name": "stderr",
     "output_type": "stream",
     "text": [
      "Location \"421027779\" in \"Facilities\" is on a soft-restricted network element.\n",
      "\n",
      "Location \"530330219063\" in \"Incidents\" is on a soft-restricted network element.\n",
      "Location \"421027779\" in \"Facilities\" is on a soft-restricted network element.\n",
      "Network elements with avoid-restrictions are traversed in the output (restriction attribute names: \"Avoid Private Roads\" \"Avoid Gates\").\n",
      "\n",
      "Location \"421027779\" in \"Facilities\" is on a soft-restricted network element.\n",
      "Network elements with avoid-restrictions are traversed in the output (restriction attribute names: \"Avoid Gates\").\n",
      "\n",
      "Location \"530610523011\" in \"Incidents\" is on a soft-restricted network element.\n",
      "Location \"421027779\" in \"Facilities\" is on a soft-restricted network element.\n",
      "Network elements with avoid-restrictions are traversed in the output (restriction attribute names: \"Avoid Private Roads\").\n",
      "\n",
      "Location \"530610535052\" in \"Incidents\" is on a soft-restricted network element.\n",
      "Location \"530610536021\" in \"Incidents\" is on a soft-restricted network element.\n",
      "Location \"421027779\" in \"Facilities\" is on a soft-restricted network element.\n",
      "Network elements with avoid-restrictions are traversed in the output (restriction attribute names: \"Avoid Private Roads\").\n",
      "\n"
     ]
    },
    {
     "name": "stdout",
     "output_type": "stream",
     "text": [
      "success - 3694\n"
     ]
    },
    {
     "name": "stderr",
     "output_type": "stream",
     "text": [
      "Location \"421027779\" in \"Facilities\" is on a soft-restricted network element.\n",
      "\n",
      "Location \"530330219063\" in \"Incidents\" is on a soft-restricted network element.\n",
      "Location \"421027779\" in \"Facilities\" is on a soft-restricted network element.\n",
      "Network elements with avoid-restrictions are traversed in the output (restriction attribute names: \"Avoid Private Roads\" \"Avoid Gates\").\n",
      "\n",
      "Location \"421027779\" in \"Facilities\" is on a soft-restricted network element.\n",
      "Network elements with avoid-restrictions are traversed in the output (restriction attribute names: \"Avoid Gates\").\n",
      "\n",
      "Location \"530610523011\" in \"Incidents\" is on a soft-restricted network element.\n",
      "Location \"421027779\" in \"Facilities\" is on a soft-restricted network element.\n",
      "Network elements with avoid-restrictions are traversed in the output (restriction attribute names: \"Avoid Private Roads\").\n",
      "\n",
      "Location \"530610535052\" in \"Incidents\" is on a soft-restricted network element.\n",
      "Location \"530610536021\" in \"Incidents\" is on a soft-restricted network element.\n",
      "Location \"421027779\" in \"Facilities\" is on a soft-restricted network element.\n",
      "Network elements with avoid-restrictions are traversed in the output (restriction attribute names: \"Avoid Private Roads\").\n",
      "\n"
     ]
    },
    {
     "name": "stdout",
     "output_type": "stream",
     "text": [
      "success - 3696\n"
     ]
    },
    {
     "name": "stderr",
     "output_type": "stream",
     "text": [
      "Location \"421027779\" in \"Facilities\" is on a soft-restricted network element.\n",
      "\n",
      "Location \"530330219063\" in \"Incidents\" is on a soft-restricted network element.\n",
      "Location \"421027779\" in \"Facilities\" is on a soft-restricted network element.\n",
      "Network elements with avoid-restrictions are traversed in the output (restriction attribute names: \"Avoid Private Roads\" \"Avoid Gates\").\n",
      "\n",
      "Location \"421027779\" in \"Facilities\" is on a soft-restricted network element.\n",
      "Network elements with avoid-restrictions are traversed in the output (restriction attribute names: \"Avoid Gates\").\n",
      "\n",
      "Location \"530610523011\" in \"Incidents\" is on a soft-restricted network element.\n",
      "Location \"421027779\" in \"Facilities\" is on a soft-restricted network element.\n",
      "Network elements with avoid-restrictions are traversed in the output (restriction attribute names: \"Avoid Private Roads\").\n",
      "\n",
      "Location \"530610535052\" in \"Incidents\" is on a soft-restricted network element.\n",
      "Location \"530610536021\" in \"Incidents\" is on a soft-restricted network element.\n",
      "Location \"421027779\" in \"Facilities\" is on a soft-restricted network element.\n",
      "Network elements with avoid-restrictions are traversed in the output (restriction attribute names: \"Avoid Private Roads\").\n",
      "\n"
     ]
    },
    {
     "name": "stdout",
     "output_type": "stream",
     "text": [
      "success - 3697\n"
     ]
    },
    {
     "name": "stderr",
     "output_type": "stream",
     "text": [
      "Location \"421027779\" in \"Facilities\" is on a soft-restricted network element.\n",
      "\n",
      "Location \"530330219063\" in \"Incidents\" is on a soft-restricted network element.\n",
      "Location \"421027779\" in \"Facilities\" is on a soft-restricted network element.\n",
      "Network elements with avoid-restrictions are traversed in the output (restriction attribute names: \"Avoid Private Roads\" \"Avoid Gates\").\n",
      "\n",
      "Location \"421027779\" in \"Facilities\" is on a soft-restricted network element.\n",
      "Network elements with avoid-restrictions are traversed in the output (restriction attribute names: \"Avoid Gates\").\n",
      "\n",
      "Location \"530610523011\" in \"Incidents\" is on a soft-restricted network element.\n",
      "Location \"421027779\" in \"Facilities\" is on a soft-restricted network element.\n",
      "Network elements with avoid-restrictions are traversed in the output (restriction attribute names: \"Avoid Private Roads\").\n",
      "\n",
      "Location \"530610535052\" in \"Incidents\" is on a soft-restricted network element.\n",
      "Location \"530610536021\" in \"Incidents\" is on a soft-restricted network element.\n",
      "Location \"421027779\" in \"Facilities\" is on a soft-restricted network element.\n",
      "Network elements with avoid-restrictions are traversed in the output (restriction attribute names: \"Avoid Private Roads\").\n",
      "\n"
     ]
    },
    {
     "name": "stdout",
     "output_type": "stream",
     "text": [
      "success - 3728\n"
     ]
    },
    {
     "name": "stderr",
     "output_type": "stream",
     "text": [
      "Location \"421027779\" in \"Facilities\" is on a soft-restricted network element.\n",
      "\n",
      "Location \"530330219063\" in \"Incidents\" is on a soft-restricted network element.\n",
      "Location \"421027779\" in \"Facilities\" is on a soft-restricted network element.\n",
      "Network elements with avoid-restrictions are traversed in the output (restriction attribute names: \"Avoid Private Roads\" \"Avoid Gates\").\n",
      "\n",
      "Location \"421027779\" in \"Facilities\" is on a soft-restricted network element.\n",
      "Network elements with avoid-restrictions are traversed in the output (restriction attribute names: \"Avoid Gates\").\n",
      "\n",
      "Location \"530610523011\" in \"Incidents\" is on a soft-restricted network element.\n",
      "Location \"421027779\" in \"Facilities\" is on a soft-restricted network element.\n",
      "Network elements with avoid-restrictions are traversed in the output (restriction attribute names: \"Avoid Private Roads\").\n",
      "\n",
      "Location \"530610535052\" in \"Incidents\" is on a soft-restricted network element.\n",
      "Location \"530610536021\" in \"Incidents\" is on a soft-restricted network element.\n",
      "Location \"421027779\" in \"Facilities\" is on a soft-restricted network element.\n",
      "Network elements with avoid-restrictions are traversed in the output (restriction attribute names: \"Avoid Private Roads\").\n",
      "\n"
     ]
    },
    {
     "name": "stdout",
     "output_type": "stream",
     "text": [
      "success - 3729\n"
     ]
    },
    {
     "name": "stderr",
     "output_type": "stream",
     "text": [
      "Location \"421027779\" in \"Facilities\" is on a soft-restricted network element.\n",
      "\n",
      "Location \"530330219063\" in \"Incidents\" is on a soft-restricted network element.\n",
      "Location \"421027779\" in \"Facilities\" is on a soft-restricted network element.\n",
      "Network elements with avoid-restrictions are traversed in the output (restriction attribute names: \"Avoid Private Roads\" \"Avoid Gates\").\n",
      "\n",
      "Location \"421027779\" in \"Facilities\" is on a soft-restricted network element.\n",
      "Network elements with avoid-restrictions are traversed in the output (restriction attribute names: \"Avoid Gates\").\n",
      "\n",
      "Location \"530610523011\" in \"Incidents\" is on a soft-restricted network element.\n",
      "Location \"421027779\" in \"Facilities\" is on a soft-restricted network element.\n",
      "Network elements with avoid-restrictions are traversed in the output (restriction attribute names: \"Avoid Private Roads\").\n",
      "\n",
      "Location \"530610535052\" in \"Incidents\" is on a soft-restricted network element.\n",
      "Location \"530610536021\" in \"Incidents\" is on a soft-restricted network element.\n",
      "Location \"421027779\" in \"Facilities\" is on a soft-restricted network element.\n",
      "Network elements with avoid-restrictions are traversed in the output (restriction attribute names: \"Avoid Private Roads\").\n",
      "\n"
     ]
    },
    {
     "name": "stdout",
     "output_type": "stream",
     "text": [
      "success - 3730\n"
     ]
    },
    {
     "name": "stderr",
     "output_type": "stream",
     "text": [
      "Location \"421027779\" in \"Facilities\" is on a soft-restricted network element.\n",
      "\n",
      "Location \"530330219063\" in \"Incidents\" is on a soft-restricted network element.\n",
      "Location \"421027779\" in \"Facilities\" is on a soft-restricted network element.\n",
      "Network elements with avoid-restrictions are traversed in the output (restriction attribute names: \"Avoid Private Roads\" \"Avoid Gates\").\n",
      "\n",
      "Location \"421027779\" in \"Facilities\" is on a soft-restricted network element.\n",
      "Network elements with avoid-restrictions are traversed in the output (restriction attribute names: \"Avoid Gates\").\n",
      "\n",
      "Location \"530610523011\" in \"Incidents\" is on a soft-restricted network element.\n",
      "Location \"421027779\" in \"Facilities\" is on a soft-restricted network element.\n",
      "Network elements with avoid-restrictions are traversed in the output (restriction attribute names: \"Avoid Private Roads\").\n",
      "\n",
      "Location \"530610535052\" in \"Incidents\" is on a soft-restricted network element.\n",
      "Location \"530610536021\" in \"Incidents\" is on a soft-restricted network element.\n",
      "Location \"421027779\" in \"Facilities\" is on a soft-restricted network element.\n",
      "Network elements with avoid-restrictions are traversed in the output (restriction attribute names: \"Avoid Private Roads\").\n",
      "\n"
     ]
    },
    {
     "name": "stdout",
     "output_type": "stream",
     "text": [
      "success - 3731\n"
     ]
    },
    {
     "name": "stderr",
     "output_type": "stream",
     "text": [
      "Location \"421027779\" in \"Facilities\" is on a soft-restricted network element.\n",
      "\n",
      "Location \"530330219063\" in \"Incidents\" is on a soft-restricted network element.\n",
      "Location \"421027779\" in \"Facilities\" is on a soft-restricted network element.\n",
      "Network elements with avoid-restrictions are traversed in the output (restriction attribute names: \"Avoid Private Roads\" \"Avoid Gates\").\n",
      "\n",
      "Location \"421027779\" in \"Facilities\" is on a soft-restricted network element.\n",
      "Network elements with avoid-restrictions are traversed in the output (restriction attribute names: \"Avoid Gates\").\n",
      "\n",
      "Location \"530610523011\" in \"Incidents\" is on a soft-restricted network element.\n",
      "Location \"421027779\" in \"Facilities\" is on a soft-restricted network element.\n",
      "Network elements with avoid-restrictions are traversed in the output (restriction attribute names: \"Avoid Private Roads\").\n",
      "\n",
      "Location \"530610535052\" in \"Incidents\" is on a soft-restricted network element.\n",
      "Location \"530610536021\" in \"Incidents\" is on a soft-restricted network element.\n",
      "Location \"421027779\" in \"Facilities\" is on a soft-restricted network element.\n",
      "Network elements with avoid-restrictions are traversed in the output (restriction attribute names: \"Avoid Private Roads\").\n",
      "\n"
     ]
    },
    {
     "name": "stdout",
     "output_type": "stream",
     "text": [
      "success - 3732\n"
     ]
    },
    {
     "name": "stderr",
     "output_type": "stream",
     "text": [
      "Location \"421027779\" in \"Facilities\" is on a soft-restricted network element.\n",
      "\n",
      "Location \"530330219063\" in \"Incidents\" is on a soft-restricted network element.\n",
      "Location \"421027779\" in \"Facilities\" is on a soft-restricted network element.\n",
      "Network elements with avoid-restrictions are traversed in the output (restriction attribute names: \"Avoid Private Roads\" \"Avoid Gates\").\n",
      "\n",
      "Location \"421027779\" in \"Facilities\" is on a soft-restricted network element.\n",
      "Network elements with avoid-restrictions are traversed in the output (restriction attribute names: \"Avoid Gates\").\n",
      "\n",
      "Location \"530610523011\" in \"Incidents\" is on a soft-restricted network element.\n",
      "Location \"421027779\" in \"Facilities\" is on a soft-restricted network element.\n",
      "Network elements with avoid-restrictions are traversed in the output (restriction attribute names: \"Avoid Private Roads\").\n",
      "\n",
      "Location \"530610535052\" in \"Incidents\" is on a soft-restricted network element.\n",
      "Location \"530610536021\" in \"Incidents\" is on a soft-restricted network element.\n",
      "Location \"421027779\" in \"Facilities\" is on a soft-restricted network element.\n",
      "Network elements with avoid-restrictions are traversed in the output (restriction attribute names: \"Avoid Private Roads\").\n",
      "\n"
     ]
    },
    {
     "name": "stdout",
     "output_type": "stream",
     "text": [
      "success - 3733\n"
     ]
    },
    {
     "name": "stderr",
     "output_type": "stream",
     "text": [
      "Location \"421027779\" in \"Facilities\" is on a soft-restricted network element.\n",
      "\n",
      "Location \"530330219063\" in \"Incidents\" is on a soft-restricted network element.\n",
      "Location \"421027779\" in \"Facilities\" is on a soft-restricted network element.\n",
      "Network elements with avoid-restrictions are traversed in the output (restriction attribute names: \"Avoid Private Roads\" \"Avoid Gates\").\n",
      "\n",
      "Location \"421027779\" in \"Facilities\" is on a soft-restricted network element.\n",
      "Network elements with avoid-restrictions are traversed in the output (restriction attribute names: \"Avoid Gates\").\n",
      "\n",
      "Location \"530610523011\" in \"Incidents\" is on a soft-restricted network element.\n",
      "Location \"421027779\" in \"Facilities\" is on a soft-restricted network element.\n",
      "Network elements with avoid-restrictions are traversed in the output (restriction attribute names: \"Avoid Private Roads\").\n",
      "\n",
      "Location \"530610535052\" in \"Incidents\" is on a soft-restricted network element.\n",
      "Location \"530610536021\" in \"Incidents\" is on a soft-restricted network element.\n",
      "Location \"421027779\" in \"Facilities\" is on a soft-restricted network element.\n",
      "Network elements with avoid-restrictions are traversed in the output (restriction attribute names: \"Avoid Private Roads\").\n",
      "\n"
     ]
    },
    {
     "name": "stdout",
     "output_type": "stream",
     "text": [
      "success - 3734\n"
     ]
    },
    {
     "name": "stderr",
     "output_type": "stream",
     "text": [
      "Location \"421027779\" in \"Facilities\" is on a soft-restricted network element.\n",
      "\n",
      "Location \"530330219063\" in \"Incidents\" is on a soft-restricted network element.\n",
      "Location \"421027779\" in \"Facilities\" is on a soft-restricted network element.\n",
      "Network elements with avoid-restrictions are traversed in the output (restriction attribute names: \"Avoid Private Roads\" \"Avoid Gates\").\n",
      "\n",
      "Location \"421027779\" in \"Facilities\" is on a soft-restricted network element.\n",
      "Network elements with avoid-restrictions are traversed in the output (restriction attribute names: \"Avoid Gates\").\n",
      "\n",
      "Location \"530610523011\" in \"Incidents\" is on a soft-restricted network element.\n",
      "Location \"421027779\" in \"Facilities\" is on a soft-restricted network element.\n",
      "Network elements with avoid-restrictions are traversed in the output (restriction attribute names: \"Avoid Private Roads\").\n",
      "\n",
      "Location \"530610535052\" in \"Incidents\" is on a soft-restricted network element.\n",
      "Location \"530610536021\" in \"Incidents\" is on a soft-restricted network element.\n",
      "Location \"421027779\" in \"Facilities\" is on a soft-restricted network element.\n",
      "Network elements with avoid-restrictions are traversed in the output (restriction attribute names: \"Avoid Private Roads\").\n",
      "\n"
     ]
    },
    {
     "name": "stdout",
     "output_type": "stream",
     "text": [
      "success - 3735\n"
     ]
    },
    {
     "name": "stderr",
     "output_type": "stream",
     "text": [
      "Location \"421027779\" in \"Facilities\" is on a soft-restricted network element.\n",
      "\n",
      "Location \"530330219063\" in \"Incidents\" is on a soft-restricted network element.\n",
      "Location \"421027779\" in \"Facilities\" is on a soft-restricted network element.\n",
      "Network elements with avoid-restrictions are traversed in the output (restriction attribute names: \"Avoid Private Roads\" \"Avoid Gates\").\n",
      "\n",
      "Location \"530610523011\" in \"Incidents\" is on a soft-restricted network element.\n",
      "Location \"421027779\" in \"Facilities\" is on a soft-restricted network element.\n",
      "Network elements with avoid-restrictions are traversed in the output (restriction attribute names: \"Avoid Private Roads\").\n",
      "\n",
      "Location \"530610535052\" in \"Incidents\" is on a soft-restricted network element.\n",
      "Location \"530610536021\" in \"Incidents\" is on a soft-restricted network element.\n",
      "Location \"421027779\" in \"Facilities\" is on a soft-restricted network element.\n",
      "Network elements with avoid-restrictions are traversed in the output (restriction attribute names: \"Avoid Private Roads\").\n",
      "\n"
     ]
    },
    {
     "name": "stdout",
     "output_type": "stream",
     "text": [
      "success - 3736\n"
     ]
    },
    {
     "name": "stderr",
     "output_type": "stream",
     "text": [
      "Location \"421027779\" in \"Facilities\" is on a soft-restricted network element.\n",
      "\n",
      "Location \"530330219063\" in \"Incidents\" is on a soft-restricted network element.\n",
      "Location \"421027779\" in \"Facilities\" is on a soft-restricted network element.\n",
      "Network elements with avoid-restrictions are traversed in the output (restriction attribute names: \"Avoid Private Roads\" \"Avoid Gates\").\n",
      "\n",
      "Location \"421027779\" in \"Facilities\" is on a soft-restricted network element.\n",
      "Network elements with avoid-restrictions are traversed in the output (restriction attribute names: \"Avoid Gates\").\n",
      "\n",
      "Location \"530610523011\" in \"Incidents\" is on a soft-restricted network element.\n",
      "Location \"421027779\" in \"Facilities\" is on a soft-restricted network element.\n",
      "Network elements with avoid-restrictions are traversed in the output (restriction attribute names: \"Avoid Private Roads\").\n",
      "\n",
      "Location \"530610535052\" in \"Incidents\" is on a soft-restricted network element.\n",
      "Location \"530610536021\" in \"Incidents\" is on a soft-restricted network element.\n",
      "Location \"421027779\" in \"Facilities\" is on a soft-restricted network element.\n",
      "Network elements with avoid-restrictions are traversed in the output (restriction attribute names: \"Avoid Private Roads\").\n",
      "\n"
     ]
    },
    {
     "name": "stdout",
     "output_type": "stream",
     "text": [
      "success - 3737\n"
     ]
    },
    {
     "name": "stderr",
     "output_type": "stream",
     "text": [
      "Location \"421027779\" in \"Facilities\" is on a soft-restricted network element.\n",
      "\n",
      "Location \"530330219063\" in \"Incidents\" is on a soft-restricted network element.\n",
      "Location \"421027779\" in \"Facilities\" is on a soft-restricted network element.\n",
      "Network elements with avoid-restrictions are traversed in the output (restriction attribute names: \"Avoid Private Roads\" \"Avoid Gates\").\n",
      "\n",
      "Location \"421027779\" in \"Facilities\" is on a soft-restricted network element.\n",
      "Network elements with avoid-restrictions are traversed in the output (restriction attribute names: \"Avoid Gates\").\n",
      "\n",
      "Location \"530610523011\" in \"Incidents\" is on a soft-restricted network element.\n",
      "Location \"421027779\" in \"Facilities\" is on a soft-restricted network element.\n",
      "Network elements with avoid-restrictions are traversed in the output (restriction attribute names: \"Avoid Private Roads\").\n",
      "\n",
      "Location \"530610535052\" in \"Incidents\" is on a soft-restricted network element.\n",
      "Location \"530610536021\" in \"Incidents\" is on a soft-restricted network element.\n",
      "Location \"421027779\" in \"Facilities\" is on a soft-restricted network element.\n",
      "Network elements with avoid-restrictions are traversed in the output (restriction attribute names: \"Avoid Private Roads\").\n",
      "\n"
     ]
    },
    {
     "name": "stdout",
     "output_type": "stream",
     "text": [
      "success - 3738\n"
     ]
    },
    {
     "name": "stderr",
     "output_type": "stream",
     "text": [
      "Location \"421027779\" in \"Facilities\" is on a soft-restricted network element.\n",
      "\n",
      "Location \"530330219063\" in \"Incidents\" is on a soft-restricted network element.\n",
      "Location \"421027779\" in \"Facilities\" is on a soft-restricted network element.\n",
      "Network elements with avoid-restrictions are traversed in the output (restriction attribute names: \"Avoid Private Roads\" \"Avoid Gates\").\n",
      "\n",
      "Location \"421027779\" in \"Facilities\" is on a soft-restricted network element.\n",
      "Network elements with avoid-restrictions are traversed in the output (restriction attribute names: \"Avoid Gates\").\n",
      "\n",
      "Location \"530610523011\" in \"Incidents\" is on a soft-restricted network element.\n",
      "Location \"421027779\" in \"Facilities\" is on a soft-restricted network element.\n",
      "Network elements with avoid-restrictions are traversed in the output (restriction attribute names: \"Avoid Private Roads\").\n",
      "\n",
      "Location \"530610535052\" in \"Incidents\" is on a soft-restricted network element.\n",
      "Location \"530610536021\" in \"Incidents\" is on a soft-restricted network element.\n",
      "Location \"421027779\" in \"Facilities\" is on a soft-restricted network element.\n",
      "Network elements with avoid-restrictions are traversed in the output (restriction attribute names: \"Avoid Private Roads\").\n",
      "\n"
     ]
    },
    {
     "name": "stdout",
     "output_type": "stream",
     "text": [
      "success - 3739\n"
     ]
    },
    {
     "name": "stderr",
     "output_type": "stream",
     "text": [
      "Location \"421027779\" in \"Facilities\" is on a soft-restricted network element.\n",
      "\n",
      "Location \"530330219063\" in \"Incidents\" is on a soft-restricted network element.\n",
      "Location \"421027779\" in \"Facilities\" is on a soft-restricted network element.\n",
      "Network elements with avoid-restrictions are traversed in the output (restriction attribute names: \"Avoid Private Roads\" \"Avoid Gates\").\n",
      "\n",
      "Location \"421027779\" in \"Facilities\" is on a soft-restricted network element.\n",
      "Network elements with avoid-restrictions are traversed in the output (restriction attribute names: \"Avoid Gates\").\n",
      "\n",
      "Location \"530610523011\" in \"Incidents\" is on a soft-restricted network element.\n",
      "Location \"421027779\" in \"Facilities\" is on a soft-restricted network element.\n",
      "Network elements with avoid-restrictions are traversed in the output (restriction attribute names: \"Avoid Private Roads\").\n",
      "\n",
      "Location \"530610535052\" in \"Incidents\" is on a soft-restricted network element.\n",
      "Location \"530610536021\" in \"Incidents\" is on a soft-restricted network element.\n",
      "Location \"421027779\" in \"Facilities\" is on a soft-restricted network element.\n",
      "Network elements with avoid-restrictions are traversed in the output (restriction attribute names: \"Avoid Private Roads\").\n",
      "\n"
     ]
    },
    {
     "name": "stdout",
     "output_type": "stream",
     "text": [
      "success - 3740\n"
     ]
    },
    {
     "name": "stderr",
     "output_type": "stream",
     "text": [
      "Location \"421027779\" in \"Facilities\" is on a soft-restricted network element.\n",
      "\n",
      "Location \"530330219063\" in \"Incidents\" is on a soft-restricted network element.\n",
      "Location \"421027779\" in \"Facilities\" is on a soft-restricted network element.\n",
      "Network elements with avoid-restrictions are traversed in the output (restriction attribute names: \"Avoid Private Roads\" \"Avoid Gates\").\n",
      "\n",
      "Location \"421027779\" in \"Facilities\" is on a soft-restricted network element.\n",
      "Network elements with avoid-restrictions are traversed in the output (restriction attribute names: \"Avoid Gates\").\n",
      "\n",
      "Location \"530610523011\" in \"Incidents\" is on a soft-restricted network element.\n",
      "Location \"421027779\" in \"Facilities\" is on a soft-restricted network element.\n",
      "Network elements with avoid-restrictions are traversed in the output (restriction attribute names: \"Avoid Private Roads\").\n",
      "\n",
      "Location \"530610535052\" in \"Incidents\" is on a soft-restricted network element.\n",
      "Location \"530610536021\" in \"Incidents\" is on a soft-restricted network element.\n",
      "Location \"421027779\" in \"Facilities\" is on a soft-restricted network element.\n",
      "Network elements with avoid-restrictions are traversed in the output (restriction attribute names: \"Avoid Private Roads\").\n",
      "\n"
     ]
    },
    {
     "name": "stdout",
     "output_type": "stream",
     "text": [
      "success - 3741\n"
     ]
    },
    {
     "name": "stderr",
     "output_type": "stream",
     "text": [
      "Location \"421027779\" in \"Facilities\" is on a soft-restricted network element.\n",
      "\n",
      "Location \"530330219063\" in \"Incidents\" is on a soft-restricted network element.\n",
      "Location \"421027779\" in \"Facilities\" is on a soft-restricted network element.\n",
      "Network elements with avoid-restrictions are traversed in the output (restriction attribute names: \"Avoid Private Roads\" \"Avoid Gates\").\n",
      "\n",
      "Location \"421027779\" in \"Facilities\" is on a soft-restricted network element.\n",
      "Network elements with avoid-restrictions are traversed in the output (restriction attribute names: \"Avoid Gates\").\n",
      "\n",
      "Location \"530610523011\" in \"Incidents\" is on a soft-restricted network element.\n",
      "Location \"421027779\" in \"Facilities\" is on a soft-restricted network element.\n",
      "Network elements with avoid-restrictions are traversed in the output (restriction attribute names: \"Avoid Private Roads\").\n",
      "\n",
      "Location \"530610535052\" in \"Incidents\" is on a soft-restricted network element.\n",
      "Location \"530610536021\" in \"Incidents\" is on a soft-restricted network element.\n",
      "Location \"421027779\" in \"Facilities\" is on a soft-restricted network element.\n",
      "Network elements with avoid-restrictions are traversed in the output (restriction attribute names: \"Avoid Private Roads\" \"Avoid Gates\").\n",
      "\n"
     ]
    },
    {
     "name": "stdout",
     "output_type": "stream",
     "text": [
      "success - 3743\n"
     ]
    },
    {
     "name": "stderr",
     "output_type": "stream",
     "text": [
      "Location \"421027779\" in \"Facilities\" is on a soft-restricted network element.\n",
      "\n",
      "Location \"530330219063\" in \"Incidents\" is on a soft-restricted network element.\n",
      "Location \"421027779\" in \"Facilities\" is on a soft-restricted network element.\n",
      "Network elements with avoid-restrictions are traversed in the output (restriction attribute names: \"Avoid Private Roads\" \"Avoid Gates\").\n",
      "\n",
      "Location \"421027779\" in \"Facilities\" is on a soft-restricted network element.\n",
      "Network elements with avoid-restrictions are traversed in the output (restriction attribute names: \"Avoid Gates\").\n",
      "\n",
      "Location \"530610523011\" in \"Incidents\" is on a soft-restricted network element.\n",
      "Location \"421027779\" in \"Facilities\" is on a soft-restricted network element.\n",
      "Network elements with avoid-restrictions are traversed in the output (restriction attribute names: \"Avoid Private Roads\").\n",
      "\n",
      "Location \"530610535052\" in \"Incidents\" is on a soft-restricted network element.\n",
      "Location \"530610536021\" in \"Incidents\" is on a soft-restricted network element.\n",
      "Location \"421027779\" in \"Facilities\" is on a soft-restricted network element.\n",
      "Network elements with avoid-restrictions are traversed in the output (restriction attribute names: \"Avoid Private Roads\" \"Avoid Gates\").\n",
      "\n"
     ]
    },
    {
     "name": "stdout",
     "output_type": "stream",
     "text": [
      "success - 3745\n"
     ]
    },
    {
     "name": "stderr",
     "output_type": "stream",
     "text": [
      "Location \"421027779\" in \"Facilities\" is on a soft-restricted network element.\n",
      "\n",
      "Location \"530330219063\" in \"Incidents\" is on a soft-restricted network element.\n",
      "Location \"421027779\" in \"Facilities\" is on a soft-restricted network element.\n",
      "Network elements with avoid-restrictions are traversed in the output (restriction attribute names: \"Avoid Private Roads\" \"Avoid Gates\").\n",
      "\n",
      "Location \"421027779\" in \"Facilities\" is on a soft-restricted network element.\n",
      "Network elements with avoid-restrictions are traversed in the output (restriction attribute names: \"Avoid Gates\").\n",
      "\n",
      "Location \"530610523011\" in \"Incidents\" is on a soft-restricted network element.\n",
      "Location \"421027779\" in \"Facilities\" is on a soft-restricted network element.\n",
      "Network elements with avoid-restrictions are traversed in the output (restriction attribute names: \"Avoid Private Roads\").\n",
      "\n",
      "Location \"530610535052\" in \"Incidents\" is on a soft-restricted network element.\n",
      "Location \"530610536021\" in \"Incidents\" is on a soft-restricted network element.\n",
      "Location \"421027779\" in \"Facilities\" is on a soft-restricted network element.\n",
      "Network elements with avoid-restrictions are traversed in the output (restriction attribute names: \"Avoid Private Roads\" \"Avoid Gates\").\n",
      "\n"
     ]
    },
    {
     "name": "stdout",
     "output_type": "stream",
     "text": [
      "success - 3746\n"
     ]
    },
    {
     "name": "stderr",
     "output_type": "stream",
     "text": [
      "Location \"421027779\" in \"Facilities\" is on a soft-restricted network element.\n",
      "\n",
      "Location \"530330219063\" in \"Incidents\" is on a soft-restricted network element.\n",
      "Location \"421027779\" in \"Facilities\" is on a soft-restricted network element.\n",
      "Network elements with avoid-restrictions are traversed in the output (restriction attribute names: \"Avoid Private Roads\" \"Avoid Gates\").\n",
      "\n",
      "Location \"421027779\" in \"Facilities\" is on a soft-restricted network element.\n",
      "Network elements with avoid-restrictions are traversed in the output (restriction attribute names: \"Avoid Gates\").\n",
      "\n",
      "Location \"530610523011\" in \"Incidents\" is on a soft-restricted network element.\n",
      "Location \"421027779\" in \"Facilities\" is on a soft-restricted network element.\n",
      "Network elements with avoid-restrictions are traversed in the output (restriction attribute names: \"Avoid Private Roads\").\n",
      "\n",
      "Location \"530610535052\" in \"Incidents\" is on a soft-restricted network element.\n",
      "Location \"530610536021\" in \"Incidents\" is on a soft-restricted network element.\n",
      "Location \"421027779\" in \"Facilities\" is on a soft-restricted network element.\n",
      "Network elements with avoid-restrictions are traversed in the output (restriction attribute names: \"Avoid Private Roads\" \"Avoid Gates\").\n",
      "\n"
     ]
    },
    {
     "name": "stdout",
     "output_type": "stream",
     "text": [
      "success - 3747\n"
     ]
    },
    {
     "name": "stderr",
     "output_type": "stream",
     "text": [
      "Location \"421027779\" in \"Facilities\" is on a soft-restricted network element.\n",
      "\n",
      "Location \"530330219063\" in \"Incidents\" is on a soft-restricted network element.\n",
      "Location \"421027779\" in \"Facilities\" is on a soft-restricted network element.\n",
      "Network elements with avoid-restrictions are traversed in the output (restriction attribute names: \"Avoid Private Roads\" \"Avoid Gates\").\n",
      "\n",
      "Location \"421027779\" in \"Facilities\" is on a soft-restricted network element.\n",
      "Network elements with avoid-restrictions are traversed in the output (restriction attribute names: \"Avoid Gates\").\n",
      "\n",
      "Location \"530610523011\" in \"Incidents\" is on a soft-restricted network element.\n",
      "Location \"421027779\" in \"Facilities\" is on a soft-restricted network element.\n",
      "Network elements with avoid-restrictions are traversed in the output (restriction attribute names: \"Avoid Private Roads\").\n",
      "\n",
      "Location \"530610535052\" in \"Incidents\" is on a soft-restricted network element.\n",
      "Location \"530610536021\" in \"Incidents\" is on a soft-restricted network element.\n",
      "Location \"421027779\" in \"Facilities\" is on a soft-restricted network element.\n",
      "Network elements with avoid-restrictions are traversed in the output (restriction attribute names: \"Avoid Private Roads\" \"Avoid Gates\").\n",
      "\n"
     ]
    },
    {
     "name": "stdout",
     "output_type": "stream",
     "text": [
      "success - 3748\n"
     ]
    },
    {
     "name": "stderr",
     "output_type": "stream",
     "text": [
      "Location \"421027779\" in \"Facilities\" is on a soft-restricted network element.\n",
      "\n",
      "Location \"530330219063\" in \"Incidents\" is on a soft-restricted network element.\n",
      "Location \"421027779\" in \"Facilities\" is on a soft-restricted network element.\n",
      "Network elements with avoid-restrictions are traversed in the output (restriction attribute names: \"Avoid Private Roads\" \"Avoid Gates\").\n",
      "\n",
      "Location \"421027779\" in \"Facilities\" is on a soft-restricted network element.\n",
      "Network elements with avoid-restrictions are traversed in the output (restriction attribute names: \"Avoid Gates\").\n",
      "\n",
      "Location \"530610523011\" in \"Incidents\" is on a soft-restricted network element.\n",
      "Location \"421027779\" in \"Facilities\" is on a soft-restricted network element.\n",
      "Network elements with avoid-restrictions are traversed in the output (restriction attribute names: \"Avoid Private Roads\").\n",
      "\n",
      "Location \"530610535052\" in \"Incidents\" is on a soft-restricted network element.\n",
      "Location \"530610536021\" in \"Incidents\" is on a soft-restricted network element.\n",
      "Location \"421027779\" in \"Facilities\" is on a soft-restricted network element.\n",
      "Network elements with avoid-restrictions are traversed in the output (restriction attribute names: \"Avoid Private Roads\" \"Avoid Gates\").\n",
      "\n"
     ]
    },
    {
     "name": "stdout",
     "output_type": "stream",
     "text": [
      "success - 3749\n"
     ]
    },
    {
     "name": "stderr",
     "output_type": "stream",
     "text": [
      "Location \"421027779\" in \"Facilities\" is on a soft-restricted network element.\n",
      "\n",
      "Location \"530330219063\" in \"Incidents\" is on a soft-restricted network element.\n",
      "Location \"421027779\" in \"Facilities\" is on a soft-restricted network element.\n",
      "Network elements with avoid-restrictions are traversed in the output (restriction attribute names: \"Avoid Private Roads\" \"Avoid Gates\").\n",
      "\n",
      "Location \"421027779\" in \"Facilities\" is on a soft-restricted network element.\n",
      "Network elements with avoid-restrictions are traversed in the output (restriction attribute names: \"Avoid Gates\").\n",
      "\n",
      "Location \"530610523011\" in \"Incidents\" is on a soft-restricted network element.\n",
      "Location \"421027779\" in \"Facilities\" is on a soft-restricted network element.\n",
      "Network elements with avoid-restrictions are traversed in the output (restriction attribute names: \"Avoid Private Roads\").\n",
      "\n",
      "Location \"530610535052\" in \"Incidents\" is on a soft-restricted network element.\n",
      "Location \"530610536021\" in \"Incidents\" is on a soft-restricted network element.\n",
      "Location \"421027779\" in \"Facilities\" is on a soft-restricted network element.\n",
      "Network elements with avoid-restrictions are traversed in the output (restriction attribute names: \"Avoid Private Roads\" \"Avoid Gates\").\n",
      "\n"
     ]
    },
    {
     "name": "stdout",
     "output_type": "stream",
     "text": [
      "success - 3750\n"
     ]
    },
    {
     "name": "stderr",
     "output_type": "stream",
     "text": [
      "Location \"421027779\" in \"Facilities\" is on a soft-restricted network element.\n",
      "\n",
      "Location \"530330219063\" in \"Incidents\" is on a soft-restricted network element.\n",
      "Location \"421027779\" in \"Facilities\" is on a soft-restricted network element.\n",
      "Network elements with avoid-restrictions are traversed in the output (restriction attribute names: \"Avoid Private Roads\" \"Avoid Gates\").\n",
      "\n",
      "Location \"421027779\" in \"Facilities\" is on a soft-restricted network element.\n",
      "Network elements with avoid-restrictions are traversed in the output (restriction attribute names: \"Avoid Gates\").\n",
      "\n",
      "Location \"530610523011\" in \"Incidents\" is on a soft-restricted network element.\n",
      "Location \"421027779\" in \"Facilities\" is on a soft-restricted network element.\n",
      "Network elements with avoid-restrictions are traversed in the output (restriction attribute names: \"Avoid Private Roads\").\n",
      "\n",
      "Location \"530610535052\" in \"Incidents\" is on a soft-restricted network element.\n",
      "Location \"530610536021\" in \"Incidents\" is on a soft-restricted network element.\n",
      "Location \"421027779\" in \"Facilities\" is on a soft-restricted network element.\n",
      "Network elements with avoid-restrictions are traversed in the output (restriction attribute names: \"Avoid Private Roads\").\n",
      "\n"
     ]
    },
    {
     "name": "stdout",
     "output_type": "stream",
     "text": [
      "success - 3752\n"
     ]
    },
    {
     "name": "stderr",
     "output_type": "stream",
     "text": [
      "Location \"421027779\" in \"Facilities\" is on a soft-restricted network element.\n",
      "\n",
      "Location \"530330219063\" in \"Incidents\" is on a soft-restricted network element.\n",
      "Location \"421027779\" in \"Facilities\" is on a soft-restricted network element.\n",
      "Network elements with avoid-restrictions are traversed in the output (restriction attribute names: \"Avoid Private Roads\" \"Avoid Gates\").\n",
      "\n",
      "Location \"421027779\" in \"Facilities\" is on a soft-restricted network element.\n",
      "Network elements with avoid-restrictions are traversed in the output (restriction attribute names: \"Avoid Gates\").\n",
      "\n",
      "Location \"530610523011\" in \"Incidents\" is on a soft-restricted network element.\n",
      "Location \"421027779\" in \"Facilities\" is on a soft-restricted network element.\n",
      "Network elements with avoid-restrictions are traversed in the output (restriction attribute names: \"Avoid Private Roads\").\n",
      "\n",
      "Location \"530610535052\" in \"Incidents\" is on a soft-restricted network element.\n",
      "Location \"530610536021\" in \"Incidents\" is on a soft-restricted network element.\n",
      "Location \"421027779\" in \"Facilities\" is on a soft-restricted network element.\n",
      "Network elements with avoid-restrictions are traversed in the output (restriction attribute names: \"Avoid Private Roads\").\n",
      "\n"
     ]
    },
    {
     "name": "stdout",
     "output_type": "stream",
     "text": [
      "success - 3753\n"
     ]
    },
    {
     "name": "stderr",
     "output_type": "stream",
     "text": [
      "Location \"421027779\" in \"Facilities\" is on a soft-restricted network element.\n",
      "\n",
      "Location \"530330219063\" in \"Incidents\" is on a soft-restricted network element.\n",
      "Location \"421027779\" in \"Facilities\" is on a soft-restricted network element.\n",
      "Network elements with avoid-restrictions are traversed in the output (restriction attribute names: \"Avoid Private Roads\" \"Avoid Gates\").\n",
      "\n",
      "Location \"421027779\" in \"Facilities\" is on a soft-restricted network element.\n",
      "Network elements with avoid-restrictions are traversed in the output (restriction attribute names: \"Avoid Gates\").\n",
      "\n",
      "Location \"530610523011\" in \"Incidents\" is on a soft-restricted network element.\n",
      "Location \"421027779\" in \"Facilities\" is on a soft-restricted network element.\n",
      "Network elements with avoid-restrictions are traversed in the output (restriction attribute names: \"Avoid Private Roads\").\n",
      "\n",
      "Location \"530610535052\" in \"Incidents\" is on a soft-restricted network element.\n",
      "Location \"530610536021\" in \"Incidents\" is on a soft-restricted network element.\n",
      "Location \"421027779\" in \"Facilities\" is on a soft-restricted network element.\n",
      "Network elements with avoid-restrictions are traversed in the output (restriction attribute names: \"Avoid Private Roads\").\n",
      "\n"
     ]
    },
    {
     "name": "stdout",
     "output_type": "stream",
     "text": [
      "success - 3757\n"
     ]
    },
    {
     "name": "stderr",
     "output_type": "stream",
     "text": [
      "Location \"421027779\" in \"Facilities\" is on a soft-restricted network element.\n",
      "\n",
      "Location \"530330219063\" in \"Incidents\" is on a soft-restricted network element.\n",
      "Location \"421027779\" in \"Facilities\" is on a soft-restricted network element.\n",
      "Network elements with avoid-restrictions are traversed in the output (restriction attribute names: \"Avoid Private Roads\" \"Avoid Gates\").\n",
      "\n",
      "Location \"421027779\" in \"Facilities\" is on a soft-restricted network element.\n",
      "Network elements with avoid-restrictions are traversed in the output (restriction attribute names: \"Avoid Gates\").\n",
      "\n",
      "Location \"530610523011\" in \"Incidents\" is on a soft-restricted network element.\n",
      "Location \"421027779\" in \"Facilities\" is on a soft-restricted network element.\n",
      "Network elements with avoid-restrictions are traversed in the output (restriction attribute names: \"Avoid Private Roads\").\n",
      "\n",
      "Location \"530610535052\" in \"Incidents\" is on a soft-restricted network element.\n",
      "Location \"530610536021\" in \"Incidents\" is on a soft-restricted network element.\n",
      "Location \"421027779\" in \"Facilities\" is on a soft-restricted network element.\n",
      "Network elements with avoid-restrictions are traversed in the output (restriction attribute names: \"Avoid Private Roads\").\n",
      "\n"
     ]
    },
    {
     "name": "stdout",
     "output_type": "stream",
     "text": [
      "success - 3758\n"
     ]
    },
    {
     "name": "stderr",
     "output_type": "stream",
     "text": [
      "Location \"421027779\" in \"Facilities\" is on a soft-restricted network element.\n",
      "\n",
      "Location \"530330219063\" in \"Incidents\" is on a soft-restricted network element.\n",
      "Location \"421027779\" in \"Facilities\" is on a soft-restricted network element.\n",
      "Network elements with avoid-restrictions are traversed in the output (restriction attribute names: \"Avoid Private Roads\" \"Avoid Gates\").\n",
      "\n",
      "Location \"421027779\" in \"Facilities\" is on a soft-restricted network element.\n",
      "Network elements with avoid-restrictions are traversed in the output (restriction attribute names: \"Avoid Gates\").\n",
      "\n",
      "Location \"530610523011\" in \"Incidents\" is on a soft-restricted network element.\n",
      "Location \"421027779\" in \"Facilities\" is on a soft-restricted network element.\n",
      "Network elements with avoid-restrictions are traversed in the output (restriction attribute names: \"Avoid Private Roads\").\n",
      "\n",
      "Location \"530610535052\" in \"Incidents\" is on a soft-restricted network element.\n",
      "Location \"530610536021\" in \"Incidents\" is on a soft-restricted network element.\n",
      "Location \"421027779\" in \"Facilities\" is on a soft-restricted network element.\n",
      "Network elements with avoid-restrictions are traversed in the output (restriction attribute names: \"Avoid Private Roads\").\n",
      "\n"
     ]
    },
    {
     "name": "stdout",
     "output_type": "stream",
     "text": [
      "success - 3759\n"
     ]
    },
    {
     "name": "stderr",
     "output_type": "stream",
     "text": [
      "Location \"421027779\" in \"Facilities\" is on a soft-restricted network element.\n",
      "\n",
      "Location \"530330219063\" in \"Incidents\" is on a soft-restricted network element.\n",
      "Location \"421027779\" in \"Facilities\" is on a soft-restricted network element.\n",
      "Network elements with avoid-restrictions are traversed in the output (restriction attribute names: \"Avoid Private Roads\" \"Avoid Gates\").\n",
      "\n",
      "Location \"421027779\" in \"Facilities\" is on a soft-restricted network element.\n",
      "Network elements with avoid-restrictions are traversed in the output (restriction attribute names: \"Avoid Gates\").\n",
      "\n",
      "Location \"530610523011\" in \"Incidents\" is on a soft-restricted network element.\n",
      "Location \"421027779\" in \"Facilities\" is on a soft-restricted network element.\n",
      "Network elements with avoid-restrictions are traversed in the output (restriction attribute names: \"Avoid Private Roads\").\n",
      "\n",
      "Location \"530610535052\" in \"Incidents\" is on a soft-restricted network element.\n",
      "Location \"530610536021\" in \"Incidents\" is on a soft-restricted network element.\n",
      "Location \"421027779\" in \"Facilities\" is on a soft-restricted network element.\n",
      "Network elements with avoid-restrictions are traversed in the output (restriction attribute names: \"Avoid Private Roads\").\n",
      "\n"
     ]
    },
    {
     "name": "stdout",
     "output_type": "stream",
     "text": [
      "success - 3792\n"
     ]
    },
    {
     "name": "stderr",
     "output_type": "stream",
     "text": [
      "Location \"421027779\" in \"Facilities\" is on a soft-restricted network element.\n",
      "\n",
      "Location \"530330219063\" in \"Incidents\" is on a soft-restricted network element.\n",
      "Location \"421027779\" in \"Facilities\" is on a soft-restricted network element.\n",
      "Network elements with avoid-restrictions are traversed in the output (restriction attribute names: \"Avoid Private Roads\" \"Avoid Gates\").\n",
      "\n",
      "Location \"421027779\" in \"Facilities\" is on a soft-restricted network element.\n",
      "Network elements with avoid-restrictions are traversed in the output (restriction attribute names: \"Avoid Gates\").\n",
      "\n",
      "Location \"530610523011\" in \"Incidents\" is on a soft-restricted network element.\n",
      "Location \"421027779\" in \"Facilities\" is on a soft-restricted network element.\n",
      "Network elements with avoid-restrictions are traversed in the output (restriction attribute names: \"Avoid Private Roads\").\n",
      "\n",
      "Location \"530610535052\" in \"Incidents\" is on a soft-restricted network element.\n",
      "Location \"530610536021\" in \"Incidents\" is on a soft-restricted network element.\n",
      "Location \"421027779\" in \"Facilities\" is on a soft-restricted network element.\n",
      "Network elements with avoid-restrictions are traversed in the output (restriction attribute names: \"Avoid Private Roads\").\n",
      "\n"
     ]
    },
    {
     "name": "stdout",
     "output_type": "stream",
     "text": [
      "success - 3793\n"
     ]
    },
    {
     "name": "stderr",
     "output_type": "stream",
     "text": [
      "Location \"421027779\" in \"Facilities\" is on a soft-restricted network element.\n",
      "\n",
      "Location \"530330219063\" in \"Incidents\" is on a soft-restricted network element.\n",
      "Location \"421027779\" in \"Facilities\" is on a soft-restricted network element.\n",
      "Network elements with avoid-restrictions are traversed in the output (restriction attribute names: \"Avoid Private Roads\" \"Avoid Gates\").\n",
      "\n",
      "Location \"421027779\" in \"Facilities\" is on a soft-restricted network element.\n",
      "Network elements with avoid-restrictions are traversed in the output (restriction attribute names: \"Avoid Gates\").\n",
      "\n",
      "Location \"530610523011\" in \"Incidents\" is on a soft-restricted network element.\n",
      "Location \"421027779\" in \"Facilities\" is on a soft-restricted network element.\n",
      "Network elements with avoid-restrictions are traversed in the output (restriction attribute names: \"Avoid Private Roads\").\n",
      "\n",
      "Location \"530610535052\" in \"Incidents\" is on a soft-restricted network element.\n",
      "Location \"530610536021\" in \"Incidents\" is on a soft-restricted network element.\n",
      "Location \"421027779\" in \"Facilities\" is on a soft-restricted network element.\n",
      "Network elements with avoid-restrictions are traversed in the output (restriction attribute names: \"Avoid Private Roads\").\n",
      "\n"
     ]
    },
    {
     "name": "stdout",
     "output_type": "stream",
     "text": [
      "success - 3794\n"
     ]
    },
    {
     "name": "stderr",
     "output_type": "stream",
     "text": [
      "Location \"421027779\" in \"Facilities\" is on a soft-restricted network element.\n",
      "\n",
      "Location \"530330219063\" in \"Incidents\" is on a soft-restricted network element.\n",
      "Location \"421027779\" in \"Facilities\" is on a soft-restricted network element.\n",
      "Network elements with avoid-restrictions are traversed in the output (restriction attribute names: \"Avoid Private Roads\" \"Avoid Gates\").\n",
      "\n",
      "Location \"421027779\" in \"Facilities\" is on a soft-restricted network element.\n",
      "Network elements with avoid-restrictions are traversed in the output (restriction attribute names: \"Avoid Gates\").\n",
      "\n",
      "Location \"530610523011\" in \"Incidents\" is on a soft-restricted network element.\n",
      "Location \"421027779\" in \"Facilities\" is on a soft-restricted network element.\n",
      "Network elements with avoid-restrictions are traversed in the output (restriction attribute names: \"Avoid Private Roads\").\n",
      "\n",
      "Location \"530610535052\" in \"Incidents\" is on a soft-restricted network element.\n",
      "Location \"530610536021\" in \"Incidents\" is on a soft-restricted network element.\n",
      "Location \"421027779\" in \"Facilities\" is on a soft-restricted network element.\n",
      "Network elements with avoid-restrictions are traversed in the output (restriction attribute names: \"Avoid Private Roads\").\n",
      "\n"
     ]
    },
    {
     "name": "stdout",
     "output_type": "stream",
     "text": [
      "success - 3795\n"
     ]
    },
    {
     "name": "stderr",
     "output_type": "stream",
     "text": [
      "Location \"421027779\" in \"Facilities\" is on a soft-restricted network element.\n",
      "\n",
      "Location \"530330219063\" in \"Incidents\" is on a soft-restricted network element.\n",
      "Location \"421027779\" in \"Facilities\" is on a soft-restricted network element.\n",
      "Network elements with avoid-restrictions are traversed in the output (restriction attribute names: \"Avoid Private Roads\" \"Avoid Gates\").\n",
      "\n",
      "Location \"421027779\" in \"Facilities\" is on a soft-restricted network element.\n",
      "Network elements with avoid-restrictions are traversed in the output (restriction attribute names: \"Avoid Gates\").\n",
      "\n",
      "Location \"530610523011\" in \"Incidents\" is on a soft-restricted network element.\n",
      "Location \"421027779\" in \"Facilities\" is on a soft-restricted network element.\n",
      "Network elements with avoid-restrictions are traversed in the output (restriction attribute names: \"Avoid Private Roads\").\n",
      "\n",
      "Location \"530610535052\" in \"Incidents\" is on a soft-restricted network element.\n",
      "Location \"530610536021\" in \"Incidents\" is on a soft-restricted network element.\n",
      "Location \"421027779\" in \"Facilities\" is on a soft-restricted network element.\n",
      "Network elements with avoid-restrictions are traversed in the output (restriction attribute names: \"Avoid Private Roads\").\n",
      "\n"
     ]
    },
    {
     "name": "stdout",
     "output_type": "stream",
     "text": [
      "success - 3796\n"
     ]
    },
    {
     "name": "stderr",
     "output_type": "stream",
     "text": [
      "Location \"421027779\" in \"Facilities\" is on a soft-restricted network element.\n",
      "\n",
      "Location \"530330219063\" in \"Incidents\" is on a soft-restricted network element.\n",
      "Location \"421027779\" in \"Facilities\" is on a soft-restricted network element.\n",
      "Network elements with avoid-restrictions are traversed in the output (restriction attribute names: \"Avoid Private Roads\" \"Avoid Gates\").\n",
      "\n",
      "Location \"421027779\" in \"Facilities\" is on a soft-restricted network element.\n",
      "Network elements with avoid-restrictions are traversed in the output (restriction attribute names: \"Avoid Gates\").\n",
      "\n",
      "Location \"530610523011\" in \"Incidents\" is on a soft-restricted network element.\n",
      "Location \"421027779\" in \"Facilities\" is on a soft-restricted network element.\n",
      "Network elements with avoid-restrictions are traversed in the output (restriction attribute names: \"Avoid Private Roads\").\n",
      "\n",
      "Location \"530610535052\" in \"Incidents\" is on a soft-restricted network element.\n",
      "Location \"530610536021\" in \"Incidents\" is on a soft-restricted network element.\n",
      "Location \"421027779\" in \"Facilities\" is on a soft-restricted network element.\n",
      "Network elements with avoid-restrictions are traversed in the output (restriction attribute names: \"Avoid Private Roads\").\n",
      "\n"
     ]
    },
    {
     "name": "stdout",
     "output_type": "stream",
     "text": [
      "success - 3797\n"
     ]
    },
    {
     "name": "stderr",
     "output_type": "stream",
     "text": [
      "Location \"421027779\" in \"Facilities\" is on a soft-restricted network element.\n",
      "\n",
      "Location \"530330219063\" in \"Incidents\" is on a soft-restricted network element.\n",
      "Location \"421027779\" in \"Facilities\" is on a soft-restricted network element.\n",
      "Network elements with avoid-restrictions are traversed in the output (restriction attribute names: \"Avoid Private Roads\" \"Avoid Gates\").\n",
      "\n",
      "Location \"421027779\" in \"Facilities\" is on a soft-restricted network element.\n",
      "Network elements with avoid-restrictions are traversed in the output (restriction attribute names: \"Avoid Gates\").\n",
      "\n",
      "Location \"530610523011\" in \"Incidents\" is on a soft-restricted network element.\n",
      "Location \"421027779\" in \"Facilities\" is on a soft-restricted network element.\n",
      "Network elements with avoid-restrictions are traversed in the output (restriction attribute names: \"Avoid Private Roads\").\n",
      "\n",
      "Location \"530610535052\" in \"Incidents\" is on a soft-restricted network element.\n",
      "Location \"530610536021\" in \"Incidents\" is on a soft-restricted network element.\n",
      "Location \"421027779\" in \"Facilities\" is on a soft-restricted network element.\n",
      "Network elements with avoid-restrictions are traversed in the output (restriction attribute names: \"Avoid Private Roads\").\n",
      "\n"
     ]
    },
    {
     "name": "stdout",
     "output_type": "stream",
     "text": [
      "success - 3798\n"
     ]
    },
    {
     "name": "stderr",
     "output_type": "stream",
     "text": [
      "Location \"421027779\" in \"Facilities\" is on a soft-restricted network element.\n",
      "\n",
      "Location \"530330219063\" in \"Incidents\" is on a soft-restricted network element.\n",
      "Location \"421027779\" in \"Facilities\" is on a soft-restricted network element.\n",
      "Network elements with avoid-restrictions are traversed in the output (restriction attribute names: \"Avoid Private Roads\" \"Avoid Gates\").\n",
      "\n",
      "Location \"421027779\" in \"Facilities\" is on a soft-restricted network element.\n",
      "Network elements with avoid-restrictions are traversed in the output (restriction attribute names: \"Avoid Gates\").\n",
      "\n",
      "Location \"530610523011\" in \"Incidents\" is on a soft-restricted network element.\n",
      "Location \"421027779\" in \"Facilities\" is on a soft-restricted network element.\n",
      "Network elements with avoid-restrictions are traversed in the output (restriction attribute names: \"Avoid Private Roads\").\n",
      "\n",
      "Location \"530610535052\" in \"Incidents\" is on a soft-restricted network element.\n",
      "Location \"530610536021\" in \"Incidents\" is on a soft-restricted network element.\n",
      "Location \"421027779\" in \"Facilities\" is on a soft-restricted network element.\n",
      "Network elements with avoid-restrictions are traversed in the output (restriction attribute names: \"Avoid Private Roads\").\n",
      "\n"
     ]
    },
    {
     "name": "stdout",
     "output_type": "stream",
     "text": [
      "success - 3799\n"
     ]
    },
    {
     "name": "stderr",
     "output_type": "stream",
     "text": [
      "Location \"421027779\" in \"Facilities\" is on a soft-restricted network element.\n",
      "\n",
      "Location \"530330219063\" in \"Incidents\" is on a soft-restricted network element.\n",
      "Location \"421027779\" in \"Facilities\" is on a soft-restricted network element.\n",
      "Network elements with avoid-restrictions are traversed in the output (restriction attribute names: \"Avoid Private Roads\" \"Avoid Gates\").\n",
      "\n",
      "Location \"421027779\" in \"Facilities\" is on a soft-restricted network element.\n",
      "Network elements with avoid-restrictions are traversed in the output (restriction attribute names: \"Avoid Gates\").\n",
      "\n",
      "Location \"530610523011\" in \"Incidents\" is on a soft-restricted network element.\n",
      "Location \"421027779\" in \"Facilities\" is on a soft-restricted network element.\n",
      "Network elements with avoid-restrictions are traversed in the output (restriction attribute names: \"Avoid Private Roads\").\n",
      "\n",
      "Location \"530610535052\" in \"Incidents\" is on a soft-restricted network element.\n",
      "Location \"530610536021\" in \"Incidents\" is on a soft-restricted network element.\n",
      "Location \"421027779\" in \"Facilities\" is on a soft-restricted network element.\n",
      "Network elements with avoid-restrictions are traversed in the output (restriction attribute names: \"Avoid Private Roads\").\n",
      "\n"
     ]
    },
    {
     "name": "stdout",
     "output_type": "stream",
     "text": [
      "success - 3800\n"
     ]
    },
    {
     "name": "stderr",
     "output_type": "stream",
     "text": [
      "Location \"421027779\" in \"Facilities\" is on a soft-restricted network element.\n",
      "\n",
      "Location \"530330219063\" in \"Incidents\" is on a soft-restricted network element.\n",
      "Location \"421027779\" in \"Facilities\" is on a soft-restricted network element.\n",
      "Network elements with avoid-restrictions are traversed in the output (restriction attribute names: \"Avoid Private Roads\" \"Avoid Gates\").\n",
      "\n",
      "Location \"421027779\" in \"Facilities\" is on a soft-restricted network element.\n",
      "Network elements with avoid-restrictions are traversed in the output (restriction attribute names: \"Avoid Gates\").\n",
      "\n",
      "Location \"530610523011\" in \"Incidents\" is on a soft-restricted network element.\n",
      "Location \"421027779\" in \"Facilities\" is on a soft-restricted network element.\n",
      "Network elements with avoid-restrictions are traversed in the output (restriction attribute names: \"Avoid Private Roads\").\n",
      "\n",
      "Location \"530610535052\" in \"Incidents\" is on a soft-restricted network element.\n",
      "Location \"530610536021\" in \"Incidents\" is on a soft-restricted network element.\n",
      "Location \"421027779\" in \"Facilities\" is on a soft-restricted network element.\n",
      "Network elements with avoid-restrictions are traversed in the output (restriction attribute names: \"Avoid Private Roads\").\n",
      "\n"
     ]
    },
    {
     "name": "stdout",
     "output_type": "stream",
     "text": [
      "success - 3801\n"
     ]
    },
    {
     "name": "stderr",
     "output_type": "stream",
     "text": [
      "Location \"421027779\" in \"Facilities\" is on a soft-restricted network element.\n",
      "\n",
      "Location \"530330219063\" in \"Incidents\" is on a soft-restricted network element.\n",
      "Location \"421027779\" in \"Facilities\" is on a soft-restricted network element.\n",
      "Network elements with avoid-restrictions are traversed in the output (restriction attribute names: \"Avoid Private Roads\" \"Avoid Gates\").\n",
      "\n",
      "Location \"421027779\" in \"Facilities\" is on a soft-restricted network element.\n",
      "Network elements with avoid-restrictions are traversed in the output (restriction attribute names: \"Avoid Gates\").\n",
      "\n",
      "Location \"530610523011\" in \"Incidents\" is on a soft-restricted network element.\n",
      "Location \"421027779\" in \"Facilities\" is on a soft-restricted network element.\n",
      "Network elements with avoid-restrictions are traversed in the output (restriction attribute names: \"Avoid Private Roads\").\n",
      "\n",
      "Location \"530610535052\" in \"Incidents\" is on a soft-restricted network element.\n",
      "Location \"530610536021\" in \"Incidents\" is on a soft-restricted network element.\n",
      "Location \"421027779\" in \"Facilities\" is on a soft-restricted network element.\n",
      "Network elements with avoid-restrictions are traversed in the output (restriction attribute names: \"Avoid Private Roads\").\n",
      "\n"
     ]
    },
    {
     "name": "stdout",
     "output_type": "stream",
     "text": [
      "success - 3802\n"
     ]
    },
    {
     "name": "stderr",
     "output_type": "stream",
     "text": [
      "Location \"421027779\" in \"Facilities\" is on a soft-restricted network element.\n",
      "\n",
      "Location \"530330219063\" in \"Incidents\" is on a soft-restricted network element.\n",
      "Location \"421027779\" in \"Facilities\" is on a soft-restricted network element.\n",
      "Network elements with avoid-restrictions are traversed in the output (restriction attribute names: \"Avoid Private Roads\" \"Avoid Gates\").\n",
      "\n",
      "Location \"421027779\" in \"Facilities\" is on a soft-restricted network element.\n",
      "Network elements with avoid-restrictions are traversed in the output (restriction attribute names: \"Avoid Gates\").\n",
      "\n",
      "Location \"530610523011\" in \"Incidents\" is on a soft-restricted network element.\n",
      "Location \"421027779\" in \"Facilities\" is on a soft-restricted network element.\n",
      "Network elements with avoid-restrictions are traversed in the output (restriction attribute names: \"Avoid Private Roads\").\n",
      "\n",
      "Location \"530610535052\" in \"Incidents\" is on a soft-restricted network element.\n",
      "Location \"530610536021\" in \"Incidents\" is on a soft-restricted network element.\n",
      "Location \"421027779\" in \"Facilities\" is on a soft-restricted network element.\n",
      "Network elements with avoid-restrictions are traversed in the output (restriction attribute names: \"Avoid Private Roads\").\n",
      "\n"
     ]
    },
    {
     "name": "stdout",
     "output_type": "stream",
     "text": [
      "success - 3803\n"
     ]
    },
    {
     "name": "stderr",
     "output_type": "stream",
     "text": [
      "Location \"1\" in \"Incidents\" is on a soft-restricted network element.\n",
      "Location \"421027779\" in \"Facilities\" is on a soft-restricted network element.\n",
      "Network elements with avoid-restrictions are traversed in the output (restriction attribute names: \"Avoid Private Roads\").\n",
      "\n",
      "Location \"530330219063\" in \"Incidents\" is on a soft-restricted network element.\n",
      "Location \"421027779\" in \"Facilities\" is on a soft-restricted network element.\n",
      "Location \"1\" in \"Facilities\" is on a soft-restricted network element.\n",
      "Network elements with avoid-restrictions are traversed in the output (restriction attribute names: \"Avoid Private Roads\" \"Avoid Gates\").\n",
      "\n",
      "Location \"421027779\" in \"Facilities\" is on a soft-restricted network element.\n",
      "Location \"1\" in \"Facilities\" is on a soft-restricted network element.\n",
      "Network elements with avoid-restrictions are traversed in the output (restriction attribute names: \"Avoid Gates\").\n",
      "\n",
      "Location \"530610523011\" in \"Incidents\" is on a soft-restricted network element.\n",
      "Location \"421027779\" in \"Facilities\" is on a soft-restricted network element.\n",
      "Location \"1\" in \"Facilities\" is on a soft-restricted network element.\n",
      "Network elements with avoid-restrictions are traversed in the output (restriction attribute names: \"Avoid Private Roads\").\n",
      "\n",
      "Location \"530610535052\" in \"Incidents\" is on a soft-restricted network element.\n",
      "Location \"530610536021\" in \"Incidents\" is on a soft-restricted network element.\n",
      "Location \"421027779\" in \"Facilities\" is on a soft-restricted network element.\n",
      "Location \"1\" in \"Facilities\" is on a soft-restricted network element.\n",
      "Network elements with avoid-restrictions are traversed in the output (restriction attribute names: \"Avoid Private Roads\" \"Avoid Gates\").\n",
      "\n"
     ]
    },
    {
     "name": "stdout",
     "output_type": "stream",
     "text": [
      "success - 3808\n"
     ]
    },
    {
     "name": "stderr",
     "output_type": "stream",
     "text": [
      "Location \"421027779\" in \"Facilities\" is on a soft-restricted network element.\n",
      "\n",
      "Location \"530330219063\" in \"Incidents\" is on a soft-restricted network element.\n",
      "Location \"421027779\" in \"Facilities\" is on a soft-restricted network element.\n",
      "Network elements with avoid-restrictions are traversed in the output (restriction attribute names: \"Avoid Private Roads\" \"Avoid Gates\").\n",
      "\n",
      "Location \"421027779\" in \"Facilities\" is on a soft-restricted network element.\n",
      "Network elements with avoid-restrictions are traversed in the output (restriction attribute names: \"Avoid Gates\").\n",
      "\n",
      "Location \"530610523011\" in \"Incidents\" is on a soft-restricted network element.\n",
      "Location \"421027779\" in \"Facilities\" is on a soft-restricted network element.\n",
      "Network elements with avoid-restrictions are traversed in the output (restriction attribute names: \"Avoid Private Roads\").\n",
      "\n",
      "Location \"530610535052\" in \"Incidents\" is on a soft-restricted network element.\n",
      "Location \"530610536021\" in \"Incidents\" is on a soft-restricted network element.\n",
      "Location \"421027779\" in \"Facilities\" is on a soft-restricted network element.\n",
      "Network elements with avoid-restrictions are traversed in the output (restriction attribute names: \"Avoid Private Roads\" \"Avoid Gates\").\n",
      "\n"
     ]
    },
    {
     "name": "stdout",
     "output_type": "stream",
     "text": [
      "success - 3810\n"
     ]
    },
    {
     "name": "stderr",
     "output_type": "stream",
     "text": [
      "Location \"421027779\" in \"Facilities\" is on a soft-restricted network element.\n",
      "\n",
      "Location \"530330219063\" in \"Incidents\" is on a soft-restricted network element.\n",
      "Location \"421027779\" in \"Facilities\" is on a soft-restricted network element.\n",
      "Network elements with avoid-restrictions are traversed in the output (restriction attribute names: \"Avoid Private Roads\" \"Avoid Gates\").\n",
      "\n",
      "Location \"421027779\" in \"Facilities\" is on a soft-restricted network element.\n",
      "Network elements with avoid-restrictions are traversed in the output (restriction attribute names: \"Avoid Gates\").\n",
      "\n",
      "Location \"530610523011\" in \"Incidents\" is on a soft-restricted network element.\n",
      "Location \"421027779\" in \"Facilities\" is on a soft-restricted network element.\n",
      "Network elements with avoid-restrictions are traversed in the output (restriction attribute names: \"Avoid Private Roads\").\n",
      "\n",
      "Location \"530610535052\" in \"Incidents\" is on a soft-restricted network element.\n",
      "Location \"530610536021\" in \"Incidents\" is on a soft-restricted network element.\n",
      "Location \"421027779\" in \"Facilities\" is on a soft-restricted network element.\n",
      "Network elements with avoid-restrictions are traversed in the output (restriction attribute names: \"Avoid Private Roads\" \"Avoid Gates\").\n",
      "\n"
     ]
    },
    {
     "name": "stdout",
     "output_type": "stream",
     "text": [
      "success - 3811\n"
     ]
    },
    {
     "name": "stderr",
     "output_type": "stream",
     "text": [
      "Location \"421027779\" in \"Facilities\" is on a soft-restricted network element.\n",
      "\n",
      "Location \"530330219063\" in \"Incidents\" is on a soft-restricted network element.\n",
      "Location \"421027779\" in \"Facilities\" is on a soft-restricted network element.\n",
      "Network elements with avoid-restrictions are traversed in the output (restriction attribute names: \"Avoid Private Roads\" \"Avoid Gates\").\n",
      "\n",
      "Location \"421027779\" in \"Facilities\" is on a soft-restricted network element.\n",
      "Network elements with avoid-restrictions are traversed in the output (restriction attribute names: \"Avoid Gates\").\n",
      "\n",
      "Location \"530610523011\" in \"Incidents\" is on a soft-restricted network element.\n",
      "Location \"421027779\" in \"Facilities\" is on a soft-restricted network element.\n",
      "Network elements with avoid-restrictions are traversed in the output (restriction attribute names: \"Avoid Private Roads\").\n",
      "\n",
      "Location \"530610535052\" in \"Incidents\" is on a soft-restricted network element.\n",
      "Location \"530610536021\" in \"Incidents\" is on a soft-restricted network element.\n",
      "Location \"421027779\" in \"Facilities\" is on a soft-restricted network element.\n",
      "Network elements with avoid-restrictions are traversed in the output (restriction attribute names: \"Avoid Private Roads\" \"Avoid Gates\").\n",
      "\n"
     ]
    },
    {
     "name": "stdout",
     "output_type": "stream",
     "text": [
      "success - 3812\n"
     ]
    },
    {
     "name": "stderr",
     "output_type": "stream",
     "text": [
      "Location \"421027779\" in \"Facilities\" is on a soft-restricted network element.\n",
      "\n",
      "Location \"530330219063\" in \"Incidents\" is on a soft-restricted network element.\n",
      "Location \"421027779\" in \"Facilities\" is on a soft-restricted network element.\n",
      "Network elements with avoid-restrictions are traversed in the output (restriction attribute names: \"Avoid Private Roads\" \"Avoid Gates\").\n",
      "\n",
      "Location \"421027779\" in \"Facilities\" is on a soft-restricted network element.\n",
      "Network elements with avoid-restrictions are traversed in the output (restriction attribute names: \"Avoid Gates\").\n",
      "\n",
      "Location \"530610523011\" in \"Incidents\" is on a soft-restricted network element.\n",
      "Location \"421027779\" in \"Facilities\" is on a soft-restricted network element.\n",
      "Network elements with avoid-restrictions are traversed in the output (restriction attribute names: \"Avoid Private Roads\").\n",
      "\n",
      "Location \"530610535052\" in \"Incidents\" is on a soft-restricted network element.\n",
      "Location \"530610536021\" in \"Incidents\" is on a soft-restricted network element.\n",
      "Location \"421027779\" in \"Facilities\" is on a soft-restricted network element.\n",
      "Network elements with avoid-restrictions are traversed in the output (restriction attribute names: \"Avoid Private Roads\" \"Avoid Gates\").\n",
      "\n"
     ]
    },
    {
     "name": "stdout",
     "output_type": "stream",
     "text": [
      "success - 3813\n"
     ]
    },
    {
     "name": "stderr",
     "output_type": "stream",
     "text": [
      "Location \"421027779\" in \"Facilities\" is on a soft-restricted network element.\n",
      "\n",
      "Location \"530330219063\" in \"Incidents\" is on a soft-restricted network element.\n",
      "Location \"421027779\" in \"Facilities\" is on a soft-restricted network element.\n",
      "Network elements with avoid-restrictions are traversed in the output (restriction attribute names: \"Avoid Private Roads\" \"Avoid Gates\").\n",
      "\n",
      "Location \"421027779\" in \"Facilities\" is on a soft-restricted network element.\n",
      "Network elements with avoid-restrictions are traversed in the output (restriction attribute names: \"Avoid Gates\").\n",
      "\n",
      "Location \"530610523011\" in \"Incidents\" is on a soft-restricted network element.\n",
      "Location \"421027779\" in \"Facilities\" is on a soft-restricted network element.\n",
      "Network elements with avoid-restrictions are traversed in the output (restriction attribute names: \"Avoid Private Roads\").\n",
      "\n",
      "Location \"530610535052\" in \"Incidents\" is on a soft-restricted network element.\n",
      "Location \"530610536021\" in \"Incidents\" is on a soft-restricted network element.\n",
      "Location \"421027779\" in \"Facilities\" is on a soft-restricted network element.\n",
      "Network elements with avoid-restrictions are traversed in the output (restriction attribute names: \"Avoid Private Roads\").\n",
      "\n"
     ]
    },
    {
     "name": "stdout",
     "output_type": "stream",
     "text": [
      "success - 3817\n"
     ]
    },
    {
     "name": "stderr",
     "output_type": "stream",
     "text": [
      "Location \"421027779\" in \"Facilities\" is on a soft-restricted network element.\n",
      "\n",
      "Location \"530330219063\" in \"Incidents\" is on a soft-restricted network element.\n",
      "Location \"421027779\" in \"Facilities\" is on a soft-restricted network element.\n",
      "Network elements with avoid-restrictions are traversed in the output (restriction attribute names: \"Avoid Private Roads\" \"Avoid Gates\").\n",
      "\n",
      "Location \"421027779\" in \"Facilities\" is on a soft-restricted network element.\n",
      "Network elements with avoid-restrictions are traversed in the output (restriction attribute names: \"Avoid Gates\").\n",
      "\n",
      "Location \"530610523011\" in \"Incidents\" is on a soft-restricted network element.\n",
      "Location \"421027779\" in \"Facilities\" is on a soft-restricted network element.\n",
      "Network elements with avoid-restrictions are traversed in the output (restriction attribute names: \"Avoid Private Roads\").\n",
      "\n",
      "Location \"530610535052\" in \"Incidents\" is on a soft-restricted network element.\n",
      "Location \"530610536021\" in \"Incidents\" is on a soft-restricted network element.\n",
      "Location \"421027779\" in \"Facilities\" is on a soft-restricted network element.\n",
      "Network elements with avoid-restrictions are traversed in the output (restriction attribute names: \"Avoid Private Roads\").\n",
      "\n"
     ]
    },
    {
     "name": "stdout",
     "output_type": "stream",
     "text": [
      "success - 3818\n"
     ]
    },
    {
     "name": "stderr",
     "output_type": "stream",
     "text": [
      "Location \"421027779\" in \"Facilities\" is on a soft-restricted network element.\n",
      "\n",
      "Location \"530330219063\" in \"Incidents\" is on a soft-restricted network element.\n",
      "Location \"421027779\" in \"Facilities\" is on a soft-restricted network element.\n",
      "Network elements with avoid-restrictions are traversed in the output (restriction attribute names: \"Avoid Private Roads\" \"Avoid Gates\").\n",
      "\n",
      "Location \"421027779\" in \"Facilities\" is on a soft-restricted network element.\n",
      "Network elements with avoid-restrictions are traversed in the output (restriction attribute names: \"Avoid Gates\").\n",
      "\n",
      "Location \"530610523011\" in \"Incidents\" is on a soft-restricted network element.\n",
      "Location \"421027779\" in \"Facilities\" is on a soft-restricted network element.\n",
      "Network elements with avoid-restrictions are traversed in the output (restriction attribute names: \"Avoid Private Roads\").\n",
      "\n",
      "Location \"530610535052\" in \"Incidents\" is on a soft-restricted network element.\n",
      "Location \"530610536021\" in \"Incidents\" is on a soft-restricted network element.\n",
      "Location \"421027779\" in \"Facilities\" is on a soft-restricted network element.\n",
      "Network elements with avoid-restrictions are traversed in the output (restriction attribute names: \"Avoid Private Roads\").\n",
      "\n"
     ]
    },
    {
     "name": "stdout",
     "output_type": "stream",
     "text": [
      "success - 3819\n"
     ]
    },
    {
     "name": "stderr",
     "output_type": "stream",
     "text": [
      "Location \"421027779\" in \"Facilities\" is on a soft-restricted network element.\n",
      "\n",
      "Location \"530330219063\" in \"Incidents\" is on a soft-restricted network element.\n",
      "Location \"421027779\" in \"Facilities\" is on a soft-restricted network element.\n",
      "Network elements with avoid-restrictions are traversed in the output (restriction attribute names: \"Avoid Private Roads\" \"Avoid Gates\").\n",
      "\n",
      "Location \"421027779\" in \"Facilities\" is on a soft-restricted network element.\n",
      "Network elements with avoid-restrictions are traversed in the output (restriction attribute names: \"Avoid Gates\").\n",
      "\n",
      "Location \"530610523011\" in \"Incidents\" is on a soft-restricted network element.\n",
      "Location \"421027779\" in \"Facilities\" is on a soft-restricted network element.\n",
      "Network elements with avoid-restrictions are traversed in the output (restriction attribute names: \"Avoid Private Roads\").\n",
      "\n",
      "Location \"530610535052\" in \"Incidents\" is on a soft-restricted network element.\n",
      "Location \"530610536021\" in \"Incidents\" is on a soft-restricted network element.\n",
      "Location \"421027779\" in \"Facilities\" is on a soft-restricted network element.\n",
      "Network elements with avoid-restrictions are traversed in the output (restriction attribute names: \"Avoid Private Roads\").\n",
      "\n"
     ]
    },
    {
     "name": "stdout",
     "output_type": "stream",
     "text": [
      "success - 3820\n"
     ]
    },
    {
     "name": "stderr",
     "output_type": "stream",
     "text": [
      "Location \"421027779\" in \"Facilities\" is on a soft-restricted network element.\n",
      "\n",
      "Location \"530330219063\" in \"Incidents\" is on a soft-restricted network element.\n",
      "Location \"421027779\" in \"Facilities\" is on a soft-restricted network element.\n",
      "Network elements with avoid-restrictions are traversed in the output (restriction attribute names: \"Avoid Private Roads\" \"Avoid Gates\").\n",
      "\n",
      "Location \"421027779\" in \"Facilities\" is on a soft-restricted network element.\n",
      "Network elements with avoid-restrictions are traversed in the output (restriction attribute names: \"Avoid Gates\").\n",
      "\n",
      "Location \"530610523011\" in \"Incidents\" is on a soft-restricted network element.\n",
      "Location \"421027779\" in \"Facilities\" is on a soft-restricted network element.\n",
      "Network elements with avoid-restrictions are traversed in the output (restriction attribute names: \"Avoid Private Roads\").\n",
      "\n",
      "Location \"530610535052\" in \"Incidents\" is on a soft-restricted network element.\n",
      "Location \"530610536021\" in \"Incidents\" is on a soft-restricted network element.\n",
      "Location \"421027779\" in \"Facilities\" is on a soft-restricted network element.\n",
      "Network elements with avoid-restrictions are traversed in the output (restriction attribute names: \"Avoid Private Roads\").\n",
      "\n"
     ]
    },
    {
     "name": "stdout",
     "output_type": "stream",
     "text": [
      "success - 3821\n"
     ]
    },
    {
     "name": "stderr",
     "output_type": "stream",
     "text": [
      "Location \"421027779\" in \"Facilities\" is on a soft-restricted network element.\n",
      "\n",
      "Location \"530330219063\" in \"Incidents\" is on a soft-restricted network element.\n",
      "Location \"421027779\" in \"Facilities\" is on a soft-restricted network element.\n",
      "Network elements with avoid-restrictions are traversed in the output (restriction attribute names: \"Avoid Private Roads\" \"Avoid Gates\").\n",
      "\n",
      "Location \"421027779\" in \"Facilities\" is on a soft-restricted network element.\n",
      "Network elements with avoid-restrictions are traversed in the output (restriction attribute names: \"Avoid Gates\").\n",
      "\n",
      "Location \"530610523011\" in \"Incidents\" is on a soft-restricted network element.\n",
      "Location \"421027779\" in \"Facilities\" is on a soft-restricted network element.\n",
      "Network elements with avoid-restrictions are traversed in the output (restriction attribute names: \"Avoid Private Roads\").\n",
      "\n",
      "Location \"530610535052\" in \"Incidents\" is on a soft-restricted network element.\n",
      "Location \"530610536021\" in \"Incidents\" is on a soft-restricted network element.\n",
      "Location \"421027779\" in \"Facilities\" is on a soft-restricted network element.\n",
      "Network elements with avoid-restrictions are traversed in the output (restriction attribute names: \"Avoid Private Roads\").\n",
      "\n"
     ]
    },
    {
     "name": "stdout",
     "output_type": "stream",
     "text": [
      "success - 3822\n"
     ]
    },
    {
     "name": "stderr",
     "output_type": "stream",
     "text": [
      "Location \"421027779\" in \"Facilities\" is on a soft-restricted network element.\n",
      "\n",
      "Location \"530330219063\" in \"Incidents\" is on a soft-restricted network element.\n",
      "Location \"421027779\" in \"Facilities\" is on a soft-restricted network element.\n",
      "Network elements with avoid-restrictions are traversed in the output (restriction attribute names: \"Avoid Private Roads\" \"Avoid Gates\").\n",
      "\n",
      "Location \"421027779\" in \"Facilities\" is on a soft-restricted network element.\n",
      "Network elements with avoid-restrictions are traversed in the output (restriction attribute names: \"Avoid Gates\").\n",
      "\n",
      "Location \"530610523011\" in \"Incidents\" is on a soft-restricted network element.\n",
      "Location \"421027779\" in \"Facilities\" is on a soft-restricted network element.\n",
      "Network elements with avoid-restrictions are traversed in the output (restriction attribute names: \"Avoid Private Roads\").\n",
      "\n",
      "Location \"530610535052\" in \"Incidents\" is on a soft-restricted network element.\n",
      "Location \"530610536021\" in \"Incidents\" is on a soft-restricted network element.\n",
      "Location \"421027779\" in \"Facilities\" is on a soft-restricted network element.\n",
      "Network elements with avoid-restrictions are traversed in the output (restriction attribute names: \"Avoid Private Roads\").\n",
      "\n"
     ]
    },
    {
     "name": "stdout",
     "output_type": "stream",
     "text": [
      "success - 3823\n"
     ]
    },
    {
     "name": "stderr",
     "output_type": "stream",
     "text": [
      "Location \"421027779\" in \"Facilities\" is on a soft-restricted network element.\n",
      "\n",
      "Location \"530330219063\" in \"Incidents\" is on a soft-restricted network element.\n",
      "Location \"421027779\" in \"Facilities\" is on a soft-restricted network element.\n",
      "Network elements with avoid-restrictions are traversed in the output (restriction attribute names: \"Avoid Private Roads\" \"Avoid Gates\").\n",
      "\n",
      "Location \"421027779\" in \"Facilities\" is on a soft-restricted network element.\n",
      "Network elements with avoid-restrictions are traversed in the output (restriction attribute names: \"Avoid Gates\").\n",
      "\n",
      "Location \"530610523011\" in \"Incidents\" is on a soft-restricted network element.\n",
      "Location \"421027779\" in \"Facilities\" is on a soft-restricted network element.\n",
      "Network elements with avoid-restrictions are traversed in the output (restriction attribute names: \"Avoid Private Roads\").\n",
      "\n",
      "Location \"530610535052\" in \"Incidents\" is on a soft-restricted network element.\n",
      "Location \"530610536021\" in \"Incidents\" is on a soft-restricted network element.\n",
      "Location \"421027779\" in \"Facilities\" is on a soft-restricted network element.\n",
      "Network elements with avoid-restrictions are traversed in the output (restriction attribute names: \"Avoid Private Roads\").\n",
      "\n"
     ]
    },
    {
     "name": "stdout",
     "output_type": "stream",
     "text": [
      "success - 3826\n"
     ]
    },
    {
     "name": "stderr",
     "output_type": "stream",
     "text": [
      "Location \"421027779\" in \"Facilities\" is on a soft-restricted network element.\n",
      "\n",
      "Location \"530330219063\" in \"Incidents\" is on a soft-restricted network element.\n",
      "Location \"421027779\" in \"Facilities\" is on a soft-restricted network element.\n",
      "Network elements with avoid-restrictions are traversed in the output (restriction attribute names: \"Avoid Private Roads\" \"Avoid Gates\").\n",
      "\n",
      "Location \"421027779\" in \"Facilities\" is on a soft-restricted network element.\n",
      "Network elements with avoid-restrictions are traversed in the output (restriction attribute names: \"Avoid Gates\").\n",
      "\n",
      "Location \"530610523011\" in \"Incidents\" is on a soft-restricted network element.\n",
      "Location \"421027779\" in \"Facilities\" is on a soft-restricted network element.\n",
      "Network elements with avoid-restrictions are traversed in the output (restriction attribute names: \"Avoid Private Roads\").\n",
      "\n",
      "Location \"530610535052\" in \"Incidents\" is on a soft-restricted network element.\n",
      "Location \"530610536021\" in \"Incidents\" is on a soft-restricted network element.\n",
      "Location \"421027779\" in \"Facilities\" is on a soft-restricted network element.\n",
      "Network elements with avoid-restrictions are traversed in the output (restriction attribute names: \"Avoid Private Roads\").\n",
      "\n"
     ]
    },
    {
     "name": "stdout",
     "output_type": "stream",
     "text": [
      "success - 3827\n"
     ]
    },
    {
     "name": "stderr",
     "output_type": "stream",
     "text": [
      "Location \"421027779\" in \"Facilities\" is on a soft-restricted network element.\n",
      "\n",
      "Location \"530330219063\" in \"Incidents\" is on a soft-restricted network element.\n",
      "Location \"421027779\" in \"Facilities\" is on a soft-restricted network element.\n",
      "Network elements with avoid-restrictions are traversed in the output (restriction attribute names: \"Avoid Private Roads\" \"Avoid Gates\").\n",
      "\n",
      "Location \"421027779\" in \"Facilities\" is on a soft-restricted network element.\n",
      "Network elements with avoid-restrictions are traversed in the output (restriction attribute names: \"Avoid Gates\").\n",
      "\n",
      "Location \"530610523011\" in \"Incidents\" is on a soft-restricted network element.\n",
      "Location \"421027779\" in \"Facilities\" is on a soft-restricted network element.\n",
      "Network elements with avoid-restrictions are traversed in the output (restriction attribute names: \"Avoid Private Roads\").\n",
      "\n",
      "Location \"530610535052\" in \"Incidents\" is on a soft-restricted network element.\n",
      "Location \"530610536021\" in \"Incidents\" is on a soft-restricted network element.\n",
      "Location \"421027779\" in \"Facilities\" is on a soft-restricted network element.\n",
      "Network elements with avoid-restrictions are traversed in the output (restriction attribute names: \"Avoid Private Roads\").\n",
      "\n"
     ]
    },
    {
     "name": "stdout",
     "output_type": "stream",
     "text": [
      "success - 3828\n"
     ]
    },
    {
     "name": "stderr",
     "output_type": "stream",
     "text": [
      "Location \"421027779\" in \"Facilities\" is on a soft-restricted network element.\n",
      "\n",
      "Location \"530330219063\" in \"Incidents\" is on a soft-restricted network element.\n",
      "Location \"421027779\" in \"Facilities\" is on a soft-restricted network element.\n",
      "Network elements with avoid-restrictions are traversed in the output (restriction attribute names: \"Avoid Private Roads\" \"Avoid Gates\").\n",
      "\n",
      "Location \"421027779\" in \"Facilities\" is on a soft-restricted network element.\n",
      "Network elements with avoid-restrictions are traversed in the output (restriction attribute names: \"Avoid Gates\").\n",
      "\n",
      "Location \"530610523011\" in \"Incidents\" is on a soft-restricted network element.\n",
      "Location \"421027779\" in \"Facilities\" is on a soft-restricted network element.\n",
      "Network elements with avoid-restrictions are traversed in the output (restriction attribute names: \"Avoid Private Roads\").\n",
      "\n",
      "Location \"530610535052\" in \"Incidents\" is on a soft-restricted network element.\n",
      "Location \"530610536021\" in \"Incidents\" is on a soft-restricted network element.\n",
      "Location \"421027779\" in \"Facilities\" is on a soft-restricted network element.\n",
      "Network elements with avoid-restrictions are traversed in the output (restriction attribute names: \"Avoid Private Roads\").\n",
      "\n"
     ]
    },
    {
     "name": "stdout",
     "output_type": "stream",
     "text": [
      "success - 3857\n"
     ]
    },
    {
     "name": "stderr",
     "output_type": "stream",
     "text": [
      "Location \"421027779\" in \"Facilities\" is on a soft-restricted network element.\n",
      "\n",
      "Location \"530330219063\" in \"Incidents\" is on a soft-restricted network element.\n",
      "Location \"421027779\" in \"Facilities\" is on a soft-restricted network element.\n",
      "Network elements with avoid-restrictions are traversed in the output (restriction attribute names: \"Avoid Private Roads\" \"Avoid Gates\").\n",
      "\n",
      "Location \"421027779\" in \"Facilities\" is on a soft-restricted network element.\n",
      "Network elements with avoid-restrictions are traversed in the output (restriction attribute names: \"Avoid Gates\").\n",
      "\n",
      "Location \"530610523011\" in \"Incidents\" is on a soft-restricted network element.\n",
      "Location \"421027779\" in \"Facilities\" is on a soft-restricted network element.\n",
      "Network elements with avoid-restrictions are traversed in the output (restriction attribute names: \"Avoid Private Roads\").\n",
      "\n",
      "Location \"530610535052\" in \"Incidents\" is on a soft-restricted network element.\n",
      "Location \"530610536021\" in \"Incidents\" is on a soft-restricted network element.\n",
      "Location \"421027779\" in \"Facilities\" is on a soft-restricted network element.\n",
      "Network elements with avoid-restrictions are traversed in the output (restriction attribute names: \"Avoid Private Roads\").\n",
      "\n"
     ]
    },
    {
     "name": "stdout",
     "output_type": "stream",
     "text": [
      "success - 3858\n"
     ]
    },
    {
     "name": "stderr",
     "output_type": "stream",
     "text": [
      "Location \"421027779\" in \"Facilities\" is on a soft-restricted network element.\n",
      "\n",
      "Location \"530330219063\" in \"Incidents\" is on a soft-restricted network element.\n",
      "Location \"421027779\" in \"Facilities\" is on a soft-restricted network element.\n",
      "Network elements with avoid-restrictions are traversed in the output (restriction attribute names: \"Avoid Private Roads\" \"Avoid Gates\").\n",
      "\n",
      "Location \"421027779\" in \"Facilities\" is on a soft-restricted network element.\n",
      "Network elements with avoid-restrictions are traversed in the output (restriction attribute names: \"Avoid Gates\").\n",
      "\n",
      "Location \"530610523011\" in \"Incidents\" is on a soft-restricted network element.\n",
      "Location \"421027779\" in \"Facilities\" is on a soft-restricted network element.\n",
      "Network elements with avoid-restrictions are traversed in the output (restriction attribute names: \"Avoid Private Roads\").\n",
      "\n",
      "Location \"530610535052\" in \"Incidents\" is on a soft-restricted network element.\n",
      "Location \"530610536021\" in \"Incidents\" is on a soft-restricted network element.\n",
      "Location \"421027779\" in \"Facilities\" is on a soft-restricted network element.\n",
      "Network elements with avoid-restrictions are traversed in the output (restriction attribute names: \"Avoid Private Roads\").\n",
      "\n"
     ]
    },
    {
     "name": "stdout",
     "output_type": "stream",
     "text": [
      "success - 3859\n"
     ]
    },
    {
     "name": "stderr",
     "output_type": "stream",
     "text": [
      "Location \"421027779\" in \"Facilities\" is on a soft-restricted network element.\n",
      "\n",
      "Location \"530330219063\" in \"Incidents\" is on a soft-restricted network element.\n",
      "Location \"421027779\" in \"Facilities\" is on a soft-restricted network element.\n",
      "Network elements with avoid-restrictions are traversed in the output (restriction attribute names: \"Avoid Private Roads\" \"Avoid Gates\").\n",
      "\n",
      "Location \"421027779\" in \"Facilities\" is on a soft-restricted network element.\n",
      "Network elements with avoid-restrictions are traversed in the output (restriction attribute names: \"Avoid Gates\").\n",
      "\n",
      "Location \"530610523011\" in \"Incidents\" is on a soft-restricted network element.\n",
      "Location \"421027779\" in \"Facilities\" is on a soft-restricted network element.\n",
      "Network elements with avoid-restrictions are traversed in the output (restriction attribute names: \"Avoid Private Roads\").\n",
      "\n",
      "Location \"530610535052\" in \"Incidents\" is on a soft-restricted network element.\n",
      "Location \"530610536021\" in \"Incidents\" is on a soft-restricted network element.\n",
      "Location \"421027779\" in \"Facilities\" is on a soft-restricted network element.\n",
      "Network elements with avoid-restrictions are traversed in the output (restriction attribute names: \"Avoid Private Roads\").\n",
      "\n"
     ]
    },
    {
     "name": "stdout",
     "output_type": "stream",
     "text": [
      "success - 3860\n"
     ]
    },
    {
     "name": "stderr",
     "output_type": "stream",
     "text": [
      "Location \"421027779\" in \"Facilities\" is on a soft-restricted network element.\n",
      "\n",
      "Location \"530330219063\" in \"Incidents\" is on a soft-restricted network element.\n",
      "Location \"421027779\" in \"Facilities\" is on a soft-restricted network element.\n",
      "Network elements with avoid-restrictions are traversed in the output (restriction attribute names: \"Avoid Private Roads\" \"Avoid Gates\").\n",
      "\n",
      "Location \"421027779\" in \"Facilities\" is on a soft-restricted network element.\n",
      "Network elements with avoid-restrictions are traversed in the output (restriction attribute names: \"Avoid Gates\").\n",
      "\n",
      "Location \"530610523011\" in \"Incidents\" is on a soft-restricted network element.\n",
      "Location \"421027779\" in \"Facilities\" is on a soft-restricted network element.\n",
      "Network elements with avoid-restrictions are traversed in the output (restriction attribute names: \"Avoid Private Roads\").\n",
      "\n",
      "Location \"530610535052\" in \"Incidents\" is on a soft-restricted network element.\n",
      "Location \"530610536021\" in \"Incidents\" is on a soft-restricted network element.\n",
      "Location \"421027779\" in \"Facilities\" is on a soft-restricted network element.\n",
      "Network elements with avoid-restrictions are traversed in the output (restriction attribute names: \"Avoid Private Roads\").\n",
      "\n"
     ]
    },
    {
     "name": "stdout",
     "output_type": "stream",
     "text": [
      "success - 3861\n"
     ]
    },
    {
     "name": "stderr",
     "output_type": "stream",
     "text": [
      "Location \"421027779\" in \"Facilities\" is on a soft-restricted network element.\n",
      "\n",
      "Location \"530330219063\" in \"Incidents\" is on a soft-restricted network element.\n",
      "Location \"421027779\" in \"Facilities\" is on a soft-restricted network element.\n",
      "Network elements with avoid-restrictions are traversed in the output (restriction attribute names: \"Avoid Private Roads\" \"Avoid Gates\").\n",
      "\n",
      "Location \"421027779\" in \"Facilities\" is on a soft-restricted network element.\n",
      "Network elements with avoid-restrictions are traversed in the output (restriction attribute names: \"Avoid Gates\").\n",
      "\n",
      "Location \"530610523011\" in \"Incidents\" is on a soft-restricted network element.\n",
      "Location \"421027779\" in \"Facilities\" is on a soft-restricted network element.\n",
      "Network elements with avoid-restrictions are traversed in the output (restriction attribute names: \"Avoid Private Roads\").\n",
      "\n",
      "Location \"530610535052\" in \"Incidents\" is on a soft-restricted network element.\n",
      "Location \"530610536021\" in \"Incidents\" is on a soft-restricted network element.\n",
      "Location \"421027779\" in \"Facilities\" is on a soft-restricted network element.\n",
      "Network elements with avoid-restrictions are traversed in the output (restriction attribute names: \"Avoid Private Roads\").\n",
      "\n"
     ]
    },
    {
     "name": "stdout",
     "output_type": "stream",
     "text": [
      "success - 3862\n"
     ]
    },
    {
     "name": "stderr",
     "output_type": "stream",
     "text": [
      "Location \"421027779\" in \"Facilities\" is on a soft-restricted network element.\n",
      "\n",
      "Location \"530330219063\" in \"Incidents\" is on a soft-restricted network element.\n",
      "Location \"421027779\" in \"Facilities\" is on a soft-restricted network element.\n",
      "Network elements with avoid-restrictions are traversed in the output (restriction attribute names: \"Avoid Private Roads\" \"Avoid Gates\").\n",
      "\n",
      "Location \"421027779\" in \"Facilities\" is on a soft-restricted network element.\n",
      "Network elements with avoid-restrictions are traversed in the output (restriction attribute names: \"Avoid Gates\").\n",
      "\n",
      "Location \"530610523011\" in \"Incidents\" is on a soft-restricted network element.\n",
      "Location \"421027779\" in \"Facilities\" is on a soft-restricted network element.\n",
      "Network elements with avoid-restrictions are traversed in the output (restriction attribute names: \"Avoid Private Roads\").\n",
      "\n",
      "Location \"530610535052\" in \"Incidents\" is on a soft-restricted network element.\n",
      "Location \"530610536021\" in \"Incidents\" is on a soft-restricted network element.\n",
      "Location \"421027779\" in \"Facilities\" is on a soft-restricted network element.\n",
      "Network elements with avoid-restrictions are traversed in the output (restriction attribute names: \"Avoid Private Roads\").\n",
      "\n"
     ]
    },
    {
     "name": "stdout",
     "output_type": "stream",
     "text": [
      "success - 3863\n"
     ]
    },
    {
     "name": "stderr",
     "output_type": "stream",
     "text": [
      "Location \"421027779\" in \"Facilities\" is on a soft-restricted network element.\n",
      "\n",
      "Location \"530330219063\" in \"Incidents\" is on a soft-restricted network element.\n",
      "Location \"421027779\" in \"Facilities\" is on a soft-restricted network element.\n",
      "Network elements with avoid-restrictions are traversed in the output (restriction attribute names: \"Avoid Private Roads\" \"Avoid Gates\").\n",
      "\n",
      "Location \"421027779\" in \"Facilities\" is on a soft-restricted network element.\n",
      "Network elements with avoid-restrictions are traversed in the output (restriction attribute names: \"Avoid Gates\").\n",
      "\n",
      "Location \"530610523011\" in \"Incidents\" is on a soft-restricted network element.\n",
      "Location \"421027779\" in \"Facilities\" is on a soft-restricted network element.\n",
      "Network elements with avoid-restrictions are traversed in the output (restriction attribute names: \"Avoid Private Roads\").\n",
      "\n",
      "Location \"530610535052\" in \"Incidents\" is on a soft-restricted network element.\n",
      "Location \"530610536021\" in \"Incidents\" is on a soft-restricted network element.\n",
      "Location \"421027779\" in \"Facilities\" is on a soft-restricted network element.\n",
      "Network elements with avoid-restrictions are traversed in the output (restriction attribute names: \"Avoid Private Roads\").\n",
      "\n"
     ]
    },
    {
     "name": "stdout",
     "output_type": "stream",
     "text": [
      "success - 3864\n"
     ]
    },
    {
     "name": "stderr",
     "output_type": "stream",
     "text": [
      "Location \"421027779\" in \"Facilities\" is on a soft-restricted network element.\n",
      "\n",
      "Location \"530330219063\" in \"Incidents\" is on a soft-restricted network element.\n",
      "Location \"421027779\" in \"Facilities\" is on a soft-restricted network element.\n",
      "Network elements with avoid-restrictions are traversed in the output (restriction attribute names: \"Avoid Private Roads\" \"Avoid Gates\").\n",
      "\n",
      "Location \"421027779\" in \"Facilities\" is on a soft-restricted network element.\n",
      "Network elements with avoid-restrictions are traversed in the output (restriction attribute names: \"Avoid Gates\").\n",
      "\n",
      "Location \"530610523011\" in \"Incidents\" is on a soft-restricted network element.\n",
      "Location \"421027779\" in \"Facilities\" is on a soft-restricted network element.\n",
      "Network elements with avoid-restrictions are traversed in the output (restriction attribute names: \"Avoid Private Roads\").\n",
      "\n",
      "Location \"530610535052\" in \"Incidents\" is on a soft-restricted network element.\n",
      "Location \"530610536021\" in \"Incidents\" is on a soft-restricted network element.\n",
      "Location \"421027779\" in \"Facilities\" is on a soft-restricted network element.\n",
      "Network elements with avoid-restrictions are traversed in the output (restriction attribute names: \"Avoid Private Roads\").\n",
      "\n"
     ]
    },
    {
     "name": "stdout",
     "output_type": "stream",
     "text": [
      "success - 3865\n"
     ]
    },
    {
     "name": "stderr",
     "output_type": "stream",
     "text": [
      "Location \"421027779\" in \"Facilities\" is on a soft-restricted network element.\n",
      "\n",
      "Location \"530330219063\" in \"Incidents\" is on a soft-restricted network element.\n",
      "Location \"421027779\" in \"Facilities\" is on a soft-restricted network element.\n",
      "Network elements with avoid-restrictions are traversed in the output (restriction attribute names: \"Avoid Private Roads\" \"Avoid Gates\").\n",
      "\n",
      "Location \"421027779\" in \"Facilities\" is on a soft-restricted network element.\n",
      "Network elements with avoid-restrictions are traversed in the output (restriction attribute names: \"Avoid Gates\").\n",
      "\n",
      "Location \"530610523011\" in \"Incidents\" is on a soft-restricted network element.\n",
      "Location \"421027779\" in \"Facilities\" is on a soft-restricted network element.\n",
      "Network elements with avoid-restrictions are traversed in the output (restriction attribute names: \"Avoid Private Roads\").\n",
      "\n",
      "Location \"530610535052\" in \"Incidents\" is on a soft-restricted network element.\n",
      "Location \"530610536021\" in \"Incidents\" is on a soft-restricted network element.\n",
      "Location \"421027779\" in \"Facilities\" is on a soft-restricted network element.\n",
      "Network elements with avoid-restrictions are traversed in the output (restriction attribute names: \"Avoid Private Roads\").\n",
      "\n"
     ]
    },
    {
     "name": "stdout",
     "output_type": "stream",
     "text": [
      "success - 3866\n"
     ]
    },
    {
     "name": "stderr",
     "output_type": "stream",
     "text": [
      "Location \"421027779\" in \"Facilities\" is on a soft-restricted network element.\n",
      "\n",
      "Location \"530330219063\" in \"Incidents\" is on a soft-restricted network element.\n",
      "Location \"421027779\" in \"Facilities\" is on a soft-restricted network element.\n",
      "Network elements with avoid-restrictions are traversed in the output (restriction attribute names: \"Avoid Private Roads\" \"Avoid Gates\").\n",
      "\n",
      "Location \"421027779\" in \"Facilities\" is on a soft-restricted network element.\n",
      "Network elements with avoid-restrictions are traversed in the output (restriction attribute names: \"Avoid Gates\").\n",
      "\n",
      "Location \"530610523011\" in \"Incidents\" is on a soft-restricted network element.\n",
      "Location \"421027779\" in \"Facilities\" is on a soft-restricted network element.\n",
      "Network elements with avoid-restrictions are traversed in the output (restriction attribute names: \"Avoid Private Roads\").\n",
      "\n",
      "Location \"530610535052\" in \"Incidents\" is on a soft-restricted network element.\n",
      "Location \"530610536021\" in \"Incidents\" is on a soft-restricted network element.\n",
      "Location \"421027779\" in \"Facilities\" is on a soft-restricted network element.\n",
      "Network elements with avoid-restrictions are traversed in the output (restriction attribute names: \"Avoid Private Roads\").\n",
      "\n"
     ]
    },
    {
     "name": "stdout",
     "output_type": "stream",
     "text": [
      "success - 3867\n"
     ]
    },
    {
     "name": "stderr",
     "output_type": "stream",
     "text": [
      "Location \"421027779\" in \"Facilities\" is on a soft-restricted network element.\n",
      "\n",
      "Location \"530330219063\" in \"Incidents\" is on a soft-restricted network element.\n",
      "Location \"421027779\" in \"Facilities\" is on a soft-restricted network element.\n",
      "Network elements with avoid-restrictions are traversed in the output (restriction attribute names: \"Avoid Private Roads\" \"Avoid Gates\").\n",
      "\n",
      "Location \"421027779\" in \"Facilities\" is on a soft-restricted network element.\n",
      "Network elements with avoid-restrictions are traversed in the output (restriction attribute names: \"Avoid Gates\").\n",
      "\n",
      "Location \"530610523011\" in \"Incidents\" is on a soft-restricted network element.\n",
      "Location \"421027779\" in \"Facilities\" is on a soft-restricted network element.\n",
      "Network elements with avoid-restrictions are traversed in the output (restriction attribute names: \"Avoid Private Roads\").\n",
      "\n",
      "Location \"530610535052\" in \"Incidents\" is on a soft-restricted network element.\n",
      "Location \"530610536021\" in \"Incidents\" is on a soft-restricted network element.\n",
      "Location \"421027779\" in \"Facilities\" is on a soft-restricted network element.\n",
      "Network elements with avoid-restrictions are traversed in the output (restriction attribute names: \"Avoid Private Roads\").\n",
      "\n"
     ]
    },
    {
     "name": "stdout",
     "output_type": "stream",
     "text": [
      "success - 3868\n"
     ]
    },
    {
     "name": "stderr",
     "output_type": "stream",
     "text": [
      "Location \"1\" in \"Incidents\" is on a soft-restricted network element.\n",
      "Location \"421027779\" in \"Facilities\" is on a soft-restricted network element.\n",
      "Network elements with avoid-restrictions are traversed in the output (restriction attribute names: \"Avoid Private Roads\").\n",
      "\n",
      "Location \"530330219063\" in \"Incidents\" is on a soft-restricted network element.\n",
      "Location \"421027779\" in \"Facilities\" is on a soft-restricted network element.\n",
      "Location \"1\" in \"Facilities\" is on a soft-restricted network element.\n",
      "Network elements with avoid-restrictions are traversed in the output (restriction attribute names: \"Avoid Private Roads\" \"Avoid Gates\").\n",
      "\n",
      "Location \"421027779\" in \"Facilities\" is on a soft-restricted network element.\n",
      "Location \"1\" in \"Facilities\" is on a soft-restricted network element.\n",
      "Network elements with avoid-restrictions are traversed in the output (restriction attribute names: \"Avoid Gates\").\n",
      "\n",
      "Location \"530610523011\" in \"Incidents\" is on a soft-restricted network element.\n",
      "Location \"421027779\" in \"Facilities\" is on a soft-restricted network element.\n",
      "Location \"1\" in \"Facilities\" is on a soft-restricted network element.\n",
      "Network elements with avoid-restrictions are traversed in the output (restriction attribute names: \"Avoid Private Roads\").\n",
      "\n",
      "Location \"530610535052\" in \"Incidents\" is on a soft-restricted network element.\n",
      "Location \"530610536021\" in \"Incidents\" is on a soft-restricted network element.\n",
      "Location \"421027779\" in \"Facilities\" is on a soft-restricted network element.\n",
      "Location \"1\" in \"Facilities\" is on a soft-restricted network element.\n",
      "Network elements with avoid-restrictions are traversed in the output (restriction attribute names: \"Avoid Private Roads\" \"Avoid Gates\").\n",
      "\n"
     ]
    },
    {
     "name": "stdout",
     "output_type": "stream",
     "text": [
      "success - 3872\n"
     ]
    },
    {
     "name": "stderr",
     "output_type": "stream",
     "text": [
      "Location \"1\" in \"Incidents\" is on a soft-restricted network element.\n",
      "Location \"421027779\" in \"Facilities\" is on a soft-restricted network element.\n",
      "Network elements with avoid-restrictions are traversed in the output (restriction attribute names: \"Avoid Private Roads\").\n",
      "\n",
      "Location \"530330219063\" in \"Incidents\" is on a soft-restricted network element.\n",
      "Location \"421027779\" in \"Facilities\" is on a soft-restricted network element.\n",
      "Location \"1\" in \"Facilities\" is on a soft-restricted network element.\n",
      "Network elements with avoid-restrictions are traversed in the output (restriction attribute names: \"Avoid Private Roads\" \"Avoid Gates\").\n",
      "\n",
      "Location \"421027779\" in \"Facilities\" is on a soft-restricted network element.\n",
      "Location \"1\" in \"Facilities\" is on a soft-restricted network element.\n",
      "Network elements with avoid-restrictions are traversed in the output (restriction attribute names: \"Avoid Gates\").\n",
      "\n",
      "Location \"530610523011\" in \"Incidents\" is on a soft-restricted network element.\n",
      "Location \"421027779\" in \"Facilities\" is on a soft-restricted network element.\n",
      "Location \"1\" in \"Facilities\" is on a soft-restricted network element.\n",
      "Network elements with avoid-restrictions are traversed in the output (restriction attribute names: \"Avoid Private Roads\").\n",
      "\n",
      "Location \"530610535052\" in \"Incidents\" is on a soft-restricted network element.\n",
      "Location \"530610536021\" in \"Incidents\" is on a soft-restricted network element.\n",
      "Location \"421027779\" in \"Facilities\" is on a soft-restricted network element.\n",
      "Location \"1\" in \"Facilities\" is on a soft-restricted network element.\n",
      "Network elements with avoid-restrictions are traversed in the output (restriction attribute names: \"Avoid Private Roads\" \"Avoid Gates\").\n",
      "\n"
     ]
    },
    {
     "name": "stdout",
     "output_type": "stream",
     "text": [
      "success - 3873\n"
     ]
    },
    {
     "name": "stderr",
     "output_type": "stream",
     "text": [
      "Location \"421027779\" in \"Facilities\" is on a soft-restricted network element.\n",
      "\n",
      "Location \"530330219063\" in \"Incidents\" is on a soft-restricted network element.\n",
      "Location \"421027779\" in \"Facilities\" is on a soft-restricted network element.\n",
      "Network elements with avoid-restrictions are traversed in the output (restriction attribute names: \"Avoid Private Roads\" \"Avoid Gates\").\n",
      "\n",
      "Location \"421027779\" in \"Facilities\" is on a soft-restricted network element.\n",
      "Network elements with avoid-restrictions are traversed in the output (restriction attribute names: \"Avoid Gates\").\n",
      "\n",
      "Location \"530610523011\" in \"Incidents\" is on a soft-restricted network element.\n",
      "Location \"421027779\" in \"Facilities\" is on a soft-restricted network element.\n",
      "Network elements with avoid-restrictions are traversed in the output (restriction attribute names: \"Avoid Private Roads\").\n",
      "\n",
      "Location \"530610535052\" in \"Incidents\" is on a soft-restricted network element.\n",
      "Location \"530610536021\" in \"Incidents\" is on a soft-restricted network element.\n",
      "Location \"421027779\" in \"Facilities\" is on a soft-restricted network element.\n",
      "Network elements with avoid-restrictions are traversed in the output (restriction attribute names: \"Avoid Private Roads\" \"Avoid Gates\").\n",
      "\n"
     ]
    },
    {
     "name": "stdout",
     "output_type": "stream",
     "text": [
      "success - 3874\n"
     ]
    },
    {
     "name": "stderr",
     "output_type": "stream",
     "text": [
      "Location \"421027779\" in \"Facilities\" is on a soft-restricted network element.\n",
      "\n",
      "Location \"530330219063\" in \"Incidents\" is on a soft-restricted network element.\n",
      "Location \"421027779\" in \"Facilities\" is on a soft-restricted network element.\n",
      "Network elements with avoid-restrictions are traversed in the output (restriction attribute names: \"Avoid Private Roads\" \"Avoid Gates\").\n",
      "\n",
      "Location \"421027779\" in \"Facilities\" is on a soft-restricted network element.\n",
      "Network elements with avoid-restrictions are traversed in the output (restriction attribute names: \"Avoid Gates\").\n",
      "\n",
      "Location \"530610523011\" in \"Incidents\" is on a soft-restricted network element.\n",
      "Location \"421027779\" in \"Facilities\" is on a soft-restricted network element.\n",
      "Network elements with avoid-restrictions are traversed in the output (restriction attribute names: \"Avoid Private Roads\").\n",
      "\n",
      "Location \"530610535052\" in \"Incidents\" is on a soft-restricted network element.\n",
      "Location \"530610536021\" in \"Incidents\" is on a soft-restricted network element.\n",
      "Location \"421027779\" in \"Facilities\" is on a soft-restricted network element.\n",
      "Network elements with avoid-restrictions are traversed in the output (restriction attribute names: \"Avoid Private Roads\" \"Avoid Gates\").\n",
      "\n"
     ]
    },
    {
     "name": "stdout",
     "output_type": "stream",
     "text": [
      "success - 3875\n"
     ]
    },
    {
     "name": "stderr",
     "output_type": "stream",
     "text": [
      "Location \"421027779\" in \"Facilities\" is on a soft-restricted network element.\n",
      "\n",
      "Location \"530330219063\" in \"Incidents\" is on a soft-restricted network element.\n",
      "Location \"421027779\" in \"Facilities\" is on a soft-restricted network element.\n",
      "Network elements with avoid-restrictions are traversed in the output (restriction attribute names: \"Avoid Private Roads\" \"Avoid Gates\").\n",
      "\n",
      "Location \"421027779\" in \"Facilities\" is on a soft-restricted network element.\n",
      "Network elements with avoid-restrictions are traversed in the output (restriction attribute names: \"Avoid Gates\").\n",
      "\n",
      "Location \"530610523011\" in \"Incidents\" is on a soft-restricted network element.\n",
      "Location \"421027779\" in \"Facilities\" is on a soft-restricted network element.\n",
      "Network elements with avoid-restrictions are traversed in the output (restriction attribute names: \"Avoid Private Roads\").\n",
      "\n",
      "Location \"530610535052\" in \"Incidents\" is on a soft-restricted network element.\n",
      "Location \"530610536021\" in \"Incidents\" is on a soft-restricted network element.\n",
      "Location \"421027779\" in \"Facilities\" is on a soft-restricted network element.\n",
      "Network elements with avoid-restrictions are traversed in the output (restriction attribute names: \"Avoid Private Roads\" \"Avoid Gates\").\n",
      "\n"
     ]
    },
    {
     "name": "stdout",
     "output_type": "stream",
     "text": [
      "success - 3876\n"
     ]
    },
    {
     "name": "stderr",
     "output_type": "stream",
     "text": [
      "Location \"421027779\" in \"Facilities\" is on a soft-restricted network element.\n",
      "\n",
      "Location \"530330219063\" in \"Incidents\" is on a soft-restricted network element.\n",
      "Location \"421027779\" in \"Facilities\" is on a soft-restricted network element.\n",
      "Network elements with avoid-restrictions are traversed in the output (restriction attribute names: \"Avoid Private Roads\" \"Avoid Gates\").\n",
      "\n",
      "Location \"421027779\" in \"Facilities\" is on a soft-restricted network element.\n",
      "Network elements with avoid-restrictions are traversed in the output (restriction attribute names: \"Avoid Gates\").\n",
      "\n",
      "Location \"530610523011\" in \"Incidents\" is on a soft-restricted network element.\n",
      "Location \"421027779\" in \"Facilities\" is on a soft-restricted network element.\n",
      "Network elements with avoid-restrictions are traversed in the output (restriction attribute names: \"Avoid Private Roads\").\n",
      "\n",
      "Location \"530610535052\" in \"Incidents\" is on a soft-restricted network element.\n",
      "Location \"530610536021\" in \"Incidents\" is on a soft-restricted network element.\n",
      "Location \"421027779\" in \"Facilities\" is on a soft-restricted network element.\n",
      "Network elements with avoid-restrictions are traversed in the output (restriction attribute names: \"Avoid Private Roads\").\n",
      "\n"
     ]
    },
    {
     "name": "stdout",
     "output_type": "stream",
     "text": [
      "success - 3881\n"
     ]
    },
    {
     "name": "stderr",
     "output_type": "stream",
     "text": [
      "Location \"421027779\" in \"Facilities\" is on a soft-restricted network element.\n",
      "\n",
      "Location \"530330219063\" in \"Incidents\" is on a soft-restricted network element.\n",
      "Location \"421027779\" in \"Facilities\" is on a soft-restricted network element.\n",
      "Network elements with avoid-restrictions are traversed in the output (restriction attribute names: \"Avoid Private Roads\" \"Avoid Gates\").\n",
      "\n",
      "Location \"421027779\" in \"Facilities\" is on a soft-restricted network element.\n",
      "Network elements with avoid-restrictions are traversed in the output (restriction attribute names: \"Avoid Gates\").\n",
      "\n",
      "Location \"530610523011\" in \"Incidents\" is on a soft-restricted network element.\n",
      "Location \"421027779\" in \"Facilities\" is on a soft-restricted network element.\n",
      "Network elements with avoid-restrictions are traversed in the output (restriction attribute names: \"Avoid Private Roads\").\n",
      "\n",
      "Location \"530610535052\" in \"Incidents\" is on a soft-restricted network element.\n",
      "Location \"530610536021\" in \"Incidents\" is on a soft-restricted network element.\n",
      "Location \"421027779\" in \"Facilities\" is on a soft-restricted network element.\n",
      "Network elements with avoid-restrictions are traversed in the output (restriction attribute names: \"Avoid Private Roads\").\n",
      "\n"
     ]
    },
    {
     "name": "stdout",
     "output_type": "stream",
     "text": [
      "success - 3882\n"
     ]
    },
    {
     "name": "stderr",
     "output_type": "stream",
     "text": [
      "Location \"421027779\" in \"Facilities\" is on a soft-restricted network element.\n",
      "\n",
      "Location \"530330219063\" in \"Incidents\" is on a soft-restricted network element.\n",
      "Location \"421027779\" in \"Facilities\" is on a soft-restricted network element.\n",
      "Network elements with avoid-restrictions are traversed in the output (restriction attribute names: \"Avoid Private Roads\" \"Avoid Gates\").\n",
      "\n",
      "Location \"421027779\" in \"Facilities\" is on a soft-restricted network element.\n",
      "Network elements with avoid-restrictions are traversed in the output (restriction attribute names: \"Avoid Gates\").\n",
      "\n",
      "Location \"530610523011\" in \"Incidents\" is on a soft-restricted network element.\n",
      "Location \"421027779\" in \"Facilities\" is on a soft-restricted network element.\n",
      "Network elements with avoid-restrictions are traversed in the output (restriction attribute names: \"Avoid Private Roads\").\n",
      "\n",
      "Location \"530610535052\" in \"Incidents\" is on a soft-restricted network element.\n",
      "Location \"530610536021\" in \"Incidents\" is on a soft-restricted network element.\n",
      "Location \"421027779\" in \"Facilities\" is on a soft-restricted network element.\n",
      "Network elements with avoid-restrictions are traversed in the output (restriction attribute names: \"Avoid Private Roads\").\n",
      "\n"
     ]
    },
    {
     "name": "stdout",
     "output_type": "stream",
     "text": [
      "success - 3883\n"
     ]
    },
    {
     "name": "stderr",
     "output_type": "stream",
     "text": [
      "Location \"421027779\" in \"Facilities\" is on a soft-restricted network element.\n",
      "\n",
      "Location \"530330219063\" in \"Incidents\" is on a soft-restricted network element.\n",
      "Location \"421027779\" in \"Facilities\" is on a soft-restricted network element.\n",
      "Network elements with avoid-restrictions are traversed in the output (restriction attribute names: \"Avoid Private Roads\" \"Avoid Gates\").\n",
      "\n",
      "Location \"421027779\" in \"Facilities\" is on a soft-restricted network element.\n",
      "Network elements with avoid-restrictions are traversed in the output (restriction attribute names: \"Avoid Gates\").\n",
      "\n",
      "Location \"530610523011\" in \"Incidents\" is on a soft-restricted network element.\n",
      "Location \"421027779\" in \"Facilities\" is on a soft-restricted network element.\n",
      "Network elements with avoid-restrictions are traversed in the output (restriction attribute names: \"Avoid Private Roads\").\n",
      "\n",
      "Location \"530610535052\" in \"Incidents\" is on a soft-restricted network element.\n",
      "Location \"530610536021\" in \"Incidents\" is on a soft-restricted network element.\n",
      "Location \"421027779\" in \"Facilities\" is on a soft-restricted network element.\n",
      "Network elements with avoid-restrictions are traversed in the output (restriction attribute names: \"Avoid Private Roads\").\n",
      "\n"
     ]
    },
    {
     "name": "stdout",
     "output_type": "stream",
     "text": [
      "success - 3884\n"
     ]
    },
    {
     "name": "stderr",
     "output_type": "stream",
     "text": [
      "Location \"421027779\" in \"Facilities\" is on a soft-restricted network element.\n",
      "\n",
      "Location \"530330219063\" in \"Incidents\" is on a soft-restricted network element.\n",
      "Location \"421027779\" in \"Facilities\" is on a soft-restricted network element.\n",
      "Network elements with avoid-restrictions are traversed in the output (restriction attribute names: \"Avoid Private Roads\" \"Avoid Gates\").\n",
      "\n",
      "Location \"421027779\" in \"Facilities\" is on a soft-restricted network element.\n",
      "Network elements with avoid-restrictions are traversed in the output (restriction attribute names: \"Avoid Gates\").\n",
      "\n",
      "Location \"530610523011\" in \"Incidents\" is on a soft-restricted network element.\n",
      "Location \"421027779\" in \"Facilities\" is on a soft-restricted network element.\n",
      "Network elements with avoid-restrictions are traversed in the output (restriction attribute names: \"Avoid Private Roads\").\n",
      "\n",
      "Location \"530610535052\" in \"Incidents\" is on a soft-restricted network element.\n",
      "Location \"530610536021\" in \"Incidents\" is on a soft-restricted network element.\n",
      "Location \"421027779\" in \"Facilities\" is on a soft-restricted network element.\n",
      "Network elements with avoid-restrictions are traversed in the output (restriction attribute names: \"Avoid Private Roads\").\n",
      "\n"
     ]
    },
    {
     "name": "stdout",
     "output_type": "stream",
     "text": [
      "success - 3885\n"
     ]
    },
    {
     "name": "stderr",
     "output_type": "stream",
     "text": [
      "Location \"421027779\" in \"Facilities\" is on a soft-restricted network element.\n",
      "\n",
      "Location \"530330219063\" in \"Incidents\" is on a soft-restricted network element.\n",
      "Location \"421027779\" in \"Facilities\" is on a soft-restricted network element.\n",
      "Network elements with avoid-restrictions are traversed in the output (restriction attribute names: \"Avoid Private Roads\" \"Avoid Gates\").\n",
      "\n",
      "Location \"421027779\" in \"Facilities\" is on a soft-restricted network element.\n",
      "Network elements with avoid-restrictions are traversed in the output (restriction attribute names: \"Avoid Gates\").\n",
      "\n",
      "Location \"530610523011\" in \"Incidents\" is on a soft-restricted network element.\n",
      "Location \"421027779\" in \"Facilities\" is on a soft-restricted network element.\n",
      "Network elements with avoid-restrictions are traversed in the output (restriction attribute names: \"Avoid Private Roads\").\n",
      "\n",
      "Location \"530610535052\" in \"Incidents\" is on a soft-restricted network element.\n",
      "Location \"530610536021\" in \"Incidents\" is on a soft-restricted network element.\n",
      "Location \"421027779\" in \"Facilities\" is on a soft-restricted network element.\n",
      "Network elements with avoid-restrictions are traversed in the output (restriction attribute names: \"Avoid Private Roads\").\n",
      "\n"
     ]
    },
    {
     "name": "stdout",
     "output_type": "stream",
     "text": [
      "success - 3886\n"
     ]
    },
    {
     "name": "stderr",
     "output_type": "stream",
     "text": [
      "Location \"421027779\" in \"Facilities\" is on a soft-restricted network element.\n",
      "\n",
      "Location \"530330219063\" in \"Incidents\" is on a soft-restricted network element.\n",
      "Location \"421027779\" in \"Facilities\" is on a soft-restricted network element.\n",
      "Network elements with avoid-restrictions are traversed in the output (restriction attribute names: \"Avoid Private Roads\" \"Avoid Gates\").\n",
      "\n",
      "Location \"421027779\" in \"Facilities\" is on a soft-restricted network element.\n",
      "Network elements with avoid-restrictions are traversed in the output (restriction attribute names: \"Avoid Gates\").\n",
      "\n",
      "Location \"530610523011\" in \"Incidents\" is on a soft-restricted network element.\n",
      "Location \"421027779\" in \"Facilities\" is on a soft-restricted network element.\n",
      "Network elements with avoid-restrictions are traversed in the output (restriction attribute names: \"Avoid Private Roads\").\n",
      "\n",
      "Location \"530610535052\" in \"Incidents\" is on a soft-restricted network element.\n",
      "Location \"530610536021\" in \"Incidents\" is on a soft-restricted network element.\n",
      "Location \"421027779\" in \"Facilities\" is on a soft-restricted network element.\n",
      "Network elements with avoid-restrictions are traversed in the output (restriction attribute names: \"Avoid Private Roads\").\n",
      "\n"
     ]
    },
    {
     "name": "stdout",
     "output_type": "stream",
     "text": [
      "success - 3887\n"
     ]
    },
    {
     "name": "stderr",
     "output_type": "stream",
     "text": [
      "Location \"421027779\" in \"Facilities\" is on a soft-restricted network element.\n",
      "\n",
      "Location \"530330219063\" in \"Incidents\" is on a soft-restricted network element.\n",
      "Location \"421027779\" in \"Facilities\" is on a soft-restricted network element.\n",
      "Network elements with avoid-restrictions are traversed in the output (restriction attribute names: \"Avoid Private Roads\" \"Avoid Gates\").\n",
      "\n",
      "Location \"421027779\" in \"Facilities\" is on a soft-restricted network element.\n",
      "Network elements with avoid-restrictions are traversed in the output (restriction attribute names: \"Avoid Gates\").\n",
      "\n",
      "Location \"530610523011\" in \"Incidents\" is on a soft-restricted network element.\n",
      "Location \"421027779\" in \"Facilities\" is on a soft-restricted network element.\n",
      "Network elements with avoid-restrictions are traversed in the output (restriction attribute names: \"Avoid Private Roads\").\n",
      "\n",
      "Location \"530610535052\" in \"Incidents\" is on a soft-restricted network element.\n",
      "Location \"530610536021\" in \"Incidents\" is on a soft-restricted network element.\n",
      "Location \"421027779\" in \"Facilities\" is on a soft-restricted network element.\n",
      "Network elements with avoid-restrictions are traversed in the output (restriction attribute names: \"Avoid Private Roads\").\n",
      "\n"
     ]
    },
    {
     "name": "stdout",
     "output_type": "stream",
     "text": [
      "success - 3888\n"
     ]
    },
    {
     "name": "stderr",
     "output_type": "stream",
     "text": [
      "Location \"421027779\" in \"Facilities\" is on a soft-restricted network element.\n",
      "\n",
      "Location \"530330219063\" in \"Incidents\" is on a soft-restricted network element.\n",
      "Location \"421027779\" in \"Facilities\" is on a soft-restricted network element.\n",
      "Network elements with avoid-restrictions are traversed in the output (restriction attribute names: \"Avoid Private Roads\" \"Avoid Gates\").\n",
      "\n",
      "Location \"421027779\" in \"Facilities\" is on a soft-restricted network element.\n",
      "Network elements with avoid-restrictions are traversed in the output (restriction attribute names: \"Avoid Gates\").\n",
      "\n",
      "Location \"530610523011\" in \"Incidents\" is on a soft-restricted network element.\n",
      "Location \"421027779\" in \"Facilities\" is on a soft-restricted network element.\n",
      "Network elements with avoid-restrictions are traversed in the output (restriction attribute names: \"Avoid Private Roads\").\n",
      "\n",
      "Location \"530610535052\" in \"Incidents\" is on a soft-restricted network element.\n",
      "Location \"530610536021\" in \"Incidents\" is on a soft-restricted network element.\n",
      "Location \"421027779\" in \"Facilities\" is on a soft-restricted network element.\n",
      "Network elements with avoid-restrictions are traversed in the output (restriction attribute names: \"Avoid Private Roads\").\n",
      "\n"
     ]
    },
    {
     "name": "stdout",
     "output_type": "stream",
     "text": [
      "success - 3889\n"
     ]
    },
    {
     "name": "stderr",
     "output_type": "stream",
     "text": [
      "Location \"421027779\" in \"Facilities\" is on a soft-restricted network element.\n",
      "\n",
      "Location \"530330219063\" in \"Incidents\" is on a soft-restricted network element.\n",
      "Location \"421027779\" in \"Facilities\" is on a soft-restricted network element.\n",
      "Network elements with avoid-restrictions are traversed in the output (restriction attribute names: \"Avoid Private Roads\" \"Avoid Gates\").\n",
      "\n",
      "Location \"421027779\" in \"Facilities\" is on a soft-restricted network element.\n",
      "Network elements with avoid-restrictions are traversed in the output (restriction attribute names: \"Avoid Gates\").\n",
      "\n",
      "Location \"530610523011\" in \"Incidents\" is on a soft-restricted network element.\n",
      "Location \"421027779\" in \"Facilities\" is on a soft-restricted network element.\n",
      "Network elements with avoid-restrictions are traversed in the output (restriction attribute names: \"Avoid Private Roads\").\n",
      "\n",
      "Location \"530610535052\" in \"Incidents\" is on a soft-restricted network element.\n",
      "Location \"530610536021\" in \"Incidents\" is on a soft-restricted network element.\n",
      "Location \"421027779\" in \"Facilities\" is on a soft-restricted network element.\n",
      "Network elements with avoid-restrictions are traversed in the output (restriction attribute names: \"Avoid Private Roads\").\n",
      "\n"
     ]
    },
    {
     "name": "stdout",
     "output_type": "stream",
     "text": [
      "success - 3890\n"
     ]
    },
    {
     "name": "stderr",
     "output_type": "stream",
     "text": [
      "Location \"421027779\" in \"Facilities\" is on a soft-restricted network element.\n",
      "\n",
      "Location \"530330219063\" in \"Incidents\" is on a soft-restricted network element.\n",
      "Location \"421027779\" in \"Facilities\" is on a soft-restricted network element.\n",
      "Network elements with avoid-restrictions are traversed in the output (restriction attribute names: \"Avoid Private Roads\" \"Avoid Gates\").\n",
      "\n",
      "Location \"421027779\" in \"Facilities\" is on a soft-restricted network element.\n",
      "Network elements with avoid-restrictions are traversed in the output (restriction attribute names: \"Avoid Gates\").\n",
      "\n",
      "Location \"530610523011\" in \"Incidents\" is on a soft-restricted network element.\n",
      "Location \"421027779\" in \"Facilities\" is on a soft-restricted network element.\n",
      "Network elements with avoid-restrictions are traversed in the output (restriction attribute names: \"Avoid Private Roads\").\n",
      "\n",
      "Location \"530610535052\" in \"Incidents\" is on a soft-restricted network element.\n",
      "Location \"530610536021\" in \"Incidents\" is on a soft-restricted network element.\n",
      "Location \"421027779\" in \"Facilities\" is on a soft-restricted network element.\n",
      "Network elements with avoid-restrictions are traversed in the output (restriction attribute names: \"Avoid Private Roads\").\n",
      "\n"
     ]
    },
    {
     "name": "stdout",
     "output_type": "stream",
     "text": [
      "success - 3891\n"
     ]
    },
    {
     "name": "stderr",
     "output_type": "stream",
     "text": [
      "Location \"421027779\" in \"Facilities\" is on a soft-restricted network element.\n",
      "\n",
      "Location \"530330219063\" in \"Incidents\" is on a soft-restricted network element.\n",
      "Location \"421027779\" in \"Facilities\" is on a soft-restricted network element.\n",
      "Network elements with avoid-restrictions are traversed in the output (restriction attribute names: \"Avoid Private Roads\" \"Avoid Gates\").\n",
      "\n",
      "Location \"421027779\" in \"Facilities\" is on a soft-restricted network element.\n",
      "Network elements with avoid-restrictions are traversed in the output (restriction attribute names: \"Avoid Gates\").\n",
      "\n",
      "Location \"530610523011\" in \"Incidents\" is on a soft-restricted network element.\n",
      "Location \"421027779\" in \"Facilities\" is on a soft-restricted network element.\n",
      "Network elements with avoid-restrictions are traversed in the output (restriction attribute names: \"Avoid Private Roads\").\n",
      "\n",
      "Location \"530610535052\" in \"Incidents\" is on a soft-restricted network element.\n",
      "Location \"530610536021\" in \"Incidents\" is on a soft-restricted network element.\n",
      "Location \"421027779\" in \"Facilities\" is on a soft-restricted network element.\n",
      "Network elements with avoid-restrictions are traversed in the output (restriction attribute names: \"Avoid Private Roads\").\n",
      "\n"
     ]
    },
    {
     "name": "stdout",
     "output_type": "stream",
     "text": [
      "success - 3921\n"
     ]
    },
    {
     "name": "stderr",
     "output_type": "stream",
     "text": [
      "Location \"421027779\" in \"Facilities\" is on a soft-restricted network element.\n",
      "\n",
      "Location \"530330219063\" in \"Incidents\" is on a soft-restricted network element.\n",
      "Location \"421027779\" in \"Facilities\" is on a soft-restricted network element.\n",
      "Network elements with avoid-restrictions are traversed in the output (restriction attribute names: \"Avoid Private Roads\" \"Avoid Gates\").\n",
      "\n",
      "Location \"421027779\" in \"Facilities\" is on a soft-restricted network element.\n",
      "Network elements with avoid-restrictions are traversed in the output (restriction attribute names: \"Avoid Gates\").\n",
      "\n",
      "Location \"530610523011\" in \"Incidents\" is on a soft-restricted network element.\n",
      "Location \"421027779\" in \"Facilities\" is on a soft-restricted network element.\n",
      "Network elements with avoid-restrictions are traversed in the output (restriction attribute names: \"Avoid Private Roads\").\n",
      "\n",
      "Location \"530610535052\" in \"Incidents\" is on a soft-restricted network element.\n",
      "Location \"530610536021\" in \"Incidents\" is on a soft-restricted network element.\n",
      "Location \"421027779\" in \"Facilities\" is on a soft-restricted network element.\n",
      "Network elements with avoid-restrictions are traversed in the output (restriction attribute names: \"Avoid Private Roads\").\n",
      "\n"
     ]
    },
    {
     "name": "stdout",
     "output_type": "stream",
     "text": [
      "success - 3922\n"
     ]
    },
    {
     "name": "stderr",
     "output_type": "stream",
     "text": [
      "Location \"421027779\" in \"Facilities\" is on a soft-restricted network element.\n",
      "\n",
      "Location \"530330219063\" in \"Incidents\" is on a soft-restricted network element.\n",
      "Location \"421027779\" in \"Facilities\" is on a soft-restricted network element.\n",
      "Network elements with avoid-restrictions are traversed in the output (restriction attribute names: \"Avoid Private Roads\" \"Avoid Gates\").\n",
      "\n",
      "Location \"421027779\" in \"Facilities\" is on a soft-restricted network element.\n",
      "Network elements with avoid-restrictions are traversed in the output (restriction attribute names: \"Avoid Gates\").\n",
      "\n",
      "Location \"530610523011\" in \"Incidents\" is on a soft-restricted network element.\n",
      "Location \"421027779\" in \"Facilities\" is on a soft-restricted network element.\n",
      "Network elements with avoid-restrictions are traversed in the output (restriction attribute names: \"Avoid Private Roads\").\n",
      "\n",
      "Location \"530610535052\" in \"Incidents\" is on a soft-restricted network element.\n",
      "Location \"530610536021\" in \"Incidents\" is on a soft-restricted network element.\n",
      "Location \"421027779\" in \"Facilities\" is on a soft-restricted network element.\n",
      "Network elements with avoid-restrictions are traversed in the output (restriction attribute names: \"Avoid Private Roads\").\n",
      "\n"
     ]
    },
    {
     "name": "stdout",
     "output_type": "stream",
     "text": [
      "success - 3923\n"
     ]
    },
    {
     "name": "stderr",
     "output_type": "stream",
     "text": [
      "Location \"421027779\" in \"Facilities\" is on a soft-restricted network element.\n",
      "\n",
      "Location \"530330219063\" in \"Incidents\" is on a soft-restricted network element.\n",
      "Location \"421027779\" in \"Facilities\" is on a soft-restricted network element.\n",
      "Network elements with avoid-restrictions are traversed in the output (restriction attribute names: \"Avoid Private Roads\" \"Avoid Gates\").\n",
      "\n",
      "Location \"421027779\" in \"Facilities\" is on a soft-restricted network element.\n",
      "Network elements with avoid-restrictions are traversed in the output (restriction attribute names: \"Avoid Gates\").\n",
      "\n",
      "Location \"530610523011\" in \"Incidents\" is on a soft-restricted network element.\n",
      "Location \"421027779\" in \"Facilities\" is on a soft-restricted network element.\n",
      "Network elements with avoid-restrictions are traversed in the output (restriction attribute names: \"Avoid Private Roads\").\n",
      "\n",
      "Location \"530610535052\" in \"Incidents\" is on a soft-restricted network element.\n",
      "Location \"530610536021\" in \"Incidents\" is on a soft-restricted network element.\n",
      "Location \"421027779\" in \"Facilities\" is on a soft-restricted network element.\n",
      "Network elements with avoid-restrictions are traversed in the output (restriction attribute names: \"Avoid Private Roads\").\n",
      "\n"
     ]
    },
    {
     "name": "stdout",
     "output_type": "stream",
     "text": [
      "success - 3924\n"
     ]
    },
    {
     "name": "stderr",
     "output_type": "stream",
     "text": [
      "Location \"421027779\" in \"Facilities\" is on a soft-restricted network element.\n",
      "\n",
      "Location \"530330219063\" in \"Incidents\" is on a soft-restricted network element.\n",
      "Location \"421027779\" in \"Facilities\" is on a soft-restricted network element.\n",
      "Network elements with avoid-restrictions are traversed in the output (restriction attribute names: \"Avoid Private Roads\" \"Avoid Gates\").\n",
      "\n",
      "Location \"421027779\" in \"Facilities\" is on a soft-restricted network element.\n",
      "Network elements with avoid-restrictions are traversed in the output (restriction attribute names: \"Avoid Gates\").\n",
      "\n",
      "Location \"530610523011\" in \"Incidents\" is on a soft-restricted network element.\n",
      "Location \"421027779\" in \"Facilities\" is on a soft-restricted network element.\n",
      "Network elements with avoid-restrictions are traversed in the output (restriction attribute names: \"Avoid Private Roads\").\n",
      "\n",
      "Location \"530610535052\" in \"Incidents\" is on a soft-restricted network element.\n",
      "Location \"530610536021\" in \"Incidents\" is on a soft-restricted network element.\n",
      "Location \"421027779\" in \"Facilities\" is on a soft-restricted network element.\n",
      "Network elements with avoid-restrictions are traversed in the output (restriction attribute names: \"Avoid Private Roads\").\n",
      "\n"
     ]
    },
    {
     "name": "stdout",
     "output_type": "stream",
     "text": [
      "success - 3925\n"
     ]
    },
    {
     "name": "stderr",
     "output_type": "stream",
     "text": [
      "Location \"421027779\" in \"Facilities\" is on a soft-restricted network element.\n",
      "\n",
      "Location \"530330219063\" in \"Incidents\" is on a soft-restricted network element.\n",
      "Location \"421027779\" in \"Facilities\" is on a soft-restricted network element.\n",
      "Network elements with avoid-restrictions are traversed in the output (restriction attribute names: \"Avoid Private Roads\" \"Avoid Gates\").\n",
      "\n",
      "Location \"421027779\" in \"Facilities\" is on a soft-restricted network element.\n",
      "Network elements with avoid-restrictions are traversed in the output (restriction attribute names: \"Avoid Gates\").\n",
      "\n",
      "Location \"530610523011\" in \"Incidents\" is on a soft-restricted network element.\n",
      "Location \"421027779\" in \"Facilities\" is on a soft-restricted network element.\n",
      "Network elements with avoid-restrictions are traversed in the output (restriction attribute names: \"Avoid Private Roads\").\n",
      "\n",
      "Location \"530610535052\" in \"Incidents\" is on a soft-restricted network element.\n",
      "Location \"530610536021\" in \"Incidents\" is on a soft-restricted network element.\n",
      "Location \"421027779\" in \"Facilities\" is on a soft-restricted network element.\n",
      "Network elements with avoid-restrictions are traversed in the output (restriction attribute names: \"Avoid Private Roads\").\n",
      "\n"
     ]
    },
    {
     "name": "stdout",
     "output_type": "stream",
     "text": [
      "success - 3926\n"
     ]
    },
    {
     "name": "stderr",
     "output_type": "stream",
     "text": [
      "Location \"421027779\" in \"Facilities\" is on a soft-restricted network element.\n",
      "\n",
      "Location \"530330219063\" in \"Incidents\" is on a soft-restricted network element.\n",
      "Location \"421027779\" in \"Facilities\" is on a soft-restricted network element.\n",
      "Network elements with avoid-restrictions are traversed in the output (restriction attribute names: \"Avoid Private Roads\" \"Avoid Gates\").\n",
      "\n",
      "Location \"421027779\" in \"Facilities\" is on a soft-restricted network element.\n",
      "Network elements with avoid-restrictions are traversed in the output (restriction attribute names: \"Avoid Gates\").\n",
      "\n",
      "Location \"530610523011\" in \"Incidents\" is on a soft-restricted network element.\n",
      "Location \"421027779\" in \"Facilities\" is on a soft-restricted network element.\n",
      "Network elements with avoid-restrictions are traversed in the output (restriction attribute names: \"Avoid Private Roads\").\n",
      "\n",
      "Location \"530610535052\" in \"Incidents\" is on a soft-restricted network element.\n",
      "Location \"530610536021\" in \"Incidents\" is on a soft-restricted network element.\n",
      "Location \"421027779\" in \"Facilities\" is on a soft-restricted network element.\n",
      "Network elements with avoid-restrictions are traversed in the output (restriction attribute names: \"Avoid Private Roads\").\n",
      "\n"
     ]
    },
    {
     "name": "stdout",
     "output_type": "stream",
     "text": [
      "success - 3927\n"
     ]
    },
    {
     "name": "stderr",
     "output_type": "stream",
     "text": [
      "Location \"421027779\" in \"Facilities\" is on a soft-restricted network element.\n",
      "\n",
      "Location \"530330219063\" in \"Incidents\" is on a soft-restricted network element.\n",
      "Location \"421027779\" in \"Facilities\" is on a soft-restricted network element.\n",
      "Network elements with avoid-restrictions are traversed in the output (restriction attribute names: \"Avoid Private Roads\" \"Avoid Gates\").\n",
      "\n",
      "Location \"421027779\" in \"Facilities\" is on a soft-restricted network element.\n",
      "Network elements with avoid-restrictions are traversed in the output (restriction attribute names: \"Avoid Gates\").\n",
      "\n",
      "Location \"530610523011\" in \"Incidents\" is on a soft-restricted network element.\n",
      "Location \"421027779\" in \"Facilities\" is on a soft-restricted network element.\n",
      "Network elements with avoid-restrictions are traversed in the output (restriction attribute names: \"Avoid Private Roads\").\n",
      "\n",
      "Location \"530610535052\" in \"Incidents\" is on a soft-restricted network element.\n",
      "Location \"530610536021\" in \"Incidents\" is on a soft-restricted network element.\n",
      "Location \"421027779\" in \"Facilities\" is on a soft-restricted network element.\n",
      "Network elements with avoid-restrictions are traversed in the output (restriction attribute names: \"Avoid Private Roads\").\n",
      "\n"
     ]
    },
    {
     "name": "stdout",
     "output_type": "stream",
     "text": [
      "success - 3928\n"
     ]
    },
    {
     "name": "stderr",
     "output_type": "stream",
     "text": [
      "Location \"421027779\" in \"Facilities\" is on a soft-restricted network element.\n",
      "\n",
      "Location \"530330219063\" in \"Incidents\" is on a soft-restricted network element.\n",
      "Location \"421027779\" in \"Facilities\" is on a soft-restricted network element.\n",
      "Network elements with avoid-restrictions are traversed in the output (restriction attribute names: \"Avoid Private Roads\" \"Avoid Gates\").\n",
      "\n",
      "Location \"421027779\" in \"Facilities\" is on a soft-restricted network element.\n",
      "Network elements with avoid-restrictions are traversed in the output (restriction attribute names: \"Avoid Gates\").\n",
      "\n",
      "Location \"530610523011\" in \"Incidents\" is on a soft-restricted network element.\n",
      "Location \"421027779\" in \"Facilities\" is on a soft-restricted network element.\n",
      "Network elements with avoid-restrictions are traversed in the output (restriction attribute names: \"Avoid Private Roads\").\n",
      "\n",
      "Location \"530610535052\" in \"Incidents\" is on a soft-restricted network element.\n",
      "Location \"530610536021\" in \"Incidents\" is on a soft-restricted network element.\n",
      "Location \"421027779\" in \"Facilities\" is on a soft-restricted network element.\n",
      "Network elements with avoid-restrictions are traversed in the output (restriction attribute names: \"Avoid Private Roads\").\n",
      "\n"
     ]
    },
    {
     "name": "stdout",
     "output_type": "stream",
     "text": [
      "success - 3929\n"
     ]
    },
    {
     "name": "stderr",
     "output_type": "stream",
     "text": [
      "Location \"421027779\" in \"Facilities\" is on a soft-restricted network element.\n",
      "\n",
      "Location \"530330219063\" in \"Incidents\" is on a soft-restricted network element.\n",
      "Location \"421027779\" in \"Facilities\" is on a soft-restricted network element.\n",
      "Network elements with avoid-restrictions are traversed in the output (restriction attribute names: \"Avoid Private Roads\" \"Avoid Gates\").\n",
      "\n",
      "Location \"421027779\" in \"Facilities\" is on a soft-restricted network element.\n",
      "Network elements with avoid-restrictions are traversed in the output (restriction attribute names: \"Avoid Gates\").\n",
      "\n",
      "Location \"530610523011\" in \"Incidents\" is on a soft-restricted network element.\n",
      "Location \"421027779\" in \"Facilities\" is on a soft-restricted network element.\n",
      "Network elements with avoid-restrictions are traversed in the output (restriction attribute names: \"Avoid Private Roads\").\n",
      "\n",
      "Location \"530610535052\" in \"Incidents\" is on a soft-restricted network element.\n",
      "Location \"530610536021\" in \"Incidents\" is on a soft-restricted network element.\n",
      "Location \"421027779\" in \"Facilities\" is on a soft-restricted network element.\n",
      "Network elements with avoid-restrictions are traversed in the output (restriction attribute names: \"Avoid Private Roads\").\n",
      "\n"
     ]
    },
    {
     "name": "stdout",
     "output_type": "stream",
     "text": [
      "success - 3930\n"
     ]
    },
    {
     "name": "stderr",
     "output_type": "stream",
     "text": [
      "Location \"421027779\" in \"Facilities\" is on a soft-restricted network element.\n",
      "\n",
      "Location \"530330219063\" in \"Incidents\" is on a soft-restricted network element.\n",
      "Location \"421027779\" in \"Facilities\" is on a soft-restricted network element.\n",
      "Network elements with avoid-restrictions are traversed in the output (restriction attribute names: \"Avoid Private Roads\" \"Avoid Gates\").\n",
      "\n",
      "Location \"421027779\" in \"Facilities\" is on a soft-restricted network element.\n",
      "Network elements with avoid-restrictions are traversed in the output (restriction attribute names: \"Avoid Gates\").\n",
      "\n",
      "Location \"530610523011\" in \"Incidents\" is on a soft-restricted network element.\n",
      "Location \"421027779\" in \"Facilities\" is on a soft-restricted network element.\n",
      "Network elements with avoid-restrictions are traversed in the output (restriction attribute names: \"Avoid Private Roads\").\n",
      "\n",
      "Location \"530610535052\" in \"Incidents\" is on a soft-restricted network element.\n",
      "Location \"530610536021\" in \"Incidents\" is on a soft-restricted network element.\n",
      "Location \"421027779\" in \"Facilities\" is on a soft-restricted network element.\n",
      "Network elements with avoid-restrictions are traversed in the output (restriction attribute names: \"Avoid Private Roads\").\n",
      "\n"
     ]
    },
    {
     "name": "stdout",
     "output_type": "stream",
     "text": [
      "success - 3931\n"
     ]
    },
    {
     "name": "stderr",
     "output_type": "stream",
     "text": [
      "Location \"421027779\" in \"Facilities\" is on a soft-restricted network element.\n",
      "\n",
      "Location \"530330219063\" in \"Incidents\" is on a soft-restricted network element.\n",
      "Location \"421027779\" in \"Facilities\" is on a soft-restricted network element.\n",
      "Network elements with avoid-restrictions are traversed in the output (restriction attribute names: \"Avoid Private Roads\" \"Avoid Gates\").\n",
      "\n",
      "Location \"421027779\" in \"Facilities\" is on a soft-restricted network element.\n",
      "Network elements with avoid-restrictions are traversed in the output (restriction attribute names: \"Avoid Gates\").\n",
      "\n",
      "Location \"530610523011\" in \"Incidents\" is on a soft-restricted network element.\n",
      "Location \"421027779\" in \"Facilities\" is on a soft-restricted network element.\n",
      "Network elements with avoid-restrictions are traversed in the output (restriction attribute names: \"Avoid Private Roads\").\n",
      "\n",
      "Location \"530610535052\" in \"Incidents\" is on a soft-restricted network element.\n",
      "Location \"530610536021\" in \"Incidents\" is on a soft-restricted network element.\n",
      "Location \"421027779\" in \"Facilities\" is on a soft-restricted network element.\n",
      "Network elements with avoid-restrictions are traversed in the output (restriction attribute names: \"Avoid Private Roads\").\n",
      "\n"
     ]
    },
    {
     "name": "stdout",
     "output_type": "stream",
     "text": [
      "success - 3932\n"
     ]
    },
    {
     "name": "stderr",
     "output_type": "stream",
     "text": [
      "Location \"1\" in \"Incidents\" is on a soft-restricted network element.\n",
      "Location \"421027779\" in \"Facilities\" is on a soft-restricted network element.\n",
      "Network elements with avoid-restrictions are traversed in the output (restriction attribute names: \"Avoid Private Roads\").\n",
      "\n",
      "Location \"530330219063\" in \"Incidents\" is on a soft-restricted network element.\n",
      "Location \"421027779\" in \"Facilities\" is on a soft-restricted network element.\n",
      "Location \"1\" in \"Facilities\" is on a soft-restricted network element.\n",
      "Network elements with avoid-restrictions are traversed in the output (restriction attribute names: \"Avoid Private Roads\" \"Avoid Gates\").\n",
      "\n",
      "Location \"421027779\" in \"Facilities\" is on a soft-restricted network element.\n",
      "Location \"1\" in \"Facilities\" is on a soft-restricted network element.\n",
      "Network elements with avoid-restrictions are traversed in the output (restriction attribute names: \"Avoid Gates\").\n",
      "\n",
      "Location \"530610523011\" in \"Incidents\" is on a soft-restricted network element.\n",
      "Location \"421027779\" in \"Facilities\" is on a soft-restricted network element.\n",
      "Location \"1\" in \"Facilities\" is on a soft-restricted network element.\n",
      "Network elements with avoid-restrictions are traversed in the output (restriction attribute names: \"Avoid Private Roads\" \"Avoid Gates\").\n",
      "\n",
      "Location \"530610535052\" in \"Incidents\" is on a soft-restricted network element.\n",
      "Location \"530610536021\" in \"Incidents\" is on a soft-restricted network element.\n",
      "Location \"421027779\" in \"Facilities\" is on a soft-restricted network element.\n",
      "Location \"1\" in \"Facilities\" is on a soft-restricted network element.\n",
      "Network elements with avoid-restrictions are traversed in the output (restriction attribute names: \"Avoid Private Roads\" \"Avoid Gates\").\n",
      "\n"
     ]
    },
    {
     "name": "stdout",
     "output_type": "stream",
     "text": [
      "success - 3934\n"
     ]
    },
    {
     "name": "stderr",
     "output_type": "stream",
     "text": [
      "Location \"1\" in \"Incidents\" is on a soft-restricted network element.\n",
      "Location \"421027779\" in \"Facilities\" is on a soft-restricted network element.\n",
      "Network elements with avoid-restrictions are traversed in the output (restriction attribute names: \"Avoid Private Roads\").\n",
      "\n",
      "Location \"530330219063\" in \"Incidents\" is on a soft-restricted network element.\n",
      "Location \"421027779\" in \"Facilities\" is on a soft-restricted network element.\n",
      "Location \"1\" in \"Facilities\" is on a soft-restricted network element.\n",
      "Network elements with avoid-restrictions are traversed in the output (restriction attribute names: \"Avoid Private Roads\" \"Avoid Gates\").\n",
      "\n",
      "Location \"421027779\" in \"Facilities\" is on a soft-restricted network element.\n",
      "Location \"1\" in \"Facilities\" is on a soft-restricted network element.\n",
      "Network elements with avoid-restrictions are traversed in the output (restriction attribute names: \"Avoid Gates\").\n",
      "\n",
      "Location \"530610523011\" in \"Incidents\" is on a soft-restricted network element.\n",
      "Location \"421027779\" in \"Facilities\" is on a soft-restricted network element.\n",
      "Location \"1\" in \"Facilities\" is on a soft-restricted network element.\n",
      "Network elements with avoid-restrictions are traversed in the output (restriction attribute names: \"Avoid Private Roads\" \"Avoid Gates\").\n",
      "\n",
      "Location \"530610535052\" in \"Incidents\" is on a soft-restricted network element.\n",
      "Location \"530610536021\" in \"Incidents\" is on a soft-restricted network element.\n",
      "Location \"421027779\" in \"Facilities\" is on a soft-restricted network element.\n",
      "Location \"1\" in \"Facilities\" is on a soft-restricted network element.\n",
      "Network elements with avoid-restrictions are traversed in the output (restriction attribute names: \"Avoid Private Roads\" \"Avoid Gates\").\n",
      "\n"
     ]
    },
    {
     "name": "stdout",
     "output_type": "stream",
     "text": [
      "success - 3935\n"
     ]
    },
    {
     "name": "stderr",
     "output_type": "stream",
     "text": [
      "Location \"421027779\" in \"Facilities\" is on a soft-restricted network element.\n",
      "\n",
      "Location \"530330219063\" in \"Incidents\" is on a soft-restricted network element.\n",
      "Location \"421027779\" in \"Facilities\" is on a soft-restricted network element.\n",
      "Network elements with avoid-restrictions are traversed in the output (restriction attribute names: \"Avoid Private Roads\" \"Avoid Gates\").\n",
      "\n",
      "Location \"421027779\" in \"Facilities\" is on a soft-restricted network element.\n",
      "Network elements with avoid-restrictions are traversed in the output (restriction attribute names: \"Avoid Gates\").\n",
      "\n",
      "Location \"530610523011\" in \"Incidents\" is on a soft-restricted network element.\n",
      "Location \"421027779\" in \"Facilities\" is on a soft-restricted network element.\n",
      "Network elements with avoid-restrictions are traversed in the output (restriction attribute names: \"Avoid Private Roads\").\n",
      "\n",
      "Location \"530610535052\" in \"Incidents\" is on a soft-restricted network element.\n",
      "Location \"530610536021\" in \"Incidents\" is on a soft-restricted network element.\n",
      "Location \"421027779\" in \"Facilities\" is on a soft-restricted network element.\n",
      "Network elements with avoid-restrictions are traversed in the output (restriction attribute names: \"Avoid Private Roads\" \"Avoid Gates\").\n",
      "\n"
     ]
    },
    {
     "name": "stdout",
     "output_type": "stream",
     "text": [
      "success - 3937\n"
     ]
    },
    {
     "name": "stderr",
     "output_type": "stream",
     "text": [
      "Location \"421027779\" in \"Facilities\" is on a soft-restricted network element.\n",
      "\n",
      "Location \"530330219063\" in \"Incidents\" is on a soft-restricted network element.\n",
      "Location \"421027779\" in \"Facilities\" is on a soft-restricted network element.\n",
      "Network elements with avoid-restrictions are traversed in the output (restriction attribute names: \"Avoid Private Roads\" \"Avoid Gates\").\n",
      "\n",
      "Location \"421027779\" in \"Facilities\" is on a soft-restricted network element.\n",
      "Network elements with avoid-restrictions are traversed in the output (restriction attribute names: \"Avoid Gates\").\n",
      "\n",
      "Location \"530610523011\" in \"Incidents\" is on a soft-restricted network element.\n",
      "Location \"421027779\" in \"Facilities\" is on a soft-restricted network element.\n",
      "Network elements with avoid-restrictions are traversed in the output (restriction attribute names: \"Avoid Private Roads\").\n",
      "\n",
      "Location \"530610535052\" in \"Incidents\" is on a soft-restricted network element.\n",
      "Location \"530610536021\" in \"Incidents\" is on a soft-restricted network element.\n",
      "Location \"421027779\" in \"Facilities\" is on a soft-restricted network element.\n",
      "Network elements with avoid-restrictions are traversed in the output (restriction attribute names: \"Avoid Private Roads\" \"Avoid Gates\").\n",
      "\n"
     ]
    },
    {
     "name": "stdout",
     "output_type": "stream",
     "text": [
      "success - 3939\n"
     ]
    },
    {
     "name": "stderr",
     "output_type": "stream",
     "text": [
      "Location \"421027779\" in \"Facilities\" is on a soft-restricted network element.\n",
      "\n",
      "Location \"530330219063\" in \"Incidents\" is on a soft-restricted network element.\n",
      "Location \"421027779\" in \"Facilities\" is on a soft-restricted network element.\n",
      "Network elements with avoid-restrictions are traversed in the output (restriction attribute names: \"Avoid Private Roads\" \"Avoid Gates\").\n",
      "\n",
      "Location \"421027779\" in \"Facilities\" is on a soft-restricted network element.\n",
      "Network elements with avoid-restrictions are traversed in the output (restriction attribute names: \"Avoid Gates\").\n",
      "\n",
      "Location \"530610523011\" in \"Incidents\" is on a soft-restricted network element.\n",
      "Location \"421027779\" in \"Facilities\" is on a soft-restricted network element.\n",
      "Network elements with avoid-restrictions are traversed in the output (restriction attribute names: \"Avoid Private Roads\").\n",
      "\n",
      "Location \"530610535052\" in \"Incidents\" is on a soft-restricted network element.\n",
      "Location \"530610536021\" in \"Incidents\" is on a soft-restricted network element.\n",
      "Location \"421027779\" in \"Facilities\" is on a soft-restricted network element.\n",
      "Network elements with avoid-restrictions are traversed in the output (restriction attribute names: \"Avoid Private Roads\").\n",
      "\n"
     ]
    },
    {
     "name": "stdout",
     "output_type": "stream",
     "text": [
      "success - 3946\n"
     ]
    },
    {
     "name": "stderr",
     "output_type": "stream",
     "text": [
      "Location \"421027779\" in \"Facilities\" is on a soft-restricted network element.\n",
      "\n",
      "Location \"530330219063\" in \"Incidents\" is on a soft-restricted network element.\n",
      "Location \"421027779\" in \"Facilities\" is on a soft-restricted network element.\n",
      "Network elements with avoid-restrictions are traversed in the output (restriction attribute names: \"Avoid Private Roads\" \"Avoid Gates\").\n",
      "\n",
      "Location \"421027779\" in \"Facilities\" is on a soft-restricted network element.\n",
      "Network elements with avoid-restrictions are traversed in the output (restriction attribute names: \"Avoid Gates\").\n",
      "\n",
      "Location \"530610523011\" in \"Incidents\" is on a soft-restricted network element.\n",
      "Location \"421027779\" in \"Facilities\" is on a soft-restricted network element.\n",
      "Network elements with avoid-restrictions are traversed in the output (restriction attribute names: \"Avoid Private Roads\").\n",
      "\n",
      "Location \"530610535052\" in \"Incidents\" is on a soft-restricted network element.\n",
      "Location \"530610536021\" in \"Incidents\" is on a soft-restricted network element.\n",
      "Location \"421027779\" in \"Facilities\" is on a soft-restricted network element.\n",
      "Network elements with avoid-restrictions are traversed in the output (restriction attribute names: \"Avoid Private Roads\").\n",
      "\n"
     ]
    },
    {
     "name": "stdout",
     "output_type": "stream",
     "text": [
      "success - 3947\n"
     ]
    },
    {
     "name": "stderr",
     "output_type": "stream",
     "text": [
      "Location \"421027779\" in \"Facilities\" is on a soft-restricted network element.\n",
      "\n",
      "Location \"530330219063\" in \"Incidents\" is on a soft-restricted network element.\n",
      "Location \"421027779\" in \"Facilities\" is on a soft-restricted network element.\n",
      "Network elements with avoid-restrictions are traversed in the output (restriction attribute names: \"Avoid Private Roads\" \"Avoid Gates\").\n",
      "\n",
      "Location \"421027779\" in \"Facilities\" is on a soft-restricted network element.\n",
      "Network elements with avoid-restrictions are traversed in the output (restriction attribute names: \"Avoid Gates\").\n",
      "\n",
      "Location \"530610523011\" in \"Incidents\" is on a soft-restricted network element.\n",
      "Location \"421027779\" in \"Facilities\" is on a soft-restricted network element.\n",
      "Network elements with avoid-restrictions are traversed in the output (restriction attribute names: \"Avoid Private Roads\").\n",
      "\n",
      "Location \"530610535052\" in \"Incidents\" is on a soft-restricted network element.\n",
      "Location \"530610536021\" in \"Incidents\" is on a soft-restricted network element.\n",
      "Location \"421027779\" in \"Facilities\" is on a soft-restricted network element.\n",
      "Network elements with avoid-restrictions are traversed in the output (restriction attribute names: \"Avoid Private Roads\").\n",
      "\n"
     ]
    },
    {
     "name": "stdout",
     "output_type": "stream",
     "text": [
      "success - 3948\n"
     ]
    },
    {
     "name": "stderr",
     "output_type": "stream",
     "text": [
      "Location \"421027779\" in \"Facilities\" is on a soft-restricted network element.\n",
      "\n",
      "Location \"530330219063\" in \"Incidents\" is on a soft-restricted network element.\n",
      "Location \"421027779\" in \"Facilities\" is on a soft-restricted network element.\n",
      "Network elements with avoid-restrictions are traversed in the output (restriction attribute names: \"Avoid Private Roads\" \"Avoid Gates\").\n",
      "\n",
      "Location \"421027779\" in \"Facilities\" is on a soft-restricted network element.\n",
      "Network elements with avoid-restrictions are traversed in the output (restriction attribute names: \"Avoid Gates\").\n",
      "\n",
      "Location \"530610523011\" in \"Incidents\" is on a soft-restricted network element.\n",
      "Location \"421027779\" in \"Facilities\" is on a soft-restricted network element.\n",
      "Network elements with avoid-restrictions are traversed in the output (restriction attribute names: \"Avoid Private Roads\").\n",
      "\n",
      "Location \"530610535052\" in \"Incidents\" is on a soft-restricted network element.\n",
      "Location \"530610536021\" in \"Incidents\" is on a soft-restricted network element.\n",
      "Location \"421027779\" in \"Facilities\" is on a soft-restricted network element.\n",
      "Network elements with avoid-restrictions are traversed in the output (restriction attribute names: \"Avoid Private Roads\").\n",
      "\n"
     ]
    },
    {
     "name": "stdout",
     "output_type": "stream",
     "text": [
      "success - 3949\n"
     ]
    },
    {
     "name": "stderr",
     "output_type": "stream",
     "text": [
      "Location \"421027779\" in \"Facilities\" is on a soft-restricted network element.\n",
      "\n",
      "Location \"530330219063\" in \"Incidents\" is on a soft-restricted network element.\n",
      "Location \"421027779\" in \"Facilities\" is on a soft-restricted network element.\n",
      "Network elements with avoid-restrictions are traversed in the output (restriction attribute names: \"Avoid Private Roads\" \"Avoid Gates\").\n",
      "\n",
      "Location \"421027779\" in \"Facilities\" is on a soft-restricted network element.\n",
      "Network elements with avoid-restrictions are traversed in the output (restriction attribute names: \"Avoid Gates\").\n",
      "\n",
      "Location \"530610523011\" in \"Incidents\" is on a soft-restricted network element.\n",
      "Location \"421027779\" in \"Facilities\" is on a soft-restricted network element.\n",
      "Network elements with avoid-restrictions are traversed in the output (restriction attribute names: \"Avoid Private Roads\").\n",
      "\n",
      "Location \"530610535052\" in \"Incidents\" is on a soft-restricted network element.\n",
      "Location \"530610536021\" in \"Incidents\" is on a soft-restricted network element.\n",
      "Location \"421027779\" in \"Facilities\" is on a soft-restricted network element.\n",
      "Network elements with avoid-restrictions are traversed in the output (restriction attribute names: \"Avoid Private Roads\").\n",
      "\n"
     ]
    },
    {
     "name": "stdout",
     "output_type": "stream",
     "text": [
      "success - 3952\n"
     ]
    },
    {
     "name": "stderr",
     "output_type": "stream",
     "text": [
      "Location \"421027779\" in \"Facilities\" is on a soft-restricted network element.\n",
      "\n",
      "Location \"530330219063\" in \"Incidents\" is on a soft-restricted network element.\n",
      "Location \"421027779\" in \"Facilities\" is on a soft-restricted network element.\n",
      "Network elements with avoid-restrictions are traversed in the output (restriction attribute names: \"Avoid Private Roads\" \"Avoid Gates\").\n",
      "\n",
      "Location \"421027779\" in \"Facilities\" is on a soft-restricted network element.\n",
      "Network elements with avoid-restrictions are traversed in the output (restriction attribute names: \"Avoid Gates\").\n",
      "\n",
      "Location \"530610523011\" in \"Incidents\" is on a soft-restricted network element.\n",
      "Location \"421027779\" in \"Facilities\" is on a soft-restricted network element.\n",
      "Network elements with avoid-restrictions are traversed in the output (restriction attribute names: \"Avoid Private Roads\").\n",
      "\n",
      "Location \"530610535052\" in \"Incidents\" is on a soft-restricted network element.\n",
      "Location \"530610536021\" in \"Incidents\" is on a soft-restricted network element.\n",
      "Location \"421027779\" in \"Facilities\" is on a soft-restricted network element.\n",
      "Network elements with avoid-restrictions are traversed in the output (restriction attribute names: \"Avoid Private Roads\").\n",
      "\n"
     ]
    },
    {
     "name": "stdout",
     "output_type": "stream",
     "text": [
      "success - 3953\n"
     ]
    },
    {
     "name": "stderr",
     "output_type": "stream",
     "text": [
      "Location \"421027779\" in \"Facilities\" is on a soft-restricted network element.\n",
      "\n",
      "Location \"530330219063\" in \"Incidents\" is on a soft-restricted network element.\n",
      "Location \"421027779\" in \"Facilities\" is on a soft-restricted network element.\n",
      "Network elements with avoid-restrictions are traversed in the output (restriction attribute names: \"Avoid Private Roads\" \"Avoid Gates\").\n",
      "\n",
      "Location \"421027779\" in \"Facilities\" is on a soft-restricted network element.\n",
      "Network elements with avoid-restrictions are traversed in the output (restriction attribute names: \"Avoid Gates\").\n",
      "\n",
      "Location \"530610523011\" in \"Incidents\" is on a soft-restricted network element.\n",
      "Location \"421027779\" in \"Facilities\" is on a soft-restricted network element.\n",
      "Network elements with avoid-restrictions are traversed in the output (restriction attribute names: \"Avoid Private Roads\").\n",
      "\n",
      "Location \"530610535052\" in \"Incidents\" is on a soft-restricted network element.\n",
      "Location \"530610536021\" in \"Incidents\" is on a soft-restricted network element.\n",
      "Location \"421027779\" in \"Facilities\" is on a soft-restricted network element.\n",
      "Network elements with avoid-restrictions are traversed in the output (restriction attribute names: \"Avoid Private Roads\").\n",
      "\n"
     ]
    },
    {
     "name": "stdout",
     "output_type": "stream",
     "text": [
      "success - 3983\n"
     ]
    },
    {
     "name": "stderr",
     "output_type": "stream",
     "text": [
      "Location \"421027779\" in \"Facilities\" is on a soft-restricted network element.\n",
      "\n",
      "Location \"530330219063\" in \"Incidents\" is on a soft-restricted network element.\n",
      "Location \"421027779\" in \"Facilities\" is on a soft-restricted network element.\n",
      "Network elements with avoid-restrictions are traversed in the output (restriction attribute names: \"Avoid Private Roads\" \"Avoid Gates\").\n",
      "\n",
      "Location \"421027779\" in \"Facilities\" is on a soft-restricted network element.\n",
      "Network elements with avoid-restrictions are traversed in the output (restriction attribute names: \"Avoid Gates\").\n",
      "\n",
      "Location \"530610523011\" in \"Incidents\" is on a soft-restricted network element.\n",
      "Location \"421027779\" in \"Facilities\" is on a soft-restricted network element.\n",
      "Network elements with avoid-restrictions are traversed in the output (restriction attribute names: \"Avoid Private Roads\").\n",
      "\n",
      "Location \"530610535052\" in \"Incidents\" is on a soft-restricted network element.\n",
      "Location \"530610536021\" in \"Incidents\" is on a soft-restricted network element.\n",
      "Location \"421027779\" in \"Facilities\" is on a soft-restricted network element.\n",
      "Network elements with avoid-restrictions are traversed in the output (restriction attribute names: \"Avoid Private Roads\").\n",
      "\n"
     ]
    },
    {
     "name": "stdout",
     "output_type": "stream",
     "text": [
      "success - 3984\n"
     ]
    },
    {
     "name": "stderr",
     "output_type": "stream",
     "text": [
      "Location \"421027779\" in \"Facilities\" is on a soft-restricted network element.\n",
      "\n",
      "Location \"530330219063\" in \"Incidents\" is on a soft-restricted network element.\n",
      "Location \"421027779\" in \"Facilities\" is on a soft-restricted network element.\n",
      "Network elements with avoid-restrictions are traversed in the output (restriction attribute names: \"Avoid Private Roads\" \"Avoid Gates\").\n",
      "\n",
      "Location \"421027779\" in \"Facilities\" is on a soft-restricted network element.\n",
      "Network elements with avoid-restrictions are traversed in the output (restriction attribute names: \"Avoid Gates\").\n",
      "\n",
      "Location \"530610523011\" in \"Incidents\" is on a soft-restricted network element.\n",
      "Location \"421027779\" in \"Facilities\" is on a soft-restricted network element.\n",
      "Network elements with avoid-restrictions are traversed in the output (restriction attribute names: \"Avoid Private Roads\").\n",
      "\n",
      "Location \"530610535052\" in \"Incidents\" is on a soft-restricted network element.\n",
      "Location \"530610536021\" in \"Incidents\" is on a soft-restricted network element.\n",
      "Location \"421027779\" in \"Facilities\" is on a soft-restricted network element.\n",
      "Network elements with avoid-restrictions are traversed in the output (restriction attribute names: \"Avoid Private Roads\").\n",
      "\n"
     ]
    },
    {
     "name": "stdout",
     "output_type": "stream",
     "text": [
      "success - 3985\n"
     ]
    },
    {
     "name": "stderr",
     "output_type": "stream",
     "text": [
      "Location \"421027779\" in \"Facilities\" is on a soft-restricted network element.\n",
      "\n",
      "Location \"530330219063\" in \"Incidents\" is on a soft-restricted network element.\n",
      "Location \"421027779\" in \"Facilities\" is on a soft-restricted network element.\n",
      "Network elements with avoid-restrictions are traversed in the output (restriction attribute names: \"Avoid Private Roads\" \"Avoid Gates\").\n",
      "\n",
      "Location \"421027779\" in \"Facilities\" is on a soft-restricted network element.\n",
      "Network elements with avoid-restrictions are traversed in the output (restriction attribute names: \"Avoid Gates\").\n",
      "\n",
      "Location \"530610523011\" in \"Incidents\" is on a soft-restricted network element.\n",
      "Location \"421027779\" in \"Facilities\" is on a soft-restricted network element.\n",
      "Network elements with avoid-restrictions are traversed in the output (restriction attribute names: \"Avoid Private Roads\").\n",
      "\n",
      "Location \"530610535052\" in \"Incidents\" is on a soft-restricted network element.\n",
      "Location \"530610536021\" in \"Incidents\" is on a soft-restricted network element.\n",
      "Location \"421027779\" in \"Facilities\" is on a soft-restricted network element.\n",
      "Network elements with avoid-restrictions are traversed in the output (restriction attribute names: \"Avoid Private Roads\").\n",
      "\n"
     ]
    },
    {
     "name": "stdout",
     "output_type": "stream",
     "text": [
      "success - 3986\n"
     ]
    },
    {
     "name": "stderr",
     "output_type": "stream",
     "text": [
      "Location \"421027779\" in \"Facilities\" is on a soft-restricted network element.\n",
      "\n",
      "Location \"530330219063\" in \"Incidents\" is on a soft-restricted network element.\n",
      "Location \"421027779\" in \"Facilities\" is on a soft-restricted network element.\n",
      "Network elements with avoid-restrictions are traversed in the output (restriction attribute names: \"Avoid Private Roads\" \"Avoid Gates\").\n",
      "\n",
      "Location \"421027779\" in \"Facilities\" is on a soft-restricted network element.\n",
      "Network elements with avoid-restrictions are traversed in the output (restriction attribute names: \"Avoid Gates\").\n",
      "\n",
      "Location \"530610523011\" in \"Incidents\" is on a soft-restricted network element.\n",
      "Location \"421027779\" in \"Facilities\" is on a soft-restricted network element.\n",
      "Network elements with avoid-restrictions are traversed in the output (restriction attribute names: \"Avoid Private Roads\").\n",
      "\n",
      "Location \"530610535052\" in \"Incidents\" is on a soft-restricted network element.\n",
      "Location \"530610536021\" in \"Incidents\" is on a soft-restricted network element.\n",
      "Location \"421027779\" in \"Facilities\" is on a soft-restricted network element.\n",
      "Network elements with avoid-restrictions are traversed in the output (restriction attribute names: \"Avoid Private Roads\").\n",
      "\n"
     ]
    },
    {
     "name": "stdout",
     "output_type": "stream",
     "text": [
      "success - 3987\n"
     ]
    },
    {
     "name": "stderr",
     "output_type": "stream",
     "text": [
      "Location \"421027779\" in \"Facilities\" is on a soft-restricted network element.\n",
      "\n",
      "Location \"530330219063\" in \"Incidents\" is on a soft-restricted network element.\n",
      "Location \"421027779\" in \"Facilities\" is on a soft-restricted network element.\n",
      "Network elements with avoid-restrictions are traversed in the output (restriction attribute names: \"Avoid Private Roads\" \"Avoid Gates\").\n",
      "\n",
      "Location \"421027779\" in \"Facilities\" is on a soft-restricted network element.\n",
      "Network elements with avoid-restrictions are traversed in the output (restriction attribute names: \"Avoid Gates\").\n",
      "\n",
      "Location \"530610523011\" in \"Incidents\" is on a soft-restricted network element.\n",
      "Location \"421027779\" in \"Facilities\" is on a soft-restricted network element.\n",
      "Network elements with avoid-restrictions are traversed in the output (restriction attribute names: \"Avoid Private Roads\").\n",
      "\n",
      "Location \"530610535052\" in \"Incidents\" is on a soft-restricted network element.\n",
      "Location \"530610536021\" in \"Incidents\" is on a soft-restricted network element.\n",
      "Location \"421027779\" in \"Facilities\" is on a soft-restricted network element.\n",
      "Network elements with avoid-restrictions are traversed in the output (restriction attribute names: \"Avoid Private Roads\").\n",
      "\n"
     ]
    },
    {
     "name": "stdout",
     "output_type": "stream",
     "text": [
      "success - 3988\n"
     ]
    },
    {
     "name": "stderr",
     "output_type": "stream",
     "text": [
      "Location \"421027779\" in \"Facilities\" is on a soft-restricted network element.\n",
      "\n",
      "Location \"530330219063\" in \"Incidents\" is on a soft-restricted network element.\n",
      "Location \"421027779\" in \"Facilities\" is on a soft-restricted network element.\n",
      "Network elements with avoid-restrictions are traversed in the output (restriction attribute names: \"Avoid Private Roads\" \"Avoid Gates\").\n",
      "\n",
      "Location \"421027779\" in \"Facilities\" is on a soft-restricted network element.\n",
      "Network elements with avoid-restrictions are traversed in the output (restriction attribute names: \"Avoid Gates\").\n",
      "\n",
      "Location \"530610523011\" in \"Incidents\" is on a soft-restricted network element.\n",
      "Location \"421027779\" in \"Facilities\" is on a soft-restricted network element.\n",
      "Network elements with avoid-restrictions are traversed in the output (restriction attribute names: \"Avoid Private Roads\").\n",
      "\n",
      "Location \"530610535052\" in \"Incidents\" is on a soft-restricted network element.\n",
      "Location \"530610536021\" in \"Incidents\" is on a soft-restricted network element.\n",
      "Location \"421027779\" in \"Facilities\" is on a soft-restricted network element.\n",
      "Network elements with avoid-restrictions are traversed in the output (restriction attribute names: \"Avoid Private Roads\").\n",
      "\n"
     ]
    },
    {
     "name": "stdout",
     "output_type": "stream",
     "text": [
      "success - 3989\n"
     ]
    },
    {
     "name": "stderr",
     "output_type": "stream",
     "text": [
      "Location \"421027779\" in \"Facilities\" is on a soft-restricted network element.\n",
      "\n",
      "Location \"530330219063\" in \"Incidents\" is on a soft-restricted network element.\n",
      "Location \"421027779\" in \"Facilities\" is on a soft-restricted network element.\n",
      "Network elements with avoid-restrictions are traversed in the output (restriction attribute names: \"Avoid Private Roads\" \"Avoid Gates\").\n",
      "\n",
      "Location \"421027779\" in \"Facilities\" is on a soft-restricted network element.\n",
      "Network elements with avoid-restrictions are traversed in the output (restriction attribute names: \"Avoid Gates\").\n",
      "\n",
      "Location \"530610523011\" in \"Incidents\" is on a soft-restricted network element.\n",
      "Location \"421027779\" in \"Facilities\" is on a soft-restricted network element.\n",
      "Network elements with avoid-restrictions are traversed in the output (restriction attribute names: \"Avoid Private Roads\").\n",
      "\n",
      "Location \"530610535052\" in \"Incidents\" is on a soft-restricted network element.\n",
      "Location \"530610536021\" in \"Incidents\" is on a soft-restricted network element.\n",
      "Location \"421027779\" in \"Facilities\" is on a soft-restricted network element.\n",
      "Network elements with avoid-restrictions are traversed in the output (restriction attribute names: \"Avoid Private Roads\").\n",
      "\n"
     ]
    },
    {
     "name": "stdout",
     "output_type": "stream",
     "text": [
      "success - 3990\n"
     ]
    },
    {
     "name": "stderr",
     "output_type": "stream",
     "text": [
      "Location \"421027779\" in \"Facilities\" is on a soft-restricted network element.\n",
      "\n",
      "Location \"530330219063\" in \"Incidents\" is on a soft-restricted network element.\n",
      "Location \"421027779\" in \"Facilities\" is on a soft-restricted network element.\n",
      "Network elements with avoid-restrictions are traversed in the output (restriction attribute names: \"Avoid Private Roads\" \"Avoid Gates\").\n",
      "\n",
      "Location \"421027779\" in \"Facilities\" is on a soft-restricted network element.\n",
      "Network elements with avoid-restrictions are traversed in the output (restriction attribute names: \"Avoid Gates\").\n",
      "\n",
      "Location \"530610523011\" in \"Incidents\" is on a soft-restricted network element.\n",
      "Location \"421027779\" in \"Facilities\" is on a soft-restricted network element.\n",
      "Network elements with avoid-restrictions are traversed in the output (restriction attribute names: \"Avoid Private Roads\").\n",
      "\n",
      "Location \"530610535052\" in \"Incidents\" is on a soft-restricted network element.\n",
      "Location \"530610536021\" in \"Incidents\" is on a soft-restricted network element.\n",
      "Location \"421027779\" in \"Facilities\" is on a soft-restricted network element.\n",
      "Network elements with avoid-restrictions are traversed in the output (restriction attribute names: \"Avoid Private Roads\").\n",
      "\n"
     ]
    },
    {
     "name": "stdout",
     "output_type": "stream",
     "text": [
      "success - 3991\n"
     ]
    },
    {
     "name": "stderr",
     "output_type": "stream",
     "text": [
      "Location \"421027779\" in \"Facilities\" is on a soft-restricted network element.\n",
      "\n",
      "Location \"530330219063\" in \"Incidents\" is on a soft-restricted network element.\n",
      "Location \"421027779\" in \"Facilities\" is on a soft-restricted network element.\n",
      "Network elements with avoid-restrictions are traversed in the output (restriction attribute names: \"Avoid Private Roads\" \"Avoid Gates\").\n",
      "\n",
      "Location \"421027779\" in \"Facilities\" is on a soft-restricted network element.\n",
      "Network elements with avoid-restrictions are traversed in the output (restriction attribute names: \"Avoid Gates\").\n",
      "\n",
      "Location \"530610523011\" in \"Incidents\" is on a soft-restricted network element.\n",
      "Location \"421027779\" in \"Facilities\" is on a soft-restricted network element.\n",
      "Network elements with avoid-restrictions are traversed in the output (restriction attribute names: \"Avoid Private Roads\").\n",
      "\n",
      "Location \"530610535052\" in \"Incidents\" is on a soft-restricted network element.\n",
      "Location \"530610536021\" in \"Incidents\" is on a soft-restricted network element.\n",
      "Location \"421027779\" in \"Facilities\" is on a soft-restricted network element.\n",
      "Network elements with avoid-restrictions are traversed in the output (restriction attribute names: \"Avoid Private Roads\").\n",
      "\n"
     ]
    },
    {
     "name": "stdout",
     "output_type": "stream",
     "text": [
      "success - 3992\n"
     ]
    },
    {
     "name": "stderr",
     "output_type": "stream",
     "text": [
      "Location \"421027779\" in \"Facilities\" is on a soft-restricted network element.\n",
      "\n",
      "Location \"530330219063\" in \"Incidents\" is on a soft-restricted network element.\n",
      "Location \"421027779\" in \"Facilities\" is on a soft-restricted network element.\n",
      "Network elements with avoid-restrictions are traversed in the output (restriction attribute names: \"Avoid Private Roads\" \"Avoid Gates\").\n",
      "\n",
      "Location \"421027779\" in \"Facilities\" is on a soft-restricted network element.\n",
      "Network elements with avoid-restrictions are traversed in the output (restriction attribute names: \"Avoid Gates\").\n",
      "\n",
      "Location \"530610523011\" in \"Incidents\" is on a soft-restricted network element.\n",
      "Location \"421027779\" in \"Facilities\" is on a soft-restricted network element.\n",
      "Network elements with avoid-restrictions are traversed in the output (restriction attribute names: \"Avoid Private Roads\").\n",
      "\n",
      "Location \"530610535052\" in \"Incidents\" is on a soft-restricted network element.\n",
      "Location \"530610536021\" in \"Incidents\" is on a soft-restricted network element.\n",
      "Location \"421027779\" in \"Facilities\" is on a soft-restricted network element.\n",
      "Network elements with avoid-restrictions are traversed in the output (restriction attribute names: \"Avoid Private Roads\").\n",
      "\n"
     ]
    },
    {
     "name": "stdout",
     "output_type": "stream",
     "text": [
      "success - 3993\n"
     ]
    },
    {
     "name": "stderr",
     "output_type": "stream",
     "text": [
      "Location \"421027779\" in \"Facilities\" is on a soft-restricted network element.\n",
      "\n",
      "Location \"530330219063\" in \"Incidents\" is on a soft-restricted network element.\n",
      "Location \"421027779\" in \"Facilities\" is on a soft-restricted network element.\n",
      "Network elements with avoid-restrictions are traversed in the output (restriction attribute names: \"Avoid Private Roads\" \"Avoid Gates\").\n",
      "\n",
      "Location \"421027779\" in \"Facilities\" is on a soft-restricted network element.\n",
      "Network elements with avoid-restrictions are traversed in the output (restriction attribute names: \"Avoid Gates\").\n",
      "\n",
      "Location \"530610523011\" in \"Incidents\" is on a soft-restricted network element.\n",
      "Location \"421027779\" in \"Facilities\" is on a soft-restricted network element.\n",
      "Network elements with avoid-restrictions are traversed in the output (restriction attribute names: \"Avoid Private Roads\").\n",
      "\n",
      "Location \"530610535052\" in \"Incidents\" is on a soft-restricted network element.\n",
      "Location \"530610536021\" in \"Incidents\" is on a soft-restricted network element.\n",
      "Location \"421027779\" in \"Facilities\" is on a soft-restricted network element.\n",
      "Network elements with avoid-restrictions are traversed in the output (restriction attribute names: \"Avoid Private Roads\").\n",
      "\n"
     ]
    },
    {
     "name": "stdout",
     "output_type": "stream",
     "text": [
      "success - 3994\n"
     ]
    },
    {
     "name": "stderr",
     "output_type": "stream",
     "text": [
      "Location \"421027779\" in \"Facilities\" is on a soft-restricted network element.\n",
      "\n",
      "Location \"530330219063\" in \"Incidents\" is on a soft-restricted network element.\n",
      "Location \"421027779\" in \"Facilities\" is on a soft-restricted network element.\n",
      "Network elements with avoid-restrictions are traversed in the output (restriction attribute names: \"Avoid Private Roads\" \"Avoid Gates\").\n",
      "\n",
      "Location \"421027779\" in \"Facilities\" is on a soft-restricted network element.\n",
      "Network elements with avoid-restrictions are traversed in the output (restriction attribute names: \"Avoid Gates\").\n",
      "\n",
      "Location \"530610523011\" in \"Incidents\" is on a soft-restricted network element.\n",
      "Location \"421027779\" in \"Facilities\" is on a soft-restricted network element.\n",
      "Network elements with avoid-restrictions are traversed in the output (restriction attribute names: \"Avoid Private Roads\").\n",
      "\n",
      "Location \"530610535052\" in \"Incidents\" is on a soft-restricted network element.\n",
      "Location \"530610536021\" in \"Incidents\" is on a soft-restricted network element.\n",
      "Location \"421027779\" in \"Facilities\" is on a soft-restricted network element.\n",
      "Network elements with avoid-restrictions are traversed in the output (restriction attribute names: \"Avoid Private Roads\").\n",
      "\n"
     ]
    },
    {
     "name": "stdout",
     "output_type": "stream",
     "text": [
      "success - 3995\n"
     ]
    },
    {
     "name": "stderr",
     "output_type": "stream",
     "text": [
      "Location \"421027779\" in \"Facilities\" is on a soft-restricted network element.\n",
      "\n",
      "Location \"530330219063\" in \"Incidents\" is on a soft-restricted network element.\n",
      "Location \"421027779\" in \"Facilities\" is on a soft-restricted network element.\n",
      "Network elements with avoid-restrictions are traversed in the output (restriction attribute names: \"Avoid Private Roads\" \"Avoid Gates\").\n",
      "\n",
      "Location \"421027779\" in \"Facilities\" is on a soft-restricted network element.\n",
      "Network elements with avoid-restrictions are traversed in the output (restriction attribute names: \"Avoid Gates\").\n",
      "\n",
      "Location \"530610523011\" in \"Incidents\" is on a soft-restricted network element.\n",
      "Location \"421027779\" in \"Facilities\" is on a soft-restricted network element.\n",
      "Network elements with avoid-restrictions are traversed in the output (restriction attribute names: \"Avoid Private Roads\").\n",
      "\n",
      "Location \"530610535052\" in \"Incidents\" is on a soft-restricted network element.\n",
      "Location \"530610536021\" in \"Incidents\" is on a soft-restricted network element.\n",
      "Location \"421027779\" in \"Facilities\" is on a soft-restricted network element.\n",
      "Network elements with avoid-restrictions are traversed in the output (restriction attribute names: \"Avoid Private Roads\").\n",
      "\n"
     ]
    },
    {
     "name": "stdout",
     "output_type": "stream",
     "text": [
      "success - 3996\n"
     ]
    },
    {
     "name": "stderr",
     "output_type": "stream",
     "text": [
      "Location \"421027779\" in \"Facilities\" is on a soft-restricted network element.\n",
      "\n",
      "Location \"530330219063\" in \"Incidents\" is on a soft-restricted network element.\n",
      "Location \"421027779\" in \"Facilities\" is on a soft-restricted network element.\n",
      "Network elements with avoid-restrictions are traversed in the output (restriction attribute names: \"Avoid Private Roads\" \"Avoid Gates\").\n",
      "\n",
      "Location \"421027779\" in \"Facilities\" is on a soft-restricted network element.\n",
      "Network elements with avoid-restrictions are traversed in the output (restriction attribute names: \"Avoid Gates\").\n",
      "\n",
      "Location \"530610523011\" in \"Incidents\" is on a soft-restricted network element.\n",
      "Location \"421027779\" in \"Facilities\" is on a soft-restricted network element.\n",
      "Network elements with avoid-restrictions are traversed in the output (restriction attribute names: \"Avoid Private Roads\").\n",
      "\n",
      "Location \"530610535052\" in \"Incidents\" is on a soft-restricted network element.\n",
      "Location \"530610536021\" in \"Incidents\" is on a soft-restricted network element.\n",
      "Location \"421027779\" in \"Facilities\" is on a soft-restricted network element.\n",
      "Network elements with avoid-restrictions are traversed in the output (restriction attribute names: \"Avoid Private Roads\").\n",
      "\n"
     ]
    },
    {
     "name": "stdout",
     "output_type": "stream",
     "text": [
      "success - 3997\n"
     ]
    },
    {
     "name": "stderr",
     "output_type": "stream",
     "text": [
      "Location \"421027779\" in \"Facilities\" is on a soft-restricted network element.\n",
      "\n",
      "Location \"530330219063\" in \"Incidents\" is on a soft-restricted network element.\n",
      "Location \"421027779\" in \"Facilities\" is on a soft-restricted network element.\n",
      "Network elements with avoid-restrictions are traversed in the output (restriction attribute names: \"Avoid Private Roads\" \"Avoid Gates\").\n",
      "\n",
      "Location \"421027779\" in \"Facilities\" is on a soft-restricted network element.\n",
      "Network elements with avoid-restrictions are traversed in the output (restriction attribute names: \"Avoid Gates\").\n",
      "\n",
      "Location \"530610523011\" in \"Incidents\" is on a soft-restricted network element.\n",
      "Location \"421027779\" in \"Facilities\" is on a soft-restricted network element.\n",
      "Network elements with avoid-restrictions are traversed in the output (restriction attribute names: \"Avoid Private Roads\").\n",
      "\n",
      "Location \"530610535052\" in \"Incidents\" is on a soft-restricted network element.\n",
      "Location \"530610536021\" in \"Incidents\" is on a soft-restricted network element.\n",
      "Location \"421027779\" in \"Facilities\" is on a soft-restricted network element.\n",
      "Network elements with avoid-restrictions are traversed in the output (restriction attribute names: \"Avoid Private Roads\").\n",
      "\n"
     ]
    },
    {
     "name": "stdout",
     "output_type": "stream",
     "text": [
      "success - 3998\n"
     ]
    },
    {
     "name": "stderr",
     "output_type": "stream",
     "text": [
      "Location \"421027779\" in \"Facilities\" is on a soft-restricted network element.\n",
      "\n",
      "Location \"530330219063\" in \"Incidents\" is on a soft-restricted network element.\n",
      "Location \"421027779\" in \"Facilities\" is on a soft-restricted network element.\n",
      "Network elements with avoid-restrictions are traversed in the output (restriction attribute names: \"Avoid Private Roads\" \"Avoid Gates\").\n",
      "\n",
      "Location \"421027779\" in \"Facilities\" is on a soft-restricted network element.\n",
      "Network elements with avoid-restrictions are traversed in the output (restriction attribute names: \"Avoid Gates\").\n",
      "\n",
      "Location \"530610523011\" in \"Incidents\" is on a soft-restricted network element.\n",
      "Location \"421027779\" in \"Facilities\" is on a soft-restricted network element.\n",
      "Network elements with avoid-restrictions are traversed in the output (restriction attribute names: \"Avoid Private Roads\").\n",
      "\n",
      "Location \"530610535052\" in \"Incidents\" is on a soft-restricted network element.\n",
      "Location \"530610536021\" in \"Incidents\" is on a soft-restricted network element.\n",
      "Location \"421027779\" in \"Facilities\" is on a soft-restricted network element.\n",
      "Network elements with avoid-restrictions are traversed in the output (restriction attribute names: \"Avoid Private Roads\").\n",
      "\n"
     ]
    },
    {
     "name": "stdout",
     "output_type": "stream",
     "text": [
      "success - 4008\n"
     ]
    },
    {
     "name": "stderr",
     "output_type": "stream",
     "text": [
      "Location \"421027779\" in \"Facilities\" is on a soft-restricted network element.\n",
      "\n",
      "Location \"530330219063\" in \"Incidents\" is on a soft-restricted network element.\n",
      "Location \"421027779\" in \"Facilities\" is on a soft-restricted network element.\n",
      "Network elements with avoid-restrictions are traversed in the output (restriction attribute names: \"Avoid Private Roads\" \"Avoid Gates\").\n",
      "\n",
      "Location \"421027779\" in \"Facilities\" is on a soft-restricted network element.\n",
      "Network elements with avoid-restrictions are traversed in the output (restriction attribute names: \"Avoid Gates\").\n",
      "\n",
      "Location \"530610523011\" in \"Incidents\" is on a soft-restricted network element.\n",
      "Location \"421027779\" in \"Facilities\" is on a soft-restricted network element.\n",
      "Network elements with avoid-restrictions are traversed in the output (restriction attribute names: \"Avoid Private Roads\").\n",
      "\n",
      "Location \"530610535052\" in \"Incidents\" is on a soft-restricted network element.\n",
      "Location \"530610536021\" in \"Incidents\" is on a soft-restricted network element.\n",
      "Location \"421027779\" in \"Facilities\" is on a soft-restricted network element.\n",
      "Network elements with avoid-restrictions are traversed in the output (restriction attribute names: \"Avoid Private Roads\").\n",
      "\n"
     ]
    },
    {
     "name": "stdout",
     "output_type": "stream",
     "text": [
      "success - 4010\n"
     ]
    },
    {
     "name": "stderr",
     "output_type": "stream",
     "text": [
      "Location \"421027779\" in \"Facilities\" is on a soft-restricted network element.\n",
      "\n",
      "Location \"530330219063\" in \"Incidents\" is on a soft-restricted network element.\n",
      "Location \"421027779\" in \"Facilities\" is on a soft-restricted network element.\n",
      "Network elements with avoid-restrictions are traversed in the output (restriction attribute names: \"Avoid Private Roads\" \"Avoid Gates\").\n",
      "\n",
      "Location \"421027779\" in \"Facilities\" is on a soft-restricted network element.\n",
      "Network elements with avoid-restrictions are traversed in the output (restriction attribute names: \"Avoid Gates\").\n",
      "\n",
      "Location \"530610523011\" in \"Incidents\" is on a soft-restricted network element.\n",
      "Location \"421027779\" in \"Facilities\" is on a soft-restricted network element.\n",
      "Network elements with avoid-restrictions are traversed in the output (restriction attribute names: \"Avoid Private Roads\").\n",
      "\n",
      "Location \"530610535052\" in \"Incidents\" is on a soft-restricted network element.\n",
      "Location \"530610536021\" in \"Incidents\" is on a soft-restricted network element.\n",
      "Location \"421027779\" in \"Facilities\" is on a soft-restricted network element.\n",
      "Network elements with avoid-restrictions are traversed in the output (restriction attribute names: \"Avoid Private Roads\").\n",
      "\n"
     ]
    },
    {
     "name": "stdout",
     "output_type": "stream",
     "text": [
      "success - 4011\n"
     ]
    },
    {
     "name": "stderr",
     "output_type": "stream",
     "text": [
      "Location \"421027779\" in \"Facilities\" is on a soft-restricted network element.\n",
      "\n",
      "Location \"530330219063\" in \"Incidents\" is on a soft-restricted network element.\n",
      "Location \"421027779\" in \"Facilities\" is on a soft-restricted network element.\n",
      "Network elements with avoid-restrictions are traversed in the output (restriction attribute names: \"Avoid Private Roads\" \"Avoid Gates\").\n",
      "\n",
      "Location \"421027779\" in \"Facilities\" is on a soft-restricted network element.\n",
      "Network elements with avoid-restrictions are traversed in the output (restriction attribute names: \"Avoid Gates\").\n",
      "\n",
      "Location \"530610523011\" in \"Incidents\" is on a soft-restricted network element.\n",
      "Location \"421027779\" in \"Facilities\" is on a soft-restricted network element.\n",
      "Network elements with avoid-restrictions are traversed in the output (restriction attribute names: \"Avoid Private Roads\").\n",
      "\n",
      "Location \"530610535052\" in \"Incidents\" is on a soft-restricted network element.\n",
      "Location \"530610536021\" in \"Incidents\" is on a soft-restricted network element.\n",
      "Location \"421027779\" in \"Facilities\" is on a soft-restricted network element.\n",
      "Network elements with avoid-restrictions are traversed in the output (restriction attribute names: \"Avoid Private Roads\").\n",
      "\n"
     ]
    },
    {
     "name": "stdout",
     "output_type": "stream",
     "text": [
      "success - 4012\n"
     ]
    },
    {
     "name": "stderr",
     "output_type": "stream",
     "text": [
      "Location \"421027779\" in \"Facilities\" is on a soft-restricted network element.\n",
      "\n",
      "Location \"530330219063\" in \"Incidents\" is on a soft-restricted network element.\n",
      "Location \"421027779\" in \"Facilities\" is on a soft-restricted network element.\n",
      "Network elements with avoid-restrictions are traversed in the output (restriction attribute names: \"Avoid Private Roads\" \"Avoid Gates\").\n",
      "\n",
      "Location \"421027779\" in \"Facilities\" is on a soft-restricted network element.\n",
      "Network elements with avoid-restrictions are traversed in the output (restriction attribute names: \"Avoid Gates\").\n",
      "\n",
      "Location \"530610523011\" in \"Incidents\" is on a soft-restricted network element.\n",
      "Location \"421027779\" in \"Facilities\" is on a soft-restricted network element.\n",
      "Network elements with avoid-restrictions are traversed in the output (restriction attribute names: \"Avoid Private Roads\").\n",
      "\n",
      "Location \"530610535052\" in \"Incidents\" is on a soft-restricted network element.\n",
      "Location \"530610536021\" in \"Incidents\" is on a soft-restricted network element.\n",
      "Location \"421027779\" in \"Facilities\" is on a soft-restricted network element.\n",
      "Network elements with avoid-restrictions are traversed in the output (restriction attribute names: \"Avoid Private Roads\").\n",
      "\n"
     ]
    },
    {
     "name": "stdout",
     "output_type": "stream",
     "text": [
      "success - 4013\n"
     ]
    },
    {
     "name": "stderr",
     "output_type": "stream",
     "text": [
      "Location \"421027779\" in \"Facilities\" is on a soft-restricted network element.\n",
      "\n",
      "Location \"530330219063\" in \"Incidents\" is on a soft-restricted network element.\n",
      "Location \"421027779\" in \"Facilities\" is on a soft-restricted network element.\n",
      "Network elements with avoid-restrictions are traversed in the output (restriction attribute names: \"Avoid Private Roads\" \"Avoid Gates\").\n",
      "\n",
      "Location \"421027779\" in \"Facilities\" is on a soft-restricted network element.\n",
      "Network elements with avoid-restrictions are traversed in the output (restriction attribute names: \"Avoid Gates\").\n",
      "\n",
      "Location \"530610523011\" in \"Incidents\" is on a soft-restricted network element.\n",
      "Location \"421027779\" in \"Facilities\" is on a soft-restricted network element.\n",
      "Network elements with avoid-restrictions are traversed in the output (restriction attribute names: \"Avoid Private Roads\").\n",
      "\n",
      "Location \"530610535052\" in \"Incidents\" is on a soft-restricted network element.\n",
      "Location \"530610536021\" in \"Incidents\" is on a soft-restricted network element.\n",
      "Location \"421027779\" in \"Facilities\" is on a soft-restricted network element.\n",
      "Network elements with avoid-restrictions are traversed in the output (restriction attribute names: \"Avoid Private Roads\").\n",
      "\n"
     ]
    },
    {
     "name": "stdout",
     "output_type": "stream",
     "text": [
      "success - 4014\n"
     ]
    },
    {
     "name": "stderr",
     "output_type": "stream",
     "text": [
      "Location \"421027779\" in \"Facilities\" is on a soft-restricted network element.\n",
      "\n",
      "Location \"530330219063\" in \"Incidents\" is on a soft-restricted network element.\n",
      "Location \"421027779\" in \"Facilities\" is on a soft-restricted network element.\n",
      "Network elements with avoid-restrictions are traversed in the output (restriction attribute names: \"Avoid Private Roads\" \"Avoid Gates\").\n",
      "\n",
      "Location \"421027779\" in \"Facilities\" is on a soft-restricted network element.\n",
      "Network elements with avoid-restrictions are traversed in the output (restriction attribute names: \"Avoid Gates\").\n",
      "\n",
      "Location \"530610523011\" in \"Incidents\" is on a soft-restricted network element.\n",
      "Location \"421027779\" in \"Facilities\" is on a soft-restricted network element.\n",
      "Network elements with avoid-restrictions are traversed in the output (restriction attribute names: \"Avoid Private Roads\").\n",
      "\n",
      "Location \"530610535052\" in \"Incidents\" is on a soft-restricted network element.\n",
      "Location \"530610536021\" in \"Incidents\" is on a soft-restricted network element.\n",
      "Location \"421027779\" in \"Facilities\" is on a soft-restricted network element.\n",
      "Network elements with avoid-restrictions are traversed in the output (restriction attribute names: \"Avoid Private Roads\").\n",
      "\n"
     ]
    },
    {
     "name": "stdout",
     "output_type": "stream",
     "text": [
      "success - 4016\n"
     ]
    },
    {
     "name": "stderr",
     "output_type": "stream",
     "text": [
      "Location \"421027779\" in \"Facilities\" is on a soft-restricted network element.\n",
      "\n",
      "Location \"530330219063\" in \"Incidents\" is on a soft-restricted network element.\n",
      "Location \"421027779\" in \"Facilities\" is on a soft-restricted network element.\n",
      "Network elements with avoid-restrictions are traversed in the output (restriction attribute names: \"Avoid Private Roads\" \"Avoid Gates\").\n",
      "\n",
      "Location \"421027779\" in \"Facilities\" is on a soft-restricted network element.\n",
      "Network elements with avoid-restrictions are traversed in the output (restriction attribute names: \"Avoid Gates\").\n",
      "\n",
      "Location \"530610523011\" in \"Incidents\" is on a soft-restricted network element.\n",
      "Location \"421027779\" in \"Facilities\" is on a soft-restricted network element.\n",
      "Network elements with avoid-restrictions are traversed in the output (restriction attribute names: \"Avoid Private Roads\").\n",
      "\n",
      "Location \"530610535052\" in \"Incidents\" is on a soft-restricted network element.\n",
      "Location \"530610536021\" in \"Incidents\" is on a soft-restricted network element.\n",
      "Location \"421027779\" in \"Facilities\" is on a soft-restricted network element.\n",
      "Network elements with avoid-restrictions are traversed in the output (restriction attribute names: \"Avoid Private Roads\").\n",
      "\n"
     ]
    },
    {
     "name": "stdout",
     "output_type": "stream",
     "text": [
      "success - 4017\n"
     ]
    },
    {
     "name": "stderr",
     "output_type": "stream",
     "text": [
      "Location \"421027779\" in \"Facilities\" is on a soft-restricted network element.\n",
      "\n",
      "Location \"530330219063\" in \"Incidents\" is on a soft-restricted network element.\n",
      "Location \"421027779\" in \"Facilities\" is on a soft-restricted network element.\n",
      "Network elements with avoid-restrictions are traversed in the output (restriction attribute names: \"Avoid Private Roads\" \"Avoid Gates\").\n",
      "\n",
      "Location \"421027779\" in \"Facilities\" is on a soft-restricted network element.\n",
      "Network elements with avoid-restrictions are traversed in the output (restriction attribute names: \"Avoid Gates\").\n",
      "\n",
      "Location \"530610523011\" in \"Incidents\" is on a soft-restricted network element.\n",
      "Location \"421027779\" in \"Facilities\" is on a soft-restricted network element.\n",
      "Network elements with avoid-restrictions are traversed in the output (restriction attribute names: \"Avoid Private Roads\").\n",
      "\n",
      "Location \"530610535052\" in \"Incidents\" is on a soft-restricted network element.\n",
      "Location \"530610536021\" in \"Incidents\" is on a soft-restricted network element.\n",
      "Location \"421027779\" in \"Facilities\" is on a soft-restricted network element.\n",
      "Network elements with avoid-restrictions are traversed in the output (restriction attribute names: \"Avoid Private Roads\").\n",
      "\n"
     ]
    },
    {
     "name": "stdout",
     "output_type": "stream",
     "text": [
      "success - 4047\n"
     ]
    },
    {
     "name": "stderr",
     "output_type": "stream",
     "text": [
      "Location \"421027779\" in \"Facilities\" is on a soft-restricted network element.\n",
      "\n",
      "Location \"530330219063\" in \"Incidents\" is on a soft-restricted network element.\n",
      "Location \"421027779\" in \"Facilities\" is on a soft-restricted network element.\n",
      "Network elements with avoid-restrictions are traversed in the output (restriction attribute names: \"Avoid Private Roads\" \"Avoid Gates\").\n",
      "\n",
      "Location \"421027779\" in \"Facilities\" is on a soft-restricted network element.\n",
      "Network elements with avoid-restrictions are traversed in the output (restriction attribute names: \"Avoid Gates\").\n",
      "\n",
      "Location \"530610523011\" in \"Incidents\" is on a soft-restricted network element.\n",
      "Location \"421027779\" in \"Facilities\" is on a soft-restricted network element.\n",
      "Network elements with avoid-restrictions are traversed in the output (restriction attribute names: \"Avoid Private Roads\").\n",
      "\n",
      "Location \"530610535052\" in \"Incidents\" is on a soft-restricted network element.\n",
      "Location \"530610536021\" in \"Incidents\" is on a soft-restricted network element.\n",
      "Location \"421027779\" in \"Facilities\" is on a soft-restricted network element.\n",
      "Network elements with avoid-restrictions are traversed in the output (restriction attribute names: \"Avoid Private Roads\").\n",
      "\n"
     ]
    },
    {
     "name": "stdout",
     "output_type": "stream",
     "text": [
      "success - 4048\n"
     ]
    },
    {
     "name": "stderr",
     "output_type": "stream",
     "text": [
      "Location \"421027779\" in \"Facilities\" is on a soft-restricted network element.\n",
      "\n",
      "Location \"530330219063\" in \"Incidents\" is on a soft-restricted network element.\n",
      "Location \"421027779\" in \"Facilities\" is on a soft-restricted network element.\n",
      "Network elements with avoid-restrictions are traversed in the output (restriction attribute names: \"Avoid Private Roads\" \"Avoid Gates\").\n",
      "\n",
      "Location \"421027779\" in \"Facilities\" is on a soft-restricted network element.\n",
      "Network elements with avoid-restrictions are traversed in the output (restriction attribute names: \"Avoid Gates\").\n",
      "\n",
      "Location \"530610523011\" in \"Incidents\" is on a soft-restricted network element.\n",
      "Location \"421027779\" in \"Facilities\" is on a soft-restricted network element.\n",
      "Network elements with avoid-restrictions are traversed in the output (restriction attribute names: \"Avoid Private Roads\").\n",
      "\n",
      "Location \"530610535052\" in \"Incidents\" is on a soft-restricted network element.\n",
      "Location \"530610536021\" in \"Incidents\" is on a soft-restricted network element.\n",
      "Location \"421027779\" in \"Facilities\" is on a soft-restricted network element.\n",
      "Network elements with avoid-restrictions are traversed in the output (restriction attribute names: \"Avoid Private Roads\").\n",
      "\n"
     ]
    },
    {
     "name": "stdout",
     "output_type": "stream",
     "text": [
      "success - 4049\n"
     ]
    },
    {
     "name": "stderr",
     "output_type": "stream",
     "text": [
      "Location \"421027779\" in \"Facilities\" is on a soft-restricted network element.\n",
      "\n",
      "Location \"530330219063\" in \"Incidents\" is on a soft-restricted network element.\n",
      "Location \"421027779\" in \"Facilities\" is on a soft-restricted network element.\n",
      "Network elements with avoid-restrictions are traversed in the output (restriction attribute names: \"Avoid Private Roads\" \"Avoid Gates\").\n",
      "\n",
      "Location \"421027779\" in \"Facilities\" is on a soft-restricted network element.\n",
      "Network elements with avoid-restrictions are traversed in the output (restriction attribute names: \"Avoid Gates\").\n",
      "\n",
      "Location \"530610523011\" in \"Incidents\" is on a soft-restricted network element.\n",
      "Location \"421027779\" in \"Facilities\" is on a soft-restricted network element.\n",
      "Network elements with avoid-restrictions are traversed in the output (restriction attribute names: \"Avoid Private Roads\").\n",
      "\n",
      "Location \"530610535052\" in \"Incidents\" is on a soft-restricted network element.\n",
      "Location \"530610536021\" in \"Incidents\" is on a soft-restricted network element.\n",
      "Location \"421027779\" in \"Facilities\" is on a soft-restricted network element.\n",
      "Network elements with avoid-restrictions are traversed in the output (restriction attribute names: \"Avoid Private Roads\").\n",
      "\n"
     ]
    },
    {
     "name": "stdout",
     "output_type": "stream",
     "text": [
      "success - 4050\n"
     ]
    },
    {
     "name": "stderr",
     "output_type": "stream",
     "text": [
      "Location \"421027779\" in \"Facilities\" is on a soft-restricted network element.\n",
      "\n",
      "Location \"530330219063\" in \"Incidents\" is on a soft-restricted network element.\n",
      "Location \"421027779\" in \"Facilities\" is on a soft-restricted network element.\n",
      "Network elements with avoid-restrictions are traversed in the output (restriction attribute names: \"Avoid Private Roads\" \"Avoid Gates\").\n",
      "\n",
      "Location \"421027779\" in \"Facilities\" is on a soft-restricted network element.\n",
      "Network elements with avoid-restrictions are traversed in the output (restriction attribute names: \"Avoid Gates\").\n",
      "\n",
      "Location \"530610523011\" in \"Incidents\" is on a soft-restricted network element.\n",
      "Location \"421027779\" in \"Facilities\" is on a soft-restricted network element.\n",
      "Network elements with avoid-restrictions are traversed in the output (restriction attribute names: \"Avoid Private Roads\").\n",
      "\n",
      "Location \"530610535052\" in \"Incidents\" is on a soft-restricted network element.\n",
      "Location \"530610536021\" in \"Incidents\" is on a soft-restricted network element.\n",
      "Location \"421027779\" in \"Facilities\" is on a soft-restricted network element.\n",
      "Network elements with avoid-restrictions are traversed in the output (restriction attribute names: \"Avoid Private Roads\").\n",
      "\n"
     ]
    },
    {
     "name": "stdout",
     "output_type": "stream",
     "text": [
      "success - 4051\n"
     ]
    },
    {
     "name": "stderr",
     "output_type": "stream",
     "text": [
      "Location \"421027779\" in \"Facilities\" is on a soft-restricted network element.\n",
      "\n",
      "Location \"530330219063\" in \"Incidents\" is on a soft-restricted network element.\n",
      "Location \"421027779\" in \"Facilities\" is on a soft-restricted network element.\n",
      "Network elements with avoid-restrictions are traversed in the output (restriction attribute names: \"Avoid Private Roads\" \"Avoid Gates\").\n",
      "\n",
      "Location \"421027779\" in \"Facilities\" is on a soft-restricted network element.\n",
      "Network elements with avoid-restrictions are traversed in the output (restriction attribute names: \"Avoid Gates\").\n",
      "\n",
      "Location \"530610523011\" in \"Incidents\" is on a soft-restricted network element.\n",
      "Location \"421027779\" in \"Facilities\" is on a soft-restricted network element.\n",
      "Network elements with avoid-restrictions are traversed in the output (restriction attribute names: \"Avoid Private Roads\").\n",
      "\n",
      "Location \"530610535052\" in \"Incidents\" is on a soft-restricted network element.\n",
      "Location \"530610536021\" in \"Incidents\" is on a soft-restricted network element.\n",
      "Location \"421027779\" in \"Facilities\" is on a soft-restricted network element.\n",
      "Network elements with avoid-restrictions are traversed in the output (restriction attribute names: \"Avoid Private Roads\").\n",
      "\n"
     ]
    },
    {
     "name": "stdout",
     "output_type": "stream",
     "text": [
      "success - 4052\n"
     ]
    },
    {
     "name": "stderr",
     "output_type": "stream",
     "text": [
      "Location \"421027779\" in \"Facilities\" is on a soft-restricted network element.\n",
      "\n",
      "Location \"530330219063\" in \"Incidents\" is on a soft-restricted network element.\n",
      "Location \"421027779\" in \"Facilities\" is on a soft-restricted network element.\n",
      "Network elements with avoid-restrictions are traversed in the output (restriction attribute names: \"Avoid Private Roads\" \"Avoid Gates\").\n",
      "\n",
      "Location \"421027779\" in \"Facilities\" is on a soft-restricted network element.\n",
      "Network elements with avoid-restrictions are traversed in the output (restriction attribute names: \"Avoid Gates\").\n",
      "\n",
      "Location \"530610523011\" in \"Incidents\" is on a soft-restricted network element.\n",
      "Location \"421027779\" in \"Facilities\" is on a soft-restricted network element.\n",
      "Network elements with avoid-restrictions are traversed in the output (restriction attribute names: \"Avoid Private Roads\").\n",
      "\n",
      "Location \"530610535052\" in \"Incidents\" is on a soft-restricted network element.\n",
      "Location \"530610536021\" in \"Incidents\" is on a soft-restricted network element.\n",
      "Location \"421027779\" in \"Facilities\" is on a soft-restricted network element.\n",
      "Network elements with avoid-restrictions are traversed in the output (restriction attribute names: \"Avoid Private Roads\").\n",
      "\n"
     ]
    },
    {
     "name": "stdout",
     "output_type": "stream",
     "text": [
      "success - 4053\n"
     ]
    },
    {
     "name": "stderr",
     "output_type": "stream",
     "text": [
      "Location \"421027779\" in \"Facilities\" is on a soft-restricted network element.\n",
      "\n",
      "Location \"530330219063\" in \"Incidents\" is on a soft-restricted network element.\n",
      "Location \"421027779\" in \"Facilities\" is on a soft-restricted network element.\n",
      "Network elements with avoid-restrictions are traversed in the output (restriction attribute names: \"Avoid Private Roads\" \"Avoid Gates\").\n",
      "\n",
      "Location \"421027779\" in \"Facilities\" is on a soft-restricted network element.\n",
      "Network elements with avoid-restrictions are traversed in the output (restriction attribute names: \"Avoid Gates\").\n",
      "\n",
      "Location \"530610523011\" in \"Incidents\" is on a soft-restricted network element.\n",
      "Location \"421027779\" in \"Facilities\" is on a soft-restricted network element.\n",
      "Network elements with avoid-restrictions are traversed in the output (restriction attribute names: \"Avoid Private Roads\").\n",
      "\n",
      "Location \"530610535052\" in \"Incidents\" is on a soft-restricted network element.\n",
      "Location \"530610536021\" in \"Incidents\" is on a soft-restricted network element.\n",
      "Location \"421027779\" in \"Facilities\" is on a soft-restricted network element.\n",
      "Network elements with avoid-restrictions are traversed in the output (restriction attribute names: \"Avoid Private Roads\").\n",
      "\n"
     ]
    },
    {
     "name": "stdout",
     "output_type": "stream",
     "text": [
      "success - 4054\n"
     ]
    },
    {
     "name": "stderr",
     "output_type": "stream",
     "text": [
      "Location \"421027779\" in \"Facilities\" is on a soft-restricted network element.\n",
      "\n",
      "Location \"530330219063\" in \"Incidents\" is on a soft-restricted network element.\n",
      "Location \"421027779\" in \"Facilities\" is on a soft-restricted network element.\n",
      "Network elements with avoid-restrictions are traversed in the output (restriction attribute names: \"Avoid Private Roads\" \"Avoid Gates\").\n",
      "\n",
      "Location \"421027779\" in \"Facilities\" is on a soft-restricted network element.\n",
      "Network elements with avoid-restrictions are traversed in the output (restriction attribute names: \"Avoid Gates\").\n",
      "\n",
      "Location \"530610523011\" in \"Incidents\" is on a soft-restricted network element.\n",
      "Location \"421027779\" in \"Facilities\" is on a soft-restricted network element.\n",
      "Network elements with avoid-restrictions are traversed in the output (restriction attribute names: \"Avoid Private Roads\").\n",
      "\n",
      "Location \"530610535052\" in \"Incidents\" is on a soft-restricted network element.\n",
      "Location \"530610536021\" in \"Incidents\" is on a soft-restricted network element.\n",
      "Location \"421027779\" in \"Facilities\" is on a soft-restricted network element.\n",
      "Network elements with avoid-restrictions are traversed in the output (restriction attribute names: \"Avoid Private Roads\").\n",
      "\n"
     ]
    },
    {
     "name": "stdout",
     "output_type": "stream",
     "text": [
      "success - 4055\n"
     ]
    },
    {
     "name": "stderr",
     "output_type": "stream",
     "text": [
      "Location \"421027779\" in \"Facilities\" is on a soft-restricted network element.\n",
      "\n",
      "Location \"530330219063\" in \"Incidents\" is on a soft-restricted network element.\n",
      "Location \"421027779\" in \"Facilities\" is on a soft-restricted network element.\n",
      "Network elements with avoid-restrictions are traversed in the output (restriction attribute names: \"Avoid Private Roads\" \"Avoid Gates\").\n",
      "\n",
      "Location \"421027779\" in \"Facilities\" is on a soft-restricted network element.\n",
      "Network elements with avoid-restrictions are traversed in the output (restriction attribute names: \"Avoid Gates\").\n",
      "\n",
      "Location \"530610523011\" in \"Incidents\" is on a soft-restricted network element.\n",
      "Location \"421027779\" in \"Facilities\" is on a soft-restricted network element.\n",
      "Network elements with avoid-restrictions are traversed in the output (restriction attribute names: \"Avoid Private Roads\").\n",
      "\n",
      "Location \"530610535052\" in \"Incidents\" is on a soft-restricted network element.\n",
      "Location \"530610536021\" in \"Incidents\" is on a soft-restricted network element.\n",
      "Location \"421027779\" in \"Facilities\" is on a soft-restricted network element.\n",
      "Network elements with avoid-restrictions are traversed in the output (restriction attribute names: \"Avoid Private Roads\").\n",
      "\n"
     ]
    },
    {
     "name": "stdout",
     "output_type": "stream",
     "text": [
      "success - 4056\n"
     ]
    },
    {
     "name": "stderr",
     "output_type": "stream",
     "text": [
      "Location \"421027779\" in \"Facilities\" is on a soft-restricted network element.\n",
      "\n",
      "Location \"530330219063\" in \"Incidents\" is on a soft-restricted network element.\n",
      "Location \"421027779\" in \"Facilities\" is on a soft-restricted network element.\n",
      "Network elements with avoid-restrictions are traversed in the output (restriction attribute names: \"Avoid Private Roads\" \"Avoid Gates\").\n",
      "\n",
      "Location \"421027779\" in \"Facilities\" is on a soft-restricted network element.\n",
      "Network elements with avoid-restrictions are traversed in the output (restriction attribute names: \"Avoid Gates\").\n",
      "\n",
      "Location \"530610523011\" in \"Incidents\" is on a soft-restricted network element.\n",
      "Location \"421027779\" in \"Facilities\" is on a soft-restricted network element.\n",
      "Network elements with avoid-restrictions are traversed in the output (restriction attribute names: \"Avoid Private Roads\").\n",
      "\n",
      "Location \"530610535052\" in \"Incidents\" is on a soft-restricted network element.\n",
      "Location \"530610536021\" in \"Incidents\" is on a soft-restricted network element.\n",
      "Location \"421027779\" in \"Facilities\" is on a soft-restricted network element.\n",
      "Network elements with avoid-restrictions are traversed in the output (restriction attribute names: \"Avoid Private Roads\").\n",
      "\n"
     ]
    },
    {
     "name": "stdout",
     "output_type": "stream",
     "text": [
      "success - 4057\n"
     ]
    },
    {
     "name": "stderr",
     "output_type": "stream",
     "text": [
      "Location \"421027779\" in \"Facilities\" is on a soft-restricted network element.\n",
      "\n",
      "Location \"530330219063\" in \"Incidents\" is on a soft-restricted network element.\n",
      "Location \"421027779\" in \"Facilities\" is on a soft-restricted network element.\n",
      "Network elements with avoid-restrictions are traversed in the output (restriction attribute names: \"Avoid Private Roads\" \"Avoid Gates\").\n",
      "\n",
      "Location \"421027779\" in \"Facilities\" is on a soft-restricted network element.\n",
      "Network elements with avoid-restrictions are traversed in the output (restriction attribute names: \"Avoid Gates\").\n",
      "\n",
      "Location \"530610523011\" in \"Incidents\" is on a soft-restricted network element.\n",
      "Location \"421027779\" in \"Facilities\" is on a soft-restricted network element.\n",
      "Network elements with avoid-restrictions are traversed in the output (restriction attribute names: \"Avoid Private Roads\").\n",
      "\n",
      "Location \"530610535052\" in \"Incidents\" is on a soft-restricted network element.\n",
      "Location \"530610536021\" in \"Incidents\" is on a soft-restricted network element.\n",
      "Location \"421027779\" in \"Facilities\" is on a soft-restricted network element.\n",
      "Network elements with avoid-restrictions are traversed in the output (restriction attribute names: \"Avoid Private Roads\").\n",
      "\n"
     ]
    },
    {
     "name": "stdout",
     "output_type": "stream",
     "text": [
      "success - 4058\n"
     ]
    },
    {
     "name": "stderr",
     "output_type": "stream",
     "text": [
      "Location \"421027779\" in \"Facilities\" is on a soft-restricted network element.\n",
      "\n",
      "Location \"530330219063\" in \"Incidents\" is on a soft-restricted network element.\n",
      "Location \"421027779\" in \"Facilities\" is on a soft-restricted network element.\n",
      "Network elements with avoid-restrictions are traversed in the output (restriction attribute names: \"Avoid Private Roads\" \"Avoid Gates\").\n",
      "\n",
      "Location \"421027779\" in \"Facilities\" is on a soft-restricted network element.\n",
      "Network elements with avoid-restrictions are traversed in the output (restriction attribute names: \"Avoid Gates\").\n",
      "\n",
      "Location \"530610523011\" in \"Incidents\" is on a soft-restricted network element.\n",
      "Location \"421027779\" in \"Facilities\" is on a soft-restricted network element.\n",
      "Network elements with avoid-restrictions are traversed in the output (restriction attribute names: \"Avoid Private Roads\").\n",
      "\n",
      "Location \"530610535052\" in \"Incidents\" is on a soft-restricted network element.\n",
      "Location \"530610536021\" in \"Incidents\" is on a soft-restricted network element.\n",
      "Location \"421027779\" in \"Facilities\" is on a soft-restricted network element.\n",
      "Network elements with avoid-restrictions are traversed in the output (restriction attribute names: \"Avoid Private Roads\").\n",
      "\n"
     ]
    },
    {
     "name": "stdout",
     "output_type": "stream",
     "text": [
      "success - 4059\n"
     ]
    },
    {
     "name": "stderr",
     "output_type": "stream",
     "text": [
      "Location \"421027779\" in \"Facilities\" is on a soft-restricted network element.\n",
      "\n",
      "Location \"530330219063\" in \"Incidents\" is on a soft-restricted network element.\n",
      "Location \"421027779\" in \"Facilities\" is on a soft-restricted network element.\n",
      "Network elements with avoid-restrictions are traversed in the output (restriction attribute names: \"Avoid Private Roads\" \"Avoid Gates\").\n",
      "\n",
      "Location \"421027779\" in \"Facilities\" is on a soft-restricted network element.\n",
      "Network elements with avoid-restrictions are traversed in the output (restriction attribute names: \"Avoid Gates\").\n",
      "\n",
      "Location \"530610523011\" in \"Incidents\" is on a soft-restricted network element.\n",
      "Location \"421027779\" in \"Facilities\" is on a soft-restricted network element.\n",
      "Network elements with avoid-restrictions are traversed in the output (restriction attribute names: \"Avoid Private Roads\").\n",
      "\n",
      "Location \"530610535052\" in \"Incidents\" is on a soft-restricted network element.\n",
      "Location \"530610536021\" in \"Incidents\" is on a soft-restricted network element.\n",
      "Location \"421027779\" in \"Facilities\" is on a soft-restricted network element.\n",
      "Network elements with avoid-restrictions are traversed in the output (restriction attribute names: \"Avoid Private Roads\").\n",
      "\n"
     ]
    },
    {
     "name": "stdout",
     "output_type": "stream",
     "text": [
      "success - 4060\n"
     ]
    },
    {
     "name": "stderr",
     "output_type": "stream",
     "text": [
      "Location \"421027779\" in \"Facilities\" is on a soft-restricted network element.\n",
      "\n",
      "Location \"530330219063\" in \"Incidents\" is on a soft-restricted network element.\n",
      "Location \"421027779\" in \"Facilities\" is on a soft-restricted network element.\n",
      "Network elements with avoid-restrictions are traversed in the output (restriction attribute names: \"Avoid Private Roads\" \"Avoid Gates\").\n",
      "\n",
      "Location \"421027779\" in \"Facilities\" is on a soft-restricted network element.\n",
      "Network elements with avoid-restrictions are traversed in the output (restriction attribute names: \"Avoid Gates\").\n",
      "\n",
      "Location \"530610523011\" in \"Incidents\" is on a soft-restricted network element.\n",
      "Location \"421027779\" in \"Facilities\" is on a soft-restricted network element.\n",
      "Network elements with avoid-restrictions are traversed in the output (restriction attribute names: \"Avoid Private Roads\").\n",
      "\n",
      "Location \"530610535052\" in \"Incidents\" is on a soft-restricted network element.\n",
      "Location \"530610536021\" in \"Incidents\" is on a soft-restricted network element.\n",
      "Location \"421027779\" in \"Facilities\" is on a soft-restricted network element.\n",
      "Network elements with avoid-restrictions are traversed in the output (restriction attribute names: \"Avoid Private Roads\").\n",
      "\n"
     ]
    },
    {
     "name": "stdout",
     "output_type": "stream",
     "text": [
      "success - 4061\n"
     ]
    },
    {
     "name": "stderr",
     "output_type": "stream",
     "text": [
      "Location \"421027779\" in \"Facilities\" is on a soft-restricted network element.\n",
      "\n",
      "Location \"530330219063\" in \"Incidents\" is on a soft-restricted network element.\n",
      "Location \"421027779\" in \"Facilities\" is on a soft-restricted network element.\n",
      "Network elements with avoid-restrictions are traversed in the output (restriction attribute names: \"Avoid Private Roads\" \"Avoid Gates\").\n",
      "\n",
      "Location \"421027779\" in \"Facilities\" is on a soft-restricted network element.\n",
      "Network elements with avoid-restrictions are traversed in the output (restriction attribute names: \"Avoid Gates\").\n",
      "\n",
      "Location \"530610523011\" in \"Incidents\" is on a soft-restricted network element.\n",
      "Location \"421027779\" in \"Facilities\" is on a soft-restricted network element.\n",
      "Network elements with avoid-restrictions are traversed in the output (restriction attribute names: \"Avoid Private Roads\").\n",
      "\n",
      "Location \"530610535052\" in \"Incidents\" is on a soft-restricted network element.\n",
      "Location \"530610536021\" in \"Incidents\" is on a soft-restricted network element.\n",
      "Location \"421027779\" in \"Facilities\" is on a soft-restricted network element.\n",
      "Network elements with avoid-restrictions are traversed in the output (restriction attribute names: \"Avoid Private Roads\").\n",
      "\n"
     ]
    },
    {
     "name": "stdout",
     "output_type": "stream",
     "text": [
      "success - 4062\n"
     ]
    },
    {
     "name": "stderr",
     "output_type": "stream",
     "text": [
      "Location \"421027779\" in \"Facilities\" is on a soft-restricted network element.\n",
      "\n",
      "Location \"530330219063\" in \"Incidents\" is on a soft-restricted network element.\n",
      "Location \"421027779\" in \"Facilities\" is on a soft-restricted network element.\n",
      "Network elements with avoid-restrictions are traversed in the output (restriction attribute names: \"Avoid Private Roads\" \"Avoid Gates\").\n",
      "\n",
      "Location \"421027779\" in \"Facilities\" is on a soft-restricted network element.\n",
      "Network elements with avoid-restrictions are traversed in the output (restriction attribute names: \"Avoid Gates\").\n",
      "\n",
      "Location \"530610523011\" in \"Incidents\" is on a soft-restricted network element.\n",
      "Location \"421027779\" in \"Facilities\" is on a soft-restricted network element.\n",
      "Network elements with avoid-restrictions are traversed in the output (restriction attribute names: \"Avoid Private Roads\").\n",
      "\n",
      "Location \"530610535052\" in \"Incidents\" is on a soft-restricted network element.\n",
      "Location \"530610536021\" in \"Incidents\" is on a soft-restricted network element.\n",
      "Location \"421027779\" in \"Facilities\" is on a soft-restricted network element.\n",
      "Network elements with avoid-restrictions are traversed in the output (restriction attribute names: \"Avoid Private Roads\").\n",
      "\n"
     ]
    },
    {
     "name": "stdout",
     "output_type": "stream",
     "text": [
      "success - 4066\n"
     ]
    },
    {
     "name": "stderr",
     "output_type": "stream",
     "text": [
      "Location \"421027779\" in \"Facilities\" is on a soft-restricted network element.\n",
      "\n",
      "Location \"530330219063\" in \"Incidents\" is on a soft-restricted network element.\n",
      "Location \"421027779\" in \"Facilities\" is on a soft-restricted network element.\n",
      "Network elements with avoid-restrictions are traversed in the output (restriction attribute names: \"Avoid Private Roads\" \"Avoid Gates\").\n",
      "\n",
      "Location \"421027779\" in \"Facilities\" is on a soft-restricted network element.\n",
      "Network elements with avoid-restrictions are traversed in the output (restriction attribute names: \"Avoid Gates\").\n",
      "\n",
      "Location \"530610523011\" in \"Incidents\" is on a soft-restricted network element.\n",
      "Location \"421027779\" in \"Facilities\" is on a soft-restricted network element.\n",
      "Network elements with avoid-restrictions are traversed in the output (restriction attribute names: \"Avoid Private Roads\").\n",
      "\n",
      "Location \"530610535052\" in \"Incidents\" is on a soft-restricted network element.\n",
      "Location \"530610536021\" in \"Incidents\" is on a soft-restricted network element.\n",
      "Location \"421027779\" in \"Facilities\" is on a soft-restricted network element.\n",
      "Network elements with avoid-restrictions are traversed in the output (restriction attribute names: \"Avoid Private Roads\").\n",
      "\n"
     ]
    },
    {
     "name": "stdout",
     "output_type": "stream",
     "text": [
      "success - 4067\n"
     ]
    },
    {
     "name": "stderr",
     "output_type": "stream",
     "text": [
      "Location \"421027779\" in \"Facilities\" is on a soft-restricted network element.\n",
      "\n",
      "Location \"530330219063\" in \"Incidents\" is on a soft-restricted network element.\n",
      "Location \"421027779\" in \"Facilities\" is on a soft-restricted network element.\n",
      "Network elements with avoid-restrictions are traversed in the output (restriction attribute names: \"Avoid Private Roads\" \"Avoid Gates\").\n",
      "\n",
      "Location \"421027779\" in \"Facilities\" is on a soft-restricted network element.\n",
      "Network elements with avoid-restrictions are traversed in the output (restriction attribute names: \"Avoid Gates\").\n",
      "\n",
      "Location \"530610523011\" in \"Incidents\" is on a soft-restricted network element.\n",
      "Location \"421027779\" in \"Facilities\" is on a soft-restricted network element.\n",
      "Network elements with avoid-restrictions are traversed in the output (restriction attribute names: \"Avoid Private Roads\").\n",
      "\n",
      "Location \"530610535052\" in \"Incidents\" is on a soft-restricted network element.\n",
      "Location \"530610536021\" in \"Incidents\" is on a soft-restricted network element.\n",
      "Location \"421027779\" in \"Facilities\" is on a soft-restricted network element.\n",
      "Network elements with avoid-restrictions are traversed in the output (restriction attribute names: \"Avoid Private Roads\").\n",
      "\n"
     ]
    },
    {
     "name": "stdout",
     "output_type": "stream",
     "text": [
      "success - 4068\n"
     ]
    },
    {
     "name": "stderr",
     "output_type": "stream",
     "text": [
      "Location \"421027779\" in \"Facilities\" is on a soft-restricted network element.\n",
      "\n",
      "Location \"530330219063\" in \"Incidents\" is on a soft-restricted network element.\n",
      "Location \"421027779\" in \"Facilities\" is on a soft-restricted network element.\n",
      "Network elements with avoid-restrictions are traversed in the output (restriction attribute names: \"Avoid Private Roads\" \"Avoid Gates\").\n",
      "\n",
      "Location \"421027779\" in \"Facilities\" is on a soft-restricted network element.\n",
      "Network elements with avoid-restrictions are traversed in the output (restriction attribute names: \"Avoid Gates\").\n",
      "\n",
      "Location \"530610523011\" in \"Incidents\" is on a soft-restricted network element.\n",
      "Location \"421027779\" in \"Facilities\" is on a soft-restricted network element.\n",
      "Network elements with avoid-restrictions are traversed in the output (restriction attribute names: \"Avoid Private Roads\").\n",
      "\n",
      "Location \"530610535052\" in \"Incidents\" is on a soft-restricted network element.\n",
      "Location \"530610536021\" in \"Incidents\" is on a soft-restricted network element.\n",
      "Location \"421027779\" in \"Facilities\" is on a soft-restricted network element.\n",
      "Network elements with avoid-restrictions are traversed in the output (restriction attribute names: \"Avoid Private Roads\").\n",
      "\n"
     ]
    },
    {
     "name": "stdout",
     "output_type": "stream",
     "text": [
      "success - 4070\n"
     ]
    },
    {
     "name": "stderr",
     "output_type": "stream",
     "text": [
      "Location \"421027779\" in \"Facilities\" is on a soft-restricted network element.\n",
      "\n",
      "Location \"530330219063\" in \"Incidents\" is on a soft-restricted network element.\n",
      "Location \"421027779\" in \"Facilities\" is on a soft-restricted network element.\n",
      "Network elements with avoid-restrictions are traversed in the output (restriction attribute names: \"Avoid Private Roads\" \"Avoid Gates\").\n",
      "\n",
      "Location \"421027779\" in \"Facilities\" is on a soft-restricted network element.\n",
      "Network elements with avoid-restrictions are traversed in the output (restriction attribute names: \"Avoid Gates\").\n",
      "\n",
      "Location \"530610523011\" in \"Incidents\" is on a soft-restricted network element.\n",
      "Location \"421027779\" in \"Facilities\" is on a soft-restricted network element.\n",
      "Network elements with avoid-restrictions are traversed in the output (restriction attribute names: \"Avoid Private Roads\").\n",
      "\n",
      "Location \"530610535052\" in \"Incidents\" is on a soft-restricted network element.\n",
      "Location \"530610536021\" in \"Incidents\" is on a soft-restricted network element.\n",
      "Location \"421027779\" in \"Facilities\" is on a soft-restricted network element.\n",
      "Network elements with avoid-restrictions are traversed in the output (restriction attribute names: \"Avoid Private Roads\").\n",
      "\n"
     ]
    },
    {
     "name": "stdout",
     "output_type": "stream",
     "text": [
      "success - 4072\n"
     ]
    },
    {
     "name": "stderr",
     "output_type": "stream",
     "text": [
      "Location \"421027779\" in \"Facilities\" is on a soft-restricted network element.\n",
      "\n",
      "Location \"530330219063\" in \"Incidents\" is on a soft-restricted network element.\n",
      "Location \"421027779\" in \"Facilities\" is on a soft-restricted network element.\n",
      "Network elements with avoid-restrictions are traversed in the output (restriction attribute names: \"Avoid Private Roads\" \"Avoid Gates\").\n",
      "\n",
      "Location \"421027779\" in \"Facilities\" is on a soft-restricted network element.\n",
      "Network elements with avoid-restrictions are traversed in the output (restriction attribute names: \"Avoid Gates\").\n",
      "\n",
      "Location \"530610523011\" in \"Incidents\" is on a soft-restricted network element.\n",
      "Location \"421027779\" in \"Facilities\" is on a soft-restricted network element.\n",
      "Network elements with avoid-restrictions are traversed in the output (restriction attribute names: \"Avoid Private Roads\").\n",
      "\n",
      "Location \"530610535052\" in \"Incidents\" is on a soft-restricted network element.\n",
      "Location \"530610536021\" in \"Incidents\" is on a soft-restricted network element.\n",
      "Location \"421027779\" in \"Facilities\" is on a soft-restricted network element.\n",
      "Network elements with avoid-restrictions are traversed in the output (restriction attribute names: \"Avoid Private Roads\").\n",
      "\n"
     ]
    },
    {
     "name": "stdout",
     "output_type": "stream",
     "text": [
      "success - 4073\n"
     ]
    },
    {
     "name": "stderr",
     "output_type": "stream",
     "text": [
      "Location \"421027779\" in \"Facilities\" is on a soft-restricted network element.\n",
      "\n",
      "Location \"530330219063\" in \"Incidents\" is on a soft-restricted network element.\n",
      "Location \"421027779\" in \"Facilities\" is on a soft-restricted network element.\n",
      "Network elements with avoid-restrictions are traversed in the output (restriction attribute names: \"Avoid Private Roads\" \"Avoid Gates\").\n",
      "\n",
      "Location \"421027779\" in \"Facilities\" is on a soft-restricted network element.\n",
      "Network elements with avoid-restrictions are traversed in the output (restriction attribute names: \"Avoid Gates\").\n",
      "\n",
      "Location \"530610523011\" in \"Incidents\" is on a soft-restricted network element.\n",
      "Location \"421027779\" in \"Facilities\" is on a soft-restricted network element.\n",
      "Network elements with avoid-restrictions are traversed in the output (restriction attribute names: \"Avoid Private Roads\").\n",
      "\n",
      "Location \"530610535052\" in \"Incidents\" is on a soft-restricted network element.\n",
      "Location \"530610536021\" in \"Incidents\" is on a soft-restricted network element.\n",
      "Location \"421027779\" in \"Facilities\" is on a soft-restricted network element.\n",
      "Network elements with avoid-restrictions are traversed in the output (restriction attribute names: \"Avoid Private Roads\").\n",
      "\n"
     ]
    },
    {
     "name": "stdout",
     "output_type": "stream",
     "text": [
      "success - 4074\n"
     ]
    },
    {
     "name": "stderr",
     "output_type": "stream",
     "text": [
      "Location \"421027779\" in \"Facilities\" is on a soft-restricted network element.\n",
      "\n",
      "Location \"530330219063\" in \"Incidents\" is on a soft-restricted network element.\n",
      "Location \"421027779\" in \"Facilities\" is on a soft-restricted network element.\n",
      "Network elements with avoid-restrictions are traversed in the output (restriction attribute names: \"Avoid Private Roads\" \"Avoid Gates\").\n",
      "\n",
      "Location \"421027779\" in \"Facilities\" is on a soft-restricted network element.\n",
      "Network elements with avoid-restrictions are traversed in the output (restriction attribute names: \"Avoid Gates\").\n",
      "\n",
      "Location \"530610523011\" in \"Incidents\" is on a soft-restricted network element.\n",
      "Location \"421027779\" in \"Facilities\" is on a soft-restricted network element.\n",
      "Network elements with avoid-restrictions are traversed in the output (restriction attribute names: \"Avoid Private Roads\").\n",
      "\n",
      "Location \"530610535052\" in \"Incidents\" is on a soft-restricted network element.\n",
      "Location \"530610536021\" in \"Incidents\" is on a soft-restricted network element.\n",
      "Location \"421027779\" in \"Facilities\" is on a soft-restricted network element.\n",
      "Network elements with avoid-restrictions are traversed in the output (restriction attribute names: \"Avoid Private Roads\").\n",
      "\n"
     ]
    },
    {
     "name": "stdout",
     "output_type": "stream",
     "text": [
      "success - 4075\n"
     ]
    },
    {
     "name": "stderr",
     "output_type": "stream",
     "text": [
      "Location \"421027779\" in \"Facilities\" is on a soft-restricted network element.\n",
      "\n",
      "Location \"530330219063\" in \"Incidents\" is on a soft-restricted network element.\n",
      "Location \"421027779\" in \"Facilities\" is on a soft-restricted network element.\n",
      "Network elements with avoid-restrictions are traversed in the output (restriction attribute names: \"Avoid Private Roads\" \"Avoid Gates\").\n",
      "\n",
      "Location \"421027779\" in \"Facilities\" is on a soft-restricted network element.\n",
      "Network elements with avoid-restrictions are traversed in the output (restriction attribute names: \"Avoid Gates\").\n",
      "\n",
      "Location \"530610523011\" in \"Incidents\" is on a soft-restricted network element.\n",
      "Location \"421027779\" in \"Facilities\" is on a soft-restricted network element.\n",
      "Network elements with avoid-restrictions are traversed in the output (restriction attribute names: \"Avoid Private Roads\").\n",
      "\n",
      "Location \"530610535052\" in \"Incidents\" is on a soft-restricted network element.\n",
      "Location \"530610536021\" in \"Incidents\" is on a soft-restricted network element.\n",
      "Location \"421027779\" in \"Facilities\" is on a soft-restricted network element.\n",
      "Network elements with avoid-restrictions are traversed in the output (restriction attribute names: \"Avoid Private Roads\").\n",
      "\n"
     ]
    },
    {
     "name": "stdout",
     "output_type": "stream",
     "text": [
      "success - 4076\n"
     ]
    },
    {
     "name": "stderr",
     "output_type": "stream",
     "text": [
      "Location \"421027779\" in \"Facilities\" is on a soft-restricted network element.\n",
      "\n",
      "Location \"530330219063\" in \"Incidents\" is on a soft-restricted network element.\n",
      "Location \"421027779\" in \"Facilities\" is on a soft-restricted network element.\n",
      "Network elements with avoid-restrictions are traversed in the output (restriction attribute names: \"Avoid Private Roads\" \"Avoid Gates\").\n",
      "\n",
      "Location \"421027779\" in \"Facilities\" is on a soft-restricted network element.\n",
      "Network elements with avoid-restrictions are traversed in the output (restriction attribute names: \"Avoid Gates\").\n",
      "\n",
      "Location \"530610523011\" in \"Incidents\" is on a soft-restricted network element.\n",
      "Location \"421027779\" in \"Facilities\" is on a soft-restricted network element.\n",
      "Network elements with avoid-restrictions are traversed in the output (restriction attribute names: \"Avoid Private Roads\").\n",
      "\n",
      "Location \"530610535052\" in \"Incidents\" is on a soft-restricted network element.\n",
      "Location \"530610536021\" in \"Incidents\" is on a soft-restricted network element.\n",
      "Location \"421027779\" in \"Facilities\" is on a soft-restricted network element.\n",
      "Network elements with avoid-restrictions are traversed in the output (restriction attribute names: \"Avoid Private Roads\").\n",
      "\n"
     ]
    },
    {
     "name": "stdout",
     "output_type": "stream",
     "text": [
      "success - 4077\n"
     ]
    },
    {
     "name": "stderr",
     "output_type": "stream",
     "text": [
      "Location \"421027779\" in \"Facilities\" is on a soft-restricted network element.\n",
      "\n",
      "Location \"530330219063\" in \"Incidents\" is on a soft-restricted network element.\n",
      "Location \"421027779\" in \"Facilities\" is on a soft-restricted network element.\n",
      "Network elements with avoid-restrictions are traversed in the output (restriction attribute names: \"Avoid Private Roads\" \"Avoid Gates\").\n",
      "\n",
      "Location \"421027779\" in \"Facilities\" is on a soft-restricted network element.\n",
      "Network elements with avoid-restrictions are traversed in the output (restriction attribute names: \"Avoid Gates\").\n",
      "\n",
      "Location \"530610523011\" in \"Incidents\" is on a soft-restricted network element.\n",
      "Location \"421027779\" in \"Facilities\" is on a soft-restricted network element.\n",
      "Network elements with avoid-restrictions are traversed in the output (restriction attribute names: \"Avoid Private Roads\").\n",
      "\n",
      "Location \"530610535052\" in \"Incidents\" is on a soft-restricted network element.\n",
      "Location \"530610536021\" in \"Incidents\" is on a soft-restricted network element.\n",
      "Location \"421027779\" in \"Facilities\" is on a soft-restricted network element.\n",
      "Network elements with avoid-restrictions are traversed in the output (restriction attribute names: \"Avoid Private Roads\").\n",
      "\n"
     ]
    },
    {
     "name": "stdout",
     "output_type": "stream",
     "text": [
      "success - 4080\n"
     ]
    },
    {
     "name": "stderr",
     "output_type": "stream",
     "text": [
      "Location \"421027779\" in \"Facilities\" is on a soft-restricted network element.\n",
      "\n",
      "Location \"530330219063\" in \"Incidents\" is on a soft-restricted network element.\n",
      "Location \"421027779\" in \"Facilities\" is on a soft-restricted network element.\n",
      "Network elements with avoid-restrictions are traversed in the output (restriction attribute names: \"Avoid Private Roads\" \"Avoid Gates\").\n",
      "\n",
      "Location \"421027779\" in \"Facilities\" is on a soft-restricted network element.\n",
      "Network elements with avoid-restrictions are traversed in the output (restriction attribute names: \"Avoid Gates\").\n",
      "\n",
      "Location \"530610523011\" in \"Incidents\" is on a soft-restricted network element.\n",
      "Location \"421027779\" in \"Facilities\" is on a soft-restricted network element.\n",
      "Network elements with avoid-restrictions are traversed in the output (restriction attribute names: \"Avoid Private Roads\").\n",
      "\n",
      "Location \"530610535052\" in \"Incidents\" is on a soft-restricted network element.\n",
      "Location \"530610536021\" in \"Incidents\" is on a soft-restricted network element.\n",
      "Location \"421027779\" in \"Facilities\" is on a soft-restricted network element.\n",
      "Network elements with avoid-restrictions are traversed in the output (restriction attribute names: \"Avoid Private Roads\").\n",
      "\n"
     ]
    },
    {
     "name": "stdout",
     "output_type": "stream",
     "text": [
      "success - 4081\n"
     ]
    },
    {
     "name": "stderr",
     "output_type": "stream",
     "text": [
      "Location \"421027779\" in \"Facilities\" is on a soft-restricted network element.\n",
      "\n",
      "Location \"530330219063\" in \"Incidents\" is on a soft-restricted network element.\n",
      "Location \"421027779\" in \"Facilities\" is on a soft-restricted network element.\n",
      "Network elements with avoid-restrictions are traversed in the output (restriction attribute names: \"Avoid Private Roads\" \"Avoid Gates\").\n",
      "\n",
      "Location \"421027779\" in \"Facilities\" is on a soft-restricted network element.\n",
      "Network elements with avoid-restrictions are traversed in the output (restriction attribute names: \"Avoid Gates\").\n",
      "\n",
      "Location \"530610523011\" in \"Incidents\" is on a soft-restricted network element.\n",
      "Location \"421027779\" in \"Facilities\" is on a soft-restricted network element.\n",
      "Network elements with avoid-restrictions are traversed in the output (restriction attribute names: \"Avoid Private Roads\").\n",
      "\n",
      "Location \"530610535052\" in \"Incidents\" is on a soft-restricted network element.\n",
      "Location \"530610536021\" in \"Incidents\" is on a soft-restricted network element.\n",
      "Location \"421027779\" in \"Facilities\" is on a soft-restricted network element.\n",
      "Network elements with avoid-restrictions are traversed in the output (restriction attribute names: \"Avoid Private Roads\").\n",
      "\n"
     ]
    },
    {
     "name": "stdout",
     "output_type": "stream",
     "text": [
      "success - 4082\n"
     ]
    },
    {
     "name": "stderr",
     "output_type": "stream",
     "text": [
      "Location \"421027779\" in \"Facilities\" is on a soft-restricted network element.\n",
      "\n",
      "Location \"530330219063\" in \"Incidents\" is on a soft-restricted network element.\n",
      "Location \"421027779\" in \"Facilities\" is on a soft-restricted network element.\n",
      "Network elements with avoid-restrictions are traversed in the output (restriction attribute names: \"Avoid Private Roads\" \"Avoid Gates\").\n",
      "\n",
      "Location \"421027779\" in \"Facilities\" is on a soft-restricted network element.\n",
      "Network elements with avoid-restrictions are traversed in the output (restriction attribute names: \"Avoid Gates\").\n",
      "\n",
      "Location \"530610523011\" in \"Incidents\" is on a soft-restricted network element.\n",
      "Location \"421027779\" in \"Facilities\" is on a soft-restricted network element.\n",
      "Network elements with avoid-restrictions are traversed in the output (restriction attribute names: \"Avoid Private Roads\").\n",
      "\n",
      "Location \"530610535052\" in \"Incidents\" is on a soft-restricted network element.\n",
      "Location \"530610536021\" in \"Incidents\" is on a soft-restricted network element.\n",
      "Location \"421027779\" in \"Facilities\" is on a soft-restricted network element.\n",
      "Network elements with avoid-restrictions are traversed in the output (restriction attribute names: \"Avoid Private Roads\").\n",
      "\n"
     ]
    },
    {
     "name": "stdout",
     "output_type": "stream",
     "text": [
      "success - 4083\n"
     ]
    },
    {
     "name": "stderr",
     "output_type": "stream",
     "text": [
      "Location \"421027779\" in \"Facilities\" is on a soft-restricted network element.\n",
      "\n",
      "Location \"530330219063\" in \"Incidents\" is on a soft-restricted network element.\n",
      "Location \"421027779\" in \"Facilities\" is on a soft-restricted network element.\n",
      "Network elements with avoid-restrictions are traversed in the output (restriction attribute names: \"Avoid Private Roads\" \"Avoid Gates\").\n",
      "\n",
      "Location \"421027779\" in \"Facilities\" is on a soft-restricted network element.\n",
      "Network elements with avoid-restrictions are traversed in the output (restriction attribute names: \"Avoid Gates\").\n",
      "\n",
      "Location \"530610523011\" in \"Incidents\" is on a soft-restricted network element.\n",
      "Location \"421027779\" in \"Facilities\" is on a soft-restricted network element.\n",
      "Network elements with avoid-restrictions are traversed in the output (restriction attribute names: \"Avoid Private Roads\").\n",
      "\n",
      "Location \"530610535052\" in \"Incidents\" is on a soft-restricted network element.\n",
      "Location \"530610536021\" in \"Incidents\" is on a soft-restricted network element.\n",
      "Location \"421027779\" in \"Facilities\" is on a soft-restricted network element.\n",
      "Network elements with avoid-restrictions are traversed in the output (restriction attribute names: \"Avoid Private Roads\").\n",
      "\n"
     ]
    },
    {
     "name": "stdout",
     "output_type": "stream",
     "text": [
      "success - 4084\n"
     ]
    },
    {
     "name": "stderr",
     "output_type": "stream",
     "text": [
      "Location \"421027779\" in \"Facilities\" is on a soft-restricted network element.\n",
      "\n",
      "Location \"530330219063\" in \"Incidents\" is on a soft-restricted network element.\n",
      "Location \"421027779\" in \"Facilities\" is on a soft-restricted network element.\n",
      "Network elements with avoid-restrictions are traversed in the output (restriction attribute names: \"Avoid Private Roads\" \"Avoid Gates\").\n",
      "\n",
      "Location \"421027779\" in \"Facilities\" is on a soft-restricted network element.\n",
      "Network elements with avoid-restrictions are traversed in the output (restriction attribute names: \"Avoid Gates\").\n",
      "\n",
      "Location \"530610523011\" in \"Incidents\" is on a soft-restricted network element.\n",
      "Location \"421027779\" in \"Facilities\" is on a soft-restricted network element.\n",
      "Network elements with avoid-restrictions are traversed in the output (restriction attribute names: \"Avoid Private Roads\").\n",
      "\n",
      "Location \"530610535052\" in \"Incidents\" is on a soft-restricted network element.\n",
      "Location \"530610536021\" in \"Incidents\" is on a soft-restricted network element.\n",
      "Location \"421027779\" in \"Facilities\" is on a soft-restricted network element.\n",
      "Network elements with avoid-restrictions are traversed in the output (restriction attribute names: \"Avoid Private Roads\").\n",
      "\n"
     ]
    },
    {
     "name": "stdout",
     "output_type": "stream",
     "text": [
      "success - 4085\n"
     ]
    },
    {
     "name": "stderr",
     "output_type": "stream",
     "text": [
      "Location \"421027779\" in \"Facilities\" is on a soft-restricted network element.\n",
      "\n",
      "Location \"530330219063\" in \"Incidents\" is on a soft-restricted network element.\n",
      "Location \"421027779\" in \"Facilities\" is on a soft-restricted network element.\n",
      "Network elements with avoid-restrictions are traversed in the output (restriction attribute names: \"Avoid Private Roads\" \"Avoid Gates\").\n",
      "\n",
      "Location \"421027779\" in \"Facilities\" is on a soft-restricted network element.\n",
      "Network elements with avoid-restrictions are traversed in the output (restriction attribute names: \"Avoid Gates\").\n",
      "\n",
      "Location \"530610523011\" in \"Incidents\" is on a soft-restricted network element.\n",
      "Location \"421027779\" in \"Facilities\" is on a soft-restricted network element.\n",
      "Network elements with avoid-restrictions are traversed in the output (restriction attribute names: \"Avoid Private Roads\").\n",
      "\n",
      "Location \"530610535052\" in \"Incidents\" is on a soft-restricted network element.\n",
      "Location \"530610536021\" in \"Incidents\" is on a soft-restricted network element.\n",
      "Location \"421027779\" in \"Facilities\" is on a soft-restricted network element.\n",
      "Network elements with avoid-restrictions are traversed in the output (restriction attribute names: \"Avoid Private Roads\").\n",
      "\n"
     ]
    },
    {
     "name": "stdout",
     "output_type": "stream",
     "text": [
      "success - 4086\n"
     ]
    },
    {
     "name": "stderr",
     "output_type": "stream",
     "text": [
      "Location \"421027779\" in \"Facilities\" is on a soft-restricted network element.\n",
      "\n",
      "Location \"530330219063\" in \"Incidents\" is on a soft-restricted network element.\n",
      "Location \"421027779\" in \"Facilities\" is on a soft-restricted network element.\n",
      "Network elements with avoid-restrictions are traversed in the output (restriction attribute names: \"Avoid Private Roads\" \"Avoid Gates\").\n",
      "\n",
      "Location \"421027779\" in \"Facilities\" is on a soft-restricted network element.\n",
      "Network elements with avoid-restrictions are traversed in the output (restriction attribute names: \"Avoid Gates\").\n",
      "\n",
      "Location \"530610523011\" in \"Incidents\" is on a soft-restricted network element.\n",
      "Location \"421027779\" in \"Facilities\" is on a soft-restricted network element.\n",
      "Network elements with avoid-restrictions are traversed in the output (restriction attribute names: \"Avoid Private Roads\").\n",
      "\n",
      "Location \"530610535052\" in \"Incidents\" is on a soft-restricted network element.\n",
      "Location \"530610536021\" in \"Incidents\" is on a soft-restricted network element.\n",
      "Location \"421027779\" in \"Facilities\" is on a soft-restricted network element.\n",
      "Network elements with avoid-restrictions are traversed in the output (restriction attribute names: \"Avoid Private Roads\").\n",
      "\n"
     ]
    },
    {
     "name": "stdout",
     "output_type": "stream",
     "text": [
      "success - 4087\n"
     ]
    },
    {
     "name": "stderr",
     "output_type": "stream",
     "text": [
      "Location \"421027779\" in \"Facilities\" is on a soft-restricted network element.\n",
      "\n",
      "Location \"530330219063\" in \"Incidents\" is on a soft-restricted network element.\n",
      "Location \"421027779\" in \"Facilities\" is on a soft-restricted network element.\n",
      "Network elements with avoid-restrictions are traversed in the output (restriction attribute names: \"Avoid Private Roads\" \"Avoid Gates\").\n",
      "\n",
      "Location \"421027779\" in \"Facilities\" is on a soft-restricted network element.\n",
      "Network elements with avoid-restrictions are traversed in the output (restriction attribute names: \"Avoid Gates\").\n",
      "\n",
      "Location \"530610523011\" in \"Incidents\" is on a soft-restricted network element.\n",
      "Location \"421027779\" in \"Facilities\" is on a soft-restricted network element.\n",
      "Network elements with avoid-restrictions are traversed in the output (restriction attribute names: \"Avoid Private Roads\").\n",
      "\n",
      "Location \"530610535052\" in \"Incidents\" is on a soft-restricted network element.\n",
      "Location \"530610536021\" in \"Incidents\" is on a soft-restricted network element.\n",
      "Location \"421027779\" in \"Facilities\" is on a soft-restricted network element.\n",
      "Network elements with avoid-restrictions are traversed in the output (restriction attribute names: \"Avoid Private Roads\").\n",
      "\n"
     ]
    },
    {
     "name": "stdout",
     "output_type": "stream",
     "text": [
      "success - 4112\n"
     ]
    },
    {
     "name": "stderr",
     "output_type": "stream",
     "text": [
      "Location \"421027779\" in \"Facilities\" is on a soft-restricted network element.\n",
      "\n",
      "Location \"530330219063\" in \"Incidents\" is on a soft-restricted network element.\n",
      "Location \"421027779\" in \"Facilities\" is on a soft-restricted network element.\n",
      "Network elements with avoid-restrictions are traversed in the output (restriction attribute names: \"Avoid Private Roads\" \"Avoid Gates\").\n",
      "\n",
      "Location \"421027779\" in \"Facilities\" is on a soft-restricted network element.\n",
      "Network elements with avoid-restrictions are traversed in the output (restriction attribute names: \"Avoid Gates\").\n",
      "\n",
      "Location \"530610523011\" in \"Incidents\" is on a soft-restricted network element.\n",
      "Location \"421027779\" in \"Facilities\" is on a soft-restricted network element.\n",
      "Network elements with avoid-restrictions are traversed in the output (restriction attribute names: \"Avoid Private Roads\").\n",
      "\n",
      "Location \"530610535052\" in \"Incidents\" is on a soft-restricted network element.\n",
      "Location \"530610536021\" in \"Incidents\" is on a soft-restricted network element.\n",
      "Location \"421027779\" in \"Facilities\" is on a soft-restricted network element.\n",
      "Network elements with avoid-restrictions are traversed in the output (restriction attribute names: \"Avoid Private Roads\").\n",
      "\n"
     ]
    },
    {
     "name": "stdout",
     "output_type": "stream",
     "text": [
      "success - 4113\n"
     ]
    },
    {
     "name": "stderr",
     "output_type": "stream",
     "text": [
      "Location \"421027779\" in \"Facilities\" is on a soft-restricted network element.\n",
      "\n",
      "Location \"530330219063\" in \"Incidents\" is on a soft-restricted network element.\n",
      "Location \"421027779\" in \"Facilities\" is on a soft-restricted network element.\n",
      "Network elements with avoid-restrictions are traversed in the output (restriction attribute names: \"Avoid Private Roads\" \"Avoid Gates\").\n",
      "\n",
      "Location \"421027779\" in \"Facilities\" is on a soft-restricted network element.\n",
      "Network elements with avoid-restrictions are traversed in the output (restriction attribute names: \"Avoid Gates\").\n",
      "\n",
      "Location \"530610523011\" in \"Incidents\" is on a soft-restricted network element.\n",
      "Location \"421027779\" in \"Facilities\" is on a soft-restricted network element.\n",
      "Network elements with avoid-restrictions are traversed in the output (restriction attribute names: \"Avoid Private Roads\").\n",
      "\n",
      "Location \"530610535052\" in \"Incidents\" is on a soft-restricted network element.\n",
      "Location \"530610536021\" in \"Incidents\" is on a soft-restricted network element.\n",
      "Location \"421027779\" in \"Facilities\" is on a soft-restricted network element.\n",
      "Network elements with avoid-restrictions are traversed in the output (restriction attribute names: \"Avoid Private Roads\").\n",
      "\n"
     ]
    },
    {
     "name": "stdout",
     "output_type": "stream",
     "text": [
      "success - 4114\n"
     ]
    },
    {
     "name": "stderr",
     "output_type": "stream",
     "text": [
      "Location \"421027779\" in \"Facilities\" is on a soft-restricted network element.\n",
      "\n",
      "Location \"530330219063\" in \"Incidents\" is on a soft-restricted network element.\n",
      "Location \"421027779\" in \"Facilities\" is on a soft-restricted network element.\n",
      "Network elements with avoid-restrictions are traversed in the output (restriction attribute names: \"Avoid Private Roads\" \"Avoid Gates\").\n",
      "\n",
      "Location \"421027779\" in \"Facilities\" is on a soft-restricted network element.\n",
      "Network elements with avoid-restrictions are traversed in the output (restriction attribute names: \"Avoid Gates\").\n",
      "\n",
      "Location \"530610523011\" in \"Incidents\" is on a soft-restricted network element.\n",
      "Location \"421027779\" in \"Facilities\" is on a soft-restricted network element.\n",
      "Network elements with avoid-restrictions are traversed in the output (restriction attribute names: \"Avoid Private Roads\").\n",
      "\n",
      "Location \"530610535052\" in \"Incidents\" is on a soft-restricted network element.\n",
      "Location \"530610536021\" in \"Incidents\" is on a soft-restricted network element.\n",
      "Location \"421027779\" in \"Facilities\" is on a soft-restricted network element.\n",
      "Network elements with avoid-restrictions are traversed in the output (restriction attribute names: \"Avoid Private Roads\").\n",
      "\n"
     ]
    },
    {
     "name": "stdout",
     "output_type": "stream",
     "text": [
      "success - 4115\n"
     ]
    },
    {
     "name": "stderr",
     "output_type": "stream",
     "text": [
      "Location \"421027779\" in \"Facilities\" is on a soft-restricted network element.\n",
      "\n",
      "Location \"530330219063\" in \"Incidents\" is on a soft-restricted network element.\n",
      "Location \"421027779\" in \"Facilities\" is on a soft-restricted network element.\n",
      "Network elements with avoid-restrictions are traversed in the output (restriction attribute names: \"Avoid Private Roads\" \"Avoid Gates\").\n",
      "\n",
      "Location \"421027779\" in \"Facilities\" is on a soft-restricted network element.\n",
      "Network elements with avoid-restrictions are traversed in the output (restriction attribute names: \"Avoid Gates\").\n",
      "\n",
      "Location \"530610523011\" in \"Incidents\" is on a soft-restricted network element.\n",
      "Location \"421027779\" in \"Facilities\" is on a soft-restricted network element.\n",
      "Network elements with avoid-restrictions are traversed in the output (restriction attribute names: \"Avoid Private Roads\").\n",
      "\n",
      "Location \"530610535052\" in \"Incidents\" is on a soft-restricted network element.\n",
      "Location \"530610536021\" in \"Incidents\" is on a soft-restricted network element.\n",
      "Location \"421027779\" in \"Facilities\" is on a soft-restricted network element.\n",
      "Network elements with avoid-restrictions are traversed in the output (restriction attribute names: \"Avoid Private Roads\").\n",
      "\n"
     ]
    },
    {
     "name": "stdout",
     "output_type": "stream",
     "text": [
      "success - 4116\n"
     ]
    },
    {
     "name": "stderr",
     "output_type": "stream",
     "text": [
      "Location \"421027779\" in \"Facilities\" is on a soft-restricted network element.\n",
      "\n",
      "Location \"530330219063\" in \"Incidents\" is on a soft-restricted network element.\n",
      "Location \"421027779\" in \"Facilities\" is on a soft-restricted network element.\n",
      "Network elements with avoid-restrictions are traversed in the output (restriction attribute names: \"Avoid Private Roads\" \"Avoid Gates\").\n",
      "\n",
      "Location \"421027779\" in \"Facilities\" is on a soft-restricted network element.\n",
      "Network elements with avoid-restrictions are traversed in the output (restriction attribute names: \"Avoid Gates\").\n",
      "\n",
      "Location \"530610523011\" in \"Incidents\" is on a soft-restricted network element.\n",
      "Location \"421027779\" in \"Facilities\" is on a soft-restricted network element.\n",
      "Network elements with avoid-restrictions are traversed in the output (restriction attribute names: \"Avoid Private Roads\").\n",
      "\n",
      "Location \"530610535052\" in \"Incidents\" is on a soft-restricted network element.\n",
      "Location \"530610536021\" in \"Incidents\" is on a soft-restricted network element.\n",
      "Location \"421027779\" in \"Facilities\" is on a soft-restricted network element.\n",
      "Network elements with avoid-restrictions are traversed in the output (restriction attribute names: \"Avoid Private Roads\").\n",
      "\n"
     ]
    },
    {
     "name": "stdout",
     "output_type": "stream",
     "text": [
      "success - 4117\n"
     ]
    },
    {
     "name": "stderr",
     "output_type": "stream",
     "text": [
      "Location \"421027779\" in \"Facilities\" is on a soft-restricted network element.\n",
      "\n",
      "Location \"530330219063\" in \"Incidents\" is on a soft-restricted network element.\n",
      "Location \"421027779\" in \"Facilities\" is on a soft-restricted network element.\n",
      "Network elements with avoid-restrictions are traversed in the output (restriction attribute names: \"Avoid Private Roads\" \"Avoid Gates\").\n",
      "\n",
      "Location \"421027779\" in \"Facilities\" is on a soft-restricted network element.\n",
      "Network elements with avoid-restrictions are traversed in the output (restriction attribute names: \"Avoid Gates\").\n",
      "\n",
      "Location \"530610523011\" in \"Incidents\" is on a soft-restricted network element.\n",
      "Location \"421027779\" in \"Facilities\" is on a soft-restricted network element.\n",
      "Network elements with avoid-restrictions are traversed in the output (restriction attribute names: \"Avoid Private Roads\").\n",
      "\n",
      "Location \"530610535052\" in \"Incidents\" is on a soft-restricted network element.\n",
      "Location \"530610536021\" in \"Incidents\" is on a soft-restricted network element.\n",
      "Location \"421027779\" in \"Facilities\" is on a soft-restricted network element.\n",
      "Network elements with avoid-restrictions are traversed in the output (restriction attribute names: \"Avoid Private Roads\").\n",
      "\n"
     ]
    },
    {
     "name": "stdout",
     "output_type": "stream",
     "text": [
      "success - 4118\n"
     ]
    },
    {
     "name": "stderr",
     "output_type": "stream",
     "text": [
      "Location \"421027779\" in \"Facilities\" is on a soft-restricted network element.\n",
      "\n",
      "Location \"530330219063\" in \"Incidents\" is on a soft-restricted network element.\n",
      "Location \"421027779\" in \"Facilities\" is on a soft-restricted network element.\n",
      "Network elements with avoid-restrictions are traversed in the output (restriction attribute names: \"Avoid Private Roads\" \"Avoid Gates\").\n",
      "\n",
      "Location \"421027779\" in \"Facilities\" is on a soft-restricted network element.\n",
      "Network elements with avoid-restrictions are traversed in the output (restriction attribute names: \"Avoid Gates\").\n",
      "\n",
      "Location \"530610523011\" in \"Incidents\" is on a soft-restricted network element.\n",
      "Location \"421027779\" in \"Facilities\" is on a soft-restricted network element.\n",
      "Network elements with avoid-restrictions are traversed in the output (restriction attribute names: \"Avoid Private Roads\").\n",
      "\n",
      "Location \"530610535052\" in \"Incidents\" is on a soft-restricted network element.\n",
      "Location \"530610536021\" in \"Incidents\" is on a soft-restricted network element.\n",
      "Location \"421027779\" in \"Facilities\" is on a soft-restricted network element.\n",
      "Network elements with avoid-restrictions are traversed in the output (restriction attribute names: \"Avoid Private Roads\").\n",
      "\n"
     ]
    },
    {
     "name": "stdout",
     "output_type": "stream",
     "text": [
      "success - 4119\n"
     ]
    },
    {
     "name": "stderr",
     "output_type": "stream",
     "text": [
      "Location \"1\" in \"Incidents\" is on a soft-restricted network element.\n",
      "Location \"421027779\" in \"Facilities\" is on a soft-restricted network element.\n",
      "Network elements with avoid-restrictions are traversed in the output (restriction attribute names: \"Avoid Private Roads\").\n",
      "\n",
      "Location \"530330219063\" in \"Incidents\" is on a soft-restricted network element.\n",
      "Location \"421027779\" in \"Facilities\" is on a soft-restricted network element.\n",
      "Location \"1\" in \"Facilities\" is on a soft-restricted network element.\n",
      "Network elements with avoid-restrictions are traversed in the output (restriction attribute names: \"Avoid Private Roads\" \"Avoid Gates\").\n",
      "\n",
      "Location \"421027779\" in \"Facilities\" is on a soft-restricted network element.\n",
      "Location \"1\" in \"Facilities\" is on a soft-restricted network element.\n",
      "Network elements with avoid-restrictions are traversed in the output (restriction attribute names: \"Avoid Gates\").\n",
      "\n",
      "Location \"530610523011\" in \"Incidents\" is on a soft-restricted network element.\n",
      "Location \"421027779\" in \"Facilities\" is on a soft-restricted network element.\n",
      "Location \"1\" in \"Facilities\" is on a soft-restricted network element.\n",
      "Network elements with avoid-restrictions are traversed in the output (restriction attribute names: \"Avoid Private Roads\" \"Avoid Gates\").\n",
      "\n",
      "Location \"530610535052\" in \"Incidents\" is on a soft-restricted network element.\n",
      "Location \"530610536021\" in \"Incidents\" is on a soft-restricted network element.\n",
      "Location \"421027779\" in \"Facilities\" is on a soft-restricted network element.\n",
      "Location \"1\" in \"Facilities\" is on a soft-restricted network element.\n",
      "Network elements with avoid-restrictions are traversed in the output (restriction attribute names: \"Avoid Private Roads\" \"Avoid Gates\").\n",
      "\n"
     ]
    },
    {
     "name": "stdout",
     "output_type": "stream",
     "text": [
      "success - 4120\n"
     ]
    },
    {
     "name": "stderr",
     "output_type": "stream",
     "text": [
      "Location \"421027779\" in \"Facilities\" is on a soft-restricted network element.\n",
      "\n",
      "Location \"530330219063\" in \"Incidents\" is on a soft-restricted network element.\n",
      "Location \"421027779\" in \"Facilities\" is on a soft-restricted network element.\n",
      "Network elements with avoid-restrictions are traversed in the output (restriction attribute names: \"Avoid Private Roads\" \"Avoid Gates\").\n",
      "\n",
      "Location \"421027779\" in \"Facilities\" is on a soft-restricted network element.\n",
      "Network elements with avoid-restrictions are traversed in the output (restriction attribute names: \"Avoid Gates\").\n",
      "\n",
      "Location \"530610523011\" in \"Incidents\" is on a soft-restricted network element.\n",
      "Location \"421027779\" in \"Facilities\" is on a soft-restricted network element.\n",
      "Network elements with avoid-restrictions are traversed in the output (restriction attribute names: \"Avoid Private Roads\").\n",
      "\n",
      "Location \"530610535052\" in \"Incidents\" is on a soft-restricted network element.\n",
      "Location \"530610536021\" in \"Incidents\" is on a soft-restricted network element.\n",
      "Location \"421027779\" in \"Facilities\" is on a soft-restricted network element.\n",
      "Network elements with avoid-restrictions are traversed in the output (restriction attribute names: \"Avoid Private Roads\").\n",
      "\n"
     ]
    },
    {
     "name": "stdout",
     "output_type": "stream",
     "text": [
      "success - 4121\n"
     ]
    },
    {
     "name": "stderr",
     "output_type": "stream",
     "text": [
      "Location \"421027779\" in \"Facilities\" is on a soft-restricted network element.\n",
      "\n",
      "Location \"530330219063\" in \"Incidents\" is on a soft-restricted network element.\n",
      "Location \"421027779\" in \"Facilities\" is on a soft-restricted network element.\n",
      "Network elements with avoid-restrictions are traversed in the output (restriction attribute names: \"Avoid Private Roads\" \"Avoid Gates\").\n",
      "\n",
      "Location \"421027779\" in \"Facilities\" is on a soft-restricted network element.\n",
      "Network elements with avoid-restrictions are traversed in the output (restriction attribute names: \"Avoid Gates\").\n",
      "\n",
      "Location \"530610523011\" in \"Incidents\" is on a soft-restricted network element.\n",
      "Location \"421027779\" in \"Facilities\" is on a soft-restricted network element.\n",
      "Network elements with avoid-restrictions are traversed in the output (restriction attribute names: \"Avoid Private Roads\").\n",
      "\n",
      "Location \"530610535052\" in \"Incidents\" is on a soft-restricted network element.\n",
      "Location \"530610536021\" in \"Incidents\" is on a soft-restricted network element.\n",
      "Location \"421027779\" in \"Facilities\" is on a soft-restricted network element.\n",
      "Network elements with avoid-restrictions are traversed in the output (restriction attribute names: \"Avoid Private Roads\").\n",
      "\n"
     ]
    },
    {
     "name": "stdout",
     "output_type": "stream",
     "text": [
      "success - 4122\n"
     ]
    },
    {
     "name": "stderr",
     "output_type": "stream",
     "text": [
      "Location \"421027779\" in \"Facilities\" is on a soft-restricted network element.\n",
      "\n",
      "Location \"530330219063\" in \"Incidents\" is on a soft-restricted network element.\n",
      "Location \"421027779\" in \"Facilities\" is on a soft-restricted network element.\n",
      "Network elements with avoid-restrictions are traversed in the output (restriction attribute names: \"Avoid Private Roads\" \"Avoid Gates\").\n",
      "\n",
      "Location \"421027779\" in \"Facilities\" is on a soft-restricted network element.\n",
      "Network elements with avoid-restrictions are traversed in the output (restriction attribute names: \"Avoid Gates\").\n",
      "\n",
      "Location \"530610523011\" in \"Incidents\" is on a soft-restricted network element.\n",
      "Location \"421027779\" in \"Facilities\" is on a soft-restricted network element.\n",
      "Network elements with avoid-restrictions are traversed in the output (restriction attribute names: \"Avoid Private Roads\").\n",
      "\n",
      "Location \"530610535052\" in \"Incidents\" is on a soft-restricted network element.\n",
      "Location \"530610536021\" in \"Incidents\" is on a soft-restricted network element.\n",
      "Location \"421027779\" in \"Facilities\" is on a soft-restricted network element.\n",
      "Network elements with avoid-restrictions are traversed in the output (restriction attribute names: \"Avoid Private Roads\").\n",
      "\n"
     ]
    },
    {
     "name": "stdout",
     "output_type": "stream",
     "text": [
      "success - 4123\n"
     ]
    },
    {
     "name": "stderr",
     "output_type": "stream",
     "text": [
      "Location \"421027779\" in \"Facilities\" is on a soft-restricted network element.\n",
      "\n",
      "Location \"530330219063\" in \"Incidents\" is on a soft-restricted network element.\n",
      "Location \"421027779\" in \"Facilities\" is on a soft-restricted network element.\n",
      "Network elements with avoid-restrictions are traversed in the output (restriction attribute names: \"Avoid Private Roads\" \"Avoid Gates\").\n",
      "\n",
      "Location \"421027779\" in \"Facilities\" is on a soft-restricted network element.\n",
      "Network elements with avoid-restrictions are traversed in the output (restriction attribute names: \"Avoid Gates\").\n",
      "\n",
      "Location \"530610523011\" in \"Incidents\" is on a soft-restricted network element.\n",
      "Location \"421027779\" in \"Facilities\" is on a soft-restricted network element.\n",
      "Network elements with avoid-restrictions are traversed in the output (restriction attribute names: \"Avoid Private Roads\").\n",
      "\n",
      "Location \"530610535052\" in \"Incidents\" is on a soft-restricted network element.\n",
      "Location \"530610536021\" in \"Incidents\" is on a soft-restricted network element.\n",
      "Location \"421027779\" in \"Facilities\" is on a soft-restricted network element.\n",
      "Network elements with avoid-restrictions are traversed in the output (restriction attribute names: \"Avoid Private Roads\").\n",
      "\n"
     ]
    },
    {
     "name": "stdout",
     "output_type": "stream",
     "text": [
      "success - 4124\n"
     ]
    },
    {
     "name": "stderr",
     "output_type": "stream",
     "text": [
      "Location \"421027779\" in \"Facilities\" is on a soft-restricted network element.\n",
      "\n",
      "Location \"530330219063\" in \"Incidents\" is on a soft-restricted network element.\n",
      "Location \"421027779\" in \"Facilities\" is on a soft-restricted network element.\n",
      "Network elements with avoid-restrictions are traversed in the output (restriction attribute names: \"Avoid Private Roads\" \"Avoid Gates\").\n",
      "\n",
      "Location \"421027779\" in \"Facilities\" is on a soft-restricted network element.\n",
      "Network elements with avoid-restrictions are traversed in the output (restriction attribute names: \"Avoid Gates\").\n",
      "\n",
      "Location \"530610523011\" in \"Incidents\" is on a soft-restricted network element.\n",
      "Location \"421027779\" in \"Facilities\" is on a soft-restricted network element.\n",
      "Network elements with avoid-restrictions are traversed in the output (restriction attribute names: \"Avoid Private Roads\").\n",
      "\n",
      "Location \"530610535052\" in \"Incidents\" is on a soft-restricted network element.\n",
      "Location \"530610536021\" in \"Incidents\" is on a soft-restricted network element.\n",
      "Location \"421027779\" in \"Facilities\" is on a soft-restricted network element.\n",
      "Network elements with avoid-restrictions are traversed in the output (restriction attribute names: \"Avoid Private Roads\").\n",
      "\n"
     ]
    },
    {
     "name": "stdout",
     "output_type": "stream",
     "text": [
      "success - 4125\n"
     ]
    },
    {
     "name": "stderr",
     "output_type": "stream",
     "text": [
      "Location \"421027779\" in \"Facilities\" is on a soft-restricted network element.\n",
      "\n",
      "Location \"530330219063\" in \"Incidents\" is on a soft-restricted network element.\n",
      "Location \"421027779\" in \"Facilities\" is on a soft-restricted network element.\n",
      "Network elements with avoid-restrictions are traversed in the output (restriction attribute names: \"Avoid Private Roads\" \"Avoid Gates\").\n",
      "\n",
      "Location \"421027779\" in \"Facilities\" is on a soft-restricted network element.\n",
      "Network elements with avoid-restrictions are traversed in the output (restriction attribute names: \"Avoid Gates\").\n",
      "\n",
      "Location \"530610523011\" in \"Incidents\" is on a soft-restricted network element.\n",
      "Location \"421027779\" in \"Facilities\" is on a soft-restricted network element.\n",
      "Network elements with avoid-restrictions are traversed in the output (restriction attribute names: \"Avoid Private Roads\").\n",
      "\n",
      "Location \"530610535052\" in \"Incidents\" is on a soft-restricted network element.\n",
      "Location \"530610536021\" in \"Incidents\" is on a soft-restricted network element.\n",
      "Location \"421027779\" in \"Facilities\" is on a soft-restricted network element.\n",
      "Network elements with avoid-restrictions are traversed in the output (restriction attribute names: \"Avoid Private Roads\").\n",
      "\n"
     ]
    },
    {
     "name": "stdout",
     "output_type": "stream",
     "text": [
      "success - 4126\n"
     ]
    },
    {
     "name": "stderr",
     "output_type": "stream",
     "text": [
      "Location \"421027779\" in \"Facilities\" is on a soft-restricted network element.\n",
      "\n",
      "Location \"530330219063\" in \"Incidents\" is on a soft-restricted network element.\n",
      "Location \"421027779\" in \"Facilities\" is on a soft-restricted network element.\n",
      "Network elements with avoid-restrictions are traversed in the output (restriction attribute names: \"Avoid Private Roads\" \"Avoid Gates\").\n",
      "\n",
      "Location \"421027779\" in \"Facilities\" is on a soft-restricted network element.\n",
      "Network elements with avoid-restrictions are traversed in the output (restriction attribute names: \"Avoid Gates\").\n",
      "\n",
      "Location \"530610523011\" in \"Incidents\" is on a soft-restricted network element.\n",
      "Location \"421027779\" in \"Facilities\" is on a soft-restricted network element.\n",
      "Network elements with avoid-restrictions are traversed in the output (restriction attribute names: \"Avoid Private Roads\").\n",
      "\n",
      "Location \"530610535052\" in \"Incidents\" is on a soft-restricted network element.\n",
      "Location \"530610536021\" in \"Incidents\" is on a soft-restricted network element.\n",
      "Location \"421027779\" in \"Facilities\" is on a soft-restricted network element.\n",
      "Network elements with avoid-restrictions are traversed in the output (restriction attribute names: \"Avoid Private Roads\").\n",
      "\n"
     ]
    },
    {
     "name": "stdout",
     "output_type": "stream",
     "text": [
      "success - 4127\n"
     ]
    },
    {
     "name": "stderr",
     "output_type": "stream",
     "text": [
      "Location \"421027779\" in \"Facilities\" is on a soft-restricted network element.\n",
      "\n",
      "Location \"530330219063\" in \"Incidents\" is on a soft-restricted network element.\n",
      "Location \"421027779\" in \"Facilities\" is on a soft-restricted network element.\n",
      "Network elements with avoid-restrictions are traversed in the output (restriction attribute names: \"Avoid Private Roads\" \"Avoid Gates\").\n",
      "\n",
      "Location \"421027779\" in \"Facilities\" is on a soft-restricted network element.\n",
      "Network elements with avoid-restrictions are traversed in the output (restriction attribute names: \"Avoid Gates\").\n",
      "\n",
      "Location \"530610523011\" in \"Incidents\" is on a soft-restricted network element.\n",
      "Location \"421027779\" in \"Facilities\" is on a soft-restricted network element.\n",
      "Network elements with avoid-restrictions are traversed in the output (restriction attribute names: \"Avoid Private Roads\").\n",
      "\n",
      "Location \"530610535052\" in \"Incidents\" is on a soft-restricted network element.\n",
      "Location \"530610536021\" in \"Incidents\" is on a soft-restricted network element.\n",
      "Location \"421027779\" in \"Facilities\" is on a soft-restricted network element.\n",
      "Network elements with avoid-restrictions are traversed in the output (restriction attribute names: \"Avoid Private Roads\").\n",
      "\n"
     ]
    },
    {
     "name": "stdout",
     "output_type": "stream",
     "text": [
      "success - 4128\n"
     ]
    },
    {
     "name": "stderr",
     "output_type": "stream",
     "text": [
      "Location \"421027779\" in \"Facilities\" is on a soft-restricted network element.\n",
      "\n",
      "Location \"530330219063\" in \"Incidents\" is on a soft-restricted network element.\n",
      "Location \"421027779\" in \"Facilities\" is on a soft-restricted network element.\n",
      "Network elements with avoid-restrictions are traversed in the output (restriction attribute names: \"Avoid Private Roads\" \"Avoid Gates\").\n",
      "\n",
      "Location \"421027779\" in \"Facilities\" is on a soft-restricted network element.\n",
      "Network elements with avoid-restrictions are traversed in the output (restriction attribute names: \"Avoid Gates\").\n",
      "\n",
      "Location \"530610523011\" in \"Incidents\" is on a soft-restricted network element.\n",
      "Location \"421027779\" in \"Facilities\" is on a soft-restricted network element.\n",
      "Network elements with avoid-restrictions are traversed in the output (restriction attribute names: \"Avoid Private Roads\").\n",
      "\n",
      "Location \"530610535052\" in \"Incidents\" is on a soft-restricted network element.\n",
      "Location \"530610536021\" in \"Incidents\" is on a soft-restricted network element.\n",
      "Location \"421027779\" in \"Facilities\" is on a soft-restricted network element.\n",
      "Network elements with avoid-restrictions are traversed in the output (restriction attribute names: \"Avoid Private Roads\").\n",
      "\n"
     ]
    },
    {
     "name": "stdout",
     "output_type": "stream",
     "text": [
      "success - 4129\n"
     ]
    },
    {
     "name": "stderr",
     "output_type": "stream",
     "text": [
      "Location \"421027779\" in \"Facilities\" is on a soft-restricted network element.\n",
      "\n",
      "Location \"530330219063\" in \"Incidents\" is on a soft-restricted network element.\n",
      "Location \"421027779\" in \"Facilities\" is on a soft-restricted network element.\n",
      "Network elements with avoid-restrictions are traversed in the output (restriction attribute names: \"Avoid Private Roads\" \"Avoid Gates\").\n",
      "\n",
      "Location \"421027779\" in \"Facilities\" is on a soft-restricted network element.\n",
      "Network elements with avoid-restrictions are traversed in the output (restriction attribute names: \"Avoid Gates\").\n",
      "\n",
      "Location \"530610523011\" in \"Incidents\" is on a soft-restricted network element.\n",
      "Location \"421027779\" in \"Facilities\" is on a soft-restricted network element.\n",
      "Network elements with avoid-restrictions are traversed in the output (restriction attribute names: \"Avoid Private Roads\").\n",
      "\n",
      "Location \"530610535052\" in \"Incidents\" is on a soft-restricted network element.\n",
      "Location \"530610536021\" in \"Incidents\" is on a soft-restricted network element.\n",
      "Location \"421027779\" in \"Facilities\" is on a soft-restricted network element.\n",
      "Network elements with avoid-restrictions are traversed in the output (restriction attribute names: \"Avoid Private Roads\").\n",
      "\n"
     ]
    },
    {
     "name": "stdout",
     "output_type": "stream",
     "text": [
      "success - 4130\n"
     ]
    },
    {
     "name": "stderr",
     "output_type": "stream",
     "text": [
      "Location \"421027779\" in \"Facilities\" is on a soft-restricted network element.\n",
      "\n",
      "Location \"530330219063\" in \"Incidents\" is on a soft-restricted network element.\n",
      "Location \"421027779\" in \"Facilities\" is on a soft-restricted network element.\n",
      "Network elements with avoid-restrictions are traversed in the output (restriction attribute names: \"Avoid Private Roads\" \"Avoid Gates\").\n",
      "\n",
      "Location \"421027779\" in \"Facilities\" is on a soft-restricted network element.\n",
      "Network elements with avoid-restrictions are traversed in the output (restriction attribute names: \"Avoid Gates\").\n",
      "\n",
      "Location \"530610523011\" in \"Incidents\" is on a soft-restricted network element.\n",
      "Location \"421027779\" in \"Facilities\" is on a soft-restricted network element.\n",
      "Network elements with avoid-restrictions are traversed in the output (restriction attribute names: \"Avoid Private Roads\").\n",
      "\n",
      "Location \"530610535052\" in \"Incidents\" is on a soft-restricted network element.\n",
      "Location \"530610536021\" in \"Incidents\" is on a soft-restricted network element.\n",
      "Location \"421027779\" in \"Facilities\" is on a soft-restricted network element.\n",
      "Network elements with avoid-restrictions are traversed in the output (restriction attribute names: \"Avoid Private Roads\").\n",
      "\n"
     ]
    },
    {
     "name": "stdout",
     "output_type": "stream",
     "text": [
      "success - 4131\n"
     ]
    },
    {
     "name": "stderr",
     "output_type": "stream",
     "text": [
      "Location \"421027779\" in \"Facilities\" is on a soft-restricted network element.\n",
      "\n",
      "Location \"530330219063\" in \"Incidents\" is on a soft-restricted network element.\n",
      "Location \"421027779\" in \"Facilities\" is on a soft-restricted network element.\n",
      "Network elements with avoid-restrictions are traversed in the output (restriction attribute names: \"Avoid Private Roads\" \"Avoid Gates\").\n",
      "\n",
      "Location \"421027779\" in \"Facilities\" is on a soft-restricted network element.\n",
      "Network elements with avoid-restrictions are traversed in the output (restriction attribute names: \"Avoid Gates\").\n",
      "\n",
      "Location \"530610523011\" in \"Incidents\" is on a soft-restricted network element.\n",
      "Location \"421027779\" in \"Facilities\" is on a soft-restricted network element.\n",
      "Network elements with avoid-restrictions are traversed in the output (restriction attribute names: \"Avoid Private Roads\").\n",
      "\n",
      "Location \"530610535052\" in \"Incidents\" is on a soft-restricted network element.\n",
      "Location \"530610536021\" in \"Incidents\" is on a soft-restricted network element.\n",
      "Location \"421027779\" in \"Facilities\" is on a soft-restricted network element.\n",
      "Network elements with avoid-restrictions are traversed in the output (restriction attribute names: \"Avoid Private Roads\").\n",
      "\n"
     ]
    },
    {
     "name": "stdout",
     "output_type": "stream",
     "text": [
      "success - 4132\n"
     ]
    },
    {
     "name": "stderr",
     "output_type": "stream",
     "text": [
      "Location \"421027779\" in \"Facilities\" is on a soft-restricted network element.\n",
      "\n",
      "Location \"530330219063\" in \"Incidents\" is on a soft-restricted network element.\n",
      "Location \"421027779\" in \"Facilities\" is on a soft-restricted network element.\n",
      "Network elements with avoid-restrictions are traversed in the output (restriction attribute names: \"Avoid Private Roads\" \"Avoid Gates\").\n",
      "\n",
      "Location \"421027779\" in \"Facilities\" is on a soft-restricted network element.\n",
      "Network elements with avoid-restrictions are traversed in the output (restriction attribute names: \"Avoid Gates\").\n",
      "\n",
      "Location \"530610523011\" in \"Incidents\" is on a soft-restricted network element.\n",
      "Location \"421027779\" in \"Facilities\" is on a soft-restricted network element.\n",
      "Network elements with avoid-restrictions are traversed in the output (restriction attribute names: \"Avoid Private Roads\").\n",
      "\n",
      "Location \"530610535052\" in \"Incidents\" is on a soft-restricted network element.\n",
      "Location \"530610536021\" in \"Incidents\" is on a soft-restricted network element.\n",
      "Location \"421027779\" in \"Facilities\" is on a soft-restricted network element.\n",
      "Network elements with avoid-restrictions are traversed in the output (restriction attribute names: \"Avoid Private Roads\").\n",
      "\n"
     ]
    },
    {
     "name": "stdout",
     "output_type": "stream",
     "text": [
      "success - 4133\n"
     ]
    },
    {
     "name": "stderr",
     "output_type": "stream",
     "text": [
      "Location \"421027779\" in \"Facilities\" is on a soft-restricted network element.\n",
      "\n",
      "Location \"530330219063\" in \"Incidents\" is on a soft-restricted network element.\n",
      "Location \"421027779\" in \"Facilities\" is on a soft-restricted network element.\n",
      "Network elements with avoid-restrictions are traversed in the output (restriction attribute names: \"Avoid Private Roads\" \"Avoid Gates\").\n",
      "\n",
      "Location \"421027779\" in \"Facilities\" is on a soft-restricted network element.\n",
      "Network elements with avoid-restrictions are traversed in the output (restriction attribute names: \"Avoid Gates\").\n",
      "\n",
      "Location \"530610523011\" in \"Incidents\" is on a soft-restricted network element.\n",
      "Location \"421027779\" in \"Facilities\" is on a soft-restricted network element.\n",
      "Network elements with avoid-restrictions are traversed in the output (restriction attribute names: \"Avoid Private Roads\").\n",
      "\n",
      "Location \"530610535052\" in \"Incidents\" is on a soft-restricted network element.\n",
      "Location \"530610536021\" in \"Incidents\" is on a soft-restricted network element.\n",
      "Location \"421027779\" in \"Facilities\" is on a soft-restricted network element.\n",
      "Network elements with avoid-restrictions are traversed in the output (restriction attribute names: \"Avoid Private Roads\").\n",
      "\n"
     ]
    },
    {
     "name": "stdout",
     "output_type": "stream",
     "text": [
      "success - 4134\n"
     ]
    },
    {
     "name": "stderr",
     "output_type": "stream",
     "text": [
      "Location \"421027779\" in \"Facilities\" is on a soft-restricted network element.\n",
      "\n",
      "Location \"530330219063\" in \"Incidents\" is on a soft-restricted network element.\n",
      "Location \"421027779\" in \"Facilities\" is on a soft-restricted network element.\n",
      "Network elements with avoid-restrictions are traversed in the output (restriction attribute names: \"Avoid Private Roads\" \"Avoid Gates\").\n",
      "\n",
      "Location \"421027779\" in \"Facilities\" is on a soft-restricted network element.\n",
      "Network elements with avoid-restrictions are traversed in the output (restriction attribute names: \"Avoid Gates\").\n",
      "\n",
      "Location \"530610523011\" in \"Incidents\" is on a soft-restricted network element.\n",
      "Location \"421027779\" in \"Facilities\" is on a soft-restricted network element.\n",
      "Network elements with avoid-restrictions are traversed in the output (restriction attribute names: \"Avoid Private Roads\").\n",
      "\n",
      "Location \"530610535052\" in \"Incidents\" is on a soft-restricted network element.\n",
      "Location \"530610536021\" in \"Incidents\" is on a soft-restricted network element.\n",
      "Location \"421027779\" in \"Facilities\" is on a soft-restricted network element.\n",
      "Network elements with avoid-restrictions are traversed in the output (restriction attribute names: \"Avoid Private Roads\").\n",
      "\n"
     ]
    },
    {
     "name": "stdout",
     "output_type": "stream",
     "text": [
      "success - 4135\n"
     ]
    },
    {
     "name": "stderr",
     "output_type": "stream",
     "text": [
      "Location \"421027779\" in \"Facilities\" is on a soft-restricted network element.\n",
      "\n",
      "Location \"530330219063\" in \"Incidents\" is on a soft-restricted network element.\n",
      "Location \"421027779\" in \"Facilities\" is on a soft-restricted network element.\n",
      "Network elements with avoid-restrictions are traversed in the output (restriction attribute names: \"Avoid Private Roads\" \"Avoid Gates\").\n",
      "\n",
      "Location \"421027779\" in \"Facilities\" is on a soft-restricted network element.\n",
      "Network elements with avoid-restrictions are traversed in the output (restriction attribute names: \"Avoid Gates\").\n",
      "\n",
      "Location \"530610523011\" in \"Incidents\" is on a soft-restricted network element.\n",
      "Location \"421027779\" in \"Facilities\" is on a soft-restricted network element.\n",
      "Network elements with avoid-restrictions are traversed in the output (restriction attribute names: \"Avoid Private Roads\").\n",
      "\n",
      "Location \"530610535052\" in \"Incidents\" is on a soft-restricted network element.\n",
      "Location \"530610536021\" in \"Incidents\" is on a soft-restricted network element.\n",
      "Location \"421027779\" in \"Facilities\" is on a soft-restricted network element.\n",
      "Network elements with avoid-restrictions are traversed in the output (restriction attribute names: \"Avoid Private Roads\").\n",
      "\n"
     ]
    },
    {
     "name": "stdout",
     "output_type": "stream",
     "text": [
      "success - 4136\n"
     ]
    },
    {
     "name": "stderr",
     "output_type": "stream",
     "text": [
      "Location \"421027779\" in \"Facilities\" is on a soft-restricted network element.\n",
      "\n",
      "Location \"530330219063\" in \"Incidents\" is on a soft-restricted network element.\n",
      "Location \"421027779\" in \"Facilities\" is on a soft-restricted network element.\n",
      "Network elements with avoid-restrictions are traversed in the output (restriction attribute names: \"Avoid Private Roads\" \"Avoid Gates\").\n",
      "\n",
      "Location \"421027779\" in \"Facilities\" is on a soft-restricted network element.\n",
      "Network elements with avoid-restrictions are traversed in the output (restriction attribute names: \"Avoid Gates\").\n",
      "\n",
      "Location \"530610523011\" in \"Incidents\" is on a soft-restricted network element.\n",
      "Location \"421027779\" in \"Facilities\" is on a soft-restricted network element.\n",
      "Network elements with avoid-restrictions are traversed in the output (restriction attribute names: \"Avoid Private Roads\").\n",
      "\n",
      "Location \"530610535052\" in \"Incidents\" is on a soft-restricted network element.\n",
      "Location \"530610536021\" in \"Incidents\" is on a soft-restricted network element.\n",
      "Location \"421027779\" in \"Facilities\" is on a soft-restricted network element.\n",
      "Network elements with avoid-restrictions are traversed in the output (restriction attribute names: \"Avoid Private Roads\").\n",
      "\n"
     ]
    },
    {
     "name": "stdout",
     "output_type": "stream",
     "text": [
      "success - 4137\n"
     ]
    },
    {
     "name": "stderr",
     "output_type": "stream",
     "text": [
      "Location \"421027779\" in \"Facilities\" is on a soft-restricted network element.\n",
      "\n",
      "Location \"530330219063\" in \"Incidents\" is on a soft-restricted network element.\n",
      "Location \"421027779\" in \"Facilities\" is on a soft-restricted network element.\n",
      "Network elements with avoid-restrictions are traversed in the output (restriction attribute names: \"Avoid Private Roads\" \"Avoid Gates\").\n",
      "\n",
      "Location \"421027779\" in \"Facilities\" is on a soft-restricted network element.\n",
      "Network elements with avoid-restrictions are traversed in the output (restriction attribute names: \"Avoid Gates\").\n",
      "\n",
      "Location \"530610523011\" in \"Incidents\" is on a soft-restricted network element.\n",
      "Location \"421027779\" in \"Facilities\" is on a soft-restricted network element.\n",
      "Network elements with avoid-restrictions are traversed in the output (restriction attribute names: \"Avoid Private Roads\").\n",
      "\n",
      "Location \"530610535052\" in \"Incidents\" is on a soft-restricted network element.\n",
      "Location \"530610536021\" in \"Incidents\" is on a soft-restricted network element.\n",
      "Location \"421027779\" in \"Facilities\" is on a soft-restricted network element.\n",
      "Network elements with avoid-restrictions are traversed in the output (restriction attribute names: \"Avoid Private Roads\").\n",
      "\n"
     ]
    },
    {
     "name": "stdout",
     "output_type": "stream",
     "text": [
      "success - 4138\n"
     ]
    },
    {
     "name": "stderr",
     "output_type": "stream",
     "text": [
      "Location \"421027779\" in \"Facilities\" is on a soft-restricted network element.\n",
      "\n",
      "Location \"530330219063\" in \"Incidents\" is on a soft-restricted network element.\n",
      "Location \"421027779\" in \"Facilities\" is on a soft-restricted network element.\n",
      "Network elements with avoid-restrictions are traversed in the output (restriction attribute names: \"Avoid Private Roads\" \"Avoid Gates\").\n",
      "\n",
      "Location \"421027779\" in \"Facilities\" is on a soft-restricted network element.\n",
      "Network elements with avoid-restrictions are traversed in the output (restriction attribute names: \"Avoid Gates\").\n",
      "\n",
      "Location \"530610523011\" in \"Incidents\" is on a soft-restricted network element.\n",
      "Location \"421027779\" in \"Facilities\" is on a soft-restricted network element.\n",
      "Network elements with avoid-restrictions are traversed in the output (restriction attribute names: \"Avoid Private Roads\").\n",
      "\n",
      "Location \"530610535052\" in \"Incidents\" is on a soft-restricted network element.\n",
      "Location \"530610536021\" in \"Incidents\" is on a soft-restricted network element.\n",
      "Location \"421027779\" in \"Facilities\" is on a soft-restricted network element.\n",
      "Network elements with avoid-restrictions are traversed in the output (restriction attribute names: \"Avoid Private Roads\").\n",
      "\n"
     ]
    },
    {
     "name": "stdout",
     "output_type": "stream",
     "text": [
      "success - 4139\n"
     ]
    },
    {
     "name": "stderr",
     "output_type": "stream",
     "text": [
      "Location \"421027779\" in \"Facilities\" is on a soft-restricted network element.\n",
      "\n",
      "Location \"530330219063\" in \"Incidents\" is on a soft-restricted network element.\n",
      "Location \"421027779\" in \"Facilities\" is on a soft-restricted network element.\n",
      "Network elements with avoid-restrictions are traversed in the output (restriction attribute names: \"Avoid Private Roads\" \"Avoid Gates\").\n",
      "\n",
      "Location \"421027779\" in \"Facilities\" is on a soft-restricted network element.\n",
      "Network elements with avoid-restrictions are traversed in the output (restriction attribute names: \"Avoid Gates\").\n",
      "\n",
      "Location \"530610523011\" in \"Incidents\" is on a soft-restricted network element.\n",
      "Location \"421027779\" in \"Facilities\" is on a soft-restricted network element.\n",
      "Network elements with avoid-restrictions are traversed in the output (restriction attribute names: \"Avoid Private Roads\").\n",
      "\n",
      "Location \"530610535052\" in \"Incidents\" is on a soft-restricted network element.\n",
      "Location \"530610536021\" in \"Incidents\" is on a soft-restricted network element.\n",
      "Location \"421027779\" in \"Facilities\" is on a soft-restricted network element.\n",
      "Network elements with avoid-restrictions are traversed in the output (restriction attribute names: \"Avoid Private Roads\").\n",
      "\n"
     ]
    },
    {
     "name": "stdout",
     "output_type": "stream",
     "text": [
      "success - 4140\n"
     ]
    },
    {
     "name": "stderr",
     "output_type": "stream",
     "text": [
      "Location \"421027779\" in \"Facilities\" is on a soft-restricted network element.\n",
      "\n",
      "Location \"530330219063\" in \"Incidents\" is on a soft-restricted network element.\n",
      "Location \"421027779\" in \"Facilities\" is on a soft-restricted network element.\n",
      "Network elements with avoid-restrictions are traversed in the output (restriction attribute names: \"Avoid Private Roads\" \"Avoid Gates\").\n",
      "\n",
      "Location \"421027779\" in \"Facilities\" is on a soft-restricted network element.\n",
      "Network elements with avoid-restrictions are traversed in the output (restriction attribute names: \"Avoid Gates\").\n",
      "\n",
      "Location \"530610523011\" in \"Incidents\" is on a soft-restricted network element.\n",
      "Location \"421027779\" in \"Facilities\" is on a soft-restricted network element.\n",
      "Network elements with avoid-restrictions are traversed in the output (restriction attribute names: \"Avoid Private Roads\").\n",
      "\n",
      "Location \"530610535052\" in \"Incidents\" is on a soft-restricted network element.\n",
      "Location \"530610536021\" in \"Incidents\" is on a soft-restricted network element.\n",
      "Location \"421027779\" in \"Facilities\" is on a soft-restricted network element.\n",
      "Network elements with avoid-restrictions are traversed in the output (restriction attribute names: \"Avoid Private Roads\").\n",
      "\n"
     ]
    },
    {
     "name": "stdout",
     "output_type": "stream",
     "text": [
      "success - 4141\n"
     ]
    },
    {
     "name": "stderr",
     "output_type": "stream",
     "text": [
      "Location \"421027779\" in \"Facilities\" is on a soft-restricted network element.\n",
      "\n",
      "Location \"530330219063\" in \"Incidents\" is on a soft-restricted network element.\n",
      "Location \"421027779\" in \"Facilities\" is on a soft-restricted network element.\n",
      "Network elements with avoid-restrictions are traversed in the output (restriction attribute names: \"Avoid Private Roads\" \"Avoid Gates\").\n",
      "\n",
      "Location \"421027779\" in \"Facilities\" is on a soft-restricted network element.\n",
      "Network elements with avoid-restrictions are traversed in the output (restriction attribute names: \"Avoid Gates\").\n",
      "\n",
      "Location \"530610523011\" in \"Incidents\" is on a soft-restricted network element.\n",
      "Location \"421027779\" in \"Facilities\" is on a soft-restricted network element.\n",
      "Network elements with avoid-restrictions are traversed in the output (restriction attribute names: \"Avoid Private Roads\").\n",
      "\n",
      "Location \"530610535052\" in \"Incidents\" is on a soft-restricted network element.\n",
      "Location \"530610536021\" in \"Incidents\" is on a soft-restricted network element.\n",
      "Location \"421027779\" in \"Facilities\" is on a soft-restricted network element.\n",
      "Network elements with avoid-restrictions are traversed in the output (restriction attribute names: \"Avoid Private Roads\").\n",
      "\n"
     ]
    },
    {
     "name": "stdout",
     "output_type": "stream",
     "text": [
      "success - 4143\n"
     ]
    },
    {
     "name": "stderr",
     "output_type": "stream",
     "text": [
      "Location \"421027779\" in \"Facilities\" is on a soft-restricted network element.\n",
      "\n",
      "Location \"530330219063\" in \"Incidents\" is on a soft-restricted network element.\n",
      "Location \"421027779\" in \"Facilities\" is on a soft-restricted network element.\n",
      "Network elements with avoid-restrictions are traversed in the output (restriction attribute names: \"Avoid Private Roads\" \"Avoid Gates\").\n",
      "\n",
      "Location \"421027779\" in \"Facilities\" is on a soft-restricted network element.\n",
      "Network elements with avoid-restrictions are traversed in the output (restriction attribute names: \"Avoid Gates\").\n",
      "\n",
      "Location \"530610523011\" in \"Incidents\" is on a soft-restricted network element.\n",
      "Location \"421027779\" in \"Facilities\" is on a soft-restricted network element.\n",
      "Network elements with avoid-restrictions are traversed in the output (restriction attribute names: \"Avoid Private Roads\").\n",
      "\n",
      "Location \"530610535052\" in \"Incidents\" is on a soft-restricted network element.\n",
      "Location \"530610536021\" in \"Incidents\" is on a soft-restricted network element.\n",
      "Location \"421027779\" in \"Facilities\" is on a soft-restricted network element.\n",
      "Network elements with avoid-restrictions are traversed in the output (restriction attribute names: \"Avoid Private Roads\").\n",
      "\n"
     ]
    },
    {
     "name": "stdout",
     "output_type": "stream",
     "text": [
      "success - 4144\n"
     ]
    },
    {
     "name": "stderr",
     "output_type": "stream",
     "text": [
      "Location \"421027779\" in \"Facilities\" is on a soft-restricted network element.\n",
      "\n",
      "Location \"530330219063\" in \"Incidents\" is on a soft-restricted network element.\n",
      "Location \"421027779\" in \"Facilities\" is on a soft-restricted network element.\n",
      "Network elements with avoid-restrictions are traversed in the output (restriction attribute names: \"Avoid Private Roads\" \"Avoid Gates\").\n",
      "\n",
      "Location \"421027779\" in \"Facilities\" is on a soft-restricted network element.\n",
      "Network elements with avoid-restrictions are traversed in the output (restriction attribute names: \"Avoid Gates\").\n",
      "\n",
      "Location \"530610523011\" in \"Incidents\" is on a soft-restricted network element.\n",
      "Location \"421027779\" in \"Facilities\" is on a soft-restricted network element.\n",
      "Network elements with avoid-restrictions are traversed in the output (restriction attribute names: \"Avoid Private Roads\").\n",
      "\n",
      "Location \"530610535052\" in \"Incidents\" is on a soft-restricted network element.\n",
      "Location \"530610536021\" in \"Incidents\" is on a soft-restricted network element.\n",
      "Location \"421027779\" in \"Facilities\" is on a soft-restricted network element.\n",
      "Network elements with avoid-restrictions are traversed in the output (restriction attribute names: \"Avoid Private Roads\").\n",
      "\n"
     ]
    },
    {
     "name": "stdout",
     "output_type": "stream",
     "text": [
      "success - 4145\n"
     ]
    },
    {
     "name": "stderr",
     "output_type": "stream",
     "text": [
      "Location \"421027779\" in \"Facilities\" is on a soft-restricted network element.\n",
      "\n",
      "Location \"530330219063\" in \"Incidents\" is on a soft-restricted network element.\n",
      "Location \"421027779\" in \"Facilities\" is on a soft-restricted network element.\n",
      "Network elements with avoid-restrictions are traversed in the output (restriction attribute names: \"Avoid Private Roads\" \"Avoid Gates\").\n",
      "\n",
      "Location \"421027779\" in \"Facilities\" is on a soft-restricted network element.\n",
      "Network elements with avoid-restrictions are traversed in the output (restriction attribute names: \"Avoid Gates\").\n",
      "\n",
      "Location \"530610523011\" in \"Incidents\" is on a soft-restricted network element.\n",
      "Location \"421027779\" in \"Facilities\" is on a soft-restricted network element.\n",
      "Network elements with avoid-restrictions are traversed in the output (restriction attribute names: \"Avoid Private Roads\").\n",
      "\n",
      "Location \"530610535052\" in \"Incidents\" is on a soft-restricted network element.\n",
      "Location \"530610536021\" in \"Incidents\" is on a soft-restricted network element.\n",
      "Location \"421027779\" in \"Facilities\" is on a soft-restricted network element.\n",
      "Network elements with avoid-restrictions are traversed in the output (restriction attribute names: \"Avoid Private Roads\").\n",
      "\n"
     ]
    },
    {
     "name": "stdout",
     "output_type": "stream",
     "text": [
      "success - 4146\n"
     ]
    },
    {
     "name": "stderr",
     "output_type": "stream",
     "text": [
      "Location \"421027779\" in \"Facilities\" is on a soft-restricted network element.\n",
      "\n",
      "Location \"530330219063\" in \"Incidents\" is on a soft-restricted network element.\n",
      "Location \"421027779\" in \"Facilities\" is on a soft-restricted network element.\n",
      "Network elements with avoid-restrictions are traversed in the output (restriction attribute names: \"Avoid Private Roads\" \"Avoid Gates\").\n",
      "\n",
      "Location \"421027779\" in \"Facilities\" is on a soft-restricted network element.\n",
      "Network elements with avoid-restrictions are traversed in the output (restriction attribute names: \"Avoid Gates\").\n",
      "\n",
      "Location \"530610523011\" in \"Incidents\" is on a soft-restricted network element.\n",
      "Location \"421027779\" in \"Facilities\" is on a soft-restricted network element.\n",
      "Network elements with avoid-restrictions are traversed in the output (restriction attribute names: \"Avoid Private Roads\").\n",
      "\n",
      "Location \"530610535052\" in \"Incidents\" is on a soft-restricted network element.\n",
      "Location \"530610536021\" in \"Incidents\" is on a soft-restricted network element.\n",
      "Location \"421027779\" in \"Facilities\" is on a soft-restricted network element.\n",
      "Network elements with avoid-restrictions are traversed in the output (restriction attribute names: \"Avoid Private Roads\").\n",
      "\n"
     ]
    },
    {
     "name": "stdout",
     "output_type": "stream",
     "text": [
      "success - 4147\n"
     ]
    },
    {
     "name": "stderr",
     "output_type": "stream",
     "text": [
      "Location \"421027779\" in \"Facilities\" is on a soft-restricted network element.\n",
      "\n",
      "Location \"530330219063\" in \"Incidents\" is on a soft-restricted network element.\n",
      "Location \"421027779\" in \"Facilities\" is on a soft-restricted network element.\n",
      "Network elements with avoid-restrictions are traversed in the output (restriction attribute names: \"Avoid Private Roads\" \"Avoid Gates\").\n",
      "\n",
      "Location \"421027779\" in \"Facilities\" is on a soft-restricted network element.\n",
      "Network elements with avoid-restrictions are traversed in the output (restriction attribute names: \"Avoid Gates\").\n",
      "\n",
      "Location \"530610523011\" in \"Incidents\" is on a soft-restricted network element.\n",
      "Location \"421027779\" in \"Facilities\" is on a soft-restricted network element.\n",
      "Network elements with avoid-restrictions are traversed in the output (restriction attribute names: \"Avoid Private Roads\").\n",
      "\n",
      "Location \"530610535052\" in \"Incidents\" is on a soft-restricted network element.\n",
      "Location \"530610536021\" in \"Incidents\" is on a soft-restricted network element.\n",
      "Location \"421027779\" in \"Facilities\" is on a soft-restricted network element.\n",
      "Network elements with avoid-restrictions are traversed in the output (restriction attribute names: \"Avoid Private Roads\").\n",
      "\n"
     ]
    },
    {
     "name": "stdout",
     "output_type": "stream",
     "text": [
      "success - 4149\n"
     ]
    },
    {
     "name": "stderr",
     "output_type": "stream",
     "text": [
      "Location \"421027779\" in \"Facilities\" is on a soft-restricted network element.\n",
      "\n",
      "Location \"530330219063\" in \"Incidents\" is on a soft-restricted network element.\n",
      "Location \"421027779\" in \"Facilities\" is on a soft-restricted network element.\n",
      "Network elements with avoid-restrictions are traversed in the output (restriction attribute names: \"Avoid Private Roads\" \"Avoid Gates\").\n",
      "\n",
      "Location \"421027779\" in \"Facilities\" is on a soft-restricted network element.\n",
      "Network elements with avoid-restrictions are traversed in the output (restriction attribute names: \"Avoid Gates\").\n",
      "\n",
      "Location \"530610523011\" in \"Incidents\" is on a soft-restricted network element.\n",
      "Location \"421027779\" in \"Facilities\" is on a soft-restricted network element.\n",
      "Network elements with avoid-restrictions are traversed in the output (restriction attribute names: \"Avoid Private Roads\").\n",
      "\n",
      "Location \"530610535052\" in \"Incidents\" is on a soft-restricted network element.\n",
      "Location \"530610536021\" in \"Incidents\" is on a soft-restricted network element.\n",
      "Location \"421027779\" in \"Facilities\" is on a soft-restricted network element.\n",
      "Network elements with avoid-restrictions are traversed in the output (restriction attribute names: \"Avoid Private Roads\").\n",
      "\n"
     ]
    },
    {
     "name": "stdout",
     "output_type": "stream",
     "text": [
      "success - 4177\n"
     ]
    },
    {
     "name": "stderr",
     "output_type": "stream",
     "text": [
      "Location \"421027779\" in \"Facilities\" is on a soft-restricted network element.\n",
      "\n",
      "Location \"530330219063\" in \"Incidents\" is on a soft-restricted network element.\n",
      "Location \"421027779\" in \"Facilities\" is on a soft-restricted network element.\n",
      "Network elements with avoid-restrictions are traversed in the output (restriction attribute names: \"Avoid Private Roads\" \"Avoid Gates\").\n",
      "\n",
      "Location \"421027779\" in \"Facilities\" is on a soft-restricted network element.\n",
      "Network elements with avoid-restrictions are traversed in the output (restriction attribute names: \"Avoid Gates\").\n",
      "\n",
      "Location \"530610523011\" in \"Incidents\" is on a soft-restricted network element.\n",
      "Location \"421027779\" in \"Facilities\" is on a soft-restricted network element.\n",
      "Network elements with avoid-restrictions are traversed in the output (restriction attribute names: \"Avoid Private Roads\").\n",
      "\n",
      "Location \"530610535052\" in \"Incidents\" is on a soft-restricted network element.\n",
      "Location \"530610536021\" in \"Incidents\" is on a soft-restricted network element.\n",
      "Location \"421027779\" in \"Facilities\" is on a soft-restricted network element.\n",
      "Network elements with avoid-restrictions are traversed in the output (restriction attribute names: \"Avoid Private Roads\").\n",
      "\n"
     ]
    },
    {
     "name": "stdout",
     "output_type": "stream",
     "text": [
      "success - 4178\n"
     ]
    },
    {
     "name": "stderr",
     "output_type": "stream",
     "text": [
      "Location \"421027779\" in \"Facilities\" is on a soft-restricted network element.\n",
      "\n",
      "Location \"530330219063\" in \"Incidents\" is on a soft-restricted network element.\n",
      "Location \"421027779\" in \"Facilities\" is on a soft-restricted network element.\n",
      "Network elements with avoid-restrictions are traversed in the output (restriction attribute names: \"Avoid Private Roads\" \"Avoid Gates\").\n",
      "\n",
      "Location \"421027779\" in \"Facilities\" is on a soft-restricted network element.\n",
      "Network elements with avoid-restrictions are traversed in the output (restriction attribute names: \"Avoid Gates\").\n",
      "\n",
      "Location \"530610523011\" in \"Incidents\" is on a soft-restricted network element.\n",
      "Location \"421027779\" in \"Facilities\" is on a soft-restricted network element.\n",
      "Network elements with avoid-restrictions are traversed in the output (restriction attribute names: \"Avoid Private Roads\").\n",
      "\n",
      "Location \"530610535052\" in \"Incidents\" is on a soft-restricted network element.\n",
      "Location \"530610536021\" in \"Incidents\" is on a soft-restricted network element.\n",
      "Location \"421027779\" in \"Facilities\" is on a soft-restricted network element.\n",
      "Network elements with avoid-restrictions are traversed in the output (restriction attribute names: \"Avoid Private Roads\").\n",
      "\n"
     ]
    },
    {
     "name": "stdout",
     "output_type": "stream",
     "text": [
      "success - 4179\n"
     ]
    },
    {
     "name": "stderr",
     "output_type": "stream",
     "text": [
      "Location \"421027779\" in \"Facilities\" is on a soft-restricted network element.\n",
      "\n",
      "Location \"530330219063\" in \"Incidents\" is on a soft-restricted network element.\n",
      "Location \"421027779\" in \"Facilities\" is on a soft-restricted network element.\n",
      "Network elements with avoid-restrictions are traversed in the output (restriction attribute names: \"Avoid Private Roads\" \"Avoid Gates\").\n",
      "\n",
      "Location \"421027779\" in \"Facilities\" is on a soft-restricted network element.\n",
      "Network elements with avoid-restrictions are traversed in the output (restriction attribute names: \"Avoid Gates\").\n",
      "\n",
      "Location \"530610523011\" in \"Incidents\" is on a soft-restricted network element.\n",
      "Location \"421027779\" in \"Facilities\" is on a soft-restricted network element.\n",
      "Network elements with avoid-restrictions are traversed in the output (restriction attribute names: \"Avoid Private Roads\").\n",
      "\n",
      "Location \"530610535052\" in \"Incidents\" is on a soft-restricted network element.\n",
      "Location \"530610536021\" in \"Incidents\" is on a soft-restricted network element.\n",
      "Location \"421027779\" in \"Facilities\" is on a soft-restricted network element.\n",
      "Network elements with avoid-restrictions are traversed in the output (restriction attribute names: \"Avoid Private Roads\" \"Avoid Gates\").\n",
      "\n"
     ]
    },
    {
     "name": "stdout",
     "output_type": "stream",
     "text": [
      "success - 4180\n"
     ]
    },
    {
     "name": "stderr",
     "output_type": "stream",
     "text": [
      "Location \"421027779\" in \"Facilities\" is on a soft-restricted network element.\n",
      "Network elements with avoid-restrictions are traversed in the output (restriction attribute names: \"Avoid Gates\").\n",
      "\n",
      "Location \"530330219063\" in \"Incidents\" is on a soft-restricted network element.\n",
      "Location \"421027779\" in \"Facilities\" is on a soft-restricted network element.\n",
      "Network elements with avoid-restrictions are traversed in the output (restriction attribute names: \"Avoid Private Roads\" \"Avoid Gates\").\n",
      "\n",
      "Location \"421027779\" in \"Facilities\" is on a soft-restricted network element.\n",
      "Network elements with avoid-restrictions are traversed in the output (restriction attribute names: \"Avoid Gates\").\n",
      "\n",
      "Location \"530610523011\" in \"Incidents\" is on a soft-restricted network element.\n",
      "Location \"421027779\" in \"Facilities\" is on a soft-restricted network element.\n",
      "Network elements with avoid-restrictions are traversed in the output (restriction attribute names: \"Avoid Private Roads\" \"Avoid Gates\").\n",
      "\n",
      "Location \"530610535052\" in \"Incidents\" is on a soft-restricted network element.\n",
      "Location \"530610536021\" in \"Incidents\" is on a soft-restricted network element.\n",
      "Location \"421027779\" in \"Facilities\" is on a soft-restricted network element.\n",
      "Network elements with avoid-restrictions are traversed in the output (restriction attribute names: \"Avoid Private Roads\" \"Avoid Gates\").\n",
      "\n"
     ]
    },
    {
     "name": "stdout",
     "output_type": "stream",
     "text": [
      "success - 4181\n"
     ]
    },
    {
     "name": "stderr",
     "output_type": "stream",
     "text": [
      "Location \"421027779\" in \"Facilities\" is on a soft-restricted network element.\n",
      "\n",
      "Location \"530330219063\" in \"Incidents\" is on a soft-restricted network element.\n",
      "Location \"421027779\" in \"Facilities\" is on a soft-restricted network element.\n",
      "Network elements with avoid-restrictions are traversed in the output (restriction attribute names: \"Avoid Private Roads\" \"Avoid Gates\").\n",
      "\n",
      "Location \"421027779\" in \"Facilities\" is on a soft-restricted network element.\n",
      "Network elements with avoid-restrictions are traversed in the output (restriction attribute names: \"Avoid Gates\").\n",
      "\n",
      "Location \"530610523011\" in \"Incidents\" is on a soft-restricted network element.\n",
      "Location \"421027779\" in \"Facilities\" is on a soft-restricted network element.\n",
      "Network elements with avoid-restrictions are traversed in the output (restriction attribute names: \"Avoid Private Roads\" \"Avoid Gates\").\n",
      "\n",
      "Location \"530610535052\" in \"Incidents\" is on a soft-restricted network element.\n",
      "Location \"530610536021\" in \"Incidents\" is on a soft-restricted network element.\n",
      "Location \"421027779\" in \"Facilities\" is on a soft-restricted network element.\n",
      "Network elements with avoid-restrictions are traversed in the output (restriction attribute names: \"Avoid Private Roads\").\n",
      "\n"
     ]
    },
    {
     "name": "stdout",
     "output_type": "stream",
     "text": [
      "success - 4182\n"
     ]
    },
    {
     "name": "stderr",
     "output_type": "stream",
     "text": [
      "Location \"421027779\" in \"Facilities\" is on a soft-restricted network element.\n",
      "\n",
      "Location \"530330219063\" in \"Incidents\" is on a soft-restricted network element.\n",
      "Location \"421027779\" in \"Facilities\" is on a soft-restricted network element.\n",
      "Network elements with avoid-restrictions are traversed in the output (restriction attribute names: \"Avoid Private Roads\" \"Avoid Gates\").\n",
      "\n",
      "Location \"421027779\" in \"Facilities\" is on a soft-restricted network element.\n",
      "Network elements with avoid-restrictions are traversed in the output (restriction attribute names: \"Avoid Gates\").\n",
      "\n",
      "Location \"530610523011\" in \"Incidents\" is on a soft-restricted network element.\n",
      "Location \"421027779\" in \"Facilities\" is on a soft-restricted network element.\n",
      "Network elements with avoid-restrictions are traversed in the output (restriction attribute names: \"Avoid Private Roads\").\n",
      "\n",
      "Location \"530610535052\" in \"Incidents\" is on a soft-restricted network element.\n",
      "Location \"530610536021\" in \"Incidents\" is on a soft-restricted network element.\n",
      "Location \"421027779\" in \"Facilities\" is on a soft-restricted network element.\n",
      "Network elements with avoid-restrictions are traversed in the output (restriction attribute names: \"Avoid Private Roads\").\n",
      "\n"
     ]
    },
    {
     "name": "stdout",
     "output_type": "stream",
     "text": [
      "success - 4183\n"
     ]
    },
    {
     "name": "stderr",
     "output_type": "stream",
     "text": [
      "Location \"421027779\" in \"Facilities\" is on a soft-restricted network element.\n",
      "\n",
      "Location \"530330219063\" in \"Incidents\" is on a soft-restricted network element.\n",
      "Location \"421027779\" in \"Facilities\" is on a soft-restricted network element.\n",
      "Network elements with avoid-restrictions are traversed in the output (restriction attribute names: \"Avoid Private Roads\" \"Avoid Gates\").\n",
      "\n",
      "Location \"421027779\" in \"Facilities\" is on a soft-restricted network element.\n",
      "Network elements with avoid-restrictions are traversed in the output (restriction attribute names: \"Avoid Gates\").\n",
      "\n",
      "Location \"530610523011\" in \"Incidents\" is on a soft-restricted network element.\n",
      "Location \"421027779\" in \"Facilities\" is on a soft-restricted network element.\n",
      "Network elements with avoid-restrictions are traversed in the output (restriction attribute names: \"Avoid Private Roads\").\n",
      "\n",
      "Location \"530610535052\" in \"Incidents\" is on a soft-restricted network element.\n",
      "Location \"530610536021\" in \"Incidents\" is on a soft-restricted network element.\n",
      "Location \"421027779\" in \"Facilities\" is on a soft-restricted network element.\n",
      "Network elements with avoid-restrictions are traversed in the output (restriction attribute names: \"Avoid Private Roads\").\n",
      "\n"
     ]
    },
    {
     "name": "stdout",
     "output_type": "stream",
     "text": [
      "success - 4184\n"
     ]
    },
    {
     "name": "stderr",
     "output_type": "stream",
     "text": [
      "Location \"421027779\" in \"Facilities\" is on a soft-restricted network element.\n",
      "\n",
      "Location \"530330219063\" in \"Incidents\" is on a soft-restricted network element.\n",
      "Location \"421027779\" in \"Facilities\" is on a soft-restricted network element.\n",
      "Network elements with avoid-restrictions are traversed in the output (restriction attribute names: \"Avoid Private Roads\" \"Avoid Gates\").\n",
      "\n",
      "Location \"421027779\" in \"Facilities\" is on a soft-restricted network element.\n",
      "Network elements with avoid-restrictions are traversed in the output (restriction attribute names: \"Avoid Gates\").\n",
      "\n",
      "Location \"530610523011\" in \"Incidents\" is on a soft-restricted network element.\n",
      "Location \"421027779\" in \"Facilities\" is on a soft-restricted network element.\n",
      "Network elements with avoid-restrictions are traversed in the output (restriction attribute names: \"Avoid Private Roads\").\n",
      "\n",
      "Location \"530610535052\" in \"Incidents\" is on a soft-restricted network element.\n",
      "Location \"530610536021\" in \"Incidents\" is on a soft-restricted network element.\n",
      "Location \"421027779\" in \"Facilities\" is on a soft-restricted network element.\n",
      "Network elements with avoid-restrictions are traversed in the output (restriction attribute names: \"Avoid Private Roads\").\n",
      "\n"
     ]
    },
    {
     "name": "stdout",
     "output_type": "stream",
     "text": [
      "success - 4186\n"
     ]
    },
    {
     "name": "stderr",
     "output_type": "stream",
     "text": [
      "Location \"421027779\" in \"Facilities\" is on a soft-restricted network element.\n",
      "\n",
      "Location \"530330219063\" in \"Incidents\" is on a soft-restricted network element.\n",
      "Location \"421027779\" in \"Facilities\" is on a soft-restricted network element.\n",
      "Network elements with avoid-restrictions are traversed in the output (restriction attribute names: \"Avoid Private Roads\" \"Avoid Gates\").\n",
      "\n",
      "Location \"421027779\" in \"Facilities\" is on a soft-restricted network element.\n",
      "Network elements with avoid-restrictions are traversed in the output (restriction attribute names: \"Avoid Gates\").\n",
      "\n",
      "Location \"530610523011\" in \"Incidents\" is on a soft-restricted network element.\n",
      "Location \"421027779\" in \"Facilities\" is on a soft-restricted network element.\n",
      "Network elements with avoid-restrictions are traversed in the output (restriction attribute names: \"Avoid Private Roads\").\n",
      "\n",
      "Location \"530610535052\" in \"Incidents\" is on a soft-restricted network element.\n",
      "Location \"530610536021\" in \"Incidents\" is on a soft-restricted network element.\n",
      "Location \"421027779\" in \"Facilities\" is on a soft-restricted network element.\n",
      "Network elements with avoid-restrictions are traversed in the output (restriction attribute names: \"Avoid Private Roads\").\n",
      "\n"
     ]
    },
    {
     "name": "stdout",
     "output_type": "stream",
     "text": [
      "success - 4187\n"
     ]
    },
    {
     "name": "stderr",
     "output_type": "stream",
     "text": [
      "Location \"421027779\" in \"Facilities\" is on a soft-restricted network element.\n",
      "\n",
      "Location \"530330219063\" in \"Incidents\" is on a soft-restricted network element.\n",
      "Location \"421027779\" in \"Facilities\" is on a soft-restricted network element.\n",
      "Network elements with avoid-restrictions are traversed in the output (restriction attribute names: \"Avoid Private Roads\" \"Avoid Gates\").\n",
      "\n",
      "Location \"421027779\" in \"Facilities\" is on a soft-restricted network element.\n",
      "Network elements with avoid-restrictions are traversed in the output (restriction attribute names: \"Avoid Gates\").\n",
      "\n",
      "Location \"530610523011\" in \"Incidents\" is on a soft-restricted network element.\n",
      "Location \"421027779\" in \"Facilities\" is on a soft-restricted network element.\n",
      "Network elements with avoid-restrictions are traversed in the output (restriction attribute names: \"Avoid Private Roads\").\n",
      "\n",
      "Location \"530610535052\" in \"Incidents\" is on a soft-restricted network element.\n",
      "Location \"530610536021\" in \"Incidents\" is on a soft-restricted network element.\n",
      "Location \"421027779\" in \"Facilities\" is on a soft-restricted network element.\n",
      "Network elements with avoid-restrictions are traversed in the output (restriction attribute names: \"Avoid Private Roads\").\n",
      "\n"
     ]
    },
    {
     "name": "stdout",
     "output_type": "stream",
     "text": [
      "success - 4188\n"
     ]
    },
    {
     "name": "stderr",
     "output_type": "stream",
     "text": [
      "Location \"421027779\" in \"Facilities\" is on a soft-restricted network element.\n",
      "\n",
      "Location \"530330219063\" in \"Incidents\" is on a soft-restricted network element.\n",
      "Location \"421027779\" in \"Facilities\" is on a soft-restricted network element.\n",
      "Network elements with avoid-restrictions are traversed in the output (restriction attribute names: \"Avoid Private Roads\" \"Avoid Gates\").\n",
      "\n",
      "Location \"421027779\" in \"Facilities\" is on a soft-restricted network element.\n",
      "Network elements with avoid-restrictions are traversed in the output (restriction attribute names: \"Avoid Gates\").\n",
      "\n",
      "Location \"530610523011\" in \"Incidents\" is on a soft-restricted network element.\n",
      "Location \"421027779\" in \"Facilities\" is on a soft-restricted network element.\n",
      "Network elements with avoid-restrictions are traversed in the output (restriction attribute names: \"Avoid Private Roads\").\n",
      "\n",
      "Location \"530610535052\" in \"Incidents\" is on a soft-restricted network element.\n",
      "Location \"530610536021\" in \"Incidents\" is on a soft-restricted network element.\n",
      "Location \"421027779\" in \"Facilities\" is on a soft-restricted network element.\n",
      "Network elements with avoid-restrictions are traversed in the output (restriction attribute names: \"Avoid Private Roads\").\n",
      "\n"
     ]
    },
    {
     "name": "stdout",
     "output_type": "stream",
     "text": [
      "success - 4189\n"
     ]
    },
    {
     "name": "stderr",
     "output_type": "stream",
     "text": [
      "Location \"421027779\" in \"Facilities\" is on a soft-restricted network element.\n",
      "\n",
      "Location \"530330219063\" in \"Incidents\" is on a soft-restricted network element.\n",
      "Location \"421027779\" in \"Facilities\" is on a soft-restricted network element.\n",
      "Network elements with avoid-restrictions are traversed in the output (restriction attribute names: \"Avoid Private Roads\" \"Avoid Gates\").\n",
      "\n",
      "Location \"421027779\" in \"Facilities\" is on a soft-restricted network element.\n",
      "Network elements with avoid-restrictions are traversed in the output (restriction attribute names: \"Avoid Gates\").\n",
      "\n",
      "Location \"530610523011\" in \"Incidents\" is on a soft-restricted network element.\n",
      "Location \"421027779\" in \"Facilities\" is on a soft-restricted network element.\n",
      "Network elements with avoid-restrictions are traversed in the output (restriction attribute names: \"Avoid Private Roads\").\n",
      "\n",
      "Location \"530610535052\" in \"Incidents\" is on a soft-restricted network element.\n",
      "Location \"530610536021\" in \"Incidents\" is on a soft-restricted network element.\n",
      "Location \"421027779\" in \"Facilities\" is on a soft-restricted network element.\n",
      "Network elements with avoid-restrictions are traversed in the output (restriction attribute names: \"Avoid Private Roads\").\n",
      "\n"
     ]
    },
    {
     "name": "stdout",
     "output_type": "stream",
     "text": [
      "success - 4190\n"
     ]
    },
    {
     "name": "stderr",
     "output_type": "stream",
     "text": [
      "Location \"421027779\" in \"Facilities\" is on a soft-restricted network element.\n",
      "\n",
      "Location \"530330219063\" in \"Incidents\" is on a soft-restricted network element.\n",
      "Location \"421027779\" in \"Facilities\" is on a soft-restricted network element.\n",
      "Network elements with avoid-restrictions are traversed in the output (restriction attribute names: \"Avoid Private Roads\" \"Avoid Gates\").\n",
      "\n",
      "Location \"421027779\" in \"Facilities\" is on a soft-restricted network element.\n",
      "Network elements with avoid-restrictions are traversed in the output (restriction attribute names: \"Avoid Gates\").\n",
      "\n",
      "Location \"530610523011\" in \"Incidents\" is on a soft-restricted network element.\n",
      "Location \"421027779\" in \"Facilities\" is on a soft-restricted network element.\n",
      "Network elements with avoid-restrictions are traversed in the output (restriction attribute names: \"Avoid Private Roads\").\n",
      "\n",
      "Location \"530610535052\" in \"Incidents\" is on a soft-restricted network element.\n",
      "Location \"530610536021\" in \"Incidents\" is on a soft-restricted network element.\n",
      "Location \"421027779\" in \"Facilities\" is on a soft-restricted network element.\n",
      "Network elements with avoid-restrictions are traversed in the output (restriction attribute names: \"Avoid Private Roads\").\n",
      "\n"
     ]
    },
    {
     "name": "stdout",
     "output_type": "stream",
     "text": [
      "success - 4191\n"
     ]
    },
    {
     "name": "stderr",
     "output_type": "stream",
     "text": [
      "Location \"421027779\" in \"Facilities\" is on a soft-restricted network element.\n",
      "\n",
      "Location \"530330219063\" in \"Incidents\" is on a soft-restricted network element.\n",
      "Location \"421027779\" in \"Facilities\" is on a soft-restricted network element.\n",
      "Network elements with avoid-restrictions are traversed in the output (restriction attribute names: \"Avoid Private Roads\" \"Avoid Gates\").\n",
      "\n",
      "Location \"421027779\" in \"Facilities\" is on a soft-restricted network element.\n",
      "Network elements with avoid-restrictions are traversed in the output (restriction attribute names: \"Avoid Gates\").\n",
      "\n",
      "Location \"530610523011\" in \"Incidents\" is on a soft-restricted network element.\n",
      "Location \"421027779\" in \"Facilities\" is on a soft-restricted network element.\n",
      "Network elements with avoid-restrictions are traversed in the output (restriction attribute names: \"Avoid Private Roads\").\n",
      "\n",
      "Location \"530610535052\" in \"Incidents\" is on a soft-restricted network element.\n",
      "Location \"530610536021\" in \"Incidents\" is on a soft-restricted network element.\n",
      "Location \"421027779\" in \"Facilities\" is on a soft-restricted network element.\n",
      "Network elements with avoid-restrictions are traversed in the output (restriction attribute names: \"Avoid Private Roads\").\n",
      "\n"
     ]
    },
    {
     "name": "stdout",
     "output_type": "stream",
     "text": [
      "success - 4192\n"
     ]
    },
    {
     "name": "stderr",
     "output_type": "stream",
     "text": [
      "Location \"421027779\" in \"Facilities\" is on a soft-restricted network element.\n",
      "\n",
      "Location \"530330219063\" in \"Incidents\" is on a soft-restricted network element.\n",
      "Location \"421027779\" in \"Facilities\" is on a soft-restricted network element.\n",
      "Network elements with avoid-restrictions are traversed in the output (restriction attribute names: \"Avoid Private Roads\" \"Avoid Gates\").\n",
      "\n",
      "Location \"421027779\" in \"Facilities\" is on a soft-restricted network element.\n",
      "Network elements with avoid-restrictions are traversed in the output (restriction attribute names: \"Avoid Gates\").\n",
      "\n",
      "Location \"530610523011\" in \"Incidents\" is on a soft-restricted network element.\n",
      "Location \"421027779\" in \"Facilities\" is on a soft-restricted network element.\n",
      "Network elements with avoid-restrictions are traversed in the output (restriction attribute names: \"Avoid Private Roads\").\n",
      "\n",
      "Location \"530610535052\" in \"Incidents\" is on a soft-restricted network element.\n",
      "Location \"530610536021\" in \"Incidents\" is on a soft-restricted network element.\n",
      "Location \"421027779\" in \"Facilities\" is on a soft-restricted network element.\n",
      "Network elements with avoid-restrictions are traversed in the output (restriction attribute names: \"Avoid Private Roads\").\n",
      "\n"
     ]
    },
    {
     "name": "stdout",
     "output_type": "stream",
     "text": [
      "success - 4193\n"
     ]
    },
    {
     "name": "stderr",
     "output_type": "stream",
     "text": [
      "Location \"421027779\" in \"Facilities\" is on a soft-restricted network element.\n",
      "\n",
      "Location \"530330219063\" in \"Incidents\" is on a soft-restricted network element.\n",
      "Location \"421027779\" in \"Facilities\" is on a soft-restricted network element.\n",
      "Network elements with avoid-restrictions are traversed in the output (restriction attribute names: \"Avoid Private Roads\" \"Avoid Gates\").\n",
      "\n",
      "Location \"421027779\" in \"Facilities\" is on a soft-restricted network element.\n",
      "Network elements with avoid-restrictions are traversed in the output (restriction attribute names: \"Avoid Gates\").\n",
      "\n",
      "Location \"530610523011\" in \"Incidents\" is on a soft-restricted network element.\n",
      "Location \"421027779\" in \"Facilities\" is on a soft-restricted network element.\n",
      "Network elements with avoid-restrictions are traversed in the output (restriction attribute names: \"Avoid Private Roads\").\n",
      "\n",
      "Location \"530610535052\" in \"Incidents\" is on a soft-restricted network element.\n",
      "Location \"530610536021\" in \"Incidents\" is on a soft-restricted network element.\n",
      "Location \"421027779\" in \"Facilities\" is on a soft-restricted network element.\n",
      "Network elements with avoid-restrictions are traversed in the output (restriction attribute names: \"Avoid Private Roads\").\n",
      "\n"
     ]
    },
    {
     "name": "stdout",
     "output_type": "stream",
     "text": [
      "success - 4194\n"
     ]
    },
    {
     "name": "stderr",
     "output_type": "stream",
     "text": [
      "Location \"421027779\" in \"Facilities\" is on a soft-restricted network element.\n",
      "\n",
      "Location \"530330219063\" in \"Incidents\" is on a soft-restricted network element.\n",
      "Location \"421027779\" in \"Facilities\" is on a soft-restricted network element.\n",
      "Network elements with avoid-restrictions are traversed in the output (restriction attribute names: \"Avoid Private Roads\" \"Avoid Gates\").\n",
      "\n",
      "Location \"421027779\" in \"Facilities\" is on a soft-restricted network element.\n",
      "Network elements with avoid-restrictions are traversed in the output (restriction attribute names: \"Avoid Gates\").\n",
      "\n",
      "Location \"530610523011\" in \"Incidents\" is on a soft-restricted network element.\n",
      "Location \"421027779\" in \"Facilities\" is on a soft-restricted network element.\n",
      "Network elements with avoid-restrictions are traversed in the output (restriction attribute names: \"Avoid Private Roads\").\n",
      "\n",
      "Location \"530610535052\" in \"Incidents\" is on a soft-restricted network element.\n",
      "Location \"530610536021\" in \"Incidents\" is on a soft-restricted network element.\n",
      "Location \"421027779\" in \"Facilities\" is on a soft-restricted network element.\n",
      "Network elements with avoid-restrictions are traversed in the output (restriction attribute names: \"Avoid Private Roads\").\n",
      "\n"
     ]
    },
    {
     "name": "stdout",
     "output_type": "stream",
     "text": [
      "success - 4197\n"
     ]
    },
    {
     "name": "stderr",
     "output_type": "stream",
     "text": [
      "Location \"421027779\" in \"Facilities\" is on a soft-restricted network element.\n",
      "\n",
      "Location \"530330219063\" in \"Incidents\" is on a soft-restricted network element.\n",
      "Location \"421027779\" in \"Facilities\" is on a soft-restricted network element.\n",
      "Network elements with avoid-restrictions are traversed in the output (restriction attribute names: \"Avoid Private Roads\" \"Avoid Gates\").\n",
      "\n",
      "Location \"421027779\" in \"Facilities\" is on a soft-restricted network element.\n",
      "Network elements with avoid-restrictions are traversed in the output (restriction attribute names: \"Avoid Gates\").\n",
      "\n",
      "Location \"530610523011\" in \"Incidents\" is on a soft-restricted network element.\n",
      "Location \"421027779\" in \"Facilities\" is on a soft-restricted network element.\n",
      "Network elements with avoid-restrictions are traversed in the output (restriction attribute names: \"Avoid Private Roads\").\n",
      "\n",
      "Location \"530610535052\" in \"Incidents\" is on a soft-restricted network element.\n",
      "Location \"530610536021\" in \"Incidents\" is on a soft-restricted network element.\n",
      "Location \"421027779\" in \"Facilities\" is on a soft-restricted network element.\n",
      "Network elements with avoid-restrictions are traversed in the output (restriction attribute names: \"Avoid Private Roads\").\n",
      "\n"
     ]
    },
    {
     "name": "stdout",
     "output_type": "stream",
     "text": [
      "success - 4198\n"
     ]
    },
    {
     "name": "stderr",
     "output_type": "stream",
     "text": [
      "Location \"421027779\" in \"Facilities\" is on a soft-restricted network element.\n",
      "\n",
      "Location \"530330219063\" in \"Incidents\" is on a soft-restricted network element.\n",
      "Location \"421027779\" in \"Facilities\" is on a soft-restricted network element.\n",
      "Network elements with avoid-restrictions are traversed in the output (restriction attribute names: \"Avoid Private Roads\" \"Avoid Gates\").\n",
      "\n",
      "Location \"421027779\" in \"Facilities\" is on a soft-restricted network element.\n",
      "Network elements with avoid-restrictions are traversed in the output (restriction attribute names: \"Avoid Gates\").\n",
      "\n",
      "Location \"530610523011\" in \"Incidents\" is on a soft-restricted network element.\n",
      "Location \"421027779\" in \"Facilities\" is on a soft-restricted network element.\n",
      "Network elements with avoid-restrictions are traversed in the output (restriction attribute names: \"Avoid Private Roads\").\n",
      "\n",
      "Location \"530610535052\" in \"Incidents\" is on a soft-restricted network element.\n",
      "Location \"530610536021\" in \"Incidents\" is on a soft-restricted network element.\n",
      "Location \"421027779\" in \"Facilities\" is on a soft-restricted network element.\n",
      "Network elements with avoid-restrictions are traversed in the output (restriction attribute names: \"Avoid Private Roads\").\n",
      "\n"
     ]
    },
    {
     "name": "stdout",
     "output_type": "stream",
     "text": [
      "success - 4199\n"
     ]
    },
    {
     "name": "stderr",
     "output_type": "stream",
     "text": [
      "Location \"421027779\" in \"Facilities\" is on a soft-restricted network element.\n",
      "\n",
      "Location \"530330219063\" in \"Incidents\" is on a soft-restricted network element.\n",
      "Location \"421027779\" in \"Facilities\" is on a soft-restricted network element.\n",
      "Network elements with avoid-restrictions are traversed in the output (restriction attribute names: \"Avoid Private Roads\" \"Avoid Gates\").\n",
      "\n",
      "Location \"421027779\" in \"Facilities\" is on a soft-restricted network element.\n",
      "Network elements with avoid-restrictions are traversed in the output (restriction attribute names: \"Avoid Gates\").\n",
      "\n",
      "Location \"530610523011\" in \"Incidents\" is on a soft-restricted network element.\n",
      "Location \"421027779\" in \"Facilities\" is on a soft-restricted network element.\n",
      "Network elements with avoid-restrictions are traversed in the output (restriction attribute names: \"Avoid Private Roads\").\n",
      "\n",
      "Location \"530610535052\" in \"Incidents\" is on a soft-restricted network element.\n",
      "Location \"530610536021\" in \"Incidents\" is on a soft-restricted network element.\n",
      "Location \"421027779\" in \"Facilities\" is on a soft-restricted network element.\n",
      "Network elements with avoid-restrictions are traversed in the output (restriction attribute names: \"Avoid Private Roads\").\n",
      "\n"
     ]
    },
    {
     "name": "stdout",
     "output_type": "stream",
     "text": [
      "success - 4200\n"
     ]
    },
    {
     "name": "stderr",
     "output_type": "stream",
     "text": [
      "Location \"421027779\" in \"Facilities\" is on a soft-restricted network element.\n",
      "\n",
      "Location \"530330219063\" in \"Incidents\" is on a soft-restricted network element.\n",
      "Location \"421027779\" in \"Facilities\" is on a soft-restricted network element.\n",
      "Network elements with avoid-restrictions are traversed in the output (restriction attribute names: \"Avoid Private Roads\" \"Avoid Gates\").\n",
      "\n",
      "Location \"421027779\" in \"Facilities\" is on a soft-restricted network element.\n",
      "Network elements with avoid-restrictions are traversed in the output (restriction attribute names: \"Avoid Gates\").\n",
      "\n",
      "Location \"530610523011\" in \"Incidents\" is on a soft-restricted network element.\n",
      "Location \"421027779\" in \"Facilities\" is on a soft-restricted network element.\n",
      "Network elements with avoid-restrictions are traversed in the output (restriction attribute names: \"Avoid Private Roads\").\n",
      "\n",
      "Location \"530610535052\" in \"Incidents\" is on a soft-restricted network element.\n",
      "Location \"530610536021\" in \"Incidents\" is on a soft-restricted network element.\n",
      "Location \"421027779\" in \"Facilities\" is on a soft-restricted network element.\n",
      "Network elements with avoid-restrictions are traversed in the output (restriction attribute names: \"Avoid Private Roads\").\n",
      "\n"
     ]
    },
    {
     "name": "stdout",
     "output_type": "stream",
     "text": [
      "success - 4201\n"
     ]
    },
    {
     "name": "stderr",
     "output_type": "stream",
     "text": [
      "Location \"421027779\" in \"Facilities\" is on a soft-restricted network element.\n",
      "\n",
      "Location \"530330219063\" in \"Incidents\" is on a soft-restricted network element.\n",
      "Location \"421027779\" in \"Facilities\" is on a soft-restricted network element.\n",
      "Network elements with avoid-restrictions are traversed in the output (restriction attribute names: \"Avoid Private Roads\" \"Avoid Gates\").\n",
      "\n",
      "Location \"421027779\" in \"Facilities\" is on a soft-restricted network element.\n",
      "Network elements with avoid-restrictions are traversed in the output (restriction attribute names: \"Avoid Gates\").\n",
      "\n",
      "Location \"530610523011\" in \"Incidents\" is on a soft-restricted network element.\n",
      "Location \"421027779\" in \"Facilities\" is on a soft-restricted network element.\n",
      "Network elements with avoid-restrictions are traversed in the output (restriction attribute names: \"Avoid Private Roads\").\n",
      "\n",
      "Location \"530610535052\" in \"Incidents\" is on a soft-restricted network element.\n",
      "Location \"530610536021\" in \"Incidents\" is on a soft-restricted network element.\n",
      "Location \"421027779\" in \"Facilities\" is on a soft-restricted network element.\n",
      "Network elements with avoid-restrictions are traversed in the output (restriction attribute names: \"Avoid Private Roads\").\n",
      "\n"
     ]
    },
    {
     "name": "stdout",
     "output_type": "stream",
     "text": [
      "success - 4202\n"
     ]
    },
    {
     "name": "stderr",
     "output_type": "stream",
     "text": [
      "Location \"421027779\" in \"Facilities\" is on a soft-restricted network element.\n",
      "\n",
      "Location \"530330219063\" in \"Incidents\" is on a soft-restricted network element.\n",
      "Location \"421027779\" in \"Facilities\" is on a soft-restricted network element.\n",
      "Network elements with avoid-restrictions are traversed in the output (restriction attribute names: \"Avoid Private Roads\" \"Avoid Gates\").\n",
      "\n",
      "Location \"421027779\" in \"Facilities\" is on a soft-restricted network element.\n",
      "Network elements with avoid-restrictions are traversed in the output (restriction attribute names: \"Avoid Gates\").\n",
      "\n",
      "Location \"530610523011\" in \"Incidents\" is on a soft-restricted network element.\n",
      "Location \"421027779\" in \"Facilities\" is on a soft-restricted network element.\n",
      "Network elements with avoid-restrictions are traversed in the output (restriction attribute names: \"Avoid Private Roads\").\n",
      "\n",
      "Location \"530610535052\" in \"Incidents\" is on a soft-restricted network element.\n",
      "Location \"530610536021\" in \"Incidents\" is on a soft-restricted network element.\n",
      "Location \"421027779\" in \"Facilities\" is on a soft-restricted network element.\n",
      "Network elements with avoid-restrictions are traversed in the output (restriction attribute names: \"Avoid Private Roads\").\n",
      "\n"
     ]
    },
    {
     "name": "stdout",
     "output_type": "stream",
     "text": [
      "success - 4203\n"
     ]
    },
    {
     "name": "stderr",
     "output_type": "stream",
     "text": [
      "Location \"421027779\" in \"Facilities\" is on a soft-restricted network element.\n",
      "\n",
      "Location \"530330219063\" in \"Incidents\" is on a soft-restricted network element.\n",
      "Location \"421027779\" in \"Facilities\" is on a soft-restricted network element.\n",
      "Network elements with avoid-restrictions are traversed in the output (restriction attribute names: \"Avoid Private Roads\" \"Avoid Gates\").\n",
      "\n",
      "Location \"421027779\" in \"Facilities\" is on a soft-restricted network element.\n",
      "Network elements with avoid-restrictions are traversed in the output (restriction attribute names: \"Avoid Gates\").\n",
      "\n",
      "Location \"530610523011\" in \"Incidents\" is on a soft-restricted network element.\n",
      "Location \"421027779\" in \"Facilities\" is on a soft-restricted network element.\n",
      "Network elements with avoid-restrictions are traversed in the output (restriction attribute names: \"Avoid Private Roads\").\n",
      "\n",
      "Location \"530610535052\" in \"Incidents\" is on a soft-restricted network element.\n",
      "Location \"530610536021\" in \"Incidents\" is on a soft-restricted network element.\n",
      "Location \"421027779\" in \"Facilities\" is on a soft-restricted network element.\n",
      "Network elements with avoid-restrictions are traversed in the output (restriction attribute names: \"Avoid Private Roads\").\n",
      "\n"
     ]
    },
    {
     "name": "stdout",
     "output_type": "stream",
     "text": [
      "success - 4204\n"
     ]
    },
    {
     "name": "stderr",
     "output_type": "stream",
     "text": [
      "Location \"421027779\" in \"Facilities\" is on a soft-restricted network element.\n",
      "\n",
      "Location \"530330219063\" in \"Incidents\" is on a soft-restricted network element.\n",
      "Location \"421027779\" in \"Facilities\" is on a soft-restricted network element.\n",
      "Network elements with avoid-restrictions are traversed in the output (restriction attribute names: \"Avoid Private Roads\" \"Avoid Gates\").\n",
      "\n",
      "Location \"421027779\" in \"Facilities\" is on a soft-restricted network element.\n",
      "Network elements with avoid-restrictions are traversed in the output (restriction attribute names: \"Avoid Gates\").\n",
      "\n",
      "Location \"530610523011\" in \"Incidents\" is on a soft-restricted network element.\n",
      "Location \"421027779\" in \"Facilities\" is on a soft-restricted network element.\n",
      "Network elements with avoid-restrictions are traversed in the output (restriction attribute names: \"Avoid Private Roads\").\n",
      "\n",
      "Location \"530610535052\" in \"Incidents\" is on a soft-restricted network element.\n",
      "Location \"530610536021\" in \"Incidents\" is on a soft-restricted network element.\n",
      "Location \"421027779\" in \"Facilities\" is on a soft-restricted network element.\n",
      "Network elements with avoid-restrictions are traversed in the output (restriction attribute names: \"Avoid Private Roads\").\n",
      "\n"
     ]
    },
    {
     "name": "stdout",
     "output_type": "stream",
     "text": [
      "success - 4205\n"
     ]
    },
    {
     "name": "stderr",
     "output_type": "stream",
     "text": [
      "Location \"421027779\" in \"Facilities\" is on a soft-restricted network element.\n",
      "\n",
      "Location \"530330219063\" in \"Incidents\" is on a soft-restricted network element.\n",
      "Location \"421027779\" in \"Facilities\" is on a soft-restricted network element.\n",
      "Network elements with avoid-restrictions are traversed in the output (restriction attribute names: \"Avoid Private Roads\" \"Avoid Gates\").\n",
      "\n",
      "Location \"421027779\" in \"Facilities\" is on a soft-restricted network element.\n",
      "Network elements with avoid-restrictions are traversed in the output (restriction attribute names: \"Avoid Gates\").\n",
      "\n",
      "Location \"530610523011\" in \"Incidents\" is on a soft-restricted network element.\n",
      "Location \"421027779\" in \"Facilities\" is on a soft-restricted network element.\n",
      "Network elements with avoid-restrictions are traversed in the output (restriction attribute names: \"Avoid Private Roads\").\n",
      "\n",
      "Location \"530610535052\" in \"Incidents\" is on a soft-restricted network element.\n",
      "Location \"530610536021\" in \"Incidents\" is on a soft-restricted network element.\n",
      "Location \"421027779\" in \"Facilities\" is on a soft-restricted network element.\n",
      "Network elements with avoid-restrictions are traversed in the output (restriction attribute names: \"Avoid Private Roads\").\n",
      "\n"
     ]
    },
    {
     "name": "stdout",
     "output_type": "stream",
     "text": [
      "success - 4206\n"
     ]
    },
    {
     "name": "stderr",
     "output_type": "stream",
     "text": [
      "Location \"421027779\" in \"Facilities\" is on a soft-restricted network element.\n",
      "\n",
      "Location \"530330219063\" in \"Incidents\" is on a soft-restricted network element.\n",
      "Location \"421027779\" in \"Facilities\" is on a soft-restricted network element.\n",
      "Network elements with avoid-restrictions are traversed in the output (restriction attribute names: \"Avoid Private Roads\" \"Avoid Gates\").\n",
      "\n",
      "Location \"421027779\" in \"Facilities\" is on a soft-restricted network element.\n",
      "Network elements with avoid-restrictions are traversed in the output (restriction attribute names: \"Avoid Gates\").\n",
      "\n",
      "Location \"530610523011\" in \"Incidents\" is on a soft-restricted network element.\n",
      "Location \"421027779\" in \"Facilities\" is on a soft-restricted network element.\n",
      "Network elements with avoid-restrictions are traversed in the output (restriction attribute names: \"Avoid Private Roads\").\n",
      "\n",
      "Location \"530610535052\" in \"Incidents\" is on a soft-restricted network element.\n",
      "Location \"530610536021\" in \"Incidents\" is on a soft-restricted network element.\n",
      "Location \"421027779\" in \"Facilities\" is on a soft-restricted network element.\n",
      "Network elements with avoid-restrictions are traversed in the output (restriction attribute names: \"Avoid Private Roads\").\n",
      "\n"
     ]
    },
    {
     "name": "stdout",
     "output_type": "stream",
     "text": [
      "success - 4207\n"
     ]
    },
    {
     "name": "stderr",
     "output_type": "stream",
     "text": [
      "Location \"421027779\" in \"Facilities\" is on a soft-restricted network element.\n",
      "\n",
      "Location \"530330219063\" in \"Incidents\" is on a soft-restricted network element.\n",
      "Location \"421027779\" in \"Facilities\" is on a soft-restricted network element.\n",
      "Network elements with avoid-restrictions are traversed in the output (restriction attribute names: \"Avoid Private Roads\" \"Avoid Gates\").\n",
      "\n",
      "Location \"421027779\" in \"Facilities\" is on a soft-restricted network element.\n",
      "Network elements with avoid-restrictions are traversed in the output (restriction attribute names: \"Avoid Gates\").\n",
      "\n",
      "Location \"530610523011\" in \"Incidents\" is on a soft-restricted network element.\n",
      "Location \"421027779\" in \"Facilities\" is on a soft-restricted network element.\n",
      "Network elements with avoid-restrictions are traversed in the output (restriction attribute names: \"Avoid Private Roads\").\n",
      "\n",
      "Location \"530610535052\" in \"Incidents\" is on a soft-restricted network element.\n",
      "Location \"530610536021\" in \"Incidents\" is on a soft-restricted network element.\n",
      "Location \"421027779\" in \"Facilities\" is on a soft-restricted network element.\n",
      "Network elements with avoid-restrictions are traversed in the output (restriction attribute names: \"Avoid Private Roads\").\n",
      "\n"
     ]
    },
    {
     "name": "stdout",
     "output_type": "stream",
     "text": [
      "success - 4208\n"
     ]
    }
   ],
   "source": [
    "import warnings\n",
    "warnings.filterwarnings('ignore')\n",
    "\n",
    "real_estate_df.reset_index(inplace=True, drop=True)\n",
    "\n",
    "for idx, row in real_estate_df[~real_estate_df.GRID_ID.astype('int64').isin(old_affected_df.new_destination_id.unique())].iterrows():\n",
    "    rebal_result = get_affected_df(get_new_tuple(row, real_estate_id_fld))\n",
    "    if idx == 0:\n",
    "        affected_df = rebal_result\n",
    "    else:\n",
    "        affected_df = affected_df.append(rebal_result)\n",
    "    print(f'success - {row[0]}')\n",
    "    \n",
    "    affected_df.to_csv(interim_dir/'ace_affected_04.csv')"
   ]
  },
  {
   "cell_type": "code",
   "execution_count": null,
   "metadata": {},
   "outputs": [],
   "source": []
  }
 ],
 "metadata": {
  "kernelspec": {
   "display_name": "Python 3",
   "language": "python",
   "name": "python3"
  },
  "language_info": {
   "codemirror_mode": {
    "name": "ipython",
    "version": 3
   },
   "file_extension": ".py",
   "mimetype": "text/x-python",
   "name": "python",
   "nbconvert_exporter": "python",
   "pygments_lexer": "ipython3",
   "version": "3.6.8"
  }
 },
 "nbformat": 4,
 "nbformat_minor": 2
}
