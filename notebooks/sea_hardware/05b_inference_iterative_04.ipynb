{
 "cells": [
  {
   "cell_type": "code",
   "execution_count": 1,
   "metadata": {},
   "outputs": [],
   "source": [
    "import itertools\n",
    "import os\n",
    "from pathlib import Path\n",
    "import pickle\n",
    "import sys\n",
    "\n",
    "from arcgis.gis import GIS\n",
    "from arcgis.features import GeoAccessor\n",
    "from arcgis.geometry import Geometry\n",
    "import pandas as pd\n",
    "\n",
    "sys.path.append('../../src')\n",
    "from geoai_retail.analysis import get_add_new_closest_dataframe\n",
    "\n",
    "sys.path.append('../')\n",
    "import config\n",
    "\n",
    "%load_ext autoreload\n",
    "%autoreload 2"
   ]
  },
  {
   "cell_type": "code",
   "execution_count": 2,
   "metadata": {},
   "outputs": [],
   "source": [
    "data = Path(os.path.abspath('../../data'))\n",
    "interim_dir = data/'interim'\n",
    "interim_gdb = interim_dir/'interim.gdb'\n",
    "raw_dir = data/'raw'\n",
    "raw_gdb = raw_dir/'raw.gdb'\n",
    "\n",
    "origin_fc = str(raw_gdb/'sea_block_group')\n",
    "origin_id_fld = 'ID'\n",
    "\n",
    "dest_fc = str(raw_gdb/'sea_ace')\n",
    "dest_id_fld = 'LOCNUM'\n",
    "\n",
    "comp_fc = raw_gdb/'sea_ace_comp'\n",
    "comp_id_fld = 'LOCNUM'\n",
    "\n",
    "real_estate_fc = raw_gdb/'real_estate_hex'\n",
    "real_estate_id_fld = 'GRID_ID'\n",
    "\n",
    "closest_brand = interim_dir/'closest_store.csv'\n",
    "closest_comp = interim_dir/'closest_competition.csv'\n",
    "origin_demographics = interim_dir/'origin_enrich_all.csv'\n",
    "inrix_trips = interim_dir/'cust_count_inrix.csv'\n",
    "training_data = interim_dir/'training_data.csv'"
   ]
  },
  {
   "cell_type": "code",
   "execution_count": 3,
   "metadata": {},
   "outputs": [
    {
     "data": {
      "text/html": [
       "<div>\n",
       "<style scoped>\n",
       "    .dataframe tbody tr th:only-of-type {\n",
       "        vertical-align: middle;\n",
       "    }\n",
       "\n",
       "    .dataframe tbody tr th {\n",
       "        vertical-align: top;\n",
       "    }\n",
       "\n",
       "    .dataframe thead th {\n",
       "        text-align: right;\n",
       "    }\n",
       "</style>\n",
       "<table border=\"1\" class=\"dataframe\">\n",
       "  <thead>\n",
       "    <tr style=\"text-align: right;\">\n",
       "      <th></th>\n",
       "      <th>OBJECTID</th>\n",
       "      <th>ID</th>\n",
       "      <th>NAME</th>\n",
       "      <th>SHAPE</th>\n",
       "    </tr>\n",
       "  </thead>\n",
       "  <tbody>\n",
       "    <tr>\n",
       "      <th>0</th>\n",
       "      <td>1</td>\n",
       "      <td>530530701003</td>\n",
       "      <td>530530701.003</td>\n",
       "      <td>{\"rings\": [[[-122.06627999999995, 47.076520000...</td>\n",
       "    </tr>\n",
       "    <tr>\n",
       "      <th>1</th>\n",
       "      <td>2</td>\n",
       "      <td>530530714071</td>\n",
       "      <td>530530714.071</td>\n",
       "      <td>{\"rings\": [[[-122.34031999999996, 47.071510000...</td>\n",
       "    </tr>\n",
       "    <tr>\n",
       "      <th>2</th>\n",
       "      <td>3</td>\n",
       "      <td>530530714072</td>\n",
       "      <td>530530714.072</td>\n",
       "      <td>{\"rings\": [[[-122.35767999999996, 47.067370000...</td>\n",
       "    </tr>\n",
       "    <tr>\n",
       "      <th>3</th>\n",
       "      <td>4</td>\n",
       "      <td>530530714073</td>\n",
       "      <td>530530714.073</td>\n",
       "      <td>{\"rings\": [[[-122.36847999999998, 47.067630000...</td>\n",
       "    </tr>\n",
       "    <tr>\n",
       "      <th>4</th>\n",
       "      <td>5</td>\n",
       "      <td>530530714112</td>\n",
       "      <td>530530714.112</td>\n",
       "      <td>{\"rings\": [[[-122.41108999999994, 47.071690000...</td>\n",
       "    </tr>\n",
       "  </tbody>\n",
       "</table>\n",
       "</div>"
      ],
      "text/plain": [
       "   OBJECTID            ID           NAME  \\\n",
       "0         1  530530701003  530530701.003   \n",
       "1         2  530530714071  530530714.071   \n",
       "2         3  530530714072  530530714.072   \n",
       "3         4  530530714073  530530714.073   \n",
       "4         5  530530714112  530530714.112   \n",
       "\n",
       "                                               SHAPE  \n",
       "0  {\"rings\": [[[-122.06627999999995, 47.076520000...  \n",
       "1  {\"rings\": [[[-122.34031999999996, 47.071510000...  \n",
       "2  {\"rings\": [[[-122.35767999999996, 47.067370000...  \n",
       "3  {\"rings\": [[[-122.36847999999998, 47.067630000...  \n",
       "4  {\"rings\": [[[-122.41108999999994, 47.071690000...  "
      ]
     },
     "execution_count": 3,
     "metadata": {},
     "output_type": "execute_result"
    }
   ],
   "source": [
    "origin_df = GeoAccessor.from_featureclass(str(origin_fc))\n",
    "origin_df.head()"
   ]
  },
  {
   "cell_type": "code",
   "execution_count": 4,
   "metadata": {},
   "outputs": [
    {
     "name": "stdout",
     "output_type": "stream",
     "text": [
      "[21:53:07] WARNING: C:/Jenkins/workspace/xgboost-win64_release_0.90/src/objective/regression_obj.cu:152: reg:linear is now deprecated in favor of reg:squarederror.\n"
     ]
    },
    {
     "data": {
      "text/plain": [
       "XGBRegressor(base_score=0.5, booster='gbtree', colsample_bylevel=1,\n",
       "             colsample_bynode=1, colsample_bytree=1, gamma=0,\n",
       "             importance_type='gain', learning_rate=0.1, max_delta_step=0,\n",
       "             max_depth=3, min_child_weight=1, missing=nan, n_estimators=1000,\n",
       "             n_jobs=1, nthread=None, objective='reg:linear', random_state=0,\n",
       "             reg_alpha=0, reg_lambda=1, scale_pos_weight=1, seed=None,\n",
       "             silent=None, subsample=1, verbosity=1)"
      ]
     },
     "execution_count": 4,
     "metadata": {},
     "output_type": "execute_result"
    }
   ],
   "source": [
    "xgr = pickle.load(open('../../models/sea_ace_xgr_stage01.pkl', 'rb'))\n",
    "xgr"
   ]
  },
  {
   "cell_type": "code",
   "execution_count": 5,
   "metadata": {},
   "outputs": [],
   "source": [
    "dest_df = GeoAccessor.from_featureclass(str(dest_fc))"
   ]
  },
  {
   "cell_type": "code",
   "execution_count": 6,
   "metadata": {},
   "outputs": [],
   "source": [
    "master_df = pd.read_csv(training_data)\n",
    "master_df[origin_id_fld] = master_df[origin_id_fld].astype('int64')"
   ]
  },
  {
   "cell_type": "code",
   "execution_count": 7,
   "metadata": {},
   "outputs": [],
   "source": [
    "str_cols = master_df.select_dtypes('object').columns\n",
    "\n",
    "factor_col_lst = [c for c in master_df.columns if\n",
    "                  not c.startswith('destination_id') and\n",
    "                  not c == origin_id_fld and\n",
    "                  not c.endswith('_FY') and\n",
    "                  not c.startswith('trip_count') and\n",
    "                  not c in str_cols]\n",
    "label_col = 'trip_count_01'"
   ]
  },
  {
   "cell_type": "code",
   "execution_count": 8,
   "metadata": {},
   "outputs": [],
   "source": [
    "from sklearn.preprocessing import StandardScaler\n",
    "std_sclr = StandardScaler()"
   ]
  },
  {
   "cell_type": "code",
   "execution_count": 9,
   "metadata": {},
   "outputs": [
    {
     "data": {
      "text/html": [
       "GIS @ <a href=\"https://geoai-webgis-ent.bd.esri.com/portal\">https://geoai-webgis-ent.bd.esri.com/portal</a>"
      ],
      "text/plain": [
       "GIS @ https://geoai-webgis-ent.bd.esri.com/portal version:7.1"
      ]
     },
     "execution_count": 9,
     "metadata": {},
     "output_type": "execute_result"
    }
   ],
   "source": [
    "ent_gis = GIS(config.ent_url, username=config.ent_user, password=config.ent_pass)\n",
    "ent_gis"
   ]
  },
  {
   "cell_type": "code",
   "execution_count": 10,
   "metadata": {},
   "outputs": [],
   "source": [
    "def get_new_tuple(row, real_estate_id_fld):\n",
    "    new_location_id = int(row[real_estate_id_fld])\n",
    "    cnt_coords = row['SHAPE'].centroid\n",
    "    cnt_geom = Geometry({'x': cnt_coords[0], 'y': cnt_coords[1], 'spatialReference': real_estate_df.spatial.sr})\n",
    "    return cnt_geom, new_location_id\n",
    "\n",
    "def get_affected_df(input_tuple):\n",
    "    \n",
    "    cnt_geom, new_location_id = input_tuple\n",
    "    \n",
    "    # get a dataframe of all potential rebalanced areas\n",
    "    rebal_df = get_add_new_closest_dataframe(\n",
    "        origins=origin_df,\n",
    "        origin_id_field=origin_id_fld,\n",
    "        destinations=dest_df,\n",
    "        destination_id_field=dest_id_fld,\n",
    "        closest_table=closest_brand,\n",
    "        new_destination=cnt_geom,\n",
    "        gis=ent_gis\n",
    "    )\n",
    "    \n",
    "    # while we soved way broader than possilby needed, we check and only keep changed rows\n",
    "    dest_id_cols = [col for col in rebal_df.columns if col.startswith('destination_id')]\n",
    "    dest_id_arr = dest_df[dest_id_fld].unique()\n",
    "    new_rebal_origin_ids = pd.concat([rebal_df[~rebal_df[dest_col].isin(dest_id_arr)]['origin_id'] for dest_col in dest_id_cols]).unique()\n",
    "    rebal_df = rebal_df[rebal_df['origin_id'].isin(new_rebal_origin_ids)]\n",
    "\n",
    "    # cast the origin id to integer to avoid data type issues\n",
    "    rebal_df['origin_id'] = rebal_df['origin_id'].astype('int64')\n",
    "\n",
    "    # get the affected areas in the master dataframe, the one with all the factors\n",
    "    affected_master = master_df[master_df['ID'].isin(rebal_df['origin_id'].unique())].copy()\n",
    "\n",
    "    # if the columns are not in the new rebalanced dataframe, create a dataframe of values to keep\n",
    "    keep_cols = [col for col in master_df.columns if not col in rebal_df]\n",
    "    affected_keep = affected_master[keep_cols].copy()\n",
    "    \n",
    "    # if adding a new location does not affect any of the block groups, just return none\n",
    "    if len(affected_master.index) == 0:\n",
    "        return pd.DataFrame([[new_location_id, 0.0]], columns=['new_destination_id', 'delta_01'])\n",
    "    \n",
    "    else:\n",
    "\n",
    "        # now, combine the factors data with the rebalanced data\n",
    "        affected_df = affected_keep.join(rebal_df.set_index('origin_id'), on='ID')\n",
    "\n",
    "        # infer new values for these changed areas\n",
    "        X = std_sclr.fit_transform(affected_df[factor_col_lst])\n",
    "        affected_df['predict_new_01'] = xgr.predict(X)\n",
    "\n",
    "        # now, if any values are below zero, zero them out\n",
    "        affected_df['predict_new_01'] = affected_df['predict_new_01'].apply(lambda val: 0.0 if val < 0 else val)\n",
    "\n",
    "        # calcuate a change column\n",
    "        affected_df['delta_01'] = affected_df['predict_new_01'] - affected_df['trip_count_01']\n",
    "\n",
    "        # rename the id column to be somwhat more consistent\n",
    "        affected_df.insert(0, 'origin_id', affected_df[origin_id_fld])\n",
    "        affected_df.drop('ID', axis=1, inplace=True)\n",
    "\n",
    "        # also, put the new destination unique identifier in, so results can be filtered\n",
    "        affected_df.insert(1, 'new_destination_id', int(new_location_id))\n",
    "\n",
    "        # trim down the output dataframe to just a few columns\n",
    "        out_cols = [col for col in affected_df.columns \n",
    "                    if '_id' in col or\n",
    "                    col.startswith('proxmity_') or\n",
    "                    col.startswith('predict_') or \n",
    "                    col.startswith('delta_') or\n",
    "                    col.startswith('trip_count')\n",
    "                   ]\n",
    "        out_df = affected_df[out_cols].copy()\n",
    "\n",
    "        return out_df"
   ]
  },
  {
   "cell_type": "code",
   "execution_count": 11,
   "metadata": {},
   "outputs": [
    {
     "name": "stdout",
     "output_type": "stream",
     "text": [
      "object\n",
      "477\n"
     ]
    },
    {
     "data": {
      "text/html": [
       "<div>\n",
       "<style scoped>\n",
       "    .dataframe tbody tr th:only-of-type {\n",
       "        vertical-align: middle;\n",
       "    }\n",
       "\n",
       "    .dataframe tbody tr th {\n",
       "        vertical-align: top;\n",
       "    }\n",
       "\n",
       "    .dataframe thead th {\n",
       "        text-align: right;\n",
       "    }\n",
       "</style>\n",
       "<table border=\"1\" class=\"dataframe\">\n",
       "  <thead>\n",
       "    <tr style=\"text-align: right;\">\n",
       "      <th></th>\n",
       "      <th>GRID_ID</th>\n",
       "      <th>SHAPE</th>\n",
       "    </tr>\n",
       "  </thead>\n",
       "  <tbody>\n",
       "    <tr>\n",
       "      <th>1429</th>\n",
       "      <td>3053</td>\n",
       "      <td>{\"rings\": [[[-121.46326378499998, 47.864097557...</td>\n",
       "    </tr>\n",
       "    <tr>\n",
       "      <th>1430</th>\n",
       "      <td>3054</td>\n",
       "      <td>{\"rings\": [[[-121.43240685499995, 47.876048282...</td>\n",
       "    </tr>\n",
       "    <tr>\n",
       "      <th>1431</th>\n",
       "      <td>3058</td>\n",
       "      <td>{\"rings\": [[[-121.30897913399997, 47.876048282...</td>\n",
       "    </tr>\n",
       "    <tr>\n",
       "      <th>1432</th>\n",
       "      <td>3059</td>\n",
       "      <td>{\"rings\": [[[-121.27812220399994, 47.864097557...</td>\n",
       "    </tr>\n",
       "    <tr>\n",
       "      <th>1433</th>\n",
       "      <td>3089</td>\n",
       "      <td>{\"rings\": [[[-122.32725782999995, 47.887996251...</td>\n",
       "    </tr>\n",
       "  </tbody>\n",
       "</table>\n",
       "</div>"
      ],
      "text/plain": [
       "     GRID_ID                                              SHAPE\n",
       "1429    3053  {\"rings\": [[[-121.46326378499998, 47.864097557...\n",
       "1430    3054  {\"rings\": [[[-121.43240685499995, 47.876048282...\n",
       "1431    3058  {\"rings\": [[[-121.30897913399997, 47.876048282...\n",
       "1432    3059  {\"rings\": [[[-121.27812220399994, 47.864097557...\n",
       "1433    3089  {\"rings\": [[[-122.32725782999995, 47.887996251..."
      ]
     },
     "execution_count": 11,
     "metadata": {},
     "output_type": "execute_result"
    }
   ],
   "source": [
    "real_estate_df = GeoAccessor.from_featureclass(str(real_estate_fc), where_clause=\"road_reachable = 1\")\n",
    "real_estate_df = real_estate_df[[real_estate_id_fld, 'SHAPE']].copy()\n",
    "real_estate_df = real_estate_df.iloc[int(len(real_estate_df.index) * 0.75):]\n",
    "print(real_estate_df.GRID_ID.dtype)\n",
    "print(len(real_estate_df.index))\n",
    "real_estate_df.head()"
   ]
  },
  {
   "cell_type": "code",
   "execution_count": 12,
   "metadata": {},
   "outputs": [
    {
     "name": "stderr",
     "output_type": "stream",
     "text": [
      "Location \"421027779\" in \"Facilities\" is on a soft-restricted network element.\n",
      "\n",
      "Location \"530330226051\" in \"Incidents\" is on a soft-restricted network element.\n",
      "Location \"530330322072\" in \"Incidents\" is on a soft-restricted network element.\n",
      "Location \"530330322082\" in \"Incidents\" is on a soft-restricted network element.\n",
      "Location \"530330322083\" in \"Incidents\" is on a soft-restricted network element.\n",
      "Location \"530330322152\" in \"Incidents\" is on a soft-restricted network element.\n",
      "Location \"530330323164\" in \"Incidents\" is on a soft-restricted network element.\n",
      "Location \"530330323171\" in \"Incidents\" is on a soft-restricted network element.\n",
      "Location \"530330323174\" in \"Incidents\" is on a soft-restricted network element.\n",
      "Location \"530330323261\" in \"Incidents\" is on a soft-restricted network element.\n",
      "Location \"530330323281\" in \"Incidents\" is on a soft-restricted network element.\n",
      "Location \"530330323291\" in \"Incidents\" is on a soft-restricted network element.\n",
      "Location \"421027779\" in \"Facilities\" is on a soft-restricted network element.\n",
      "Network elements with avoid-restrictions are traversed in the output (restriction attribute names: \"Avoid Private Roads\" \"Avoid Gates\").\n",
      "\n",
      "Location \"530610523011\" in \"Incidents\" is on a soft-restricted network element.\n",
      "Location \"421027779\" in \"Facilities\" is on a soft-restricted network element.\n",
      "Network elements with avoid-restrictions are traversed in the output (restriction attribute names: \"Avoid Private Roads\").\n",
      "\n",
      "Location \"530610535052\" in \"Incidents\" is on a soft-restricted network element.\n",
      "Location \"530610536021\" in \"Incidents\" is on a soft-restricted network element.\n",
      "Location \"421027779\" in \"Facilities\" is on a soft-restricted network element.\n",
      "Network elements with avoid-restrictions are traversed in the output (restriction attribute names: \"Avoid Private Roads\" \"Avoid Gates\").\n",
      "\n"
     ]
    },
    {
     "name": "stdout",
     "output_type": "stream",
     "text": [
      "success - 3053\n"
     ]
    },
    {
     "name": "stderr",
     "output_type": "stream",
     "text": [
      "Location \"421027779\" in \"Facilities\" is on a soft-restricted network element.\n",
      "\n",
      "Location \"530330226051\" in \"Incidents\" is on a soft-restricted network element.\n",
      "Location \"530330322072\" in \"Incidents\" is on a soft-restricted network element.\n",
      "Location \"530330322082\" in \"Incidents\" is on a soft-restricted network element.\n",
      "Location \"530330322083\" in \"Incidents\" is on a soft-restricted network element.\n",
      "Location \"530330322152\" in \"Incidents\" is on a soft-restricted network element.\n",
      "Location \"530330323164\" in \"Incidents\" is on a soft-restricted network element.\n",
      "Location \"530330323171\" in \"Incidents\" is on a soft-restricted network element.\n",
      "Location \"530330323174\" in \"Incidents\" is on a soft-restricted network element.\n",
      "Location \"530330323261\" in \"Incidents\" is on a soft-restricted network element.\n",
      "Location \"530330323281\" in \"Incidents\" is on a soft-restricted network element.\n",
      "Location \"530330323291\" in \"Incidents\" is on a soft-restricted network element.\n",
      "Location \"421027779\" in \"Facilities\" is on a soft-restricted network element.\n",
      "Network elements with avoid-restrictions are traversed in the output (restriction attribute names: \"Avoid Private Roads\" \"Avoid Gates\").\n",
      "\n",
      "Location \"530610523011\" in \"Incidents\" is on a soft-restricted network element.\n",
      "Location \"421027779\" in \"Facilities\" is on a soft-restricted network element.\n",
      "Network elements with avoid-restrictions are traversed in the output (restriction attribute names: \"Avoid Private Roads\").\n",
      "\n",
      "Location \"530610535052\" in \"Incidents\" is on a soft-restricted network element.\n",
      "Location \"530610536021\" in \"Incidents\" is on a soft-restricted network element.\n",
      "Location \"421027779\" in \"Facilities\" is on a soft-restricted network element.\n",
      "Network elements with avoid-restrictions are traversed in the output (restriction attribute names: \"Avoid Private Roads\" \"Avoid Gates\").\n",
      "\n"
     ]
    },
    {
     "name": "stdout",
     "output_type": "stream",
     "text": [
      "success - 3054\n"
     ]
    },
    {
     "name": "stderr",
     "output_type": "stream",
     "text": [
      "Location \"421027779\" in \"Facilities\" is on a soft-restricted network element.\n",
      "\n",
      "Location \"530330226051\" in \"Incidents\" is on a soft-restricted network element.\n",
      "Location \"530330322072\" in \"Incidents\" is on a soft-restricted network element.\n",
      "Location \"530330322082\" in \"Incidents\" is on a soft-restricted network element.\n",
      "Location \"530330322083\" in \"Incidents\" is on a soft-restricted network element.\n",
      "Location \"530330322152\" in \"Incidents\" is on a soft-restricted network element.\n",
      "Location \"530330323164\" in \"Incidents\" is on a soft-restricted network element.\n",
      "Location \"530330323171\" in \"Incidents\" is on a soft-restricted network element.\n",
      "Location \"530330323174\" in \"Incidents\" is on a soft-restricted network element.\n",
      "Location \"530330323261\" in \"Incidents\" is on a soft-restricted network element.\n",
      "Location \"530330323281\" in \"Incidents\" is on a soft-restricted network element.\n",
      "Location \"530330323291\" in \"Incidents\" is on a soft-restricted network element.\n",
      "Location \"421027779\" in \"Facilities\" is on a soft-restricted network element.\n",
      "Network elements with avoid-restrictions are traversed in the output (restriction attribute names: \"Avoid Private Roads\" \"Avoid Gates\").\n",
      "\n",
      "Location \"530610523011\" in \"Incidents\" is on a soft-restricted network element.\n",
      "Location \"421027779\" in \"Facilities\" is on a soft-restricted network element.\n",
      "Network elements with avoid-restrictions are traversed in the output (restriction attribute names: \"Avoid Private Roads\").\n",
      "\n",
      "Location \"530610535052\" in \"Incidents\" is on a soft-restricted network element.\n",
      "Location \"530610536021\" in \"Incidents\" is on a soft-restricted network element.\n",
      "Location \"421027779\" in \"Facilities\" is on a soft-restricted network element.\n",
      "Network elements with avoid-restrictions are traversed in the output (restriction attribute names: \"Avoid Private Roads\" \"Avoid Gates\").\n",
      "\n"
     ]
    },
    {
     "name": "stdout",
     "output_type": "stream",
     "text": [
      "success - 3058\n"
     ]
    },
    {
     "name": "stderr",
     "output_type": "stream",
     "text": [
      "Location \"421027779\" in \"Facilities\" is on a soft-restricted network element.\n",
      "\n",
      "Location \"530330226051\" in \"Incidents\" is on a soft-restricted network element.\n",
      "Location \"530330322072\" in \"Incidents\" is on a soft-restricted network element.\n",
      "Location \"530330322082\" in \"Incidents\" is on a soft-restricted network element.\n",
      "Location \"530330322083\" in \"Incidents\" is on a soft-restricted network element.\n",
      "Location \"530330322152\" in \"Incidents\" is on a soft-restricted network element.\n",
      "Location \"530330323164\" in \"Incidents\" is on a soft-restricted network element.\n",
      "Location \"530330323171\" in \"Incidents\" is on a soft-restricted network element.\n",
      "Location \"530330323174\" in \"Incidents\" is on a soft-restricted network element.\n",
      "Location \"530330323261\" in \"Incidents\" is on a soft-restricted network element.\n",
      "Location \"530330323281\" in \"Incidents\" is on a soft-restricted network element.\n",
      "Location \"530330323291\" in \"Incidents\" is on a soft-restricted network element.\n",
      "Location \"421027779\" in \"Facilities\" is on a soft-restricted network element.\n",
      "Network elements with avoid-restrictions are traversed in the output (restriction attribute names: \"Avoid Private Roads\" \"Avoid Gates\").\n",
      "\n",
      "Location \"530610523011\" in \"Incidents\" is on a soft-restricted network element.\n",
      "Location \"421027779\" in \"Facilities\" is on a soft-restricted network element.\n",
      "Network elements with avoid-restrictions are traversed in the output (restriction attribute names: \"Avoid Private Roads\").\n",
      "\n",
      "Location \"530610535052\" in \"Incidents\" is on a soft-restricted network element.\n",
      "Location \"530610536021\" in \"Incidents\" is on a soft-restricted network element.\n",
      "Location \"421027779\" in \"Facilities\" is on a soft-restricted network element.\n",
      "Network elements with avoid-restrictions are traversed in the output (restriction attribute names: \"Avoid Private Roads\" \"Avoid Gates\").\n",
      "\n"
     ]
    },
    {
     "name": "stdout",
     "output_type": "stream",
     "text": [
      "success - 3059\n"
     ]
    },
    {
     "name": "stderr",
     "output_type": "stream",
     "text": [
      "Location \"421027779\" in \"Facilities\" is on a soft-restricted network element.\n",
      "\n",
      "Location \"530330058023\" in \"Incidents\" is on a soft-restricted network element.\n",
      "Location \"421027779\" in \"Facilities\" is on a soft-restricted network element.\n",
      "Network elements with avoid-restrictions are traversed in the output (restriction attribute names: \"Avoid Private Roads\" \"Avoid Gates\").\n",
      "\n",
      "Location \"530330209003\" in \"Incidents\" is on a soft-restricted network element.\n",
      "Location \"421027779\" in \"Facilities\" is on a soft-restricted network element.\n",
      "Network elements with avoid-restrictions are traversed in the output (restriction attribute names: \"Avoid Private Roads\" \"Avoid Gates\").\n",
      "\n",
      "Location \"530330063004\" in \"Incidents\" is on a soft-restricted network element.\n",
      "Location \"421027779\" in \"Facilities\" is on a soft-restricted network element.\n",
      "Network elements with avoid-restrictions are traversed in the output (restriction attribute names: \"Avoid Private Roads\").\n",
      "\n",
      "Location \"530330219063\" in \"Incidents\" is on a soft-restricted network element.\n",
      "Location \"530330221024\" in \"Incidents\" is on a soft-restricted network element.\n",
      "Location \"530330226051\" in \"Incidents\" is on a soft-restricted network element.\n",
      "Location \"530330227031\" in \"Incidents\" is on a soft-restricted network element.\n",
      "Location \"530330232023\" in \"Incidents\" is on a soft-restricted network element.\n",
      "Location \"530330236011\" in \"Incidents\" is on a soft-restricted network element.\n",
      "Location \"530330236032\" in \"Incidents\" is on a soft-restricted network element.\n",
      "Location \"530330241001\" in \"Incidents\" is on a soft-restricted network element.\n",
      "Location \"421027779\" in \"Facilities\" is on a soft-restricted network element.\n",
      "Network elements with avoid-restrictions are traversed in the output (restriction attribute names: \"Avoid Private Roads\" \"Avoid Gates\").\n",
      "\n",
      "Location \"530330323261\" in \"Incidents\" is on a soft-restricted network element.\n",
      "Location \"421027779\" in \"Facilities\" is on a soft-restricted network element.\n",
      "Network elements with avoid-restrictions are traversed in the output (restriction attribute names: \"Avoid Private Roads\" \"Avoid Gates\").\n",
      "\n",
      "Location \"530610523011\" in \"Incidents\" is on a soft-restricted network element.\n",
      "Location \"421027779\" in \"Facilities\" is on a soft-restricted network element.\n",
      "Network elements with avoid-restrictions are traversed in the output (restriction attribute names: \"Avoid Private Roads\").\n",
      "\n",
      "Location \"530610535052\" in \"Incidents\" is on a soft-restricted network element.\n",
      "Location \"530610536021\" in \"Incidents\" is on a soft-restricted network element.\n",
      "Location \"421027779\" in \"Facilities\" is on a soft-restricted network element.\n",
      "Network elements with avoid-restrictions are traversed in the output (restriction attribute names: \"Avoid Private Roads\" \"Avoid Gates\").\n",
      "\n"
     ]
    },
    {
     "name": "stdout",
     "output_type": "stream",
     "text": [
      "success - 3089\n"
     ]
    },
    {
     "name": "stderr",
     "output_type": "stream",
     "text": [
      "Location \"421027779\" in \"Facilities\" is on a soft-restricted network element.\n",
      "\n",
      "Location \"421027779\" in \"Facilities\" is on a soft-restricted network element.\n",
      "Network elements with avoid-restrictions are traversed in the output (restriction attribute names: \"Avoid Gates\").\n",
      "\n",
      "Location \"530330209003\" in \"Incidents\" is on a soft-restricted network element.\n",
      "Location \"421027779\" in \"Facilities\" is on a soft-restricted network element.\n",
      "Network elements with avoid-restrictions are traversed in the output (restriction attribute names: \"Avoid Private Roads\" \"Avoid Gates\").\n",
      "\n",
      "Location \"530330219063\" in \"Incidents\" is on a soft-restricted network element.\n",
      "Location \"530330221024\" in \"Incidents\" is on a soft-restricted network element.\n",
      "Location \"530330226051\" in \"Incidents\" is on a soft-restricted network element.\n",
      "Location \"530330323261\" in \"Incidents\" is on a soft-restricted network element.\n",
      "Location \"421027779\" in \"Facilities\" is on a soft-restricted network element.\n",
      "Network elements with avoid-restrictions are traversed in the output (restriction attribute names: \"Avoid Private Roads\" \"Avoid Gates\").\n",
      "\n",
      "Location \"421027779\" in \"Facilities\" is on a soft-restricted network element.\n",
      "Network elements with avoid-restrictions are traversed in the output (restriction attribute names: \"Avoid Gates\").\n",
      "\n",
      "Location \"530610523011\" in \"Incidents\" is on a soft-restricted network element.\n",
      "Location \"421027779\" in \"Facilities\" is on a soft-restricted network element.\n",
      "Network elements with avoid-restrictions are traversed in the output (restriction attribute names: \"Avoid Private Roads\").\n",
      "\n",
      "Location \"530610535052\" in \"Incidents\" is on a soft-restricted network element.\n",
      "Location \"530610536021\" in \"Incidents\" is on a soft-restricted network element.\n",
      "Location \"421027779\" in \"Facilities\" is on a soft-restricted network element.\n",
      "Network elements with avoid-restrictions are traversed in the output (restriction attribute names: \"Avoid Private Roads\" \"Avoid Gates\").\n",
      "\n"
     ]
    },
    {
     "name": "stdout",
     "output_type": "stream",
     "text": [
      "success - 3090\n"
     ]
    },
    {
     "name": "stderr",
     "output_type": "stream",
     "text": [
      "Location \"421027779\" in \"Facilities\" is on a soft-restricted network element.\n",
      "\n",
      "Location \"421027779\" in \"Facilities\" is on a soft-restricted network element.\n",
      "Network elements with avoid-restrictions are traversed in the output (restriction attribute names: \"Avoid Gates\").\n",
      "\n",
      "Location \"530330209003\" in \"Incidents\" is on a soft-restricted network element.\n",
      "Location \"421027779\" in \"Facilities\" is on a soft-restricted network element.\n",
      "Network elements with avoid-restrictions are traversed in the output (restriction attribute names: \"Avoid Private Roads\" \"Avoid Gates\").\n",
      "\n",
      "Location \"530330219063\" in \"Incidents\" is on a soft-restricted network element.\n",
      "Location \"530330221024\" in \"Incidents\" is on a soft-restricted network element.\n",
      "Location \"530330226051\" in \"Incidents\" is on a soft-restricted network element.\n",
      "Location \"530330323261\" in \"Incidents\" is on a soft-restricted network element.\n",
      "Location \"421027779\" in \"Facilities\" is on a soft-restricted network element.\n",
      "Network elements with avoid-restrictions are traversed in the output (restriction attribute names: \"Avoid Private Roads\" \"Avoid Gates\").\n",
      "\n",
      "Location \"421027779\" in \"Facilities\" is on a soft-restricted network element.\n",
      "Network elements with avoid-restrictions are traversed in the output (restriction attribute names: \"Avoid Gates\").\n",
      "\n",
      "Location \"530610523011\" in \"Incidents\" is on a soft-restricted network element.\n",
      "Location \"421027779\" in \"Facilities\" is on a soft-restricted network element.\n",
      "Network elements with avoid-restrictions are traversed in the output (restriction attribute names: \"Avoid Private Roads\").\n",
      "\n",
      "Location \"530610535052\" in \"Incidents\" is on a soft-restricted network element.\n",
      "Location \"530610536021\" in \"Incidents\" is on a soft-restricted network element.\n",
      "Location \"421027779\" in \"Facilities\" is on a soft-restricted network element.\n",
      "Network elements with avoid-restrictions are traversed in the output (restriction attribute names: \"Avoid Private Roads\" \"Avoid Gates\").\n",
      "\n"
     ]
    },
    {
     "name": "stdout",
     "output_type": "stream",
     "text": [
      "success - 3091\n"
     ]
    },
    {
     "name": "stderr",
     "output_type": "stream",
     "text": [
      "Location \"421027779\" in \"Facilities\" is on a soft-restricted network element.\n",
      "\n",
      "Location \"421027779\" in \"Facilities\" is on a soft-restricted network element.\n",
      "Network elements with avoid-restrictions are traversed in the output (restriction attribute names: \"Avoid Gates\").\n",
      "\n",
      "Location \"530330209003\" in \"Incidents\" is on a soft-restricted network element.\n",
      "Location \"421027779\" in \"Facilities\" is on a soft-restricted network element.\n",
      "Network elements with avoid-restrictions are traversed in the output (restriction attribute names: \"Avoid Private Roads\" \"Avoid Gates\").\n",
      "\n",
      "Location \"530330219063\" in \"Incidents\" is on a soft-restricted network element.\n",
      "Location \"530330221024\" in \"Incidents\" is on a soft-restricted network element.\n",
      "Location \"530330226051\" in \"Incidents\" is on a soft-restricted network element.\n",
      "Location \"530330323261\" in \"Incidents\" is on a soft-restricted network element.\n",
      "Location \"421027779\" in \"Facilities\" is on a soft-restricted network element.\n",
      "Network elements with avoid-restrictions are traversed in the output (restriction attribute names: \"Avoid Private Roads\" \"Avoid Gates\").\n",
      "\n",
      "Location \"421027779\" in \"Facilities\" is on a soft-restricted network element.\n",
      "Network elements with avoid-restrictions are traversed in the output (restriction attribute names: \"Avoid Gates\").\n",
      "\n",
      "Location \"530610523011\" in \"Incidents\" is on a soft-restricted network element.\n",
      "Location \"421027779\" in \"Facilities\" is on a soft-restricted network element.\n",
      "Network elements with avoid-restrictions are traversed in the output (restriction attribute names: \"Avoid Private Roads\").\n",
      "\n",
      "Location \"530610535052\" in \"Incidents\" is on a soft-restricted network element.\n",
      "Location \"530610536021\" in \"Incidents\" is on a soft-restricted network element.\n",
      "Location \"421027779\" in \"Facilities\" is on a soft-restricted network element.\n",
      "Network elements with avoid-restrictions are traversed in the output (restriction attribute names: \"Avoid Private Roads\" \"Avoid Gates\").\n",
      "\n"
     ]
    },
    {
     "name": "stdout",
     "output_type": "stream",
     "text": [
      "success - 3092\n"
     ]
    },
    {
     "name": "stderr",
     "output_type": "stream",
     "text": [
      "Location \"421027779\" in \"Facilities\" is on a soft-restricted network element.\n",
      "\n",
      "Location \"530330219063\" in \"Incidents\" is on a soft-restricted network element.\n",
      "Location \"421027779\" in \"Facilities\" is on a soft-restricted network element.\n",
      "Network elements with avoid-restrictions are traversed in the output (restriction attribute names: \"Avoid Private Roads\").\n",
      "\n",
      "Location \"421027779\" in \"Facilities\" is on a soft-restricted network element.\n",
      "Network elements with avoid-restrictions are traversed in the output (restriction attribute names: \"Avoid Gates\").\n",
      "\n",
      "Location \"530610523011\" in \"Incidents\" is on a soft-restricted network element.\n",
      "Location \"421027779\" in \"Facilities\" is on a soft-restricted network element.\n",
      "Network elements with avoid-restrictions are traversed in the output (restriction attribute names: \"Avoid Private Roads\").\n",
      "\n",
      "Location \"530610535052\" in \"Incidents\" is on a soft-restricted network element.\n",
      "Location \"530610536021\" in \"Incidents\" is on a soft-restricted network element.\n",
      "Location \"421027779\" in \"Facilities\" is on a soft-restricted network element.\n",
      "Network elements with avoid-restrictions are traversed in the output (restriction attribute names: \"Avoid Private Roads\").\n",
      "\n"
     ]
    },
    {
     "name": "stdout",
     "output_type": "stream",
     "text": [
      "success - 3093\n"
     ]
    },
    {
     "name": "stderr",
     "output_type": "stream",
     "text": [
      "Location \"421027779\" in \"Facilities\" is on a soft-restricted network element.\n",
      "\n",
      "Location \"530330209003\" in \"Incidents\" is on a soft-restricted network element.\n",
      "Location \"421027779\" in \"Facilities\" is on a soft-restricted network element.\n",
      "Network elements with avoid-restrictions are traversed in the output (restriction attribute names: \"Avoid Private Roads\" \"Avoid Gates\").\n",
      "\n",
      "Location \"421027779\" in \"Facilities\" is on a soft-restricted network element.\n",
      "\n",
      "Location \"530330219063\" in \"Incidents\" is on a soft-restricted network element.\n",
      "Location \"530330221024\" in \"Incidents\" is on a soft-restricted network element.\n",
      "Location \"530330226051\" in \"Incidents\" is on a soft-restricted network element.\n",
      "Location \"530330323261\" in \"Incidents\" is on a soft-restricted network element.\n",
      "Location \"421027779\" in \"Facilities\" is on a soft-restricted network element.\n",
      "Network elements with avoid-restrictions are traversed in the output (restriction attribute names: \"Avoid Private Roads\" \"Avoid Gates\").\n",
      "\n",
      "Location \"421027779\" in \"Facilities\" is on a soft-restricted network element.\n",
      "Network elements with avoid-restrictions are traversed in the output (restriction attribute names: \"Avoid Gates\").\n",
      "\n",
      "Location \"530610523011\" in \"Incidents\" is on a soft-restricted network element.\n",
      "Location \"421027779\" in \"Facilities\" is on a soft-restricted network element.\n",
      "Network elements with avoid-restrictions are traversed in the output (restriction attribute names: \"Avoid Private Roads\").\n",
      "\n",
      "Location \"530610535052\" in \"Incidents\" is on a soft-restricted network element.\n",
      "Location \"530610536021\" in \"Incidents\" is on a soft-restricted network element.\n",
      "Location \"421027779\" in \"Facilities\" is on a soft-restricted network element.\n",
      "Network elements with avoid-restrictions are traversed in the output (restriction attribute names: \"Avoid Private Roads\" \"Avoid Gates\").\n",
      "\n"
     ]
    },
    {
     "name": "stdout",
     "output_type": "stream",
     "text": [
      "success - 3094\n"
     ]
    },
    {
     "name": "stderr",
     "output_type": "stream",
     "text": [
      "Location \"421027779\" in \"Facilities\" is on a soft-restricted network element.\n",
      "\n",
      "Location \"530330209003\" in \"Incidents\" is on a soft-restricted network element.\n",
      "Location \"421027779\" in \"Facilities\" is on a soft-restricted network element.\n",
      "Network elements with avoid-restrictions are traversed in the output (restriction attribute names: \"Avoid Private Roads\" \"Avoid Gates\").\n",
      "\n",
      "Location \"421027779\" in \"Facilities\" is on a soft-restricted network element.\n",
      "\n",
      "Location \"530330219063\" in \"Incidents\" is on a soft-restricted network element.\n",
      "Location \"530330221024\" in \"Incidents\" is on a soft-restricted network element.\n",
      "Location \"530330226051\" in \"Incidents\" is on a soft-restricted network element.\n",
      "Location \"530330323261\" in \"Incidents\" is on a soft-restricted network element.\n",
      "Location \"421027779\" in \"Facilities\" is on a soft-restricted network element.\n",
      "Network elements with avoid-restrictions are traversed in the output (restriction attribute names: \"Avoid Private Roads\" \"Avoid Gates\").\n",
      "\n",
      "Location \"421027779\" in \"Facilities\" is on a soft-restricted network element.\n",
      "Network elements with avoid-restrictions are traversed in the output (restriction attribute names: \"Avoid Gates\").\n",
      "\n",
      "Location \"530610523011\" in \"Incidents\" is on a soft-restricted network element.\n",
      "Location \"421027779\" in \"Facilities\" is on a soft-restricted network element.\n",
      "Network elements with avoid-restrictions are traversed in the output (restriction attribute names: \"Avoid Private Roads\").\n",
      "\n",
      "Location \"530610535052\" in \"Incidents\" is on a soft-restricted network element.\n",
      "Location \"530610536021\" in \"Incidents\" is on a soft-restricted network element.\n",
      "Location \"421027779\" in \"Facilities\" is on a soft-restricted network element.\n",
      "Network elements with avoid-restrictions are traversed in the output (restriction attribute names: \"Avoid Private Roads\" \"Avoid Gates\").\n",
      "\n"
     ]
    },
    {
     "name": "stdout",
     "output_type": "stream",
     "text": [
      "success - 3095\n"
     ]
    },
    {
     "name": "stderr",
     "output_type": "stream",
     "text": [
      "Location \"421027779\" in \"Facilities\" is on a soft-restricted network element.\n",
      "\n",
      "Location \"530330209003\" in \"Incidents\" is on a soft-restricted network element.\n",
      "Location \"421027779\" in \"Facilities\" is on a soft-restricted network element.\n",
      "Network elements with avoid-restrictions are traversed in the output (restriction attribute names: \"Avoid Private Roads\" \"Avoid Gates\").\n",
      "\n",
      "Location \"421027779\" in \"Facilities\" is on a soft-restricted network element.\n",
      "\n",
      "Location \"530330219063\" in \"Incidents\" is on a soft-restricted network element.\n",
      "Location \"530330221024\" in \"Incidents\" is on a soft-restricted network element.\n",
      "Location \"530330226051\" in \"Incidents\" is on a soft-restricted network element.\n",
      "Location \"530330323261\" in \"Incidents\" is on a soft-restricted network element.\n",
      "Location \"421027779\" in \"Facilities\" is on a soft-restricted network element.\n",
      "Network elements with avoid-restrictions are traversed in the output (restriction attribute names: \"Avoid Private Roads\" \"Avoid Gates\").\n",
      "\n",
      "Location \"421027779\" in \"Facilities\" is on a soft-restricted network element.\n",
      "Network elements with avoid-restrictions are traversed in the output (restriction attribute names: \"Avoid Gates\").\n",
      "\n",
      "Location \"530610523011\" in \"Incidents\" is on a soft-restricted network element.\n",
      "Location \"421027779\" in \"Facilities\" is on a soft-restricted network element.\n",
      "Network elements with avoid-restrictions are traversed in the output (restriction attribute names: \"Avoid Private Roads\").\n",
      "\n",
      "Location \"530610535052\" in \"Incidents\" is on a soft-restricted network element.\n",
      "Location \"530610536021\" in \"Incidents\" is on a soft-restricted network element.\n",
      "Location \"421027779\" in \"Facilities\" is on a soft-restricted network element.\n",
      "Network elements with avoid-restrictions are traversed in the output (restriction attribute names: \"Avoid Private Roads\" \"Avoid Gates\").\n",
      "\n"
     ]
    },
    {
     "name": "stdout",
     "output_type": "stream",
     "text": [
      "success - 3096\n"
     ]
    },
    {
     "name": "stderr",
     "output_type": "stream",
     "text": [
      "Location \"421027779\" in \"Facilities\" is on a soft-restricted network element.\n",
      "\n",
      "Location \"530330219063\" in \"Incidents\" is on a soft-restricted network element.\n",
      "Location \"421027779\" in \"Facilities\" is on a soft-restricted network element.\n",
      "Network elements with avoid-restrictions are traversed in the output (restriction attribute names: \"Avoid Private Roads\").\n",
      "\n",
      "Location \"421027779\" in \"Facilities\" is on a soft-restricted network element.\n",
      "Network elements with avoid-restrictions are traversed in the output (restriction attribute names: \"Avoid Gates\").\n",
      "\n",
      "Location \"530610523011\" in \"Incidents\" is on a soft-restricted network element.\n",
      "Location \"421027779\" in \"Facilities\" is on a soft-restricted network element.\n",
      "Network elements with avoid-restrictions are traversed in the output (restriction attribute names: \"Avoid Private Roads\").\n",
      "\n",
      "Location \"530610535052\" in \"Incidents\" is on a soft-restricted network element.\n",
      "Location \"530610536021\" in \"Incidents\" is on a soft-restricted network element.\n",
      "Location \"421027779\" in \"Facilities\" is on a soft-restricted network element.\n",
      "Network elements with avoid-restrictions are traversed in the output (restriction attribute names: \"Avoid Private Roads\").\n",
      "\n"
     ]
    },
    {
     "name": "stdout",
     "output_type": "stream",
     "text": [
      "success - 3097\n"
     ]
    },
    {
     "name": "stderr",
     "output_type": "stream",
     "text": [
      "Location \"421027779\" in \"Facilities\" is on a soft-restricted network element.\n",
      "\n",
      "Location \"530330219063\" in \"Incidents\" is on a soft-restricted network element.\n",
      "Location \"421027779\" in \"Facilities\" is on a soft-restricted network element.\n",
      "Network elements with avoid-restrictions are traversed in the output (restriction attribute names: \"Avoid Private Roads\").\n",
      "\n",
      "Location \"421027779\" in \"Facilities\" is on a soft-restricted network element.\n",
      "Network elements with avoid-restrictions are traversed in the output (restriction attribute names: \"Avoid Gates\").\n",
      "\n",
      "Location \"530610523011\" in \"Incidents\" is on a soft-restricted network element.\n",
      "Location \"421027779\" in \"Facilities\" is on a soft-restricted network element.\n",
      "Network elements with avoid-restrictions are traversed in the output (restriction attribute names: \"Avoid Private Roads\").\n",
      "\n",
      "Location \"530610535052\" in \"Incidents\" is on a soft-restricted network element.\n",
      "Location \"530610536021\" in \"Incidents\" is on a soft-restricted network element.\n",
      "Location \"421027779\" in \"Facilities\" is on a soft-restricted network element.\n",
      "Network elements with avoid-restrictions are traversed in the output (restriction attribute names: \"Avoid Private Roads\").\n",
      "\n"
     ]
    },
    {
     "name": "stdout",
     "output_type": "stream",
     "text": [
      "success - 3098\n"
     ]
    },
    {
     "name": "stderr",
     "output_type": "stream",
     "text": [
      "Location \"421027779\" in \"Facilities\" is on a soft-restricted network element.\n",
      "\n",
      "Location \"530330219063\" in \"Incidents\" is on a soft-restricted network element.\n",
      "Location \"421027779\" in \"Facilities\" is on a soft-restricted network element.\n",
      "Network elements with avoid-restrictions are traversed in the output (restriction attribute names: \"Avoid Private Roads\" \"Avoid Gates\").\n",
      "\n",
      "Location \"421027779\" in \"Facilities\" is on a soft-restricted network element.\n",
      "Network elements with avoid-restrictions are traversed in the output (restriction attribute names: \"Avoid Gates\").\n",
      "\n",
      "Location \"530610523011\" in \"Incidents\" is on a soft-restricted network element.\n",
      "Location \"421027779\" in \"Facilities\" is on a soft-restricted network element.\n",
      "Network elements with avoid-restrictions are traversed in the output (restriction attribute names: \"Avoid Private Roads\").\n",
      "\n",
      "Location \"530610535052\" in \"Incidents\" is on a soft-restricted network element.\n",
      "Location \"530610536021\" in \"Incidents\" is on a soft-restricted network element.\n",
      "Location \"421027779\" in \"Facilities\" is on a soft-restricted network element.\n",
      "Network elements with avoid-restrictions are traversed in the output (restriction attribute names: \"Avoid Private Roads\" \"Avoid Gates\").\n",
      "\n"
     ]
    },
    {
     "name": "stdout",
     "output_type": "stream",
     "text": [
      "success - 3099\n"
     ]
    },
    {
     "name": "stderr",
     "output_type": "stream",
     "text": [
      "Location \"421027779\" in \"Facilities\" is on a soft-restricted network element.\n",
      "\n",
      "Location \"530330219063\" in \"Incidents\" is on a soft-restricted network element.\n",
      "Location \"421027779\" in \"Facilities\" is on a soft-restricted network element.\n",
      "Network elements with avoid-restrictions are traversed in the output (restriction attribute names: \"Avoid Private Roads\" \"Avoid Gates\").\n",
      "\n",
      "Location \"421027779\" in \"Facilities\" is on a soft-restricted network element.\n",
      "Network elements with avoid-restrictions are traversed in the output (restriction attribute names: \"Avoid Gates\").\n",
      "\n",
      "Location \"530610523011\" in \"Incidents\" is on a soft-restricted network element.\n",
      "Location \"421027779\" in \"Facilities\" is on a soft-restricted network element.\n",
      "Network elements with avoid-restrictions are traversed in the output (restriction attribute names: \"Avoid Private Roads\").\n",
      "\n",
      "Location \"530610535052\" in \"Incidents\" is on a soft-restricted network element.\n",
      "Location \"530610536021\" in \"Incidents\" is on a soft-restricted network element.\n",
      "Location \"421027779\" in \"Facilities\" is on a soft-restricted network element.\n",
      "Network elements with avoid-restrictions are traversed in the output (restriction attribute names: \"Avoid Private Roads\" \"Avoid Gates\").\n",
      "\n"
     ]
    },
    {
     "name": "stdout",
     "output_type": "stream",
     "text": [
      "success - 3100\n"
     ]
    },
    {
     "name": "stderr",
     "output_type": "stream",
     "text": [
      "Location \"421027779\" in \"Facilities\" is on a soft-restricted network element.\n",
      "\n",
      "Location \"530330219063\" in \"Incidents\" is on a soft-restricted network element.\n",
      "Location \"421027779\" in \"Facilities\" is on a soft-restricted network element.\n",
      "Network elements with avoid-restrictions are traversed in the output (restriction attribute names: \"Avoid Private Roads\" \"Avoid Gates\").\n",
      "\n",
      "Location \"421027779\" in \"Facilities\" is on a soft-restricted network element.\n",
      "Network elements with avoid-restrictions are traversed in the output (restriction attribute names: \"Avoid Gates\").\n",
      "\n",
      "Location \"530610523011\" in \"Incidents\" is on a soft-restricted network element.\n",
      "Location \"421027779\" in \"Facilities\" is on a soft-restricted network element.\n",
      "Network elements with avoid-restrictions are traversed in the output (restriction attribute names: \"Avoid Private Roads\").\n",
      "\n",
      "Location \"530610535052\" in \"Incidents\" is on a soft-restricted network element.\n",
      "Location \"530610536021\" in \"Incidents\" is on a soft-restricted network element.\n",
      "Location \"421027779\" in \"Facilities\" is on a soft-restricted network element.\n",
      "Network elements with avoid-restrictions are traversed in the output (restriction attribute names: \"Avoid Private Roads\" \"Avoid Gates\").\n",
      "\n"
     ]
    },
    {
     "name": "stdout",
     "output_type": "stream",
     "text": [
      "success - 3101\n"
     ]
    },
    {
     "name": "stderr",
     "output_type": "stream",
     "text": [
      "Location \"421027779\" in \"Facilities\" is on a soft-restricted network element.\n",
      "\n",
      "Location \"530330219063\" in \"Incidents\" is on a soft-restricted network element.\n",
      "Location \"421027779\" in \"Facilities\" is on a soft-restricted network element.\n",
      "Network elements with avoid-restrictions are traversed in the output (restriction attribute names: \"Avoid Private Roads\" \"Avoid Gates\").\n",
      "\n",
      "Location \"421027779\" in \"Facilities\" is on a soft-restricted network element.\n",
      "Network elements with avoid-restrictions are traversed in the output (restriction attribute names: \"Avoid Gates\").\n",
      "\n",
      "Location \"530610523011\" in \"Incidents\" is on a soft-restricted network element.\n",
      "Location \"421027779\" in \"Facilities\" is on a soft-restricted network element.\n",
      "Network elements with avoid-restrictions are traversed in the output (restriction attribute names: \"Avoid Private Roads\").\n",
      "\n",
      "Location \"530610535052\" in \"Incidents\" is on a soft-restricted network element.\n",
      "Location \"530610536021\" in \"Incidents\" is on a soft-restricted network element.\n",
      "Location \"421027779\" in \"Facilities\" is on a soft-restricted network element.\n",
      "Network elements with avoid-restrictions are traversed in the output (restriction attribute names: \"Avoid Private Roads\" \"Avoid Gates\").\n",
      "\n"
     ]
    },
    {
     "name": "stdout",
     "output_type": "stream",
     "text": [
      "success - 3102\n"
     ]
    },
    {
     "name": "stderr",
     "output_type": "stream",
     "text": [
      "Location \"421027779\" in \"Facilities\" is on a soft-restricted network element.\n",
      "\n",
      "Location \"530330219063\" in \"Incidents\" is on a soft-restricted network element.\n",
      "Location \"421027779\" in \"Facilities\" is on a soft-restricted network element.\n",
      "Network elements with avoid-restrictions are traversed in the output (restriction attribute names: \"Avoid Private Roads\" \"Avoid Gates\").\n",
      "\n",
      "Location \"421027779\" in \"Facilities\" is on a soft-restricted network element.\n",
      "Network elements with avoid-restrictions are traversed in the output (restriction attribute names: \"Avoid Gates\").\n",
      "\n",
      "Location \"530610523011\" in \"Incidents\" is on a soft-restricted network element.\n",
      "Location \"421027779\" in \"Facilities\" is on a soft-restricted network element.\n",
      "Network elements with avoid-restrictions are traversed in the output (restriction attribute names: \"Avoid Private Roads\").\n",
      "\n",
      "Location \"530610535052\" in \"Incidents\" is on a soft-restricted network element.\n",
      "Location \"530610536021\" in \"Incidents\" is on a soft-restricted network element.\n",
      "Location \"421027779\" in \"Facilities\" is on a soft-restricted network element.\n",
      "Network elements with avoid-restrictions are traversed in the output (restriction attribute names: \"Avoid Private Roads\" \"Avoid Gates\").\n",
      "\n"
     ]
    },
    {
     "name": "stdout",
     "output_type": "stream",
     "text": [
      "success - 3103\n"
     ]
    },
    {
     "name": "stderr",
     "output_type": "stream",
     "text": [
      "Location \"421027779\" in \"Facilities\" is on a soft-restricted network element.\n",
      "\n",
      "Location \"530330219063\" in \"Incidents\" is on a soft-restricted network element.\n",
      "Location \"421027779\" in \"Facilities\" is on a soft-restricted network element.\n",
      "Network elements with avoid-restrictions are traversed in the output (restriction attribute names: \"Avoid Private Roads\" \"Avoid Gates\").\n",
      "\n",
      "Location \"421027779\" in \"Facilities\" is on a soft-restricted network element.\n",
      "Network elements with avoid-restrictions are traversed in the output (restriction attribute names: \"Avoid Gates\").\n",
      "\n",
      "Location \"530610523011\" in \"Incidents\" is on a soft-restricted network element.\n",
      "Location \"421027779\" in \"Facilities\" is on a soft-restricted network element.\n",
      "Network elements with avoid-restrictions are traversed in the output (restriction attribute names: \"Avoid Private Roads\").\n",
      "\n",
      "Location \"530610535052\" in \"Incidents\" is on a soft-restricted network element.\n",
      "Location \"530610536021\" in \"Incidents\" is on a soft-restricted network element.\n",
      "Location \"421027779\" in \"Facilities\" is on a soft-restricted network element.\n",
      "Network elements with avoid-restrictions are traversed in the output (restriction attribute names: \"Avoid Private Roads\" \"Avoid Gates\").\n",
      "\n"
     ]
    },
    {
     "name": "stdout",
     "output_type": "stream",
     "text": [
      "success - 3104\n"
     ]
    },
    {
     "name": "stderr",
     "output_type": "stream",
     "text": [
      "Location \"421027779\" in \"Facilities\" is on a soft-restricted network element.\n",
      "\n",
      "Location \"530330219063\" in \"Incidents\" is on a soft-restricted network element.\n",
      "Location \"421027779\" in \"Facilities\" is on a soft-restricted network element.\n",
      "Network elements with avoid-restrictions are traversed in the output (restriction attribute names: \"Avoid Private Roads\" \"Avoid Gates\").\n",
      "\n",
      "Location \"421027779\" in \"Facilities\" is on a soft-restricted network element.\n",
      "Network elements with avoid-restrictions are traversed in the output (restriction attribute names: \"Avoid Gates\").\n",
      "\n",
      "Location \"530610523011\" in \"Incidents\" is on a soft-restricted network element.\n",
      "Location \"421027779\" in \"Facilities\" is on a soft-restricted network element.\n",
      "Network elements with avoid-restrictions are traversed in the output (restriction attribute names: \"Avoid Private Roads\").\n",
      "\n",
      "Location \"530610535052\" in \"Incidents\" is on a soft-restricted network element.\n",
      "Location \"530610536021\" in \"Incidents\" is on a soft-restricted network element.\n",
      "Location \"421027779\" in \"Facilities\" is on a soft-restricted network element.\n",
      "Network elements with avoid-restrictions are traversed in the output (restriction attribute names: \"Avoid Private Roads\" \"Avoid Gates\").\n",
      "\n"
     ]
    },
    {
     "name": "stdout",
     "output_type": "stream",
     "text": [
      "success - 3105\n"
     ]
    },
    {
     "name": "stderr",
     "output_type": "stream",
     "text": [
      "Location \"421027779\" in \"Facilities\" is on a soft-restricted network element.\n",
      "\n",
      "Location \"530330219063\" in \"Incidents\" is on a soft-restricted network element.\n",
      "Location \"421027779\" in \"Facilities\" is on a soft-restricted network element.\n",
      "Network elements with avoid-restrictions are traversed in the output (restriction attribute names: \"Avoid Private Roads\" \"Avoid Gates\").\n",
      "\n",
      "Location \"421027779\" in \"Facilities\" is on a soft-restricted network element.\n",
      "Network elements with avoid-restrictions are traversed in the output (restriction attribute names: \"Avoid Gates\").\n",
      "\n",
      "Location \"530610523011\" in \"Incidents\" is on a soft-restricted network element.\n",
      "Location \"421027779\" in \"Facilities\" is on a soft-restricted network element.\n",
      "Network elements with avoid-restrictions are traversed in the output (restriction attribute names: \"Avoid Private Roads\").\n",
      "\n",
      "Location \"530610535052\" in \"Incidents\" is on a soft-restricted network element.\n",
      "Location \"530610536021\" in \"Incidents\" is on a soft-restricted network element.\n",
      "Location \"421027779\" in \"Facilities\" is on a soft-restricted network element.\n",
      "Network elements with avoid-restrictions are traversed in the output (restriction attribute names: \"Avoid Private Roads\" \"Avoid Gates\").\n",
      "\n"
     ]
    },
    {
     "name": "stdout",
     "output_type": "stream",
     "text": [
      "success - 3106\n"
     ]
    },
    {
     "name": "stderr",
     "output_type": "stream",
     "text": [
      "Location \"421027779\" in \"Facilities\" is on a soft-restricted network element.\n",
      "\n",
      "Location \"530330219063\" in \"Incidents\" is on a soft-restricted network element.\n",
      "Location \"421027779\" in \"Facilities\" is on a soft-restricted network element.\n",
      "Network elements with avoid-restrictions are traversed in the output (restriction attribute names: \"Avoid Private Roads\" \"Avoid Gates\").\n",
      "\n",
      "Location \"421027779\" in \"Facilities\" is on a soft-restricted network element.\n",
      "Network elements with avoid-restrictions are traversed in the output (restriction attribute names: \"Avoid Gates\").\n",
      "\n",
      "Location \"530610523011\" in \"Incidents\" is on a soft-restricted network element.\n",
      "Location \"421027779\" in \"Facilities\" is on a soft-restricted network element.\n",
      "Network elements with avoid-restrictions are traversed in the output (restriction attribute names: \"Avoid Private Roads\").\n",
      "\n",
      "Location \"530610535052\" in \"Incidents\" is on a soft-restricted network element.\n",
      "Location \"530610536021\" in \"Incidents\" is on a soft-restricted network element.\n",
      "Location \"421027779\" in \"Facilities\" is on a soft-restricted network element.\n",
      "Network elements with avoid-restrictions are traversed in the output (restriction attribute names: \"Avoid Private Roads\" \"Avoid Gates\").\n",
      "\n"
     ]
    },
    {
     "name": "stdout",
     "output_type": "stream",
     "text": [
      "success - 3107\n"
     ]
    },
    {
     "name": "stderr",
     "output_type": "stream",
     "text": [
      "Location \"421027779\" in \"Facilities\" is on a soft-restricted network element.\n",
      "\n",
      "Location \"530330219063\" in \"Incidents\" is on a soft-restricted network element.\n",
      "Location \"421027779\" in \"Facilities\" is on a soft-restricted network element.\n",
      "Network elements with avoid-restrictions are traversed in the output (restriction attribute names: \"Avoid Private Roads\" \"Avoid Gates\").\n",
      "\n",
      "Location \"421027779\" in \"Facilities\" is on a soft-restricted network element.\n",
      "Network elements with avoid-restrictions are traversed in the output (restriction attribute names: \"Avoid Gates\").\n",
      "\n",
      "Location \"530610523011\" in \"Incidents\" is on a soft-restricted network element.\n",
      "Location \"421027779\" in \"Facilities\" is on a soft-restricted network element.\n",
      "Network elements with avoid-restrictions are traversed in the output (restriction attribute names: \"Avoid Private Roads\").\n",
      "\n",
      "Location \"530610535052\" in \"Incidents\" is on a soft-restricted network element.\n",
      "Location \"530610536021\" in \"Incidents\" is on a soft-restricted network element.\n",
      "Location \"421027779\" in \"Facilities\" is on a soft-restricted network element.\n",
      "Network elements with avoid-restrictions are traversed in the output (restriction attribute names: \"Avoid Private Roads\" \"Avoid Gates\").\n",
      "\n"
     ]
    },
    {
     "name": "stdout",
     "output_type": "stream",
     "text": [
      "success - 3108\n"
     ]
    },
    {
     "name": "stderr",
     "output_type": "stream",
     "text": [
      "Location \"421027779\" in \"Facilities\" is on a soft-restricted network element.\n",
      "\n",
      "Location \"530330219063\" in \"Incidents\" is on a soft-restricted network element.\n",
      "Location \"421027779\" in \"Facilities\" is on a soft-restricted network element.\n",
      "Network elements with avoid-restrictions are traversed in the output (restriction attribute names: \"Avoid Private Roads\" \"Avoid Gates\").\n",
      "\n",
      "Location \"421027779\" in \"Facilities\" is on a soft-restricted network element.\n",
      "Network elements with avoid-restrictions are traversed in the output (restriction attribute names: \"Avoid Gates\").\n",
      "\n",
      "Location \"530610523011\" in \"Incidents\" is on a soft-restricted network element.\n",
      "Location \"421027779\" in \"Facilities\" is on a soft-restricted network element.\n",
      "Network elements with avoid-restrictions are traversed in the output (restriction attribute names: \"Avoid Private Roads\").\n",
      "\n",
      "Location \"530610535052\" in \"Incidents\" is on a soft-restricted network element.\n",
      "Location \"530610536021\" in \"Incidents\" is on a soft-restricted network element.\n",
      "Location \"421027779\" in \"Facilities\" is on a soft-restricted network element.\n",
      "Network elements with avoid-restrictions are traversed in the output (restriction attribute names: \"Avoid Private Roads\" \"Avoid Gates\").\n",
      "\n"
     ]
    },
    {
     "name": "stdout",
     "output_type": "stream",
     "text": [
      "success - 3109\n"
     ]
    },
    {
     "name": "stderr",
     "output_type": "stream",
     "text": [
      "Location \"421027779\" in \"Facilities\" is on a soft-restricted network element.\n",
      "\n",
      "Location \"530330226051\" in \"Incidents\" is on a soft-restricted network element.\n",
      "Location \"530330322072\" in \"Incidents\" is on a soft-restricted network element.\n",
      "Location \"530330322082\" in \"Incidents\" is on a soft-restricted network element.\n",
      "Location \"530330322083\" in \"Incidents\" is on a soft-restricted network element.\n",
      "Location \"530330322152\" in \"Incidents\" is on a soft-restricted network element.\n",
      "Location \"530330323164\" in \"Incidents\" is on a soft-restricted network element.\n",
      "Location \"530330323171\" in \"Incidents\" is on a soft-restricted network element.\n",
      "Location \"530330323174\" in \"Incidents\" is on a soft-restricted network element.\n",
      "Location \"530330323261\" in \"Incidents\" is on a soft-restricted network element.\n",
      "Location \"530330323281\" in \"Incidents\" is on a soft-restricted network element.\n",
      "Location \"530330323291\" in \"Incidents\" is on a soft-restricted network element.\n",
      "Location \"421027779\" in \"Facilities\" is on a soft-restricted network element.\n",
      "Network elements with avoid-restrictions are traversed in the output (restriction attribute names: \"Avoid Private Roads\" \"Avoid Gates\").\n",
      "\n",
      "Location \"530610523011\" in \"Incidents\" is on a soft-restricted network element.\n",
      "Location \"421027779\" in \"Facilities\" is on a soft-restricted network element.\n",
      "Network elements with avoid-restrictions are traversed in the output (restriction attribute names: \"Avoid Private Roads\").\n",
      "\n",
      "Location \"530610535052\" in \"Incidents\" is on a soft-restricted network element.\n",
      "Location \"530610536021\" in \"Incidents\" is on a soft-restricted network element.\n",
      "Location \"421027779\" in \"Facilities\" is on a soft-restricted network element.\n",
      "Network elements with avoid-restrictions are traversed in the output (restriction attribute names: \"Avoid Private Roads\" \"Avoid Gates\").\n",
      "\n"
     ]
    },
    {
     "name": "stdout",
     "output_type": "stream",
     "text": [
      "success - 3118\n"
     ]
    },
    {
     "name": "stderr",
     "output_type": "stream",
     "text": [
      "Location \"421027779\" in \"Facilities\" is on a soft-restricted network element.\n",
      "\n",
      "Location \"530330226051\" in \"Incidents\" is on a soft-restricted network element.\n",
      "Location \"530330322072\" in \"Incidents\" is on a soft-restricted network element.\n",
      "Location \"530330322082\" in \"Incidents\" is on a soft-restricted network element.\n",
      "Location \"530330322083\" in \"Incidents\" is on a soft-restricted network element.\n",
      "Location \"530330322152\" in \"Incidents\" is on a soft-restricted network element.\n",
      "Location \"530330323164\" in \"Incidents\" is on a soft-restricted network element.\n",
      "Location \"530330323171\" in \"Incidents\" is on a soft-restricted network element.\n",
      "Location \"530330323174\" in \"Incidents\" is on a soft-restricted network element.\n",
      "Location \"530330323261\" in \"Incidents\" is on a soft-restricted network element.\n",
      "Location \"530330323281\" in \"Incidents\" is on a soft-restricted network element.\n",
      "Location \"530330323291\" in \"Incidents\" is on a soft-restricted network element.\n",
      "Location \"421027779\" in \"Facilities\" is on a soft-restricted network element.\n",
      "Network elements with avoid-restrictions are traversed in the output (restriction attribute names: \"Avoid Private Roads\" \"Avoid Gates\").\n",
      "\n",
      "Location \"530610523011\" in \"Incidents\" is on a soft-restricted network element.\n",
      "Location \"421027779\" in \"Facilities\" is on a soft-restricted network element.\n",
      "Network elements with avoid-restrictions are traversed in the output (restriction attribute names: \"Avoid Private Roads\").\n",
      "\n",
      "Location \"530610535052\" in \"Incidents\" is on a soft-restricted network element.\n",
      "Location \"530610536021\" in \"Incidents\" is on a soft-restricted network element.\n",
      "Location \"421027779\" in \"Facilities\" is on a soft-restricted network element.\n",
      "Network elements with avoid-restrictions are traversed in the output (restriction attribute names: \"Avoid Private Roads\" \"Avoid Gates\").\n",
      "\n"
     ]
    },
    {
     "name": "stdout",
     "output_type": "stream",
     "text": [
      "success - 3119\n"
     ]
    },
    {
     "name": "stderr",
     "output_type": "stream",
     "text": [
      "Location \"421027779\" in \"Facilities\" is on a soft-restricted network element.\n",
      "\n",
      "Location \"530330226051\" in \"Incidents\" is on a soft-restricted network element.\n",
      "Location \"530330322072\" in \"Incidents\" is on a soft-restricted network element.\n",
      "Location \"530330322082\" in \"Incidents\" is on a soft-restricted network element.\n",
      "Location \"530330322083\" in \"Incidents\" is on a soft-restricted network element.\n",
      "Location \"530330322152\" in \"Incidents\" is on a soft-restricted network element.\n",
      "Location \"530330323164\" in \"Incidents\" is on a soft-restricted network element.\n",
      "Location \"530330323171\" in \"Incidents\" is on a soft-restricted network element.\n",
      "Location \"530330323174\" in \"Incidents\" is on a soft-restricted network element.\n",
      "Location \"530330323261\" in \"Incidents\" is on a soft-restricted network element.\n",
      "Location \"530330323281\" in \"Incidents\" is on a soft-restricted network element.\n",
      "Location \"530330323291\" in \"Incidents\" is on a soft-restricted network element.\n",
      "Location \"421027779\" in \"Facilities\" is on a soft-restricted network element.\n",
      "Network elements with avoid-restrictions are traversed in the output (restriction attribute names: \"Avoid Private Roads\" \"Avoid Gates\").\n",
      "\n",
      "Location \"530610523011\" in \"Incidents\" is on a soft-restricted network element.\n",
      "Location \"421027779\" in \"Facilities\" is on a soft-restricted network element.\n",
      "Network elements with avoid-restrictions are traversed in the output (restriction attribute names: \"Avoid Private Roads\").\n",
      "\n",
      "Location \"530610535052\" in \"Incidents\" is on a soft-restricted network element.\n",
      "Location \"530610536021\" in \"Incidents\" is on a soft-restricted network element.\n",
      "Location \"421027779\" in \"Facilities\" is on a soft-restricted network element.\n",
      "Network elements with avoid-restrictions are traversed in the output (restriction attribute names: \"Avoid Private Roads\" \"Avoid Gates\").\n",
      "\n"
     ]
    },
    {
     "name": "stdout",
     "output_type": "stream",
     "text": [
      "success - 3120\n"
     ]
    },
    {
     "name": "stderr",
     "output_type": "stream",
     "text": [
      "Location \"421027779\" in \"Facilities\" is on a soft-restricted network element.\n",
      "\n",
      "Location \"530330226051\" in \"Incidents\" is on a soft-restricted network element.\n",
      "Location \"530330322072\" in \"Incidents\" is on a soft-restricted network element.\n",
      "Location \"530330322082\" in \"Incidents\" is on a soft-restricted network element.\n",
      "Location \"530330322083\" in \"Incidents\" is on a soft-restricted network element.\n",
      "Location \"530330322152\" in \"Incidents\" is on a soft-restricted network element.\n",
      "Location \"530330323164\" in \"Incidents\" is on a soft-restricted network element.\n",
      "Location \"530330323171\" in \"Incidents\" is on a soft-restricted network element.\n",
      "Location \"530330323174\" in \"Incidents\" is on a soft-restricted network element.\n",
      "Location \"530330323261\" in \"Incidents\" is on a soft-restricted network element.\n",
      "Location \"530330323281\" in \"Incidents\" is on a soft-restricted network element.\n",
      "Location \"530330323291\" in \"Incidents\" is on a soft-restricted network element.\n",
      "Location \"421027779\" in \"Facilities\" is on a soft-restricted network element.\n",
      "Network elements with avoid-restrictions are traversed in the output (restriction attribute names: \"Avoid Private Roads\" \"Avoid Gates\").\n",
      "\n",
      "Location \"530610523011\" in \"Incidents\" is on a soft-restricted network element.\n",
      "Location \"421027779\" in \"Facilities\" is on a soft-restricted network element.\n",
      "Network elements with avoid-restrictions are traversed in the output (restriction attribute names: \"Avoid Private Roads\").\n",
      "\n"
     ]
    },
    {
     "name": "stdout",
     "output_type": "stream",
     "text": [
      "success - 3121\n"
     ]
    },
    {
     "name": "stderr",
     "output_type": "stream",
     "text": [
      "Location \"421027779\" in \"Facilities\" is on a soft-restricted network element.\n",
      "\n",
      "Location \"530330226051\" in \"Incidents\" is on a soft-restricted network element.\n",
      "Location \"530330322072\" in \"Incidents\" is on a soft-restricted network element.\n",
      "Location \"530330322082\" in \"Incidents\" is on a soft-restricted network element.\n",
      "Location \"530330322083\" in \"Incidents\" is on a soft-restricted network element.\n",
      "Location \"530330322152\" in \"Incidents\" is on a soft-restricted network element.\n",
      "Location \"530330323164\" in \"Incidents\" is on a soft-restricted network element.\n",
      "Location \"530330323171\" in \"Incidents\" is on a soft-restricted network element.\n",
      "Location \"530330323174\" in \"Incidents\" is on a soft-restricted network element.\n",
      "Location \"530330323261\" in \"Incidents\" is on a soft-restricted network element.\n",
      "Location \"530330323281\" in \"Incidents\" is on a soft-restricted network element.\n",
      "Location \"530330323291\" in \"Incidents\" is on a soft-restricted network element.\n",
      "Location \"421027779\" in \"Facilities\" is on a soft-restricted network element.\n",
      "Network elements with avoid-restrictions are traversed in the output (restriction attribute names: \"Avoid Private Roads\" \"Avoid Gates\").\n",
      "\n",
      "Location \"530610523011\" in \"Incidents\" is on a soft-restricted network element.\n",
      "Location \"421027779\" in \"Facilities\" is on a soft-restricted network element.\n",
      "Network elements with avoid-restrictions are traversed in the output (restriction attribute names: \"Avoid Private Roads\").\n",
      "\n",
      "Location \"530610535052\" in \"Incidents\" is on a soft-restricted network element.\n",
      "Location \"530610536021\" in \"Incidents\" is on a soft-restricted network element.\n",
      "Location \"421027779\" in \"Facilities\" is on a soft-restricted network element.\n",
      "Network elements with avoid-restrictions are traversed in the output (restriction attribute names: \"Avoid Private Roads\" \"Avoid Gates\").\n",
      "\n"
     ]
    },
    {
     "name": "stdout",
     "output_type": "stream",
     "text": [
      "success - 3122\n"
     ]
    },
    {
     "name": "stderr",
     "output_type": "stream",
     "text": [
      "Location \"421027779\" in \"Facilities\" is on a soft-restricted network element.\n",
      "\n",
      "Location \"421027779\" in \"Facilities\" is on a soft-restricted network element.\n",
      "Network elements with avoid-restrictions are traversed in the output (restriction attribute names: \"Avoid Gates\").\n",
      "\n",
      "Location \"530330209003\" in \"Incidents\" is on a soft-restricted network element.\n",
      "Location \"421027779\" in \"Facilities\" is on a soft-restricted network element.\n",
      "Network elements with avoid-restrictions are traversed in the output (restriction attribute names: \"Avoid Private Roads\" \"Avoid Gates\").\n",
      "\n",
      "Location \"530330219063\" in \"Incidents\" is on a soft-restricted network element.\n",
      "Location \"530330221024\" in \"Incidents\" is on a soft-restricted network element.\n",
      "Location \"530330226051\" in \"Incidents\" is on a soft-restricted network element.\n",
      "Location \"530330323261\" in \"Incidents\" is on a soft-restricted network element.\n",
      "Location \"421027779\" in \"Facilities\" is on a soft-restricted network element.\n",
      "Network elements with avoid-restrictions are traversed in the output (restriction attribute names: \"Avoid Private Roads\" \"Avoid Gates\").\n",
      "\n",
      "Location \"421027779\" in \"Facilities\" is on a soft-restricted network element.\n",
      "Network elements with avoid-restrictions are traversed in the output (restriction attribute names: \"Avoid Gates\").\n",
      "\n",
      "Location \"530610523011\" in \"Incidents\" is on a soft-restricted network element.\n",
      "Location \"421027779\" in \"Facilities\" is on a soft-restricted network element.\n",
      "Network elements with avoid-restrictions are traversed in the output (restriction attribute names: \"Avoid Private Roads\").\n",
      "\n",
      "Location \"530610535052\" in \"Incidents\" is on a soft-restricted network element.\n",
      "Location \"530610536021\" in \"Incidents\" is on a soft-restricted network element.\n",
      "Location \"421027779\" in \"Facilities\" is on a soft-restricted network element.\n",
      "Network elements with avoid-restrictions are traversed in the output (restriction attribute names: \"Avoid Private Roads\" \"Avoid Gates\").\n",
      "\n"
     ]
    },
    {
     "name": "stdout",
     "output_type": "stream",
     "text": [
      "success - 3154\n"
     ]
    },
    {
     "name": "stderr",
     "output_type": "stream",
     "text": [
      "Location \"421027779\" in \"Facilities\" is on a soft-restricted network element.\n",
      "\n",
      "Location \"421027779\" in \"Facilities\" is on a soft-restricted network element.\n",
      "Network elements with avoid-restrictions are traversed in the output (restriction attribute names: \"Avoid Gates\").\n",
      "\n",
      "Location \"530330209003\" in \"Incidents\" is on a soft-restricted network element.\n",
      "Location \"421027779\" in \"Facilities\" is on a soft-restricted network element.\n",
      "Network elements with avoid-restrictions are traversed in the output (restriction attribute names: \"Avoid Private Roads\" \"Avoid Gates\").\n",
      "\n",
      "Location \"530330219063\" in \"Incidents\" is on a soft-restricted network element.\n",
      "Location \"530330221024\" in \"Incidents\" is on a soft-restricted network element.\n",
      "Location \"530330226051\" in \"Incidents\" is on a soft-restricted network element.\n",
      "Location \"530330323261\" in \"Incidents\" is on a soft-restricted network element.\n",
      "Location \"421027779\" in \"Facilities\" is on a soft-restricted network element.\n",
      "Network elements with avoid-restrictions are traversed in the output (restriction attribute names: \"Avoid Private Roads\" \"Avoid Gates\").\n",
      "\n",
      "Location \"421027779\" in \"Facilities\" is on a soft-restricted network element.\n",
      "Network elements with avoid-restrictions are traversed in the output (restriction attribute names: \"Avoid Gates\").\n",
      "\n",
      "Location \"530610523011\" in \"Incidents\" is on a soft-restricted network element.\n",
      "Location \"421027779\" in \"Facilities\" is on a soft-restricted network element.\n",
      "Network elements with avoid-restrictions are traversed in the output (restriction attribute names: \"Avoid Private Roads\").\n",
      "\n",
      "Location \"530610535052\" in \"Incidents\" is on a soft-restricted network element.\n",
      "Location \"530610536021\" in \"Incidents\" is on a soft-restricted network element.\n",
      "Location \"421027779\" in \"Facilities\" is on a soft-restricted network element.\n",
      "Network elements with avoid-restrictions are traversed in the output (restriction attribute names: \"Avoid Private Roads\" \"Avoid Gates\").\n",
      "\n"
     ]
    },
    {
     "name": "stdout",
     "output_type": "stream",
     "text": [
      "success - 3155\n"
     ]
    },
    {
     "name": "stderr",
     "output_type": "stream",
     "text": [
      "Location \"421027779\" in \"Facilities\" is on a soft-restricted network element.\n",
      "\n",
      "Location \"530330209003\" in \"Incidents\" is on a soft-restricted network element.\n",
      "Location \"421027779\" in \"Facilities\" is on a soft-restricted network element.\n",
      "Network elements with avoid-restrictions are traversed in the output (restriction attribute names: \"Avoid Private Roads\" \"Avoid Gates\").\n",
      "\n",
      "Location \"421027779\" in \"Facilities\" is on a soft-restricted network element.\n",
      "\n",
      "Location \"530330219063\" in \"Incidents\" is on a soft-restricted network element.\n",
      "Location \"530330221024\" in \"Incidents\" is on a soft-restricted network element.\n",
      "Location \"530330226051\" in \"Incidents\" is on a soft-restricted network element.\n",
      "Location \"530330323261\" in \"Incidents\" is on a soft-restricted network element.\n",
      "Location \"421027779\" in \"Facilities\" is on a soft-restricted network element.\n",
      "Network elements with avoid-restrictions are traversed in the output (restriction attribute names: \"Avoid Private Roads\" \"Avoid Gates\").\n",
      "\n",
      "Location \"421027779\" in \"Facilities\" is on a soft-restricted network element.\n",
      "Network elements with avoid-restrictions are traversed in the output (restriction attribute names: \"Avoid Gates\").\n",
      "\n",
      "Location \"530610523011\" in \"Incidents\" is on a soft-restricted network element.\n",
      "Location \"421027779\" in \"Facilities\" is on a soft-restricted network element.\n",
      "Network elements with avoid-restrictions are traversed in the output (restriction attribute names: \"Avoid Private Roads\").\n",
      "\n",
      "Location \"530610535052\" in \"Incidents\" is on a soft-restricted network element.\n",
      "Location \"530610536021\" in \"Incidents\" is on a soft-restricted network element.\n",
      "Location \"421027779\" in \"Facilities\" is on a soft-restricted network element.\n",
      "Network elements with avoid-restrictions are traversed in the output (restriction attribute names: \"Avoid Private Roads\" \"Avoid Gates\").\n",
      "\n"
     ]
    },
    {
     "name": "stdout",
     "output_type": "stream",
     "text": [
      "success - 3156\n"
     ]
    },
    {
     "name": "stderr",
     "output_type": "stream",
     "text": [
      "Location \"421027779\" in \"Facilities\" is on a soft-restricted network element.\n",
      "\n",
      "Location \"530330209003\" in \"Incidents\" is on a soft-restricted network element.\n",
      "Location \"421027779\" in \"Facilities\" is on a soft-restricted network element.\n",
      "Network elements with avoid-restrictions are traversed in the output (restriction attribute names: \"Avoid Private Roads\" \"Avoid Gates\").\n",
      "\n",
      "Location \"421027779\" in \"Facilities\" is on a soft-restricted network element.\n",
      "\n",
      "Location \"530330219063\" in \"Incidents\" is on a soft-restricted network element.\n",
      "Location \"530330221024\" in \"Incidents\" is on a soft-restricted network element.\n",
      "Location \"530330226051\" in \"Incidents\" is on a soft-restricted network element.\n",
      "Location \"530330323261\" in \"Incidents\" is on a soft-restricted network element.\n",
      "Location \"421027779\" in \"Facilities\" is on a soft-restricted network element.\n",
      "Network elements with avoid-restrictions are traversed in the output (restriction attribute names: \"Avoid Private Roads\" \"Avoid Gates\").\n",
      "\n",
      "Location \"421027779\" in \"Facilities\" is on a soft-restricted network element.\n",
      "Network elements with avoid-restrictions are traversed in the output (restriction attribute names: \"Avoid Gates\").\n",
      "\n",
      "Location \"530610523011\" in \"Incidents\" is on a soft-restricted network element.\n",
      "Location \"421027779\" in \"Facilities\" is on a soft-restricted network element.\n",
      "Network elements with avoid-restrictions are traversed in the output (restriction attribute names: \"Avoid Private Roads\").\n",
      "\n",
      "Location \"530610535052\" in \"Incidents\" is on a soft-restricted network element.\n",
      "Location \"530610536021\" in \"Incidents\" is on a soft-restricted network element.\n",
      "Location \"421027779\" in \"Facilities\" is on a soft-restricted network element.\n",
      "Network elements with avoid-restrictions are traversed in the output (restriction attribute names: \"Avoid Private Roads\" \"Avoid Gates\").\n",
      "\n"
     ]
    },
    {
     "name": "stdout",
     "output_type": "stream",
     "text": [
      "success - 3157\n"
     ]
    },
    {
     "name": "stderr",
     "output_type": "stream",
     "text": [
      "Location \"421027779\" in \"Facilities\" is on a soft-restricted network element.\n",
      "\n",
      "Location \"530330219063\" in \"Incidents\" is on a soft-restricted network element.\n",
      "Location \"421027779\" in \"Facilities\" is on a soft-restricted network element.\n",
      "Network elements with avoid-restrictions are traversed in the output (restriction attribute names: \"Avoid Private Roads\").\n",
      "\n",
      "Location \"421027779\" in \"Facilities\" is on a soft-restricted network element.\n",
      "Network elements with avoid-restrictions are traversed in the output (restriction attribute names: \"Avoid Gates\").\n",
      "\n",
      "Location \"530610523011\" in \"Incidents\" is on a soft-restricted network element.\n",
      "Location \"421027779\" in \"Facilities\" is on a soft-restricted network element.\n",
      "Network elements with avoid-restrictions are traversed in the output (restriction attribute names: \"Avoid Private Roads\").\n",
      "\n",
      "Location \"530610535052\" in \"Incidents\" is on a soft-restricted network element.\n",
      "Location \"530610536021\" in \"Incidents\" is on a soft-restricted network element.\n",
      "Location \"421027779\" in \"Facilities\" is on a soft-restricted network element.\n",
      "Network elements with avoid-restrictions are traversed in the output (restriction attribute names: \"Avoid Private Roads\").\n",
      "\n"
     ]
    },
    {
     "name": "stdout",
     "output_type": "stream",
     "text": [
      "success - 3158\n"
     ]
    },
    {
     "name": "stderr",
     "output_type": "stream",
     "text": [
      "Location \"421027779\" in \"Facilities\" is on a soft-restricted network element.\n",
      "\n",
      "Location \"530330219063\" in \"Incidents\" is on a soft-restricted network element.\n",
      "Location \"421027779\" in \"Facilities\" is on a soft-restricted network element.\n",
      "Network elements with avoid-restrictions are traversed in the output (restriction attribute names: \"Avoid Private Roads\").\n",
      "\n",
      "Location \"421027779\" in \"Facilities\" is on a soft-restricted network element.\n",
      "Network elements with avoid-restrictions are traversed in the output (restriction attribute names: \"Avoid Gates\").\n",
      "\n",
      "Location \"530610523011\" in \"Incidents\" is on a soft-restricted network element.\n",
      "Location \"421027779\" in \"Facilities\" is on a soft-restricted network element.\n",
      "Network elements with avoid-restrictions are traversed in the output (restriction attribute names: \"Avoid Private Roads\").\n",
      "\n",
      "Location \"530610535052\" in \"Incidents\" is on a soft-restricted network element.\n",
      "Location \"530610536021\" in \"Incidents\" is on a soft-restricted network element.\n",
      "Location \"421027779\" in \"Facilities\" is on a soft-restricted network element.\n",
      "Network elements with avoid-restrictions are traversed in the output (restriction attribute names: \"Avoid Private Roads\").\n",
      "\n"
     ]
    },
    {
     "name": "stdout",
     "output_type": "stream",
     "text": [
      "success - 3159\n"
     ]
    },
    {
     "name": "stderr",
     "output_type": "stream",
     "text": [
      "Location \"421027779\" in \"Facilities\" is on a soft-restricted network element.\n",
      "\n",
      "Location \"530330219063\" in \"Incidents\" is on a soft-restricted network element.\n",
      "Location \"421027779\" in \"Facilities\" is on a soft-restricted network element.\n",
      "Network elements with avoid-restrictions are traversed in the output (restriction attribute names: \"Avoid Private Roads\").\n",
      "\n",
      "Location \"421027779\" in \"Facilities\" is on a soft-restricted network element.\n",
      "Network elements with avoid-restrictions are traversed in the output (restriction attribute names: \"Avoid Gates\").\n",
      "\n",
      "Location \"530610523011\" in \"Incidents\" is on a soft-restricted network element.\n",
      "Location \"421027779\" in \"Facilities\" is on a soft-restricted network element.\n",
      "Network elements with avoid-restrictions are traversed in the output (restriction attribute names: \"Avoid Private Roads\").\n",
      "\n",
      "Location \"530610535052\" in \"Incidents\" is on a soft-restricted network element.\n",
      "Location \"530610536021\" in \"Incidents\" is on a soft-restricted network element.\n",
      "Location \"421027779\" in \"Facilities\" is on a soft-restricted network element.\n",
      "Network elements with avoid-restrictions are traversed in the output (restriction attribute names: \"Avoid Private Roads\").\n",
      "\n"
     ]
    },
    {
     "name": "stdout",
     "output_type": "stream",
     "text": [
      "success - 3160\n"
     ]
    },
    {
     "name": "stderr",
     "output_type": "stream",
     "text": [
      "Location \"421027779\" in \"Facilities\" is on a soft-restricted network element.\n",
      "\n",
      "Location \"530330219063\" in \"Incidents\" is on a soft-restricted network element.\n",
      "Location \"421027779\" in \"Facilities\" is on a soft-restricted network element.\n",
      "Network elements with avoid-restrictions are traversed in the output (restriction attribute names: \"Avoid Private Roads\").\n",
      "\n",
      "Location \"421027779\" in \"Facilities\" is on a soft-restricted network element.\n",
      "Network elements with avoid-restrictions are traversed in the output (restriction attribute names: \"Avoid Gates\").\n",
      "\n",
      "Location \"530610523011\" in \"Incidents\" is on a soft-restricted network element.\n",
      "Location \"421027779\" in \"Facilities\" is on a soft-restricted network element.\n",
      "Network elements with avoid-restrictions are traversed in the output (restriction attribute names: \"Avoid Private Roads\").\n",
      "\n",
      "Location \"530610535052\" in \"Incidents\" is on a soft-restricted network element.\n",
      "Location \"530610536021\" in \"Incidents\" is on a soft-restricted network element.\n",
      "Location \"421027779\" in \"Facilities\" is on a soft-restricted network element.\n",
      "Network elements with avoid-restrictions are traversed in the output (restriction attribute names: \"Avoid Private Roads\").\n",
      "\n"
     ]
    },
    {
     "name": "stdout",
     "output_type": "stream",
     "text": [
      "success - 3161\n"
     ]
    },
    {
     "name": "stderr",
     "output_type": "stream",
     "text": [
      "Location \"421027779\" in \"Facilities\" is on a soft-restricted network element.\n",
      "\n",
      "Location \"530330219063\" in \"Incidents\" is on a soft-restricted network element.\n",
      "Location \"421027779\" in \"Facilities\" is on a soft-restricted network element.\n",
      "Network elements with avoid-restrictions are traversed in the output (restriction attribute names: \"Avoid Private Roads\").\n",
      "\n",
      "Location \"421027779\" in \"Facilities\" is on a soft-restricted network element.\n",
      "Network elements with avoid-restrictions are traversed in the output (restriction attribute names: \"Avoid Gates\").\n",
      "\n",
      "Location \"530610523011\" in \"Incidents\" is on a soft-restricted network element.\n",
      "Location \"421027779\" in \"Facilities\" is on a soft-restricted network element.\n",
      "Network elements with avoid-restrictions are traversed in the output (restriction attribute names: \"Avoid Private Roads\").\n",
      "\n",
      "Location \"530610535052\" in \"Incidents\" is on a soft-restricted network element.\n",
      "Location \"530610536021\" in \"Incidents\" is on a soft-restricted network element.\n",
      "Location \"421027779\" in \"Facilities\" is on a soft-restricted network element.\n",
      "Network elements with avoid-restrictions are traversed in the output (restriction attribute names: \"Avoid Private Roads\").\n",
      "\n"
     ]
    },
    {
     "name": "stdout",
     "output_type": "stream",
     "text": [
      "success - 3162\n"
     ]
    },
    {
     "name": "stderr",
     "output_type": "stream",
     "text": [
      "Location \"421027779\" in \"Facilities\" is on a soft-restricted network element.\n",
      "\n",
      "Location \"530330219063\" in \"Incidents\" is on a soft-restricted network element.\n",
      "Location \"421027779\" in \"Facilities\" is on a soft-restricted network element.\n",
      "Network elements with avoid-restrictions are traversed in the output (restriction attribute names: \"Avoid Private Roads\" \"Avoid Gates\").\n",
      "\n",
      "Location \"421027779\" in \"Facilities\" is on a soft-restricted network element.\n",
      "Network elements with avoid-restrictions are traversed in the output (restriction attribute names: \"Avoid Gates\").\n",
      "\n",
      "Location \"530610523011\" in \"Incidents\" is on a soft-restricted network element.\n",
      "Location \"421027779\" in \"Facilities\" is on a soft-restricted network element.\n",
      "Network elements with avoid-restrictions are traversed in the output (restriction attribute names: \"Avoid Private Roads\").\n",
      "\n",
      "Location \"530610535052\" in \"Incidents\" is on a soft-restricted network element.\n",
      "Location \"530610536021\" in \"Incidents\" is on a soft-restricted network element.\n",
      "Location \"421027779\" in \"Facilities\" is on a soft-restricted network element.\n",
      "Network elements with avoid-restrictions are traversed in the output (restriction attribute names: \"Avoid Private Roads\" \"Avoid Gates\").\n",
      "\n"
     ]
    },
    {
     "name": "stdout",
     "output_type": "stream",
     "text": [
      "success - 3163\n"
     ]
    },
    {
     "name": "stderr",
     "output_type": "stream",
     "text": [
      "Location \"421027779\" in \"Facilities\" is on a soft-restricted network element.\n",
      "\n",
      "Location \"530330219063\" in \"Incidents\" is on a soft-restricted network element.\n",
      "Location \"421027779\" in \"Facilities\" is on a soft-restricted network element.\n",
      "Network elements with avoid-restrictions are traversed in the output (restriction attribute names: \"Avoid Private Roads\" \"Avoid Gates\").\n",
      "\n",
      "Location \"421027779\" in \"Facilities\" is on a soft-restricted network element.\n",
      "Network elements with avoid-restrictions are traversed in the output (restriction attribute names: \"Avoid Gates\").\n",
      "\n",
      "Location \"530610523011\" in \"Incidents\" is on a soft-restricted network element.\n",
      "Location \"421027779\" in \"Facilities\" is on a soft-restricted network element.\n",
      "Network elements with avoid-restrictions are traversed in the output (restriction attribute names: \"Avoid Private Roads\").\n",
      "\n",
      "Location \"530610535052\" in \"Incidents\" is on a soft-restricted network element.\n",
      "Location \"530610536021\" in \"Incidents\" is on a soft-restricted network element.\n",
      "Location \"421027779\" in \"Facilities\" is on a soft-restricted network element.\n",
      "Network elements with avoid-restrictions are traversed in the output (restriction attribute names: \"Avoid Private Roads\" \"Avoid Gates\").\n",
      "\n"
     ]
    },
    {
     "name": "stdout",
     "output_type": "stream",
     "text": [
      "success - 3164\n"
     ]
    },
    {
     "name": "stderr",
     "output_type": "stream",
     "text": [
      "Location \"421027779\" in \"Facilities\" is on a soft-restricted network element.\n",
      "\n",
      "Location \"530330219063\" in \"Incidents\" is on a soft-restricted network element.\n",
      "Location \"421027779\" in \"Facilities\" is on a soft-restricted network element.\n",
      "Network elements with avoid-restrictions are traversed in the output (restriction attribute names: \"Avoid Private Roads\" \"Avoid Gates\").\n",
      "\n",
      "Location \"421027779\" in \"Facilities\" is on a soft-restricted network element.\n",
      "Network elements with avoid-restrictions are traversed in the output (restriction attribute names: \"Avoid Gates\").\n",
      "\n",
      "Location \"530610523011\" in \"Incidents\" is on a soft-restricted network element.\n",
      "Location \"421027779\" in \"Facilities\" is on a soft-restricted network element.\n",
      "Network elements with avoid-restrictions are traversed in the output (restriction attribute names: \"Avoid Private Roads\").\n",
      "\n",
      "Location \"530610535052\" in \"Incidents\" is on a soft-restricted network element.\n",
      "Location \"530610536021\" in \"Incidents\" is on a soft-restricted network element.\n",
      "Location \"421027779\" in \"Facilities\" is on a soft-restricted network element.\n",
      "Network elements with avoid-restrictions are traversed in the output (restriction attribute names: \"Avoid Private Roads\" \"Avoid Gates\").\n",
      "\n"
     ]
    },
    {
     "name": "stdout",
     "output_type": "stream",
     "text": [
      "success - 3165\n"
     ]
    },
    {
     "name": "stderr",
     "output_type": "stream",
     "text": [
      "Location \"421027779\" in \"Facilities\" is on a soft-restricted network element.\n",
      "\n",
      "Location \"530330219063\" in \"Incidents\" is on a soft-restricted network element.\n",
      "Location \"421027779\" in \"Facilities\" is on a soft-restricted network element.\n",
      "Network elements with avoid-restrictions are traversed in the output (restriction attribute names: \"Avoid Private Roads\" \"Avoid Gates\").\n",
      "\n",
      "Location \"421027779\" in \"Facilities\" is on a soft-restricted network element.\n",
      "Network elements with avoid-restrictions are traversed in the output (restriction attribute names: \"Avoid Gates\").\n",
      "\n",
      "Location \"530610523011\" in \"Incidents\" is on a soft-restricted network element.\n",
      "Location \"421027779\" in \"Facilities\" is on a soft-restricted network element.\n",
      "Network elements with avoid-restrictions are traversed in the output (restriction attribute names: \"Avoid Private Roads\").\n",
      "\n",
      "Location \"530610535052\" in \"Incidents\" is on a soft-restricted network element.\n",
      "Location \"530610536021\" in \"Incidents\" is on a soft-restricted network element.\n",
      "Location \"421027779\" in \"Facilities\" is on a soft-restricted network element.\n",
      "Network elements with avoid-restrictions are traversed in the output (restriction attribute names: \"Avoid Private Roads\" \"Avoid Gates\").\n",
      "\n"
     ]
    },
    {
     "name": "stdout",
     "output_type": "stream",
     "text": [
      "success - 3166\n"
     ]
    },
    {
     "name": "stderr",
     "output_type": "stream",
     "text": [
      "Location \"421027779\" in \"Facilities\" is on a soft-restricted network element.\n",
      "\n",
      "Location \"530330219063\" in \"Incidents\" is on a soft-restricted network element.\n",
      "Location \"421027779\" in \"Facilities\" is on a soft-restricted network element.\n",
      "Network elements with avoid-restrictions are traversed in the output (restriction attribute names: \"Avoid Private Roads\" \"Avoid Gates\").\n",
      "\n",
      "Location \"421027779\" in \"Facilities\" is on a soft-restricted network element.\n",
      "Network elements with avoid-restrictions are traversed in the output (restriction attribute names: \"Avoid Gates\").\n",
      "\n",
      "Location \"530610523011\" in \"Incidents\" is on a soft-restricted network element.\n",
      "Location \"421027779\" in \"Facilities\" is on a soft-restricted network element.\n",
      "Network elements with avoid-restrictions are traversed in the output (restriction attribute names: \"Avoid Private Roads\").\n",
      "\n",
      "Location \"530610535052\" in \"Incidents\" is on a soft-restricted network element.\n",
      "Location \"530610536021\" in \"Incidents\" is on a soft-restricted network element.\n",
      "Location \"421027779\" in \"Facilities\" is on a soft-restricted network element.\n",
      "Network elements with avoid-restrictions are traversed in the output (restriction attribute names: \"Avoid Private Roads\" \"Avoid Gates\").\n",
      "\n"
     ]
    },
    {
     "name": "stdout",
     "output_type": "stream",
     "text": [
      "success - 3167\n"
     ]
    },
    {
     "name": "stderr",
     "output_type": "stream",
     "text": [
      "Location \"421027779\" in \"Facilities\" is on a soft-restricted network element.\n",
      "\n",
      "Location \"421027779\" in \"Facilities\" is on a soft-restricted network element.\n",
      "Network elements with avoid-restrictions are traversed in the output (restriction attribute names: \"Avoid Gates\").\n",
      "\n",
      "Location \"530610523011\" in \"Incidents\" is on a soft-restricted network element.\n",
      "Location \"421027779\" in \"Facilities\" is on a soft-restricted network element.\n",
      "Network elements with avoid-restrictions are traversed in the output (restriction attribute names: \"Avoid Private Roads\" \"Avoid Gates\").\n",
      "\n",
      "Location \"530610535052\" in \"Incidents\" is on a soft-restricted network element.\n",
      "Location \"530610536021\" in \"Incidents\" is on a soft-restricted network element.\n",
      "Location \"421027779\" in \"Facilities\" is on a soft-restricted network element.\n",
      "Network elements with avoid-restrictions are traversed in the output (restriction attribute names: \"Avoid Private Roads\" \"Avoid Gates\").\n",
      "\n",
      "Location \"421027779\" in \"Facilities\" is on a soft-restricted network element.\n",
      "\n"
     ]
    },
    {
     "name": "stdout",
     "output_type": "stream",
     "text": [
      "success - 3168\n"
     ]
    },
    {
     "name": "stderr",
     "output_type": "stream",
     "text": [
      "Location \"421027779\" in \"Facilities\" is on a soft-restricted network element.\n",
      "\n",
      "Location \"530330219063\" in \"Incidents\" is on a soft-restricted network element.\n",
      "Location \"421027779\" in \"Facilities\" is on a soft-restricted network element.\n",
      "Network elements with avoid-restrictions are traversed in the output (restriction attribute names: \"Avoid Private Roads\" \"Avoid Gates\").\n",
      "\n",
      "Location \"421027779\" in \"Facilities\" is on a soft-restricted network element.\n",
      "Network elements with avoid-restrictions are traversed in the output (restriction attribute names: \"Avoid Gates\").\n",
      "\n",
      "Location \"530610523011\" in \"Incidents\" is on a soft-restricted network element.\n",
      "Location \"421027779\" in \"Facilities\" is on a soft-restricted network element.\n",
      "Network elements with avoid-restrictions are traversed in the output (restriction attribute names: \"Avoid Private Roads\").\n",
      "\n",
      "Location \"530610535052\" in \"Incidents\" is on a soft-restricted network element.\n",
      "Location \"530610536021\" in \"Incidents\" is on a soft-restricted network element.\n",
      "Location \"421027779\" in \"Facilities\" is on a soft-restricted network element.\n",
      "Network elements with avoid-restrictions are traversed in the output (restriction attribute names: \"Avoid Private Roads\" \"Avoid Gates\").\n",
      "\n"
     ]
    },
    {
     "name": "stdout",
     "output_type": "stream",
     "text": [
      "success - 3169\n"
     ]
    },
    {
     "name": "stderr",
     "output_type": "stream",
     "text": [
      "Location \"421027779\" in \"Facilities\" is on a soft-restricted network element.\n",
      "\n",
      "Location \"530330219063\" in \"Incidents\" is on a soft-restricted network element.\n",
      "Location \"421027779\" in \"Facilities\" is on a soft-restricted network element.\n",
      "Network elements with avoid-restrictions are traversed in the output (restriction attribute names: \"Avoid Private Roads\" \"Avoid Gates\").\n",
      "\n",
      "Location \"421027779\" in \"Facilities\" is on a soft-restricted network element.\n",
      "Network elements with avoid-restrictions are traversed in the output (restriction attribute names: \"Avoid Gates\").\n",
      "\n",
      "Location \"530610523011\" in \"Incidents\" is on a soft-restricted network element.\n",
      "Location \"421027779\" in \"Facilities\" is on a soft-restricted network element.\n",
      "Network elements with avoid-restrictions are traversed in the output (restriction attribute names: \"Avoid Private Roads\").\n",
      "\n",
      "Location \"530610535052\" in \"Incidents\" is on a soft-restricted network element.\n",
      "Location \"530610536021\" in \"Incidents\" is on a soft-restricted network element.\n",
      "Location \"421027779\" in \"Facilities\" is on a soft-restricted network element.\n",
      "Network elements with avoid-restrictions are traversed in the output (restriction attribute names: \"Avoid Private Roads\" \"Avoid Gates\").\n",
      "\n"
     ]
    },
    {
     "name": "stdout",
     "output_type": "stream",
     "text": [
      "success - 3170\n"
     ]
    },
    {
     "name": "stderr",
     "output_type": "stream",
     "text": [
      "Location \"421027779\" in \"Facilities\" is on a soft-restricted network element.\n",
      "\n",
      "Location \"530330219063\" in \"Incidents\" is on a soft-restricted network element.\n",
      "Location \"421027779\" in \"Facilities\" is on a soft-restricted network element.\n",
      "Network elements with avoid-restrictions are traversed in the output (restriction attribute names: \"Avoid Private Roads\" \"Avoid Gates\").\n",
      "\n",
      "Location \"421027779\" in \"Facilities\" is on a soft-restricted network element.\n",
      "Network elements with avoid-restrictions are traversed in the output (restriction attribute names: \"Avoid Gates\").\n",
      "\n",
      "Location \"530610523011\" in \"Incidents\" is on a soft-restricted network element.\n",
      "Location \"421027779\" in \"Facilities\" is on a soft-restricted network element.\n",
      "Network elements with avoid-restrictions are traversed in the output (restriction attribute names: \"Avoid Private Roads\").\n",
      "\n",
      "Location \"530610535052\" in \"Incidents\" is on a soft-restricted network element.\n",
      "Location \"530610536021\" in \"Incidents\" is on a soft-restricted network element.\n",
      "Location \"421027779\" in \"Facilities\" is on a soft-restricted network element.\n",
      "Network elements with avoid-restrictions are traversed in the output (restriction attribute names: \"Avoid Private Roads\" \"Avoid Gates\").\n",
      "\n"
     ]
    },
    {
     "name": "stdout",
     "output_type": "stream",
     "text": [
      "success - 3171\n"
     ]
    },
    {
     "name": "stderr",
     "output_type": "stream",
     "text": [
      "Location \"421027779\" in \"Facilities\" is on a soft-restricted network element.\n",
      "\n",
      "Location \"530330219063\" in \"Incidents\" is on a soft-restricted network element.\n",
      "Location \"421027779\" in \"Facilities\" is on a soft-restricted network element.\n",
      "Network elements with avoid-restrictions are traversed in the output (restriction attribute names: \"Avoid Private Roads\" \"Avoid Gates\").\n",
      "\n",
      "Location \"421027779\" in \"Facilities\" is on a soft-restricted network element.\n",
      "Network elements with avoid-restrictions are traversed in the output (restriction attribute names: \"Avoid Gates\").\n",
      "\n",
      "Location \"530610523011\" in \"Incidents\" is on a soft-restricted network element.\n",
      "Location \"421027779\" in \"Facilities\" is on a soft-restricted network element.\n",
      "Network elements with avoid-restrictions are traversed in the output (restriction attribute names: \"Avoid Private Roads\").\n",
      "\n",
      "Location \"530610535052\" in \"Incidents\" is on a soft-restricted network element.\n",
      "Location \"530610536021\" in \"Incidents\" is on a soft-restricted network element.\n",
      "Location \"421027779\" in \"Facilities\" is on a soft-restricted network element.\n",
      "Network elements with avoid-restrictions are traversed in the output (restriction attribute names: \"Avoid Private Roads\" \"Avoid Gates\").\n",
      "\n"
     ]
    },
    {
     "name": "stdout",
     "output_type": "stream",
     "text": [
      "success - 3172\n"
     ]
    },
    {
     "name": "stderr",
     "output_type": "stream",
     "text": [
      "Location \"421027779\" in \"Facilities\" is on a soft-restricted network element.\n",
      "\n",
      "Location \"530330219063\" in \"Incidents\" is on a soft-restricted network element.\n",
      "Location \"421027779\" in \"Facilities\" is on a soft-restricted network element.\n",
      "Network elements with avoid-restrictions are traversed in the output (restriction attribute names: \"Avoid Private Roads\" \"Avoid Gates\").\n",
      "\n",
      "Location \"421027779\" in \"Facilities\" is on a soft-restricted network element.\n",
      "Network elements with avoid-restrictions are traversed in the output (restriction attribute names: \"Avoid Gates\").\n",
      "\n",
      "Location \"530610523011\" in \"Incidents\" is on a soft-restricted network element.\n",
      "Location \"421027779\" in \"Facilities\" is on a soft-restricted network element.\n",
      "Network elements with avoid-restrictions are traversed in the output (restriction attribute names: \"Avoid Private Roads\").\n",
      "\n",
      "Location \"530610535052\" in \"Incidents\" is on a soft-restricted network element.\n",
      "Location \"530610536021\" in \"Incidents\" is on a soft-restricted network element.\n",
      "Location \"421027779\" in \"Facilities\" is on a soft-restricted network element.\n",
      "Network elements with avoid-restrictions are traversed in the output (restriction attribute names: \"Avoid Private Roads\" \"Avoid Gates\").\n",
      "\n"
     ]
    },
    {
     "name": "stdout",
     "output_type": "stream",
     "text": [
      "success - 3173\n"
     ]
    },
    {
     "name": "stderr",
     "output_type": "stream",
     "text": [
      "Location \"421027779\" in \"Facilities\" is on a soft-restricted network element.\n",
      "\n",
      "Location \"530330219063\" in \"Incidents\" is on a soft-restricted network element.\n",
      "Location \"421027779\" in \"Facilities\" is on a soft-restricted network element.\n",
      "Network elements with avoid-restrictions are traversed in the output (restriction attribute names: \"Avoid Private Roads\" \"Avoid Gates\").\n",
      "\n",
      "Location \"421027779\" in \"Facilities\" is on a soft-restricted network element.\n",
      "Network elements with avoid-restrictions are traversed in the output (restriction attribute names: \"Avoid Gates\").\n",
      "\n",
      "Location \"530610523011\" in \"Incidents\" is on a soft-restricted network element.\n",
      "Location \"421027779\" in \"Facilities\" is on a soft-restricted network element.\n",
      "Network elements with avoid-restrictions are traversed in the output (restriction attribute names: \"Avoid Private Roads\").\n",
      "\n",
      "Location \"530610535052\" in \"Incidents\" is on a soft-restricted network element.\n",
      "Location \"530610536021\" in \"Incidents\" is on a soft-restricted network element.\n",
      "Location \"421027779\" in \"Facilities\" is on a soft-restricted network element.\n",
      "Network elements with avoid-restrictions are traversed in the output (restriction attribute names: \"Avoid Private Roads\" \"Avoid Gates\").\n",
      "\n"
     ]
    },
    {
     "name": "stdout",
     "output_type": "stream",
     "text": [
      "success - 3174\n"
     ]
    },
    {
     "name": "stderr",
     "output_type": "stream",
     "text": [
      "Location \"421027779\" in \"Facilities\" is on a soft-restricted network element.\n",
      "\n",
      "Location \"530330226051\" in \"Incidents\" is on a soft-restricted network element.\n",
      "Location \"530330322072\" in \"Incidents\" is on a soft-restricted network element.\n",
      "Location \"530330322082\" in \"Incidents\" is on a soft-restricted network element.\n",
      "Location \"530330322083\" in \"Incidents\" is on a soft-restricted network element.\n",
      "Location \"530330322152\" in \"Incidents\" is on a soft-restricted network element.\n",
      "Location \"530330323164\" in \"Incidents\" is on a soft-restricted network element.\n",
      "Location \"530330323171\" in \"Incidents\" is on a soft-restricted network element.\n",
      "Location \"530330323174\" in \"Incidents\" is on a soft-restricted network element.\n",
      "Location \"530330323261\" in \"Incidents\" is on a soft-restricted network element.\n",
      "Location \"530330323281\" in \"Incidents\" is on a soft-restricted network element.\n",
      "Location \"530330323291\" in \"Incidents\" is on a soft-restricted network element.\n",
      "Location \"421027779\" in \"Facilities\" is on a soft-restricted network element.\n",
      "Network elements with avoid-restrictions are traversed in the output (restriction attribute names: \"Avoid Private Roads\" \"Avoid Gates\").\n",
      "\n",
      "Location \"530610523011\" in \"Incidents\" is on a soft-restricted network element.\n",
      "Location \"421027779\" in \"Facilities\" is on a soft-restricted network element.\n",
      "Network elements with avoid-restrictions are traversed in the output (restriction attribute names: \"Avoid Private Roads\").\n",
      "\n",
      "Location \"530610535052\" in \"Incidents\" is on a soft-restricted network element.\n",
      "Location \"530610536021\" in \"Incidents\" is on a soft-restricted network element.\n",
      "Location \"421027779\" in \"Facilities\" is on a soft-restricted network element.\n",
      "Network elements with avoid-restrictions are traversed in the output (restriction attribute names: \"Avoid Private Roads\" \"Avoid Gates\").\n",
      "\n"
     ]
    },
    {
     "name": "stdout",
     "output_type": "stream",
     "text": [
      "success - 3181\n"
     ]
    },
    {
     "name": "stderr",
     "output_type": "stream",
     "text": [
      "Location \"421027779\" in \"Facilities\" is on a soft-restricted network element.\n",
      "\n",
      "Location \"530330226051\" in \"Incidents\" is on a soft-restricted network element.\n",
      "Location \"530330322072\" in \"Incidents\" is on a soft-restricted network element.\n",
      "Location \"530330322082\" in \"Incidents\" is on a soft-restricted network element.\n",
      "Location \"530330322083\" in \"Incidents\" is on a soft-restricted network element.\n",
      "Location \"530330322152\" in \"Incidents\" is on a soft-restricted network element.\n",
      "Location \"530330323164\" in \"Incidents\" is on a soft-restricted network element.\n",
      "Location \"530330323171\" in \"Incidents\" is on a soft-restricted network element.\n",
      "Location \"530330323174\" in \"Incidents\" is on a soft-restricted network element.\n",
      "Location \"530330323261\" in \"Incidents\" is on a soft-restricted network element.\n",
      "Location \"530330323281\" in \"Incidents\" is on a soft-restricted network element.\n",
      "Location \"530330323291\" in \"Incidents\" is on a soft-restricted network element.\n",
      "Location \"421027779\" in \"Facilities\" is on a soft-restricted network element.\n",
      "Network elements with avoid-restrictions are traversed in the output (restriction attribute names: \"Avoid Private Roads\" \"Avoid Gates\").\n",
      "\n",
      "Location \"530610523011\" in \"Incidents\" is on a soft-restricted network element.\n",
      "Location \"421027779\" in \"Facilities\" is on a soft-restricted network element.\n",
      "Network elements with avoid-restrictions are traversed in the output (restriction attribute names: \"Avoid Private Roads\").\n",
      "\n",
      "Location \"530610535052\" in \"Incidents\" is on a soft-restricted network element.\n",
      "Location \"530610536021\" in \"Incidents\" is on a soft-restricted network element.\n",
      "Location \"421027779\" in \"Facilities\" is on a soft-restricted network element.\n",
      "Network elements with avoid-restrictions are traversed in the output (restriction attribute names: \"Avoid Private Roads\" \"Avoid Gates\").\n",
      "\n"
     ]
    },
    {
     "name": "stdout",
     "output_type": "stream",
     "text": [
      "success - 3182\n"
     ]
    },
    {
     "name": "stderr",
     "output_type": "stream",
     "text": [
      "Location \"421027779\" in \"Facilities\" is on a soft-restricted network element.\n",
      "\n",
      "Location \"530330226051\" in \"Incidents\" is on a soft-restricted network element.\n",
      "Location \"530330322072\" in \"Incidents\" is on a soft-restricted network element.\n",
      "Location \"530330322082\" in \"Incidents\" is on a soft-restricted network element.\n",
      "Location \"530330322083\" in \"Incidents\" is on a soft-restricted network element.\n",
      "Location \"530330322152\" in \"Incidents\" is on a soft-restricted network element.\n",
      "Location \"530330323164\" in \"Incidents\" is on a soft-restricted network element.\n",
      "Location \"530330323171\" in \"Incidents\" is on a soft-restricted network element.\n",
      "Location \"530330323174\" in \"Incidents\" is on a soft-restricted network element.\n",
      "Location \"530330323261\" in \"Incidents\" is on a soft-restricted network element.\n",
      "Location \"530330323281\" in \"Incidents\" is on a soft-restricted network element.\n",
      "Location \"530330323291\" in \"Incidents\" is on a soft-restricted network element.\n",
      "Location \"421027779\" in \"Facilities\" is on a soft-restricted network element.\n",
      "Network elements with avoid-restrictions are traversed in the output (restriction attribute names: \"Avoid Private Roads\" \"Avoid Gates\").\n",
      "\n",
      "Location \"530610523011\" in \"Incidents\" is on a soft-restricted network element.\n",
      "Location \"421027779\" in \"Facilities\" is on a soft-restricted network element.\n",
      "Network elements with avoid-restrictions are traversed in the output (restriction attribute names: \"Avoid Private Roads\").\n",
      "\n",
      "Location \"530610535052\" in \"Incidents\" is on a soft-restricted network element.\n",
      "Location \"530610536021\" in \"Incidents\" is on a soft-restricted network element.\n",
      "Location \"421027779\" in \"Facilities\" is on a soft-restricted network element.\n",
      "Network elements with avoid-restrictions are traversed in the output (restriction attribute names: \"Avoid Private Roads\" \"Avoid Gates\").\n",
      "\n"
     ]
    },
    {
     "name": "stdout",
     "output_type": "stream",
     "text": [
      "success - 3183\n"
     ]
    },
    {
     "name": "stderr",
     "output_type": "stream",
     "text": [
      "Location \"421027779\" in \"Facilities\" is on a soft-restricted network element.\n",
      "\n",
      "Location \"530330226051\" in \"Incidents\" is on a soft-restricted network element.\n",
      "Location \"530330322072\" in \"Incidents\" is on a soft-restricted network element.\n",
      "Location \"530330322082\" in \"Incidents\" is on a soft-restricted network element.\n",
      "Location \"530330322083\" in \"Incidents\" is on a soft-restricted network element.\n",
      "Location \"530330322152\" in \"Incidents\" is on a soft-restricted network element.\n",
      "Location \"530330323164\" in \"Incidents\" is on a soft-restricted network element.\n",
      "Location \"530330323171\" in \"Incidents\" is on a soft-restricted network element.\n",
      "Location \"530330323174\" in \"Incidents\" is on a soft-restricted network element.\n",
      "Location \"530330323261\" in \"Incidents\" is on a soft-restricted network element.\n",
      "Location \"530330323281\" in \"Incidents\" is on a soft-restricted network element.\n",
      "Location \"530330323291\" in \"Incidents\" is on a soft-restricted network element.\n",
      "Location \"421027779\" in \"Facilities\" is on a soft-restricted network element.\n",
      "Network elements with avoid-restrictions are traversed in the output (restriction attribute names: \"Avoid Private Roads\" \"Avoid Gates\").\n",
      "\n",
      "Location \"530610523011\" in \"Incidents\" is on a soft-restricted network element.\n",
      "Location \"421027779\" in \"Facilities\" is on a soft-restricted network element.\n",
      "Network elements with avoid-restrictions are traversed in the output (restriction attribute names: \"Avoid Private Roads\").\n",
      "\n",
      "Location \"530610535052\" in \"Incidents\" is on a soft-restricted network element.\n",
      "Location \"530610536021\" in \"Incidents\" is on a soft-restricted network element.\n",
      "Location \"421027779\" in \"Facilities\" is on a soft-restricted network element.\n",
      "Network elements with avoid-restrictions are traversed in the output (restriction attribute names: \"Avoid Private Roads\" \"Avoid Gates\").\n",
      "\n"
     ]
    },
    {
     "name": "stdout",
     "output_type": "stream",
     "text": [
      "success - 3187\n"
     ]
    },
    {
     "name": "stderr",
     "output_type": "stream",
     "text": [
      "Location \"421027779\" in \"Facilities\" is on a soft-restricted network element.\n",
      "\n",
      "Location \"530330226051\" in \"Incidents\" is on a soft-restricted network element.\n",
      "Location \"530330322072\" in \"Incidents\" is on a soft-restricted network element.\n",
      "Location \"530330322082\" in \"Incidents\" is on a soft-restricted network element.\n",
      "Location \"530330322083\" in \"Incidents\" is on a soft-restricted network element.\n",
      "Location \"530330322152\" in \"Incidents\" is on a soft-restricted network element.\n",
      "Location \"530330323164\" in \"Incidents\" is on a soft-restricted network element.\n",
      "Location \"530330323171\" in \"Incidents\" is on a soft-restricted network element.\n",
      "Location \"530330323174\" in \"Incidents\" is on a soft-restricted network element.\n",
      "Location \"530330323261\" in \"Incidents\" is on a soft-restricted network element.\n",
      "Location \"530330323281\" in \"Incidents\" is on a soft-restricted network element.\n",
      "Location \"530330323291\" in \"Incidents\" is on a soft-restricted network element.\n",
      "Location \"421027779\" in \"Facilities\" is on a soft-restricted network element.\n",
      "Network elements with avoid-restrictions are traversed in the output (restriction attribute names: \"Avoid Private Roads\" \"Avoid Gates\").\n",
      "\n",
      "Location \"530610523011\" in \"Incidents\" is on a soft-restricted network element.\n",
      "Location \"421027779\" in \"Facilities\" is on a soft-restricted network element.\n",
      "Network elements with avoid-restrictions are traversed in the output (restriction attribute names: \"Avoid Private Roads\").\n",
      "\n",
      "Location \"530610535052\" in \"Incidents\" is on a soft-restricted network element.\n",
      "Location \"530610536021\" in \"Incidents\" is on a soft-restricted network element.\n",
      "Location \"421027779\" in \"Facilities\" is on a soft-restricted network element.\n",
      "Network elements with avoid-restrictions are traversed in the output (restriction attribute names: \"Avoid Private Roads\" \"Avoid Gates\").\n",
      "\n"
     ]
    },
    {
     "name": "stdout",
     "output_type": "stream",
     "text": [
      "success - 3188\n"
     ]
    },
    {
     "name": "stderr",
     "output_type": "stream",
     "text": [
      "Location \"421027779\" in \"Facilities\" is on a soft-restricted network element.\n",
      "Network elements with avoid-restrictions are traversed in the output (restriction attribute names: \"Avoid Gates\").\n",
      "\n",
      "Location \"530330209003\" in \"Incidents\" is on a soft-restricted network element.\n",
      "Location \"421027779\" in \"Facilities\" is on a soft-restricted network element.\n",
      "Network elements with avoid-restrictions are traversed in the output (restriction attribute names: \"Avoid Private Roads\" \"Avoid Gates\").\n",
      "\n",
      "Location \"421027779\" in \"Facilities\" is on a soft-restricted network element.\n",
      "Network elements with avoid-restrictions are traversed in the output (restriction attribute names: \"Avoid Gates\").\n",
      "\n",
      "Location \"530330219063\" in \"Incidents\" is on a soft-restricted network element.\n",
      "Location \"530330221024\" in \"Incidents\" is on a soft-restricted network element.\n",
      "Location \"530330226051\" in \"Incidents\" is on a soft-restricted network element.\n",
      "Location \"530330323261\" in \"Incidents\" is on a soft-restricted network element.\n",
      "Location \"421027779\" in \"Facilities\" is on a soft-restricted network element.\n",
      "Network elements with avoid-restrictions are traversed in the output (restriction attribute names: \"Avoid Private Roads\" \"Avoid Gates\").\n",
      "\n",
      "Location \"421027779\" in \"Facilities\" is on a soft-restricted network element.\n",
      "Network elements with avoid-restrictions are traversed in the output (restriction attribute names: \"Avoid Gates\").\n",
      "\n",
      "Location \"530610523011\" in \"Incidents\" is on a soft-restricted network element.\n",
      "Location \"421027779\" in \"Facilities\" is on a soft-restricted network element.\n",
      "Network elements with avoid-restrictions are traversed in the output (restriction attribute names: \"Avoid Private Roads\" \"Avoid Gates\").\n",
      "\n",
      "Location \"530610535052\" in \"Incidents\" is on a soft-restricted network element.\n",
      "Location \"530610536021\" in \"Incidents\" is on a soft-restricted network element.\n",
      "Location \"421027779\" in \"Facilities\" is on a soft-restricted network element.\n",
      "Network elements with avoid-restrictions are traversed in the output (restriction attribute names: \"Avoid Private Roads\" \"Avoid Gates\").\n",
      "\n"
     ]
    },
    {
     "name": "stdout",
     "output_type": "stream",
     "text": [
      "success - 3218\n"
     ]
    },
    {
     "name": "stderr",
     "output_type": "stream",
     "text": [
      "Location \"421027779\" in \"Facilities\" is on a soft-restricted network element.\n",
      "\n",
      "Location \"530330209003\" in \"Incidents\" is on a soft-restricted network element.\n",
      "Location \"421027779\" in \"Facilities\" is on a soft-restricted network element.\n",
      "Network elements with avoid-restrictions are traversed in the output (restriction attribute names: \"Avoid Private Roads\" \"Avoid Gates\").\n",
      "\n",
      "Location \"421027779\" in \"Facilities\" is on a soft-restricted network element.\n",
      "\n",
      "Location \"530330219063\" in \"Incidents\" is on a soft-restricted network element.\n",
      "Location \"530330221024\" in \"Incidents\" is on a soft-restricted network element.\n",
      "Location \"530330226051\" in \"Incidents\" is on a soft-restricted network element.\n",
      "Location \"530330323261\" in \"Incidents\" is on a soft-restricted network element.\n",
      "Location \"421027779\" in \"Facilities\" is on a soft-restricted network element.\n",
      "Network elements with avoid-restrictions are traversed in the output (restriction attribute names: \"Avoid Private Roads\" \"Avoid Gates\").\n",
      "\n",
      "Location \"421027779\" in \"Facilities\" is on a soft-restricted network element.\n",
      "Network elements with avoid-restrictions are traversed in the output (restriction attribute names: \"Avoid Gates\").\n",
      "\n",
      "Location \"530610523011\" in \"Incidents\" is on a soft-restricted network element.\n",
      "Location \"421027779\" in \"Facilities\" is on a soft-restricted network element.\n",
      "Network elements with avoid-restrictions are traversed in the output (restriction attribute names: \"Avoid Private Roads\").\n",
      "\n",
      "Location \"530610535052\" in \"Incidents\" is on a soft-restricted network element.\n",
      "Location \"530610536021\" in \"Incidents\" is on a soft-restricted network element.\n",
      "Location \"421027779\" in \"Facilities\" is on a soft-restricted network element.\n",
      "Network elements with avoid-restrictions are traversed in the output (restriction attribute names: \"Avoid Private Roads\" \"Avoid Gates\").\n",
      "\n"
     ]
    },
    {
     "name": "stdout",
     "output_type": "stream",
     "text": [
      "success - 3219\n"
     ]
    },
    {
     "name": "stderr",
     "output_type": "stream",
     "text": [
      "Location \"421027779\" in \"Facilities\" is on a soft-restricted network element.\n",
      "\n",
      "Location \"530330219063\" in \"Incidents\" is on a soft-restricted network element.\n",
      "Location \"421027779\" in \"Facilities\" is on a soft-restricted network element.\n",
      "Network elements with avoid-restrictions are traversed in the output (restriction attribute names: \"Avoid Private Roads\").\n",
      "\n",
      "Location \"421027779\" in \"Facilities\" is on a soft-restricted network element.\n",
      "Network elements with avoid-restrictions are traversed in the output (restriction attribute names: \"Avoid Gates\").\n",
      "\n",
      "Location \"530610523011\" in \"Incidents\" is on a soft-restricted network element.\n",
      "Location \"421027779\" in \"Facilities\" is on a soft-restricted network element.\n",
      "Network elements with avoid-restrictions are traversed in the output (restriction attribute names: \"Avoid Private Roads\").\n",
      "\n",
      "Location \"530610535052\" in \"Incidents\" is on a soft-restricted network element.\n",
      "Location \"530610536021\" in \"Incidents\" is on a soft-restricted network element.\n",
      "Location \"421027779\" in \"Facilities\" is on a soft-restricted network element.\n",
      "Network elements with avoid-restrictions are traversed in the output (restriction attribute names: \"Avoid Private Roads\").\n",
      "\n"
     ]
    },
    {
     "name": "stdout",
     "output_type": "stream",
     "text": [
      "success - 3220\n"
     ]
    },
    {
     "name": "stderr",
     "output_type": "stream",
     "text": [
      "Location \"421027779\" in \"Facilities\" is on a soft-restricted network element.\n",
      "\n",
      "Location \"530330219063\" in \"Incidents\" is on a soft-restricted network element.\n",
      "Location \"421027779\" in \"Facilities\" is on a soft-restricted network element.\n",
      "Network elements with avoid-restrictions are traversed in the output (restriction attribute names: \"Avoid Private Roads\").\n",
      "\n",
      "Location \"421027779\" in \"Facilities\" is on a soft-restricted network element.\n",
      "Network elements with avoid-restrictions are traversed in the output (restriction attribute names: \"Avoid Gates\").\n",
      "\n",
      "Location \"530610523011\" in \"Incidents\" is on a soft-restricted network element.\n",
      "Location \"421027779\" in \"Facilities\" is on a soft-restricted network element.\n",
      "Network elements with avoid-restrictions are traversed in the output (restriction attribute names: \"Avoid Private Roads\").\n",
      "\n",
      "Location \"530610535052\" in \"Incidents\" is on a soft-restricted network element.\n",
      "Location \"530610536021\" in \"Incidents\" is on a soft-restricted network element.\n",
      "Location \"421027779\" in \"Facilities\" is on a soft-restricted network element.\n",
      "Network elements with avoid-restrictions are traversed in the output (restriction attribute names: \"Avoid Private Roads\").\n",
      "\n"
     ]
    },
    {
     "name": "stdout",
     "output_type": "stream",
     "text": [
      "success - 3221\n"
     ]
    },
    {
     "name": "stderr",
     "output_type": "stream",
     "text": [
      "Location \"421027779\" in \"Facilities\" is on a soft-restricted network element.\n",
      "\n",
      "Location \"530330219063\" in \"Incidents\" is on a soft-restricted network element.\n",
      "Location \"421027779\" in \"Facilities\" is on a soft-restricted network element.\n",
      "Network elements with avoid-restrictions are traversed in the output (restriction attribute names: \"Avoid Private Roads\").\n",
      "\n",
      "Location \"421027779\" in \"Facilities\" is on a soft-restricted network element.\n",
      "Network elements with avoid-restrictions are traversed in the output (restriction attribute names: \"Avoid Gates\").\n",
      "\n",
      "Location \"530610523011\" in \"Incidents\" is on a soft-restricted network element.\n",
      "Location \"421027779\" in \"Facilities\" is on a soft-restricted network element.\n",
      "Network elements with avoid-restrictions are traversed in the output (restriction attribute names: \"Avoid Private Roads\").\n",
      "\n",
      "Location \"530610535052\" in \"Incidents\" is on a soft-restricted network element.\n",
      "Location \"530610536021\" in \"Incidents\" is on a soft-restricted network element.\n",
      "Location \"421027779\" in \"Facilities\" is on a soft-restricted network element.\n",
      "Network elements with avoid-restrictions are traversed in the output (restriction attribute names: \"Avoid Private Roads\").\n",
      "\n"
     ]
    },
    {
     "name": "stdout",
     "output_type": "stream",
     "text": [
      "success - 3222\n"
     ]
    },
    {
     "name": "stderr",
     "output_type": "stream",
     "text": [
      "Location \"421027779\" in \"Facilities\" is on a soft-restricted network element.\n",
      "\n",
      "Location \"530330219063\" in \"Incidents\" is on a soft-restricted network element.\n",
      "Location \"421027779\" in \"Facilities\" is on a soft-restricted network element.\n",
      "Network elements with avoid-restrictions are traversed in the output (restriction attribute names: \"Avoid Private Roads\").\n",
      "\n",
      "Location \"421027779\" in \"Facilities\" is on a soft-restricted network element.\n",
      "Network elements with avoid-restrictions are traversed in the output (restriction attribute names: \"Avoid Gates\").\n",
      "\n",
      "Location \"530610523011\" in \"Incidents\" is on a soft-restricted network element.\n",
      "Location \"421027779\" in \"Facilities\" is on a soft-restricted network element.\n",
      "Network elements with avoid-restrictions are traversed in the output (restriction attribute names: \"Avoid Private Roads\").\n",
      "\n",
      "Location \"530610535052\" in \"Incidents\" is on a soft-restricted network element.\n",
      "Location \"530610536021\" in \"Incidents\" is on a soft-restricted network element.\n",
      "Location \"421027779\" in \"Facilities\" is on a soft-restricted network element.\n",
      "Network elements with avoid-restrictions are traversed in the output (restriction attribute names: \"Avoid Private Roads\").\n",
      "\n"
     ]
    },
    {
     "name": "stdout",
     "output_type": "stream",
     "text": [
      "success - 3223\n"
     ]
    },
    {
     "name": "stderr",
     "output_type": "stream",
     "text": [
      "Location \"421027779\" in \"Facilities\" is on a soft-restricted network element.\n",
      "\n",
      "Location \"530330219063\" in \"Incidents\" is on a soft-restricted network element.\n",
      "Location \"421027779\" in \"Facilities\" is on a soft-restricted network element.\n",
      "Network elements with avoid-restrictions are traversed in the output (restriction attribute names: \"Avoid Private Roads\").\n",
      "\n",
      "Location \"421027779\" in \"Facilities\" is on a soft-restricted network element.\n",
      "Network elements with avoid-restrictions are traversed in the output (restriction attribute names: \"Avoid Gates\").\n",
      "\n",
      "Location \"530610523011\" in \"Incidents\" is on a soft-restricted network element.\n",
      "Location \"421027779\" in \"Facilities\" is on a soft-restricted network element.\n",
      "Network elements with avoid-restrictions are traversed in the output (restriction attribute names: \"Avoid Private Roads\").\n",
      "\n",
      "Location \"530610535052\" in \"Incidents\" is on a soft-restricted network element.\n",
      "Location \"530610536021\" in \"Incidents\" is on a soft-restricted network element.\n",
      "Location \"421027779\" in \"Facilities\" is on a soft-restricted network element.\n",
      "Network elements with avoid-restrictions are traversed in the output (restriction attribute names: \"Avoid Private Roads\").\n",
      "\n"
     ]
    },
    {
     "name": "stdout",
     "output_type": "stream",
     "text": [
      "success - 3224\n"
     ]
    },
    {
     "name": "stderr",
     "output_type": "stream",
     "text": [
      "Location \"421027779\" in \"Facilities\" is on a soft-restricted network element.\n",
      "\n",
      "Location \"530330219063\" in \"Incidents\" is on a soft-restricted network element.\n",
      "Location \"421027779\" in \"Facilities\" is on a soft-restricted network element.\n",
      "Network elements with avoid-restrictions are traversed in the output (restriction attribute names: \"Avoid Private Roads\").\n",
      "\n",
      "Location \"421027779\" in \"Facilities\" is on a soft-restricted network element.\n",
      "Network elements with avoid-restrictions are traversed in the output (restriction attribute names: \"Avoid Gates\").\n",
      "\n",
      "Location \"530610523011\" in \"Incidents\" is on a soft-restricted network element.\n",
      "Location \"421027779\" in \"Facilities\" is on a soft-restricted network element.\n",
      "Network elements with avoid-restrictions are traversed in the output (restriction attribute names: \"Avoid Private Roads\").\n",
      "\n",
      "Location \"530610535052\" in \"Incidents\" is on a soft-restricted network element.\n",
      "Location \"530610536021\" in \"Incidents\" is on a soft-restricted network element.\n",
      "Location \"421027779\" in \"Facilities\" is on a soft-restricted network element.\n",
      "Network elements with avoid-restrictions are traversed in the output (restriction attribute names: \"Avoid Private Roads\").\n",
      "\n"
     ]
    },
    {
     "name": "stdout",
     "output_type": "stream",
     "text": [
      "success - 3225\n"
     ]
    },
    {
     "name": "stderr",
     "output_type": "stream",
     "text": [
      "Location \"421027779\" in \"Facilities\" is on a soft-restricted network element.\n",
      "\n",
      "Location \"530330219063\" in \"Incidents\" is on a soft-restricted network element.\n",
      "Location \"421027779\" in \"Facilities\" is on a soft-restricted network element.\n",
      "Network elements with avoid-restrictions are traversed in the output (restriction attribute names: \"Avoid Private Roads\").\n",
      "\n",
      "Location \"421027779\" in \"Facilities\" is on a soft-restricted network element.\n",
      "Network elements with avoid-restrictions are traversed in the output (restriction attribute names: \"Avoid Gates\").\n",
      "\n",
      "Location \"530610523011\" in \"Incidents\" is on a soft-restricted network element.\n",
      "Location \"421027779\" in \"Facilities\" is on a soft-restricted network element.\n",
      "Network elements with avoid-restrictions are traversed in the output (restriction attribute names: \"Avoid Private Roads\").\n",
      "\n",
      "Location \"530610535052\" in \"Incidents\" is on a soft-restricted network element.\n",
      "Location \"530610536021\" in \"Incidents\" is on a soft-restricted network element.\n",
      "Location \"421027779\" in \"Facilities\" is on a soft-restricted network element.\n",
      "Network elements with avoid-restrictions are traversed in the output (restriction attribute names: \"Avoid Private Roads\").\n",
      "\n"
     ]
    },
    {
     "name": "stdout",
     "output_type": "stream",
     "text": [
      "success - 3226\n"
     ]
    },
    {
     "name": "stderr",
     "output_type": "stream",
     "text": [
      "Location \"421027779\" in \"Facilities\" is on a soft-restricted network element.\n",
      "\n",
      "Location \"530330219063\" in \"Incidents\" is on a soft-restricted network element.\n",
      "Location \"421027779\" in \"Facilities\" is on a soft-restricted network element.\n",
      "Network elements with avoid-restrictions are traversed in the output (restriction attribute names: \"Avoid Private Roads\").\n",
      "\n",
      "Location \"421027779\" in \"Facilities\" is on a soft-restricted network element.\n",
      "Network elements with avoid-restrictions are traversed in the output (restriction attribute names: \"Avoid Gates\").\n",
      "\n",
      "Location \"530610523011\" in \"Incidents\" is on a soft-restricted network element.\n",
      "Location \"421027779\" in \"Facilities\" is on a soft-restricted network element.\n",
      "Network elements with avoid-restrictions are traversed in the output (restriction attribute names: \"Avoid Private Roads\").\n",
      "\n",
      "Location \"530610535052\" in \"Incidents\" is on a soft-restricted network element.\n",
      "Location \"530610536021\" in \"Incidents\" is on a soft-restricted network element.\n",
      "Location \"421027779\" in \"Facilities\" is on a soft-restricted network element.\n",
      "Network elements with avoid-restrictions are traversed in the output (restriction attribute names: \"Avoid Private Roads\").\n",
      "\n"
     ]
    },
    {
     "name": "stdout",
     "output_type": "stream",
     "text": [
      "success - 3227\n"
     ]
    },
    {
     "name": "stderr",
     "output_type": "stream",
     "text": [
      "Location \"421027779\" in \"Facilities\" is on a soft-restricted network element.\n",
      "\n",
      "Location \"530330219063\" in \"Incidents\" is on a soft-restricted network element.\n",
      "Location \"421027779\" in \"Facilities\" is on a soft-restricted network element.\n",
      "Network elements with avoid-restrictions are traversed in the output (restriction attribute names: \"Avoid Private Roads\" \"Avoid Gates\").\n",
      "\n",
      "Location \"421027779\" in \"Facilities\" is on a soft-restricted network element.\n",
      "Network elements with avoid-restrictions are traversed in the output (restriction attribute names: \"Avoid Gates\").\n",
      "\n",
      "Location \"530610523011\" in \"Incidents\" is on a soft-restricted network element.\n",
      "Location \"421027779\" in \"Facilities\" is on a soft-restricted network element.\n",
      "Network elements with avoid-restrictions are traversed in the output (restriction attribute names: \"Avoid Private Roads\").\n",
      "\n",
      "Location \"530610535052\" in \"Incidents\" is on a soft-restricted network element.\n",
      "Location \"530610536021\" in \"Incidents\" is on a soft-restricted network element.\n",
      "Location \"421027779\" in \"Facilities\" is on a soft-restricted network element.\n",
      "Network elements with avoid-restrictions are traversed in the output (restriction attribute names: \"Avoid Private Roads\" \"Avoid Gates\").\n",
      "\n"
     ]
    },
    {
     "name": "stdout",
     "output_type": "stream",
     "text": [
      "success - 3228\n"
     ]
    },
    {
     "name": "stderr",
     "output_type": "stream",
     "text": [
      "Location \"421027779\" in \"Facilities\" is on a soft-restricted network element.\n",
      "\n",
      "Location \"530330219063\" in \"Incidents\" is on a soft-restricted network element.\n",
      "Location \"421027779\" in \"Facilities\" is on a soft-restricted network element.\n",
      "Network elements with avoid-restrictions are traversed in the output (restriction attribute names: \"Avoid Private Roads\" \"Avoid Gates\").\n",
      "\n",
      "Location \"421027779\" in \"Facilities\" is on a soft-restricted network element.\n",
      "Network elements with avoid-restrictions are traversed in the output (restriction attribute names: \"Avoid Gates\").\n",
      "\n",
      "Location \"530610523011\" in \"Incidents\" is on a soft-restricted network element.\n",
      "Location \"421027779\" in \"Facilities\" is on a soft-restricted network element.\n",
      "Network elements with avoid-restrictions are traversed in the output (restriction attribute names: \"Avoid Private Roads\").\n",
      "\n",
      "Location \"530610535052\" in \"Incidents\" is on a soft-restricted network element.\n",
      "Location \"530610536021\" in \"Incidents\" is on a soft-restricted network element.\n",
      "Location \"421027779\" in \"Facilities\" is on a soft-restricted network element.\n",
      "Network elements with avoid-restrictions are traversed in the output (restriction attribute names: \"Avoid Private Roads\" \"Avoid Gates\").\n",
      "\n"
     ]
    },
    {
     "name": "stdout",
     "output_type": "stream",
     "text": [
      "success - 3229\n"
     ]
    },
    {
     "name": "stderr",
     "output_type": "stream",
     "text": [
      "Location \"421027779\" in \"Facilities\" is on a soft-restricted network element.\n",
      "\n",
      "Location \"421027779\" in \"Facilities\" is on a soft-restricted network element.\n",
      "Network elements with avoid-restrictions are traversed in the output (restriction attribute names: \"Avoid Gates\").\n",
      "\n",
      "Location \"530610523011\" in \"Incidents\" is on a soft-restricted network element.\n",
      "Location \"421027779\" in \"Facilities\" is on a soft-restricted network element.\n",
      "Network elements with avoid-restrictions are traversed in the output (restriction attribute names: \"Avoid Private Roads\" \"Avoid Gates\").\n",
      "\n",
      "Location \"530610535052\" in \"Incidents\" is on a soft-restricted network element.\n",
      "Location \"530610536021\" in \"Incidents\" is on a soft-restricted network element.\n",
      "Location \"421027779\" in \"Facilities\" is on a soft-restricted network element.\n",
      "Network elements with avoid-restrictions are traversed in the output (restriction attribute names: \"Avoid Private Roads\" \"Avoid Gates\").\n",
      "\n",
      "Location \"421027779\" in \"Facilities\" is on a soft-restricted network element.\n",
      "\n"
     ]
    },
    {
     "name": "stdout",
     "output_type": "stream",
     "text": [
      "success - 3230\n"
     ]
    },
    {
     "name": "stderr",
     "output_type": "stream",
     "text": [
      "Location \"421027779\" in \"Facilities\" is on a soft-restricted network element.\n",
      "\n",
      "Location \"530330219063\" in \"Incidents\" is on a soft-restricted network element.\n",
      "Location \"421027779\" in \"Facilities\" is on a soft-restricted network element.\n",
      "Network elements with avoid-restrictions are traversed in the output (restriction attribute names: \"Avoid Private Roads\" \"Avoid Gates\").\n",
      "\n",
      "Location \"421027779\" in \"Facilities\" is on a soft-restricted network element.\n",
      "Network elements with avoid-restrictions are traversed in the output (restriction attribute names: \"Avoid Gates\").\n",
      "\n",
      "Location \"530610523011\" in \"Incidents\" is on a soft-restricted network element.\n",
      "Location \"421027779\" in \"Facilities\" is on a soft-restricted network element.\n",
      "Network elements with avoid-restrictions are traversed in the output (restriction attribute names: \"Avoid Private Roads\").\n",
      "\n",
      "Location \"530610535052\" in \"Incidents\" is on a soft-restricted network element.\n",
      "Location \"530610536021\" in \"Incidents\" is on a soft-restricted network element.\n",
      "Location \"421027779\" in \"Facilities\" is on a soft-restricted network element.\n",
      "Network elements with avoid-restrictions are traversed in the output (restriction attribute names: \"Avoid Private Roads\" \"Avoid Gates\").\n",
      "\n"
     ]
    },
    {
     "name": "stdout",
     "output_type": "stream",
     "text": [
      "success - 3231\n"
     ]
    },
    {
     "name": "stderr",
     "output_type": "stream",
     "text": [
      "Location \"421027779\" in \"Facilities\" is on a soft-restricted network element.\n",
      "\n",
      "Location \"421027779\" in \"Facilities\" is on a soft-restricted network element.\n",
      "Network elements with avoid-restrictions are traversed in the output (restriction attribute names: \"Avoid Gates\").\n",
      "\n",
      "Location \"530610523011\" in \"Incidents\" is on a soft-restricted network element.\n",
      "Location \"421027779\" in \"Facilities\" is on a soft-restricted network element.\n",
      "Network elements with avoid-restrictions are traversed in the output (restriction attribute names: \"Avoid Private Roads\" \"Avoid Gates\").\n",
      "\n",
      "Location \"530610535052\" in \"Incidents\" is on a soft-restricted network element.\n",
      "Location \"530610536021\" in \"Incidents\" is on a soft-restricted network element.\n",
      "Location \"421027779\" in \"Facilities\" is on a soft-restricted network element.\n",
      "Network elements with avoid-restrictions are traversed in the output (restriction attribute names: \"Avoid Private Roads\" \"Avoid Gates\").\n",
      "\n",
      "Location \"421027779\" in \"Facilities\" is on a soft-restricted network element.\n",
      "\n"
     ]
    },
    {
     "name": "stdout",
     "output_type": "stream",
     "text": [
      "success - 3232\n"
     ]
    },
    {
     "name": "stderr",
     "output_type": "stream",
     "text": [
      "Location \"421027779\" in \"Facilities\" is on a soft-restricted network element.\n",
      "\n",
      "Location \"530330219063\" in \"Incidents\" is on a soft-restricted network element.\n",
      "Location \"421027779\" in \"Facilities\" is on a soft-restricted network element.\n",
      "Network elements with avoid-restrictions are traversed in the output (restriction attribute names: \"Avoid Private Roads\" \"Avoid Gates\").\n",
      "\n",
      "Location \"421027779\" in \"Facilities\" is on a soft-restricted network element.\n",
      "Network elements with avoid-restrictions are traversed in the output (restriction attribute names: \"Avoid Gates\").\n",
      "\n",
      "Location \"530610523011\" in \"Incidents\" is on a soft-restricted network element.\n",
      "Location \"421027779\" in \"Facilities\" is on a soft-restricted network element.\n",
      "Network elements with avoid-restrictions are traversed in the output (restriction attribute names: \"Avoid Private Roads\").\n",
      "\n",
      "Location \"530610535052\" in \"Incidents\" is on a soft-restricted network element.\n",
      "Location \"530610536021\" in \"Incidents\" is on a soft-restricted network element.\n",
      "Location \"421027779\" in \"Facilities\" is on a soft-restricted network element.\n",
      "Network elements with avoid-restrictions are traversed in the output (restriction attribute names: \"Avoid Private Roads\" \"Avoid Gates\").\n",
      "\n"
     ]
    },
    {
     "name": "stdout",
     "output_type": "stream",
     "text": [
      "success - 3233\n"
     ]
    },
    {
     "name": "stderr",
     "output_type": "stream",
     "text": [
      "Location \"421027779\" in \"Facilities\" is on a soft-restricted network element.\n",
      "\n",
      "Location \"530330219063\" in \"Incidents\" is on a soft-restricted network element.\n",
      "Location \"421027779\" in \"Facilities\" is on a soft-restricted network element.\n",
      "Network elements with avoid-restrictions are traversed in the output (restriction attribute names: \"Avoid Private Roads\" \"Avoid Gates\").\n",
      "\n",
      "Location \"421027779\" in \"Facilities\" is on a soft-restricted network element.\n",
      "Network elements with avoid-restrictions are traversed in the output (restriction attribute names: \"Avoid Gates\").\n",
      "\n",
      "Location \"530610523011\" in \"Incidents\" is on a soft-restricted network element.\n",
      "Location \"421027779\" in \"Facilities\" is on a soft-restricted network element.\n",
      "Network elements with avoid-restrictions are traversed in the output (restriction attribute names: \"Avoid Private Roads\").\n",
      "\n",
      "Location \"530610535052\" in \"Incidents\" is on a soft-restricted network element.\n",
      "Location \"530610536021\" in \"Incidents\" is on a soft-restricted network element.\n",
      "Location \"421027779\" in \"Facilities\" is on a soft-restricted network element.\n",
      "Network elements with avoid-restrictions are traversed in the output (restriction attribute names: \"Avoid Private Roads\" \"Avoid Gates\").\n",
      "\n"
     ]
    },
    {
     "name": "stdout",
     "output_type": "stream",
     "text": [
      "success - 3234\n"
     ]
    },
    {
     "name": "stderr",
     "output_type": "stream",
     "text": [
      "Location \"421027779\" in \"Facilities\" is on a soft-restricted network element.\n",
      "\n",
      "Location \"530330219063\" in \"Incidents\" is on a soft-restricted network element.\n",
      "Location \"421027779\" in \"Facilities\" is on a soft-restricted network element.\n",
      "Network elements with avoid-restrictions are traversed in the output (restriction attribute names: \"Avoid Private Roads\" \"Avoid Gates\").\n",
      "\n",
      "Location \"421027779\" in \"Facilities\" is on a soft-restricted network element.\n",
      "Network elements with avoid-restrictions are traversed in the output (restriction attribute names: \"Avoid Gates\").\n",
      "\n",
      "Location \"530610523011\" in \"Incidents\" is on a soft-restricted network element.\n",
      "Location \"421027779\" in \"Facilities\" is on a soft-restricted network element.\n",
      "Network elements with avoid-restrictions are traversed in the output (restriction attribute names: \"Avoid Private Roads\").\n",
      "\n",
      "Location \"530610535052\" in \"Incidents\" is on a soft-restricted network element.\n",
      "Location \"530610536021\" in \"Incidents\" is on a soft-restricted network element.\n",
      "Location \"421027779\" in \"Facilities\" is on a soft-restricted network element.\n",
      "Network elements with avoid-restrictions are traversed in the output (restriction attribute names: \"Avoid Private Roads\" \"Avoid Gates\").\n",
      "\n"
     ]
    },
    {
     "name": "stdout",
     "output_type": "stream",
     "text": [
      "success - 3235\n"
     ]
    },
    {
     "name": "stderr",
     "output_type": "stream",
     "text": [
      "Location \"421027779\" in \"Facilities\" is on a soft-restricted network element.\n",
      "\n",
      "Location \"530330219063\" in \"Incidents\" is on a soft-restricted network element.\n",
      "Location \"421027779\" in \"Facilities\" is on a soft-restricted network element.\n",
      "Network elements with avoid-restrictions are traversed in the output (restriction attribute names: \"Avoid Private Roads\" \"Avoid Gates\").\n",
      "\n",
      "Location \"421027779\" in \"Facilities\" is on a soft-restricted network element.\n",
      "Network elements with avoid-restrictions are traversed in the output (restriction attribute names: \"Avoid Gates\").\n",
      "\n",
      "Location \"530610523011\" in \"Incidents\" is on a soft-restricted network element.\n",
      "Location \"421027779\" in \"Facilities\" is on a soft-restricted network element.\n",
      "Network elements with avoid-restrictions are traversed in the output (restriction attribute names: \"Avoid Private Roads\").\n",
      "\n",
      "Location \"530610535052\" in \"Incidents\" is on a soft-restricted network element.\n",
      "Location \"530610536021\" in \"Incidents\" is on a soft-restricted network element.\n",
      "Location \"421027779\" in \"Facilities\" is on a soft-restricted network element.\n",
      "Network elements with avoid-restrictions are traversed in the output (restriction attribute names: \"Avoid Private Roads\" \"Avoid Gates\").\n",
      "\n"
     ]
    },
    {
     "name": "stdout",
     "output_type": "stream",
     "text": [
      "success - 3237\n"
     ]
    },
    {
     "name": "stderr",
     "output_type": "stream",
     "text": [
      "Location \"421027779\" in \"Facilities\" is on a soft-restricted network element.\n",
      "\n",
      "Location \"530330219063\" in \"Incidents\" is on a soft-restricted network element.\n",
      "Location \"421027779\" in \"Facilities\" is on a soft-restricted network element.\n",
      "Network elements with avoid-restrictions are traversed in the output (restriction attribute names: \"Avoid Private Roads\" \"Avoid Gates\").\n",
      "\n",
      "Location \"421027779\" in \"Facilities\" is on a soft-restricted network element.\n",
      "Network elements with avoid-restrictions are traversed in the output (restriction attribute names: \"Avoid Gates\").\n",
      "\n",
      "Location \"530610523011\" in \"Incidents\" is on a soft-restricted network element.\n",
      "Location \"421027779\" in \"Facilities\" is on a soft-restricted network element.\n",
      "Network elements with avoid-restrictions are traversed in the output (restriction attribute names: \"Avoid Private Roads\").\n",
      "\n",
      "Location \"530610535052\" in \"Incidents\" is on a soft-restricted network element.\n",
      "Location \"530610536021\" in \"Incidents\" is on a soft-restricted network element.\n",
      "Location \"421027779\" in \"Facilities\" is on a soft-restricted network element.\n",
      "Network elements with avoid-restrictions are traversed in the output (restriction attribute names: \"Avoid Private Roads\" \"Avoid Gates\").\n",
      "\n"
     ]
    },
    {
     "name": "stdout",
     "output_type": "stream",
     "text": [
      "success - 3238\n"
     ]
    },
    {
     "name": "stderr",
     "output_type": "stream",
     "text": [
      "Location \"421027779\" in \"Facilities\" is on a soft-restricted network element.\n",
      "\n",
      "Location \"530330219063\" in \"Incidents\" is on a soft-restricted network element.\n",
      "Location \"421027779\" in \"Facilities\" is on a soft-restricted network element.\n",
      "Network elements with avoid-restrictions are traversed in the output (restriction attribute names: \"Avoid Private Roads\" \"Avoid Gates\").\n",
      "\n",
      "Location \"421027779\" in \"Facilities\" is on a soft-restricted network element.\n",
      "Network elements with avoid-restrictions are traversed in the output (restriction attribute names: \"Avoid Gates\").\n",
      "\n",
      "Location \"530610523011\" in \"Incidents\" is on a soft-restricted network element.\n",
      "Location \"421027779\" in \"Facilities\" is on a soft-restricted network element.\n",
      "Network elements with avoid-restrictions are traversed in the output (restriction attribute names: \"Avoid Private Roads\").\n",
      "\n",
      "Location \"530610535052\" in \"Incidents\" is on a soft-restricted network element.\n",
      "Location \"530610536021\" in \"Incidents\" is on a soft-restricted network element.\n",
      "Location \"421027779\" in \"Facilities\" is on a soft-restricted network element.\n",
      "Network elements with avoid-restrictions are traversed in the output (restriction attribute names: \"Avoid Private Roads\" \"Avoid Gates\").\n",
      "\n"
     ]
    },
    {
     "name": "stdout",
     "output_type": "stream",
     "text": [
      "success - 3240\n"
     ]
    },
    {
     "name": "stderr",
     "output_type": "stream",
     "text": [
      "Location \"421027779\" in \"Facilities\" is on a soft-restricted network element.\n",
      "\n",
      "Location \"530330219063\" in \"Incidents\" is on a soft-restricted network element.\n",
      "Location \"421027779\" in \"Facilities\" is on a soft-restricted network element.\n",
      "Network elements with avoid-restrictions are traversed in the output (restriction attribute names: \"Avoid Private Roads\" \"Avoid Gates\").\n",
      "\n",
      "Location \"421027779\" in \"Facilities\" is on a soft-restricted network element.\n",
      "Network elements with avoid-restrictions are traversed in the output (restriction attribute names: \"Avoid Gates\").\n",
      "\n",
      "Location \"530610523011\" in \"Incidents\" is on a soft-restricted network element.\n",
      "Location \"421027779\" in \"Facilities\" is on a soft-restricted network element.\n",
      "Network elements with avoid-restrictions are traversed in the output (restriction attribute names: \"Avoid Private Roads\").\n",
      "\n",
      "Location \"530610535052\" in \"Incidents\" is on a soft-restricted network element.\n",
      "Location \"530610536021\" in \"Incidents\" is on a soft-restricted network element.\n",
      "Location \"421027779\" in \"Facilities\" is on a soft-restricted network element.\n",
      "Network elements with avoid-restrictions are traversed in the output (restriction attribute names: \"Avoid Private Roads\" \"Avoid Gates\").\n",
      "\n"
     ]
    },
    {
     "name": "stdout",
     "output_type": "stream",
     "text": [
      "success - 3241\n"
     ]
    },
    {
     "name": "stderr",
     "output_type": "stream",
     "text": [
      "Location \"421027779\" in \"Facilities\" is on a soft-restricted network element.\n",
      "\n",
      "Location \"530330226051\" in \"Incidents\" is on a soft-restricted network element.\n",
      "Location \"530330322072\" in \"Incidents\" is on a soft-restricted network element.\n",
      "Location \"530330322082\" in \"Incidents\" is on a soft-restricted network element.\n",
      "Location \"530330322083\" in \"Incidents\" is on a soft-restricted network element.\n",
      "Location \"530330322152\" in \"Incidents\" is on a soft-restricted network element.\n",
      "Location \"530330323164\" in \"Incidents\" is on a soft-restricted network element.\n",
      "Location \"530330323171\" in \"Incidents\" is on a soft-restricted network element.\n",
      "Location \"530330323174\" in \"Incidents\" is on a soft-restricted network element.\n",
      "Location \"530330323261\" in \"Incidents\" is on a soft-restricted network element.\n",
      "Location \"530330323281\" in \"Incidents\" is on a soft-restricted network element.\n",
      "Location \"530330323291\" in \"Incidents\" is on a soft-restricted network element.\n",
      "Location \"421027779\" in \"Facilities\" is on a soft-restricted network element.\n",
      "Network elements with avoid-restrictions are traversed in the output (restriction attribute names: \"Avoid Private Roads\" \"Avoid Gates\").\n",
      "\n",
      "Location \"530610523011\" in \"Incidents\" is on a soft-restricted network element.\n",
      "Location \"421027779\" in \"Facilities\" is on a soft-restricted network element.\n",
      "Network elements with avoid-restrictions are traversed in the output (restriction attribute names: \"Avoid Private Roads\").\n",
      "\n",
      "Location \"530610535052\" in \"Incidents\" is on a soft-restricted network element.\n",
      "Location \"530610536021\" in \"Incidents\" is on a soft-restricted network element.\n",
      "Location \"421027779\" in \"Facilities\" is on a soft-restricted network element.\n",
      "Network elements with avoid-restrictions are traversed in the output (restriction attribute names: \"Avoid Private Roads\" \"Avoid Gates\").\n",
      "\n"
     ]
    },
    {
     "name": "stdout",
     "output_type": "stream",
     "text": [
      "success - 3246\n"
     ]
    },
    {
     "name": "stderr",
     "output_type": "stream",
     "text": [
      "Location \"421027779\" in \"Facilities\" is on a soft-restricted network element.\n",
      "\n",
      "Location \"530330226051\" in \"Incidents\" is on a soft-restricted network element.\n",
      "Location \"530330322072\" in \"Incidents\" is on a soft-restricted network element.\n",
      "Location \"530330322082\" in \"Incidents\" is on a soft-restricted network element.\n",
      "Location \"530330322083\" in \"Incidents\" is on a soft-restricted network element.\n",
      "Location \"530330322152\" in \"Incidents\" is on a soft-restricted network element.\n",
      "Location \"530330323164\" in \"Incidents\" is on a soft-restricted network element.\n",
      "Location \"530330323171\" in \"Incidents\" is on a soft-restricted network element.\n",
      "Location \"530330323174\" in \"Incidents\" is on a soft-restricted network element.\n",
      "Location \"530330323261\" in \"Incidents\" is on a soft-restricted network element.\n",
      "Location \"530330323281\" in \"Incidents\" is on a soft-restricted network element.\n",
      "Location \"530330323291\" in \"Incidents\" is on a soft-restricted network element.\n",
      "Location \"421027779\" in \"Facilities\" is on a soft-restricted network element.\n",
      "Network elements with avoid-restrictions are traversed in the output (restriction attribute names: \"Avoid Private Roads\" \"Avoid Gates\").\n",
      "\n",
      "Location \"530610523011\" in \"Incidents\" is on a soft-restricted network element.\n",
      "Location \"421027779\" in \"Facilities\" is on a soft-restricted network element.\n",
      "Network elements with avoid-restrictions are traversed in the output (restriction attribute names: \"Avoid Private Roads\").\n",
      "\n",
      "Location \"530610535052\" in \"Incidents\" is on a soft-restricted network element.\n",
      "Location \"530610536021\" in \"Incidents\" is on a soft-restricted network element.\n",
      "Location \"421027779\" in \"Facilities\" is on a soft-restricted network element.\n",
      "Network elements with avoid-restrictions are traversed in the output (restriction attribute names: \"Avoid Private Roads\" \"Avoid Gates\").\n",
      "\n"
     ]
    },
    {
     "name": "stdout",
     "output_type": "stream",
     "text": [
      "success - 3247\n"
     ]
    },
    {
     "name": "stderr",
     "output_type": "stream",
     "text": [
      "Location \"421027779\" in \"Facilities\" is on a soft-restricted network element.\n",
      "\n",
      "Location \"530330226051\" in \"Incidents\" is on a soft-restricted network element.\n",
      "Location \"530330322072\" in \"Incidents\" is on a soft-restricted network element.\n",
      "Location \"530330322082\" in \"Incidents\" is on a soft-restricted network element.\n",
      "Location \"530330322083\" in \"Incidents\" is on a soft-restricted network element.\n",
      "Location \"530330322152\" in \"Incidents\" is on a soft-restricted network element.\n",
      "Location \"530330323164\" in \"Incidents\" is on a soft-restricted network element.\n",
      "Location \"530330323171\" in \"Incidents\" is on a soft-restricted network element.\n",
      "Location \"530330323174\" in \"Incidents\" is on a soft-restricted network element.\n",
      "Location \"530330323261\" in \"Incidents\" is on a soft-restricted network element.\n",
      "Location \"530330323281\" in \"Incidents\" is on a soft-restricted network element.\n",
      "Location \"530330323291\" in \"Incidents\" is on a soft-restricted network element.\n",
      "Location \"421027779\" in \"Facilities\" is on a soft-restricted network element.\n",
      "Network elements with avoid-restrictions are traversed in the output (restriction attribute names: \"Avoid Private Roads\" \"Avoid Gates\").\n",
      "\n",
      "Location \"530610523011\" in \"Incidents\" is on a soft-restricted network element.\n",
      "Location \"421027779\" in \"Facilities\" is on a soft-restricted network element.\n",
      "Network elements with avoid-restrictions are traversed in the output (restriction attribute names: \"Avoid Private Roads\").\n",
      "\n",
      "Location \"530610535052\" in \"Incidents\" is on a soft-restricted network element.\n",
      "Location \"530610536021\" in \"Incidents\" is on a soft-restricted network element.\n",
      "Location \"421027779\" in \"Facilities\" is on a soft-restricted network element.\n",
      "Network elements with avoid-restrictions are traversed in the output (restriction attribute names: \"Avoid Private Roads\" \"Avoid Gates\").\n",
      "\n"
     ]
    },
    {
     "name": "stdout",
     "output_type": "stream",
     "text": [
      "success - 3251\n"
     ]
    },
    {
     "name": "stderr",
     "output_type": "stream",
     "text": [
      "Location \"421027779\" in \"Facilities\" is on a soft-restricted network element.\n",
      "\n",
      "Location \"530330226051\" in \"Incidents\" is on a soft-restricted network element.\n",
      "Location \"530330322072\" in \"Incidents\" is on a soft-restricted network element.\n",
      "Location \"530330322082\" in \"Incidents\" is on a soft-restricted network element.\n",
      "Location \"530330322083\" in \"Incidents\" is on a soft-restricted network element.\n",
      "Location \"530330322152\" in \"Incidents\" is on a soft-restricted network element.\n",
      "Location \"530330323164\" in \"Incidents\" is on a soft-restricted network element.\n",
      "Location \"530330323171\" in \"Incidents\" is on a soft-restricted network element.\n",
      "Location \"530330323174\" in \"Incidents\" is on a soft-restricted network element.\n",
      "Location \"530330323261\" in \"Incidents\" is on a soft-restricted network element.\n",
      "Location \"530330323281\" in \"Incidents\" is on a soft-restricted network element.\n",
      "Location \"530330323291\" in \"Incidents\" is on a soft-restricted network element.\n",
      "Location \"421027779\" in \"Facilities\" is on a soft-restricted network element.\n",
      "Network elements with avoid-restrictions are traversed in the output (restriction attribute names: \"Avoid Private Roads\" \"Avoid Gates\").\n",
      "\n",
      "Location \"530610523011\" in \"Incidents\" is on a soft-restricted network element.\n",
      "Location \"421027779\" in \"Facilities\" is on a soft-restricted network element.\n",
      "Network elements with avoid-restrictions are traversed in the output (restriction attribute names: \"Avoid Private Roads\").\n",
      "\n",
      "Location \"530610535052\" in \"Incidents\" is on a soft-restricted network element.\n",
      "Location \"530610536021\" in \"Incidents\" is on a soft-restricted network element.\n",
      "Location \"421027779\" in \"Facilities\" is on a soft-restricted network element.\n",
      "Network elements with avoid-restrictions are traversed in the output (restriction attribute names: \"Avoid Private Roads\" \"Avoid Gates\").\n",
      "\n"
     ]
    },
    {
     "name": "stdout",
     "output_type": "stream",
     "text": [
      "success - 3253\n"
     ]
    },
    {
     "name": "stderr",
     "output_type": "stream",
     "text": [
      "Location \"421027779\" in \"Facilities\" is on a soft-restricted network element.\n",
      "\n",
      "Location \"530330219063\" in \"Incidents\" is on a soft-restricted network element.\n",
      "Location \"421027779\" in \"Facilities\" is on a soft-restricted network element.\n",
      "Network elements with avoid-restrictions are traversed in the output (restriction attribute names: \"Avoid Private Roads\").\n",
      "\n",
      "Location \"421027779\" in \"Facilities\" is on a soft-restricted network element.\n",
      "Network elements with avoid-restrictions are traversed in the output (restriction attribute names: \"Avoid Gates\").\n",
      "\n",
      "Location \"530610523011\" in \"Incidents\" is on a soft-restricted network element.\n",
      "Location \"421027779\" in \"Facilities\" is on a soft-restricted network element.\n",
      "Network elements with avoid-restrictions are traversed in the output (restriction attribute names: \"Avoid Private Roads\").\n",
      "\n",
      "Location \"530610535052\" in \"Incidents\" is on a soft-restricted network element.\n",
      "Location \"530610536021\" in \"Incidents\" is on a soft-restricted network element.\n",
      "Location \"421027779\" in \"Facilities\" is on a soft-restricted network element.\n",
      "Network elements with avoid-restrictions are traversed in the output (restriction attribute names: \"Avoid Private Roads\").\n",
      "\n"
     ]
    },
    {
     "name": "stdout",
     "output_type": "stream",
     "text": [
      "success - 3283\n"
     ]
    },
    {
     "name": "stderr",
     "output_type": "stream",
     "text": [
      "Location \"421027779\" in \"Facilities\" is on a soft-restricted network element.\n",
      "\n",
      "Location \"530330219063\" in \"Incidents\" is on a soft-restricted network element.\n",
      "Location \"421027779\" in \"Facilities\" is on a soft-restricted network element.\n",
      "Network elements with avoid-restrictions are traversed in the output (restriction attribute names: \"Avoid Private Roads\").\n",
      "\n",
      "Location \"421027779\" in \"Facilities\" is on a soft-restricted network element.\n",
      "Network elements with avoid-restrictions are traversed in the output (restriction attribute names: \"Avoid Gates\").\n",
      "\n",
      "Location \"530610523011\" in \"Incidents\" is on a soft-restricted network element.\n",
      "Location \"421027779\" in \"Facilities\" is on a soft-restricted network element.\n",
      "Network elements with avoid-restrictions are traversed in the output (restriction attribute names: \"Avoid Private Roads\").\n",
      "\n",
      "Location \"530610535052\" in \"Incidents\" is on a soft-restricted network element.\n",
      "Location \"530610536021\" in \"Incidents\" is on a soft-restricted network element.\n",
      "Location \"421027779\" in \"Facilities\" is on a soft-restricted network element.\n",
      "Network elements with avoid-restrictions are traversed in the output (restriction attribute names: \"Avoid Private Roads\").\n",
      "\n"
     ]
    },
    {
     "name": "stdout",
     "output_type": "stream",
     "text": [
      "success - 3284\n"
     ]
    },
    {
     "name": "stderr",
     "output_type": "stream",
     "text": [
      "Location \"421027779\" in \"Facilities\" is on a soft-restricted network element.\n",
      "\n",
      "Location \"530330219063\" in \"Incidents\" is on a soft-restricted network element.\n",
      "Location \"421027779\" in \"Facilities\" is on a soft-restricted network element.\n",
      "Network elements with avoid-restrictions are traversed in the output (restriction attribute names: \"Avoid Private Roads\").\n",
      "\n",
      "Location \"421027779\" in \"Facilities\" is on a soft-restricted network element.\n",
      "Network elements with avoid-restrictions are traversed in the output (restriction attribute names: \"Avoid Gates\").\n",
      "\n",
      "Location \"530610523011\" in \"Incidents\" is on a soft-restricted network element.\n",
      "Location \"421027779\" in \"Facilities\" is on a soft-restricted network element.\n",
      "Network elements with avoid-restrictions are traversed in the output (restriction attribute names: \"Avoid Private Roads\").\n",
      "\n",
      "Location \"530610535052\" in \"Incidents\" is on a soft-restricted network element.\n",
      "Location \"530610536021\" in \"Incidents\" is on a soft-restricted network element.\n",
      "Location \"421027779\" in \"Facilities\" is on a soft-restricted network element.\n",
      "Network elements with avoid-restrictions are traversed in the output (restriction attribute names: \"Avoid Private Roads\").\n",
      "\n"
     ]
    },
    {
     "name": "stdout",
     "output_type": "stream",
     "text": [
      "success - 3285\n"
     ]
    },
    {
     "name": "stderr",
     "output_type": "stream",
     "text": [
      "Location \"421027779\" in \"Facilities\" is on a soft-restricted network element.\n",
      "\n",
      "Location \"530330219063\" in \"Incidents\" is on a soft-restricted network element.\n",
      "Location \"421027779\" in \"Facilities\" is on a soft-restricted network element.\n",
      "Network elements with avoid-restrictions are traversed in the output (restriction attribute names: \"Avoid Private Roads\").\n",
      "\n",
      "Location \"421027779\" in \"Facilities\" is on a soft-restricted network element.\n",
      "Network elements with avoid-restrictions are traversed in the output (restriction attribute names: \"Avoid Gates\").\n",
      "\n",
      "Location \"530610523011\" in \"Incidents\" is on a soft-restricted network element.\n",
      "Location \"421027779\" in \"Facilities\" is on a soft-restricted network element.\n",
      "Network elements with avoid-restrictions are traversed in the output (restriction attribute names: \"Avoid Private Roads\").\n",
      "\n",
      "Location \"530610535052\" in \"Incidents\" is on a soft-restricted network element.\n",
      "Location \"530610536021\" in \"Incidents\" is on a soft-restricted network element.\n",
      "Location \"421027779\" in \"Facilities\" is on a soft-restricted network element.\n",
      "Network elements with avoid-restrictions are traversed in the output (restriction attribute names: \"Avoid Private Roads\").\n",
      "\n"
     ]
    },
    {
     "name": "stdout",
     "output_type": "stream",
     "text": [
      "success - 3286\n"
     ]
    },
    {
     "name": "stderr",
     "output_type": "stream",
     "text": [
      "Location \"421027779\" in \"Facilities\" is on a soft-restricted network element.\n",
      "\n",
      "Location \"530330219063\" in \"Incidents\" is on a soft-restricted network element.\n",
      "Location \"421027779\" in \"Facilities\" is on a soft-restricted network element.\n",
      "Network elements with avoid-restrictions are traversed in the output (restriction attribute names: \"Avoid Private Roads\").\n",
      "\n",
      "Location \"421027779\" in \"Facilities\" is on a soft-restricted network element.\n",
      "Network elements with avoid-restrictions are traversed in the output (restriction attribute names: \"Avoid Gates\").\n",
      "\n",
      "Location \"530610523011\" in \"Incidents\" is on a soft-restricted network element.\n",
      "Location \"421027779\" in \"Facilities\" is on a soft-restricted network element.\n",
      "Network elements with avoid-restrictions are traversed in the output (restriction attribute names: \"Avoid Private Roads\").\n",
      "\n",
      "Location \"530610535052\" in \"Incidents\" is on a soft-restricted network element.\n",
      "Location \"530610536021\" in \"Incidents\" is on a soft-restricted network element.\n",
      "Location \"421027779\" in \"Facilities\" is on a soft-restricted network element.\n",
      "Network elements with avoid-restrictions are traversed in the output (restriction attribute names: \"Avoid Private Roads\").\n",
      "\n"
     ]
    },
    {
     "name": "stdout",
     "output_type": "stream",
     "text": [
      "success - 3287\n"
     ]
    },
    {
     "name": "stderr",
     "output_type": "stream",
     "text": [
      "Location \"421027779\" in \"Facilities\" is on a soft-restricted network element.\n",
      "\n",
      "Location \"530330219063\" in \"Incidents\" is on a soft-restricted network element.\n",
      "Location \"421027779\" in \"Facilities\" is on a soft-restricted network element.\n",
      "Network elements with avoid-restrictions are traversed in the output (restriction attribute names: \"Avoid Private Roads\").\n",
      "\n",
      "Location \"421027779\" in \"Facilities\" is on a soft-restricted network element.\n",
      "Network elements with avoid-restrictions are traversed in the output (restriction attribute names: \"Avoid Gates\").\n",
      "\n",
      "Location \"530610523011\" in \"Incidents\" is on a soft-restricted network element.\n",
      "Location \"421027779\" in \"Facilities\" is on a soft-restricted network element.\n",
      "Network elements with avoid-restrictions are traversed in the output (restriction attribute names: \"Avoid Private Roads\").\n",
      "\n",
      "Location \"530610535052\" in \"Incidents\" is on a soft-restricted network element.\n",
      "Location \"530610536021\" in \"Incidents\" is on a soft-restricted network element.\n",
      "Location \"421027779\" in \"Facilities\" is on a soft-restricted network element.\n",
      "Network elements with avoid-restrictions are traversed in the output (restriction attribute names: \"Avoid Private Roads\").\n",
      "\n"
     ]
    },
    {
     "name": "stdout",
     "output_type": "stream",
     "text": [
      "success - 3288\n"
     ]
    },
    {
     "name": "stderr",
     "output_type": "stream",
     "text": [
      "Location \"421027779\" in \"Facilities\" is on a soft-restricted network element.\n",
      "\n",
      "Location \"530330219063\" in \"Incidents\" is on a soft-restricted network element.\n",
      "Location \"421027779\" in \"Facilities\" is on a soft-restricted network element.\n",
      "Network elements with avoid-restrictions are traversed in the output (restriction attribute names: \"Avoid Private Roads\").\n",
      "\n",
      "Location \"421027779\" in \"Facilities\" is on a soft-restricted network element.\n",
      "Network elements with avoid-restrictions are traversed in the output (restriction attribute names: \"Avoid Gates\").\n",
      "\n",
      "Location \"530610523011\" in \"Incidents\" is on a soft-restricted network element.\n",
      "Location \"421027779\" in \"Facilities\" is on a soft-restricted network element.\n",
      "Network elements with avoid-restrictions are traversed in the output (restriction attribute names: \"Avoid Private Roads\").\n",
      "\n",
      "Location \"530610535052\" in \"Incidents\" is on a soft-restricted network element.\n",
      "Location \"530610536021\" in \"Incidents\" is on a soft-restricted network element.\n",
      "Location \"421027779\" in \"Facilities\" is on a soft-restricted network element.\n",
      "Network elements with avoid-restrictions are traversed in the output (restriction attribute names: \"Avoid Private Roads\").\n",
      "\n"
     ]
    },
    {
     "name": "stdout",
     "output_type": "stream",
     "text": [
      "success - 3289\n"
     ]
    },
    {
     "name": "stderr",
     "output_type": "stream",
     "text": [
      "Location \"421027779\" in \"Facilities\" is on a soft-restricted network element.\n",
      "\n",
      "Location \"530330219063\" in \"Incidents\" is on a soft-restricted network element.\n",
      "Location \"421027779\" in \"Facilities\" is on a soft-restricted network element.\n",
      "Network elements with avoid-restrictions are traversed in the output (restriction attribute names: \"Avoid Private Roads\").\n",
      "\n",
      "Location \"421027779\" in \"Facilities\" is on a soft-restricted network element.\n",
      "Network elements with avoid-restrictions are traversed in the output (restriction attribute names: \"Avoid Gates\").\n",
      "\n",
      "Location \"530610523011\" in \"Incidents\" is on a soft-restricted network element.\n",
      "Location \"421027779\" in \"Facilities\" is on a soft-restricted network element.\n",
      "Network elements with avoid-restrictions are traversed in the output (restriction attribute names: \"Avoid Private Roads\").\n",
      "\n",
      "Location \"530610535052\" in \"Incidents\" is on a soft-restricted network element.\n",
      "Location \"530610536021\" in \"Incidents\" is on a soft-restricted network element.\n",
      "Location \"421027779\" in \"Facilities\" is on a soft-restricted network element.\n",
      "Network elements with avoid-restrictions are traversed in the output (restriction attribute names: \"Avoid Private Roads\").\n",
      "\n"
     ]
    },
    {
     "name": "stdout",
     "output_type": "stream",
     "text": [
      "success - 3290\n"
     ]
    },
    {
     "name": "stderr",
     "output_type": "stream",
     "text": [
      "Location \"421027779\" in \"Facilities\" is on a soft-restricted network element.\n",
      "\n",
      "Location \"530330219063\" in \"Incidents\" is on a soft-restricted network element.\n",
      "Location \"421027779\" in \"Facilities\" is on a soft-restricted network element.\n",
      "Network elements with avoid-restrictions are traversed in the output (restriction attribute names: \"Avoid Private Roads\").\n",
      "\n",
      "Location \"421027779\" in \"Facilities\" is on a soft-restricted network element.\n",
      "Network elements with avoid-restrictions are traversed in the output (restriction attribute names: \"Avoid Gates\").\n",
      "\n",
      "Location \"530610523011\" in \"Incidents\" is on a soft-restricted network element.\n",
      "Location \"421027779\" in \"Facilities\" is on a soft-restricted network element.\n",
      "Network elements with avoid-restrictions are traversed in the output (restriction attribute names: \"Avoid Private Roads\").\n",
      "\n",
      "Location \"530610535052\" in \"Incidents\" is on a soft-restricted network element.\n",
      "Location \"530610536021\" in \"Incidents\" is on a soft-restricted network element.\n",
      "Location \"421027779\" in \"Facilities\" is on a soft-restricted network element.\n",
      "Network elements with avoid-restrictions are traversed in the output (restriction attribute names: \"Avoid Private Roads\").\n",
      "\n"
     ]
    },
    {
     "name": "stdout",
     "output_type": "stream",
     "text": [
      "success - 3291\n"
     ]
    },
    {
     "name": "stderr",
     "output_type": "stream",
     "text": [
      "Location \"421027779\" in \"Facilities\" is on a soft-restricted network element.\n",
      "\n",
      "Location \"530330219063\" in \"Incidents\" is on a soft-restricted network element.\n",
      "Location \"421027779\" in \"Facilities\" is on a soft-restricted network element.\n",
      "Network elements with avoid-restrictions are traversed in the output (restriction attribute names: \"Avoid Private Roads\" \"Avoid Gates\").\n",
      "\n",
      "Location \"421027779\" in \"Facilities\" is on a soft-restricted network element.\n",
      "Network elements with avoid-restrictions are traversed in the output (restriction attribute names: \"Avoid Gates\").\n",
      "\n",
      "Location \"530610523011\" in \"Incidents\" is on a soft-restricted network element.\n",
      "Location \"421027779\" in \"Facilities\" is on a soft-restricted network element.\n",
      "Network elements with avoid-restrictions are traversed in the output (restriction attribute names: \"Avoid Private Roads\").\n",
      "\n",
      "Location \"530610535052\" in \"Incidents\" is on a soft-restricted network element.\n",
      "Location \"530610536021\" in \"Incidents\" is on a soft-restricted network element.\n",
      "Location \"421027779\" in \"Facilities\" is on a soft-restricted network element.\n",
      "Network elements with avoid-restrictions are traversed in the output (restriction attribute names: \"Avoid Private Roads\" \"Avoid Gates\").\n",
      "\n"
     ]
    },
    {
     "name": "stdout",
     "output_type": "stream",
     "text": [
      "success - 3292\n"
     ]
    },
    {
     "name": "stderr",
     "output_type": "stream",
     "text": [
      "Location \"421027779\" in \"Facilities\" is on a soft-restricted network element.\n",
      "\n",
      "Location \"530330219063\" in \"Incidents\" is on a soft-restricted network element.\n",
      "Location \"421027779\" in \"Facilities\" is on a soft-restricted network element.\n",
      "Network elements with avoid-restrictions are traversed in the output (restriction attribute names: \"Avoid Private Roads\" \"Avoid Gates\").\n",
      "\n",
      "Location \"421027779\" in \"Facilities\" is on a soft-restricted network element.\n",
      "Network elements with avoid-restrictions are traversed in the output (restriction attribute names: \"Avoid Gates\").\n",
      "\n",
      "Location \"530610523011\" in \"Incidents\" is on a soft-restricted network element.\n",
      "Location \"421027779\" in \"Facilities\" is on a soft-restricted network element.\n",
      "Network elements with avoid-restrictions are traversed in the output (restriction attribute names: \"Avoid Private Roads\").\n",
      "\n",
      "Location \"530610535052\" in \"Incidents\" is on a soft-restricted network element.\n",
      "Location \"530610536021\" in \"Incidents\" is on a soft-restricted network element.\n",
      "Location \"421027779\" in \"Facilities\" is on a soft-restricted network element.\n",
      "Network elements with avoid-restrictions are traversed in the output (restriction attribute names: \"Avoid Private Roads\" \"Avoid Gates\").\n",
      "\n"
     ]
    },
    {
     "name": "stdout",
     "output_type": "stream",
     "text": [
      "success - 3293\n"
     ]
    },
    {
     "name": "stderr",
     "output_type": "stream",
     "text": [
      "Location \"421027779\" in \"Facilities\" is on a soft-restricted network element.\n",
      "\n",
      "Location \"421027779\" in \"Facilities\" is on a soft-restricted network element.\n",
      "Network elements with avoid-restrictions are traversed in the output (restriction attribute names: \"Avoid Gates\").\n",
      "\n",
      "Location \"530610523011\" in \"Incidents\" is on a soft-restricted network element.\n",
      "Location \"421027779\" in \"Facilities\" is on a soft-restricted network element.\n",
      "Network elements with avoid-restrictions are traversed in the output (restriction attribute names: \"Avoid Private Roads\" \"Avoid Gates\").\n",
      "\n",
      "Location \"530610535052\" in \"Incidents\" is on a soft-restricted network element.\n",
      "Location \"530610536021\" in \"Incidents\" is on a soft-restricted network element.\n",
      "Location \"421027779\" in \"Facilities\" is on a soft-restricted network element.\n",
      "Network elements with avoid-restrictions are traversed in the output (restriction attribute names: \"Avoid Private Roads\" \"Avoid Gates\").\n",
      "\n",
      "Location \"421027779\" in \"Facilities\" is on a soft-restricted network element.\n",
      "\n"
     ]
    },
    {
     "name": "stdout",
     "output_type": "stream",
     "text": [
      "success - 3294\n"
     ]
    },
    {
     "name": "stderr",
     "output_type": "stream",
     "text": [
      "Location \"421027779\" in \"Facilities\" is on a soft-restricted network element.\n",
      "\n",
      "Location \"421027779\" in \"Facilities\" is on a soft-restricted network element.\n",
      "Network elements with avoid-restrictions are traversed in the output (restriction attribute names: \"Avoid Gates\").\n",
      "\n",
      "Location \"530610523011\" in \"Incidents\" is on a soft-restricted network element.\n",
      "Location \"421027779\" in \"Facilities\" is on a soft-restricted network element.\n",
      "Network elements with avoid-restrictions are traversed in the output (restriction attribute names: \"Avoid Private Roads\" \"Avoid Gates\").\n",
      "\n",
      "Location \"530610535052\" in \"Incidents\" is on a soft-restricted network element.\n",
      "Location \"530610536021\" in \"Incidents\" is on a soft-restricted network element.\n",
      "Location \"421027779\" in \"Facilities\" is on a soft-restricted network element.\n",
      "Network elements with avoid-restrictions are traversed in the output (restriction attribute names: \"Avoid Private Roads\" \"Avoid Gates\").\n",
      "\n",
      "Location \"421027779\" in \"Facilities\" is on a soft-restricted network element.\n",
      "\n"
     ]
    },
    {
     "name": "stdout",
     "output_type": "stream",
     "text": [
      "success - 3295\n"
     ]
    },
    {
     "name": "stderr",
     "output_type": "stream",
     "text": [
      "Location \"421027779\" in \"Facilities\" is on a soft-restricted network element.\n",
      "\n"
     ]
    },
    {
     "ename": "TypeError",
     "evalue": "string indices must be integers",
     "output_type": "error",
     "traceback": [
      "\u001b[1;31m---------------------------------------------------------------------------\u001b[0m",
      "\u001b[1;31mTypeError\u001b[0m                                 Traceback (most recent call last)",
      "\u001b[1;32m<ipython-input-12-0d1466507581>\u001b[0m in \u001b[0;36m<module>\u001b[1;34m\u001b[0m\n\u001b[0;32m      5\u001b[0m \u001b[1;33m\u001b[0m\u001b[0m\n\u001b[0;32m      6\u001b[0m \u001b[1;32mfor\u001b[0m \u001b[0midx\u001b[0m\u001b[1;33m,\u001b[0m \u001b[0mrow\u001b[0m \u001b[1;32min\u001b[0m \u001b[0mreal_estate_df\u001b[0m\u001b[1;33m.\u001b[0m\u001b[0miterrows\u001b[0m\u001b[1;33m(\u001b[0m\u001b[1;33m)\u001b[0m\u001b[1;33m:\u001b[0m\u001b[1;33m\u001b[0m\u001b[1;33m\u001b[0m\u001b[0m\n\u001b[1;32m----> 7\u001b[1;33m     \u001b[0mrebal_result\u001b[0m \u001b[1;33m=\u001b[0m \u001b[0mget_affected_df\u001b[0m\u001b[1;33m(\u001b[0m\u001b[0mget_new_tuple\u001b[0m\u001b[1;33m(\u001b[0m\u001b[0mrow\u001b[0m\u001b[1;33m,\u001b[0m \u001b[0mreal_estate_id_fld\u001b[0m\u001b[1;33m)\u001b[0m\u001b[1;33m)\u001b[0m\u001b[1;33m\u001b[0m\u001b[1;33m\u001b[0m\u001b[0m\n\u001b[0m\u001b[0;32m      8\u001b[0m     \u001b[1;32mif\u001b[0m \u001b[0midx\u001b[0m \u001b[1;33m==\u001b[0m \u001b[1;36m0\u001b[0m\u001b[1;33m:\u001b[0m\u001b[1;33m\u001b[0m\u001b[1;33m\u001b[0m\u001b[0m\n\u001b[0;32m      9\u001b[0m         \u001b[0maffected_df\u001b[0m \u001b[1;33m=\u001b[0m \u001b[0mrebal_result\u001b[0m\u001b[1;33m\u001b[0m\u001b[1;33m\u001b[0m\u001b[0m\n",
      "\u001b[1;32m<ipython-input-10-8f2516e858fb>\u001b[0m in \u001b[0;36mget_affected_df\u001b[1;34m(input_tuple)\u001b[0m\n\u001b[0;32m     17\u001b[0m         \u001b[0mclosest_table\u001b[0m\u001b[1;33m=\u001b[0m\u001b[0mclosest_brand\u001b[0m\u001b[1;33m,\u001b[0m\u001b[1;33m\u001b[0m\u001b[1;33m\u001b[0m\u001b[0m\n\u001b[0;32m     18\u001b[0m         \u001b[0mnew_destination\u001b[0m\u001b[1;33m=\u001b[0m\u001b[0mcnt_geom\u001b[0m\u001b[1;33m,\u001b[0m\u001b[1;33m\u001b[0m\u001b[1;33m\u001b[0m\u001b[0m\n\u001b[1;32m---> 19\u001b[1;33m         \u001b[0mgis\u001b[0m\u001b[1;33m=\u001b[0m\u001b[0ment_gis\u001b[0m\u001b[1;33m\u001b[0m\u001b[1;33m\u001b[0m\u001b[0m\n\u001b[0m\u001b[0;32m     20\u001b[0m     )\n\u001b[0;32m     21\u001b[0m \u001b[1;33m\u001b[0m\u001b[0m\n",
      "\u001b[1;32mD:\\projects\\geoai-retail\\src\\geoai_retail\\analysis.py\u001b[0m in \u001b[0;36mget_add_new_closest_dataframe\u001b[1;34m(origins, origin_id_field, destinations, destination_id_field, closest_table, new_destination, gis, origin_weighting_points)\u001b[0m\n\u001b[0;32m    101\u001b[0m                                                                                   \u001b[0mdest_analysis_df\u001b[0m\u001b[1;33m,\u001b[0m \u001b[1;34m'ID'\u001b[0m\u001b[1;33m,\u001b[0m\u001b[1;33m\u001b[0m\u001b[1;33m\u001b[0m\u001b[0m\n\u001b[0;32m    102\u001b[0m                                                                                   \u001b[0mgis\u001b[0m\u001b[1;33m=\u001b[0m\u001b[0mgis\u001b[0m\u001b[1;33m,\u001b[0m\u001b[1;33m\u001b[0m\u001b[1;33m\u001b[0m\u001b[0m\n\u001b[1;32m--> 103\u001b[1;33m                                                                                   destination_count=dest_count)\n\u001b[0m\u001b[0;32m    104\u001b[0m \u001b[1;33m\u001b[0m\u001b[0m\n\u001b[0;32m    105\u001b[0m     \u001b[1;31m# otherwise, use local resources\u001b[0m\u001b[1;33m\u001b[0m\u001b[1;33m\u001b[0m\u001b[1;33m\u001b[0m\u001b[0m\n",
      "\u001b[1;32mD:\\projects\\geoai-retail\\src\\geoai_retail\\proximity_local.py\u001b[0m in \u001b[0;36mclosest_dataframe_from_origins_destinations\u001b[1;34m(origins, origin_id_fld, destinations, dest_id_fld, gis, network_dataset, destination_count)\u001b[0m\n\u001b[0;32m    463\u001b[0m     \u001b[1;31m# get a closest dataframe with all the origin and destination pairs in a discrete row\u001b[0m\u001b[1;33m\u001b[0m\u001b[1;33m\u001b[0m\u001b[1;33m\u001b[0m\u001b[0m\n\u001b[0;32m    464\u001b[0m     closest_df = get_closest_solution(origins, origin_id_fld, destinations, dest_id_fld, gis=gis,\n\u001b[1;32m--> 465\u001b[1;33m                                       network_dataset=network_dataset, destination_count=destination_count)\n\u001b[0m\u001b[0;32m    466\u001b[0m \u001b[1;33m\u001b[0m\u001b[0m\n\u001b[0;32m    467\u001b[0m     \u001b[1;31m# collapse the solutions to a single record for each origin location\u001b[0m\u001b[1;33m\u001b[0m\u001b[1;33m\u001b[0m\u001b[1;33m\u001b[0m\u001b[0m\n",
      "\u001b[1;32mD:\\projects\\geoai-retail\\src\\geoai_retail\\proximity_local.py\u001b[0m in \u001b[0;36mget_closest_solution\u001b[1;34m(origins, origin_id_fld, destinations, dest_id_fld, gis, network_dataset, destination_count)\u001b[0m\n\u001b[0;32m    407\u001b[0m \u001b[1;33m\u001b[0m\u001b[0m\n\u001b[0;32m    408\u001b[0m         \u001b[1;31m# get the limitations on the networking rest endpoint, and scale the analysis based on this\u001b[0m\u001b[1;33m\u001b[0m\u001b[1;33m\u001b[0m\u001b[1;33m\u001b[0m\u001b[0m\n\u001b[1;32m--> 409\u001b[1;33m         \u001b[0mmax_records\u001b[0m \u001b[1;33m=\u001b[0m \u001b[0mgis\u001b[0m\u001b[1;33m.\u001b[0m\u001b[0m_con\u001b[0m\u001b[1;33m.\u001b[0m\u001b[0mget\u001b[0m\u001b[1;33m(\u001b[0m\u001b[0mgis\u001b[0m\u001b[1;33m.\u001b[0m\u001b[0mproperties\u001b[0m\u001b[1;33m.\u001b[0m\u001b[0mhelperServices\u001b[0m\u001b[1;33m.\u001b[0m\u001b[0masyncClosestFacility\u001b[0m\u001b[1;33m.\u001b[0m\u001b[0murl\u001b[0m\u001b[1;33m.\u001b[0m\u001b[0mrpartition\u001b[0m\u001b[1;33m(\u001b[0m\u001b[1;34m'/'\u001b[0m\u001b[1;33m)\u001b[0m\u001b[1;33m[\u001b[0m\u001b[1;36m0\u001b[0m\u001b[1;33m]\u001b[0m\u001b[1;33m)\u001b[0m\u001b[1;33m[\u001b[0m\u001b[1;34m'maximumRecords'\u001b[0m\u001b[1;33m]\u001b[0m\u001b[1;33m\u001b[0m\u001b[1;33m\u001b[0m\u001b[0m\n\u001b[0m\u001b[0;32m    410\u001b[0m         \u001b[0mmax_origin_cnt\u001b[0m \u001b[1;33m=\u001b[0m \u001b[0mmath\u001b[0m\u001b[1;33m.\u001b[0m\u001b[0mfloor\u001b[0m\u001b[1;33m(\u001b[0m\u001b[0mmax_records\u001b[0m \u001b[1;33m/\u001b[0m \u001b[0mdestination_count\u001b[0m\u001b[1;33m)\u001b[0m\u001b[1;33m\u001b[0m\u001b[1;33m\u001b[0m\u001b[0m\n\u001b[0;32m    411\u001b[0m \u001b[1;33m\u001b[0m\u001b[0m\n",
      "\u001b[1;31mTypeError\u001b[0m: string indices must be integers"
     ]
    }
   ],
   "source": [
    "import warnings\n",
    "warnings.filterwarnings('ignore')\n",
    "\n",
    "real_estate_df.reset_index(inplace=True, drop=True)\n",
    "\n",
    "for idx, row in real_estate_df.iterrows():\n",
    "    rebal_result = get_affected_df(get_new_tuple(row, real_estate_id_fld))\n",
    "    if idx == 0:\n",
    "        affected_df = rebal_result\n",
    "    else:\n",
    "        affected_df = affected_df.append(rebal_result)\n",
    "    print(f'success - {row[0]}')\n",
    "    \n",
    "    affected_df.to_csv(interim_dir/'ace_affected_04.csv')"
   ]
  },
  {
   "cell_type": "code",
   "execution_count": null,
   "metadata": {},
   "outputs": [],
   "source": []
  }
 ],
 "metadata": {
  "kernelspec": {
   "display_name": "Python 3",
   "language": "python",
   "name": "python3"
  },
  "language_info": {
   "codemirror_mode": {
    "name": "ipython",
    "version": 3
   },
   "file_extension": ".py",
   "mimetype": "text/x-python",
   "name": "python",
   "nbconvert_exporter": "python",
   "pygments_lexer": "ipython3",
   "version": "3.6.8"
  }
 },
 "nbformat": 4,
 "nbformat_minor": 2
}
