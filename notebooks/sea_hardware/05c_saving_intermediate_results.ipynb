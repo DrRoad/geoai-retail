{
 "cells": [
  {
   "cell_type": "code",
   "execution_count": 275,
   "metadata": {},
   "outputs": [],
   "source": [
    "import pandas as pd\n",
    "from arcgis.features import GeoAccessor\n",
    "from pathlib import Path\n",
    "import os\n",
    "import arcpy"
   ]
  },
  {
   "cell_type": "code",
   "execution_count": 107,
   "metadata": {},
   "outputs": [],
   "source": [
    "data = Path(os.path.abspath('../../data'))\n",
    "interim_dir = data/'interim'\n",
    "interim_gdb = interim_dir/'interim.gdb'\n",
    "raw_dir = data/'raw'\n",
    "raw_gdb = raw_dir/'raw.gdb'\n",
    "\n",
    "real_estate_fc = raw_gdb/'real_estate_hex'\n",
    "real_estate_id_fld = 'GRID_ID'"
   ]
  },
  {
   "cell_type": "code",
   "execution_count": 136,
   "metadata": {},
   "outputs": [
    {
     "data": {
      "text/html": [
       "<div>\n",
       "<style scoped>\n",
       "    .dataframe tbody tr th:only-of-type {\n",
       "        vertical-align: middle;\n",
       "    }\n",
       "\n",
       "    .dataframe tbody tr th {\n",
       "        vertical-align: top;\n",
       "    }\n",
       "\n",
       "    .dataframe thead th {\n",
       "        text-align: right;\n",
       "    }\n",
       "</style>\n",
       "<table border=\"1\" class=\"dataframe\">\n",
       "  <thead>\n",
       "    <tr style=\"text-align: right;\">\n",
       "      <th></th>\n",
       "      <th>GRID_ID</th>\n",
       "      <th>road_reachable</th>\n",
       "      <th>SHAPE</th>\n",
       "    </tr>\n",
       "  </thead>\n",
       "  <tbody>\n",
       "    <tr>\n",
       "      <th>0</th>\n",
       "      <td>24</td>\n",
       "      <td>0</td>\n",
       "      <td>{\"rings\": [[[-122.11125931899994, 46.740620218...</td>\n",
       "    </tr>\n",
       "    <tr>\n",
       "      <th>1</th>\n",
       "      <td>26</td>\n",
       "      <td>0</td>\n",
       "      <td>{\"rings\": [[[-122.04954545899994, 46.740620218...</td>\n",
       "    </tr>\n",
       "    <tr>\n",
       "      <th>2</th>\n",
       "      <td>28</td>\n",
       "      <td>1</td>\n",
       "      <td>{\"rings\": [[[-121.98783159799996, 46.740620218...</td>\n",
       "    </tr>\n",
       "    <tr>\n",
       "      <th>3</th>\n",
       "      <td>30</td>\n",
       "      <td>1</td>\n",
       "      <td>{\"rings\": [[[-121.92611773799996, 46.740620218...</td>\n",
       "    </tr>\n",
       "    <tr>\n",
       "      <th>4</th>\n",
       "      <td>31</td>\n",
       "      <td>1</td>\n",
       "      <td>{\"rings\": [[[-121.89526080699994, 46.728410000...</td>\n",
       "    </tr>\n",
       "  </tbody>\n",
       "</table>\n",
       "</div>"
      ],
      "text/plain": [
       "  GRID_ID  road_reachable                                              SHAPE\n",
       "0      24               0  {\"rings\": [[[-122.11125931899994, 46.740620218...\n",
       "1      26               0  {\"rings\": [[[-122.04954545899994, 46.740620218...\n",
       "2      28               1  {\"rings\": [[[-121.98783159799996, 46.740620218...\n",
       "3      30               1  {\"rings\": [[[-121.92611773799996, 46.740620218...\n",
       "4      31               1  {\"rings\": [[[-121.89526080699994, 46.728410000..."
      ]
     },
     "execution_count": 136,
     "metadata": {},
     "output_type": "execute_result"
    }
   ],
   "source": [
    "real_estate_df = GeoAccessor.from_featureclass(str(real_estate_fc)).drop('OBJECTID', axis=1)\n",
    "real_estate_df.head()"
   ]
  },
  {
   "cell_type": "code",
   "execution_count": 375,
   "metadata": {},
   "outputs": [
    {
     "data": {
      "text/html": [
       "<div>\n",
       "<style scoped>\n",
       "    .dataframe tbody tr th:only-of-type {\n",
       "        vertical-align: middle;\n",
       "    }\n",
       "\n",
       "    .dataframe tbody tr th {\n",
       "        vertical-align: top;\n",
       "    }\n",
       "\n",
       "    .dataframe thead th {\n",
       "        text-align: right;\n",
       "    }\n",
       "</style>\n",
       "<table border=\"1\" class=\"dataframe\">\n",
       "  <thead>\n",
       "    <tr style=\"text-align: right;\">\n",
       "      <th></th>\n",
       "      <th>delta_01</th>\n",
       "      <th>destination_id_01</th>\n",
       "      <th>destination_id_02</th>\n",
       "      <th>destination_id_03</th>\n",
       "      <th>destination_id_04</th>\n",
       "      <th>destination_id_05</th>\n",
       "      <th>destination_id_06</th>\n",
       "      <th>new_destination_id</th>\n",
       "      <th>origin_id</th>\n",
       "      <th>predict_new_01</th>\n",
       "      <th>trip_count_01</th>\n",
       "      <th>trip_count_02</th>\n",
       "      <th>trip_count_03</th>\n",
       "      <th>trip_count_04</th>\n",
       "      <th>trip_count_05</th>\n",
       "      <th>trip_count_06</th>\n",
       "    </tr>\n",
       "  </thead>\n",
       "  <tbody>\n",
       "    <tr>\n",
       "      <th>34</th>\n",
       "      <td>2.146481</td>\n",
       "      <td>1.0</td>\n",
       "      <td>371889957.0</td>\n",
       "      <td>216082099.0</td>\n",
       "      <td>721714069.0</td>\n",
       "      <td>421027779.0</td>\n",
       "      <td>677129595.0</td>\n",
       "      <td>28</td>\n",
       "      <td>5.305307e+11</td>\n",
       "      <td>2.146481</td>\n",
       "      <td>0.0</td>\n",
       "      <td>1.0</td>\n",
       "      <td>0.0</td>\n",
       "      <td>0.0</td>\n",
       "      <td>0.0</td>\n",
       "      <td>0.0</td>\n",
       "    </tr>\n",
       "    <tr>\n",
       "      <th>34</th>\n",
       "      <td>2.146481</td>\n",
       "      <td>1.0</td>\n",
       "      <td>371889957.0</td>\n",
       "      <td>216082099.0</td>\n",
       "      <td>721714069.0</td>\n",
       "      <td>421027779.0</td>\n",
       "      <td>677129595.0</td>\n",
       "      <td>30</td>\n",
       "      <td>5.305307e+11</td>\n",
       "      <td>2.146481</td>\n",
       "      <td>0.0</td>\n",
       "      <td>1.0</td>\n",
       "      <td>0.0</td>\n",
       "      <td>0.0</td>\n",
       "      <td>0.0</td>\n",
       "      <td>0.0</td>\n",
       "    </tr>\n",
       "    <tr>\n",
       "      <th>34</th>\n",
       "      <td>2.146481</td>\n",
       "      <td>1.0</td>\n",
       "      <td>371889957.0</td>\n",
       "      <td>216082099.0</td>\n",
       "      <td>721714069.0</td>\n",
       "      <td>421027779.0</td>\n",
       "      <td>677129595.0</td>\n",
       "      <td>31</td>\n",
       "      <td>5.305307e+11</td>\n",
       "      <td>2.146481</td>\n",
       "      <td>0.0</td>\n",
       "      <td>1.0</td>\n",
       "      <td>0.0</td>\n",
       "      <td>0.0</td>\n",
       "      <td>0.0</td>\n",
       "      <td>0.0</td>\n",
       "    </tr>\n",
       "    <tr>\n",
       "      <th>34</th>\n",
       "      <td>2.146481</td>\n",
       "      <td>1.0</td>\n",
       "      <td>371889957.0</td>\n",
       "      <td>216082099.0</td>\n",
       "      <td>721714069.0</td>\n",
       "      <td>421027779.0</td>\n",
       "      <td>677129595.0</td>\n",
       "      <td>32</td>\n",
       "      <td>5.305307e+11</td>\n",
       "      <td>2.146481</td>\n",
       "      <td>0.0</td>\n",
       "      <td>1.0</td>\n",
       "      <td>0.0</td>\n",
       "      <td>0.0</td>\n",
       "      <td>0.0</td>\n",
       "      <td>0.0</td>\n",
       "    </tr>\n",
       "    <tr>\n",
       "      <th>34</th>\n",
       "      <td>2.146481</td>\n",
       "      <td>371889957.0</td>\n",
       "      <td>216082099.0</td>\n",
       "      <td>1.0</td>\n",
       "      <td>721714069.0</td>\n",
       "      <td>421027779.0</td>\n",
       "      <td>677129595.0</td>\n",
       "      <td>33</td>\n",
       "      <td>5.305307e+11</td>\n",
       "      <td>2.146481</td>\n",
       "      <td>0.0</td>\n",
       "      <td>1.0</td>\n",
       "      <td>0.0</td>\n",
       "      <td>0.0</td>\n",
       "      <td>0.0</td>\n",
       "      <td>0.0</td>\n",
       "    </tr>\n",
       "  </tbody>\n",
       "</table>\n",
       "</div>"
      ],
      "text/plain": [
       "    delta_01  destination_id_01  destination_id_02  destination_id_03  \\\n",
       "34  2.146481                1.0        371889957.0        216082099.0   \n",
       "34  2.146481                1.0        371889957.0        216082099.0   \n",
       "34  2.146481                1.0        371889957.0        216082099.0   \n",
       "34  2.146481                1.0        371889957.0        216082099.0   \n",
       "34  2.146481        371889957.0        216082099.0                1.0   \n",
       "\n",
       "    destination_id_04  destination_id_05  destination_id_06  \\\n",
       "34        721714069.0        421027779.0        677129595.0   \n",
       "34        721714069.0        421027779.0        677129595.0   \n",
       "34        721714069.0        421027779.0        677129595.0   \n",
       "34        721714069.0        421027779.0        677129595.0   \n",
       "34        721714069.0        421027779.0        677129595.0   \n",
       "\n",
       "    new_destination_id     origin_id  predict_new_01  trip_count_01  \\\n",
       "34                  28  5.305307e+11        2.146481            0.0   \n",
       "34                  30  5.305307e+11        2.146481            0.0   \n",
       "34                  31  5.305307e+11        2.146481            0.0   \n",
       "34                  32  5.305307e+11        2.146481            0.0   \n",
       "34                  33  5.305307e+11        2.146481            0.0   \n",
       "\n",
       "    trip_count_02  trip_count_03  trip_count_04  trip_count_05  trip_count_06  \n",
       "34            1.0            0.0            0.0            0.0            0.0  \n",
       "34            1.0            0.0            0.0            0.0            0.0  \n",
       "34            1.0            0.0            0.0            0.0            0.0  \n",
       "34            1.0            0.0            0.0            0.0            0.0  \n",
       "34            1.0            0.0            0.0            0.0            0.0  "
      ]
     },
     "execution_count": 375,
     "metadata": {},
     "output_type": "execute_result"
    }
   ],
   "source": [
    "affected_df = pd.concat([pd.read_csv(f, index_col=0) for f in interim_dir.glob('ace_affected*.csv')]).drop_duplicates(['origin_id', 'new_destination_id'])\n",
    "affected_df.head()"
   ]
  },
  {
   "cell_type": "code",
   "execution_count": 394,
   "metadata": {},
   "outputs": [
    {
     "name": "stdout",
     "output_type": "stream",
     "text": [
      "successfully completed - 716 / 1,906\n"
     ]
    },
    {
     "data": {
      "application/vnd.jupyter.widget-view+json": {
       "model_id": "d9cb8aea67544004bc5d1ec38ae5c0d4",
       "version_major": 2,
       "version_minor": 0
      },
      "text/plain": [
       "MapView(layout=Layout(height='400px', width='100%'))"
      ]
     },
     "metadata": {},
     "output_type": "display_data"
    },
    {
     "data": {
      "text/html": [
       "<div class=\"map-static-img-preview-ee95590b-e9b8-45ee-b620-6f84f42ab1bf\"><img src=\"\"></img></div>"
      ],
      "text/plain": [
       "<IPython.core.display.HTML object>"
      ]
     },
     "metadata": {},
     "output_type": "display_data"
    }
   ],
   "source": [
    "import warnings\n",
    "warnings.filterwarnings('ignore')\n",
    "\n",
    "affected_df = pd.concat([pd.read_csv(f, index_col=0) for f in interim_dir.glob('ace_affected*.csv')]).drop_duplicates(['origin_id', 'new_destination_id'])\n",
    "\n",
    "delta_srs = affected_df.groupby('new_destination_id').sum()['delta_01']\n",
    "print(f'successfully completed - {len(delta_srs):,} / {len(real_estate_df[real_estate_df.road_reachable == 1].index):,}')\n",
    "\n",
    "real_estate_df = GeoAccessor.from_featureclass(str(real_estate_fc)).drop('OBJECTID', axis=1)\n",
    "real_estate_df.GRID_ID = real_estate_df.GRID_ID.astype('int64')\n",
    "real_estate_delta_df = real_estate_df.join(delta_srs, on='GRID_ID').reset_index(drop=True)\n",
    "\n",
    "webmap = real_estate_delta_df[real_estate_delta_df['delta_01'].notna()].spatial.plot()\n",
    "webmap.basemap ='dark-gray-vector'\n",
    "webmap"
   ]
  },
  {
   "cell_type": "code",
   "execution_count": 395,
   "metadata": {},
   "outputs": [],
   "source": [
    "delta_srs = real_estate_delta_df.set_index('GRID_ID')['delta_01']\n",
    "with arcpy.da.UpdateCursor(str(interim_gdb/'real_estate_potential'), ['GRID_ID', 'delta_01']) as update_cur:\n",
    "    for row in update_cur:\n",
    "        row[1] = delta_srs.loc[int(row[0])]\n",
    "        update_cur.updateRow(row)"
   ]
  },
  {
   "cell_type": "code",
   "execution_count": null,
   "metadata": {},
   "outputs": [],
   "source": []
  },
  {
   "cell_type": "code",
   "execution_count": null,
   "metadata": {},
   "outputs": [],
   "source": [
    "real_estate_delta_df.spatial.to_featureclass(str(interim_gdb/'real_estate_potential'))"
   ]
  }
 ],
 "metadata": {
  "kernelspec": {
   "display_name": "Python 3",
   "language": "python",
   "name": "python3"
  },
  "language_info": {
   "codemirror_mode": {
    "name": "ipython",
    "version": 3
   },
   "file_extension": ".py",
   "mimetype": "text/x-python",
   "name": "python",
   "nbconvert_exporter": "python",
   "pygments_lexer": "ipython3",
   "version": "3.6.8"
  }
 },
 "nbformat": 4,
 "nbformat_minor": 2
}
