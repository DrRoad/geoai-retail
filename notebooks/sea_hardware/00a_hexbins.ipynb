{
 "cells": [
  {
   "cell_type": "code",
   "execution_count": 1,
   "metadata": {},
   "outputs": [],
   "source": [
    "import arcpy\n",
    "import os\n",
    "from pathlib import Path\n",
    "import pickle\n",
    "import sys\n",
    "\n",
    "from arcgis.features import GeoAccessor\n",
    "from arcgis.geometry import Geometry\n",
    "import numpy as np\n",
    "import pandas as pd\n",
    "\n",
    "sys.path.append('../../src')\n",
    "from geoai_retail.analysis import get_add_new_closest_dataframe\n",
    "\n",
    "%load_ext autoreload\n",
    "%autoreload 2"
   ]
  },
  {
   "cell_type": "code",
   "execution_count": 2,
   "metadata": {},
   "outputs": [],
   "source": [
    "data = Path(os.path.abspath('../../data'))\n",
    "interim_dir = data/'interim'\n",
    "raw_dir = data/'raw'\n",
    "raw_gdb = raw_dir/'raw.gdb'\n",
    "\n",
    "origin_fc = str(raw_gdb/'sea_block_group')\n",
    "origin_id_fld = 'ID'\n",
    "\n",
    "dest_fc = str(raw_gdb/'sea_ace')\n",
    "dest_id_fld = 'LOCNUM'\n",
    "\n",
    "comp_fc = raw_gdb/'sea_ace_comp'\n",
    "comp_id_fld = 'LOCNUM'\n",
    "\n",
    "closest_brand = interim_dir/'closest_store.csv'\n",
    "closest_comp = interim_dir/'closest_competition.csv'\n",
    "origin_demographics = interim_dir/'origin_enrich_all.csv'\n",
    "inrix_trips = interim_dir/'cust_count_inrix.csv'\n",
    "training_data = interim_dir/'training_data.csv'\n",
    "\n",
    "scratch_gdb = Path(arcpy.env.scratchGDB)\n",
    "arcpy.env.overwriteOutput = True"
   ]
  },
  {
   "cell_type": "code",
   "execution_count": 3,
   "metadata": {},
   "outputs": [],
   "source": [
    "out_sr = arcpy.SpatialReference(3857)\n",
    "in_desc = arcpy.Describe(origin_fc)\n",
    "\n",
    "transformation_lst = arcpy.ListTransformations(in_desc.spatialReference, out_sr)\n",
    "\n",
    "if len(transformation_lst):\n",
    "    prj_fc = arcpy.management.Project(origin_fc, str(scratch_gdb/'temp_fc'), out_sr, transformation_lst[0])\n",
    "else:\n",
    "    prj_fc = arcpy.management.Project(origin_fc, str(scratch_gdb/'temp_fc'), out_sr)"
   ]
  },
  {
   "cell_type": "code",
   "execution_count": 4,
   "metadata": {},
   "outputs": [],
   "source": [
    "with arcpy.da.SearchCursor(prj_fc, 'SHAPE@') as search_cur:\n",
    "    for row in search_cur:\n",
    "        geom = row[0]\n",
    "        break"
   ]
  },
  {
   "cell_type": "code",
   "execution_count": 6,
   "metadata": {},
   "outputs": [],
   "source": [
    "from scipy.stats import iqr"
   ]
  },
  {
   "cell_type": "code",
   "execution_count": 15,
   "metadata": {},
   "outputs": [],
   "source": [
    "area_lst = [row[0].area for row in arcpy.da.SearchCursor(prj_fc, 'SHAPE@')]\n",
    "area_lst.sort()"
   ]
  },
  {
   "cell_type": "code",
   "execution_count": 18,
   "metadata": {},
   "outputs": [
    {
     "data": {
      "text/plain": [
       "'994,554.7260704016'"
      ]
     },
     "execution_count": 18,
     "metadata": {},
     "output_type": "execute_result"
    }
   ],
   "source": [
    "f'{np.quantile(area_lst, 0.25):,}'"
   ]
  },
  {
   "cell_type": "code",
   "execution_count": 19,
   "metadata": {},
   "outputs": [
    {
     "data": {
      "text/plain": [
       "'3,692,248.390682234'"
      ]
     },
     "execution_count": 19,
     "metadata": {},
     "output_type": "execute_result"
    }
   ],
   "source": [
    "f'{np.quantile(area_lst, 0.75):,}'"
   ]
  },
  {
   "cell_type": "code",
   "execution_count": 5,
   "metadata": {},
   "outputs": [
    {
     "data": {
      "text/plain": [
       "13624395.891716829"
      ]
     },
     "execution_count": 5,
     "metadata": {},
     "output_type": "execute_result"
    }
   ],
   "source": [
    "area_mean = np.mean([row[0].area for row in arcpy.da.SearchCursor(prj_fc, 'SHAPE@')])\n",
    "area_mean"
   ]
  },
  {
   "cell_type": "code",
   "execution_count": 48,
   "metadata": {},
   "outputs": [
    {
     "ename": "AttributeError",
     "evalue": "'ToolValidator' object has no attribute 'isLicensed'",
     "output_type": "error",
     "traceback": [
      "\u001b[1;31m---------------------------------------------------------------------------\u001b[0m",
      "\u001b[1;31mAttributeError\u001b[0m                            Traceback (most recent call last)",
      "\u001b[1;32mc:\\program files\\arcgis\\pro\\Resources\\ArcToolbox\\toolboxes\\Data Management Tools.tbx#GenerateTessellation_management.InitializeParameters.py\u001b[0m in \u001b[0;36m<module>\u001b[1;34m\u001b[0m\n",
      "\u001b[1;31mAttributeError\u001b[0m: 'ToolValidator' object has no attribute 'isLicensed'"
     ]
    },
    {
     "ename": "AttributeError",
     "evalue": "'ToolValidator' object has no attribute 'isLicensed'",
     "output_type": "error",
     "traceback": [
      "\u001b[1;31m---------------------------------------------------------------------------\u001b[0m",
      "\u001b[1;31mAttributeError\u001b[0m                            Traceback (most recent call last)",
      "\u001b[1;32mc:\\program files\\arcgis\\pro\\Resources\\ArcToolbox\\toolboxes\\Data Management Tools.tbx#GenerateTessellation_management.InitializeParameters.py\u001b[0m in \u001b[0;36m<module>\u001b[1;34m\u001b[0m\n",
      "\u001b[1;31mAttributeError\u001b[0m: 'ToolValidator' object has no attribute 'isLicensed'"
     ]
    }
   ],
   "source": [
    "hex_fc = arcpy.management.GenerateTessellation(str(interim_dir/'interim.gdb/sea_hexbin_02'), arcpy.Describe(prj_fc).extent, 'HEXAGON', f'{area_mean}')"
   ]
  }
 ],
 "metadata": {
  "kernelspec": {
   "display_name": "Python 3",
   "language": "python",
   "name": "python3"
  },
  "language_info": {
   "codemirror_mode": {
    "name": "ipython",
    "version": 3
   },
   "file_extension": ".py",
   "mimetype": "text/x-python",
   "name": "python",
   "nbconvert_exporter": "python",
   "pygments_lexer": "ipython3",
   "version": "3.6.8"
  }
 },
 "nbformat": 4,
 "nbformat_minor": 2
}
