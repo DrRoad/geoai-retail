{
 "cells": [
  {
   "cell_type": "code",
   "execution_count": 160,
   "metadata": {
    "collapsed": true
   },
   "outputs": [
    {
     "name": "stdout",
     "output_type": "stream",
     "text": [
      "The autoreload extension is already loaded. To reload it, use:\n",
      "  %reload_ext autoreload\n"
     ]
    }
   ],
   "source": [
    "# minimal module imports\n",
    "from arcgis.features import GeoAccessor, GeoSeriesAccessor\n",
    "from arcgis.features import FeatureLayer\n",
    "from arcgis.geometry import Geometry\n",
    "from ba_data_paths import ba_data\n",
    "import pandas as pd\n",
    "import os\n",
    "import importlib\n",
    "from pathlib import Path\n",
    "import matplotlib.pyplot as plt\n",
    "\n",
    "plt.style.use('dark_background')\n",
    "\n",
    "# import arcpy if available\n",
    "if importlib.util.find_spec(\"arcpy\") is not None:\n",
    "    import arcpy\n",
    "    \n",
    "import sys\n",
    "sys.path.append('../src')\n",
    "\n",
    "app_id = 'c9fa4c15-b9ab-46d4-bcd9-a3eb33dd0ff8'\n",
    "hash_token = '919745fda981ddccb3ffc4f07863480e624cfa3d'\n",
    "\n",
    "data_dir = Path(os.path.abspath('../data'))\n",
    "\n",
    "interim_dir = data_dir/'interim'\n",
    "interim_gdb = interim_dir/'interim.gdb'\n",
    "\n",
    "raw_dir = data_dir/'raw'\n",
    "raw_gdb = raw_dir/'raw.gdb'\n",
    "                \n",
    "nearest_stores_csv = interim_dir/'closest_store.csv'\n",
    "nearest_comp_csv = interim_dir/'closest_competition.csv'\n",
    "\n",
    "origin_fc = str(raw_gdb/'sea_block_group')\n",
    "origin_id_fld = 'ID'\n",
    "\n",
    "dest_fc = str(raw_gdb/'sea_ace')\n",
    "dest_fc_fld = 'LOCNUM'\n",
    "\n",
    "comp_fc = raw_gdb/'sea_ace_comp'\n",
    "comp_id_fld = 'LOCNUM'\n",
    "\n",
    "from inrix import TAZ\n",
    "taz = TAZ(app_id, hash_token)\n",
    "%load_ext autoreload\n",
    "%autoreload 2"
   ]
  },
  {
   "cell_type": "code",
   "execution_count": 7,
   "metadata": {},
   "outputs": [],
   "source": [
    "df_pop_cent = GeoAccessor.from_featureclass(dest_fc)"
   ]
  },
  {
   "cell_type": "code",
   "execution_count": 17,
   "metadata": {},
   "outputs": [],
   "source": [
    "geom = df_pop_cent.iloc[0].SHAPE"
   ]
  },
  {
   "cell_type": "code",
   "execution_count": 8,
   "metadata": {},
   "outputs": [],
   "source": [
    "def get_dest_df(geom, locnum):\n",
    "    dest_df = taz.get_trip_destination_spatial_dataframe(geom.y, geom.x, '100m')\n",
    "    if dest_df is not None:\n",
    "        dest_df = dest_df[['travelDistanceMiles', 'travelTimeMinutes', 'SHAPE']].copy()\n",
    "        dest_df.columns = ['travel_distance_miles', 'travel_time_minutes', 'SHAPE']\n",
    "        dest_df['store_locnum'] = locnum\n",
    "        dest_df['x'] = dest_df.SHAPE.apply(lambda geom: geom.x)\n",
    "        dest_df['y'] = dest_df.SHAPE.apply(lambda geom: geom.y)\n",
    "        return dest_df\n",
    "    else:\n",
    "        return None"
   ]
  },
  {
   "cell_type": "code",
   "execution_count": 25,
   "metadata": {},
   "outputs": [
    {
     "name": "stdout",
     "output_type": "stream",
     "text": [
      "388\n",
      "1,180\n",
      "5,542\n",
      "5,646\n",
      "5,960\n",
      "5,967\n",
      "6,849\n",
      "7,239\n",
      "7,739\n",
      "9,722\n",
      "11,705\n",
      "11,831\n",
      "12,835\n",
      "14,272\n",
      "15,808\n",
      "17,653\n",
      "19,498\n",
      "23,229\n",
      "27,790\n",
      "36,894\n",
      "45,998\n",
      "47,585\n",
      "49,383\n",
      "50,661\n",
      "51,714\n",
      "52,358\n",
      "53,002\n",
      "54,183\n",
      "54,615\n",
      "54,764\n",
      "54,913\n",
      "55,081\n",
      "55,403\n",
      "56,072\n",
      "56,741\n",
      "57,289\n"
     ]
    },
    {
     "data": {
      "text/html": [
       "<div>\n",
       "<style scoped>\n",
       "    .dataframe tbody tr th:only-of-type {\n",
       "        vertical-align: middle;\n",
       "    }\n",
       "\n",
       "    .dataframe tbody tr th {\n",
       "        vertical-align: top;\n",
       "    }\n",
       "\n",
       "    .dataframe thead th {\n",
       "        text-align: right;\n",
       "    }\n",
       "</style>\n",
       "<table border=\"1\" class=\"dataframe\">\n",
       "  <thead>\n",
       "    <tr style=\"text-align: right;\">\n",
       "      <th></th>\n",
       "      <th>travel_distance_miles</th>\n",
       "      <th>travel_time_minutes</th>\n",
       "      <th>SHAPE</th>\n",
       "      <th>store_locnum</th>\n",
       "      <th>x</th>\n",
       "      <th>y</th>\n",
       "    </tr>\n",
       "  </thead>\n",
       "  <tbody>\n",
       "    <tr>\n",
       "      <th>0</th>\n",
       "      <td>2.426454</td>\n",
       "      <td>9.316667</td>\n",
       "      <td>{\"x\": -122.300817, \"y\": 47.023922, \"spatialRef...</td>\n",
       "      <td>371889957</td>\n",
       "      <td>-122.300817</td>\n",
       "      <td>47.023922</td>\n",
       "    </tr>\n",
       "    <tr>\n",
       "      <th>1</th>\n",
       "      <td>5.910481</td>\n",
       "      <td>17.183333</td>\n",
       "      <td>{\"x\": -122.277817, \"y\": 47.089246, \"spatialRef...</td>\n",
       "      <td>371889957</td>\n",
       "      <td>-122.277817</td>\n",
       "      <td>47.089246</td>\n",
       "    </tr>\n",
       "    <tr>\n",
       "      <th>2</th>\n",
       "      <td>1.614322</td>\n",
       "      <td>12.366667</td>\n",
       "      <td>{\"x\": -122.28159, \"y\": 47.07345, \"spatialRefer...</td>\n",
       "      <td>371889957</td>\n",
       "      <td>-122.281590</td>\n",
       "      <td>47.073450</td>\n",
       "    </tr>\n",
       "    <tr>\n",
       "      <th>3</th>\n",
       "      <td>2.308393</td>\n",
       "      <td>11.383333</td>\n",
       "      <td>{\"x\": -122.300815, \"y\": 47.023904, \"spatialRef...</td>\n",
       "      <td>371889957</td>\n",
       "      <td>-122.300815</td>\n",
       "      <td>47.023904</td>\n",
       "    </tr>\n",
       "    <tr>\n",
       "      <th>4</th>\n",
       "      <td>3.017999</td>\n",
       "      <td>10.333333</td>\n",
       "      <td>{\"x\": -122.317497, \"y\": 47.072956, \"spatialRef...</td>\n",
       "      <td>371889957</td>\n",
       "      <td>-122.317497</td>\n",
       "      <td>47.072956</td>\n",
       "    </tr>\n",
       "  </tbody>\n",
       "</table>\n",
       "</div>"
      ],
      "text/plain": [
       "   travel_distance_miles  travel_time_minutes  \\\n",
       "0               2.426454             9.316667   \n",
       "1               5.910481            17.183333   \n",
       "2               1.614322            12.366667   \n",
       "3               2.308393            11.383333   \n",
       "4               3.017999            10.333333   \n",
       "\n",
       "                                               SHAPE store_locnum           x  \\\n",
       "0  {\"x\": -122.300817, \"y\": 47.023922, \"spatialRef...    371889957 -122.300817   \n",
       "1  {\"x\": -122.277817, \"y\": 47.089246, \"spatialRef...    371889957 -122.277817   \n",
       "2  {\"x\": -122.28159, \"y\": 47.07345, \"spatialRefer...    371889957 -122.281590   \n",
       "3  {\"x\": -122.300815, \"y\": 47.023904, \"spatialRef...    371889957 -122.300815   \n",
       "4  {\"x\": -122.317497, \"y\": 47.072956, \"spatialRef...    371889957 -122.317497   \n",
       "\n",
       "           y  \n",
       "0  47.023922  \n",
       "1  47.089246  \n",
       "2  47.073450  \n",
       "3  47.023904  \n",
       "4  47.072956  "
      ]
     },
     "execution_count": 25,
     "metadata": {},
     "output_type": "execute_result"
    }
   ],
   "source": [
    "dest_df=None\n",
    "for idx, (locnum, geom) in df_pop_cent[['LOCNUM', 'SHAPE']].iterrows():\n",
    "    new_df = get_dest_df(geom, locnum)\n",
    "    if new_df is not None:\n",
    "        if idx == 0:\n",
    "            dest_df = new_df\n",
    "            print(f'{len(dest_df.index):,}')\n",
    "        else:\n",
    "            dest_df = dest_df.append(new_df)\n",
    "            print(f'{len(dest_df.index):,}')\n",
    "            \n",
    "dest_df.head()"
   ]
  },
  {
   "cell_type": "code",
   "execution_count": 26,
   "metadata": {},
   "outputs": [
    {
     "data": {
      "text/plain": [
       "True"
      ]
     },
     "execution_count": 26,
     "metadata": {},
     "output_type": "execute_result"
    }
   ],
   "source": [
    "dest_df.spatial.set_geometry('SHAPE')\n",
    "dest_df.spatial.validate()"
   ]
  },
  {
   "cell_type": "code",
   "execution_count": 27,
   "metadata": {},
   "outputs": [
    {
     "data": {
      "text/html": [
       "<div>\n",
       "<style scoped>\n",
       "    .dataframe tbody tr th:only-of-type {\n",
       "        vertical-align: middle;\n",
       "    }\n",
       "\n",
       "    .dataframe tbody tr th {\n",
       "        vertical-align: top;\n",
       "    }\n",
       "\n",
       "    .dataframe thead th {\n",
       "        text-align: right;\n",
       "    }\n",
       "</style>\n",
       "<table border=\"1\" class=\"dataframe\">\n",
       "  <thead>\n",
       "    <tr style=\"text-align: right;\">\n",
       "      <th></th>\n",
       "      <th>travel_distance_miles</th>\n",
       "      <th>travel_time_minutes</th>\n",
       "      <th>SHAPE</th>\n",
       "      <th>store_locnum</th>\n",
       "      <th>x</th>\n",
       "      <th>y</th>\n",
       "    </tr>\n",
       "  </thead>\n",
       "  <tbody>\n",
       "    <tr>\n",
       "      <th>0</th>\n",
       "      <td>2.426454</td>\n",
       "      <td>9.316667</td>\n",
       "      <td>{\"x\": -122.300817, \"y\": 47.023922, \"spatialRef...</td>\n",
       "      <td>371889957</td>\n",
       "      <td>-122.300817</td>\n",
       "      <td>47.023922</td>\n",
       "    </tr>\n",
       "    <tr>\n",
       "      <th>1</th>\n",
       "      <td>5.910481</td>\n",
       "      <td>17.183333</td>\n",
       "      <td>{\"x\": -122.277817, \"y\": 47.089246, \"spatialRef...</td>\n",
       "      <td>371889957</td>\n",
       "      <td>-122.277817</td>\n",
       "      <td>47.089246</td>\n",
       "    </tr>\n",
       "    <tr>\n",
       "      <th>2</th>\n",
       "      <td>1.614322</td>\n",
       "      <td>12.366667</td>\n",
       "      <td>{\"x\": -122.28159, \"y\": 47.07345, \"spatialRefer...</td>\n",
       "      <td>371889957</td>\n",
       "      <td>-122.281590</td>\n",
       "      <td>47.073450</td>\n",
       "    </tr>\n",
       "    <tr>\n",
       "      <th>3</th>\n",
       "      <td>2.308393</td>\n",
       "      <td>11.383333</td>\n",
       "      <td>{\"x\": -122.300815, \"y\": 47.023904, \"spatialRef...</td>\n",
       "      <td>371889957</td>\n",
       "      <td>-122.300815</td>\n",
       "      <td>47.023904</td>\n",
       "    </tr>\n",
       "    <tr>\n",
       "      <th>4</th>\n",
       "      <td>3.017999</td>\n",
       "      <td>10.333333</td>\n",
       "      <td>{\"x\": -122.317497, \"y\": 47.072956, \"spatialRef...</td>\n",
       "      <td>371889957</td>\n",
       "      <td>-122.317497</td>\n",
       "      <td>47.072956</td>\n",
       "    </tr>\n",
       "  </tbody>\n",
       "</table>\n",
       "</div>"
      ],
      "text/plain": [
       "   travel_distance_miles  travel_time_minutes  \\\n",
       "0               2.426454             9.316667   \n",
       "1               5.910481            17.183333   \n",
       "2               1.614322            12.366667   \n",
       "3               2.308393            11.383333   \n",
       "4               3.017999            10.333333   \n",
       "\n",
       "                                               SHAPE store_locnum           x  \\\n",
       "0  {\"x\": -122.300817, \"y\": 47.023922, \"spatialRef...    371889957 -122.300817   \n",
       "1  {\"x\": -122.277817, \"y\": 47.089246, \"spatialRef...    371889957 -122.277817   \n",
       "2  {\"x\": -122.28159, \"y\": 47.07345, \"spatialRefer...    371889957 -122.281590   \n",
       "3  {\"x\": -122.300815, \"y\": 47.023904, \"spatialRef...    371889957 -122.300815   \n",
       "4  {\"x\": -122.317497, \"y\": 47.072956, \"spatialRef...    371889957 -122.317497   \n",
       "\n",
       "           y  \n",
       "0  47.023922  \n",
       "1  47.089246  \n",
       "2  47.073450  \n",
       "3  47.023904  \n",
       "4  47.072956  "
      ]
     },
     "execution_count": 27,
     "metadata": {},
     "output_type": "execute_result"
    }
   ],
   "source": [
    "dest_df.reset_index(drop=True, inplace=True)\n",
    "dest_df.head()"
   ]
  },
  {
   "cell_type": "code",
   "execution_count": 28,
   "metadata": {},
   "outputs": [],
   "source": [
    "dest_df.to_csv('../data/interim/raw_trips_sea_ace.csv')"
   ]
  },
  {
   "cell_type": "code",
   "execution_count": 30,
   "metadata": {},
   "outputs": [
    {
     "data": {
      "text/plain": [
       "'D:\\\\projects\\\\geoai-retail\\\\data\\\\interim\\\\interim.gdb\\\\raw_trips_sea_ace'"
      ]
     },
     "execution_count": 30,
     "metadata": {},
     "output_type": "execute_result"
    }
   ],
   "source": [
    "dest_df.spatial.to_featureclass('../data/interim/interim.gdb/raw_trips_sea_ace')"
   ]
  },
  {
   "cell_type": "code",
   "execution_count": 41,
   "metadata": {},
   "outputs": [
    {
     "data": {
      "text/plain": [
       "{'latestWkid': 4326, 'wkid': 4326}"
      ]
     },
     "execution_count": 41,
     "metadata": {},
     "output_type": "execute_result"
    }
   ],
   "source": [
    "dest_df.spatial.sr = {'latestWkid': 4326, 'wkid': 4326}\n",
    "dest_df.spatial.sr"
   ]
  },
  {
   "cell_type": "code",
   "execution_count": 31,
   "metadata": {},
   "outputs": [
    {
     "data": {
      "text/html": [
       "<div>\n",
       "<style scoped>\n",
       "    .dataframe tbody tr th:only-of-type {\n",
       "        vertical-align: middle;\n",
       "    }\n",
       "\n",
       "    .dataframe tbody tr th {\n",
       "        vertical-align: top;\n",
       "    }\n",
       "\n",
       "    .dataframe thead th {\n",
       "        text-align: right;\n",
       "    }\n",
       "</style>\n",
       "<table border=\"1\" class=\"dataframe\">\n",
       "  <thead>\n",
       "    <tr style=\"text-align: right;\">\n",
       "      <th></th>\n",
       "      <th>OBJECTID</th>\n",
       "      <th>ID</th>\n",
       "      <th>NAME</th>\n",
       "      <th>SHAPE</th>\n",
       "    </tr>\n",
       "  </thead>\n",
       "  <tbody>\n",
       "    <tr>\n",
       "      <th>0</th>\n",
       "      <td>1</td>\n",
       "      <td>530530701003</td>\n",
       "      <td>530530701.003</td>\n",
       "      <td>{\"rings\": [[[-122.06627999999995, 47.076520000...</td>\n",
       "    </tr>\n",
       "    <tr>\n",
       "      <th>1</th>\n",
       "      <td>2</td>\n",
       "      <td>530530714071</td>\n",
       "      <td>530530714.071</td>\n",
       "      <td>{\"rings\": [[[-122.34031999999996, 47.071510000...</td>\n",
       "    </tr>\n",
       "    <tr>\n",
       "      <th>2</th>\n",
       "      <td>3</td>\n",
       "      <td>530530714072</td>\n",
       "      <td>530530714.072</td>\n",
       "      <td>{\"rings\": [[[-122.35767999999996, 47.067370000...</td>\n",
       "    </tr>\n",
       "    <tr>\n",
       "      <th>3</th>\n",
       "      <td>4</td>\n",
       "      <td>530530714073</td>\n",
       "      <td>530530714.073</td>\n",
       "      <td>{\"rings\": [[[-122.36847999999998, 47.067630000...</td>\n",
       "    </tr>\n",
       "    <tr>\n",
       "      <th>4</th>\n",
       "      <td>5</td>\n",
       "      <td>530530714112</td>\n",
       "      <td>530530714.112</td>\n",
       "      <td>{\"rings\": [[[-122.41108999999994, 47.071690000...</td>\n",
       "    </tr>\n",
       "  </tbody>\n",
       "</table>\n",
       "</div>"
      ],
      "text/plain": [
       "   OBJECTID            ID           NAME  \\\n",
       "0         1  530530701003  530530701.003   \n",
       "1         2  530530714071  530530714.071   \n",
       "2         3  530530714072  530530714.072   \n",
       "3         4  530530714073  530530714.073   \n",
       "4         5  530530714112  530530714.112   \n",
       "\n",
       "                                               SHAPE  \n",
       "0  {\"rings\": [[[-122.06627999999995, 47.076520000...  \n",
       "1  {\"rings\": [[[-122.34031999999996, 47.071510000...  \n",
       "2  {\"rings\": [[[-122.35767999999996, 47.067370000...  \n",
       "3  {\"rings\": [[[-122.36847999999998, 47.067630000...  \n",
       "4  {\"rings\": [[[-122.41108999999994, 47.071690000...  "
      ]
     },
     "execution_count": 31,
     "metadata": {},
     "output_type": "execute_result"
    }
   ],
   "source": [
    "origin_df = GeoAccessor.from_featureclass(str(origin_fc))\n",
    "origin_df.head()"
   ]
  },
  {
   "cell_type": "code",
   "execution_count": 42,
   "metadata": {},
   "outputs": [
    {
     "data": {
      "text/plain": [
       "{'latestWkid': 4326, 'wkid': 4326}"
      ]
     },
     "execution_count": 42,
     "metadata": {},
     "output_type": "execute_result"
    }
   ],
   "source": [
    "origin_df.spatial.sr"
   ]
  },
  {
   "cell_type": "code",
   "execution_count": 43,
   "metadata": {},
   "outputs": [
    {
     "data": {
      "text/html": [
       "<div>\n",
       "<style scoped>\n",
       "    .dataframe tbody tr th:only-of-type {\n",
       "        vertical-align: middle;\n",
       "    }\n",
       "\n",
       "    .dataframe tbody tr th {\n",
       "        vertical-align: top;\n",
       "    }\n",
       "\n",
       "    .dataframe thead th {\n",
       "        text-align: right;\n",
       "    }\n",
       "</style>\n",
       "<table border=\"1\" class=\"dataframe\">\n",
       "  <thead>\n",
       "    <tr style=\"text-align: right;\">\n",
       "      <th></th>\n",
       "      <th>travel_distance_miles</th>\n",
       "      <th>travel_time_minutes</th>\n",
       "      <th>SHAPE</th>\n",
       "      <th>store_locnum</th>\n",
       "      <th>x</th>\n",
       "      <th>y</th>\n",
       "      <th>index_origin</th>\n",
       "      <th>OBJECTID</th>\n",
       "      <th>ID</th>\n",
       "      <th>NAME</th>\n",
       "    </tr>\n",
       "  </thead>\n",
       "  <tbody>\n",
       "    <tr>\n",
       "      <th>0</th>\n",
       "      <td>2.426454</td>\n",
       "      <td>9.316667</td>\n",
       "      <td>{\"x\": -122.300817, \"y\": 47.023922, \"spatialRef...</td>\n",
       "      <td>371889957</td>\n",
       "      <td>-122.300817</td>\n",
       "      <td>47.023922</td>\n",
       "      <td>24</td>\n",
       "      <td>25</td>\n",
       "      <td>530530731162</td>\n",
       "      <td>530530731.162</td>\n",
       "    </tr>\n",
       "    <tr>\n",
       "      <th>1</th>\n",
       "      <td>2.308393</td>\n",
       "      <td>11.383333</td>\n",
       "      <td>{\"x\": -122.300815, \"y\": 47.023904, \"spatialRef...</td>\n",
       "      <td>371889957</td>\n",
       "      <td>-122.300815</td>\n",
       "      <td>47.023904</td>\n",
       "      <td>24</td>\n",
       "      <td>25</td>\n",
       "      <td>530530731162</td>\n",
       "      <td>530530731.162</td>\n",
       "    </tr>\n",
       "    <tr>\n",
       "      <th>2</th>\n",
       "      <td>2.473057</td>\n",
       "      <td>9.300000</td>\n",
       "      <td>{\"x\": -122.300816, \"y\": 47.023913, \"spatialRef...</td>\n",
       "      <td>371889957</td>\n",
       "      <td>-122.300816</td>\n",
       "      <td>47.023913</td>\n",
       "      <td>24</td>\n",
       "      <td>25</td>\n",
       "      <td>530530731162</td>\n",
       "      <td>530530731.162</td>\n",
       "    </tr>\n",
       "    <tr>\n",
       "      <th>3</th>\n",
       "      <td>2.199032</td>\n",
       "      <td>6.200000</td>\n",
       "      <td>{\"x\": -122.300817, \"y\": 47.023921, \"spatialRef...</td>\n",
       "      <td>371889957</td>\n",
       "      <td>-122.300817</td>\n",
       "      <td>47.023921</td>\n",
       "      <td>24</td>\n",
       "      <td>25</td>\n",
       "      <td>530530731162</td>\n",
       "      <td>530530731.162</td>\n",
       "    </tr>\n",
       "    <tr>\n",
       "      <th>4</th>\n",
       "      <td>2.154293</td>\n",
       "      <td>6.200000</td>\n",
       "      <td>{\"x\": -122.300816, \"y\": 47.023912, \"spatialRef...</td>\n",
       "      <td>371889957</td>\n",
       "      <td>-122.300816</td>\n",
       "      <td>47.023912</td>\n",
       "      <td>24</td>\n",
       "      <td>25</td>\n",
       "      <td>530530731162</td>\n",
       "      <td>530530731.162</td>\n",
       "    </tr>\n",
       "  </tbody>\n",
       "</table>\n",
       "</div>"
      ],
      "text/plain": [
       "   travel_distance_miles  travel_time_minutes  \\\n",
       "0               2.426454             9.316667   \n",
       "1               2.308393            11.383333   \n",
       "2               2.473057             9.300000   \n",
       "3               2.199032             6.200000   \n",
       "4               2.154293             6.200000   \n",
       "\n",
       "                                               SHAPE store_locnum           x  \\\n",
       "0  {\"x\": -122.300817, \"y\": 47.023922, \"spatialRef...    371889957 -122.300817   \n",
       "1  {\"x\": -122.300815, \"y\": 47.023904, \"spatialRef...    371889957 -122.300815   \n",
       "2  {\"x\": -122.300816, \"y\": 47.023913, \"spatialRef...    371889957 -122.300816   \n",
       "3  {\"x\": -122.300817, \"y\": 47.023921, \"spatialRef...    371889957 -122.300817   \n",
       "4  {\"x\": -122.300816, \"y\": 47.023912, \"spatialRef...    371889957 -122.300816   \n",
       "\n",
       "           y  index_origin  OBJECTID            ID           NAME  \n",
       "0  47.023922            24        25  530530731162  530530731.162  \n",
       "1  47.023904            24        25  530530731162  530530731.162  \n",
       "2  47.023913            24        25  530530731162  530530731.162  \n",
       "3  47.023921            24        25  530530731162  530530731.162  \n",
       "4  47.023912            24        25  530530731162  530530731.162  "
      ]
     },
     "execution_count": 43,
     "metadata": {},
     "output_type": "execute_result"
    }
   ],
   "source": [
    "dest_join_df = dest_df.spatial.join(origin_df, left_tag='dest', right_tag='origin')\n",
    "dest_join_df.head()"
   ]
  },
  {
   "cell_type": "code",
   "execution_count": 52,
   "metadata": {},
   "outputs": [],
   "source": [
    "origin_id_col = 'ID'\n",
    "dest_id_col = 'store_locnum'\n",
    "count_col = [c for c in dest_join_df if c not in [origin_id_col, dest_id_col]][0]\n",
    "\n",
    "count_df = dest_join_df[[origin_id_col, dest_id_col, count_col]].groupby([origin_id_col, dest_id_col]).count().reset_index()\n",
    "count_df. columns = ['origin_id', 'destination_id', 'count']\n",
    "count_df.to_csv(str(interim_dir/'cust_count_inrix.csv'))"
   ]
  },
  {
   "cell_type": "code",
   "execution_count": 54,
   "metadata": {},
   "outputs": [
    {
     "data": {
      "text/html": [
       "<div>\n",
       "<style scoped>\n",
       "    .dataframe tbody tr th:only-of-type {\n",
       "        vertical-align: middle;\n",
       "    }\n",
       "\n",
       "    .dataframe tbody tr th {\n",
       "        vertical-align: top;\n",
       "    }\n",
       "\n",
       "    .dataframe thead th {\n",
       "        text-align: right;\n",
       "    }\n",
       "</style>\n",
       "<table border=\"1\" class=\"dataframe\">\n",
       "  <thead>\n",
       "    <tr style=\"text-align: right;\">\n",
       "      <th></th>\n",
       "      <th>OBJECTID</th>\n",
       "      <th>ID</th>\n",
       "      <th>NAME</th>\n",
       "      <th>SHAPE</th>\n",
       "    </tr>\n",
       "  </thead>\n",
       "  <tbody>\n",
       "    <tr>\n",
       "      <th>0</th>\n",
       "      <td>1</td>\n",
       "      <td>530530701003</td>\n",
       "      <td>530530701.003</td>\n",
       "      <td>{\"rings\": [[[-122.06627999999995, 47.076520000...</td>\n",
       "    </tr>\n",
       "    <tr>\n",
       "      <th>1</th>\n",
       "      <td>2</td>\n",
       "      <td>530530714071</td>\n",
       "      <td>530530714.071</td>\n",
       "      <td>{\"rings\": [[[-122.34031999999996, 47.071510000...</td>\n",
       "    </tr>\n",
       "    <tr>\n",
       "      <th>2</th>\n",
       "      <td>3</td>\n",
       "      <td>530530714072</td>\n",
       "      <td>530530714.072</td>\n",
       "      <td>{\"rings\": [[[-122.35767999999996, 47.067370000...</td>\n",
       "    </tr>\n",
       "    <tr>\n",
       "      <th>3</th>\n",
       "      <td>4</td>\n",
       "      <td>530530714073</td>\n",
       "      <td>530530714.073</td>\n",
       "      <td>{\"rings\": [[[-122.36847999999998, 47.067630000...</td>\n",
       "    </tr>\n",
       "    <tr>\n",
       "      <th>4</th>\n",
       "      <td>5</td>\n",
       "      <td>530530714112</td>\n",
       "      <td>530530714.112</td>\n",
       "      <td>{\"rings\": [[[-122.41108999999994, 47.071690000...</td>\n",
       "    </tr>\n",
       "  </tbody>\n",
       "</table>\n",
       "</div>"
      ],
      "text/plain": [
       "   OBJECTID            ID           NAME  \\\n",
       "0         1  530530701003  530530701.003   \n",
       "1         2  530530714071  530530714.071   \n",
       "2         3  530530714072  530530714.072   \n",
       "3         4  530530714073  530530714.073   \n",
       "4         5  530530714112  530530714.112   \n",
       "\n",
       "                                               SHAPE  \n",
       "0  {\"rings\": [[[-122.06627999999995, 47.076520000...  \n",
       "1  {\"rings\": [[[-122.34031999999996, 47.071510000...  \n",
       "2  {\"rings\": [[[-122.35767999999996, 47.067370000...  \n",
       "3  {\"rings\": [[[-122.36847999999998, 47.067630000...  \n",
       "4  {\"rings\": [[[-122.41108999999994, 47.071690000...  "
      ]
     },
     "execution_count": 54,
     "metadata": {},
     "output_type": "execute_result"
    }
   ],
   "source": [
    "origin_df.head()"
   ]
  },
  {
   "cell_type": "code",
   "execution_count": 55,
   "metadata": {},
   "outputs": [
    {
     "data": {
      "text/html": [
       "<div>\n",
       "<style scoped>\n",
       "    .dataframe tbody tr th:only-of-type {\n",
       "        vertical-align: middle;\n",
       "    }\n",
       "\n",
       "    .dataframe tbody tr th {\n",
       "        vertical-align: top;\n",
       "    }\n",
       "\n",
       "    .dataframe thead th {\n",
       "        text-align: right;\n",
       "    }\n",
       "</style>\n",
       "<table border=\"1\" class=\"dataframe\">\n",
       "  <thead>\n",
       "    <tr style=\"text-align: right;\">\n",
       "      <th></th>\n",
       "      <th>origin_id</th>\n",
       "      <th>destination_id</th>\n",
       "      <th>count</th>\n",
       "    </tr>\n",
       "  </thead>\n",
       "  <tbody>\n",
       "    <tr>\n",
       "      <th>0</th>\n",
       "      <td>530330001001</td>\n",
       "      <td>425477834</td>\n",
       "      <td>1</td>\n",
       "    </tr>\n",
       "    <tr>\n",
       "      <th>1</th>\n",
       "      <td>530330001001</td>\n",
       "      <td>426576447</td>\n",
       "      <td>1</td>\n",
       "    </tr>\n",
       "    <tr>\n",
       "      <th>2</th>\n",
       "      <td>530330001001</td>\n",
       "      <td>439724905</td>\n",
       "      <td>2</td>\n",
       "    </tr>\n",
       "    <tr>\n",
       "      <th>3</th>\n",
       "      <td>530330001001</td>\n",
       "      <td>714937939</td>\n",
       "      <td>2</td>\n",
       "    </tr>\n",
       "    <tr>\n",
       "      <th>4</th>\n",
       "      <td>530330001001</td>\n",
       "      <td>718542034</td>\n",
       "      <td>1</td>\n",
       "    </tr>\n",
       "  </tbody>\n",
       "</table>\n",
       "</div>"
      ],
      "text/plain": [
       "      origin_id destination_id  count\n",
       "0  530330001001      425477834      1\n",
       "1  530330001001      426576447      1\n",
       "2  530330001001      439724905      2\n",
       "3  530330001001      714937939      2\n",
       "4  530330001001      718542034      1"
      ]
     },
     "execution_count": 55,
     "metadata": {},
     "output_type": "execute_result"
    }
   ],
   "source": [
    "count_df.head()"
   ]
  },
  {
   "cell_type": "code",
   "execution_count": 56,
   "metadata": {},
   "outputs": [
    {
     "name": "stdout",
     "output_type": "stream",
     "text": [
      "<class 'pandas.core.frame.DataFrame'>\n",
      "RangeIndex: 7866 entries, 0 to 7865\n",
      "Data columns (total 3 columns):\n",
      "origin_id         7866 non-null object\n",
      "destination_id    7866 non-null object\n",
      "count             7866 non-null int64\n",
      "dtypes: int64(1), object(2)\n",
      "memory usage: 184.4+ KB\n"
     ]
    }
   ],
   "source": [
    "count_df.info()"
   ]
  },
  {
   "cell_type": "code",
   "execution_count": 63,
   "metadata": {},
   "outputs": [
    {
     "data": {
      "text/plain": [
       "origin_id\n",
       "530330027001    1\n",
       "530330066001    1\n",
       "530330067001    1\n",
       "530330093001    1\n",
       "530330093002    1\n",
       "Name: count, dtype: int64"
      ]
     },
     "execution_count": 63,
     "metadata": {},
     "output_type": "execute_result"
    }
   ],
   "source": [
    "count_srs = count_df[count_df['destination_id'] == str(409083547)].copy().set_index('origin_id')['count']\n",
    "count_srs.head()"
   ]
  },
  {
   "cell_type": "code",
   "execution_count": 162,
   "metadata": {},
   "outputs": [
    {
     "data": {
      "text/html": [
       "<div>\n",
       "<style scoped>\n",
       "    .dataframe tbody tr th:only-of-type {\n",
       "        vertical-align: middle;\n",
       "    }\n",
       "\n",
       "    .dataframe tbody tr th {\n",
       "        vertical-align: top;\n",
       "    }\n",
       "\n",
       "    .dataframe thead th {\n",
       "        text-align: right;\n",
       "    }\n",
       "</style>\n",
       "<table border=\"1\" class=\"dataframe\">\n",
       "  <thead>\n",
       "    <tr style=\"text-align: right;\">\n",
       "      <th></th>\n",
       "      <th>OBJECTID</th>\n",
       "      <th>ID</th>\n",
       "      <th>NAME</th>\n",
       "      <th>SHAPE</th>\n",
       "      <th>count</th>\n",
       "    </tr>\n",
       "  </thead>\n",
       "  <tbody>\n",
       "    <tr>\n",
       "      <th>86</th>\n",
       "      <td>87</td>\n",
       "      <td>530330279001</td>\n",
       "      <td>530330279.001</td>\n",
       "      <td>{\"rings\": [[[-122.33389999899998, 47.466890000...</td>\n",
       "      <td>1.0</td>\n",
       "    </tr>\n",
       "    <tr>\n",
       "      <th>88</th>\n",
       "      <td>89</td>\n",
       "      <td>530330279003</td>\n",
       "      <td>530330279.003</td>\n",
       "      <td>{\"rings\": [[[-122.34454, 47.46583000000004], [...</td>\n",
       "      <td>10.0</td>\n",
       "    </tr>\n",
       "    <tr>\n",
       "      <th>113</th>\n",
       "      <td>114</td>\n",
       "      <td>530330290012</td>\n",
       "      <td>530330290.012</td>\n",
       "      <td>{\"rings\": [[[-122.31321999999994, 47.393520000...</td>\n",
       "      <td>1.0</td>\n",
       "    </tr>\n",
       "    <tr>\n",
       "      <th>121</th>\n",
       "      <td>122</td>\n",
       "      <td>530330301003</td>\n",
       "      <td>530330301.003</td>\n",
       "      <td>{\"rings\": [[[-122.32236499999999, 47.347857000...</td>\n",
       "      <td>1.0</td>\n",
       "    </tr>\n",
       "    <tr>\n",
       "      <th>139</th>\n",
       "      <td>140</td>\n",
       "      <td>530330303053</td>\n",
       "      <td>530330303.053</td>\n",
       "      <td>{\"rings\": [[[-122.37768899999998, 47.313293000...</td>\n",
       "      <td>1.0</td>\n",
       "    </tr>\n",
       "  </tbody>\n",
       "</table>\n",
       "</div>"
      ],
      "text/plain": [
       "     OBJECTID            ID           NAME  \\\n",
       "86         87  530330279001  530330279.001   \n",
       "88         89  530330279003  530330279.003   \n",
       "113       114  530330290012  530330290.012   \n",
       "121       122  530330301003  530330301.003   \n",
       "139       140  530330303053  530330303.053   \n",
       "\n",
       "                                                 SHAPE  count  \n",
       "86   {\"rings\": [[[-122.33389999899998, 47.466890000...    1.0  \n",
       "88   {\"rings\": [[[-122.34454, 47.46583000000004], [...   10.0  \n",
       "113  {\"rings\": [[[-122.31321999999994, 47.393520000...    1.0  \n",
       "121  {\"rings\": [[[-122.32236499999999, 47.347857000...    1.0  \n",
       "139  {\"rings\": [[[-122.37768899999998, 47.313293000...    1.0  "
      ]
     },
     "execution_count": 162,
     "metadata": {},
     "output_type": "execute_result"
    }
   ],
   "source": [
    "origin_count_df = origin_df.join(count_srs, 'ID')\n",
    "origin_count_df = origin_count_df[pd.notna(origin_count_df['count'])].copy()\n",
    "origin_count_df.head()"
   ]
  },
  {
   "cell_type": "code",
   "execution_count": 163,
   "metadata": {},
   "outputs": [
    {
     "ename": "ExecuteError",
     "evalue": "ERROR 000464: Cannot get exclusive schema lock.  Either being edited or in use by another application or service.\nFailed to execute (Delete).\n",
     "output_type": "error",
     "traceback": [
      "\u001b[1;31m---------------------------------------------------------------------------\u001b[0m",
      "\u001b[1;31mExecuteError\u001b[0m                              Traceback (most recent call last)",
      "\u001b[1;32m<ipython-input-163-307e3dbc723e>\u001b[0m in \u001b[0;36m<module>\u001b[1;34m\u001b[0m\n\u001b[1;32m----> 1\u001b[1;33m \u001b[0morigin_count_df\u001b[0m\u001b[1;33m.\u001b[0m\u001b[0mspatial\u001b[0m\u001b[1;33m.\u001b[0m\u001b[0mto_featureclass\u001b[0m\u001b[1;33m(\u001b[0m\u001b[0mstr\u001b[0m\u001b[1;33m(\u001b[0m\u001b[0minterim_gdb\u001b[0m\u001b[1;33m/\u001b[0m\u001b[1;34m'block_groups_409083547'\u001b[0m\u001b[1;33m)\u001b[0m\u001b[1;33m)\u001b[0m\u001b[1;33m\u001b[0m\u001b[1;33m\u001b[0m\u001b[0m\n\u001b[0m",
      "\u001b[1;32mC:\\Program Files\\ArcGIS\\Pro\\bin\\Python\\envs\\arcgis\\lib\\site-packages\\arcgis\\features\\geo\\_accessor.py\u001b[0m in \u001b[0;36mto_featureclass\u001b[1;34m(self, location, overwrite)\u001b[0m\n\u001b[0;32m   1924\u001b[0m         return to_featureclass(geo=self,\n\u001b[0;32m   1925\u001b[0m                                \u001b[0mlocation\u001b[0m\u001b[1;33m=\u001b[0m\u001b[0mlocation\u001b[0m\u001b[1;33m,\u001b[0m\u001b[1;33m\u001b[0m\u001b[1;33m\u001b[0m\u001b[0m\n\u001b[1;32m-> 1926\u001b[1;33m                                overwrite=overwrite)\n\u001b[0m\u001b[0;32m   1927\u001b[0m     \u001b[1;31m#----------------------------------------------------------------------\u001b[0m\u001b[1;33m\u001b[0m\u001b[1;33m\u001b[0m\u001b[1;33m\u001b[0m\u001b[0m\n\u001b[0;32m   1928\u001b[0m     \u001b[1;32mdef\u001b[0m \u001b[0mto_table\u001b[0m\u001b[1;33m(\u001b[0m\u001b[0mself\u001b[0m\u001b[1;33m,\u001b[0m \u001b[0mlocation\u001b[0m\u001b[1;33m,\u001b[0m \u001b[0moverwrite\u001b[0m\u001b[1;33m=\u001b[0m\u001b[1;32mTrue\u001b[0m\u001b[1;33m)\u001b[0m\u001b[1;33m:\u001b[0m\u001b[1;33m\u001b[0m\u001b[1;33m\u001b[0m\u001b[0m\n",
      "\u001b[1;32mC:\\Program Files\\ArcGIS\\Pro\\bin\\Python\\envs\\arcgis\\lib\\site-packages\\arcgis\\features\\geo\\_io\\fileops.py\u001b[0m in \u001b[0;36mto_featureclass\u001b[1;34m(geo, location, overwrite, validate)\u001b[0m\n\u001b[0;32m    515\u001b[0m         \u001b[0mdtypes\u001b[0m \u001b[1;33m=\u001b[0m \u001b[1;33m[\u001b[0m\u001b[1;33m(\u001b[0m\u001b[0mjoin_dummy\u001b[0m\u001b[1;33m,\u001b[0m \u001b[0mnp\u001b[0m\u001b[1;33m.\u001b[0m\u001b[0mint64\u001b[0m\u001b[1;33m)\u001b[0m\u001b[1;33m]\u001b[0m\u001b[1;33m\u001b[0m\u001b[1;33m\u001b[0m\u001b[0m\n\u001b[0;32m    516\u001b[0m         \u001b[1;32mif\u001b[0m \u001b[0moverwrite\u001b[0m \u001b[1;32mand\u001b[0m \u001b[0marcpy\u001b[0m\u001b[1;33m.\u001b[0m\u001b[0mExists\u001b[0m\u001b[1;33m(\u001b[0m\u001b[0mlocation\u001b[0m\u001b[1;33m)\u001b[0m\u001b[1;33m:\u001b[0m\u001b[1;33m\u001b[0m\u001b[1;33m\u001b[0m\u001b[0m\n\u001b[1;32m--> 517\u001b[1;33m             \u001b[0marcpy\u001b[0m\u001b[1;33m.\u001b[0m\u001b[0mDelete_management\u001b[0m\u001b[1;33m(\u001b[0m\u001b[0mlocation\u001b[0m\u001b[1;33m)\u001b[0m\u001b[1;33m\u001b[0m\u001b[1;33m\u001b[0m\u001b[0m\n\u001b[0m\u001b[0;32m    518\u001b[0m         \u001b[1;32melif\u001b[0m \u001b[0moverwrite\u001b[0m \u001b[1;33m==\u001b[0m \u001b[1;32mFalse\u001b[0m \u001b[1;32mand\u001b[0m \u001b[0marcpy\u001b[0m\u001b[1;33m.\u001b[0m\u001b[0mExists\u001b[0m\u001b[1;33m(\u001b[0m\u001b[0mlocation\u001b[0m\u001b[1;33m)\u001b[0m\u001b[1;33m:\u001b[0m\u001b[1;33m\u001b[0m\u001b[1;33m\u001b[0m\u001b[0m\n\u001b[0;32m    519\u001b[0m             raise ValueError(('overwrite set to False, Cannot '\n",
      "\u001b[1;32mC:\\Program Files\\ArcGIS\\Pro\\Resources\\ArcPy\\arcpy\\management.py\u001b[0m in \u001b[0;36mDelete\u001b[1;34m(in_data, data_type)\u001b[0m\n\u001b[0;32m   5049\u001b[0m         \u001b[1;32mreturn\u001b[0m \u001b[0mretval\u001b[0m\u001b[1;33m\u001b[0m\u001b[1;33m\u001b[0m\u001b[0m\n\u001b[0;32m   5050\u001b[0m     \u001b[1;32mexcept\u001b[0m \u001b[0mException\u001b[0m \u001b[1;32mas\u001b[0m \u001b[0me\u001b[0m\u001b[1;33m:\u001b[0m\u001b[1;33m\u001b[0m\u001b[1;33m\u001b[0m\u001b[0m\n\u001b[1;32m-> 5051\u001b[1;33m         \u001b[1;32mraise\u001b[0m \u001b[0me\u001b[0m\u001b[1;33m\u001b[0m\u001b[1;33m\u001b[0m\u001b[0m\n\u001b[0m\u001b[0;32m   5052\u001b[0m \u001b[1;33m\u001b[0m\u001b[0m\n\u001b[0;32m   5053\u001b[0m \u001b[1;33m@\u001b[0m\u001b[0mgptooldoc\u001b[0m\u001b[1;33m(\u001b[0m\u001b[1;34m'DeleteIdentical_management'\u001b[0m\u001b[1;33m,\u001b[0m \u001b[1;32mNone\u001b[0m\u001b[1;33m)\u001b[0m\u001b[1;33m\u001b[0m\u001b[1;33m\u001b[0m\u001b[0m\n",
      "\u001b[1;32mC:\\Program Files\\ArcGIS\\Pro\\Resources\\ArcPy\\arcpy\\management.py\u001b[0m in \u001b[0;36mDelete\u001b[1;34m(in_data, data_type)\u001b[0m\n\u001b[0;32m   5046\u001b[0m     \u001b[1;32mfrom\u001b[0m \u001b[0marcpy\u001b[0m\u001b[1;33m.\u001b[0m\u001b[0marcobjects\u001b[0m\u001b[1;33m.\u001b[0m\u001b[0marcobjectconversion\u001b[0m \u001b[1;32mimport\u001b[0m \u001b[0mconvertArcObjectToPythonObject\u001b[0m\u001b[1;33m\u001b[0m\u001b[1;33m\u001b[0m\u001b[0m\n\u001b[0;32m   5047\u001b[0m     \u001b[1;32mtry\u001b[0m\u001b[1;33m:\u001b[0m\u001b[1;33m\u001b[0m\u001b[1;33m\u001b[0m\u001b[0m\n\u001b[1;32m-> 5048\u001b[1;33m         \u001b[0mretval\u001b[0m \u001b[1;33m=\u001b[0m \u001b[0mconvertArcObjectToPythonObject\u001b[0m\u001b[1;33m(\u001b[0m\u001b[0mgp\u001b[0m\u001b[1;33m.\u001b[0m\u001b[0mDelete_management\u001b[0m\u001b[1;33m(\u001b[0m\u001b[1;33m*\u001b[0m\u001b[0mgp_fixargs\u001b[0m\u001b[1;33m(\u001b[0m\u001b[1;33m(\u001b[0m\u001b[0min_data\u001b[0m\u001b[1;33m,\u001b[0m \u001b[0mdata_type\u001b[0m\u001b[1;33m)\u001b[0m\u001b[1;33m,\u001b[0m \u001b[1;32mTrue\u001b[0m\u001b[1;33m)\u001b[0m\u001b[1;33m)\u001b[0m\u001b[1;33m)\u001b[0m\u001b[1;33m\u001b[0m\u001b[1;33m\u001b[0m\u001b[0m\n\u001b[0m\u001b[0;32m   5049\u001b[0m         \u001b[1;32mreturn\u001b[0m \u001b[0mretval\u001b[0m\u001b[1;33m\u001b[0m\u001b[1;33m\u001b[0m\u001b[0m\n\u001b[0;32m   5050\u001b[0m     \u001b[1;32mexcept\u001b[0m \u001b[0mException\u001b[0m \u001b[1;32mas\u001b[0m \u001b[0me\u001b[0m\u001b[1;33m:\u001b[0m\u001b[1;33m\u001b[0m\u001b[1;33m\u001b[0m\u001b[0m\n",
      "\u001b[1;32mC:\\Program Files\\ArcGIS\\Pro\\Resources\\ArcPy\\arcpy\\geoprocessing\\_base.py\u001b[0m in \u001b[0;36m<lambda>\u001b[1;34m(*args)\u001b[0m\n\u001b[0;32m    504\u001b[0m         \u001b[0mval\u001b[0m \u001b[1;33m=\u001b[0m \u001b[0mgetattr\u001b[0m\u001b[1;33m(\u001b[0m\u001b[0mself\u001b[0m\u001b[1;33m.\u001b[0m\u001b[0m_gp\u001b[0m\u001b[1;33m,\u001b[0m \u001b[0mattr\u001b[0m\u001b[1;33m)\u001b[0m\u001b[1;33m\u001b[0m\u001b[1;33m\u001b[0m\u001b[0m\n\u001b[0;32m    505\u001b[0m         \u001b[1;32mif\u001b[0m \u001b[0mcallable\u001b[0m\u001b[1;33m(\u001b[0m\u001b[0mval\u001b[0m\u001b[1;33m)\u001b[0m\u001b[1;33m:\u001b[0m\u001b[1;33m\u001b[0m\u001b[1;33m\u001b[0m\u001b[0m\n\u001b[1;32m--> 506\u001b[1;33m             \u001b[1;32mreturn\u001b[0m \u001b[1;32mlambda\u001b[0m \u001b[1;33m*\u001b[0m\u001b[0margs\u001b[0m\u001b[1;33m:\u001b[0m \u001b[0mval\u001b[0m\u001b[1;33m(\u001b[0m\u001b[1;33m*\u001b[0m\u001b[0mgp_fixargs\u001b[0m\u001b[1;33m(\u001b[0m\u001b[0margs\u001b[0m\u001b[1;33m,\u001b[0m \u001b[1;32mTrue\u001b[0m\u001b[1;33m)\u001b[0m\u001b[1;33m)\u001b[0m\u001b[1;33m\u001b[0m\u001b[1;33m\u001b[0m\u001b[0m\n\u001b[0m\u001b[0;32m    507\u001b[0m         \u001b[1;32melse\u001b[0m\u001b[1;33m:\u001b[0m\u001b[1;33m\u001b[0m\u001b[1;33m\u001b[0m\u001b[0m\n\u001b[0;32m    508\u001b[0m             \u001b[1;32mreturn\u001b[0m \u001b[0mconvertArcObjectToPythonObject\u001b[0m\u001b[1;33m(\u001b[0m\u001b[0mval\u001b[0m\u001b[1;33m)\u001b[0m\u001b[1;33m\u001b[0m\u001b[1;33m\u001b[0m\u001b[0m\n",
      "\u001b[1;31mExecuteError\u001b[0m: ERROR 000464: Cannot get exclusive schema lock.  Either being edited or in use by another application or service.\nFailed to execute (Delete).\n"
     ]
    }
   ],
   "source": [
    "origin_count_df.spatial.to_featureclass(str(interim_gdb/'block_groups_409083547'))"
   ]
  },
  {
   "cell_type": "code",
   "execution_count": 164,
   "metadata": {},
   "outputs": [],
   "source": [
    "sing_dest_df = dest_join_df[dest_join_df['store_locnum'] == str(409083547)]"
   ]
  },
  {
   "cell_type": "code",
   "execution_count": 203,
   "metadata": {},
   "outputs": [
    {
     "data": {
      "image/png": "[encoded data removed]",
      "text/plain": [
       "<Figure size 1440x360 with 1 Axes>"
      ]
     },
     "metadata": {},
     "output_type": "display_data"
    }
   ],
   "source": [
    "ax_time = dest_df.travel_time_minutes[dest_df.travel_time_minutes < 45].hist(bins=35, figsize=(20, 5))"
   ]
  },
  {
   "cell_type": "code",
   "execution_count": 204,
   "metadata": {},
   "outputs": [],
   "source": [
    "ax_time.get_figure().savefig('./drive_time.png')"
   ]
  },
  {
   "cell_type": "code",
   "execution_count": 205,
   "metadata": {},
   "outputs": [
    {
     "data": {
      "image/png": "[encoded data removed]",
      "text/plain": [
       "<Figure size 1440x360 with 1 Axes>"
      ]
     },
     "metadata": {},
     "output_type": "display_data"
    }
   ],
   "source": [
    "ax_dist = dest_df.travel_distance_miles[dest_df.travel_time_minutes < 45].hist(bins=35, figsize=(20, 5))"
   ]
  },
  {
   "cell_type": "code",
   "execution_count": 206,
   "metadata": {},
   "outputs": [],
   "source": [
    "ax_time.get_figure().savefig('./drive_dist.png')"
   ]
  },
  {
   "cell_type": "code",
   "execution_count": 222,
   "metadata": {},
   "outputs": [
    {
     "name": "stdout",
     "output_type": "stream",
     "text": [
      "mean distance -   6.264441982749813\n",
      "mean time -       17.191594081469976\n",
      "median distance - 2.711041673\n",
      "median time -     12.116666666666667\n",
      "std distance -    11.608082121750348\n",
      "std time -        17.909360176252484\n"
     ]
    }
   ],
   "source": [
    "print(f'mean distance -   {dest_df.travel_distance_miles.mean()}')\n",
    "print(f'mean time -       {dest_df.travel_time_minutes.mean()}')\n",
    "print(f'median distance - {dest_df.travel_distance_miles.median()}')\n",
    "print(f'median time -     {dest_df.travel_time_minutes.median()}')\n",
    "print(f'std distance -    {dest_df.travel_distance_miles.std()}')\n",
    "print(f'std time -        {dest_df.travel_time_minutes.std()}')"
   ]
  },
  {
   "cell_type": "code",
   "execution_count": 214,
   "metadata": {},
   "outputs": [
    {
     "name": "stdout",
     "output_type": "stream",
     "text": [
      "45,831\n"
     ]
    }
   ],
   "source": [
    "import math\n",
    "\n",
    "cust_80_count = math.floor(len(dest_df.index) * .8)\n",
    "print(f'{cust_80_count:,}')"
   ]
  },
  {
   "cell_type": "code",
   "execution_count": 220,
   "metadata": {},
   "outputs": [
    {
     "data": {
      "text/plain": [
       "9.062074664"
      ]
     },
     "execution_count": 220,
     "metadata": {},
     "output_type": "execute_result"
    }
   ],
   "source": [
    "dest_df.sort_values('travel_distance_miles', ascending=True).iloc[cust_80_count]['travel_distance_miles']"
   ]
  },
  {
   "cell_type": "code",
   "execution_count": 109,
   "metadata": {},
   "outputs": [
    {
     "data": {
      "application/vnd.jupyter.widget-view+json": {
       "model_id": "b18316e4ca2c470b92ed8f762aca0cc7",
       "version_major": 2,
       "version_minor": 0
      },
      "text/plain": [
       "MapView(layout=Layout(height='400px', width='100%'))"
      ]
     },
     "metadata": {},
     "output_type": "display_data"
    },
    {
     "data": {
      "text/html": [
       "<div class=\"map-static-img-preview-450e9684-3c14-48b6-99d7-26277295ee5f\"><img src=\"\"></img></div>"
      ],
      "text/plain": [
       "<IPython.core.display.HTML object>"
      ]
     },
     "metadata": {},
     "output_type": "display_data"
    }
   ],
   "source": [
    "sing_dest_df = sing_dest_df[['store_locnum', 'ID', 'SHAPE']].copy()\n",
    "sing_dest_df.columns = ['destination_id', 'origin_id', 'SHAPE']\n",
    "sing_dest_df.spatial.plot()"
   ]
  },
  {
   "cell_type": "code",
   "execution_count": 110,
   "metadata": {},
   "outputs": [
    {
     "data": {
      "text/plain": [
       "'D:\\\\projects\\\\geoai-retail\\\\data\\\\interim\\\\interim.gdb\\\\trips_raw_409083547'"
      ]
     },
     "execution_count": 110,
     "metadata": {},
     "output_type": "execute_result"
    }
   ],
   "source": [
    "sing_dest_df.spatial.to_featureclass(str(interim_gdb/'trips_raw_409083547'))"
   ]
  },
  {
   "cell_type": "code",
   "execution_count": 112,
   "metadata": {},
   "outputs": [],
   "source": [
    "self = ba_data"
   ]
  },
  {
   "cell_type": "code",
   "execution_count": 116,
   "metadata": {},
   "outputs": [
    {
     "data": {
      "text/plain": [
       "<arcpy._mp.Layer at 0x1e752ab83c8>"
      ]
     },
     "execution_count": 116,
     "metadata": {},
     "output_type": "execute_result"
    }
   ],
   "source": [
    "fc_businesses = os.path.join(self.usa_data_path, r'Data\\Business Data\\BA_BUS_2018.gdb\\us_businesses')\n",
    "lyr_businesses = arcpy.management.MakeFeatureLayer(fc_businesses)[0]\n",
    "lyr_businesses"
   ]
  },
  {
   "cell_type": "code",
   "execution_count": 118,
   "metadata": {},
   "outputs": [],
   "source": [
    "naics_codes = 0\n",
    "sic_codes = 'yes'"
   ]
  },
  {
   "cell_type": "code",
   "execution_count": 124,
   "metadata": {},
   "outputs": [],
   "source": [
    "codes = naics_codes"
   ]
  },
  {
   "cell_type": "code",
   "execution_count": 133,
   "metadata": {},
   "outputs": [],
   "source": [
    "biz_lyr = arcpy.management.MakeFeatureLayer(dest_fc)\n",
    "\n",
    "naics_code_lst = set(r[0] for r in arcpy.da.SearchCursor(biz_lyr, 'NAICS'))\n",
    "naics_sql = ' OR '.join(f\"NAICS = '{naics}'\" for naics in naics_code_lst)\n",
    "\n",
    "existing_locnum_lst = [r[0] for r in arcpy.da.SearchCursor(biz_lyr, 'LOCNUM')]\n",
    "existing_sql = ' AND '.join([f\"LOCNUM <> '{locnum}'\" for locnum in existing_locnum_lst])\n",
    "\n",
    "sql = f\"{naics_sql} AND ({existing_sql})\"\n",
    "\n",
    "comp_lyr = ba_data.layer_businesses\n",
    "comp_lyr.definitionQuery = sql"
   ]
  },
  {
   "cell_type": "code",
   "execution_count": 157,
   "metadata": {},
   "outputs": [
    {
     "name": "stdout",
     "output_type": "stream",
     "text": [
      "17,276\n"
     ]
    }
   ],
   "source": [
    "print(f'{int(arcpy.management.GetCount(comp_lyr)[0]):,}')"
   ]
  },
  {
   "cell_type": "code",
   "execution_count": 159,
   "metadata": {},
   "outputs": [
    {
     "name": "stdout",
     "output_type": "stream",
     "text": [
      "17,276\n"
     ]
    }
   ],
   "source": [
    "comp_lyr = ba_data.get_business_competitor_layer(biz_lyr)\n",
    "print(f'{int(arcpy.management.GetCount(comp_lyr)[0]):,}')"
   ]
  },
  {
   "cell_type": "code",
   "execution_count": null,
   "metadata": {},
   "outputs": [],
   "source": []
  }
 ],
 "metadata": {
  "kernelspec": {
   "display_name": "Python 3",
   "language": "python",
   "name": "python3"
  },
  "language_info": {
   "codemirror_mode": {
    "name": "ipython",
    "version": 3
   },
   "file_extension": ".py",
   "mimetype": "text/x-python",
   "name": "python",
   "nbconvert_exporter": "python",
   "pygments_lexer": "ipython3",
   "version": "3.6.8"
  }
 },
 "nbformat": 4,
 "nbformat_minor": 2
}
