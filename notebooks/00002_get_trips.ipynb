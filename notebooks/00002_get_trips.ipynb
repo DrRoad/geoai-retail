{
 "cells": [
  {
   "cell_type": "code",
   "execution_count": 1,
   "metadata": {
    "collapsed": true
   },
   "outputs": [],
   "source": [
    "# minimal module imports\n",
    "from arcgis.features import GeoAccessor, GeoSeriesAccessor\n",
    "from arcgis.features import FeatureLayer\n",
    "from arcgis.geometry import Geometry\n",
    "import pandas as pd\n",
    "import os\n",
    "import importlib\n",
    "\n",
    "# import arcpy if available\n",
    "if importlib.util.find_spec(\"arcpy\") is not None:\n",
    "    import arcpy\n",
    "    \n",
    "import sys\n",
    "sys.path.append('../src')\n",
    "\n",
    "app_id = 'c9fa4c15-b9ab-46d4-bcd9-a3eb33dd0ff8'\n",
    "hash_token = '919745fda981ddccb3ffc4f07863480e624cfa3d'\n",
    "\n",
    "raw_gdb = os.path.abspath(r'../data/raw/raw.gdb')\n",
    "int_gdb = os.path.abspath(r'../data/interim/interim.gdb')\n",
    "\n",
    "dest_fc = os.path.join(int_gdb, 'pdx_businesses_home_goods')\n",
    "dest_id_fld = 'LOCNUM'\n",
    "origin_fc = os.path.join(raw_gdb, 'block_groups')\n",
    "origin_id_fld = 'ID'\n",
    "\n",
    "from inrix import TAZ\n",
    "taz = TAZ(app_id, hash_token)\n",
    "%load_ext autoreload\n",
    "%autoreload 2"
   ]
  },
  {
   "cell_type": "code",
   "execution_count": 2,
   "metadata": {
    "collapsed": true
   },
   "outputs": [],
   "source": [
    "df_pop_cent = GeoAccessor.from_featureclass(dest_fc)"
   ]
  },
  {
   "cell_type": "code",
   "execution_count": 12,
   "metadata": {},
   "outputs": [],
   "source": [
    "def get_dest_df(geom, locnum):\n",
    "    dest_df = taz.get_trip_destination_spatial_dataframe(geom.y, geom.x, '100m')\n",
    "    if dest_df is not None:\n",
    "        dest_df = dest_df[['travelDistanceMiles', 'travelTimeMinutes', 'SHAPE']].copy()\n",
    "        dest_df.columns = ['travel_distance_miles', 'travel_time_minutes', 'SHAPE']\n",
    "        dest_df['store_locnum'] = locnum\n",
    "        dest_df['x'] = dest_df.SHAPE.apply(lambda geom: geom.x)\n",
    "        dest_df['y'] = dest_df.SHAPE.apply(lambda geom: geom.y)\n",
    "        return dest_df\n",
    "    else:\n",
    "        return None"
   ]
  },
  {
   "cell_type": "code",
   "execution_count": 13,
   "metadata": {},
   "outputs": [
    {
     "data": {
      "text/html": [
       "<div>\n",
       "<style scoped>\n",
       "    .dataframe tbody tr th:only-of-type {\n",
       "        vertical-align: middle;\n",
       "    }\n",
       "\n",
       "    .dataframe tbody tr th {\n",
       "        vertical-align: top;\n",
       "    }\n",
       "\n",
       "    .dataframe thead th {\n",
       "        text-align: right;\n",
       "    }\n",
       "</style>\n",
       "<table border=\"1\" class=\"dataframe\">\n",
       "  <thead>\n",
       "    <tr style=\"text-align: right;\">\n",
       "      <th></th>\n",
       "      <th>travel_distance_miles</th>\n",
       "      <th>travel_time_minutes</th>\n",
       "      <th>SHAPE</th>\n",
       "      <th>store_locnum</th>\n",
       "      <th>x</th>\n",
       "      <th>y</th>\n",
       "    </tr>\n",
       "  </thead>\n",
       "  <tbody>\n",
       "    <tr>\n",
       "      <th>0</th>\n",
       "      <td>0.616400</td>\n",
       "      <td>2.450000</td>\n",
       "      <td>{\"x\": -122.437109, \"y\": 45.513666, \"spatialRef...</td>\n",
       "      <td>560254781</td>\n",
       "      <td>-122.437109</td>\n",
       "      <td>45.513666</td>\n",
       "    </tr>\n",
       "    <tr>\n",
       "      <th>1</th>\n",
       "      <td>0.623856</td>\n",
       "      <td>3.100000</td>\n",
       "      <td>{\"x\": -122.432196, \"y\": 45.499133, \"spatialRef...</td>\n",
       "      <td>560254781</td>\n",
       "      <td>-122.432196</td>\n",
       "      <td>45.499133</td>\n",
       "    </tr>\n",
       "    <tr>\n",
       "      <th>2</th>\n",
       "      <td>1.720576</td>\n",
       "      <td>7.233333</td>\n",
       "      <td>{\"x\": -122.47537, \"y\": 45.50476, \"spatialRefer...</td>\n",
       "      <td>560254781</td>\n",
       "      <td>-122.475370</td>\n",
       "      <td>45.504760</td>\n",
       "    </tr>\n",
       "    <tr>\n",
       "      <th>3</th>\n",
       "      <td>0.150993</td>\n",
       "      <td>9.050000</td>\n",
       "      <td>{\"x\": -122.440825, \"y\": 45.504481, \"spatialRef...</td>\n",
       "      <td>560254781</td>\n",
       "      <td>-122.440825</td>\n",
       "      <td>45.504481</td>\n",
       "    </tr>\n",
       "    <tr>\n",
       "      <th>4</th>\n",
       "      <td>0.884832</td>\n",
       "      <td>6.400000</td>\n",
       "      <td>{\"x\": -122.424017, \"y\": 45.508376, \"spatialRef...</td>\n",
       "      <td>560254781</td>\n",
       "      <td>-122.424017</td>\n",
       "      <td>45.508376</td>\n",
       "    </tr>\n",
       "  </tbody>\n",
       "</table>\n",
       "</div>"
      ],
      "text/plain": [
       "   travel_distance_miles  travel_time_minutes  \\\n",
       "0               0.616400             2.450000   \n",
       "1               0.623856             3.100000   \n",
       "2               1.720576             7.233333   \n",
       "3               0.150993             9.050000   \n",
       "4               0.884832             6.400000   \n",
       "\n",
       "                                               SHAPE store_locnum           x  \\\n",
       "0  {\"x\": -122.437109, \"y\": 45.513666, \"spatialRef...    560254781 -122.437109   \n",
       "1  {\"x\": -122.432196, \"y\": 45.499133, \"spatialRef...    560254781 -122.432196   \n",
       "2  {\"x\": -122.47537, \"y\": 45.50476, \"spatialRefer...    560254781 -122.475370   \n",
       "3  {\"x\": -122.440825, \"y\": 45.504481, \"spatialRef...    560254781 -122.440825   \n",
       "4  {\"x\": -122.424017, \"y\": 45.508376, \"spatialRef...    560254781 -122.424017   \n",
       "\n",
       "           y  \n",
       "0  45.513666  \n",
       "1  45.499133  \n",
       "2  45.504760  \n",
       "3  45.504481  \n",
       "4  45.508376  "
      ]
     },
     "execution_count": 13,
     "metadata": {},
     "output_type": "execute_result"
    }
   ],
   "source": [
    "df = get_dest_df(geom, locnum)\n",
    "df.head()"
   ]
  },
  {
   "cell_type": "code",
   "execution_count": 19,
   "metadata": {},
   "outputs": [
    {
     "name": "stdout",
     "output_type": "stream",
     "text": [
      "Wall time: 16.3 s\n"
     ]
    }
   ],
   "source": [
    "%%time\n",
    "for idx, (locnum, geom) in df_pop_cent[['LOCNUM', 'SHAPE']].iterrows():\n",
    "    new_df = get_dest_df(geom, locnum)\n",
    "    if new_df is not None:\n",
    "        if idx == 0:\n",
    "            dest_df = new_df\n",
    "        else:\n",
    "            dest_df = dest_df.append(new_df)"
   ]
  },
  {
   "cell_type": "code",
   "execution_count": 20,
   "metadata": {},
   "outputs": [
    {
     "name": "stdout",
     "output_type": "stream",
     "text": [
      "<class 'pandas.core.frame.DataFrame'>\n",
      "Int64Index: 65430 entries, 0 to 812\n",
      "Data columns (total 6 columns):\n",
      "travel_distance_miles    65430 non-null float64\n",
      "travel_time_minutes      65430 non-null float64\n",
      "SHAPE                    65430 non-null geometry\n",
      "store_locnum             65430 non-null object\n",
      "x                        65430 non-null float64\n",
      "y                        65430 non-null float64\n",
      "dtypes: float64(4), geometry(1), object(1)\n",
      "memory usage: 3.5+ MB\n"
     ]
    }
   ],
   "source": [
    "dest_df.info()"
   ]
  },
  {
   "cell_type": "code",
   "execution_count": 21,
   "metadata": {},
   "outputs": [
    {
     "data": {
      "text/html": [
       "<div>\n",
       "<style scoped>\n",
       "    .dataframe tbody tr th:only-of-type {\n",
       "        vertical-align: middle;\n",
       "    }\n",
       "\n",
       "    .dataframe tbody tr th {\n",
       "        vertical-align: top;\n",
       "    }\n",
       "\n",
       "    .dataframe thead th {\n",
       "        text-align: right;\n",
       "    }\n",
       "</style>\n",
       "<table border=\"1\" class=\"dataframe\">\n",
       "  <thead>\n",
       "    <tr style=\"text-align: right;\">\n",
       "      <th></th>\n",
       "      <th>travel_distance_miles</th>\n",
       "      <th>travel_time_minutes</th>\n",
       "      <th>SHAPE</th>\n",
       "      <th>store_locnum</th>\n",
       "      <th>x</th>\n",
       "      <th>y</th>\n",
       "    </tr>\n",
       "  </thead>\n",
       "  <tbody>\n",
       "    <tr>\n",
       "      <th>0</th>\n",
       "      <td>2.334491</td>\n",
       "      <td>3.800000</td>\n",
       "      <td>{\"x\": -122.992346, \"y\": 44.983553, \"spatialRef...</td>\n",
       "      <td>632189163</td>\n",
       "      <td>-122.992346</td>\n",
       "      <td>44.983553</td>\n",
       "    </tr>\n",
       "    <tr>\n",
       "      <th>1</th>\n",
       "      <td>6.059610</td>\n",
       "      <td>10.800000</td>\n",
       "      <td>{\"x\": -123.039513, \"y\": 44.942453, \"spatialRef...</td>\n",
       "      <td>632189163</td>\n",
       "      <td>-123.039513</td>\n",
       "      <td>44.942453</td>\n",
       "    </tr>\n",
       "    <tr>\n",
       "      <th>2</th>\n",
       "      <td>13.189221</td>\n",
       "      <td>18.983333</td>\n",
       "      <td>{\"x\": -123.091354, \"y\": 44.883755, \"spatialRef...</td>\n",
       "      <td>632189163</td>\n",
       "      <td>-123.091354</td>\n",
       "      <td>44.883755</td>\n",
       "    </tr>\n",
       "    <tr>\n",
       "      <th>3</th>\n",
       "      <td>13.140133</td>\n",
       "      <td>17.083333</td>\n",
       "      <td>{\"x\": -122.879561, \"y\": 45.148948, \"spatialRef...</td>\n",
       "      <td>632189163</td>\n",
       "      <td>-122.879561</td>\n",
       "      <td>45.148948</td>\n",
       "    </tr>\n",
       "    <tr>\n",
       "      <th>4</th>\n",
       "      <td>7.090464</td>\n",
       "      <td>21.750000</td>\n",
       "      <td>{\"x\": -123.077107, \"y\": 44.956894, \"spatialRef...</td>\n",
       "      <td>632189163</td>\n",
       "      <td>-123.077107</td>\n",
       "      <td>44.956894</td>\n",
       "    </tr>\n",
       "  </tbody>\n",
       "</table>\n",
       "</div>"
      ],
      "text/plain": [
       "   travel_distance_miles  travel_time_minutes  \\\n",
       "0               2.334491             3.800000   \n",
       "1               6.059610            10.800000   \n",
       "2              13.189221            18.983333   \n",
       "3              13.140133            17.083333   \n",
       "4               7.090464            21.750000   \n",
       "\n",
       "                                               SHAPE store_locnum           x  \\\n",
       "0  {\"x\": -122.992346, \"y\": 44.983553, \"spatialRef...    632189163 -122.992346   \n",
       "1  {\"x\": -123.039513, \"y\": 44.942453, \"spatialRef...    632189163 -123.039513   \n",
       "2  {\"x\": -123.091354, \"y\": 44.883755, \"spatialRef...    632189163 -123.091354   \n",
       "3  {\"x\": -122.879561, \"y\": 45.148948, \"spatialRef...    632189163 -122.879561   \n",
       "4  {\"x\": -123.077107, \"y\": 44.956894, \"spatialRef...    632189163 -123.077107   \n",
       "\n",
       "           y  \n",
       "0  44.983553  \n",
       "1  44.942453  \n",
       "2  44.883755  \n",
       "3  45.148948  \n",
       "4  44.956894  "
      ]
     },
     "execution_count": 21,
     "metadata": {},
     "output_type": "execute_result"
    }
   ],
   "source": [
    "dest_df.head()"
   ]
  },
  {
   "cell_type": "code",
   "execution_count": 23,
   "metadata": {},
   "outputs": [
    {
     "data": {
      "text/plain": [
       "True"
      ]
     },
     "execution_count": 23,
     "metadata": {},
     "output_type": "execute_result"
    }
   ],
   "source": [
    "dest_df.spatial.set_geometry('SHAPE')\n",
    "dest_df.spatial.validate()"
   ]
  },
  {
   "cell_type": "code",
   "execution_count": 17,
   "metadata": {},
   "outputs": [],
   "source": [
    "dest_df.to_csv('../data/interim/raw_trips_pdx_home_goods.csv')"
   ]
  },
  {
   "cell_type": "code",
   "execution_count": 26,
   "metadata": {},
   "outputs": [
    {
     "ename": "KeyError",
     "evalue": "'spatialReference'",
     "output_type": "error",
     "traceback": [
      "\u001b[1;31m---------------------------------------------------------------------------\u001b[0m",
      "\u001b[1;31mKeyError\u001b[0m                                  Traceback (most recent call last)",
      "\u001b[1;32m<ipython-input-26-f568d874384c>\u001b[0m in \u001b[0;36m<module>\u001b[1;34m()\u001b[0m\n\u001b[1;32m----> 1\u001b[1;33m \u001b[0mdest_df\u001b[0m\u001b[1;33m.\u001b[0m\u001b[0mspatial\u001b[0m\u001b[1;33m.\u001b[0m\u001b[0mto_featureclass\u001b[0m\u001b[1;33m(\u001b[0m\u001b[1;34m'../data/interim/interim.gdb/raw_trips_pdx_home_goods'\u001b[0m\u001b[1;33m)\u001b[0m\u001b[1;33m\u001b[0m\u001b[0m\n\u001b[0m",
      "\u001b[1;32mC:\\Program Files\\ArcGIS\\Pro\\bin\\Python\\envs\\arcgis\\lib\\site-packages\\arcgis\\features\\geo\\_accessor.py\u001b[0m in \u001b[0;36mto_featureclass\u001b[1;34m(self, location, overwrite)\u001b[0m\n\u001b[0;32m   1924\u001b[0m         return to_featureclass(geo=self,\n\u001b[0;32m   1925\u001b[0m                                \u001b[0mlocation\u001b[0m\u001b[1;33m=\u001b[0m\u001b[0mlocation\u001b[0m\u001b[1;33m,\u001b[0m\u001b[1;33m\u001b[0m\u001b[0m\n\u001b[1;32m-> 1926\u001b[1;33m                                overwrite=overwrite)\n\u001b[0m\u001b[0;32m   1927\u001b[0m     \u001b[1;31m#----------------------------------------------------------------------\u001b[0m\u001b[1;33m\u001b[0m\u001b[1;33m\u001b[0m\u001b[0m\n\u001b[0;32m   1928\u001b[0m     \u001b[1;32mdef\u001b[0m \u001b[0mto_table\u001b[0m\u001b[1;33m(\u001b[0m\u001b[0mself\u001b[0m\u001b[1;33m,\u001b[0m \u001b[0mlocation\u001b[0m\u001b[1;33m,\u001b[0m \u001b[0moverwrite\u001b[0m\u001b[1;33m=\u001b[0m\u001b[1;32mTrue\u001b[0m\u001b[1;33m)\u001b[0m\u001b[1;33m:\u001b[0m\u001b[1;33m\u001b[0m\u001b[0m\n",
      "\u001b[1;32mC:\\Program Files\\ArcGIS\\Pro\\bin\\Python\\envs\\arcgis\\lib\\site-packages\\arcgis\\features\\geo\\_io\\fileops.py\u001b[0m in \u001b[0;36mto_featureclass\u001b[1;34m(geo, location, overwrite, validate)\u001b[0m\n\u001b[0;32m    522\u001b[0m         \u001b[0mnotnull\u001b[0m \u001b[1;33m=\u001b[0m \u001b[0mgeo\u001b[0m\u001b[1;33m.\u001b[0m\u001b[0m_data\u001b[0m\u001b[1;33m[\u001b[0m\u001b[0mgeo\u001b[0m\u001b[1;33m.\u001b[0m\u001b[0m_name\u001b[0m\u001b[1;33m]\u001b[0m\u001b[1;33m.\u001b[0m\u001b[0mnotnull\u001b[0m\u001b[1;33m(\u001b[0m\u001b[1;33m)\u001b[0m\u001b[1;33m\u001b[0m\u001b[0m\n\u001b[0;32m    523\u001b[0m         \u001b[0midx\u001b[0m \u001b[1;33m=\u001b[0m \u001b[0mgeo\u001b[0m\u001b[1;33m.\u001b[0m\u001b[0m_data\u001b[0m\u001b[1;33m[\u001b[0m\u001b[0mgeo\u001b[0m\u001b[1;33m.\u001b[0m\u001b[0m_name\u001b[0m\u001b[1;33m]\u001b[0m\u001b[1;33m[\u001b[0m\u001b[0mnotnull\u001b[0m\u001b[1;33m]\u001b[0m\u001b[1;33m.\u001b[0m\u001b[0mfirst_valid_index\u001b[0m\u001b[1;33m(\u001b[0m\u001b[1;33m)\u001b[0m\u001b[1;33m\u001b[0m\u001b[0m\n\u001b[1;32m--> 524\u001b[1;33m         \u001b[0msr\u001b[0m \u001b[1;33m=\u001b[0m \u001b[0mgeo\u001b[0m\u001b[1;33m.\u001b[0m\u001b[0m_data\u001b[0m\u001b[1;33m[\u001b[0m\u001b[0mgeo\u001b[0m\u001b[1;33m.\u001b[0m\u001b[0m_name\u001b[0m\u001b[1;33m]\u001b[0m\u001b[1;33m[\u001b[0m\u001b[0midx\u001b[0m\u001b[1;33m]\u001b[0m\u001b[1;33m[\u001b[0m\u001b[1;34m'spatialReference'\u001b[0m\u001b[1;33m]\u001b[0m\u001b[1;33m\u001b[0m\u001b[0m\n\u001b[0m\u001b[0;32m    525\u001b[0m         \u001b[0mgt\u001b[0m \u001b[1;33m=\u001b[0m \u001b[0mgeo\u001b[0m\u001b[1;33m.\u001b[0m\u001b[0m_data\u001b[0m\u001b[1;33m[\u001b[0m\u001b[0mgeo\u001b[0m\u001b[1;33m.\u001b[0m\u001b[0m_name\u001b[0m\u001b[1;33m]\u001b[0m\u001b[1;33m[\u001b[0m\u001b[0midx\u001b[0m\u001b[1;33m]\u001b[0m\u001b[1;33m.\u001b[0m\u001b[0mgeometry_type\u001b[0m\u001b[1;33m.\u001b[0m\u001b[0mupper\u001b[0m\u001b[1;33m(\u001b[0m\u001b[1;33m)\u001b[0m\u001b[1;33m\u001b[0m\u001b[0m\n\u001b[0;32m    526\u001b[0m         null_geom = {\n",
      "\u001b[1;32mC:\\Program Files\\ArcGIS\\Pro\\bin\\Python\\envs\\arcgis\\lib\\site-packages\\pandas\\core\\series.py\u001b[0m in \u001b[0;36m__getitem__\u001b[1;34m(self, key)\u001b[0m\n\u001b[0;32m    765\u001b[0m         \u001b[0mkey\u001b[0m \u001b[1;33m=\u001b[0m \u001b[0mcom\u001b[0m\u001b[1;33m.\u001b[0m\u001b[0m_apply_if_callable\u001b[0m\u001b[1;33m(\u001b[0m\u001b[0mkey\u001b[0m\u001b[1;33m,\u001b[0m \u001b[0mself\u001b[0m\u001b[1;33m)\u001b[0m\u001b[1;33m\u001b[0m\u001b[0m\n\u001b[0;32m    766\u001b[0m         \u001b[1;32mtry\u001b[0m\u001b[1;33m:\u001b[0m\u001b[1;33m\u001b[0m\u001b[0m\n\u001b[1;32m--> 767\u001b[1;33m             \u001b[0mresult\u001b[0m \u001b[1;33m=\u001b[0m \u001b[0mself\u001b[0m\u001b[1;33m.\u001b[0m\u001b[0mindex\u001b[0m\u001b[1;33m.\u001b[0m\u001b[0mget_value\u001b[0m\u001b[1;33m(\u001b[0m\u001b[0mself\u001b[0m\u001b[1;33m,\u001b[0m \u001b[0mkey\u001b[0m\u001b[1;33m)\u001b[0m\u001b[1;33m\u001b[0m\u001b[0m\n\u001b[0m\u001b[0;32m    768\u001b[0m \u001b[1;33m\u001b[0m\u001b[0m\n\u001b[0;32m    769\u001b[0m             \u001b[1;32mif\u001b[0m \u001b[1;32mnot\u001b[0m \u001b[0mis_scalar\u001b[0m\u001b[1;33m(\u001b[0m\u001b[0mresult\u001b[0m\u001b[1;33m)\u001b[0m\u001b[1;33m:\u001b[0m\u001b[1;33m\u001b[0m\u001b[0m\n",
      "\u001b[1;32mC:\\Program Files\\ArcGIS\\Pro\\bin\\Python\\envs\\arcgis\\lib\\site-packages\\pandas\\core\\indexes\\base.py\u001b[0m in \u001b[0;36mget_value\u001b[1;34m(self, series, key)\u001b[0m\n\u001b[0;32m   3116\u001b[0m         \u001b[1;32mtry\u001b[0m\u001b[1;33m:\u001b[0m\u001b[1;33m\u001b[0m\u001b[0m\n\u001b[0;32m   3117\u001b[0m             return self._engine.get_value(s, k,\n\u001b[1;32m-> 3118\u001b[1;33m                                           tz=getattr(series.dtype, 'tz', None))\n\u001b[0m\u001b[0;32m   3119\u001b[0m         \u001b[1;32mexcept\u001b[0m \u001b[0mKeyError\u001b[0m \u001b[1;32mas\u001b[0m \u001b[0me1\u001b[0m\u001b[1;33m:\u001b[0m\u001b[1;33m\u001b[0m\u001b[0m\n\u001b[0;32m   3120\u001b[0m             \u001b[1;32mif\u001b[0m \u001b[0mlen\u001b[0m\u001b[1;33m(\u001b[0m\u001b[0mself\u001b[0m\u001b[1;33m)\u001b[0m \u001b[1;33m>\u001b[0m \u001b[1;36m0\u001b[0m \u001b[1;32mand\u001b[0m \u001b[0mself\u001b[0m\u001b[1;33m.\u001b[0m\u001b[0minferred_type\u001b[0m \u001b[1;32min\u001b[0m \u001b[1;33m[\u001b[0m\u001b[1;34m'integer'\u001b[0m\u001b[1;33m,\u001b[0m \u001b[1;34m'boolean'\u001b[0m\u001b[1;33m]\u001b[0m\u001b[1;33m:\u001b[0m\u001b[1;33m\u001b[0m\u001b[0m\n",
      "\u001b[1;32mpandas\\_libs\\index.pyx\u001b[0m in \u001b[0;36mpandas._libs.index.IndexEngine.get_value\u001b[1;34m()\u001b[0m\n",
      "\u001b[1;32mpandas\\_libs\\index.pyx\u001b[0m in \u001b[0;36mpandas._libs.index.IndexEngine.get_value\u001b[1;34m()\u001b[0m\n",
      "\u001b[1;32mpandas\\_libs\\index.pyx\u001b[0m in \u001b[0;36mpandas._libs.index.IndexEngine.get_loc\u001b[1;34m()\u001b[0m\n",
      "\u001b[1;32mpandas\\_libs\\index.pyx\u001b[0m in \u001b[0;36mpandas._libs.index.IndexEngine._get_loc_duplicates\u001b[1;34m()\u001b[0m\n",
      "\u001b[1;31mKeyError\u001b[0m: 'spatialReference'"
     ]
    }
   ],
   "source": [
    "dest_df.spatial.to_featureclass('../data/interim/interim.gdb/raw_trips_pdx_home_goods')"
   ]
  },
  {
   "cell_type": "code",
   "execution_count": null,
   "metadata": {},
   "outputs": [],
   "source": []
  }
 ],
 "metadata": {
  "kernelspec": {
   "display_name": "Python 3",
   "language": "python",
   "name": "python3"
  },
  "language_info": {
   "codemirror_mode": {
    "name": "ipython",
    "version": 3
   },
   "file_extension": ".py",
   "mimetype": "text/x-python",
   "name": "python",
   "nbconvert_exporter": "python",
   "pygments_lexer": "ipython3",
   "version": "3.6.6"
  }
 },
 "nbformat": 4,
 "nbformat_minor": 2
}
