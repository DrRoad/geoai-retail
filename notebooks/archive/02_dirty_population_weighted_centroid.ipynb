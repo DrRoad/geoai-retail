{
 "cells": [
  {
   "cell_type": "markdown",
   "metadata": {},
   "source": [
    "# Data Processing Template\n",
    "\n",
    "Since almost without exception the first step is working with data munging, this notebook is stubbed out with a very select few imports to speed up the initial steps following creating a project and copying in raw data."
   ]
  },
  {
   "cell_type": "code",
   "execution_count": 1,
   "metadata": {},
   "outputs": [],
   "source": [
    "# minimal module imports\n",
    "from arcgis.features import GeoAccessor, GeoSeriesAccessor\n",
    "from arcgis.features import FeatureLayer\n",
    "from arcgis.geometry import Geometry\n",
    "import pandas as pd\n",
    "import os\n",
    "import importlib\n",
    "\n",
    "# import arcpy if available\n",
    "if importlib.util.find_spec(\"arcpy\") is not None:\n",
    "    import arcpy"
   ]
  },
  {
   "cell_type": "code",
   "execution_count": 46,
   "metadata": {},
   "outputs": [],
   "source": [
    "# a couple of handy variables and settings to get started\n",
    "\n",
    "data = r'../data'\n",
    "data_raw = os.path.join(data, 'raw')\n",
    "data_ext = os.path.join(data, 'external')\n",
    "data_int = os.path.join(data, 'interim')\n",
    "data_out = os.path.join(data, 'processed')\n",
    "\n",
    "gdb_int = os.path.join(data_int, 'interim.gdb')\n",
    "gdb_raw = os.path.join(data_raw, 'raw.gdb')"
   ]
  },
  {
   "cell_type": "code",
   "execution_count": 3,
   "metadata": {},
   "outputs": [],
   "source": [
    "bp_pth = os.path.join(gdb_raw, 'block_points')\n",
    "bg_pth = os.path.join(gdb_raw, 'block_groups')\n",
    "cbsa_pth = os.path.join(gdb_raw, 'cbsas')\n",
    "\n",
    "arcpy.env.overwriteOutput = True"
   ]
  },
  {
   "cell_type": "code",
   "execution_count": 5,
   "metadata": {},
   "outputs": [
    {
     "data": {
      "text/plain": [
       "['410030103003',\n",
       " '410110001001',\n",
       " '410110001002',\n",
       " '410110001003',\n",
       " '410110001004']"
      ]
     },
     "execution_count": 5,
     "metadata": {},
     "output_type": "execute_result"
    }
   ],
   "source": [
    "bg_id_lst = [bg_id for (bg_id,) in arcpy.da.SearchCursor(bg_pth, 'ID')]\n",
    "bg_id_lst[:5]"
   ]
  },
  {
   "cell_type": "code",
   "execution_count": 9,
   "metadata": {},
   "outputs": [
    {
     "data": {
      "text/plain": [
       "['150039812001004',\n",
       " '150039812001005',\n",
       " '150039812001006',\n",
       " '150039812001007',\n",
       " '150039812001008']"
      ]
     },
     "execution_count": 9,
     "metadata": {},
     "output_type": "execute_result"
    }
   ],
   "source": [
    "bp_id_lst = [bp_geom for (bp_geom,) in arcpy.da.SearchCursor(bp_pth, 'FIPS')]\n",
    "bp_id_lst[:5]"
   ]
  },
  {
   "cell_type": "code",
   "execution_count": 14,
   "metadata": {},
   "outputs": [
    {
     "data": {
      "text/plain": [
       "12"
      ]
     },
     "execution_count": 14,
     "metadata": {},
     "output_type": "execute_result"
    }
   ],
   "source": [
    "bg_id_len = len(bg_id_lst[0])"
   ]
  },
  {
   "cell_type": "code",
   "execution_count": 18,
   "metadata": {},
   "outputs": [
    {
     "data": {
      "text/plain": [
       "['482139503001',\n",
       " '401350304012',\n",
       " '132270501001',\n",
       " '551239602002',\n",
       " '450510602031']"
      ]
     },
     "execution_count": 18,
     "metadata": {},
     "output_type": "execute_result"
    }
   ],
   "source": [
    "unique_truncated_id_lst = list(set(bp_id[:bg_id_len] for bp_id in bp_id_lst))\n",
    "unique_truncated_id_lst[:5]"
   ]
  },
  {
   "cell_type": "code",
   "execution_count": 21,
   "metadata": {},
   "outputs": [],
   "source": [
    "status_lst = [unique_truncated_id in bg_id_lst for unique_truncated_id in unique_truncated_id_lst]"
   ]
  },
  {
   "cell_type": "code",
   "execution_count": 22,
   "metadata": {},
   "outputs": [
    {
     "data": {
      "text/plain": [
       "True"
      ]
     },
     "execution_count": 22,
     "metadata": {},
     "output_type": "execute_result"
    }
   ],
   "source": [
    "any(status_lst)"
   ]
  },
  {
   "cell_type": "code",
   "execution_count": 23,
   "metadata": {},
   "outputs": [
    {
     "data": {
      "text/html": [
       "<div>\n",
       "<style scoped>\n",
       "    .dataframe tbody tr th:only-of-type {\n",
       "        vertical-align: middle;\n",
       "    }\n",
       "\n",
       "    .dataframe tbody tr th {\n",
       "        vertical-align: top;\n",
       "    }\n",
       "\n",
       "    .dataframe thead th {\n",
       "        text-align: right;\n",
       "    }\n",
       "</style>\n",
       "<table border=\"1\" class=\"dataframe\">\n",
       "  <thead>\n",
       "    <tr style=\"text-align: right;\">\n",
       "      <th></th>\n",
       "      <th>OBJECTID</th>\n",
       "      <th>FIPS</th>\n",
       "      <th>STATE_NAME</th>\n",
       "      <th>SHAPE</th>\n",
       "    </tr>\n",
       "  </thead>\n",
       "  <tbody>\n",
       "    <tr>\n",
       "      <th>0</th>\n",
       "      <td>1</td>\n",
       "      <td>150039812001004</td>\n",
       "      <td>Hawaii</td>\n",
       "      <td>{\"x\": -166.28822369699998, \"y\": 23.86846842700...</td>\n",
       "    </tr>\n",
       "    <tr>\n",
       "      <th>1</th>\n",
       "      <td>2</td>\n",
       "      <td>150039812001005</td>\n",
       "      <td>Hawaii</td>\n",
       "      <td>{\"x\": -166.21047832799997, \"y\": 23.78768193900...</td>\n",
       "    </tr>\n",
       "    <tr>\n",
       "      <th>2</th>\n",
       "      <td>3</td>\n",
       "      <td>150039812001006</td>\n",
       "      <td>Hawaii</td>\n",
       "      <td>{\"x\": -166.24250323499996, \"y\": 23.87162798700...</td>\n",
       "    </tr>\n",
       "    <tr>\n",
       "      <th>3</th>\n",
       "      <td>4</td>\n",
       "      <td>150039812001007</td>\n",
       "      <td>Hawaii</td>\n",
       "      <td>{\"x\": -166.24162861199997, \"y\": 23.87150556400...</td>\n",
       "    </tr>\n",
       "    <tr>\n",
       "      <th>4</th>\n",
       "      <td>5</td>\n",
       "      <td>150039812001008</td>\n",
       "      <td>Hawaii</td>\n",
       "      <td>{\"x\": -166.28719940299996, \"y\": 23.86874607300...</td>\n",
       "    </tr>\n",
       "  </tbody>\n",
       "</table>\n",
       "</div>"
      ],
      "text/plain": [
       "   OBJECTID             FIPS STATE_NAME  \\\n",
       "0         1  150039812001004     Hawaii   \n",
       "1         2  150039812001005     Hawaii   \n",
       "2         3  150039812001006     Hawaii   \n",
       "3         4  150039812001007     Hawaii   \n",
       "4         5  150039812001008     Hawaii   \n",
       "\n",
       "                                               SHAPE  \n",
       "0  {\"x\": -166.28822369699998, \"y\": 23.86846842700...  \n",
       "1  {\"x\": -166.21047832799997, \"y\": 23.78768193900...  \n",
       "2  {\"x\": -166.24250323499996, \"y\": 23.87162798700...  \n",
       "3  {\"x\": -166.24162861199997, \"y\": 23.87150556400...  \n",
       "4  {\"x\": -166.28719940299996, \"y\": 23.86874607300...  "
      ]
     },
     "execution_count": 23,
     "metadata": {},
     "output_type": "execute_result"
    }
   ],
   "source": [
    "bp_id_df = GeoAccessor.from_featureclass(bp_pth)\n",
    "bp_id_df.head()"
   ]
  },
  {
   "cell_type": "code",
   "execution_count": 27,
   "metadata": {},
   "outputs": [],
   "source": [
    "bp_id_df = bg_id_df\n",
    "    \n",
    "bp_id_df['bg_id'] = bp_id_df.FIPS.apply(lambda val: val[:12])"
   ]
  },
  {
   "cell_type": "code",
   "execution_count": 47,
   "metadata": {},
   "outputs": [
    {
     "data": {
      "text/plain": [
       "'D:\\\\projects\\\\geoai-retail\\\\data\\\\interim\\\\interim.gdb\\\\block_points_bg_id'"
      ]
     },
     "execution_count": 47,
     "metadata": {},
     "output_type": "execute_result"
    }
   ],
   "source": [
    "bp_id_df.spatial.to_featureclass(os.path.join(gdb_int, 'block_points_bg_id'))"
   ]
  },
  {
   "cell_type": "code",
   "execution_count": 48,
   "metadata": {},
   "outputs": [
    {
     "data": {
      "text/plain": [
       "Index(['OBJECTID', 'FIPS', 'STATE_NAME', 'SHAPE', 'bg_id'], dtype='object')"
      ]
     },
     "execution_count": 48,
     "metadata": {},
     "output_type": "execute_result"
    }
   ],
   "source": [
    "bp_id_df.columns"
   ]
  },
  {
   "cell_type": "code",
   "execution_count": 49,
   "metadata": {},
   "outputs": [
    {
     "data": {
      "text/plain": [
       "<Result ''>"
      ]
     },
     "execution_count": 49,
     "metadata": {},
     "output_type": "execute_result"
    }
   ],
   "source": [
    "arcpy.stats.MeanCenter(os.path.join(gdb_int, 'block_points_bg_id'), os.path.join(gdb_int, 'block_group_pop_centroid'), Case_Field='bg_id')"
   ]
  },
  {
   "cell_type": "code",
   "execution_count": null,
   "metadata": {},
   "outputs": [],
   "source": []
  }
 ],
 "metadata": {
  "kernelspec": {
   "display_name": "Python 3",
   "language": "python",
   "name": "python3"
  },
  "language_info": {
   "codemirror_mode": {
    "name": "ipython",
    "version": 3
   },
   "file_extension": ".py",
   "mimetype": "text/x-python",
   "name": "python",
   "nbconvert_exporter": "python",
   "pygments_lexer": "ipython3",
   "version": "3.6.6"
  }
 },
 "nbformat": 4,
 "nbformat_minor": 2
}
