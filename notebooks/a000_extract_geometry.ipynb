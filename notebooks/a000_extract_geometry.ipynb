{
 "cells": [
  {
   "cell_type": "code",
   "execution_count": 19,
   "metadata": {},
   "outputs": [],
   "source": [
    "import os\n",
    "import pandas as pd\n",
    "from arcgis.features import GeoAccessor\n",
    "from arcgis.geometry import Geometry"
   ]
  },
  {
   "cell_type": "code",
   "execution_count": 4,
   "metadata": {},
   "outputs": [],
   "source": [
    "inrix_trips_csv = os.path.abspath('../data/external/raw_trips.csv')"
   ]
  },
  {
   "cell_type": "code",
   "execution_count": 27,
   "metadata": {},
   "outputs": [
    {
     "name": "stderr",
     "output_type": "stream",
     "text": [
      "C:\\Program Files\\ArcGIS\\Pro\\bin\\Python\\envs\\arcgis-535\\lib\\site-packages\\numpy\\lib\\arraysetops.py:569: FutureWarning: elementwise comparison failed; returning scalar instead, but in the future will perform elementwise comparison\n",
      "  mask |= (ar1 == a)\n"
     ]
    },
    {
     "name": "stdout",
     "output_type": "stream",
     "text": [
      "Wall time: 46.2 s\n"
     ]
    }
   ],
   "source": [
    "%%time\n",
    "df = pd.read_csv(inrix_trips_csv, index_col=0)\n",
    "df.reset_index(drop=True, inplace=True)\n",
    "df['start_x'] = df['SHAPE'].apply(lambda geom: Geometry(eval(geom)).x)\n",
    "df['start_y'] = df['SHAPE'].apply(lambda geom: Geometry(eval(geom)).y)\n",
    "df.drop('SHAPE', axis=1, inplace=True)"
   ]
  },
  {
   "cell_type": "code",
   "execution_count": 28,
   "metadata": {},
   "outputs": [
    {
     "data": {
      "text/html": [
       "<div>\n",
       "<style scoped>\n",
       "    .dataframe tbody tr th:only-of-type {\n",
       "        vertical-align: middle;\n",
       "    }\n",
       "\n",
       "    .dataframe tbody tr th {\n",
       "        vertical-align: top;\n",
       "    }\n",
       "\n",
       "    .dataframe thead th {\n",
       "        text-align: right;\n",
       "    }\n",
       "</style>\n",
       "<table border=\"1\" class=\"dataframe\">\n",
       "  <thead>\n",
       "    <tr style=\"text-align: right;\">\n",
       "      <th></th>\n",
       "      <th>travel_distance_miles</th>\n",
       "      <th>travel_time_minutes</th>\n",
       "      <th>store_locnum</th>\n",
       "      <th>start_x</th>\n",
       "      <th>start_y</th>\n",
       "    </tr>\n",
       "  </thead>\n",
       "  <tbody>\n",
       "    <tr>\n",
       "      <th>215153</th>\n",
       "      <td>1.025262</td>\n",
       "      <td>3.100000</td>\n",
       "      <td>447975780</td>\n",
       "      <td>-122.775043</td>\n",
       "      <td>45.483029</td>\n",
       "    </tr>\n",
       "    <tr>\n",
       "      <th>460511</th>\n",
       "      <td>4.790149</td>\n",
       "      <td>15.516667</td>\n",
       "      <td>637497553</td>\n",
       "      <td>-122.765523</td>\n",
       "      <td>45.480990</td>\n",
       "    </tr>\n",
       "    <tr>\n",
       "      <th>1247340</th>\n",
       "      <td>5.196526</td>\n",
       "      <td>10.050000</td>\n",
       "      <td>724623402</td>\n",
       "      <td>-122.630666</td>\n",
       "      <td>45.563076</td>\n",
       "    </tr>\n",
       "    <tr>\n",
       "      <th>1150305</th>\n",
       "      <td>0.927707</td>\n",
       "      <td>9.183333</td>\n",
       "      <td>637497496</td>\n",
       "      <td>-122.661450</td>\n",
       "      <td>45.523470</td>\n",
       "    </tr>\n",
       "    <tr>\n",
       "      <th>558892</th>\n",
       "      <td>9.349769</td>\n",
       "      <td>23.950000</td>\n",
       "      <td>367407582</td>\n",
       "      <td>-122.549263</td>\n",
       "      <td>45.468075</td>\n",
       "    </tr>\n",
       "  </tbody>\n",
       "</table>\n",
       "</div>"
      ],
      "text/plain": [
       "         travel_distance_miles  travel_time_minutes  store_locnum     start_x  \\\n",
       "215153                1.025262             3.100000     447975780 -122.775043   \n",
       "460511                4.790149            15.516667     637497553 -122.765523   \n",
       "1247340               5.196526            10.050000     724623402 -122.630666   \n",
       "1150305               0.927707             9.183333     637497496 -122.661450   \n",
       "558892                9.349769            23.950000     367407582 -122.549263   \n",
       "\n",
       "           start_y  \n",
       "215153   45.483029  \n",
       "460511   45.480990  \n",
       "1247340  45.563076  \n",
       "1150305  45.523470  \n",
       "558892   45.468075  "
      ]
     },
     "execution_count": 28,
     "metadata": {},
     "output_type": "execute_result"
    }
   ],
   "source": [
    "df.sample(5)"
   ]
  },
  {
   "cell_type": "code",
   "execution_count": 29,
   "metadata": {},
   "outputs": [],
   "source": [
    "df.to_csv('../data/external/raw_trips_xy.csv')"
   ]
  },
  {
   "cell_type": "code",
   "execution_count": 31,
   "metadata": {},
   "outputs": [
    {
     "data": {
      "text/html": [
       "<div>\n",
       "<style scoped>\n",
       "    .dataframe tbody tr th:only-of-type {\n",
       "        vertical-align: middle;\n",
       "    }\n",
       "\n",
       "    .dataframe tbody tr th {\n",
       "        vertical-align: top;\n",
       "    }\n",
       "\n",
       "    .dataframe thead th {\n",
       "        text-align: right;\n",
       "    }\n",
       "</style>\n",
       "<table border=\"1\" class=\"dataframe\">\n",
       "  <thead>\n",
       "    <tr style=\"text-align: right;\">\n",
       "      <th></th>\n",
       "      <th>OBJECTID</th>\n",
       "      <th>LOCNUM</th>\n",
       "      <th>CONAME</th>\n",
       "      <th>STREET</th>\n",
       "      <th>CITY</th>\n",
       "      <th>STATE</th>\n",
       "      <th>STATE_NAME</th>\n",
       "      <th>ZIP</th>\n",
       "      <th>ZIP4</th>\n",
       "      <th>NAICS</th>\n",
       "      <th>...</th>\n",
       "      <th>FRNCOD</th>\n",
       "      <th>ISCODE</th>\n",
       "      <th>SQFTCODE</th>\n",
       "      <th>LOC_NAME</th>\n",
       "      <th>STATUS</th>\n",
       "      <th>SCORE</th>\n",
       "      <th>SOURCE</th>\n",
       "      <th>REMOVE</th>\n",
       "      <th>open_status</th>\n",
       "      <th>SHAPE</th>\n",
       "    </tr>\n",
       "  </thead>\n",
       "  <tbody>\n",
       "    <tr>\n",
       "      <th>0</th>\n",
       "      <td>1</td>\n",
       "      <td>456044700</td>\n",
       "      <td>STARBUCKS</td>\n",
       "      <td>COURT ST NE</td>\n",
       "      <td>SALEM</td>\n",
       "      <td>OR</td>\n",
       "      <td>Oregon</td>\n",
       "      <td>97301</td>\n",
       "      <td>3526</td>\n",
       "      <td>72251505</td>\n",
       "      <td>...</td>\n",
       "      <td>4</td>\n",
       "      <td></td>\n",
       "      <td>2</td>\n",
       "      <td>PointAddress</td>\n",
       "      <td>M</td>\n",
       "      <td>100.0</td>\n",
       "      <td>INFOGROUP</td>\n",
       "      <td>0</td>\n",
       "      <td>None</td>\n",
       "      <td>{\"x\": -123.03840000049007, \"y\": 44.94140000013...</td>\n",
       "    </tr>\n",
       "    <tr>\n",
       "      <th>1</th>\n",
       "      <td>2</td>\n",
       "      <td>396147688</td>\n",
       "      <td>STARBUCKS</td>\n",
       "      <td>CENTER ST NE</td>\n",
       "      <td>SALEM</td>\n",
       "      <td>OR</td>\n",
       "      <td>Oregon</td>\n",
       "      <td>97301</td>\n",
       "      <td>2297</td>\n",
       "      <td>72251505</td>\n",
       "      <td>...</td>\n",
       "      <td>4</td>\n",
       "      <td></td>\n",
       "      <td>2</td>\n",
       "      <td>PointAddress</td>\n",
       "      <td>M</td>\n",
       "      <td>100.0</td>\n",
       "      <td>INFOGROUP</td>\n",
       "      <td>0</td>\n",
       "      <td>None</td>\n",
       "      <td>{\"x\": -123.02449999995747, \"y\": 44.94069999958...</td>\n",
       "    </tr>\n",
       "    <tr>\n",
       "      <th>2</th>\n",
       "      <td>3</td>\n",
       "      <td>723264680</td>\n",
       "      <td>EMPIRE COFFEE &amp; BUBBLE TEE</td>\n",
       "      <td>STATE ST</td>\n",
       "      <td>SALEM</td>\n",
       "      <td>OR</td>\n",
       "      <td>Oregon</td>\n",
       "      <td>97301</td>\n",
       "      <td></td>\n",
       "      <td>72251505</td>\n",
       "      <td>...</td>\n",
       "      <td></td>\n",
       "      <td></td>\n",
       "      <td>1</td>\n",
       "      <td>PointAddress</td>\n",
       "      <td>M</td>\n",
       "      <td>100.0</td>\n",
       "      <td>INFOGROUP</td>\n",
       "      <td>0</td>\n",
       "      <td>None</td>\n",
       "      <td>{\"x\": -123.02380000041268, \"y\": 44.93650000032...</td>\n",
       "    </tr>\n",
       "    <tr>\n",
       "      <th>3</th>\n",
       "      <td>4</td>\n",
       "      <td>724624350</td>\n",
       "      <td>STARBUCKS</td>\n",
       "      <td>CHURCH ST SE</td>\n",
       "      <td>SALEM</td>\n",
       "      <td>OR</td>\n",
       "      <td>Oregon</td>\n",
       "      <td>97301</td>\n",
       "      <td>3706</td>\n",
       "      <td>72251505</td>\n",
       "      <td>...</td>\n",
       "      <td>4</td>\n",
       "      <td></td>\n",
       "      <td>2</td>\n",
       "      <td>PointAddress</td>\n",
       "      <td>M</td>\n",
       "      <td>100.0</td>\n",
       "      <td>INFOGROUP</td>\n",
       "      <td>0</td>\n",
       "      <td>None</td>\n",
       "      <td>{\"x\": -123.03670000030985, \"y\": 44.93799999977...</td>\n",
       "    </tr>\n",
       "  </tbody>\n",
       "</table>\n",
       "<p>4 rows × 25 columns</p>\n",
       "</div>"
      ],
      "text/plain": [
       "   OBJECTID     LOCNUM                      CONAME        STREET   CITY STATE  \\\n",
       "0         1  456044700                   STARBUCKS   COURT ST NE  SALEM    OR   \n",
       "1         2  396147688                   STARBUCKS  CENTER ST NE  SALEM    OR   \n",
       "2         3  723264680  EMPIRE COFFEE & BUBBLE TEE      STATE ST  SALEM    OR   \n",
       "3         4  724624350                   STARBUCKS  CHURCH ST SE  SALEM    OR   \n",
       "\n",
       "  STATE_NAME    ZIP  ZIP4     NAICS  \\\n",
       "0     Oregon  97301  3526  72251505   \n",
       "1     Oregon  97301  2297  72251505   \n",
       "2     Oregon  97301        72251505   \n",
       "3     Oregon  97301  3706  72251505   \n",
       "\n",
       "                         ...                         FRNCOD  ISCODE SQFTCODE  \\\n",
       "0                        ...                              4                2   \n",
       "1                        ...                              4                2   \n",
       "2                        ...                                               1   \n",
       "3                        ...                              4                2   \n",
       "\n",
       "       LOC_NAME  STATUS  SCORE     SOURCE REMOVE open_status  \\\n",
       "0  PointAddress       M  100.0  INFOGROUP      0        None   \n",
       "1  PointAddress       M  100.0  INFOGROUP      0        None   \n",
       "2  PointAddress       M  100.0  INFOGROUP      0        None   \n",
       "3  PointAddress       M  100.0  INFOGROUP      0        None   \n",
       "\n",
       "                                               SHAPE  \n",
       "0  {\"x\": -123.03840000049007, \"y\": 44.94140000013...  \n",
       "1  {\"x\": -123.02449999995747, \"y\": 44.94069999958...  \n",
       "2  {\"x\": -123.02380000041268, \"y\": 44.93650000032...  \n",
       "3  {\"x\": -123.03670000030985, \"y\": 44.93799999977...  \n",
       "\n",
       "[4 rows x 25 columns]"
      ]
     },
     "execution_count": 31,
     "metadata": {},
     "output_type": "execute_result"
    }
   ],
   "source": [
    "coffee_df = GeoAccessor.from_featureclass(r'..\\data\\test\\test.gdb\\four_coffee')\n",
    "coffee_df"
   ]
  },
  {
   "cell_type": "code",
   "execution_count": 34,
   "metadata": {},
   "outputs": [
    {
     "data": {
      "text/plain": [
       "array(['456044700', '396147688', '723264680', '724624350'], dtype=object)"
      ]
     },
     "execution_count": 34,
     "metadata": {},
     "output_type": "execute_result"
    }
   ],
   "source": [
    "coffee_id_arr = coffee_df['LOCNUM'].values\n",
    "coffee_id_arr"
   ]
  },
  {
   "cell_type": "code",
   "execution_count": 38,
   "metadata": {},
   "outputs": [
    {
     "name": "stdout",
     "output_type": "stream",
     "text": [
      "<class 'pandas.core.frame.DataFrame'>\n",
      "Int64Index: 5796 entries, 34389 to 43787\n",
      "Data columns (total 5 columns):\n",
      "travel_distance_miles    5796 non-null float64\n",
      "travel_time_minutes      5796 non-null float64\n",
      "store_locnum             5796 non-null int64\n",
      "start_x                  5796 non-null float64\n",
      "start_y                  5796 non-null float64\n",
      "dtypes: float64(4), int64(1)\n",
      "memory usage: 271.7 KB\n"
     ]
    }
   ],
   "source": [
    "df_four_coffee = df[df['store_locnum'].apply(lambda val: str(val) in coffee_id_arr)]\n",
    "df_four_coffee.info()"
   ]
  },
  {
   "cell_type": "code",
   "execution_count": 39,
   "metadata": {},
   "outputs": [],
   "source": [
    "df_four_coffee.to_csv('../data/external/raw_trips_xy_four_coffee.csv')"
   ]
  },
  {
   "cell_type": "code",
   "execution_count": null,
   "metadata": {},
   "outputs": [],
   "source": []
  }
 ],
 "metadata": {
  "kernelspec": {
   "display_name": "Python 3",
   "language": "python",
   "name": "python3"
  },
  "language_info": {
   "codemirror_mode": {
    "name": "ipython",
    "version": 3
   },
   "file_extension": ".py",
   "mimetype": "text/x-python",
   "name": "python",
   "nbconvert_exporter": "python",
   "pygments_lexer": "ipython3",
   "version": "3.6.6"
  }
 },
 "nbformat": 4,
 "nbformat_minor": 2
}
