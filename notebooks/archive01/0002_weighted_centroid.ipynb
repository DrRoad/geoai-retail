{
 "cells": [
  {
   "cell_type": "code",
   "execution_count": 21,
   "metadata": {},
   "outputs": [],
   "source": [
    "import os\n",
    "from arcgis.features import GeoAccessor\n",
    "from arcgis.geometry import Geometry"
   ]
  },
  {
   "cell_type": "code",
   "execution_count": 3,
   "metadata": {},
   "outputs": [],
   "source": [
    "raw_gdb = r'D:\\projects\\geoai-retail\\data\\raw\\raw.gdb'\n",
    "blk_grp_fc = os.path.join(raw_gdb, 'block_groups')\n",
    "blk_pt_fc = os.path.join(raw_gdb, 'block_points')"
   ]
  },
  {
   "cell_type": "code",
   "execution_count": 33,
   "metadata": {},
   "outputs": [],
   "source": [
    "origin_df = GeoAccessor.from_featureclass(blk_grp_fc)\n",
    "wgt_df = GeoAccessor.from_featureclass(blk_pt_fc)"
   ]
  },
  {
   "cell_type": "code",
   "execution_count": 37,
   "metadata": {},
   "outputs": [],
   "source": [
    "def weighted_polygon_centroid(poly_df, wgt_df, poly_id_fld='ID'):\n",
    "    \n",
    "    # create a spatial index for both spatially enabled dataframes to speed up the join\n",
    "    poly_df.spatial.sindex()\n",
    "    wgt_df.spatial.sindex()\n",
    "\n",
    "    # perform a spatial join between the points and the containing polygons\n",
    "    join_df = wgt_df.spatial.join(poly_df)\n",
    "\n",
    "    # extract the respective coordinates out of the geometry\n",
    "    join_df['x'] = join_df['SHAPE'].apply(lambda geom: geom.centroid[0])\n",
    "    join_df['y'] = join_df['SHAPE'].apply(lambda geom: geom.centroid[1])\n",
    "\n",
    "    # get the id field following the join\n",
    "    join_id_fld = poly_id_fld if poly_id_fld in join_df.columns else f'{poly_id_fld}_right'\n",
    "\n",
    "    # calcuate the weighted centroid coordinates for each polygon and create geometries using these\n",
    "    mean_df = join_df[[join_id_fld, 'x', 'y']].groupby(join_id_fld).mean()\n",
    "    mean_df['SHAPE'] = mean_df.apply(lambda row: Geometry({'x': row['x'], 'y': row['y'], 'spatialReference': {'wkid': 4326}}), axis=1)\n",
    "\n",
    "    # clean up the columns to a standard output schema\n",
    "    mean_df.reset_index(inplace=True)\n",
    "    mean_df = mean_df[[join_id_fld, 'SHAPE']].copy()\n",
    "    mean_df.spatial.set_geometry('SHAPE')\n",
    "    mean_df.columns = ['ID', 'SHAPE']\n",
    "    \n",
    "    return mean_df"
   ]
  },
  {
   "cell_type": "code",
   "execution_count": 40,
   "metadata": {},
   "outputs": [
    {
     "name": "stdout",
     "output_type": "stream",
     "text": [
      "points - 363,127\n",
      "polygons = 6,963\n",
      "Wall time: 2min 36s\n"
     ]
    }
   ],
   "source": [
    "%%time\n",
    "mean_df = weighted_polygon_centroid(origin_df, wgt_df)\n",
    "print(f'points - {len(wgt_df.index):,}')\n",
    "print(f'polygons = {len(origin_df.index):,}')"
   ]
  },
  {
   "cell_type": "code",
   "execution_count": 41,
   "metadata": {},
   "outputs": [
    {
     "data": {
      "application/vnd.jupyter.widget-view+json": {
       "model_id": "c53b694215e94b3faca27040423478cb",
       "version_major": 2,
       "version_minor": 0
      },
      "text/plain": [
       "MapView(layout=Layout(height='400px', width='100%'))"
      ]
     },
     "metadata": {},
     "output_type": "display_data"
    },
    {
     "data": {
      "text/html": [
       "<div class=\"map-static-img-preview-533de607-0c68-4524-b49e-518502a6580a\"><img src=\"\"></img></div>"
      ],
      "text/plain": [
       "<IPython.core.display.HTML object>"
      ]
     },
     "metadata": {},
     "output_type": "display_data"
    }
   ],
   "source": [
    "mean_df.spatial.plot()"
   ]
  },
  {
   "cell_type": "code",
   "execution_count": null,
   "metadata": {},
   "outputs": [],
   "source": []
  }
 ],
 "metadata": {
  "kernelspec": {
   "display_name": "Python 3",
   "language": "python",
   "name": "python3"
  },
  "language_info": {
   "codemirror_mode": {
    "name": "ipython",
    "version": 3
   },
   "file_extension": ".py",
   "mimetype": "text/x-python",
   "name": "python",
   "nbconvert_exporter": "python",
   "pygments_lexer": "ipython3",
   "version": "3.6.6"
  }
 },
 "nbformat": 4,
 "nbformat_minor": 2
}
