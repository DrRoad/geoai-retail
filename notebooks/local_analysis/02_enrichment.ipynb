{
 "cells": [
  {
   "cell_type": "code",
   "execution_count": 1,
   "metadata": {},
   "outputs": [],
   "source": [
    "import pandas as pd"
   ]
  },
  {
   "cell_type": "code",
   "execution_count": 19,
   "metadata": {},
   "outputs": [],
   "source": [
    "ba_xls = r\"D:\\arcgis\\ba_data\\Documentation\\2018_BA_Desktop_Variable_and_Report_List.xlsx\"\n",
    "\n",
    "sheet_lst = ['Demographic Layers', 'Age by Sex by Race', 'ACS', 'Detailed Ethnicity', 'Retail MarketPlace']"
   ]
  },
  {
   "cell_type": "code",
   "execution_count": 20,
   "metadata": {},
   "outputs": [],
   "source": [
    "def read_sheet(sheet):\n",
    "    df = pd.read_excel(ba_xls, sheet_name=sheet, usecols=[1,2,3,4,5], header=5)\n",
    "    df.columns = ['Category Name' if col == 'Category' else col for col in df.columns]\n",
    "    return df"
   ]
  },
  {
   "cell_type": "code",
   "execution_count": 22,
   "metadata": {},
   "outputs": [
    {
     "data": {
      "text/html": [
       "<div>\n",
       "<style scoped>\n",
       "    .dataframe tbody tr th:only-of-type {\n",
       "        vertical-align: middle;\n",
       "    }\n",
       "\n",
       "    .dataframe tbody tr th {\n",
       "        vertical-align: top;\n",
       "    }\n",
       "\n",
       "    .dataframe thead th {\n",
       "        text-align: right;\n",
       "    }\n",
       "</style>\n",
       "<table border=\"1\" class=\"dataframe\">\n",
       "  <thead>\n",
       "    <tr style=\"text-align: right;\">\n",
       "      <th></th>\n",
       "      <th>Variable Name</th>\n",
       "      <th>Category Name</th>\n",
       "      <th>Short Description</th>\n",
       "      <th>Long Description</th>\n",
       "      <th>Dataset</th>\n",
       "    </tr>\n",
       "  </thead>\n",
       "  <tbody>\n",
       "    <tr>\n",
       "      <th>0</th>\n",
       "      <td>TOTPOP_CY</td>\n",
       "      <td>2018 Key Demographic Indicators (Esri)</td>\n",
       "      <td>2018 Total Population</td>\n",
       "      <td>2018 Total Population (Esri)</td>\n",
       "      <td>2018 Updated Demographics</td>\n",
       "    </tr>\n",
       "    <tr>\n",
       "      <th>1</th>\n",
       "      <td>HHPOP_CY</td>\n",
       "      <td>2018 Key Demographic Indicators (Esri)</td>\n",
       "      <td>2018 Population in Households</td>\n",
       "      <td>2018 Household Population (Esri)</td>\n",
       "      <td>2018 Updated Demographics</td>\n",
       "    </tr>\n",
       "    <tr>\n",
       "      <th>2</th>\n",
       "      <td>FAMPOP_CY</td>\n",
       "      <td>2018 Key Demographic Indicators (Esri)</td>\n",
       "      <td>2018 Population in Families</td>\n",
       "      <td>2018 Family Population (Esri)</td>\n",
       "      <td>2018 Updated Demographics</td>\n",
       "    </tr>\n",
       "    <tr>\n",
       "      <th>3</th>\n",
       "      <td>GQPOP_CY</td>\n",
       "      <td>2018 Key Demographic Indicators (Esri)</td>\n",
       "      <td>2018 Population in Group Quarters</td>\n",
       "      <td>2018 Group Quarters Population (Esri)</td>\n",
       "      <td>2018 Updated Demographics</td>\n",
       "    </tr>\n",
       "    <tr>\n",
       "      <th>4</th>\n",
       "      <td>POPDENS_CY</td>\n",
       "      <td>2018 Key Demographic Indicators (Esri)</td>\n",
       "      <td>2018 Population Density</td>\n",
       "      <td>2018 Population Density (Pop per Square Mile) ...</td>\n",
       "      <td>2018 Updated Demographics</td>\n",
       "    </tr>\n",
       "  </tbody>\n",
       "</table>\n",
       "</div>"
      ],
      "text/plain": [
       "  Variable Name                           Category Name  \\\n",
       "0     TOTPOP_CY  2018 Key Demographic Indicators (Esri)   \n",
       "1      HHPOP_CY  2018 Key Demographic Indicators (Esri)   \n",
       "2     FAMPOP_CY  2018 Key Demographic Indicators (Esri)   \n",
       "3      GQPOP_CY  2018 Key Demographic Indicators (Esri)   \n",
       "4    POPDENS_CY  2018 Key Demographic Indicators (Esri)   \n",
       "\n",
       "                   Short Description  \\\n",
       "0              2018 Total Population   \n",
       "1      2018 Population in Households   \n",
       "2        2018 Population in Families   \n",
       "3  2018 Population in Group Quarters   \n",
       "4            2018 Population Density   \n",
       "\n",
       "                                    Long Description  \\\n",
       "0                       2018 Total Population (Esri)   \n",
       "1                   2018 Household Population (Esri)   \n",
       "2                      2018 Family Population (Esri)   \n",
       "3              2018 Group Quarters Population (Esri)   \n",
       "4  2018 Population Density (Pop per Square Mile) ...   \n",
       "\n",
       "                     Dataset  \n",
       "0  2018 Updated Demographics  \n",
       "1  2018 Updated Demographics  \n",
       "2  2018 Updated Demographics  \n",
       "3  2018 Updated Demographics  \n",
       "4  2018 Updated Demographics  "
      ]
     },
     "execution_count": 22,
     "metadata": {},
     "output_type": "execute_result"
    }
   ],
   "source": [
    "ba_df = pd.concat([read_sheet(sheet) for sheet in sheet_lst], sort=False)\n",
    "ba_df.head()"
   ]
  },
  {
   "cell_type": "code",
   "execution_count": null,
   "metadata": {},
   "outputs": [],
   "source": []
  }
 ],
 "metadata": {
  "kernelspec": {
   "display_name": "Python 3",
   "language": "python",
   "name": "python3"
  },
  "language_info": {
   "codemirror_mode": {
    "name": "ipython",
    "version": 3
   },
   "file_extension": ".py",
   "mimetype": "text/x-python",
   "name": "python",
   "nbconvert_exporter": "python",
   "pygments_lexer": "ipython3",
   "version": "3.6.8"
  }
 },
 "nbformat": 4,
 "nbformat_minor": 2
}
