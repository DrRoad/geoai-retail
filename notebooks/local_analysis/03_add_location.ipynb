{
 "cells": [
  {
   "cell_type": "code",
   "execution_count": 65,
   "metadata": {},
   "outputs": [],
   "source": [
    "from arcgis.features import GeoAccessor\n",
    "from arcgis.geometry import Geometry\n",
    "import pandas as pd\n",
    "\n",
    "import sys\n",
    "sys.path.append('../../src')\n",
    "import geoai_retail\n",
    "from ba_data_paths import ba_data"
   ]
  },
  {
   "cell_type": "code",
   "execution_count": 66,
   "metadata": {},
   "outputs": [],
   "source": [
    "dest_fc = r'../../src/tests/test_data.gdb/coffee_pdx'\n",
    "dest_id_fld = 'LOCNUM'\n",
    "new_loc = Geometry({'x': -122.7020867, 'y': 45.4399585, 'spatialReference': {'wkid': 4326}})\n",
    "n_th_locations = 4"
   ]
  },
  {
   "cell_type": "markdown",
   "metadata": {},
   "source": [
    "## Get Existing Locations"
   ]
  },
  {
   "cell_type": "code",
   "execution_count": 51,
   "metadata": {},
   "outputs": [
    {
     "data": {
      "text/html": [
       "<div>\n",
       "<style scoped>\n",
       "    .dataframe tbody tr th:only-of-type {\n",
       "        vertical-align: middle;\n",
       "    }\n",
       "\n",
       "    .dataframe tbody tr th {\n",
       "        vertical-align: top;\n",
       "    }\n",
       "\n",
       "    .dataframe thead th {\n",
       "        text-align: right;\n",
       "    }\n",
       "</style>\n",
       "<table border=\"1\" class=\"dataframe\">\n",
       "  <thead>\n",
       "    <tr style=\"text-align: right;\">\n",
       "      <th></th>\n",
       "      <th>OBJECTID</th>\n",
       "      <th>LOCNUM</th>\n",
       "      <th>CONAME</th>\n",
       "      <th>STREET</th>\n",
       "      <th>CITY</th>\n",
       "      <th>STATE</th>\n",
       "      <th>STATE_NAME</th>\n",
       "      <th>ZIP</th>\n",
       "      <th>ZIP4</th>\n",
       "      <th>NAICS</th>\n",
       "      <th>SIC</th>\n",
       "      <th>SALESVOL</th>\n",
       "      <th>HDBRCH</th>\n",
       "      <th>ULTNUM</th>\n",
       "      <th>EMPNUM</th>\n",
       "      <th>FRNCOD</th>\n",
       "      <th>ISCODE</th>\n",
       "      <th>SQFTCODE</th>\n",
       "      <th>LOC_NAME</th>\n",
       "      <th>STATUS</th>\n",
       "      <th>SCORE</th>\n",
       "      <th>SOURCE</th>\n",
       "      <th>REMOVE</th>\n",
       "      <th>open_status</th>\n",
       "      <th>SHAPE</th>\n",
       "    </tr>\n",
       "  </thead>\n",
       "  <tbody>\n",
       "    <tr>\n",
       "      <th>18</th>\n",
       "      <td>19</td>\n",
       "      <td>427528962</td>\n",
       "      <td>SYMPOSIUM COFFEE</td>\n",
       "      <td>SW MAIN ST</td>\n",
       "      <td>PORTLAND</td>\n",
       "      <td>OR</td>\n",
       "      <td>Oregon</td>\n",
       "      <td>97223</td>\n",
       "      <td>6242</td>\n",
       "      <td>72251505</td>\n",
       "      <td>581228</td>\n",
       "      <td>346.0</td>\n",
       "      <td></td>\n",
       "      <td>000000000</td>\n",
       "      <td>6.0</td>\n",
       "      <td></td>\n",
       "      <td></td>\n",
       "      <td>2</td>\n",
       "      <td>PointAddress</td>\n",
       "      <td>M</td>\n",
       "      <td>100.0000</td>\n",
       "      <td>INFOGROUP</td>\n",
       "      <td>0</td>\n",
       "      <td>None</td>\n",
       "      <td>{\"x\": -122.7713999998274, \"y\": 45.430800000318...</td>\n",
       "    </tr>\n",
       "    <tr>\n",
       "      <th>71</th>\n",
       "      <td>72</td>\n",
       "      <td>415522522</td>\n",
       "      <td>HUMAN BEAN</td>\n",
       "      <td>SW BEAVERTON HILLSDALE HWY</td>\n",
       "      <td>PORTLAND</td>\n",
       "      <td>OR</td>\n",
       "      <td>Oregon</td>\n",
       "      <td>97225</td>\n",
       "      <td>2215</td>\n",
       "      <td>72251505</td>\n",
       "      <td>581228</td>\n",
       "      <td>288.0</td>\n",
       "      <td>2</td>\n",
       "      <td>509729190</td>\n",
       "      <td>5.0</td>\n",
       "      <td></td>\n",
       "      <td></td>\n",
       "      <td>2</td>\n",
       "      <td>StreetAddress</td>\n",
       "      <td>M</td>\n",
       "      <td>90.9063</td>\n",
       "      <td>INFOGROUP</td>\n",
       "      <td>0</td>\n",
       "      <td>None</td>\n",
       "      <td>{\"x\": -122.76259999983552, \"y\": 45.48630000008...</td>\n",
       "    </tr>\n",
       "    <tr>\n",
       "      <th>90</th>\n",
       "      <td>91</td>\n",
       "      <td>523617983</td>\n",
       "      <td>STARBUCKS</td>\n",
       "      <td>SW BARNES RD</td>\n",
       "      <td>PORTLAND</td>\n",
       "      <td>OR</td>\n",
       "      <td>Oregon</td>\n",
       "      <td>97225</td>\n",
       "      <td>6200</td>\n",
       "      <td>72251505</td>\n",
       "      <td>581228</td>\n",
       "      <td>748.0</td>\n",
       "      <td>2</td>\n",
       "      <td>303651459</td>\n",
       "      <td>13.0</td>\n",
       "      <td>4</td>\n",
       "      <td></td>\n",
       "      <td>3</td>\n",
       "      <td>PointAddress</td>\n",
       "      <td>M</td>\n",
       "      <td>100.0000</td>\n",
       "      <td>INFOGROUP</td>\n",
       "      <td>0</td>\n",
       "      <td>None</td>\n",
       "      <td>{\"x\": -122.75470000011552, \"y\": 45.51559999960...</td>\n",
       "    </tr>\n",
       "    <tr>\n",
       "      <th>92</th>\n",
       "      <td>93</td>\n",
       "      <td>724622018</td>\n",
       "      <td>STARBUCKS</td>\n",
       "      <td>SW BARNES RD</td>\n",
       "      <td>PORTLAND</td>\n",
       "      <td>OR</td>\n",
       "      <td>Oregon</td>\n",
       "      <td>97225</td>\n",
       "      <td>6203</td>\n",
       "      <td>72251505</td>\n",
       "      <td>581228</td>\n",
       "      <td>863.0</td>\n",
       "      <td>2</td>\n",
       "      <td>303651459</td>\n",
       "      <td>15.0</td>\n",
       "      <td>4</td>\n",
       "      <td></td>\n",
       "      <td>3</td>\n",
       "      <td>PointAddress</td>\n",
       "      <td>M</td>\n",
       "      <td>100.0000</td>\n",
       "      <td>INFOGROUP</td>\n",
       "      <td>0</td>\n",
       "      <td>None</td>\n",
       "      <td>{\"x\": -122.75470000011552, \"y\": 45.51559999960...</td>\n",
       "    </tr>\n",
       "    <tr>\n",
       "      <th>3</th>\n",
       "      <td>4</td>\n",
       "      <td>438669357</td>\n",
       "      <td>DA MIMMO</td>\n",
       "      <td>SW RAILROAD ST</td>\n",
       "      <td>SHERWOOD</td>\n",
       "      <td>OR</td>\n",
       "      <td>Oregon</td>\n",
       "      <td>97140</td>\n",
       "      <td></td>\n",
       "      <td>72251505</td>\n",
       "      <td>581228</td>\n",
       "      <td>231.0</td>\n",
       "      <td></td>\n",
       "      <td>000000000</td>\n",
       "      <td>4.0</td>\n",
       "      <td></td>\n",
       "      <td></td>\n",
       "      <td>1</td>\n",
       "      <td>PointAddress</td>\n",
       "      <td>M</td>\n",
       "      <td>100.0000</td>\n",
       "      <td>INFOGROUP</td>\n",
       "      <td>0</td>\n",
       "      <td>None</td>\n",
       "      <td>{\"x\": -122.84099999985409, \"y\": 45.35620000011...</td>\n",
       "    </tr>\n",
       "  </tbody>\n",
       "</table>\n",
       "</div>"
      ],
      "text/plain": [
       "    OBJECTID     LOCNUM            CONAME  ... REMOVE open_status                                              SHAPE\n",
       "18        19  427528962  SYMPOSIUM COFFEE  ...      0        None  {\"x\": -122.7713999998274, \"y\": 45.430800000318...\n",
       "71        72  415522522        HUMAN BEAN  ...      0        None  {\"x\": -122.76259999983552, \"y\": 45.48630000008...\n",
       "90        91  523617983         STARBUCKS  ...      0        None  {\"x\": -122.75470000011552, \"y\": 45.51559999960...\n",
       "92        93  724622018         STARBUCKS  ...      0        None  {\"x\": -122.75470000011552, \"y\": 45.51559999960...\n",
       "3          4  438669357          DA MIMMO  ...      0        None  {\"x\": -122.84099999985409, \"y\": 45.35620000011...\n",
       "\n",
       "[5 rows x 25 columns]"
      ]
     },
     "execution_count": 51,
     "metadata": {},
     "output_type": "execute_result"
    }
   ],
   "source": [
    "dest_df = GeoAccessor.from_featureclass(dest_fc)\n",
    "dest_df.sample(5)"
   ]
  },
  {
   "cell_type": "code",
   "execution_count": 76,
   "metadata": {},
   "outputs": [
    {
     "data": {
      "application/vnd.jupyter.widget-view+json": {
       "model_id": "3cd25d6214d94a1bae575c61abb25fcb",
       "version_major": 2,
       "version_minor": 0
      },
      "text/plain": [
       "MapView(layout=Layout(height='400px', width='100%'))"
      ]
     },
     "metadata": {},
     "output_type": "display_data"
    },
    {
     "data": {
      "text/html": [
       "<div class=\"map-static-img-preview-8996c7e8-c52b-48c2-86df-4e7d7310d2e1\"><img src=\"\"></img></div>"
      ],
      "text/plain": [
       "<IPython.core.display.HTML object>"
      ]
     },
     "metadata": {},
     "output_type": "display_data"
    }
   ],
   "source": [
    "webmap = dest_df.spatial.plot()\n",
    "webmap.basemap = 'dark-gray-vector'\n",
    "webmap"
   ]
  },
  {
   "cell_type": "markdown",
   "metadata": {},
   "source": [
    "## Find Nearest Existing N-th Locations to New Location"
   ]
  },
  {
   "cell_type": "code",
   "execution_count": 77,
   "metadata": {},
   "outputs": [
    {
     "data": {
      "text/plain": [
       "True"
      ]
     },
     "execution_count": 77,
     "metadata": {},
     "output_type": "execute_result"
    }
   ],
   "source": [
    "symbol = {\"angle\":0,\"xoffset\":12,\"yoffset\":12,\"type\":\"esriPMS\",\"url\":\"http://static.arcgis.com/images/Symbols/Basic/GreenFlag.png\",\"contentType\":\"image/png\",\"width\":24,\"height\":24}\n",
    "new_loc_id = dest_df[dest_id_fld].astype('int64').max() + 100\n",
    "\n",
    "new_loc_df = pd.DataFrame([(new_loc_id, new_loc)], columns=['ID', 'SHAPE'])\n",
    "new_loc_df.spatial.set_geometry('SHAPE')\n",
    "new_loc_df.spatial.plot(map_widget=webmap, symbol=symbol)"
   ]
  },
  {
   "cell_type": "code",
   "execution_count": 78,
   "metadata": {},
   "outputs": [
    {
     "data": {
      "text/html": [
       "<div>\n",
       "<style scoped>\n",
       "    .dataframe tbody tr th:only-of-type {\n",
       "        vertical-align: middle;\n",
       "    }\n",
       "\n",
       "    .dataframe tbody tr th {\n",
       "        vertical-align: top;\n",
       "    }\n",
       "\n",
       "    .dataframe thead th {\n",
       "        text-align: right;\n",
       "    }\n",
       "</style>\n",
       "<table border=\"1\" class=\"dataframe\">\n",
       "  <thead>\n",
       "    <tr style=\"text-align: right;\">\n",
       "      <th></th>\n",
       "      <th>origin_id</th>\n",
       "      <th>destination_rank</th>\n",
       "      <th>destination_id</th>\n",
       "      <th>proximity_traveltime</th>\n",
       "      <th>proximity_kilometers</th>\n",
       "      <th>SHAPE</th>\n",
       "    </tr>\n",
       "  </thead>\n",
       "  <tbody>\n",
       "    <tr>\n",
       "      <th>0</th>\n",
       "      <td>996388782</td>\n",
       "      <td>1</td>\n",
       "      <td>523638237</td>\n",
       "      <td>4.910469</td>\n",
       "      <td>1.971235</td>\n",
       "      <td>{\"hasM\": true, \"paths\": [[[-122.7020867, 45.44...</td>\n",
       "    </tr>\n",
       "    <tr>\n",
       "      <th>1</th>\n",
       "      <td>996388782</td>\n",
       "      <td>2</td>\n",
       "      <td>249961152</td>\n",
       "      <td>5.216235</td>\n",
       "      <td>3.173499</td>\n",
       "      <td>{\"hasM\": true, \"paths\": [[[-122.7020867, 45.44...</td>\n",
       "    </tr>\n",
       "    <tr>\n",
       "      <th>2</th>\n",
       "      <td>996388782</td>\n",
       "      <td>3</td>\n",
       "      <td>403490348</td>\n",
       "      <td>5.944897</td>\n",
       "      <td>4.094377</td>\n",
       "      <td>{\"hasM\": true, \"paths\": [[[-122.7020867, 45.44...</td>\n",
       "    </tr>\n",
       "    <tr>\n",
       "      <th>3</th>\n",
       "      <td>996388782</td>\n",
       "      <td>4</td>\n",
       "      <td>523661049</td>\n",
       "      <td>5.568102</td>\n",
       "      <td>4.136225</td>\n",
       "      <td>{\"hasM\": true, \"paths\": [[[-122.7020867, 45.44...</td>\n",
       "    </tr>\n",
       "  </tbody>\n",
       "</table>\n",
       "</div>"
      ],
      "text/plain": [
       "   origin_id  destination_rank destination_id  proximity_traveltime  proximity_kilometers                                              SHAPE\n",
       "0  996388782                 1      523638237              4.910469              1.971235  {\"hasM\": true, \"paths\": [[[-122.7020867, 45.44...\n",
       "1  996388782                 2      249961152              5.216235              3.173499  {\"hasM\": true, \"paths\": [[[-122.7020867, 45.44...\n",
       "2  996388782                 3      403490348              5.944897              4.094377  {\"hasM\": true, \"paths\": [[[-122.7020867, 45.44...\n",
       "3  996388782                 4      523661049              5.568102              4.136225  {\"hasM\": true, \"paths\": [[[-122.7020867, 45.44..."
      ]
     },
     "execution_count": 78,
     "metadata": {},
     "output_type": "execute_result"
    }
   ],
   "source": [
    "nearest_existing_df = geoai_retail.proximity_local.get_closest_solution(new_loc_df, 'ID', dest_df, dest_id_fld, network_dataset=ba_data.usa_network_dataset, destination_count=n_th_locations)\n",
    "nearest_existing_df"
   ]
  },
  {
   "cell_type": "code",
   "execution_count": 79,
   "metadata": {},
   "outputs": [
    {
     "data": {
      "text/html": [
       "<div>\n",
       "<style scoped>\n",
       "    .dataframe tbody tr th:only-of-type {\n",
       "        vertical-align: middle;\n",
       "    }\n",
       "\n",
       "    .dataframe tbody tr th {\n",
       "        vertical-align: top;\n",
       "    }\n",
       "\n",
       "    .dataframe thead th {\n",
       "        text-align: right;\n",
       "    }\n",
       "</style>\n",
       "<table border=\"1\" class=\"dataframe\">\n",
       "  <thead>\n",
       "    <tr style=\"text-align: right;\">\n",
       "      <th></th>\n",
       "      <th>OBJECTID</th>\n",
       "      <th>LOCNUM</th>\n",
       "      <th>CONAME</th>\n",
       "      <th>STREET</th>\n",
       "      <th>CITY</th>\n",
       "      <th>STATE</th>\n",
       "      <th>STATE_NAME</th>\n",
       "      <th>ZIP</th>\n",
       "      <th>ZIP4</th>\n",
       "      <th>NAICS</th>\n",
       "      <th>SIC</th>\n",
       "      <th>SALESVOL</th>\n",
       "      <th>HDBRCH</th>\n",
       "      <th>ULTNUM</th>\n",
       "      <th>EMPNUM</th>\n",
       "      <th>FRNCOD</th>\n",
       "      <th>ISCODE</th>\n",
       "      <th>SQFTCODE</th>\n",
       "      <th>LOC_NAME</th>\n",
       "      <th>STATUS</th>\n",
       "      <th>SCORE</th>\n",
       "      <th>SOURCE</th>\n",
       "      <th>REMOVE</th>\n",
       "      <th>open_status</th>\n",
       "      <th>SHAPE</th>\n",
       "    </tr>\n",
       "  </thead>\n",
       "  <tbody>\n",
       "    <tr>\n",
       "      <th>67</th>\n",
       "      <td>68</td>\n",
       "      <td>523638237</td>\n",
       "      <td>STARBUCKS</td>\n",
       "      <td>MONROE PKWY</td>\n",
       "      <td>LAKE OSWEGO</td>\n",
       "      <td>OR</td>\n",
       "      <td>Oregon</td>\n",
       "      <td>97035</td>\n",
       "      <td>8875</td>\n",
       "      <td>72251505</td>\n",
       "      <td>581228</td>\n",
       "      <td>764.0</td>\n",
       "      <td>2</td>\n",
       "      <td>303651459</td>\n",
       "      <td>16.0</td>\n",
       "      <td>4</td>\n",
       "      <td></td>\n",
       "      <td>3</td>\n",
       "      <td>PointAddress</td>\n",
       "      <td>M</td>\n",
       "      <td>100.0</td>\n",
       "      <td>INFOGROUP</td>\n",
       "      <td>0</td>\n",
       "      <td>None</td>\n",
       "      <td>{\"x\": -122.70369999970802, \"y\": 45.43380000022...</td>\n",
       "    </tr>\n",
       "    <tr>\n",
       "      <th>68</th>\n",
       "      <td>69</td>\n",
       "      <td>249961152</td>\n",
       "      <td>STARBUCKS</td>\n",
       "      <td>SW BARBUR BLVD</td>\n",
       "      <td>PORTLAND</td>\n",
       "      <td>OR</td>\n",
       "      <td>Oregon</td>\n",
       "      <td>97219</td>\n",
       "      <td>5903</td>\n",
       "      <td>72251505</td>\n",
       "      <td>581228</td>\n",
       "      <td>1075.0</td>\n",
       "      <td>2</td>\n",
       "      <td>303651459</td>\n",
       "      <td>20.0</td>\n",
       "      <td>4</td>\n",
       "      <td></td>\n",
       "      <td>2</td>\n",
       "      <td>PointAddress</td>\n",
       "      <td>M</td>\n",
       "      <td>100.0</td>\n",
       "      <td>INFOGROUP</td>\n",
       "      <td>0</td>\n",
       "      <td>None</td>\n",
       "      <td>{\"x\": -122.72200000023662, \"y\": 45.45289999966...</td>\n",
       "    </tr>\n",
       "    <tr>\n",
       "      <th>77</th>\n",
       "      <td>78</td>\n",
       "      <td>403490348</td>\n",
       "      <td>GAIA JAVA</td>\n",
       "      <td>SW BARBUR BLVD</td>\n",
       "      <td>PORTLAND</td>\n",
       "      <td>OR</td>\n",
       "      <td>Oregon</td>\n",
       "      <td>97219</td>\n",
       "      <td>4017</td>\n",
       "      <td>72251505</td>\n",
       "      <td>581228</td>\n",
       "      <td>269.0</td>\n",
       "      <td></td>\n",
       "      <td>000000000</td>\n",
       "      <td>5.0</td>\n",
       "      <td></td>\n",
       "      <td></td>\n",
       "      <td>2</td>\n",
       "      <td>StreetAddress</td>\n",
       "      <td>M</td>\n",
       "      <td>100.0</td>\n",
       "      <td>INFOGROUP</td>\n",
       "      <td>0</td>\n",
       "      <td>None</td>\n",
       "      <td>{\"x\": -122.70910000033945, \"y\": 45.45919999956...</td>\n",
       "    </tr>\n",
       "    <tr>\n",
       "      <th>79</th>\n",
       "      <td>80</td>\n",
       "      <td>523661049</td>\n",
       "      <td>STARBUCKS</td>\n",
       "      <td>SW TERWILLIGER BLVD</td>\n",
       "      <td>PORTLAND</td>\n",
       "      <td>OR</td>\n",
       "      <td>Oregon</td>\n",
       "      <td>97219</td>\n",
       "      <td>4564</td>\n",
       "      <td>72251505</td>\n",
       "      <td>581228</td>\n",
       "      <td>484.0</td>\n",
       "      <td>2</td>\n",
       "      <td>303651459</td>\n",
       "      <td>9.0</td>\n",
       "      <td>4</td>\n",
       "      <td></td>\n",
       "      <td>2</td>\n",
       "      <td>PointAddress</td>\n",
       "      <td>M</td>\n",
       "      <td>100.0</td>\n",
       "      <td>INFOGROUP</td>\n",
       "      <td>0</td>\n",
       "      <td>None</td>\n",
       "      <td>{\"x\": -122.68460000027113, \"y\": 45.46290000001...</td>\n",
       "    </tr>\n",
       "  </tbody>\n",
       "</table>\n",
       "</div>"
      ],
      "text/plain": [
       "    OBJECTID     LOCNUM     CONAME               STREET  ...     SOURCE REMOVE open_status                                              SHAPE\n",
       "67        68  523638237  STARBUCKS          MONROE PKWY  ...  INFOGROUP      0        None  {\"x\": -122.70369999970802, \"y\": 45.43380000022...\n",
       "68        69  249961152  STARBUCKS       SW BARBUR BLVD  ...  INFOGROUP      0        None  {\"x\": -122.72200000023662, \"y\": 45.45289999966...\n",
       "77        78  403490348  GAIA JAVA       SW BARBUR BLVD  ...  INFOGROUP      0        None  {\"x\": -122.70910000033945, \"y\": 45.45919999956...\n",
       "79        80  523661049  STARBUCKS  SW TERWILLIGER BLVD  ...  INFOGROUP      0        None  {\"x\": -122.68460000027113, \"y\": 45.46290000001...\n",
       "\n",
       "[4 rows x 25 columns]"
      ]
     },
     "execution_count": 79,
     "metadata": {},
     "output_type": "execute_result"
    }
   ],
   "source": [
    "nearest_dest_df = dest_df[dest_df[dest_id_fld].isin(nearest_existing_df['destination_id'].values)]\n",
    "nearest_dest_df"
   ]
  },
  {
   "cell_type": "code",
   "execution_count": 80,
   "metadata": {},
   "outputs": [
    {
     "data": {
      "application/vnd.jupyter.widget-view+json": {
       "model_id": "6ea2c6c9121f457587da333deeff159f",
       "version_major": 2,
       "version_minor": 0
      },
      "text/plain": [
       "MapView(layout=Layout(height='400px', width='100%'))"
      ]
     },
     "metadata": {},
     "output_type": "display_data"
    },
    {
     "data": {
      "text/html": [
       "<div class=\"map-static-img-preview-2869a1ec-9a61-4e2b-8045-1edd33cf12d9\"><img src=\"\"></img></div>"
      ],
      "text/plain": [
       "<IPython.core.display.HTML object>"
      ]
     },
     "metadata": {},
     "output_type": "display_data"
    }
   ],
   "source": [
    "near_map = nearest_existing_df.spatial.plot()\n",
    "nearest_dest_df.spatial.plot(map_widget=near_map)\n",
    "new_loc_df.spatial.plot(map_widget=near_map, symbol=symbol)\n",
    "near_map.basemap = 'dark-gray-vector'\n",
    "near_map"
   ]
  },
  {
   "cell_type": "markdown",
   "metadata": {},
   "source": [
    "## Select All Customer Origin Geographies Contributing to Any Nearest Locations"
   ]
  },
  {
   "cell_type": "code",
   "execution_count": null,
   "metadata": {},
   "outputs": [],
   "source": []
  },
  {
   "cell_type": "markdown",
   "metadata": {},
   "source": [
    "## Add New Location to Nearest Set"
   ]
  },
  {
   "cell_type": "markdown",
   "metadata": {},
   "source": [
    "## Use Model to Re-Evaluate Retail Landscape"
   ]
  },
  {
   "cell_type": "code",
   "execution_count": null,
   "metadata": {},
   "outputs": [],
   "source": []
  }
 ],
 "metadata": {
  "kernelspec": {
   "display_name": "Python 3",
   "language": "python",
   "name": "python3"
  },
  "language_info": {
   "codemirror_mode": {
    "name": "ipython",
    "version": 3
   },
   "file_extension": ".py",
   "mimetype": "text/x-python",
   "name": "python",
   "nbconvert_exporter": "python",
   "pygments_lexer": "ipython3",
   "version": "3.6.8"
  }
 },
 "nbformat": 4,
 "nbformat_minor": 2
}
